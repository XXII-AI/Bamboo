{
 "cells": [
  {
   "cell_type": "markdown",
   "id": "8dd43ef7",
   "metadata": {},
   "source": [
    "# Dataset 101 : Mechanics\n",
    "\n",
    "This notebook will make use of lours's data object.\n",
    "How to load from a known dataset format, how to merge two datasets, how to remap classes, and how to write it on disk in a wanted format"
   ]
  },
  {
   "cell_type": "code",
   "execution_count": 1,
   "id": "a9865afa",
   "metadata": {},
   "outputs": [],
   "source": [
    "%load_ext autoreload\n",
    "\n",
    "%autoreload 2\n",
    "from lours.dataset import Dataset, from_coco\n",
    "from lours.utils.testing import assert_dataset_equal"
   ]
  },
  {
   "cell_type": "markdown",
   "id": "360b5478",
   "metadata": {},
   "source": [
    "Loading coco eval in test folders. Note that you can also load cAIpy and darknet."
   ]
  },
  {
   "cell_type": "code",
   "execution_count": 2,
   "id": "62a029e4",
   "metadata": {},
   "outputs": [],
   "source": [
    "COCO_dataset = from_coco(\"notebook_data/coco_valid.json\")"
   ]
  },
  {
   "cell_type": "code",
   "execution_count": 3,
   "id": "0feaba1c",
   "metadata": {},
   "outputs": [
    {
     "data": {
      "application/vnd.jupyter.widget-view+json": {
       "model_id": "3542af2d452c45d9a2de907af0446c5c",
       "version_major": 2,
       "version_minor": 0
      },
      "text/plain": [
       "VBox(children=(HTML(value=\"<p><span style='white-space: pre-wrap; font-weight: bold'>Dataset object containing…"
      ]
     },
     "metadata": {},
     "output_type": "display_data"
    }
   ],
   "source": [
    "COCO_dataset"
   ]
  },
  {
   "cell_type": "markdown",
   "id": "5823f4e0",
   "metadata": {},
   "source": [
    "## Dataset Sampling\n",
    "\n",
    "You can use the `loc[]` or `.iloc[]` interface to sample the sub-datasets you want at the image level. To sample at the annotation level, you can use `.loc_annot[]` and `.iloc_annot[]` methods\n",
    "\n",
    "Notes:\n",
    "\n",
    " - For `iloc`, images indices are not considered, only the row number (like in pandas.DataFrame.iloc), so you might want to reorder the images before, or use `loc` that uses indices\n",
    " - calling a single number, e.g. `dataset[0]` will give you a dataset of only one image but it will still be a dataset object with two dataframes\n",
    " - Images are never loaded by the dataset object itself, you need to load them yourself in your pipeline\n",
    " - the `[]` method is equivalent to `iloc[]`"
   ]
  },
  {
   "cell_type": "markdown",
   "id": "daf90ac6-4927-470e-a7b4-049f71cb2a32",
   "metadata": {},
   "source": [
    "### Image based sampling"
   ]
  },
  {
   "cell_type": "code",
   "execution_count": 4,
   "id": "45882700",
   "metadata": {},
   "outputs": [
    {
     "data": {
      "application/vnd.jupyter.widget-view+json": {
       "model_id": "839b049fb7f1415da488222917572091",
       "version_major": 2,
       "version_minor": 0
      },
      "text/plain": [
       "VBox(children=(HTML(value=\"<p><span style='white-space: pre-wrap; font-weight: bold'>Dataset object containing…"
      ]
     },
     "metadata": {},
     "output_type": "display_data"
    }
   ],
   "source": [
    "# Only taking 50% of the images\n",
    "COCO_dataset.iloc[::2]"
   ]
  },
  {
   "cell_type": "code",
   "execution_count": 5,
   "id": "462b60cd",
   "metadata": {},
   "outputs": [
    {
     "name": "stdout",
     "output_type": "stream",
     "text": [
      "Index([352582, 113354,  58393, 147729, 310072,  50149, 519208, 356125,  38048,\n",
      "       567825,\n",
      "       ...\n",
      "       166478, 185409, 577976, 189806, 363188, 311180, 302030, 105455, 428280,\n",
      "       349837],\n",
      "      dtype='int64', name='id', length=4722)\n"
     ]
    },
    {
     "data": {
      "application/vnd.jupyter.widget-view+json": {
       "model_id": "7e2618f90e4841b4bb23eed22a262b27",
       "version_major": 2,
       "version_minor": 0
      },
      "text/plain": [
       "VBox(children=(HTML(value=\"<p><span style='white-space: pre-wrap; font-weight: bold'>Dataset object containing…"
      ]
     },
     "metadata": {},
     "output_type": "display_data"
    }
   ],
   "source": [
    "ids_to_keep = COCO_dataset.images.index[COCO_dataset.images.index > 30_000]\n",
    "print(ids_to_keep)\n",
    "COCO_dataset.loc[ids_to_keep]"
   ]
  },
  {
   "cell_type": "markdown",
   "id": "4c46aa67-fce4-4835-801d-e27cc2e14fbb",
   "metadata": {},
   "source": [
    "This is equivalent to using `filter_images` method with `loc` mode"
   ]
  },
  {
   "cell_type": "code",
   "execution_count": 6,
   "id": "241cd185-92ab-4a6e-b033-4c2943c714ed",
   "metadata": {},
   "outputs": [
    {
     "data": {
      "application/vnd.jupyter.widget-view+json": {
       "model_id": "ea3aef7e74fd4993a10850c12aa9ef62",
       "version_major": 2,
       "version_minor": 0
      },
      "text/plain": [
       "VBox(children=(HTML(value=\"<p><span style='white-space: pre-wrap; font-weight: bold'>Dataset object containing…"
      ]
     },
     "metadata": {},
     "output_type": "display_data"
    }
   ],
   "source": [
    "COCO_dataset.filter_images(ids_to_keep, mode=\"loc\")"
   ]
  },
  {
   "cell_type": "markdown",
   "id": "6685d27a-b03b-4e45-9043-c005193f31d2",
   "metadata": {},
   "source": [
    "### Annotation based sampling\n",
    "\n",
    "Remove half the annotations"
   ]
  },
  {
   "cell_type": "code",
   "execution_count": 7,
   "id": "8ed8ab68-45a2-46c5-9fae-6406bb5d2f5a",
   "metadata": {},
   "outputs": [
    {
     "data": {
      "application/vnd.jupyter.widget-view+json": {
       "model_id": "9c276f07f9a94174b46eb4a8e4ef66e8",
       "version_major": 2,
       "version_minor": 0
      },
      "text/plain": [
       "VBox(children=(HTML(value=\"<p><span style='white-space: pre-wrap; font-weight: bold'>Dataset object containing…"
      ]
     },
     "metadata": {},
     "output_type": "display_data"
    }
   ],
   "source": [
    "COCO_dataset.iloc_annot[::2]"
   ]
  },
  {
   "cell_type": "markdown",
   "id": "681152c9-c50e-4fff-b1c8-21139634c1f6",
   "metadata": {},
   "source": [
    "Remove half the annotations, remove images emptied of annotations (but keep the ones that were already empty)"
   ]
  },
  {
   "cell_type": "code",
   "execution_count": 8,
   "id": "91eb6800-f939-46f8-84d8-9c59c0293eec",
   "metadata": {},
   "outputs": [
    {
     "data": {
      "application/vnd.jupyter.widget-view+json": {
       "model_id": "fbf95a22080b42069f45fa21cb13bec1",
       "version_major": 2,
       "version_minor": 0
      },
      "text/plain": [
       "VBox(children=(HTML(value=\"<p><span style='white-space: pre-wrap; font-weight: bold'>Dataset object containing…"
      ]
     },
     "metadata": {},
     "output_type": "display_data"
    }
   ],
   "source": [
    "to_keep = COCO_dataset.annotations.index[::2]\n",
    "filtered = COCO_dataset.filter_annotations(\n",
    "    to_keep, mode=\"loc\", remove_emptied_images=True\n",
    ")\n",
    "display(filtered)"
   ]
  },
  {
   "cell_type": "markdown",
   "id": "6a1531b7-ff3a-4c7a-b111-e48a19b808ff",
   "metadata": {},
   "source": [
    "You can also use `slice(None, None, 2)` with the `iloc` mode"
   ]
  },
  {
   "cell_type": "code",
   "execution_count": 9,
   "id": "4d467f11-4b84-4129-8ac5-6f15850e2770",
   "metadata": {},
   "outputs": [],
   "source": [
    "filtered_2 = COCO_dataset.filter_annotations(\n",
    "    slice(None, None, 2), mode=\"iloc\", remove_emptied_images=True\n",
    ")\n",
    "\n",
    "assert_dataset_equal(filtered, filtered_2)"
   ]
  },
  {
   "cell_type": "markdown",
   "id": "dba6bb16-a44f-4b6d-a7c3-74c81a5d784d",
   "metadata": {},
   "source": [
    "### Iterating through the dataset\n",
    "\n",
    "You can iterate through the dataset"
   ]
  },
  {
   "cell_type": "code",
   "execution_count": 10,
   "id": "bec60af8",
   "metadata": {},
   "outputs": [
    {
     "data": {
      "application/vnd.jupyter.widget-view+json": {
       "model_id": "1830c6af94d14cc9b2a0f995de05de0e",
       "version_major": 2,
       "version_minor": 0
      },
      "text/plain": [
       "VBox(children=(HTML(value=\"<p><span style='white-space: pre-wrap; font-weight: bold'>Dataset object containing…"
      ]
     },
     "metadata": {},
     "output_type": "display_data"
    },
    {
     "data": {
      "application/vnd.jupyter.widget-view+json": {
       "model_id": "2765d25940f94154ab972f0a4163552f",
       "version_major": 2,
       "version_minor": 0
      },
      "text/plain": [
       "VBox(children=(HTML(value=\"<p><span style='white-space: pre-wrap; font-weight: bold'>Dataset object containing…"
      ]
     },
     "metadata": {},
     "output_type": "display_data"
    }
   ],
   "source": [
    "for single_image_dataset in COCO_dataset[:2]:\n",
    "    display(single_image_dataset)"
   ]
  },
  {
   "cell_type": "markdown",
   "id": "75c23a7f-8d4f-42d2-8a77-e8d3a04c17cf",
   "metadata": {},
   "source": [
    "The `iter_image` method can help you get directly image and annotations dataframes instead of Dataset objects with a single image)\n"
   ]
  },
  {
   "cell_type": "code",
   "execution_count": 11,
   "id": "6d9b5cda",
   "metadata": {},
   "outputs": [
    {
     "name": "stdout",
     "output_type": "stream",
     "text": [
      "width                                      425\n",
      "height                                     640\n",
      "relative_path    Images/valid/000000352582.jpg\n",
      "type                                      .jpg\n",
      "split                                    valid\n",
      "Name: 352582, dtype: object\n"
     ]
    },
    {
     "data": {
      "text/html": [
       "<div>\n",
       "<style scoped>\n",
       "    .dataframe tbody tr th:only-of-type {\n",
       "        vertical-align: middle;\n",
       "    }\n",
       "\n",
       "    .dataframe tbody tr th {\n",
       "        vertical-align: top;\n",
       "    }\n",
       "\n",
       "    .dataframe thead th {\n",
       "        text-align: right;\n",
       "    }\n",
       "</style>\n",
       "<table border=\"1\" class=\"dataframe\">\n",
       "  <thead>\n",
       "    <tr style=\"text-align: right;\">\n",
       "      <th></th>\n",
       "      <th>image_id</th>\n",
       "      <th>category_str</th>\n",
       "      <th>category_id</th>\n",
       "      <th>split</th>\n",
       "      <th>box_x_min</th>\n",
       "      <th>box_y_min</th>\n",
       "      <th>box_width</th>\n",
       "      <th>box_height</th>\n",
       "      <th>area</th>\n",
       "    </tr>\n",
       "    <tr>\n",
       "      <th>id</th>\n",
       "      <th></th>\n",
       "      <th></th>\n",
       "      <th></th>\n",
       "      <th></th>\n",
       "      <th></th>\n",
       "      <th></th>\n",
       "      <th></th>\n",
       "      <th></th>\n",
       "      <th></th>\n",
       "    </tr>\n",
       "  </thead>\n",
       "  <tbody>\n",
       "    <tr>\n",
       "      <th>460450</th>\n",
       "      <td>352582</td>\n",
       "      <td>person</td>\n",
       "      <td>1</td>\n",
       "      <td>valid</td>\n",
       "      <td>112.43</td>\n",
       "      <td>195.32</td>\n",
       "      <td>214.78</td>\n",
       "      <td>438.19</td>\n",
       "      <td>48685.6791</td>\n",
       "    </tr>\n",
       "    <tr>\n",
       "      <th>535917</th>\n",
       "      <td>352582</td>\n",
       "      <td>person</td>\n",
       "      <td>1</td>\n",
       "      <td>valid</td>\n",
       "      <td>0.00</td>\n",
       "      <td>256.00</td>\n",
       "      <td>80.54</td>\n",
       "      <td>376.81</td>\n",
       "      <td>22650.7380</td>\n",
       "    </tr>\n",
       "    <tr>\n",
       "      <th>602093</th>\n",
       "      <td>352582</td>\n",
       "      <td>frisbee</td>\n",
       "      <td>34</td>\n",
       "      <td>valid</td>\n",
       "      <td>171.63</td>\n",
       "      <td>424.03</td>\n",
       "      <td>85.89</td>\n",
       "      <td>40.67</td>\n",
       "      <td>2605.7209</td>\n",
       "    </tr>\n",
       "  </tbody>\n",
       "</table>\n",
       "</div>"
      ],
      "text/plain": [
       "        image_id category_str  category_id  split  box_x_min  box_y_min  \\\n",
       "id                                                                        \n",
       "460450    352582       person            1  valid     112.43     195.32   \n",
       "535917    352582       person            1  valid       0.00     256.00   \n",
       "602093    352582      frisbee           34  valid     171.63     424.03   \n",
       "\n",
       "        box_width  box_height        area  \n",
       "id                                         \n",
       "460450     214.78      438.19  48685.6791  \n",
       "535917      80.54      376.81  22650.7380  \n",
       "602093      85.89       40.67   2605.7209  "
      ]
     },
     "metadata": {},
     "output_type": "display_data"
    },
    {
     "name": "stdout",
     "output_type": "stream",
     "text": [
      "width                                      640\n",
      "height                                     480\n",
      "relative_path    Images/valid/000000113354.jpg\n",
      "type                                      .jpg\n",
      "split                                    valid\n",
      "Name: 113354, dtype: object\n"
     ]
    },
    {
     "data": {
      "text/html": [
       "<div>\n",
       "<style scoped>\n",
       "    .dataframe tbody tr th:only-of-type {\n",
       "        vertical-align: middle;\n",
       "    }\n",
       "\n",
       "    .dataframe tbody tr th {\n",
       "        vertical-align: top;\n",
       "    }\n",
       "\n",
       "    .dataframe thead th {\n",
       "        text-align: right;\n",
       "    }\n",
       "</style>\n",
       "<table border=\"1\" class=\"dataframe\">\n",
       "  <thead>\n",
       "    <tr style=\"text-align: right;\">\n",
       "      <th></th>\n",
       "      <th>image_id</th>\n",
       "      <th>category_str</th>\n",
       "      <th>category_id</th>\n",
       "      <th>split</th>\n",
       "      <th>box_x_min</th>\n",
       "      <th>box_y_min</th>\n",
       "      <th>box_width</th>\n",
       "      <th>box_height</th>\n",
       "      <th>area</th>\n",
       "    </tr>\n",
       "    <tr>\n",
       "      <th>id</th>\n",
       "      <th></th>\n",
       "      <th></th>\n",
       "      <th></th>\n",
       "      <th></th>\n",
       "      <th></th>\n",
       "      <th></th>\n",
       "      <th></th>\n",
       "      <th></th>\n",
       "      <th></th>\n",
       "    </tr>\n",
       "  </thead>\n",
       "  <tbody>\n",
       "    <tr>\n",
       "      <th>589077</th>\n",
       "      <td>113354</td>\n",
       "      <td>zebra</td>\n",
       "      <td>24</td>\n",
       "      <td>valid</td>\n",
       "      <td>260.99</td>\n",
       "      <td>158.88</td>\n",
       "      <td>141.52</td>\n",
       "      <td>194.11</td>\n",
       "      <td>9978.94125</td>\n",
       "    </tr>\n",
       "    <tr>\n",
       "      <th>589740</th>\n",
       "      <td>113354</td>\n",
       "      <td>zebra</td>\n",
       "      <td>24</td>\n",
       "      <td>valid</td>\n",
       "      <td>366.49</td>\n",
       "      <td>174.59</td>\n",
       "      <td>115.67</td>\n",
       "      <td>142.71</td>\n",
       "      <td>5784.68620</td>\n",
       "    </tr>\n",
       "    <tr>\n",
       "      <th>592005</th>\n",
       "      <td>113354</td>\n",
       "      <td>zebra</td>\n",
       "      <td>24</td>\n",
       "      <td>valid</td>\n",
       "      <td>3.24</td>\n",
       "      <td>151.28</td>\n",
       "      <td>265.34</td>\n",
       "      <td>175.82</td>\n",
       "      <td>16206.37480</td>\n",
       "    </tr>\n",
       "  </tbody>\n",
       "</table>\n",
       "</div>"
      ],
      "text/plain": [
       "        image_id category_str  category_id  split  box_x_min  box_y_min  \\\n",
       "id                                                                        \n",
       "589077    113354        zebra           24  valid     260.99     158.88   \n",
       "589740    113354        zebra           24  valid     366.49     174.59   \n",
       "592005    113354        zebra           24  valid       3.24     151.28   \n",
       "\n",
       "        box_width  box_height         area  \n",
       "id                                          \n",
       "589077     141.52      194.11   9978.94125  \n",
       "589740     115.67      142.71   5784.68620  \n",
       "592005     265.34      175.82  16206.37480  "
      ]
     },
     "metadata": {},
     "output_type": "display_data"
    }
   ],
   "source": [
    "for image, annotations in COCO_dataset[:2].iter_images():\n",
    "    print(image)\n",
    "    display(annotations)"
   ]
  },
  {
   "cell_type": "code",
   "execution_count": 12,
   "id": "9aeb39a4-ff36-430d-beed-ec0fca71a189",
   "metadata": {},
   "outputs": [
    {
     "name": "stdout",
     "output_type": "stream",
     "text": [
      "width                                      425\n",
      "height                                     640\n",
      "relative_path    Images/valid/000000352582.jpg\n",
      "type                                      .jpg\n",
      "split                                    valid\n",
      "Name: 352582, dtype: object\n"
     ]
    },
    {
     "data": {
      "text/html": [
       "<div>\n",
       "<style scoped>\n",
       "    .dataframe tbody tr th:only-of-type {\n",
       "        vertical-align: middle;\n",
       "    }\n",
       "\n",
       "    .dataframe tbody tr th {\n",
       "        vertical-align: top;\n",
       "    }\n",
       "\n",
       "    .dataframe thead th {\n",
       "        text-align: right;\n",
       "    }\n",
       "</style>\n",
       "<table border=\"1\" class=\"dataframe\">\n",
       "  <thead>\n",
       "    <tr style=\"text-align: right;\">\n",
       "      <th></th>\n",
       "      <th>image_id</th>\n",
       "      <th>category_str</th>\n",
       "      <th>category_id</th>\n",
       "      <th>split</th>\n",
       "      <th>box_x_min</th>\n",
       "      <th>box_y_min</th>\n",
       "      <th>box_width</th>\n",
       "      <th>box_height</th>\n",
       "      <th>area</th>\n",
       "    </tr>\n",
       "    <tr>\n",
       "      <th>id</th>\n",
       "      <th></th>\n",
       "      <th></th>\n",
       "      <th></th>\n",
       "      <th></th>\n",
       "      <th></th>\n",
       "      <th></th>\n",
       "      <th></th>\n",
       "      <th></th>\n",
       "      <th></th>\n",
       "    </tr>\n",
       "  </thead>\n",
       "  <tbody>\n",
       "    <tr>\n",
       "      <th>589077</th>\n",
       "      <td>113354</td>\n",
       "      <td>zebra</td>\n",
       "      <td>24</td>\n",
       "      <td>valid</td>\n",
       "      <td>260.99</td>\n",
       "      <td>158.88</td>\n",
       "      <td>141.52</td>\n",
       "      <td>194.11</td>\n",
       "      <td>9978.94125</td>\n",
       "    </tr>\n",
       "    <tr>\n",
       "      <th>589740</th>\n",
       "      <td>113354</td>\n",
       "      <td>zebra</td>\n",
       "      <td>24</td>\n",
       "      <td>valid</td>\n",
       "      <td>366.49</td>\n",
       "      <td>174.59</td>\n",
       "      <td>115.67</td>\n",
       "      <td>142.71</td>\n",
       "      <td>5784.68620</td>\n",
       "    </tr>\n",
       "    <tr>\n",
       "      <th>592005</th>\n",
       "      <td>113354</td>\n",
       "      <td>zebra</td>\n",
       "      <td>24</td>\n",
       "      <td>valid</td>\n",
       "      <td>3.24</td>\n",
       "      <td>151.28</td>\n",
       "      <td>265.34</td>\n",
       "      <td>175.82</td>\n",
       "      <td>16206.37480</td>\n",
       "    </tr>\n",
       "  </tbody>\n",
       "</table>\n",
       "</div>"
      ],
      "text/plain": [
       "        image_id category_str  category_id  split  box_x_min  box_y_min  \\\n",
       "id                                                                        \n",
       "589077    113354        zebra           24  valid     260.99     158.88   \n",
       "589740    113354        zebra           24  valid     366.49     174.59   \n",
       "592005    113354        zebra           24  valid       3.24     151.28   \n",
       "\n",
       "        box_width  box_height         area  \n",
       "id                                          \n",
       "589077     141.52      194.11   9978.94125  \n",
       "589740     115.67      142.71   5784.68620  \n",
       "592005     265.34      175.82  16206.37480  "
      ]
     },
     "metadata": {},
     "output_type": "display_data"
    }
   ],
   "source": [
    "image, annotation = COCO_dataset[:2].get_one_frame(0)\n",
    "print(image)\n",
    "display(annotations)"
   ]
  },
  {
   "cell_type": "markdown",
   "id": "23d1ac33",
   "metadata": {},
   "source": [
    "## Remap classes\n",
    "\n",
    "Here we use the preset COCO -> Pascal to convert coco classes into Pascal's annotation book"
   ]
  },
  {
   "cell_type": "code",
   "execution_count": 13,
   "id": "0370d148",
   "metadata": {},
   "outputs": [
    {
     "data": {
      "text/plain": [
       "{1: 'person',\n",
       " 2: 'bicycle',\n",
       " 3: 'car',\n",
       " 4: 'motorcycle',\n",
       " 5: 'airplane',\n",
       " 6: 'bus',\n",
       " 7: 'train',\n",
       " 8: 'truck',\n",
       " 9: 'boat',\n",
       " 10: 'traffic light',\n",
       " 11: 'fire hydrant',\n",
       " 13: 'stop sign',\n",
       " 14: 'parking meter',\n",
       " 15: 'bench',\n",
       " 16: 'bird',\n",
       " 17: 'cat',\n",
       " 18: 'dog',\n",
       " 19: 'horse',\n",
       " 20: 'sheep',\n",
       " 21: 'cow',\n",
       " 22: 'elephant',\n",
       " 23: 'bear',\n",
       " 24: 'zebra',\n",
       " 25: 'giraffe',\n",
       " 27: 'backpack',\n",
       " 28: 'umbrella',\n",
       " 31: 'handbag',\n",
       " 32: 'tie',\n",
       " 33: 'suitcase',\n",
       " 34: 'frisbee',\n",
       " 35: 'skis',\n",
       " 36: 'snowboard',\n",
       " 37: 'sports ball',\n",
       " 38: 'kite',\n",
       " 39: 'baseball bat',\n",
       " 40: 'baseball glove',\n",
       " 41: 'skateboard',\n",
       " 42: 'surfboard',\n",
       " 43: 'tennis racket',\n",
       " 44: 'bottle',\n",
       " 46: 'wine glass',\n",
       " 47: 'cup',\n",
       " 48: 'fork',\n",
       " 49: 'knife',\n",
       " 50: 'spoon',\n",
       " 51: 'bowl',\n",
       " 52: 'banana',\n",
       " 53: 'apple',\n",
       " 54: 'sandwich',\n",
       " 55: 'orange',\n",
       " 56: 'broccoli',\n",
       " 57: 'carrot',\n",
       " 58: 'hot dog',\n",
       " 59: 'pizza',\n",
       " 60: 'donut',\n",
       " 61: 'cake',\n",
       " 62: 'chair',\n",
       " 63: 'couch',\n",
       " 64: 'potted plant',\n",
       " 65: 'bed',\n",
       " 67: 'dining table',\n",
       " 70: 'toilet',\n",
       " 72: 'tv',\n",
       " 73: 'laptop',\n",
       " 74: 'mouse',\n",
       " 75: 'remote',\n",
       " 76: 'keyboard',\n",
       " 77: 'cell phone',\n",
       " 78: 'microwave',\n",
       " 79: 'oven',\n",
       " 80: 'toaster',\n",
       " 81: 'sink',\n",
       " 82: 'refrigerator',\n",
       " 84: 'book',\n",
       " 85: 'clock',\n",
       " 86: 'vase',\n",
       " 87: 'scissors',\n",
       " 88: 'teddy bear',\n",
       " 89: 'hair drier',\n",
       " 90: 'toothbrush'}"
      ]
     },
     "execution_count": 13,
     "metadata": {},
     "output_type": "execute_result"
    }
   ],
   "source": [
    "COCO_dataset.label_map"
   ]
  },
  {
   "cell_type": "code",
   "execution_count": 14,
   "id": "f98b9239",
   "metadata": {},
   "outputs": [],
   "source": [
    "COCO_pascal = COCO_dataset.remap_from_preset(\"coco\", \"pascalvoc\")"
   ]
  },
  {
   "cell_type": "markdown",
   "id": "ee0ae0f8",
   "metadata": {},
   "source": [
    "See how label map tab has changed"
   ]
  },
  {
   "cell_type": "code",
   "execution_count": 15,
   "id": "13ccea81",
   "metadata": {},
   "outputs": [
    {
     "data": {
      "application/vnd.jupyter.widget-view+json": {
       "model_id": "894942382e4348e19192c4e35fff114f",
       "version_major": 2,
       "version_minor": 0
      },
      "text/plain": [
       "VBox(children=(HTML(value=\"<p><span style='white-space: pre-wrap; font-weight: bold'>Dataset object containing…"
      ]
     },
     "metadata": {},
     "output_type": "display_data"
    }
   ],
   "source": [
    "COCO_pascal"
   ]
  },
  {
   "cell_type": "markdown",
   "id": "75af882b",
   "metadata": {},
   "source": [
    "### Remap from dictionaries\n",
    "\n",
    "Fictional usecase where we want to only have vehicles, bags and animals.\n",
    "If given, new_names must be the length of distinct values in class_mapping"
   ]
  },
  {
   "cell_type": "code",
   "execution_count": 16,
   "id": "f1d57135",
   "metadata": {},
   "outputs": [],
   "source": [
    "COCO_RT = COCO_pascal.remap_classes(\n",
    "    class_mapping={\n",
    "        1: 2,\n",
    "        2: 2,\n",
    "        3: 1,\n",
    "        4: 1,\n",
    "        5: 3,\n",
    "        6: 2,\n",
    "        7: 2,\n",
    "        8: 1,\n",
    "        9: 3,\n",
    "        10: 1,\n",
    "        11: 3,\n",
    "        12: 1,\n",
    "        13: 1,\n",
    "        14: 2,\n",
    "        16: 3,\n",
    "        17: 1,\n",
    "        18: 3,\n",
    "        19: 2,\n",
    "        20: 3,\n",
    "    },\n",
    "    new_names={1: \"Animal\", 2: \"Vehicle\", 3: \"Object\"},\n",
    ")"
   ]
  },
  {
   "cell_type": "code",
   "execution_count": 17,
   "id": "132bce91",
   "metadata": {},
   "outputs": [
    {
     "data": {
      "application/vnd.jupyter.widget-view+json": {
       "model_id": "46848b28dac8460abe51743163af9939",
       "version_major": 2,
       "version_minor": 0
      },
      "text/plain": [
       "VBox(children=(HTML(value=\"<p><span style='white-space: pre-wrap; font-weight: bold'>Dataset object containing…"
      ]
     },
     "metadata": {},
     "output_type": "display_data"
    }
   ],
   "source": [
    "COCO_RT"
   ]
  },
  {
   "cell_type": "markdown",
   "id": "0c615950",
   "metadata": {},
   "source": [
    "### Remap from dataframe\n",
    "\n",
    "Dataframe for remapping must have at least 2 columns : `input_category_id` and `output_category_id`\n",
    "\n",
    "If available, `output_category_name` will be use to replace the names of remapped ids.\n",
    "\n",
    "`input_category_name` only serves an informative purpose."
   ]
  },
  {
   "cell_type": "code",
   "execution_count": 18,
   "id": "6afdf8fc",
   "metadata": {},
   "outputs": [],
   "source": [
    "import pandas as pd\n",
    "\n",
    "class_table = (\n",
    "    pd.Series(COCO_pascal.label_map).rename(\"input_category_name\").sort_index()\n",
    ")\n",
    "class_table.index.rename(\"input_category_id\", inplace=True)\n",
    "class_table = class_table.reset_index().drop(15)\n",
    "class_table[\"output_category_id\"] = [\n",
    "    2,\n",
    "    2,\n",
    "    1,\n",
    "    2,\n",
    "    3,\n",
    "    2,\n",
    "    2,\n",
    "    1,\n",
    "    3,\n",
    "    1,\n",
    "    3,\n",
    "    1,\n",
    "    1,\n",
    "    2,\n",
    "    3,\n",
    "    1,\n",
    "    3,\n",
    "    2,\n",
    "    3,\n",
    "]\n",
    "class_table[\"output_category_name\"] = class_table[\"output_category_id\"].replace(\n",
    "    {1: \"animal\", 2: \"vehicle\", 3: \"object\"}\n",
    ")"
   ]
  },
  {
   "cell_type": "code",
   "execution_count": 19,
   "id": "43e1a9eb",
   "metadata": {
    "scrolled": true
   },
   "outputs": [
    {
     "data": {
      "text/html": [
       "<div>\n",
       "<style scoped>\n",
       "    .dataframe tbody tr th:only-of-type {\n",
       "        vertical-align: middle;\n",
       "    }\n",
       "\n",
       "    .dataframe tbody tr th {\n",
       "        vertical-align: top;\n",
       "    }\n",
       "\n",
       "    .dataframe thead th {\n",
       "        text-align: right;\n",
       "    }\n",
       "</style>\n",
       "<table border=\"1\" class=\"dataframe\">\n",
       "  <thead>\n",
       "    <tr style=\"text-align: right;\">\n",
       "      <th></th>\n",
       "      <th>input_category_id</th>\n",
       "      <th>input_category_name</th>\n",
       "      <th>output_category_id</th>\n",
       "      <th>output_category_name</th>\n",
       "    </tr>\n",
       "  </thead>\n",
       "  <tbody>\n",
       "    <tr>\n",
       "      <th>0</th>\n",
       "      <td>1</td>\n",
       "      <td>aeroplane</td>\n",
       "      <td>2</td>\n",
       "      <td>vehicle</td>\n",
       "    </tr>\n",
       "    <tr>\n",
       "      <th>1</th>\n",
       "      <td>2</td>\n",
       "      <td>bicycle</td>\n",
       "      <td>2</td>\n",
       "      <td>vehicle</td>\n",
       "    </tr>\n",
       "    <tr>\n",
       "      <th>2</th>\n",
       "      <td>3</td>\n",
       "      <td>bird</td>\n",
       "      <td>1</td>\n",
       "      <td>animal</td>\n",
       "    </tr>\n",
       "    <tr>\n",
       "      <th>3</th>\n",
       "      <td>4</td>\n",
       "      <td>boat</td>\n",
       "      <td>2</td>\n",
       "      <td>vehicle</td>\n",
       "    </tr>\n",
       "    <tr>\n",
       "      <th>4</th>\n",
       "      <td>5</td>\n",
       "      <td>bottle</td>\n",
       "      <td>3</td>\n",
       "      <td>object</td>\n",
       "    </tr>\n",
       "    <tr>\n",
       "      <th>5</th>\n",
       "      <td>6</td>\n",
       "      <td>bus</td>\n",
       "      <td>2</td>\n",
       "      <td>vehicle</td>\n",
       "    </tr>\n",
       "    <tr>\n",
       "      <th>6</th>\n",
       "      <td>7</td>\n",
       "      <td>car</td>\n",
       "      <td>2</td>\n",
       "      <td>vehicle</td>\n",
       "    </tr>\n",
       "    <tr>\n",
       "      <th>7</th>\n",
       "      <td>8</td>\n",
       "      <td>cat</td>\n",
       "      <td>1</td>\n",
       "      <td>animal</td>\n",
       "    </tr>\n",
       "    <tr>\n",
       "      <th>8</th>\n",
       "      <td>9</td>\n",
       "      <td>chair</td>\n",
       "      <td>3</td>\n",
       "      <td>object</td>\n",
       "    </tr>\n",
       "    <tr>\n",
       "      <th>9</th>\n",
       "      <td>10</td>\n",
       "      <td>cow</td>\n",
       "      <td>1</td>\n",
       "      <td>animal</td>\n",
       "    </tr>\n",
       "    <tr>\n",
       "      <th>10</th>\n",
       "      <td>11</td>\n",
       "      <td>diningtable</td>\n",
       "      <td>3</td>\n",
       "      <td>object</td>\n",
       "    </tr>\n",
       "    <tr>\n",
       "      <th>11</th>\n",
       "      <td>12</td>\n",
       "      <td>dog</td>\n",
       "      <td>1</td>\n",
       "      <td>animal</td>\n",
       "    </tr>\n",
       "    <tr>\n",
       "      <th>12</th>\n",
       "      <td>13</td>\n",
       "      <td>horse</td>\n",
       "      <td>1</td>\n",
       "      <td>animal</td>\n",
       "    </tr>\n",
       "    <tr>\n",
       "      <th>13</th>\n",
       "      <td>14</td>\n",
       "      <td>motorbike</td>\n",
       "      <td>2</td>\n",
       "      <td>vehicle</td>\n",
       "    </tr>\n",
       "    <tr>\n",
       "      <th>14</th>\n",
       "      <td>15</td>\n",
       "      <td>person</td>\n",
       "      <td>3</td>\n",
       "      <td>object</td>\n",
       "    </tr>\n",
       "    <tr>\n",
       "      <th>16</th>\n",
       "      <td>17</td>\n",
       "      <td>sheep</td>\n",
       "      <td>1</td>\n",
       "      <td>animal</td>\n",
       "    </tr>\n",
       "    <tr>\n",
       "      <th>17</th>\n",
       "      <td>18</td>\n",
       "      <td>sofa</td>\n",
       "      <td>3</td>\n",
       "      <td>object</td>\n",
       "    </tr>\n",
       "    <tr>\n",
       "      <th>18</th>\n",
       "      <td>19</td>\n",
       "      <td>train</td>\n",
       "      <td>2</td>\n",
       "      <td>vehicle</td>\n",
       "    </tr>\n",
       "    <tr>\n",
       "      <th>19</th>\n",
       "      <td>20</td>\n",
       "      <td>tvmonitor</td>\n",
       "      <td>3</td>\n",
       "      <td>object</td>\n",
       "    </tr>\n",
       "  </tbody>\n",
       "</table>\n",
       "</div>"
      ],
      "text/plain": [
       "    input_category_id input_category_name  output_category_id  \\\n",
       "0                   1           aeroplane                   2   \n",
       "1                   2             bicycle                   2   \n",
       "2                   3                bird                   1   \n",
       "3                   4                boat                   2   \n",
       "4                   5              bottle                   3   \n",
       "5                   6                 bus                   2   \n",
       "6                   7                 car                   2   \n",
       "7                   8                 cat                   1   \n",
       "8                   9               chair                   3   \n",
       "9                  10                 cow                   1   \n",
       "10                 11         diningtable                   3   \n",
       "11                 12                 dog                   1   \n",
       "12                 13               horse                   1   \n",
       "13                 14           motorbike                   2   \n",
       "14                 15              person                   3   \n",
       "16                 17               sheep                   1   \n",
       "17                 18                sofa                   3   \n",
       "18                 19               train                   2   \n",
       "19                 20           tvmonitor                   3   \n",
       "\n",
       "   output_category_name  \n",
       "0               vehicle  \n",
       "1               vehicle  \n",
       "2                animal  \n",
       "3               vehicle  \n",
       "4                object  \n",
       "5               vehicle  \n",
       "6               vehicle  \n",
       "7                animal  \n",
       "8                object  \n",
       "9                animal  \n",
       "10               object  \n",
       "11               animal  \n",
       "12               animal  \n",
       "13              vehicle  \n",
       "14               object  \n",
       "16               animal  \n",
       "17               object  \n",
       "18              vehicle  \n",
       "19               object  "
      ]
     },
     "execution_count": 19,
     "metadata": {},
     "output_type": "execute_result"
    }
   ],
   "source": [
    "class_table"
   ]
  },
  {
   "cell_type": "code",
   "execution_count": 20,
   "id": "bd8e9292",
   "metadata": {},
   "outputs": [],
   "source": [
    "COCO_RT_DF = COCO_pascal.remap_from_dataframe(class_table)"
   ]
  },
  {
   "cell_type": "code",
   "execution_count": 21,
   "id": "5adf94a8",
   "metadata": {},
   "outputs": [
    {
     "data": {
      "application/vnd.jupyter.widget-view+json": {
       "model_id": "a9f2687fd4be4fb5b68c5c24c5dcca30",
       "version_major": 2,
       "version_minor": 0
      },
      "text/plain": [
       "VBox(children=(HTML(value=\"<p><span style='white-space: pre-wrap; font-weight: bold'>Dataset object containing…"
      ]
     },
     "metadata": {},
     "output_type": "display_data"
    }
   ],
   "source": [
    "COCO_RT_DF"
   ]
  },
  {
   "cell_type": "markdown",
   "id": "c4e2d597",
   "metadata": {},
   "source": [
    "### Remap from CSV\n",
    "\n",
    "Basically the same as remap from dataframe, except the input is a csv file with the same data"
   ]
  },
  {
   "cell_type": "code",
   "execution_count": 22,
   "id": "5576ee64",
   "metadata": {},
   "outputs": [],
   "source": [
    "csv_file = \"remap.csv\"\n",
    "class_table.to_csv(csv_file, index=False)"
   ]
  },
  {
   "cell_type": "code",
   "execution_count": 23,
   "id": "43c67237",
   "metadata": {},
   "outputs": [
    {
     "name": "stdout",
     "output_type": "stream",
     "text": [
      "input_category_id,input_category_name,output_category_id,output_category_name\n",
      "1,aeroplane,2,vehicle\n",
      "2,bicycle,2,vehicle\n",
      "3,bird,1,animal\n",
      "4,boat,2,vehicle\n",
      "5,bottle,3,object\n",
      "6,bus,2,vehicle\n",
      "7,car,2,vehicle\n",
      "8,cat,1,animal\n",
      "9,chair,3,object\n",
      "10,cow,1,animal\n",
      "11,diningtable,3,object\n",
      "12,dog,1,animal\n",
      "13,horse,1,animal\n",
      "14,motorbike,2,vehicle\n",
      "15,person,3,object\n",
      "17,sheep,1,animal\n",
      "18,sofa,3,object\n",
      "19,train,2,vehicle\n",
      "20,tvmonitor,3,object\n"
     ]
    }
   ],
   "source": [
    "!cat remap.csv"
   ]
  },
  {
   "cell_type": "code",
   "execution_count": 24,
   "id": "6e64cee3",
   "metadata": {},
   "outputs": [],
   "source": [
    "COCO_RT_CSV = COCO_pascal.remap_from_csv(csv_file)"
   ]
  },
  {
   "cell_type": "code",
   "execution_count": 25,
   "id": "661820a1",
   "metadata": {
    "editable": true,
    "slideshow": {
     "slide_type": ""
    },
    "tags": []
   },
   "outputs": [
    {
     "data": {
      "application/vnd.jupyter.widget-view+json": {
       "model_id": "0324997a024e48a282a0acc8c897a940",
       "version_major": 2,
       "version_minor": 0
      },
      "text/plain": [
       "VBox(children=(HTML(value=\"<p><span style='white-space: pre-wrap; font-weight: bold'>Dataset object containing…"
      ]
     },
     "metadata": {},
     "output_type": "display_data"
    }
   ],
   "source": [
    "COCO_RT_CSV"
   ]
  },
  {
   "cell_type": "markdown",
   "id": "6ad1ee14-9f78-49e7-b3f9-a66e62f586e8",
   "metadata": {},
   "source": [
    "### Remap from other dataset\n",
    "\n",
    "This method will try to retrieve the label names in the other dataset and apply a remapping accordingly.\n",
    "\n",
    "classes that are not in the other dataset are mapped to a free id with respect to the other dataset's label map."
   ]
  },
  {
   "cell_type": "code",
   "execution_count": 26,
   "id": "ca0b35e5-5424-4f0b-a6e0-d08f00a34ab7",
   "metadata": {},
   "outputs": [
    {
     "name": "stdout",
     "output_type": "stream",
     "text": [
      "Using the following class remapping dictionary :\n",
      "{1: 22,\n",
      " 2: 21,\n",
      " 3: 23,\n",
      " 4: 4,\n",
      " 5: 5,\n",
      " 6: 6,\n",
      " 7: 7,\n",
      " 8: 8,\n",
      " 9: 9,\n",
      " 10: 10,\n",
      " 11: 11,\n",
      " 12: 12,\n",
      " 13: 13,\n",
      " 14: 14,\n",
      " 15: 15,\n",
      " 16: 16,\n",
      " 17: 17,\n",
      " 18: 18,\n",
      " 19: 19,\n",
      " 20: 20}\n"
     ]
    },
    {
     "data": {
      "application/vnd.jupyter.widget-view+json": {
       "model_id": "7818182c65624d0f8d94471d24684f68",
       "version_major": 2,
       "version_minor": 0
      },
      "text/plain": [
       "VBox(children=(HTML(value=\"<p><span style='white-space: pre-wrap; font-weight: bold'>Dataset object containing…"
      ]
     },
     "metadata": {},
     "output_type": "display_data"
    }
   ],
   "source": [
    "COCO_RT_other = COCO_pascal.remap_from_other(COCO_RT_CSV)\n",
    "COCO_RT_CSV"
   ]
  },
  {
   "cell_type": "markdown",
   "id": "eb84deb8-c5ee-4f0c-9581-f20b883d16b8",
   "metadata": {},
   "source": [
    "## Dataset Reindexing\n",
    "\n",
    "### Resetting index\n",
    "\n",
    "The `reset_index` method allows you to reorder the dataset's dataframes according to some column values"
   ]
  },
  {
   "cell_type": "code",
   "execution_count": 27,
   "id": "36b551b2-ff99-4d2f-835b-2d1836224770",
   "metadata": {},
   "outputs": [
    {
     "data": {
      "application/vnd.jupyter.widget-view+json": {
       "model_id": "6b694a522a394ca9b67905fac307a804",
       "version_major": 2,
       "version_minor": 0
      },
      "text/plain": [
       "VBox(children=(HTML(value=\"<p><span style='white-space: pre-wrap; font-weight: bold'>Dataset object containing…"
      ]
     },
     "metadata": {},
     "output_type": "display_data"
    }
   ],
   "source": [
    "COCO_dataset.reset_index()"
   ]
  },
  {
   "cell_type": "markdown",
   "id": "79cd558b-a37b-45d9-bf3e-59b1857d2a19",
   "metadata": {},
   "source": [
    "Sort the annotations by category string first : Get the dataframe to start with airplanes and finish with zebra."
   ]
  },
  {
   "cell_type": "code",
   "execution_count": 28,
   "id": "77c46450-874b-4ddc-a926-367b4e3fd4db",
   "metadata": {},
   "outputs": [
    {
     "data": {
      "application/vnd.jupyter.widget-view+json": {
       "model_id": "0b06b68be3734a76b0db0808865c20f6",
       "version_major": 2,
       "version_minor": 0
      },
      "text/plain": [
       "VBox(children=(HTML(value=\"<p><span style='white-space: pre-wrap; font-weight: bold'>Dataset object containing…"
      ]
     },
     "metadata": {},
     "output_type": "display_data"
    }
   ],
   "source": [
    "reset_COCO_dataset = COCO_dataset.reset_index(\n",
    "    start_image_id=10,\n",
    "    start_annotations_id=2,\n",
    "    sort_annotations_by=(\"category_str\", \"image_id\"),\n",
    ")\n",
    "reset_COCO_dataset"
   ]
  },
  {
   "cell_type": "markdown",
   "id": "b910f594-11f5-450d-9713-464118823637",
   "metadata": {},
   "source": [
    "### Reindex with mapping\n",
    "\n",
    "Akin to class remapping, you can also remap the dataset's dataframe indexes with dictionaries. Note that unmapped index values will be reset to a range index, but they will not be sorted. Be sure to sort the dataframes the way you want before calling the method `reset_index_from_mapping` with an incomplete index mapping."
   ]
  },
  {
   "cell_type": "code",
   "execution_count": 29,
   "id": "6e585ae1-5a68-40b1-81e5-1336b56bf0f5",
   "metadata": {},
   "outputs": [
    {
     "data": {
      "application/vnd.jupyter.widget-view+json": {
       "model_id": "87fabb6909cd4796a02287f7620b30bd",
       "version_major": 2,
       "version_minor": 0
      },
      "text/plain": [
       "VBox(children=(HTML(value=\"<p><span style='white-space: pre-wrap; font-weight: bold'>Dataset object containing…"
      ]
     },
     "metadata": {},
     "output_type": "display_data"
    }
   ],
   "source": [
    "COCO_dataset.reset_index_from_mapping(\n",
    "    images_index_map={58393: 0}, annotations_index_map={331107: 0}\n",
    ")"
   ]
  },
  {
   "cell_type": "markdown",
   "id": "1f9d3ba0-863c-4992-aa4e-a61acd7de77d",
   "metadata": {},
   "source": [
    "### Reindex images index from other dataframe\n",
    "\n",
    "This feature is similar to panda's [merge](https://pandas.pydata.org/docs/reference/api/pandas.DataFrame.merge.html) function : by selecting columns to merge on, the dataset will construct an index mapping for entries that are in both original images dataframe and the other dataframe, and optionally remap the other rows to a simple range index"
   ]
  },
  {
   "cell_type": "code",
   "execution_count": 30,
   "id": "5c7c3b19-faf8-4133-9361-d1859ca131c0",
   "metadata": {},
   "outputs": [
    {
     "data": {
      "application/vnd.jupyter.widget-view+json": {
       "model_id": "9cee0d099ede47c38f043758df377b04",
       "version_major": 2,
       "version_minor": 0
      },
      "text/plain": [
       "VBox(children=(HTML(value=\"<p><span style='white-space: pre-wrap; font-weight: bold'>Dataset object containing…"
      ]
     },
     "metadata": {},
     "output_type": "display_data"
    },
    {
     "data": {
      "text/html": [
       "<div>\n",
       "<style scoped>\n",
       "    .dataframe tbody tr th:only-of-type {\n",
       "        vertical-align: middle;\n",
       "    }\n",
       "\n",
       "    .dataframe tbody tr th {\n",
       "        vertical-align: top;\n",
       "    }\n",
       "\n",
       "    .dataframe thead th {\n",
       "        text-align: right;\n",
       "    }\n",
       "</style>\n",
       "<table border=\"1\" class=\"dataframe\">\n",
       "  <thead>\n",
       "    <tr style=\"text-align: right;\">\n",
       "      <th></th>\n",
       "      <th>width</th>\n",
       "      <th>height</th>\n",
       "      <th>relative_path</th>\n",
       "      <th>type</th>\n",
       "      <th>split</th>\n",
       "    </tr>\n",
       "    <tr>\n",
       "      <th>id</th>\n",
       "      <th></th>\n",
       "      <th></th>\n",
       "      <th></th>\n",
       "      <th></th>\n",
       "      <th></th>\n",
       "    </tr>\n",
       "  </thead>\n",
       "  <tbody>\n",
       "    <tr>\n",
       "      <th>10</th>\n",
       "      <td>640</td>\n",
       "      <td>426</td>\n",
       "      <td>Images/valid/000000000139.jpg</td>\n",
       "      <td>.jpg</td>\n",
       "      <td>valid</td>\n",
       "    </tr>\n",
       "    <tr>\n",
       "      <th>11</th>\n",
       "      <td>586</td>\n",
       "      <td>640</td>\n",
       "      <td>Images/valid/000000000285.jpg</td>\n",
       "      <td>.jpg</td>\n",
       "      <td>valid</td>\n",
       "    </tr>\n",
       "    <tr>\n",
       "      <th>12</th>\n",
       "      <td>640</td>\n",
       "      <td>483</td>\n",
       "      <td>Images/valid/000000000632.jpg</td>\n",
       "      <td>.jpg</td>\n",
       "      <td>valid</td>\n",
       "    </tr>\n",
       "    <tr>\n",
       "      <th>13</th>\n",
       "      <td>375</td>\n",
       "      <td>500</td>\n",
       "      <td>Images/valid/000000000724.jpg</td>\n",
       "      <td>.jpg</td>\n",
       "      <td>valid</td>\n",
       "    </tr>\n",
       "    <tr>\n",
       "      <th>14</th>\n",
       "      <td>428</td>\n",
       "      <td>640</td>\n",
       "      <td>Images/valid/000000000776.jpg</td>\n",
       "      <td>.jpg</td>\n",
       "      <td>valid</td>\n",
       "    </tr>\n",
       "    <tr>\n",
       "      <th>...</th>\n",
       "      <td>...</td>\n",
       "      <td>...</td>\n",
       "      <td>...</td>\n",
       "      <td>...</td>\n",
       "      <td>...</td>\n",
       "    </tr>\n",
       "    <tr>\n",
       "      <th>5005</th>\n",
       "      <td>640</td>\n",
       "      <td>354</td>\n",
       "      <td>Images/valid/000000581317.jpg</td>\n",
       "      <td>.jpg</td>\n",
       "      <td>valid</td>\n",
       "    </tr>\n",
       "    <tr>\n",
       "      <th>5006</th>\n",
       "      <td>612</td>\n",
       "      <td>612</td>\n",
       "      <td>Images/valid/000000581357.jpg</td>\n",
       "      <td>.jpg</td>\n",
       "      <td>valid</td>\n",
       "    </tr>\n",
       "    <tr>\n",
       "      <th>5007</th>\n",
       "      <td>640</td>\n",
       "      <td>427</td>\n",
       "      <td>Images/valid/000000581482.jpg</td>\n",
       "      <td>.jpg</td>\n",
       "      <td>valid</td>\n",
       "    </tr>\n",
       "    <tr>\n",
       "      <th>5008</th>\n",
       "      <td>478</td>\n",
       "      <td>640</td>\n",
       "      <td>Images/valid/000000581615.jpg</td>\n",
       "      <td>.jpg</td>\n",
       "      <td>valid</td>\n",
       "    </tr>\n",
       "    <tr>\n",
       "      <th>5009</th>\n",
       "      <td>640</td>\n",
       "      <td>478</td>\n",
       "      <td>Images/valid/000000581781.jpg</td>\n",
       "      <td>.jpg</td>\n",
       "      <td>valid</td>\n",
       "    </tr>\n",
       "  </tbody>\n",
       "</table>\n",
       "<p>5000 rows × 5 columns</p>\n",
       "</div>"
      ],
      "text/plain": [
       "      width  height                  relative_path  type  split\n",
       "id                                                             \n",
       "10      640     426  Images/valid/000000000139.jpg  .jpg  valid\n",
       "11      586     640  Images/valid/000000000285.jpg  .jpg  valid\n",
       "12      640     483  Images/valid/000000000632.jpg  .jpg  valid\n",
       "13      375     500  Images/valid/000000000724.jpg  .jpg  valid\n",
       "14      428     640  Images/valid/000000000776.jpg  .jpg  valid\n",
       "...     ...     ...                            ...   ...    ...\n",
       "5005    640     354  Images/valid/000000581317.jpg  .jpg  valid\n",
       "5006    612     612  Images/valid/000000581357.jpg  .jpg  valid\n",
       "5007    640     427  Images/valid/000000581482.jpg  .jpg  valid\n",
       "5008    478     640  Images/valid/000000581615.jpg  .jpg  valid\n",
       "5009    640     478  Images/valid/000000581781.jpg  .jpg  valid\n",
       "\n",
       "[5000 rows x 5 columns]"
      ]
     },
     "execution_count": 30,
     "metadata": {},
     "output_type": "execute_result"
    }
   ],
   "source": [
    "matched_COCO = COCO_dataset.match_index(reset_COCO_dataset.images, on=\"relative_path\")\n",
    "display(matched_COCO)\n",
    "\n",
    "matched_COCO.images.sort_index()"
   ]
  },
  {
   "cell_type": "markdown",
   "id": "11316769",
   "metadata": {},
   "source": [
    "## Dataset merge\n",
    "\n",
    "### Regular merge\n",
    "\n",
    "Here, we divide COCO in two and merge them again to show how it works"
   ]
  },
  {
   "cell_type": "code",
   "execution_count": 31,
   "id": "fad3507e",
   "metadata": {},
   "outputs": [],
   "source": [
    "half1 = COCO_dataset[::2]\n",
    "half2 = COCO_dataset[1::2]"
   ]
  },
  {
   "cell_type": "code",
   "execution_count": 32,
   "id": "47348dd6",
   "metadata": {},
   "outputs": [
    {
     "data": {
      "application/vnd.jupyter.widget-view+json": {
       "model_id": "3705bba3da4b4d8888ddf8632a4ef809",
       "version_major": 2,
       "version_minor": 0
      },
      "text/plain": [
       "VBox(children=(HTML(value=\"<p><span style='white-space: pre-wrap; font-weight: bold'>Dataset object containing…"
      ]
     },
     "metadata": {},
     "output_type": "display_data"
    },
    {
     "data": {
      "application/vnd.jupyter.widget-view+json": {
       "model_id": "5c42c424c9dd4c08bd87e0f7e307e3fe",
       "version_major": 2,
       "version_minor": 0
      },
      "text/plain": [
       "VBox(children=(HTML(value=\"<p><span style='white-space: pre-wrap; font-weight: bold'>Dataset object containing…"
      ]
     },
     "metadata": {},
     "output_type": "display_data"
    }
   ],
   "source": [
    "from lours.utils.testing import assert_dataset_equal\n",
    "\n",
    "merged_back = half1 + half2\n",
    "display(merged_back)\n",
    "display(COCO_dataset)\n",
    "assert_dataset_equal(COCO_dataset, merged_back)"
   ]
  },
  {
   "cell_type": "markdown",
   "id": "16546503",
   "metadata": {},
   "source": [
    "### Merge with `ignore_index`\n",
    "\n",
    "the merge function can be used with `ignore_index` when image ids are overlapping"
   ]
  },
  {
   "cell_type": "code",
   "execution_count": 33,
   "id": "47cb8ffb",
   "metadata": {},
   "outputs": [],
   "source": [
    "half1 = half1.reset_index()\n",
    "half2 = half2.reset_index()"
   ]
  },
  {
   "cell_type": "code",
   "execution_count": 34,
   "id": "2a1f28f6",
   "metadata": {},
   "outputs": [
    {
     "data": {
      "application/vnd.jupyter.widget-view+json": {
       "model_id": "276b9e6a229d40f1bf0e2dfbe6aa5394",
       "version_major": 2,
       "version_minor": 0
      },
      "text/plain": [
       "VBox(children=(HTML(value=\"<p><span style='white-space: pre-wrap; font-weight: bold'>Dataset object containing…"
      ]
     },
     "metadata": {},
     "output_type": "display_data"
    }
   ],
   "source": [
    "merged_back = half1.merge(half2, ignore_index=True)\n",
    "assert_dataset_equal(merged_back, COCO_dataset, ignore_index=True)\n",
    "merged_back"
   ]
  },
  {
   "cell_type": "markdown",
   "id": "e749611b",
   "metadata": {},
   "source": [
    "### Merging with overlapping ids\n",
    "\n",
    "If your datasets have images with overlapping ids, they can still be merged as long as the overlapping subset are the exact same"
   ]
  },
  {
   "cell_type": "code",
   "execution_count": 35,
   "id": "cb2350a1",
   "metadata": {},
   "outputs": [
    {
     "data": {
      "application/vnd.jupyter.widget-view+json": {
       "model_id": "df16b3e64151406f8c3c36f3c8b766ff",
       "version_major": 2,
       "version_minor": 0
      },
      "text/plain": [
       "VBox(children=(HTML(value=\"<p><span style='white-space: pre-wrap; font-weight: bold'>Dataset object containing…"
      ]
     },
     "metadata": {},
     "output_type": "display_data"
    },
    {
     "data": {
      "application/vnd.jupyter.widget-view+json": {
       "model_id": "56b97a3e4d4745c9941c7551b6d5922d",
       "version_major": 2,
       "version_minor": 0
      },
      "text/plain": [
       "VBox(children=(HTML(value=\"<p><span style='white-space: pre-wrap; font-weight: bold'>Dataset object containing…"
      ]
     },
     "metadata": {},
     "output_type": "display_data"
    }
   ],
   "source": [
    "half1 = Dataset.from_template(\n",
    "    COCO_dataset, annotations=COCO_dataset.annotations.iloc[::2]\n",
    ")\n",
    "display(half1)\n",
    "half2 = Dataset.from_template(\n",
    "    COCO_dataset, annotations=COCO_dataset.annotations.iloc[1::2]\n",
    ")\n",
    "display(half2)\n",
    "merged_back = half1 + half2\n",
    "assert_dataset_equal(COCO_dataset, merged_back)"
   ]
  },
  {
   "cell_type": "markdown",
   "id": "16ebfbd3",
   "metadata": {},
   "source": [
    "Merging overlapping ids can be turned off with `allow_overlapping_ids` set to False."
   ]
  },
  {
   "cell_type": "code",
   "execution_count": 36,
   "id": "5a165442",
   "metadata": {
    "editable": true,
    "slideshow": {
     "slide_type": ""
    },
    "tags": [
     "raises-exception"
    ]
   },
   "outputs": [
    {
     "ename": "ValueError",
     "evalue": "Overlapping image ids not permitted. Consider using the allow_overlapping_image_ids or ignore_index options",
     "output_type": "error",
     "traceback": [
      "\u001b[0;31m---------------------------------------------------------------------------\u001b[0m",
      "\u001b[0;31mValueError\u001b[0m                                Traceback (most recent call last)",
      "Cell \u001b[0;32mIn[36], line 1\u001b[0m\n\u001b[0;32m----> 1\u001b[0m \u001b[43mhalf1\u001b[49m\u001b[38;5;241;43m.\u001b[39;49m\u001b[43mmerge\u001b[49m\u001b[43m(\u001b[49m\u001b[43mhalf2\u001b[49m\u001b[43m,\u001b[49m\u001b[43m \u001b[49m\u001b[43mallow_overlapping_image_ids\u001b[49m\u001b[38;5;241;43m=\u001b[39;49m\u001b[38;5;28;43;01mFalse\u001b[39;49;00m\u001b[43m)\u001b[49m\n",
      "File \u001b[0;32m~/workspace/Bamboo/lours/dataset/dataset.py:2803\u001b[0m, in \u001b[0;36mDataset.merge\u001b[0;34m(self, other, allow_overlapping_image_ids, realign_label_map, ignore_index, mark_origin, overwrite_origin)\u001b[0m\n\u001b[1;32m   2344\u001b[0m \u001b[38;5;250m\u001b[39m\u001b[38;5;124;03m\"\"\"Merge two datasets and return a unique dataset object containing\u001b[39;00m\n\u001b[1;32m   2345\u001b[0m \u001b[38;5;124;03mSamples from both. Result's images_root will be the common path of both\u001b[39;00m\n\u001b[1;32m   2346\u001b[0m \u001b[38;5;124;03mdatasets, and the image relative paths will be updated accordingly.\u001b[39;00m\n\u001b[0;32m   (...)\u001b[0m\n\u001b[1;32m   2799\u001b[0m \n\u001b[1;32m   2800\u001b[0m \u001b[38;5;124;03m\"\"\"\u001b[39;00m\n\u001b[1;32m   2801\u001b[0m \u001b[38;5;28;01mfrom\u001b[39;00m \u001b[38;5;21;01m.\u001b[39;00m\u001b[38;5;21;01mmerge\u001b[39;00m \u001b[38;5;28;01mimport\u001b[39;00m merge_datasets\n\u001b[0;32m-> 2803\u001b[0m \u001b[38;5;28;01mreturn\u001b[39;00m \u001b[43mmerge_datasets\u001b[49m\u001b[43m(\u001b[49m\n\u001b[1;32m   2804\u001b[0m \u001b[43m    \u001b[49m\u001b[38;5;28;43mself\u001b[39;49m\u001b[43m,\u001b[49m\n\u001b[1;32m   2805\u001b[0m \u001b[43m    \u001b[49m\u001b[43mother\u001b[49m\u001b[43m,\u001b[49m\n\u001b[1;32m   2806\u001b[0m \u001b[43m    \u001b[49m\u001b[43mallow_overlapping_image_ids\u001b[49m\u001b[38;5;241;43m=\u001b[39;49m\u001b[43mallow_overlapping_image_ids\u001b[49m\u001b[43m,\u001b[49m\n\u001b[1;32m   2807\u001b[0m \u001b[43m    \u001b[49m\u001b[43mrealign_label_map\u001b[49m\u001b[38;5;241;43m=\u001b[39;49m\u001b[43mrealign_label_map\u001b[49m\u001b[43m,\u001b[49m\n\u001b[1;32m   2808\u001b[0m \u001b[43m    \u001b[49m\u001b[43mignore_index\u001b[49m\u001b[38;5;241;43m=\u001b[39;49m\u001b[43mignore_index\u001b[49m\u001b[43m,\u001b[49m\n\u001b[1;32m   2809\u001b[0m \u001b[43m    \u001b[49m\u001b[43mmark_origin\u001b[49m\u001b[38;5;241;43m=\u001b[39;49m\u001b[43mmark_origin\u001b[49m\u001b[43m,\u001b[49m\n\u001b[1;32m   2810\u001b[0m \u001b[43m    \u001b[49m\u001b[43moverwrite_origin\u001b[49m\u001b[38;5;241;43m=\u001b[39;49m\u001b[43moverwrite_origin\u001b[49m\u001b[43m,\u001b[49m\n\u001b[1;32m   2811\u001b[0m \u001b[43m\u001b[49m\u001b[43m)\u001b[49m\n",
      "File \u001b[0;32m~/workspace/Bamboo/lours/dataset/merge.py:167\u001b[0m, in \u001b[0;36mmerge_datasets\u001b[0;34m(dataset1, dataset2, allow_overlapping_image_ids, realign_label_map, ignore_index, mark_origin, overwrite_origin)\u001b[0m\n\u001b[1;32m    164\u001b[0m mutual_images_columns \u001b[38;5;241m=\u001b[39m dataset1_images_columns \u001b[38;5;241m&\u001b[39m dataset2_images_columns\n\u001b[1;32m    166\u001b[0m \u001b[38;5;28;01mif\u001b[39;00m mutual_images_ids \u001b[38;5;129;01mand\u001b[39;00m \u001b[38;5;129;01mnot\u001b[39;00m allow_overlapping_image_ids:\n\u001b[0;32m--> 167\u001b[0m     \u001b[38;5;28;01mraise\u001b[39;00m \u001b[38;5;167;01mValueError\u001b[39;00m(\n\u001b[1;32m    168\u001b[0m         \u001b[38;5;124m\"\u001b[39m\u001b[38;5;124mOverlapping image ids not permitted. Consider using the\u001b[39m\u001b[38;5;124m\"\u001b[39m\n\u001b[1;32m    169\u001b[0m         \u001b[38;5;124m\"\u001b[39m\u001b[38;5;124m allow_overlapping_image_ids or ignore_index options\u001b[39m\u001b[38;5;124m\"\u001b[39m\n\u001b[1;32m    170\u001b[0m     )\n\u001b[1;32m    172\u001b[0m assert_frame_intersections_equal(\n\u001b[1;32m    173\u001b[0m     dataset1_images\u001b[38;5;241m.\u001b[39mdrop([\u001b[38;5;124m\"\u001b[39m\u001b[38;5;124morigin\u001b[39m\u001b[38;5;124m\"\u001b[39m, \u001b[38;5;124m\"\u001b[39m\u001b[38;5;124morigin_id\u001b[39m\u001b[38;5;124m\"\u001b[39m], axis\u001b[38;5;241m=\u001b[39m\u001b[38;5;241m1\u001b[39m, errors\u001b[38;5;241m=\u001b[39m\u001b[38;5;124m\"\u001b[39m\u001b[38;5;124mignore\u001b[39m\u001b[38;5;124m\"\u001b[39m),\n\u001b[1;32m    174\u001b[0m     dataset2_images\u001b[38;5;241m.\u001b[39mdrop([\u001b[38;5;124m\"\u001b[39m\u001b[38;5;124morigin\u001b[39m\u001b[38;5;124m\"\u001b[39m, \u001b[38;5;124m\"\u001b[39m\u001b[38;5;124morigin_id\u001b[39m\u001b[38;5;124m\"\u001b[39m], axis\u001b[38;5;241m=\u001b[39m\u001b[38;5;241m1\u001b[39m, errors\u001b[38;5;241m=\u001b[39m\u001b[38;5;124m\"\u001b[39m\u001b[38;5;124mignore\u001b[39m\u001b[38;5;124m\"\u001b[39m),\n\u001b[1;32m    175\u001b[0m )\n\u001b[1;32m    177\u001b[0m \u001b[38;5;66;03m# Concat horizontally by extending images from dataset1 with columns from dataset2\u001b[39;00m\n\u001b[1;32m    178\u001b[0m \u001b[38;5;66;03m# and then vertically by extending images with dataset2 images which id is not\u001b[39;00m\n\u001b[1;32m    179\u001b[0m \u001b[38;5;66;03m# in dataset1 images index.\u001b[39;00m\n",
      "\u001b[0;31mValueError\u001b[0m: Overlapping image ids not permitted. Consider using the allow_overlapping_image_ids or ignore_index options"
     ]
    }
   ],
   "source": [
    "half1.merge(half2, allow_overlapping_image_ids=False)"
   ]
  },
  {
   "cell_type": "markdown",
   "id": "61cfd434",
   "metadata": {},
   "source": [
    "### Incompatible Label maps\n",
    "\n",
    "In the case the label map of one dataset is not the subset of the other and vice versa, the label maps are incompatible."
   ]
  },
  {
   "cell_type": "code",
   "execution_count": 37,
   "id": "19adeab2",
   "metadata": {},
   "outputs": [],
   "source": [
    "new_label_map = {**COCO_pascal.label_map, **{1: \"something else\"}}\n",
    "COCO_incompatible = COCO_pascal.from_template(label_map=new_label_map)"
   ]
  },
  {
   "cell_type": "code",
   "execution_count": 38,
   "id": "f24744b4-8ab4-4e8d-86eb-7bf53e865fb9",
   "metadata": {
    "editable": true,
    "slideshow": {
     "slide_type": ""
    },
    "tags": [
     "raises-exception"
    ]
   },
   "outputs": [
    {
     "ename": "IncompatibleLabelMapsError",
     "evalue": "Label maps are incompatible",
     "output_type": "error",
     "traceback": [
      "\u001b[0;31m---------------------------------------------------------------------------\u001b[0m",
      "\u001b[0;31mIncompatibleLabelMapsError\u001b[0m                Traceback (most recent call last)",
      "Cell \u001b[0;32mIn[38], line 1\u001b[0m\n\u001b[0;32m----> 1\u001b[0m \u001b[43mCOCO_pascal\u001b[49m\u001b[38;5;241;43m.\u001b[39;49m\u001b[43mmerge\u001b[49m\u001b[43m(\u001b[49m\u001b[43mCOCO_incompatible\u001b[49m\u001b[43m)\u001b[49m\n",
      "File \u001b[0;32m~/workspace/Bamboo/lours/dataset/dataset.py:2803\u001b[0m, in \u001b[0;36mDataset.merge\u001b[0;34m(self, other, allow_overlapping_image_ids, realign_label_map, ignore_index, mark_origin, overwrite_origin)\u001b[0m\n\u001b[1;32m   2344\u001b[0m \u001b[38;5;250m\u001b[39m\u001b[38;5;124;03m\"\"\"Merge two datasets and return a unique dataset object containing\u001b[39;00m\n\u001b[1;32m   2345\u001b[0m \u001b[38;5;124;03mSamples from both. Result's images_root will be the common path of both\u001b[39;00m\n\u001b[1;32m   2346\u001b[0m \u001b[38;5;124;03mdatasets, and the image relative paths will be updated accordingly.\u001b[39;00m\n\u001b[0;32m   (...)\u001b[0m\n\u001b[1;32m   2799\u001b[0m \n\u001b[1;32m   2800\u001b[0m \u001b[38;5;124;03m\"\"\"\u001b[39;00m\n\u001b[1;32m   2801\u001b[0m \u001b[38;5;28;01mfrom\u001b[39;00m \u001b[38;5;21;01m.\u001b[39;00m\u001b[38;5;21;01mmerge\u001b[39;00m \u001b[38;5;28;01mimport\u001b[39;00m merge_datasets\n\u001b[0;32m-> 2803\u001b[0m \u001b[38;5;28;01mreturn\u001b[39;00m \u001b[43mmerge_datasets\u001b[49m\u001b[43m(\u001b[49m\n\u001b[1;32m   2804\u001b[0m \u001b[43m    \u001b[49m\u001b[38;5;28;43mself\u001b[39;49m\u001b[43m,\u001b[49m\n\u001b[1;32m   2805\u001b[0m \u001b[43m    \u001b[49m\u001b[43mother\u001b[49m\u001b[43m,\u001b[49m\n\u001b[1;32m   2806\u001b[0m \u001b[43m    \u001b[49m\u001b[43mallow_overlapping_image_ids\u001b[49m\u001b[38;5;241;43m=\u001b[39;49m\u001b[43mallow_overlapping_image_ids\u001b[49m\u001b[43m,\u001b[49m\n\u001b[1;32m   2807\u001b[0m \u001b[43m    \u001b[49m\u001b[43mrealign_label_map\u001b[49m\u001b[38;5;241;43m=\u001b[39;49m\u001b[43mrealign_label_map\u001b[49m\u001b[43m,\u001b[49m\n\u001b[1;32m   2808\u001b[0m \u001b[43m    \u001b[49m\u001b[43mignore_index\u001b[49m\u001b[38;5;241;43m=\u001b[39;49m\u001b[43mignore_index\u001b[49m\u001b[43m,\u001b[49m\n\u001b[1;32m   2809\u001b[0m \u001b[43m    \u001b[49m\u001b[43mmark_origin\u001b[49m\u001b[38;5;241;43m=\u001b[39;49m\u001b[43mmark_origin\u001b[49m\u001b[43m,\u001b[49m\n\u001b[1;32m   2810\u001b[0m \u001b[43m    \u001b[49m\u001b[43moverwrite_origin\u001b[49m\u001b[38;5;241;43m=\u001b[39;49m\u001b[43moverwrite_origin\u001b[49m\u001b[43m,\u001b[49m\n\u001b[1;32m   2811\u001b[0m \u001b[43m\u001b[49m\u001b[43m)\u001b[49m\n",
      "File \u001b[0;32m~/workspace/Bamboo/lours/dataset/merge.py:138\u001b[0m, in \u001b[0;36mmerge_datasets\u001b[0;34m(dataset1, dataset2, allow_overlapping_image_ids, realign_label_map, ignore_index, mark_origin, overwrite_origin)\u001b[0m\n\u001b[1;32m    134\u001b[0m     label_map \u001b[38;5;241m=\u001b[39m merge_label_maps(\n\u001b[1;32m    135\u001b[0m         dataset1\u001b[38;5;241m.\u001b[39mlabel_map, dataset2\u001b[38;5;241m.\u001b[39mlabel_map, method\u001b[38;5;241m=\u001b[39m\u001b[38;5;124m\"\u001b[39m\u001b[38;5;124mouter\u001b[39m\u001b[38;5;124m\"\u001b[39m\n\u001b[1;32m    136\u001b[0m     )\n\u001b[1;32m    137\u001b[0m \u001b[38;5;28;01melse\u001b[39;00m:\n\u001b[0;32m--> 138\u001b[0m     label_map \u001b[38;5;241m=\u001b[39m \u001b[43mmerge_label_maps\u001b[49m\u001b[43m(\u001b[49m\n\u001b[1;32m    139\u001b[0m \u001b[43m        \u001b[49m\u001b[43mdataset1\u001b[49m\u001b[38;5;241;43m.\u001b[39;49m\u001b[43mlabel_map\u001b[49m\u001b[43m,\u001b[49m\u001b[43m \u001b[49m\u001b[43mdataset2\u001b[49m\u001b[38;5;241;43m.\u001b[39;49m\u001b[43mlabel_map\u001b[49m\u001b[43m,\u001b[49m\u001b[43m \u001b[49m\u001b[43mmethod\u001b[49m\u001b[38;5;241;43m=\u001b[39;49m\u001b[38;5;124;43m\"\u001b[39;49m\u001b[38;5;124;43mouter\u001b[39;49m\u001b[38;5;124;43m\"\u001b[39;49m\n\u001b[1;32m    140\u001b[0m \u001b[43m    \u001b[49m\u001b[43m)\u001b[49m\n\u001b[1;32m    142\u001b[0m dataset1_images, dataset2_images, booleanized_image_columns \u001b[38;5;241m=\u001b[39m (\n\u001b[1;32m    143\u001b[0m     broadcast_booleanization(\n\u001b[1;32m    144\u001b[0m         dataset1\u001b[38;5;241m.\u001b[39mimages,\n\u001b[0;32m   (...)\u001b[0m\n\u001b[1;32m    148\u001b[0m     )\n\u001b[1;32m    149\u001b[0m )\n\u001b[1;32m    150\u001b[0m dataset1_annotations, dataset2_annotations, booleanized_annotations_columns \u001b[38;5;241m=\u001b[39m (\n\u001b[1;32m    151\u001b[0m     broadcast_booleanization(\n\u001b[1;32m    152\u001b[0m         dataset1\u001b[38;5;241m.\u001b[39mannotations,\n\u001b[0;32m   (...)\u001b[0m\n\u001b[1;32m    156\u001b[0m     )\n\u001b[1;32m    157\u001b[0m )\n",
      "File \u001b[0;32m~/workspace/Bamboo/lours/utils/label_map_merger.py:66\u001b[0m, in \u001b[0;36mmerge_label_maps\u001b[0;34m(left, right, method)\u001b[0m\n\u001b[1;32m     64\u001b[0m     \u001b[38;5;66;03m# The other way around when the other dataset's label map is the biggest\u001b[39;00m\n\u001b[1;32m     65\u001b[0m     \u001b[38;5;28;01mif\u001b[39;00m {k: left[k] \u001b[38;5;28;01mfor\u001b[39;00m k \u001b[38;5;129;01min\u001b[39;00m intersection} \u001b[38;5;241m!=\u001b[39m {k: right[k] \u001b[38;5;28;01mfor\u001b[39;00m k \u001b[38;5;129;01min\u001b[39;00m intersection}:\n\u001b[0;32m---> 66\u001b[0m         \u001b[38;5;28;01mraise\u001b[39;00m IncompatibleLabelMapsError(\u001b[38;5;124m\"\u001b[39m\u001b[38;5;124mLabel maps are incompatible\u001b[39m\u001b[38;5;124m\"\u001b[39m)\n\u001b[1;32m     67\u001b[0m     \u001b[38;5;28;01mreturn\u001b[39;00m left \u001b[38;5;241m|\u001b[39m right\n\u001b[1;32m     68\u001b[0m \u001b[38;5;28;01melse\u001b[39;00m:\n",
      "\u001b[0;31mIncompatibleLabelMapsError\u001b[0m: Label maps are incompatible"
     ]
    }
   ],
   "source": [
    "COCO_pascal.merge(COCO_incompatible)"
   ]
  },
  {
   "cell_type": "markdown",
   "id": "f844b99d",
   "metadata": {},
   "source": [
    "If we lookup the label map of SmartCity, we can see that class labels are not the same for class id 41 (dog vs domestic animal)"
   ]
  },
  {
   "cell_type": "code",
   "execution_count": 39,
   "id": "4e6faca3",
   "metadata": {},
   "outputs": [
    {
     "name": "stdout",
     "output_type": "stream",
     "text": [
      "Incompatible label map for category_id 1 : 'aeroplane' vs 'something else'\n"
     ]
    }
   ],
   "source": [
    "for k, name in COCO_pascal.label_map.items():\n",
    "    other_name = COCO_incompatible.label_map.get(k)\n",
    "    if other_name is not None and other_name != name:\n",
    "        print(\n",
    "            f\"Incompatible label map for category_id {k} : '{name}' vs '{other_name}'\"\n",
    "        )"
   ]
  },
  {
   "cell_type": "markdown",
   "id": "4f944206-fb1a-45ce-80c3-a9c5ac182ece",
   "metadata": {},
   "source": [
    "### Automatic remapping\n",
    "\n",
    "It is possible though to remap a dataset to match another dataset's label map by retrieving categories with the same names.\n",
    "\n",
    "We can use either the `remap_from_other` method or directly use the addition as it will fallback to the automatic remapping with a warning.\n",
    "\n",
    "Note that the merge is effective but you should avoid this fallback mechanism if possible, because label names are not supposed to be used as ids."
   ]
  },
  {
   "cell_type": "code",
   "execution_count": 40,
   "id": "2ad07471",
   "metadata": {},
   "outputs": [
    {
     "name": "stdout",
     "output_type": "stream",
     "text": [
      "Using the following class remapping dictionary :\n",
      "{1: 21,\n",
      " 2: 2,\n",
      " 3: 3,\n",
      " 4: 4,\n",
      " 5: 5,\n",
      " 6: 6,\n",
      " 7: 7,\n",
      " 8: 8,\n",
      " 9: 9,\n",
      " 10: 10,\n",
      " 11: 11,\n",
      " 12: 12,\n",
      " 13: 13,\n",
      " 14: 14,\n",
      " 15: 15,\n",
      " 16: 16,\n",
      " 17: 17,\n",
      " 18: 18,\n",
      " 19: 19,\n",
      " 20: 20}\n"
     ]
    },
    {
     "data": {
      "application/vnd.jupyter.widget-view+json": {
       "model_id": "c1120547b03e442abc27bc1dd3d922d4",
       "version_major": 2,
       "version_minor": 0
      },
      "text/plain": [
       "VBox(children=(HTML(value=\"<p><span style='white-space: pre-wrap; font-weight: bold'>Dataset object containing…"
      ]
     },
     "metadata": {},
     "output_type": "display_data"
    }
   ],
   "source": [
    "remapped = COCO_incompatible.remap_from_other(COCO_pascal)\n",
    "merged = COCO_pascal.merge(remapped)\n",
    "merged"
   ]
  },
  {
   "cell_type": "code",
   "execution_count": 41,
   "id": "192cf38a-f5ab-40e8-bb79-412c56ca7e58",
   "metadata": {},
   "outputs": [
    {
     "name": "stdout",
     "output_type": "stream",
     "text": [
      "Using the following class remapping dictionary :\n",
      "{1: 21,\n",
      " 2: 2,\n",
      " 3: 3,\n",
      " 4: 4,\n",
      " 5: 5,\n",
      " 6: 6,\n",
      " 7: 7,\n",
      " 8: 8,\n",
      " 9: 9,\n",
      " 10: 10,\n",
      " 11: 11,\n",
      " 12: 12,\n",
      " 13: 13,\n",
      " 14: 14,\n",
      " 15: 15,\n",
      " 16: 16,\n",
      " 17: 17,\n",
      " 18: 18,\n",
      " 19: 19,\n",
      " 20: 20}\n"
     ]
    },
    {
     "name": "stderr",
     "output_type": "stream",
     "text": [
      "/Users/clement.pinard/workspace/Bamboo/lours/dataset/dataset.py:2843: RuntimeWarning: Addition failed because of incompatible label maps, trying to remap classes of right value and retry the merge\n",
      "  warn(\n"
     ]
    },
    {
     "data": {
      "application/vnd.jupyter.widget-view+json": {
       "model_id": "891e741c61ef4eee9c8edaf8db76710b",
       "version_major": 2,
       "version_minor": 0
      },
      "text/plain": [
       "VBox(children=(HTML(value=\"<p><span style='white-space: pre-wrap; font-weight: bold'>Dataset object containing…"
      ]
     },
     "metadata": {},
     "output_type": "display_data"
    }
   ],
   "source": [
    "merged = COCO_incompatible + COCO_pascal\n",
    "merged"
   ]
  },
  {
   "cell_type": "markdown",
   "id": "187e2f27-49ee-445e-bae0-80c0a8af1ed4",
   "metadata": {},
   "source": [
    "## Adding annotations to dataset\n",
    "\n",
    "### Standalone annotation addition\n",
    "\n",
    "Similar to [pandas.DataFrame.append](https://pandas.pydata.org/pandas-docs/version/1.4/reference/api/pandas.DataFrame.append.html), you can append one annotation row to your annotations dataframe.\n",
    "\n",
    "Notice the `box_format` option which will let the method take care of the conversion itself. See [lours.utils.bbox_converter](../generated/lours.utils.bbox_converter.rst) for name conventions. For example yolo bboxes are giving box center x and y coordinates plus box height and width, all normalized with frame size. The format is thus `cxcywh`.\n",
    "\n",
    "First, create a dataset with 2 images and no annotation"
   ]
  },
  {
   "cell_type": "code",
   "execution_count": 42,
   "id": "1188a06e-b468-4733-9da7-d46e2a4e5885",
   "metadata": {},
   "outputs": [
    {
     "data": {
      "application/vnd.jupyter.widget-view+json": {
       "model_id": "8ff53f529b73486a9ef4acaf1c15d27f",
       "version_major": 2,
       "version_minor": 0
      },
      "text/plain": [
       "VBox(children=(HTML(value=\"<p><span style='white-space: pre-wrap; font-weight: bold'>Dataset object containing…"
      ]
     },
     "metadata": {},
     "output_type": "display_data"
    }
   ],
   "source": [
    "empty = COCO_pascal.loc_annot[[]].iloc[:2]\n",
    "display(empty)"
   ]
  },
  {
   "cell_type": "markdown",
   "id": "b416871a-ae6f-42ae-b2cc-9907f688dae3",
   "metadata": {},
   "source": [
    "Here, we add one bounding box, for the first image. the box is a quarter of the image (half the height and half the width) and is at the top-left corner of the image."
   ]
  },
  {
   "cell_type": "code",
   "execution_count": 43,
   "id": "caade903-3cf9-4cd9-b11d-67c9b028eaa8",
   "metadata": {},
   "outputs": [
    {
     "data": {
      "application/vnd.jupyter.widget-view+json": {
       "model_id": "8e1170f526454fa09c7b74e7eb8774df",
       "version_major": 2,
       "version_minor": 0
      },
      "text/plain": [
       "VBox(children=(HTML(value=\"<p><span style='white-space: pre-wrap; font-weight: bold'>Dataset object containing…"
      ]
     },
     "metadata": {},
     "output_type": "display_data"
    }
   ],
   "source": [
    "empty.add_detection_annotation(\n",
    "    format_string=\"cxcywh\",\n",
    "    image_id=352582,\n",
    "    bbox_coordinates=[0.75, 0.75, 0.5, 0.5],\n",
    "    confidence=0.5,\n",
    "    category_id=20,\n",
    ")"
   ]
  },
  {
   "cell_type": "markdown",
   "id": "72f9191a-8909-4029-a8f8-412cae67f1c5",
   "metadata": {},
   "source": [
    "### Introduction the AnnotationAppender context manager\n",
    "\n",
    "Similarly to [pandas.DataFrame.append](https://pandas.pydata.org/pandas-docs/version/1.4/reference/api/pandas.DataFrame.append.html), calling this method multiple times is discouraged, because each time it creates a new dataframe with only one more row.\n",
    "\n",
    "What you can do instead is use the `annotation_append` method with a context manager. This appender will cache all the added annotation and will only append the consolidated data when exiting the context.\n",
    "\n",
    "This is very useful when running an inference on a whole dataset.\n",
    "\n",
    "Note that this operation is inplace !"
   ]
  },
  {
   "cell_type": "code",
   "execution_count": 44,
   "id": "5d2b9fe1-0f1e-4ac3-8bb5-bd82a07ae7a0",
   "metadata": {},
   "outputs": [
    {
     "name": "stdout",
     "output_type": "stream",
     "text": [
      "0\n"
     ]
    },
    {
     "name": "stderr",
     "output_type": "stream",
     "text": [
      "/Users/clement.pinard/workspace/Bamboo/lours/dataset/dataset.py:1004: UserWarning: Incomplete Label map, setting following label of the following id to their string equivalent : {21}\n",
      "  warn(\n"
     ]
    },
    {
     "data": {
      "application/vnd.jupyter.widget-view+json": {
       "model_id": "8434e5f7d00a4bd8a08920774d7cb8d9",
       "version_major": 2,
       "version_minor": 0
      },
      "text/plain": [
       "VBox(children=(HTML(value=\"<p><span style='white-space: pre-wrap; font-weight: bold'>Dataset object containing…"
      ]
     },
     "metadata": {},
     "output_type": "display_data"
    }
   ],
   "source": [
    "with empty.annotation_append(format_string=\"cxcywh\") as appender:\n",
    "    appender.append(\n",
    "        image_id=352582,\n",
    "        bbox_coordinates=[0.75, 0.75, 0.5, 0.5],\n",
    "        confidence=0.5,\n",
    "        category_id=20,\n",
    "    )\n",
    "    appender.append(\n",
    "        image_id=113354,\n",
    "        bbox_coordinates=[0.25, 0.25, 0.5, 0.5],\n",
    "        confidence=0.5,\n",
    "        category_id=21,\n",
    "    )\n",
    "    print(empty.len_annot())  # Note that the dataset is not changed here\n",
    "\n",
    "display(empty)"
   ]
  }
 ],
 "metadata": {
  "kernelspec": {
   "display_name": "Python 3 (ipykernel)",
   "language": "python",
   "name": "python3"
  },
  "language_info": {
   "codemirror_mode": {
    "name": "ipython",
    "version": 3
   },
   "file_extension": ".py",
   "mimetype": "text/x-python",
   "name": "python",
   "nbconvert_exporter": "python",
   "pygments_lexer": "ipython3",
   "version": "3.11.9"
  },
  "widgets": {
   "application/vnd.jupyter.widget-state+json": {
    "state": {
     "003973ba6429441696690892068b30b5": {
      "model_module": "@jupyter-widgets/output",
      "model_module_version": "1.0.0",
      "model_name": "OutputModel",
      "state": {
       "layout": "IPY_MODEL_0f141228b6734487b226c5525b127ab0",
       "outputs": [
        {
         "data": {
          "text/html": "<div>\n<style scoped>\n    .dataframe tbody tr th:only-of-type {\n        vertical-align: middle;\n    }\n\n    .dataframe tbody tr th {\n        vertical-align: top;\n    }\n\n    .dataframe thead th {\n        text-align: right;\n    }\n</style>\n<table border=\"1\" class=\"dataframe\">\n  <thead>\n    <tr style=\"text-align: right;\">\n      <th></th>\n      <th>category string</th>\n    </tr>\n    <tr>\n      <th>category_id</th>\n      <th></th>\n    </tr>\n  </thead>\n  <tbody>\n    <tr>\n      <th>1</th>\n      <td>person</td>\n    </tr>\n    <tr>\n      <th>2</th>\n      <td>bicycle</td>\n    </tr>\n    <tr>\n      <th>3</th>\n      <td>car</td>\n    </tr>\n    <tr>\n      <th>4</th>\n      <td>motorcycle</td>\n    </tr>\n    <tr>\n      <th>5</th>\n      <td>airplane</td>\n    </tr>\n    <tr>\n      <th>...</th>\n      <td>...</td>\n    </tr>\n    <tr>\n      <th>86</th>\n      <td>vase</td>\n    </tr>\n    <tr>\n      <th>87</th>\n      <td>scissors</td>\n    </tr>\n    <tr>\n      <th>88</th>\n      <td>teddy bear</td>\n    </tr>\n    <tr>\n      <th>89</th>\n      <td>hair drier</td>\n    </tr>\n    <tr>\n      <th>90</th>\n      <td>toothbrush</td>\n    </tr>\n  </tbody>\n</table>\n<p>80 rows × 1 columns</p>\n</div>",
          "text/plain": "            category string\ncategory_id                \n1                    person\n2                   bicycle\n3                       car\n4                motorcycle\n5                  airplane\n...                     ...\n86                     vase\n87                 scissors\n88               teddy bear\n89               hair drier\n90               toothbrush\n\n[80 rows x 1 columns]"
         },
         "metadata": {},
         "output_type": "display_data"
        }
       ]
      }
     },
     "011f9537a8584b1f818c73bd4f1dedf8": {
      "model_module": "@jupyter-widgets/base",
      "model_module_version": "2.0.0",
      "model_name": "LayoutModel",
      "state": {}
     },
     "0192e057585f45b2bc91c03e163d744f": {
      "model_module": "@jupyter-widgets/base",
      "model_module_version": "2.0.0",
      "model_name": "LayoutModel",
      "state": {}
     },
     "01f868101b094c23b48e203b66298705": {
      "model_module": "@jupyter-widgets/output",
      "model_module_version": "1.0.0",
      "model_name": "OutputModel",
      "state": {
       "layout": "IPY_MODEL_c0010570c6a04f1b978cf99e5d075b34",
       "outputs": [
        {
         "data": {
          "text/html": "<div>\n<style scoped>\n    .dataframe tbody tr th:only-of-type {\n        vertical-align: middle;\n    }\n\n    .dataframe tbody tr th {\n        vertical-align: top;\n    }\n\n    .dataframe thead th {\n        text-align: right;\n    }\n</style>\n<table border=\"1\" class=\"dataframe\">\n  <thead>\n    <tr style=\"text-align: right;\">\n      <th></th>\n      <th>category string</th>\n    </tr>\n    <tr>\n      <th>category_id</th>\n      <th></th>\n    </tr>\n  </thead>\n  <tbody>\n    <tr>\n      <th>1</th>\n      <td>person</td>\n    </tr>\n    <tr>\n      <th>2</th>\n      <td>bicycle</td>\n    </tr>\n    <tr>\n      <th>3</th>\n      <td>car</td>\n    </tr>\n    <tr>\n      <th>4</th>\n      <td>motorcycle</td>\n    </tr>\n    <tr>\n      <th>5</th>\n      <td>airplane</td>\n    </tr>\n    <tr>\n      <th>...</th>\n      <td>...</td>\n    </tr>\n    <tr>\n      <th>86</th>\n      <td>vase</td>\n    </tr>\n    <tr>\n      <th>87</th>\n      <td>scissors</td>\n    </tr>\n    <tr>\n      <th>88</th>\n      <td>teddy bear</td>\n    </tr>\n    <tr>\n      <th>89</th>\n      <td>hair drier</td>\n    </tr>\n    <tr>\n      <th>90</th>\n      <td>toothbrush</td>\n    </tr>\n  </tbody>\n</table>\n<p>80 rows × 1 columns</p>\n</div>",
          "text/plain": "            category string\ncategory_id                \n1                    person\n2                   bicycle\n3                       car\n4                motorcycle\n5                  airplane\n...                     ...\n86                     vase\n87                 scissors\n88               teddy bear\n89               hair drier\n90               toothbrush\n\n[80 rows x 1 columns]"
         },
         "metadata": {},
         "output_type": "display_data"
        }
       ]
      }
     },
     "0207c44a5d5142f5bdc2c9757b174ff4": {
      "model_module": "@jupyter-widgets/base",
      "model_module_version": "2.0.0",
      "model_name": "LayoutModel",
      "state": {}
     },
     "026b7cd5221b4ea3baf71572d7437064": {
      "model_module": "@jupyter-widgets/output",
      "model_module_version": "1.0.0",
      "model_name": "OutputModel",
      "state": {
       "layout": "IPY_MODEL_d89a9273a3264bdc8aaeac981e15bd3b",
       "outputs": [
        {
         "data": {
          "text/html": "<div>\n<style scoped>\n    .dataframe tbody tr th:only-of-type {\n        vertical-align: middle;\n    }\n\n    .dataframe tbody tr th {\n        vertical-align: top;\n    }\n\n    .dataframe thead th {\n        text-align: right;\n    }\n</style>\n<table border=\"1\" class=\"dataframe\">\n  <thead>\n    <tr style=\"text-align: right;\">\n      <th></th>\n      <th>image_id</th>\n      <th>category_str</th>\n      <th>category_id</th>\n      <th>split</th>\n      <th>box_x_min</th>\n      <th>box_y_min</th>\n      <th>box_width</th>\n      <th>box_height</th>\n      <th>area</th>\n    </tr>\n    <tr>\n      <th>id</th>\n      <th></th>\n      <th></th>\n      <th></th>\n      <th></th>\n      <th></th>\n      <th></th>\n      <th></th>\n      <th></th>\n      <th></th>\n    </tr>\n  </thead>\n  <tbody>\n    <tr>\n      <th>460450</th>\n      <td>352582</td>\n      <td>person</td>\n      <td>1</td>\n      <td>valid</td>\n      <td>112.43</td>\n      <td>195.32</td>\n      <td>214.78</td>\n      <td>438.19</td>\n      <td>48685.67910</td>\n    </tr>\n    <tr>\n      <th>535917</th>\n      <td>352582</td>\n      <td>person</td>\n      <td>1</td>\n      <td>valid</td>\n      <td>0.00</td>\n      <td>256.00</td>\n      <td>80.54</td>\n      <td>376.81</td>\n      <td>22650.73800</td>\n    </tr>\n    <tr>\n      <th>602093</th>\n      <td>352582</td>\n      <td>frisbee</td>\n      <td>34</td>\n      <td>valid</td>\n      <td>171.63</td>\n      <td>424.03</td>\n      <td>85.89</td>\n      <td>40.67</td>\n      <td>2605.72090</td>\n    </tr>\n    <tr>\n      <th>589077</th>\n      <td>113354</td>\n      <td>zebra</td>\n      <td>24</td>\n      <td>valid</td>\n      <td>260.99</td>\n      <td>158.88</td>\n      <td>141.52</td>\n      <td>194.11</td>\n      <td>9978.94125</td>\n    </tr>\n    <tr>\n      <th>589740</th>\n      <td>113354</td>\n      <td>zebra</td>\n      <td>24</td>\n      <td>valid</td>\n      <td>366.49</td>\n      <td>174.59</td>\n      <td>115.67</td>\n      <td>142.71</td>\n      <td>5784.68620</td>\n    </tr>\n    <tr>\n      <th>...</th>\n      <td>...</td>\n      <td>...</td>\n      <td>...</td>\n      <td>...</td>\n      <td>...</td>\n      <td>...</td>\n      <td>...</td>\n      <td>...</td>\n      <td>...</td>\n    </tr>\n    <tr>\n      <th>331107</th>\n      <td>349837</td>\n      <td>refrigerator</td>\n      <td>82</td>\n      <td>valid</td>\n      <td>66.00</td>\n      <td>94.87</td>\n      <td>71.25</td>\n      <td>194.26</td>\n      <td>12029.44125</td>\n    </tr>\n    <tr>\n      <th>332788</th>\n      <td>349837</td>\n      <td>refrigerator</td>\n      <td>82</td>\n      <td>valid</td>\n      <td>138.00</td>\n      <td>62.63</td>\n      <td>98.25</td>\n      <td>252.00</td>\n      <td>23037.46875</td>\n    </tr>\n    <tr>\n      <th>333394</th>\n      <td>349837</td>\n      <td>refrigerator</td>\n      <td>82</td>\n      <td>valid</td>\n      <td>234.44</td>\n      <td>29.87</td>\n      <td>113.49</td>\n      <td>298.65</td>\n      <td>30406.51295</td>\n    </tr>\n    <tr>\n      <th>333685</th>\n      <td>349837</td>\n      <td>refrigerator</td>\n      <td>82</td>\n      <td>valid</td>\n      <td>335.04</td>\n      <td>10.48</td>\n      <td>125.17</td>\n      <td>318.78</td>\n      <td>37187.97840</td>\n    </tr>\n    <tr>\n      <th>333731</th>\n      <td>349837</td>\n      <td>refrigerator</td>\n      <td>82</td>\n      <td>valid</td>\n      <td>460.39</td>\n      <td>0.00</td>\n      <td>39.61</td>\n      <td>328.64</td>\n      <td>12492.52165</td>\n    </tr>\n  </tbody>\n</table>\n<p>34818 rows × 9 columns</p>\n</div>",
          "text/plain": "        image_id  category_str  category_id  split  box_x_min  box_y_min  \\\nid                                                                         \n460450    352582        person            1  valid     112.43     195.32   \n535917    352582        person            1  valid       0.00     256.00   \n602093    352582       frisbee           34  valid     171.63     424.03   \n589077    113354         zebra           24  valid     260.99     158.88   \n589740    113354         zebra           24  valid     366.49     174.59   \n...          ...           ...          ...    ...        ...        ...   \n331107    349837  refrigerator           82  valid      66.00      94.87   \n332788    349837  refrigerator           82  valid     138.00      62.63   \n333394    349837  refrigerator           82  valid     234.44      29.87   \n333685    349837  refrigerator           82  valid     335.04      10.48   \n333731    349837  refrigerator           82  valid     460.39       0.00   \n\n        box_width  box_height         area  \nid                                          \n460450     214.78      438.19  48685.67910  \n535917      80.54      376.81  22650.73800  \n602093      85.89       40.67   2605.72090  \n589077     141.52      194.11   9978.94125  \n589740     115.67      142.71   5784.68620  \n...           ...         ...          ...  \n331107      71.25      194.26  12029.44125  \n332788      98.25      252.00  23037.46875  \n333394     113.49      298.65  30406.51295  \n333685     125.17      318.78  37187.97840  \n333731      39.61      328.64  12492.52165  \n\n[34818 rows x 9 columns]"
         },
         "metadata": {},
         "output_type": "display_data"
        }
       ]
      }
     },
     "0324997a024e48a282a0acc8c897a940": {
      "model_module": "@jupyter-widgets/controls",
      "model_module_version": "2.0.0",
      "model_name": "VBoxModel",
      "state": {
       "children": [
        "IPY_MODEL_5bfb24a8b50e45cf952978da02f50a3e",
        "IPY_MODEL_4f24b4c99bbd4bb986f611bdc3cb0cc5"
       ],
       "layout": "IPY_MODEL_9d15ec8503094cc2b2668aaeacb22cb8"
      }
     },
     "03612feab58e4d9aabc7ddeebd96c2d3": {
      "model_module": "@jupyter-widgets/base",
      "model_module_version": "2.0.0",
      "model_name": "LayoutModel",
      "state": {}
     },
     "03a9542f0e794f079aad4ea10017013f": {
      "model_module": "@jupyter-widgets/controls",
      "model_module_version": "2.0.0",
      "model_name": "HTMLStyleModel",
      "state": {
       "description_width": "",
       "font_size": null,
       "text_color": null
      }
     },
     "0950d27d57f14519bb7d47741f951050": {
      "model_module": "@jupyter-widgets/base",
      "model_module_version": "2.0.0",
      "model_name": "LayoutModel",
      "state": {}
     },
     "0a41d889cee04896b371be88fb621959": {
      "model_module": "@jupyter-widgets/base",
      "model_module_version": "2.0.0",
      "model_name": "LayoutModel",
      "state": {}
     },
     "0b06b68be3734a76b0db0808865c20f6": {
      "model_module": "@jupyter-widgets/controls",
      "model_module_version": "2.0.0",
      "model_name": "VBoxModel",
      "state": {
       "children": [
        "IPY_MODEL_8a0098265e3d4d468308cb112570d1eb",
        "IPY_MODEL_35c08fe2ab8f4a2ab98fc4dbc7902325"
       ],
       "layout": "IPY_MODEL_887db8657dbf4b9182d34277082dfbeb"
      }
     },
     "0c28b3bd2999413286338ace0fc5d4f7": {
      "model_module": "@jupyter-widgets/controls",
      "model_module_version": "2.0.0",
      "model_name": "HTMLModel",
      "state": {
       "layout": "IPY_MODEL_53b65b08631e4456a44b729be6620421",
       "style": "IPY_MODEL_5bfc0fd678c2438e992a5d4eca371e60",
       "value": "<p><span style='white-space: pre-wrap; font-weight: bold'>Dataset object containing 5,000 images and 9,946 objects\nName :\n\tcoco\nImages root :\n\tnotebook_data</span></p>"
      }
     },
     "0c5d2aa95978492b96a43dd491bb1ce0": {
      "model_module": "@jupyter-widgets/base",
      "model_module_version": "2.0.0",
      "model_name": "LayoutModel",
      "state": {}
     },
     "0d15ad48494c4511b4e2a3593479f44d": {
      "model_module": "@jupyter-widgets/controls",
      "model_module_version": "2.0.0",
      "model_name": "TabModel",
      "state": {
       "children": [
        "IPY_MODEL_aea9b77bd8d14a21aba81dc81fe0e8cd",
        "IPY_MODEL_d8da17be643c4a63813fb457a14bd259",
        "IPY_MODEL_f61c9d7c59b849afb523a7044b316296"
       ],
       "layout": "IPY_MODEL_a3ccb2ad017443f2b271f9140538e20a",
       "selected_index": 0,
       "titles": [
        "Images",
        "Annotations",
        "Label Map"
       ]
      }
     },
     "0de44c2755cc44d698d99fb3254ea773": {
      "model_module": "@jupyter-widgets/controls",
      "model_module_version": "2.0.0",
      "model_name": "HTMLStyleModel",
      "state": {
       "description_width": "",
       "font_size": null,
       "text_color": null
      }
     },
     "0e3375a643124cf9bbe53c4c807fde5f": {
      "model_module": "@jupyter-widgets/base",
      "model_module_version": "2.0.0",
      "model_name": "LayoutModel",
      "state": {}
     },
     "0ed3d4a3ff4949cb924eb8df126f35ec": {
      "model_module": "@jupyter-widgets/controls",
      "model_module_version": "2.0.0",
      "model_name": "HTMLModel",
      "state": {
       "layout": "IPY_MODEL_2688ffd92c114b6db55756eb9490056b",
       "style": "IPY_MODEL_cb80ecd92080438fa9609089ad11c3ca",
       "value": "<p><span style='white-space: pre-wrap; font-weight: bold'>Dataset object containing 5,000 images and 36,781 objects\nName :\n\tcoco\nImages root :\n\tnotebook_data</span></p>"
      }
     },
     "0f141228b6734487b226c5525b127ab0": {
      "model_module": "@jupyter-widgets/base",
      "model_module_version": "2.0.0",
      "model_name": "LayoutModel",
      "state": {}
     },
     "1015c44d1eff42be909b27d029faedab": {
      "model_module": "@jupyter-widgets/controls",
      "model_module_version": "2.0.0",
      "model_name": "HTMLModel",
      "state": {
       "layout": "IPY_MODEL_14b9ce2ddbb348d9ae3fd5dab884ad14",
       "style": "IPY_MODEL_36ea5bee58d347cb943a1e3773c9b1a9",
       "value": "<p><span style='white-space: pre-wrap; font-weight: bold'>Dataset object containing 5,000 images and 41,900 objects\nName :\n\tcoco\nImages root :\n\tnotebook_data</span></p>"
      }
     },
     "10389948eb0448bfb97290f8ee6e4654": {
      "model_module": "@jupyter-widgets/base",
      "model_module_version": "2.0.0",
      "model_name": "LayoutModel",
      "state": {}
     },
     "11713b7e91d44480ae51c2e032c722f2": {
      "model_module": "@jupyter-widgets/base",
      "model_module_version": "2.0.0",
      "model_name": "LayoutModel",
      "state": {}
     },
     "11d328b63a934f189ade88c99e48d93c": {
      "model_module": "@jupyter-widgets/controls",
      "model_module_version": "2.0.0",
      "model_name": "HTMLModel",
      "state": {
       "layout": "IPY_MODEL_6b87f1dc969a461997795cc9c83e9312",
       "style": "IPY_MODEL_899cfc3a72f241b29a91abc01b84aee7",
       "value": "<p><span style='white-space: pre-wrap; font-weight: bold'>Dataset object containing 2 images and 1 object\nName :\n\tcoco\nImages root :\n\tnotebook_data</span></p>"
      }
     },
     "138b3dfb7b344e32b7c97d0d52aad09a": {
      "model_module": "@jupyter-widgets/output",
      "model_module_version": "1.0.0",
      "model_name": "OutputModel",
      "state": {
       "layout": "IPY_MODEL_25f0fc1cdb4d4ced8da828dad1538444",
       "outputs": [
        {
         "data": {
          "text/html": "<div>\n<style scoped>\n    .dataframe tbody tr th:only-of-type {\n        vertical-align: middle;\n    }\n\n    .dataframe tbody tr th {\n        vertical-align: top;\n    }\n\n    .dataframe thead th {\n        text-align: right;\n    }\n</style>\n<table border=\"1\" class=\"dataframe\">\n  <thead>\n    <tr style=\"text-align: right;\">\n      <th></th>\n      <th>width</th>\n      <th>height</th>\n      <th>relative_path</th>\n      <th>type</th>\n      <th>split</th>\n    </tr>\n    <tr>\n      <th>id</th>\n      <th></th>\n      <th></th>\n      <th></th>\n      <th></th>\n      <th></th>\n    </tr>\n  </thead>\n  <tbody>\n    <tr>\n      <th>352582</th>\n      <td>425</td>\n      <td>640</td>\n      <td>Images/valid/000000352582.jpg</td>\n      <td>.jpg</td>\n      <td>valid</td>\n    </tr>\n    <tr>\n      <th>113354</th>\n      <td>640</td>\n      <td>480</td>\n      <td>Images/valid/000000113354.jpg</td>\n      <td>.jpg</td>\n      <td>valid</td>\n    </tr>\n    <tr>\n      <th>58393</th>\n      <td>640</td>\n      <td>486</td>\n      <td>Images/valid/000000058393.jpg</td>\n      <td>.jpg</td>\n      <td>valid</td>\n    </tr>\n    <tr>\n      <th>147729</th>\n      <td>500</td>\n      <td>375</td>\n      <td>Images/valid/000000147729.jpg</td>\n      <td>.jpg</td>\n      <td>valid</td>\n    </tr>\n    <tr>\n      <th>310072</th>\n      <td>640</td>\n      <td>383</td>\n      <td>Images/valid/000000310072.jpg</td>\n      <td>.jpg</td>\n      <td>valid</td>\n    </tr>\n    <tr>\n      <th>...</th>\n      <td>...</td>\n      <td>...</td>\n      <td>...</td>\n      <td>...</td>\n      <td>...</td>\n    </tr>\n    <tr>\n      <th>311180</th>\n      <td>480</td>\n      <td>640</td>\n      <td>Images/valid/000000311180.jpg</td>\n      <td>.jpg</td>\n      <td>valid</td>\n    </tr>\n    <tr>\n      <th>302030</th>\n      <td>640</td>\n      <td>359</td>\n      <td>Images/valid/000000302030.jpg</td>\n      <td>.jpg</td>\n      <td>valid</td>\n    </tr>\n    <tr>\n      <th>105455</th>\n      <td>427</td>\n      <td>640</td>\n      <td>Images/valid/000000105455.jpg</td>\n      <td>.jpg</td>\n      <td>valid</td>\n    </tr>\n    <tr>\n      <th>428280</th>\n      <td>500</td>\n      <td>333</td>\n      <td>Images/valid/000000428280.jpg</td>\n      <td>.jpg</td>\n      <td>valid</td>\n    </tr>\n    <tr>\n      <th>349837</th>\n      <td>500</td>\n      <td>333</td>\n      <td>Images/valid/000000349837.jpg</td>\n      <td>.jpg</td>\n      <td>valid</td>\n    </tr>\n  </tbody>\n</table>\n<p>5000 rows × 5 columns</p>\n</div>",
          "text/plain": "        width  height                  relative_path  type  split\nid                                                               \n352582    425     640  Images/valid/000000352582.jpg  .jpg  valid\n113354    640     480  Images/valid/000000113354.jpg  .jpg  valid\n58393     640     486  Images/valid/000000058393.jpg  .jpg  valid\n147729    500     375  Images/valid/000000147729.jpg  .jpg  valid\n310072    640     383  Images/valid/000000310072.jpg  .jpg  valid\n...       ...     ...                            ...   ...    ...\n311180    480     640  Images/valid/000000311180.jpg  .jpg  valid\n302030    640     359  Images/valid/000000302030.jpg  .jpg  valid\n105455    427     640  Images/valid/000000105455.jpg  .jpg  valid\n428280    500     333  Images/valid/000000428280.jpg  .jpg  valid\n349837    500     333  Images/valid/000000349837.jpg  .jpg  valid\n\n[5000 rows x 5 columns]"
         },
         "metadata": {},
         "output_type": "display_data"
        }
       ]
      }
     },
     "13a7f428c4b34e439869a71eef1664dd": {
      "model_module": "@jupyter-widgets/controls",
      "model_module_version": "2.0.0",
      "model_name": "HTMLStyleModel",
      "state": {
       "description_width": "",
       "font_size": null,
       "text_color": null
      }
     },
     "1439575ff6fb43709efa478aee4c5744": {
      "model_module": "@jupyter-widgets/output",
      "model_module_version": "1.0.0",
      "model_name": "OutputModel",
      "state": {
       "layout": "IPY_MODEL_6fef19ee787a402db9fbcc046ee65a2f",
       "outputs": [
        {
         "data": {
          "text/html": "<div>\n<style scoped>\n    .dataframe tbody tr th:only-of-type {\n        vertical-align: middle;\n    }\n\n    .dataframe tbody tr th {\n        vertical-align: top;\n    }\n\n    .dataframe thead th {\n        text-align: right;\n    }\n</style>\n<table border=\"1\" class=\"dataframe\">\n  <thead>\n    <tr style=\"text-align: right;\">\n      <th></th>\n      <th>image_id</th>\n      <th>category_str</th>\n      <th>category_id</th>\n      <th>split</th>\n      <th>box_x_min</th>\n      <th>box_y_min</th>\n      <th>box_width</th>\n      <th>box_height</th>\n      <th>area</th>\n    </tr>\n    <tr>\n      <th>id</th>\n      <th></th>\n      <th></th>\n      <th></th>\n      <th></th>\n      <th></th>\n      <th></th>\n      <th></th>\n      <th></th>\n      <th></th>\n    </tr>\n  </thead>\n  <tbody>\n    <tr>\n      <th>535917</th>\n      <td>352582</td>\n      <td>person</td>\n      <td>1</td>\n      <td>valid</td>\n      <td>0.00</td>\n      <td>256.00</td>\n      <td>80.54</td>\n      <td>376.81</td>\n      <td>22650.73800</td>\n    </tr>\n    <tr>\n      <th>589077</th>\n      <td>113354</td>\n      <td>zebra</td>\n      <td>24</td>\n      <td>valid</td>\n      <td>260.99</td>\n      <td>158.88</td>\n      <td>141.52</td>\n      <td>194.11</td>\n      <td>9978.94125</td>\n    </tr>\n    <tr>\n      <th>592005</th>\n      <td>113354</td>\n      <td>zebra</td>\n      <td>24</td>\n      <td>valid</td>\n      <td>3.24</td>\n      <td>151.28</td>\n      <td>265.34</td>\n      <td>175.82</td>\n      <td>16206.37480</td>\n    </tr>\n    <tr>\n      <th>576900</th>\n      <td>58393</td>\n      <td>bench</td>\n      <td>15</td>\n      <td>valid</td>\n      <td>44.78</td>\n      <td>242.27</td>\n      <td>547.16</td>\n      <td>224.98</td>\n      <td>82291.54995</td>\n    </tr>\n    <tr>\n      <th>322417</th>\n      <td>147729</td>\n      <td>cell phone</td>\n      <td>77</td>\n      <td>valid</td>\n      <td>254.48</td>\n      <td>117.54</td>\n      <td>49.92</td>\n      <td>75.00</td>\n      <td>1306.79705</td>\n    </tr>\n    <tr>\n      <th>...</th>\n      <td>...</td>\n      <td>...</td>\n      <td>...</td>\n      <td>...</td>\n      <td>...</td>\n      <td>...</td>\n      <td>...</td>\n      <td>...</td>\n      <td>...</td>\n    </tr>\n    <tr>\n      <th>578099</th>\n      <td>428280</td>\n      <td>bench</td>\n      <td>15</td>\n      <td>valid</td>\n      <td>0.75</td>\n      <td>184.42</td>\n      <td>181.43</td>\n      <td>132.90</td>\n      <td>13841.81490</td>\n    </tr>\n    <tr>\n      <th>1117514</th>\n      <td>428280</td>\n      <td>keyboard</td>\n      <td>76</td>\n      <td>valid</td>\n      <td>121.04</td>\n      <td>165.65</td>\n      <td>40.27</td>\n      <td>6.02</td>\n      <td>217.08440</td>\n    </tr>\n    <tr>\n      <th>330925</th>\n      <td>349837</td>\n      <td>refrigerator</td>\n      <td>82</td>\n      <td>valid</td>\n      <td>14.97</td>\n      <td>104.02</td>\n      <td>62.11</td>\n      <td>166.12</td>\n      <td>8470.60700</td>\n    </tr>\n    <tr>\n      <th>332788</th>\n      <td>349837</td>\n      <td>refrigerator</td>\n      <td>82</td>\n      <td>valid</td>\n      <td>138.00</td>\n      <td>62.63</td>\n      <td>98.25</td>\n      <td>252.00</td>\n      <td>23037.46875</td>\n    </tr>\n    <tr>\n      <th>333685</th>\n      <td>349837</td>\n      <td>refrigerator</td>\n      <td>82</td>\n      <td>valid</td>\n      <td>335.04</td>\n      <td>10.48</td>\n      <td>125.17</td>\n      <td>318.78</td>\n      <td>37187.97840</td>\n    </tr>\n  </tbody>\n</table>\n<p>18390 rows × 9 columns</p>\n</div>",
          "text/plain": "         image_id  category_str  category_id  split  box_x_min  box_y_min  \\\nid                                                                          \n535917     352582        person            1  valid       0.00     256.00   \n589077     113354         zebra           24  valid     260.99     158.88   \n592005     113354         zebra           24  valid       3.24     151.28   \n576900      58393         bench           15  valid      44.78     242.27   \n322417     147729    cell phone           77  valid     254.48     117.54   \n...           ...           ...          ...    ...        ...        ...   \n578099     428280         bench           15  valid       0.75     184.42   \n1117514    428280      keyboard           76  valid     121.04     165.65   \n330925     349837  refrigerator           82  valid      14.97     104.02   \n332788     349837  refrigerator           82  valid     138.00      62.63   \n333685     349837  refrigerator           82  valid     335.04      10.48   \n\n         box_width  box_height         area  \nid                                           \n535917       80.54      376.81  22650.73800  \n589077      141.52      194.11   9978.94125  \n592005      265.34      175.82  16206.37480  \n576900      547.16      224.98  82291.54995  \n322417       49.92       75.00   1306.79705  \n...            ...         ...          ...  \n578099      181.43      132.90  13841.81490  \n1117514      40.27        6.02    217.08440  \n330925       62.11      166.12   8470.60700  \n332788       98.25      252.00  23037.46875  \n333685      125.17      318.78  37187.97840  \n\n[18390 rows x 9 columns]"
         },
         "metadata": {},
         "output_type": "display_data"
        }
       ]
      }
     },
     "14b9ce2ddbb348d9ae3fd5dab884ad14": {
      "model_module": "@jupyter-widgets/base",
      "model_module_version": "2.0.0",
      "model_name": "LayoutModel",
      "state": {}
     },
     "154a1b375375452988f208e85549c375": {
      "model_module": "@jupyter-widgets/output",
      "model_module_version": "1.0.0",
      "model_name": "OutputModel",
      "state": {
       "layout": "IPY_MODEL_f2c0045fe58b43f59f4729a0edddcbdd",
       "outputs": [
        {
         "data": {
          "text/html": "<div>\n<style scoped>\n    .dataframe tbody tr th:only-of-type {\n        vertical-align: middle;\n    }\n\n    .dataframe tbody tr th {\n        vertical-align: top;\n    }\n\n    .dataframe thead th {\n        text-align: right;\n    }\n</style>\n<table border=\"1\" class=\"dataframe\">\n  <thead>\n    <tr style=\"text-align: right;\">\n      <th></th>\n      <th>category string</th>\n    </tr>\n    <tr>\n      <th>category_id</th>\n      <th></th>\n    </tr>\n  </thead>\n  <tbody>\n    <tr>\n      <th>1</th>\n      <td>animal</td>\n    </tr>\n    <tr>\n      <th>2</th>\n      <td>vehicle</td>\n    </tr>\n    <tr>\n      <th>3</th>\n      <td>object</td>\n    </tr>\n  </tbody>\n</table>\n</div>",
          "text/plain": "            category string\ncategory_id                \n1                    animal\n2                   vehicle\n3                    object"
         },
         "metadata": {},
         "output_type": "display_data"
        }
       ]
      }
     },
     "160d21b7b91544a69bd0ec984366f70e": {
      "model_module": "@jupyter-widgets/base",
      "model_module_version": "2.0.0",
      "model_name": "LayoutModel",
      "state": {}
     },
     "164a53399de6479db15055e945ecbdd1": {
      "model_module": "@jupyter-widgets/base",
      "model_module_version": "2.0.0",
      "model_name": "LayoutModel",
      "state": {}
     },
     "16504d84d20a4054ac3cecaf37bde11d": {
      "model_module": "@jupyter-widgets/base",
      "model_module_version": "2.0.0",
      "model_name": "LayoutModel",
      "state": {}
     },
     "1830c6af94d14cc9b2a0f995de05de0e": {
      "model_module": "@jupyter-widgets/controls",
      "model_module_version": "2.0.0",
      "model_name": "VBoxModel",
      "state": {
       "children": [
        "IPY_MODEL_ea8cea5708c2485c9e3df8088c556f5c",
        "IPY_MODEL_48d1ff71f56c4763a7ac4d3736fbddf1"
       ],
       "layout": "IPY_MODEL_afb1b69762974288866c8d07a7ccc0cb"
      }
     },
     "196967d5069f4d189f12628fb951211b": {
      "model_module": "@jupyter-widgets/base",
      "model_module_version": "2.0.0",
      "model_name": "LayoutModel",
      "state": {}
     },
     "1a085fad85ae473fbbcfce695d050dc2": {
      "model_module": "@jupyter-widgets/base",
      "model_module_version": "2.0.0",
      "model_name": "LayoutModel",
      "state": {}
     },
     "1ab75e49bbbc4821a82133fbe61f062e": {
      "model_module": "@jupyter-widgets/base",
      "model_module_version": "2.0.0",
      "model_name": "LayoutModel",
      "state": {}
     },
     "1b66cc1c194b4bb1b4de420e94dd4e1a": {
      "model_module": "@jupyter-widgets/base",
      "model_module_version": "2.0.0",
      "model_name": "LayoutModel",
      "state": {}
     },
     "1ca7cc3b062b49f99c27a62e8fda36e5": {
      "model_module": "@jupyter-widgets/controls",
      "model_module_version": "2.0.0",
      "model_name": "TabModel",
      "state": {
       "children": [
        "IPY_MODEL_aab9806ceeab454f9401385c09ef3e1a",
        "IPY_MODEL_9bd2a2ec87cd4d1cbe44151178f04c26",
        "IPY_MODEL_dabce91a4a4b454dabeb9c3a486c0d43"
       ],
       "layout": "IPY_MODEL_4c5b28016ec346c8978de6c783d973ae",
       "selected_index": 0,
       "titles": [
        "Images",
        "Annotations",
        "Label Map"
       ]
      }
     },
     "1cf069555e2548a9919cb3015944892c": {
      "model_module": "@jupyter-widgets/output",
      "model_module_version": "1.0.0",
      "model_name": "OutputModel",
      "state": {
       "layout": "IPY_MODEL_e82f91fa62f44f708868b2c85acde7b1",
       "outputs": [
        {
         "data": {
          "text/html": "<div>\n<style scoped>\n    .dataframe tbody tr th:only-of-type {\n        vertical-align: middle;\n    }\n\n    .dataframe tbody tr th {\n        vertical-align: top;\n    }\n\n    .dataframe thead th {\n        text-align: right;\n    }\n</style>\n<table border=\"1\" class=\"dataframe\">\n  <thead>\n    <tr style=\"text-align: right;\">\n      <th></th>\n      <th>image_id</th>\n      <th>category_str</th>\n      <th>category_id</th>\n      <th>split</th>\n      <th>box_x_min</th>\n      <th>box_y_min</th>\n      <th>box_width</th>\n      <th>box_height</th>\n      <th>area</th>\n    </tr>\n    <tr>\n      <th>id</th>\n      <th></th>\n      <th></th>\n      <th></th>\n      <th></th>\n      <th></th>\n      <th></th>\n      <th></th>\n      <th></th>\n      <th></th>\n    </tr>\n  </thead>\n  <tbody>\n    <tr>\n      <th>460450</th>\n      <td>352582</td>\n      <td>object</td>\n      <td>3</td>\n      <td>valid</td>\n      <td>112.43</td>\n      <td>195.32</td>\n      <td>214.78</td>\n      <td>438.19</td>\n      <td>48685.67910</td>\n    </tr>\n    <tr>\n      <th>535917</th>\n      <td>352582</td>\n      <td>object</td>\n      <td>3</td>\n      <td>valid</td>\n      <td>0.00</td>\n      <td>256.00</td>\n      <td>80.54</td>\n      <td>376.81</td>\n      <td>22650.73800</td>\n    </tr>\n    <tr>\n      <th>467905</th>\n      <td>58393</td>\n      <td>object</td>\n      <td>3</td>\n      <td>valid</td>\n      <td>342.52</td>\n      <td>163.33</td>\n      <td>192.24</td>\n      <td>77.47</td>\n      <td>5408.64720</td>\n    </tr>\n    <tr>\n      <th>1710990</th>\n      <td>58393</td>\n      <td>object</td>\n      <td>3</td>\n      <td>valid</td>\n      <td>418.99</td>\n      <td>182.65</td>\n      <td>61.12</td>\n      <td>45.00</td>\n      <td>1792.80770</td>\n    </tr>\n    <tr>\n      <th>1238519</th>\n      <td>147729</td>\n      <td>object</td>\n      <td>3</td>\n      <td>valid</td>\n      <td>0.00</td>\n      <td>87.01</td>\n      <td>310.67</td>\n      <td>287.99</td>\n      <td>55847.52705</td>\n    </tr>\n    <tr>\n      <th>...</th>\n      <td>...</td>\n      <td>...</td>\n      <td>...</td>\n      <td>...</td>\n      <td>...</td>\n      <td>...</td>\n      <td>...</td>\n      <td>...</td>\n      <td>...</td>\n    </tr>\n    <tr>\n      <th>1192747</th>\n      <td>105455</td>\n      <td>vehicle</td>\n      <td>2</td>\n      <td>valid</td>\n      <td>333.56</td>\n      <td>517.21</td>\n      <td>17.43</td>\n      <td>14.58</td>\n      <td>182.21680</td>\n    </tr>\n    <tr>\n      <th>108177</th>\n      <td>428280</td>\n      <td>object</td>\n      <td>3</td>\n      <td>valid</td>\n      <td>3.58</td>\n      <td>189.14</td>\n      <td>176.88</td>\n      <td>125.32</td>\n      <td>9942.25095</td>\n    </tr>\n    <tr>\n      <th>108343</th>\n      <td>428280</td>\n      <td>object</td>\n      <td>3</td>\n      <td>valid</td>\n      <td>244.05</td>\n      <td>152.29</td>\n      <td>68.51</td>\n      <td>34.49</td>\n      <td>1457.96785</td>\n    </tr>\n    <tr>\n      <th>109094</th>\n      <td>428280</td>\n      <td>object</td>\n      <td>3</td>\n      <td>valid</td>\n      <td>187.71</td>\n      <td>114.80</td>\n      <td>44.07</td>\n      <td>66.41</td>\n      <td>2069.93800</td>\n    </tr>\n    <tr>\n      <th>2190513</th>\n      <td>428280</td>\n      <td>object</td>\n      <td>3</td>\n      <td>valid</td>\n      <td>203.58</td>\n      <td>179.65</td>\n      <td>105.27</td>\n      <td>139.55</td>\n      <td>7696.12525</td>\n    </tr>\n  </tbody>\n</table>\n<p>20607 rows × 9 columns</p>\n</div>",
          "text/plain": "         image_id category_str  category_id  split  box_x_min  box_y_min  \\\nid                                                                         \n460450     352582       object            3  valid     112.43     195.32   \n535917     352582       object            3  valid       0.00     256.00   \n467905      58393       object            3  valid     342.52     163.33   \n1710990     58393       object            3  valid     418.99     182.65   \n1238519    147729       object            3  valid       0.00      87.01   \n...           ...          ...          ...    ...        ...        ...   \n1192747    105455      vehicle            2  valid     333.56     517.21   \n108177     428280       object            3  valid       3.58     189.14   \n108343     428280       object            3  valid     244.05     152.29   \n109094     428280       object            3  valid     187.71     114.80   \n2190513    428280       object            3  valid     203.58     179.65   \n\n         box_width  box_height         area  \nid                                           \n460450      214.78      438.19  48685.67910  \n535917       80.54      376.81  22650.73800  \n467905      192.24       77.47   5408.64720  \n1710990      61.12       45.00   1792.80770  \n1238519     310.67      287.99  55847.52705  \n...            ...         ...          ...  \n1192747      17.43       14.58    182.21680  \n108177      176.88      125.32   9942.25095  \n108343       68.51       34.49   1457.96785  \n109094       44.07       66.41   2069.93800  \n2190513     105.27      139.55   7696.12525  \n\n[20607 rows x 9 columns]"
         },
         "metadata": {},
         "output_type": "display_data"
        }
       ]
      }
     },
     "1d053d8ce8b24c67aa71cdd82d42465e": {
      "model_module": "@jupyter-widgets/base",
      "model_module_version": "2.0.0",
      "model_name": "LayoutModel",
      "state": {}
     },
     "1d6d3b6ca031443a9d4de538dee1f120": {
      "model_module": "@jupyter-widgets/output",
      "model_module_version": "1.0.0",
      "model_name": "OutputModel",
      "state": {
       "layout": "IPY_MODEL_61f223b762454f7abf68e92c3f05f8ec",
       "outputs": [
        {
         "data": {
          "text/html": "<div>\n<style scoped>\n    .dataframe tbody tr th:only-of-type {\n        vertical-align: middle;\n    }\n\n    .dataframe tbody tr th {\n        vertical-align: top;\n    }\n\n    .dataframe thead th {\n        text-align: right;\n    }\n</style>\n<table border=\"1\" class=\"dataframe\">\n  <thead>\n    <tr style=\"text-align: right;\">\n      <th></th>\n      <th>image_id</th>\n      <th>category_str</th>\n      <th>category_id</th>\n      <th>split</th>\n      <th>box_x_min</th>\n      <th>box_y_min</th>\n      <th>box_width</th>\n      <th>box_height</th>\n      <th>area</th>\n    </tr>\n    <tr>\n      <th>id</th>\n      <th></th>\n      <th></th>\n      <th></th>\n      <th></th>\n      <th></th>\n      <th></th>\n      <th></th>\n      <th></th>\n      <th></th>\n    </tr>\n  </thead>\n  <tbody>\n    <tr>\n      <th>0</th>\n      <td>0</td>\n      <td>person</td>\n      <td>1</td>\n      <td>valid</td>\n      <td>384.43</td>\n      <td>172.21</td>\n      <td>15.12</td>\n      <td>35.74</td>\n      <td>435.14495</td>\n    </tr>\n    <tr>\n      <th>1</th>\n      <td>0</td>\n      <td>person</td>\n      <td>1</td>\n      <td>valid</td>\n      <td>412.80</td>\n      <td>157.61</td>\n      <td>53.05</td>\n      <td>138.01</td>\n      <td>2913.11040</td>\n    </tr>\n    <tr>\n      <th>2</th>\n      <td>0</td>\n      <td>chair</td>\n      <td>62</td>\n      <td>valid</td>\n      <td>290.69</td>\n      <td>218.00</td>\n      <td>61.83</td>\n      <td>98.48</td>\n      <td>1833.78400</td>\n    </tr>\n    <tr>\n      <th>3</th>\n      <td>0</td>\n      <td>chair</td>\n      <td>62</td>\n      <td>valid</td>\n      <td>317.40</td>\n      <td>219.24</td>\n      <td>21.58</td>\n      <td>11.59</td>\n      <td>210.14820</td>\n    </tr>\n    <tr>\n      <th>4</th>\n      <td>0</td>\n      <td>chair</td>\n      <td>62</td>\n      <td>valid</td>\n      <td>358.98</td>\n      <td>218.05</td>\n      <td>56.00</td>\n      <td>102.83</td>\n      <td>2245.34355</td>\n    </tr>\n    <tr>\n      <th>...</th>\n      <td>...</td>\n      <td>...</td>\n      <td>...</td>\n      <td>...</td>\n      <td>...</td>\n      <td>...</td>\n      <td>...</td>\n      <td>...</td>\n      <td>...</td>\n    </tr>\n    <tr>\n      <th>36776</th>\n      <td>4999</td>\n      <td>banana</td>\n      <td>52</td>\n      <td>valid</td>\n      <td>439.33</td>\n      <td>94.35</td>\n      <td>160.05</td>\n      <td>171.86</td>\n      <td>16690.94945</td>\n    </tr>\n    <tr>\n      <th>36777</th>\n      <td>4999</td>\n      <td>banana</td>\n      <td>52</td>\n      <td>valid</td>\n      <td>467.23</td>\n      <td>280.45</td>\n      <td>172.77</td>\n      <td>177.63</td>\n      <td>22016.99120</td>\n    </tr>\n    <tr>\n      <th>36778</th>\n      <td>4999</td>\n      <td>banana</td>\n      <td>52</td>\n      <td>valid</td>\n      <td>467.75</td>\n      <td>0.00</td>\n      <td>70.41</td>\n      <td>25.88</td>\n      <td>1191.12265</td>\n    </tr>\n    <tr>\n      <th>36779</th>\n      <td>4999</td>\n      <td>banana</td>\n      <td>52</td>\n      <td>valid</td>\n      <td>561.81</td>\n      <td>6.87</td>\n      <td>78.11</td>\n      <td>34.13</td>\n      <td>1736.78505</td>\n    </tr>\n    <tr>\n      <th>36780</th>\n      <td>4999</td>\n      <td>banana</td>\n      <td>52</td>\n      <td>valid</td>\n      <td>582.44</td>\n      <td>141.91</td>\n      <td>57.56</td>\n      <td>86.75</td>\n      <td>1752.08170</td>\n    </tr>\n  </tbody>\n</table>\n<p>36781 rows × 9 columns</p>\n</div>",
          "text/plain": "       image_id category_str  category_id  split  box_x_min  box_y_min  \\\nid                                                                       \n0             0       person            1  valid     384.43     172.21   \n1             0       person            1  valid     412.80     157.61   \n2             0        chair           62  valid     290.69     218.00   \n3             0        chair           62  valid     317.40     219.24   \n4             0        chair           62  valid     358.98     218.05   \n...         ...          ...          ...    ...        ...        ...   \n36776      4999       banana           52  valid     439.33      94.35   \n36777      4999       banana           52  valid     467.23     280.45   \n36778      4999       banana           52  valid     467.75       0.00   \n36779      4999       banana           52  valid     561.81       6.87   \n36780      4999       banana           52  valid     582.44     141.91   \n\n       box_width  box_height         area  \nid                                         \n0          15.12       35.74    435.14495  \n1          53.05      138.01   2913.11040  \n2          61.83       98.48   1833.78400  \n3          21.58       11.59    210.14820  \n4          56.00      102.83   2245.34355  \n...          ...         ...          ...  \n36776     160.05      171.86  16690.94945  \n36777     172.77      177.63  22016.99120  \n36778      70.41       25.88   1191.12265  \n36779      78.11       34.13   1736.78505  \n36780      57.56       86.75   1752.08170  \n\n[36781 rows x 9 columns]"
         },
         "metadata": {},
         "output_type": "display_data"
        }
       ]
      }
     },
     "1e377c71b8164868a36e6a22cd9f1980": {
      "model_module": "@jupyter-widgets/controls",
      "model_module_version": "2.0.0",
      "model_name": "HTMLModel",
      "state": {
       "layout": "IPY_MODEL_bd34f01e287a47d79a85c4dfb923c687",
       "style": "IPY_MODEL_9ab1868fedf14174836eee31d5aefa66",
       "value": "<p><span style='white-space: pre-wrap; font-weight: bold'>Dataset object containing 2 images and 0 object\nName :\n\tcoco\nImages root :\n\tnotebook_data</span></p>"
      }
     },
     "1e78149cc3e44af495d17c80b0e0015b": {
      "model_module": "@jupyter-widgets/output",
      "model_module_version": "1.0.0",
      "model_name": "OutputModel",
      "state": {
       "layout": "IPY_MODEL_945a36e7a2b34d4f933d295211f919ec",
       "outputs": [
        {
         "data": {
          "text/html": "<div>\n<style scoped>\n    .dataframe tbody tr th:only-of-type {\n        vertical-align: middle;\n    }\n\n    .dataframe tbody tr th {\n        vertical-align: top;\n    }\n\n    .dataframe thead th {\n        text-align: right;\n    }\n</style>\n<table border=\"1\" class=\"dataframe\">\n  <thead>\n    <tr style=\"text-align: right;\">\n      <th></th>\n      <th>width</th>\n      <th>height</th>\n      <th>relative_path</th>\n      <th>type</th>\n      <th>split</th>\n    </tr>\n    <tr>\n      <th>id</th>\n      <th></th>\n      <th></th>\n      <th></th>\n      <th></th>\n      <th></th>\n    </tr>\n  </thead>\n  <tbody>\n    <tr>\n      <th>352582</th>\n      <td>425</td>\n      <td>640</td>\n      <td>Images/valid/000000352582.jpg</td>\n      <td>.jpg</td>\n      <td>valid</td>\n    </tr>\n    <tr>\n      <th>113354</th>\n      <td>640</td>\n      <td>480</td>\n      <td>Images/valid/000000113354.jpg</td>\n      <td>.jpg</td>\n      <td>valid</td>\n    </tr>\n    <tr>\n      <th>58393</th>\n      <td>640</td>\n      <td>486</td>\n      <td>Images/valid/000000058393.jpg</td>\n      <td>.jpg</td>\n      <td>valid</td>\n    </tr>\n    <tr>\n      <th>147729</th>\n      <td>500</td>\n      <td>375</td>\n      <td>Images/valid/000000147729.jpg</td>\n      <td>.jpg</td>\n      <td>valid</td>\n    </tr>\n    <tr>\n      <th>310072</th>\n      <td>640</td>\n      <td>383</td>\n      <td>Images/valid/000000310072.jpg</td>\n      <td>.jpg</td>\n      <td>valid</td>\n    </tr>\n    <tr>\n      <th>...</th>\n      <td>...</td>\n      <td>...</td>\n      <td>...</td>\n      <td>...</td>\n      <td>...</td>\n    </tr>\n    <tr>\n      <th>311180</th>\n      <td>480</td>\n      <td>640</td>\n      <td>Images/valid/000000311180.jpg</td>\n      <td>.jpg</td>\n      <td>valid</td>\n    </tr>\n    <tr>\n      <th>302030</th>\n      <td>640</td>\n      <td>359</td>\n      <td>Images/valid/000000302030.jpg</td>\n      <td>.jpg</td>\n      <td>valid</td>\n    </tr>\n    <tr>\n      <th>105455</th>\n      <td>427</td>\n      <td>640</td>\n      <td>Images/valid/000000105455.jpg</td>\n      <td>.jpg</td>\n      <td>valid</td>\n    </tr>\n    <tr>\n      <th>428280</th>\n      <td>500</td>\n      <td>333</td>\n      <td>Images/valid/000000428280.jpg</td>\n      <td>.jpg</td>\n      <td>valid</td>\n    </tr>\n    <tr>\n      <th>349837</th>\n      <td>500</td>\n      <td>333</td>\n      <td>Images/valid/000000349837.jpg</td>\n      <td>.jpg</td>\n      <td>valid</td>\n    </tr>\n  </tbody>\n</table>\n<p>4722 rows × 5 columns</p>\n</div>",
          "text/plain": "        width  height                  relative_path  type  split\nid                                                               \n352582    425     640  Images/valid/000000352582.jpg  .jpg  valid\n113354    640     480  Images/valid/000000113354.jpg  .jpg  valid\n58393     640     486  Images/valid/000000058393.jpg  .jpg  valid\n147729    500     375  Images/valid/000000147729.jpg  .jpg  valid\n310072    640     383  Images/valid/000000310072.jpg  .jpg  valid\n...       ...     ...                            ...   ...    ...\n311180    480     640  Images/valid/000000311180.jpg  .jpg  valid\n302030    640     359  Images/valid/000000302030.jpg  .jpg  valid\n105455    427     640  Images/valid/000000105455.jpg  .jpg  valid\n428280    500     333  Images/valid/000000428280.jpg  .jpg  valid\n349837    500     333  Images/valid/000000349837.jpg  .jpg  valid\n\n[4722 rows x 5 columns]"
         },
         "metadata": {},
         "output_type": "display_data"
        }
       ]
      }
     },
     "1ea85e14ffbd4a48aa549195fc5171ae": {
      "model_module": "@jupyter-widgets/base",
      "model_module_version": "2.0.0",
      "model_name": "LayoutModel",
      "state": {}
     },
     "1ffadd66d4824428bf4bd02321a8baf0": {
      "model_module": "@jupyter-widgets/output",
      "model_module_version": "1.0.0",
      "model_name": "OutputModel",
      "state": {
       "layout": "IPY_MODEL_6bed46054c494a0cafee9c2d8966c99e",
       "outputs": [
        {
         "data": {
          "text/html": "<div>\n<style scoped>\n    .dataframe tbody tr th:only-of-type {\n        vertical-align: middle;\n    }\n\n    .dataframe tbody tr th {\n        vertical-align: top;\n    }\n\n    .dataframe thead th {\n        text-align: right;\n    }\n</style>\n<table border=\"1\" class=\"dataframe\">\n  <thead>\n    <tr style=\"text-align: right;\">\n      <th></th>\n      <th>image_id</th>\n      <th>category_str</th>\n      <th>category_id</th>\n      <th>split</th>\n      <th>box_x_min</th>\n      <th>box_y_min</th>\n      <th>box_width</th>\n      <th>box_height</th>\n      <th>area</th>\n    </tr>\n    <tr>\n      <th>id</th>\n      <th></th>\n      <th></th>\n      <th></th>\n      <th></th>\n      <th></th>\n      <th></th>\n      <th></th>\n      <th></th>\n      <th></th>\n    </tr>\n  </thead>\n  <tbody>\n    <tr>\n      <th>460450</th>\n      <td>352582</td>\n      <td>person</td>\n      <td>1</td>\n      <td>valid</td>\n      <td>112.43</td>\n      <td>195.32</td>\n      <td>214.78</td>\n      <td>438.19</td>\n      <td>48685.67910</td>\n    </tr>\n    <tr>\n      <th>602093</th>\n      <td>352582</td>\n      <td>frisbee</td>\n      <td>34</td>\n      <td>valid</td>\n      <td>171.63</td>\n      <td>424.03</td>\n      <td>85.89</td>\n      <td>40.67</td>\n      <td>2605.72090</td>\n    </tr>\n    <tr>\n      <th>589740</th>\n      <td>113354</td>\n      <td>zebra</td>\n      <td>24</td>\n      <td>valid</td>\n      <td>366.49</td>\n      <td>174.59</td>\n      <td>115.67</td>\n      <td>142.71</td>\n      <td>5784.68620</td>\n    </tr>\n    <tr>\n      <th>467905</th>\n      <td>58393</td>\n      <td>person</td>\n      <td>1</td>\n      <td>valid</td>\n      <td>342.52</td>\n      <td>163.33</td>\n      <td>192.24</td>\n      <td>77.47</td>\n      <td>5408.64720</td>\n    </tr>\n    <tr>\n      <th>1710990</th>\n      <td>58393</td>\n      <td>person</td>\n      <td>1</td>\n      <td>valid</td>\n      <td>418.99</td>\n      <td>182.65</td>\n      <td>61.12</td>\n      <td>45.00</td>\n      <td>1792.80770</td>\n    </tr>\n    <tr>\n      <th>...</th>\n      <td>...</td>\n      <td>...</td>\n      <td>...</td>\n      <td>...</td>\n      <td>...</td>\n      <td>...</td>\n      <td>...</td>\n      <td>...</td>\n      <td>...</td>\n    </tr>\n    <tr>\n      <th>1101888</th>\n      <td>428280</td>\n      <td>laptop</td>\n      <td>73</td>\n      <td>valid</td>\n      <td>118.71</td>\n      <td>138.34</td>\n      <td>44.79</td>\n      <td>35.83</td>\n      <td>1405.98065</td>\n    </tr>\n    <tr>\n      <th>2190513</th>\n      <td>428280</td>\n      <td>chair</td>\n      <td>62</td>\n      <td>valid</td>\n      <td>203.58</td>\n      <td>179.65</td>\n      <td>105.27</td>\n      <td>139.55</td>\n      <td>7696.12525</td>\n    </tr>\n    <tr>\n      <th>331107</th>\n      <td>349837</td>\n      <td>refrigerator</td>\n      <td>82</td>\n      <td>valid</td>\n      <td>66.00</td>\n      <td>94.87</td>\n      <td>71.25</td>\n      <td>194.26</td>\n      <td>12029.44125</td>\n    </tr>\n    <tr>\n      <th>333394</th>\n      <td>349837</td>\n      <td>refrigerator</td>\n      <td>82</td>\n      <td>valid</td>\n      <td>234.44</td>\n      <td>29.87</td>\n      <td>113.49</td>\n      <td>298.65</td>\n      <td>30406.51295</td>\n    </tr>\n    <tr>\n      <th>333731</th>\n      <td>349837</td>\n      <td>refrigerator</td>\n      <td>82</td>\n      <td>valid</td>\n      <td>460.39</td>\n      <td>0.00</td>\n      <td>39.61</td>\n      <td>328.64</td>\n      <td>12492.52165</td>\n    </tr>\n  </tbody>\n</table>\n<p>18391 rows × 9 columns</p>\n</div>",
          "text/plain": "         image_id  category_str  category_id  split  box_x_min  box_y_min  \\\nid                                                                          \n460450     352582        person            1  valid     112.43     195.32   \n602093     352582       frisbee           34  valid     171.63     424.03   \n589740     113354         zebra           24  valid     366.49     174.59   \n467905      58393        person            1  valid     342.52     163.33   \n1710990     58393        person            1  valid     418.99     182.65   \n...           ...           ...          ...    ...        ...        ...   \n1101888    428280        laptop           73  valid     118.71     138.34   \n2190513    428280         chair           62  valid     203.58     179.65   \n331107     349837  refrigerator           82  valid      66.00      94.87   \n333394     349837  refrigerator           82  valid     234.44      29.87   \n333731     349837  refrigerator           82  valid     460.39       0.00   \n\n         box_width  box_height         area  \nid                                           \n460450      214.78      438.19  48685.67910  \n602093       85.89       40.67   2605.72090  \n589740      115.67      142.71   5784.68620  \n467905      192.24       77.47   5408.64720  \n1710990      61.12       45.00   1792.80770  \n...            ...         ...          ...  \n1101888      44.79       35.83   1405.98065  \n2190513     105.27      139.55   7696.12525  \n331107       71.25      194.26  12029.44125  \n333394      113.49      298.65  30406.51295  \n333731       39.61      328.64  12492.52165  \n\n[18391 rows x 9 columns]"
         },
         "metadata": {},
         "output_type": "display_data"
        }
       ]
      }
     },
     "201c0ac6623f46f2a1940f2ff1fbfa65": {
      "model_module": "@jupyter-widgets/output",
      "model_module_version": "1.0.0",
      "model_name": "OutputModel",
      "state": {
       "layout": "IPY_MODEL_a0530d16806447fb887a285e3298f421",
       "outputs": [
        {
         "data": {
          "text/html": "<div>\n<style scoped>\n    .dataframe tbody tr th:only-of-type {\n        vertical-align: middle;\n    }\n\n    .dataframe tbody tr th {\n        vertical-align: top;\n    }\n\n    .dataframe thead th {\n        text-align: right;\n    }\n</style>\n<table border=\"1\" class=\"dataframe\">\n  <thead>\n    <tr style=\"text-align: right;\">\n      <th></th>\n      <th>category string</th>\n    </tr>\n    <tr>\n      <th>category_id</th>\n      <th></th>\n    </tr>\n  </thead>\n  <tbody>\n    <tr>\n      <th>1</th>\n      <td>person</td>\n    </tr>\n    <tr>\n      <th>2</th>\n      <td>bicycle</td>\n    </tr>\n    <tr>\n      <th>3</th>\n      <td>car</td>\n    </tr>\n    <tr>\n      <th>4</th>\n      <td>motorcycle</td>\n    </tr>\n    <tr>\n      <th>5</th>\n      <td>airplane</td>\n    </tr>\n    <tr>\n      <th>...</th>\n      <td>...</td>\n    </tr>\n    <tr>\n      <th>86</th>\n      <td>vase</td>\n    </tr>\n    <tr>\n      <th>87</th>\n      <td>scissors</td>\n    </tr>\n    <tr>\n      <th>88</th>\n      <td>teddy bear</td>\n    </tr>\n    <tr>\n      <th>89</th>\n      <td>hair drier</td>\n    </tr>\n    <tr>\n      <th>90</th>\n      <td>toothbrush</td>\n    </tr>\n  </tbody>\n</table>\n<p>80 rows × 1 columns</p>\n</div>",
          "text/plain": "            category string\ncategory_id                \n1                    person\n2                   bicycle\n3                       car\n4                motorcycle\n5                  airplane\n...                     ...\n86                     vase\n87                 scissors\n88               teddy bear\n89               hair drier\n90               toothbrush\n\n[80 rows x 1 columns]"
         },
         "metadata": {},
         "output_type": "display_data"
        }
       ]
      }
     },
     "20e1a2357cb34893b0a962c96485a5e7": {
      "model_module": "@jupyter-widgets/base",
      "model_module_version": "2.0.0",
      "model_name": "LayoutModel",
      "state": {}
     },
     "211946f8bec547cc8dc5f8c2b8e9af77": {
      "model_module": "@jupyter-widgets/base",
      "model_module_version": "2.0.0",
      "model_name": "LayoutModel",
      "state": {}
     },
     "215230f60dc54b66975684b3962c0042": {
      "model_module": "@jupyter-widgets/output",
      "model_module_version": "1.0.0",
      "model_name": "OutputModel",
      "state": {
       "layout": "IPY_MODEL_5de7aa7b0bf149cab034f198eeac4ba7",
       "outputs": [
        {
         "data": {
          "text/html": "<div>\n<style scoped>\n    .dataframe tbody tr th:only-of-type {\n        vertical-align: middle;\n    }\n\n    .dataframe tbody tr th {\n        vertical-align: top;\n    }\n\n    .dataframe thead th {\n        text-align: right;\n    }\n</style>\n<table border=\"1\" class=\"dataframe\">\n  <thead>\n    <tr style=\"text-align: right;\">\n      <th></th>\n      <th>image_id</th>\n      <th>category_str</th>\n      <th>category_id</th>\n      <th>split</th>\n      <th>box_x_min</th>\n      <th>box_y_min</th>\n      <th>box_width</th>\n      <th>box_height</th>\n      <th>area</th>\n    </tr>\n    <tr>\n      <th>id</th>\n      <th></th>\n      <th></th>\n      <th></th>\n      <th></th>\n      <th></th>\n      <th></th>\n      <th></th>\n      <th></th>\n      <th></th>\n    </tr>\n  </thead>\n  <tbody>\n    <tr>\n      <th>460450</th>\n      <td>352582</td>\n      <td>person</td>\n      <td>1</td>\n      <td>valid</td>\n      <td>112.43</td>\n      <td>195.32</td>\n      <td>214.78</td>\n      <td>438.19</td>\n      <td>48685.67910</td>\n    </tr>\n    <tr>\n      <th>535917</th>\n      <td>352582</td>\n      <td>person</td>\n      <td>1</td>\n      <td>valid</td>\n      <td>0.00</td>\n      <td>256.00</td>\n      <td>80.54</td>\n      <td>376.81</td>\n      <td>22650.73800</td>\n    </tr>\n    <tr>\n      <th>602093</th>\n      <td>352582</td>\n      <td>frisbee</td>\n      <td>34</td>\n      <td>valid</td>\n      <td>171.63</td>\n      <td>424.03</td>\n      <td>85.89</td>\n      <td>40.67</td>\n      <td>2605.72090</td>\n    </tr>\n    <tr>\n      <th>589077</th>\n      <td>113354</td>\n      <td>zebra</td>\n      <td>24</td>\n      <td>valid</td>\n      <td>260.99</td>\n      <td>158.88</td>\n      <td>141.52</td>\n      <td>194.11</td>\n      <td>9978.94125</td>\n    </tr>\n    <tr>\n      <th>589740</th>\n      <td>113354</td>\n      <td>zebra</td>\n      <td>24</td>\n      <td>valid</td>\n      <td>366.49</td>\n      <td>174.59</td>\n      <td>115.67</td>\n      <td>142.71</td>\n      <td>5784.68620</td>\n    </tr>\n    <tr>\n      <th>...</th>\n      <td>...</td>\n      <td>...</td>\n      <td>...</td>\n      <td>...</td>\n      <td>...</td>\n      <td>...</td>\n      <td>...</td>\n      <td>...</td>\n      <td>...</td>\n    </tr>\n    <tr>\n      <th>331107</th>\n      <td>349837</td>\n      <td>refrigerator</td>\n      <td>82</td>\n      <td>valid</td>\n      <td>66.00</td>\n      <td>94.87</td>\n      <td>71.25</td>\n      <td>194.26</td>\n      <td>12029.44125</td>\n    </tr>\n    <tr>\n      <th>332788</th>\n      <td>349837</td>\n      <td>refrigerator</td>\n      <td>82</td>\n      <td>valid</td>\n      <td>138.00</td>\n      <td>62.63</td>\n      <td>98.25</td>\n      <td>252.00</td>\n      <td>23037.46875</td>\n    </tr>\n    <tr>\n      <th>333394</th>\n      <td>349837</td>\n      <td>refrigerator</td>\n      <td>82</td>\n      <td>valid</td>\n      <td>234.44</td>\n      <td>29.87</td>\n      <td>113.49</td>\n      <td>298.65</td>\n      <td>30406.51295</td>\n    </tr>\n    <tr>\n      <th>333685</th>\n      <td>349837</td>\n      <td>refrigerator</td>\n      <td>82</td>\n      <td>valid</td>\n      <td>335.04</td>\n      <td>10.48</td>\n      <td>125.17</td>\n      <td>318.78</td>\n      <td>37187.97840</td>\n    </tr>\n    <tr>\n      <th>333731</th>\n      <td>349837</td>\n      <td>refrigerator</td>\n      <td>82</td>\n      <td>valid</td>\n      <td>460.39</td>\n      <td>0.00</td>\n      <td>39.61</td>\n      <td>328.64</td>\n      <td>12492.52165</td>\n    </tr>\n  </tbody>\n</table>\n<p>36781 rows × 9 columns</p>\n</div>",
          "text/plain": "        image_id  category_str  category_id  split  box_x_min  box_y_min  \\\nid                                                                         \n460450    352582        person            1  valid     112.43     195.32   \n535917    352582        person            1  valid       0.00     256.00   \n602093    352582       frisbee           34  valid     171.63     424.03   \n589077    113354         zebra           24  valid     260.99     158.88   \n589740    113354         zebra           24  valid     366.49     174.59   \n...          ...           ...          ...    ...        ...        ...   \n331107    349837  refrigerator           82  valid      66.00      94.87   \n332788    349837  refrigerator           82  valid     138.00      62.63   \n333394    349837  refrigerator           82  valid     234.44      29.87   \n333685    349837  refrigerator           82  valid     335.04      10.48   \n333731    349837  refrigerator           82  valid     460.39       0.00   \n\n        box_width  box_height         area  \nid                                          \n460450     214.78      438.19  48685.67910  \n535917      80.54      376.81  22650.73800  \n602093      85.89       40.67   2605.72090  \n589077     141.52      194.11   9978.94125  \n589740     115.67      142.71   5784.68620  \n...           ...         ...          ...  \n331107      71.25      194.26  12029.44125  \n332788      98.25      252.00  23037.46875  \n333394     113.49      298.65  30406.51295  \n333685     125.17      318.78  37187.97840  \n333731      39.61      328.64  12492.52165  \n\n[36781 rows x 9 columns]"
         },
         "metadata": {},
         "output_type": "display_data"
        }
       ]
      }
     },
     "2315e499822d468c8925f1d42b700cf9": {
      "model_module": "@jupyter-widgets/base",
      "model_module_version": "2.0.0",
      "model_name": "LayoutModel",
      "state": {}
     },
     "24c3935dccad491d92f92a9a01fa5f37": {
      "model_module": "@jupyter-widgets/base",
      "model_module_version": "2.0.0",
      "model_name": "LayoutModel",
      "state": {}
     },
     "25e0d0eb9c2c40488365ce8a27295bfc": {
      "model_module": "@jupyter-widgets/output",
      "model_module_version": "1.0.0",
      "model_name": "OutputModel",
      "state": {
       "layout": "IPY_MODEL_164a53399de6479db15055e945ecbdd1",
       "outputs": [
        {
         "data": {
          "text/html": "<div>\n<style scoped>\n    .dataframe tbody tr th:only-of-type {\n        vertical-align: middle;\n    }\n\n    .dataframe tbody tr th {\n        vertical-align: top;\n    }\n\n    .dataframe thead th {\n        text-align: right;\n    }\n</style>\n<table border=\"1\" class=\"dataframe\">\n  <thead>\n    <tr style=\"text-align: right;\">\n      <th></th>\n      <th>image_id</th>\n      <th>category_str</th>\n      <th>category_id</th>\n      <th>split</th>\n      <th>box_x_min</th>\n      <th>box_y_min</th>\n      <th>box_width</th>\n      <th>box_height</th>\n      <th>area</th>\n    </tr>\n    <tr>\n      <th>id</th>\n      <th></th>\n      <th></th>\n      <th></th>\n      <th></th>\n      <th></th>\n      <th></th>\n      <th></th>\n      <th></th>\n      <th></th>\n    </tr>\n  </thead>\n  <tbody>\n    <tr>\n      <th>460450</th>\n      <td>352582</td>\n      <td>person</td>\n      <td>15</td>\n      <td>valid</td>\n      <td>112.43</td>\n      <td>195.32</td>\n      <td>214.78</td>\n      <td>438.19</td>\n      <td>48685.67910</td>\n    </tr>\n    <tr>\n      <th>535917</th>\n      <td>352582</td>\n      <td>person</td>\n      <td>15</td>\n      <td>valid</td>\n      <td>0.00</td>\n      <td>256.00</td>\n      <td>80.54</td>\n      <td>376.81</td>\n      <td>22650.73800</td>\n    </tr>\n    <tr>\n      <th>467905</th>\n      <td>58393</td>\n      <td>person</td>\n      <td>15</td>\n      <td>valid</td>\n      <td>342.52</td>\n      <td>163.33</td>\n      <td>192.24</td>\n      <td>77.47</td>\n      <td>5408.64720</td>\n    </tr>\n    <tr>\n      <th>1710990</th>\n      <td>58393</td>\n      <td>person</td>\n      <td>15</td>\n      <td>valid</td>\n      <td>418.99</td>\n      <td>182.65</td>\n      <td>61.12</td>\n      <td>45.00</td>\n      <td>1792.80770</td>\n    </tr>\n    <tr>\n      <th>1238519</th>\n      <td>147729</td>\n      <td>person</td>\n      <td>15</td>\n      <td>valid</td>\n      <td>0.00</td>\n      <td>87.01</td>\n      <td>310.67</td>\n      <td>287.99</td>\n      <td>55847.52705</td>\n    </tr>\n    <tr>\n      <th>...</th>\n      <td>...</td>\n      <td>...</td>\n      <td>...</td>\n      <td>...</td>\n      <td>...</td>\n      <td>...</td>\n      <td>...</td>\n      <td>...</td>\n      <td>...</td>\n    </tr>\n    <tr>\n      <th>1192747</th>\n      <td>105455</td>\n      <td>car</td>\n      <td>7</td>\n      <td>valid</td>\n      <td>333.56</td>\n      <td>517.21</td>\n      <td>17.43</td>\n      <td>14.58</td>\n      <td>182.21680</td>\n    </tr>\n    <tr>\n      <th>108177</th>\n      <td>428280</td>\n      <td>chair</td>\n      <td>9</td>\n      <td>valid</td>\n      <td>3.58</td>\n      <td>189.14</td>\n      <td>176.88</td>\n      <td>125.32</td>\n      <td>9942.25095</td>\n    </tr>\n    <tr>\n      <th>108343</th>\n      <td>428280</td>\n      <td>chair</td>\n      <td>9</td>\n      <td>valid</td>\n      <td>244.05</td>\n      <td>152.29</td>\n      <td>68.51</td>\n      <td>34.49</td>\n      <td>1457.96785</td>\n    </tr>\n    <tr>\n      <th>109094</th>\n      <td>428280</td>\n      <td>chair</td>\n      <td>9</td>\n      <td>valid</td>\n      <td>187.71</td>\n      <td>114.80</td>\n      <td>44.07</td>\n      <td>66.41</td>\n      <td>2069.93800</td>\n    </tr>\n    <tr>\n      <th>2190513</th>\n      <td>428280</td>\n      <td>chair</td>\n      <td>9</td>\n      <td>valid</td>\n      <td>203.58</td>\n      <td>179.65</td>\n      <td>105.27</td>\n      <td>139.55</td>\n      <td>7696.12525</td>\n    </tr>\n  </tbody>\n</table>\n<p>20950 rows × 9 columns</p>\n</div>",
          "text/plain": "         image_id category_str  category_id  split  box_x_min  box_y_min  \\\nid                                                                         \n460450     352582       person           15  valid     112.43     195.32   \n535917     352582       person           15  valid       0.00     256.00   \n467905      58393       person           15  valid     342.52     163.33   \n1710990     58393       person           15  valid     418.99     182.65   \n1238519    147729       person           15  valid       0.00      87.01   \n...           ...          ...          ...    ...        ...        ...   \n1192747    105455          car            7  valid     333.56     517.21   \n108177     428280        chair            9  valid       3.58     189.14   \n108343     428280        chair            9  valid     244.05     152.29   \n109094     428280        chair            9  valid     187.71     114.80   \n2190513    428280        chair            9  valid     203.58     179.65   \n\n         box_width  box_height         area  \nid                                           \n460450      214.78      438.19  48685.67910  \n535917       80.54      376.81  22650.73800  \n467905      192.24       77.47   5408.64720  \n1710990      61.12       45.00   1792.80770  \n1238519     310.67      287.99  55847.52705  \n...            ...         ...          ...  \n1192747      17.43       14.58    182.21680  \n108177      176.88      125.32   9942.25095  \n108343       68.51       34.49   1457.96785  \n109094       44.07       66.41   2069.93800  \n2190513     105.27      139.55   7696.12525  \n\n[20950 rows x 9 columns]"
         },
         "metadata": {},
         "output_type": "display_data"
        }
       ]
      }
     },
     "25f0fc1cdb4d4ced8da828dad1538444": {
      "model_module": "@jupyter-widgets/base",
      "model_module_version": "2.0.0",
      "model_name": "LayoutModel",
      "state": {}
     },
     "2688ffd92c114b6db55756eb9490056b": {
      "model_module": "@jupyter-widgets/base",
      "model_module_version": "2.0.0",
      "model_name": "LayoutModel",
      "state": {}
     },
     "270e2dd454114fa191b7a78f5cd0f442": {
      "model_module": "@jupyter-widgets/base",
      "model_module_version": "2.0.0",
      "model_name": "LayoutModel",
      "state": {}
     },
     "2765d25940f94154ab972f0a4163552f": {
      "model_module": "@jupyter-widgets/controls",
      "model_module_version": "2.0.0",
      "model_name": "VBoxModel",
      "state": {
       "children": [
        "IPY_MODEL_c7a7060a8aa7446299af9cc8d1cab19e",
        "IPY_MODEL_6e2136aa5aa042c580f2cd537e09932c"
       ],
       "layout": "IPY_MODEL_6682ee61f7a54c9980d7fe0d8edf23c9"
      }
     },
     "276b9e6a229d40f1bf0e2dfbe6aa5394": {
      "model_module": "@jupyter-widgets/controls",
      "model_module_version": "2.0.0",
      "model_name": "VBoxModel",
      "state": {
       "children": [
        "IPY_MODEL_d5e3a1dbf17e4f24bbac1e79e3ccea3a",
        "IPY_MODEL_7651b2578bad44ea89843819afce536b"
       ],
       "layout": "IPY_MODEL_4d6380718f7241499844d16e3f92fe3a"
      }
     },
     "283b8c8563c44ee186d9bbdc7fabceae": {
      "model_module": "@jupyter-widgets/output",
      "model_module_version": "1.0.0",
      "model_name": "OutputModel",
      "state": {
       "layout": "IPY_MODEL_b7a7836c0928481eb773f233fab0a635",
       "outputs": [
        {
         "data": {
          "text/html": "<div>\n<style scoped>\n    .dataframe tbody tr th:only-of-type {\n        vertical-align: middle;\n    }\n\n    .dataframe tbody tr th {\n        vertical-align: top;\n    }\n\n    .dataframe thead th {\n        text-align: right;\n    }\n</style>\n<table border=\"1\" class=\"dataframe\">\n  <thead>\n    <tr style=\"text-align: right;\">\n      <th></th>\n      <th>image_id</th>\n      <th>category_str</th>\n      <th>category_id</th>\n      <th>split</th>\n      <th>box_x_min</th>\n      <th>box_y_min</th>\n      <th>box_width</th>\n      <th>box_height</th>\n      <th>area</th>\n    </tr>\n    <tr>\n      <th>id</th>\n      <th></th>\n      <th></th>\n      <th></th>\n      <th></th>\n      <th></th>\n      <th></th>\n      <th></th>\n      <th></th>\n      <th></th>\n    </tr>\n  </thead>\n  <tbody>\n    <tr>\n      <th>2</th>\n      <td>29</td>\n      <td>airplane</td>\n      <td>5</td>\n      <td>valid</td>\n      <td>282.23</td>\n      <td>139.38</td>\n      <td>51.22</td>\n      <td>43.78</td>\n      <td>567.94110</td>\n    </tr>\n    <tr>\n      <th>3</th>\n      <td>29</td>\n      <td>airplane</td>\n      <td>5</td>\n      <td>valid</td>\n      <td>150.17</td>\n      <td>8.63</td>\n      <td>74.09</td>\n      <td>77.19</td>\n      <td>1454.47215</td>\n    </tr>\n    <tr>\n      <th>4</th>\n      <td>61</td>\n      <td>airplane</td>\n      <td>5</td>\n      <td>valid</td>\n      <td>9.43</td>\n      <td>105.72</td>\n      <td>621.76</td>\n      <td>183.15</td>\n      <td>40544.34585</td>\n    </tr>\n    <tr>\n      <th>5</th>\n      <td>61</td>\n      <td>airplane</td>\n      <td>5</td>\n      <td>valid</td>\n      <td>51.40</td>\n      <td>249.06</td>\n      <td>250.44</td>\n      <td>28.09</td>\n      <td>2415.22505</td>\n    </tr>\n    <tr>\n      <th>6</th>\n      <td>139</td>\n      <td>airplane</td>\n      <td>5</td>\n      <td>valid</td>\n      <td>0.00</td>\n      <td>142.01</td>\n      <td>566.13</td>\n      <td>143.94</td>\n      <td>30298.91215</td>\n    </tr>\n    <tr>\n      <th>...</th>\n      <td>...</td>\n      <td>...</td>\n      <td>...</td>\n      <td>...</td>\n      <td>...</td>\n      <td>...</td>\n      <td>...</td>\n      <td>...</td>\n      <td>...</td>\n    </tr>\n    <tr>\n      <th>36778</th>\n      <td>4838</td>\n      <td>zebra</td>\n      <td>24</td>\n      <td>valid</td>\n      <td>70.11</td>\n      <td>2.16</td>\n      <td>433.62</td>\n      <td>434.69</td>\n      <td>122687.61775</td>\n    </tr>\n    <tr>\n      <th>36779</th>\n      <td>4966</td>\n      <td>zebra</td>\n      <td>24</td>\n      <td>valid</td>\n      <td>107.31</td>\n      <td>141.64</td>\n      <td>79.67</td>\n      <td>159.54</td>\n      <td>5946.64725</td>\n    </tr>\n    <tr>\n      <th>36780</th>\n      <td>4966</td>\n      <td>zebra</td>\n      <td>24</td>\n      <td>valid</td>\n      <td>342.29</td>\n      <td>164.82</td>\n      <td>224.42</td>\n      <td>222.78</td>\n      <td>23360.62700</td>\n    </tr>\n    <tr>\n      <th>36781</th>\n      <td>4966</td>\n      <td>zebra</td>\n      <td>24</td>\n      <td>valid</td>\n      <td>418.15</td>\n      <td>164.91</td>\n      <td>82.46</td>\n      <td>63.51</td>\n      <td>3431.98040</td>\n    </tr>\n    <tr>\n      <th>36782</th>\n      <td>4966</td>\n      <td>zebra</td>\n      <td>24</td>\n      <td>valid</td>\n      <td>190.56</td>\n      <td>143.91</td>\n      <td>61.39</td>\n      <td>172.45</td>\n      <td>5648.15435</td>\n    </tr>\n  </tbody>\n</table>\n<p>36781 rows × 9 columns</p>\n</div>",
          "text/plain": "       image_id category_str  category_id  split  box_x_min  box_y_min  \\\nid                                                                       \n2            29     airplane            5  valid     282.23     139.38   \n3            29     airplane            5  valid     150.17       8.63   \n4            61     airplane            5  valid       9.43     105.72   \n5            61     airplane            5  valid      51.40     249.06   \n6           139     airplane            5  valid       0.00     142.01   \n...         ...          ...          ...    ...        ...        ...   \n36778      4838        zebra           24  valid      70.11       2.16   \n36779      4966        zebra           24  valid     107.31     141.64   \n36780      4966        zebra           24  valid     342.29     164.82   \n36781      4966        zebra           24  valid     418.15     164.91   \n36782      4966        zebra           24  valid     190.56     143.91   \n\n       box_width  box_height          area  \nid                                          \n2          51.22       43.78     567.94110  \n3          74.09       77.19    1454.47215  \n4         621.76      183.15   40544.34585  \n5         250.44       28.09    2415.22505  \n6         566.13      143.94   30298.91215  \n...          ...         ...           ...  \n36778     433.62      434.69  122687.61775  \n36779      79.67      159.54    5946.64725  \n36780     224.42      222.78   23360.62700  \n36781      82.46       63.51    3431.98040  \n36782      61.39      172.45    5648.15435  \n\n[36781 rows x 9 columns]"
         },
         "metadata": {},
         "output_type": "display_data"
        }
       ]
      }
     },
     "2960d6dcc47d49a381e77ae2aa56613d": {
      "model_module": "@jupyter-widgets/controls",
      "model_module_version": "2.0.0",
      "model_name": "TabModel",
      "state": {
       "children": [
        "IPY_MODEL_4fc4c1800ef645c293daa0d77c993f92",
        "IPY_MODEL_ccbe6d78c4684bbe927f1efdbdc0f52d",
        "IPY_MODEL_61f1d9cd68e047468f7e6476f0e8a038"
       ],
       "layout": "IPY_MODEL_c497c29f8fa5485fb878086fd794cf28",
       "selected_index": 0,
       "titles": [
        "Images",
        "Annotations",
        "Label Map"
       ]
      }
     },
     "29c931608dbf4121b1cbb276ae817e39": {
      "model_module": "@jupyter-widgets/base",
      "model_module_version": "2.0.0",
      "model_name": "LayoutModel",
      "state": {}
     },
     "2a3ca1e55ef24e72b351e4d45e0d7d53": {
      "model_module": "@jupyter-widgets/output",
      "model_module_version": "1.0.0",
      "model_name": "OutputModel",
      "state": {
       "layout": "IPY_MODEL_ea17d1aba9cb4d4cac2d795b5295c04c",
       "outputs": [
        {
         "data": {
          "text/html": "<div>\n<style scoped>\n    .dataframe tbody tr th:only-of-type {\n        vertical-align: middle;\n    }\n\n    .dataframe tbody tr th {\n        vertical-align: top;\n    }\n\n    .dataframe thead th {\n        text-align: right;\n    }\n</style>\n<table border=\"1\" class=\"dataframe\">\n  <thead>\n    <tr style=\"text-align: right;\">\n      <th></th>\n      <th>width</th>\n      <th>height</th>\n      <th>relative_path</th>\n      <th>type</th>\n      <th>split</th>\n    </tr>\n    <tr>\n      <th>id</th>\n      <th></th>\n      <th></th>\n      <th></th>\n      <th></th>\n      <th></th>\n    </tr>\n  </thead>\n  <tbody>\n    <tr>\n      <th>0</th>\n      <td>640</td>\n      <td>426</td>\n      <td>Images/valid/000000000139.jpg</td>\n      <td>.jpg</td>\n      <td>valid</td>\n    </tr>\n    <tr>\n      <th>1</th>\n      <td>586</td>\n      <td>640</td>\n      <td>Images/valid/000000000285.jpg</td>\n      <td>.jpg</td>\n      <td>valid</td>\n    </tr>\n    <tr>\n      <th>2</th>\n      <td>640</td>\n      <td>483</td>\n      <td>Images/valid/000000000632.jpg</td>\n      <td>.jpg</td>\n      <td>valid</td>\n    </tr>\n    <tr>\n      <th>3</th>\n      <td>375</td>\n      <td>500</td>\n      <td>Images/valid/000000000724.jpg</td>\n      <td>.jpg</td>\n      <td>valid</td>\n    </tr>\n    <tr>\n      <th>4</th>\n      <td>428</td>\n      <td>640</td>\n      <td>Images/valid/000000000776.jpg</td>\n      <td>.jpg</td>\n      <td>valid</td>\n    </tr>\n    <tr>\n      <th>...</th>\n      <td>...</td>\n      <td>...</td>\n      <td>...</td>\n      <td>...</td>\n      <td>...</td>\n    </tr>\n    <tr>\n      <th>4995</th>\n      <td>640</td>\n      <td>354</td>\n      <td>Images/valid/000000581317.jpg</td>\n      <td>.jpg</td>\n      <td>valid</td>\n    </tr>\n    <tr>\n      <th>4996</th>\n      <td>612</td>\n      <td>612</td>\n      <td>Images/valid/000000581357.jpg</td>\n      <td>.jpg</td>\n      <td>valid</td>\n    </tr>\n    <tr>\n      <th>4997</th>\n      <td>640</td>\n      <td>427</td>\n      <td>Images/valid/000000581482.jpg</td>\n      <td>.jpg</td>\n      <td>valid</td>\n    </tr>\n    <tr>\n      <th>4998</th>\n      <td>478</td>\n      <td>640</td>\n      <td>Images/valid/000000581615.jpg</td>\n      <td>.jpg</td>\n      <td>valid</td>\n    </tr>\n    <tr>\n      <th>4999</th>\n      <td>640</td>\n      <td>478</td>\n      <td>Images/valid/000000581781.jpg</td>\n      <td>.jpg</td>\n      <td>valid</td>\n    </tr>\n  </tbody>\n</table>\n<p>5000 rows × 5 columns</p>\n</div>",
          "text/plain": "      width  height                  relative_path  type  split\nid                                                             \n0       640     426  Images/valid/000000000139.jpg  .jpg  valid\n1       586     640  Images/valid/000000000285.jpg  .jpg  valid\n2       640     483  Images/valid/000000000632.jpg  .jpg  valid\n3       375     500  Images/valid/000000000724.jpg  .jpg  valid\n4       428     640  Images/valid/000000000776.jpg  .jpg  valid\n...     ...     ...                            ...   ...    ...\n4995    640     354  Images/valid/000000581317.jpg  .jpg  valid\n4996    612     612  Images/valid/000000581357.jpg  .jpg  valid\n4997    640     427  Images/valid/000000581482.jpg  .jpg  valid\n4998    478     640  Images/valid/000000581615.jpg  .jpg  valid\n4999    640     478  Images/valid/000000581781.jpg  .jpg  valid\n\n[5000 rows x 5 columns]"
         },
         "metadata": {},
         "output_type": "display_data"
        }
       ]
      }
     },
     "2a9067f1f71a45dea576b74070e26373": {
      "model_module": "@jupyter-widgets/base",
      "model_module_version": "2.0.0",
      "model_name": "LayoutModel",
      "state": {}
     },
     "2cf5d9a88c3247949c850946da75ea68": {
      "model_module": "@jupyter-widgets/base",
      "model_module_version": "2.0.0",
      "model_name": "LayoutModel",
      "state": {}
     },
     "2d24a8f5bd594fc3a8d31f3474631e19": {
      "model_module": "@jupyter-widgets/controls",
      "model_module_version": "2.0.0",
      "model_name": "TabModel",
      "state": {
       "children": [
        "IPY_MODEL_41d1fb5f8ec24526abd47402a099866c",
        "IPY_MODEL_b25e07525da2464e96bc0df015a82213",
        "IPY_MODEL_ac087e9ac3c140c79ea14a6e6aaffbb7"
       ],
       "layout": "IPY_MODEL_437c53d37a254225b1c2780895aa6178",
       "selected_index": 0,
       "titles": [
        "Images",
        "Annotations",
        "Label Map"
       ]
      }
     },
     "2d7db77130b54cafb143a1b7c507fa71": {
      "model_module": "@jupyter-widgets/output",
      "model_module_version": "1.0.0",
      "model_name": "OutputModel",
      "state": {
       "layout": "IPY_MODEL_7bf208ab93ca491faa2b1a31d26647b8",
       "outputs": [
        {
         "data": {
          "text/html": "<div>\n<style scoped>\n    .dataframe tbody tr th:only-of-type {\n        vertical-align: middle;\n    }\n\n    .dataframe tbody tr th {\n        vertical-align: top;\n    }\n\n    .dataframe thead th {\n        text-align: right;\n    }\n</style>\n<table border=\"1\" class=\"dataframe\">\n  <thead>\n    <tr style=\"text-align: right;\">\n      <th></th>\n      <th>category string</th>\n    </tr>\n    <tr>\n      <th>category_id</th>\n      <th></th>\n    </tr>\n  </thead>\n  <tbody>\n    <tr>\n      <th>1</th>\n      <td>person</td>\n    </tr>\n    <tr>\n      <th>2</th>\n      <td>bicycle</td>\n    </tr>\n    <tr>\n      <th>3</th>\n      <td>car</td>\n    </tr>\n    <tr>\n      <th>4</th>\n      <td>motorcycle</td>\n    </tr>\n    <tr>\n      <th>5</th>\n      <td>airplane</td>\n    </tr>\n    <tr>\n      <th>...</th>\n      <td>...</td>\n    </tr>\n    <tr>\n      <th>86</th>\n      <td>vase</td>\n    </tr>\n    <tr>\n      <th>87</th>\n      <td>scissors</td>\n    </tr>\n    <tr>\n      <th>88</th>\n      <td>teddy bear</td>\n    </tr>\n    <tr>\n      <th>89</th>\n      <td>hair drier</td>\n    </tr>\n    <tr>\n      <th>90</th>\n      <td>toothbrush</td>\n    </tr>\n  </tbody>\n</table>\n<p>80 rows × 1 columns</p>\n</div>",
          "text/plain": "            category string\ncategory_id                \n1                    person\n2                   bicycle\n3                       car\n4                motorcycle\n5                  airplane\n...                     ...\n86                     vase\n87                 scissors\n88               teddy bear\n89               hair drier\n90               toothbrush\n\n[80 rows x 1 columns]"
         },
         "metadata": {},
         "output_type": "display_data"
        }
       ]
      }
     },
     "2eca2d773c854eefba61ef50e9161d37": {
      "model_module": "@jupyter-widgets/base",
      "model_module_version": "2.0.0",
      "model_name": "LayoutModel",
      "state": {}
     },
     "2ecdad4b4e9541b3a2ba68727f5906b1": {
      "model_module": "@jupyter-widgets/base",
      "model_module_version": "2.0.0",
      "model_name": "LayoutModel",
      "state": {}
     },
     "2eda4e5db5ac43819b8bbcb8291987d2": {
      "model_module": "@jupyter-widgets/output",
      "model_module_version": "1.0.0",
      "model_name": "OutputModel",
      "state": {
       "layout": "IPY_MODEL_85f426e2ee5c45d5bec8cd768186b99c",
       "outputs": [
        {
         "data": {
          "text/html": "<div>\n<style scoped>\n    .dataframe tbody tr th:only-of-type {\n        vertical-align: middle;\n    }\n\n    .dataframe tbody tr th {\n        vertical-align: top;\n    }\n\n    .dataframe thead th {\n        text-align: right;\n    }\n</style>\n<table border=\"1\" class=\"dataframe\">\n  <thead>\n    <tr style=\"text-align: right;\">\n      <th></th>\n      <th>category string</th>\n    </tr>\n    <tr>\n      <th>category_id</th>\n      <th></th>\n    </tr>\n  </thead>\n  <tbody>\n    <tr>\n      <th>1</th>\n      <td>person</td>\n    </tr>\n    <tr>\n      <th>2</th>\n      <td>bicycle</td>\n    </tr>\n    <tr>\n      <th>3</th>\n      <td>car</td>\n    </tr>\n    <tr>\n      <th>4</th>\n      <td>motorcycle</td>\n    </tr>\n    <tr>\n      <th>5</th>\n      <td>airplane</td>\n    </tr>\n    <tr>\n      <th>...</th>\n      <td>...</td>\n    </tr>\n    <tr>\n      <th>86</th>\n      <td>vase</td>\n    </tr>\n    <tr>\n      <th>87</th>\n      <td>scissors</td>\n    </tr>\n    <tr>\n      <th>88</th>\n      <td>teddy bear</td>\n    </tr>\n    <tr>\n      <th>89</th>\n      <td>hair drier</td>\n    </tr>\n    <tr>\n      <th>90</th>\n      <td>toothbrush</td>\n    </tr>\n  </tbody>\n</table>\n<p>80 rows × 1 columns</p>\n</div>",
          "text/plain": "            category string\ncategory_id                \n1                    person\n2                   bicycle\n3                       car\n4                motorcycle\n5                  airplane\n...                     ...\n86                     vase\n87                 scissors\n88               teddy bear\n89               hair drier\n90               toothbrush\n\n[80 rows x 1 columns]"
         },
         "metadata": {},
         "output_type": "display_data"
        }
       ]
      }
     },
     "2fce65d13d27434db3c945733110feba": {
      "model_module": "@jupyter-widgets/output",
      "model_module_version": "1.0.0",
      "model_name": "OutputModel",
      "state": {
       "layout": "IPY_MODEL_91e96815232c44b5835ed421e1516dca",
       "outputs": [
        {
         "data": {
          "text/html": "<div>\n<style scoped>\n    .dataframe tbody tr th:only-of-type {\n        vertical-align: middle;\n    }\n\n    .dataframe tbody tr th {\n        vertical-align: top;\n    }\n\n    .dataframe thead th {\n        text-align: right;\n    }\n</style>\n<table border=\"1\" class=\"dataframe\">\n  <thead>\n    <tr style=\"text-align: right;\">\n      <th></th>\n      <th>width</th>\n      <th>height</th>\n      <th>relative_path</th>\n      <th>type</th>\n      <th>split</th>\n    </tr>\n    <tr>\n      <th>id</th>\n      <th></th>\n      <th></th>\n      <th></th>\n      <th></th>\n      <th></th>\n    </tr>\n  </thead>\n  <tbody>\n    <tr>\n      <th>113354</th>\n      <td>640</td>\n      <td>480</td>\n      <td>Images/valid/000000113354.jpg</td>\n      <td>.jpg</td>\n      <td>valid</td>\n    </tr>\n  </tbody>\n</table>\n</div>",
          "text/plain": "        width  height                  relative_path  type  split\nid                                                               \n113354    640     480  Images/valid/000000113354.jpg  .jpg  valid"
         },
         "metadata": {},
         "output_type": "display_data"
        }
       ]
      }
     },
     "301211805d4c40f580e4d61f9e359404": {
      "model_module": "@jupyter-widgets/base",
      "model_module_version": "2.0.0",
      "model_name": "LayoutModel",
      "state": {}
     },
     "31c5d5f134534aa2b95fe24095c20404": {
      "model_module": "@jupyter-widgets/controls",
      "model_module_version": "2.0.0",
      "model_name": "HTMLStyleModel",
      "state": {
       "description_width": "",
       "font_size": null,
       "text_color": null
      }
     },
     "31e84d0a79824ce9a92d05234d3306bf": {
      "model_module": "@jupyter-widgets/base",
      "model_module_version": "2.0.0",
      "model_name": "LayoutModel",
      "state": {}
     },
     "3209edc462354a22a7d772253934a13c": {
      "model_module": "@jupyter-widgets/controls",
      "model_module_version": "2.0.0",
      "model_name": "HTMLStyleModel",
      "state": {
       "description_width": "",
       "font_size": null,
       "text_color": null
      }
     },
     "33dd6b044ff448fb8de7b1e2d0f8cf58": {
      "model_module": "@jupyter-widgets/base",
      "model_module_version": "2.0.0",
      "model_name": "LayoutModel",
      "state": {}
     },
     "33e8c53a668c4f61bfde88a0a536ea24": {
      "model_module": "@jupyter-widgets/output",
      "model_module_version": "1.0.0",
      "model_name": "OutputModel",
      "state": {
       "layout": "IPY_MODEL_5fec21e49c344cbc9c63d4c1d51cd4bb",
       "outputs": [
        {
         "data": {
          "text/html": "<div>\n<style scoped>\n    .dataframe tbody tr th:only-of-type {\n        vertical-align: middle;\n    }\n\n    .dataframe tbody tr th {\n        vertical-align: top;\n    }\n\n    .dataframe thead th {\n        text-align: right;\n    }\n</style>\n<table border=\"1\" class=\"dataframe\">\n  <thead>\n    <tr style=\"text-align: right;\">\n      <th></th>\n      <th>width</th>\n      <th>height</th>\n      <th>relative_path</th>\n      <th>type</th>\n      <th>split</th>\n    </tr>\n    <tr>\n      <th>id</th>\n      <th></th>\n      <th></th>\n      <th></th>\n      <th></th>\n      <th></th>\n    </tr>\n  </thead>\n  <tbody>\n    <tr>\n      <th>352582</th>\n      <td>425</td>\n      <td>640</td>\n      <td>Images/valid/000000352582.jpg</td>\n      <td>.jpg</td>\n      <td>valid</td>\n    </tr>\n    <tr>\n      <th>58393</th>\n      <td>640</td>\n      <td>486</td>\n      <td>Images/valid/000000058393.jpg</td>\n      <td>.jpg</td>\n      <td>valid</td>\n    </tr>\n    <tr>\n      <th>310072</th>\n      <td>640</td>\n      <td>383</td>\n      <td>Images/valid/000000310072.jpg</td>\n      <td>.jpg</td>\n      <td>valid</td>\n    </tr>\n    <tr>\n      <th>519208</th>\n      <td>640</td>\n      <td>406</td>\n      <td>Images/valid/000000519208.jpg</td>\n      <td>.jpg</td>\n      <td>valid</td>\n    </tr>\n    <tr>\n      <th>38048</th>\n      <td>299</td>\n      <td>500</td>\n      <td>Images/valid/000000038048.jpg</td>\n      <td>.jpg</td>\n      <td>valid</td>\n    </tr>\n    <tr>\n      <th>...</th>\n      <td>...</td>\n      <td>...</td>\n      <td>...</td>\n      <td>...</td>\n      <td>...</td>\n    </tr>\n    <tr>\n      <th>286708</th>\n      <td>640</td>\n      <td>481</td>\n      <td>Images/valid/000000286708.jpg</td>\n      <td>.jpg</td>\n      <td>valid</td>\n    </tr>\n    <tr>\n      <th>507893</th>\n      <td>427</td>\n      <td>640</td>\n      <td>Images/valid/000000507893.jpg</td>\n      <td>.jpg</td>\n      <td>valid</td>\n    </tr>\n    <tr>\n      <th>524280</th>\n      <td>640</td>\n      <td>640</td>\n      <td>Images/valid/000000524280.jpg</td>\n      <td>.jpg</td>\n      <td>valid</td>\n    </tr>\n    <tr>\n      <th>344059</th>\n      <td>640</td>\n      <td>427</td>\n      <td>Images/valid/000000344059.jpg</td>\n      <td>.jpg</td>\n      <td>valid</td>\n    </tr>\n    <tr>\n      <th>311295</th>\n      <td>640</td>\n      <td>427</td>\n      <td>Images/valid/000000311295.jpg</td>\n      <td>.jpg</td>\n      <td>valid</td>\n    </tr>\n  </tbody>\n</table>\n<p>5000 rows × 5 columns</p>\n</div>",
          "text/plain": "        width  height                  relative_path  type  split\nid                                                               \n352582    425     640  Images/valid/000000352582.jpg  .jpg  valid\n58393     640     486  Images/valid/000000058393.jpg  .jpg  valid\n310072    640     383  Images/valid/000000310072.jpg  .jpg  valid\n519208    640     406  Images/valid/000000519208.jpg  .jpg  valid\n38048     299     500  Images/valid/000000038048.jpg  .jpg  valid\n...       ...     ...                            ...   ...    ...\n286708    640     481  Images/valid/000000286708.jpg  .jpg  valid\n507893    427     640  Images/valid/000000507893.jpg  .jpg  valid\n524280    640     640  Images/valid/000000524280.jpg  .jpg  valid\n344059    640     427  Images/valid/000000344059.jpg  .jpg  valid\n311295    640     427  Images/valid/000000311295.jpg  .jpg  valid\n\n[5000 rows x 5 columns]"
         },
         "metadata": {},
         "output_type": "display_data"
        }
       ]
      }
     },
     "3542af2d452c45d9a2de907af0446c5c": {
      "model_module": "@jupyter-widgets/controls",
      "model_module_version": "2.0.0",
      "model_name": "VBoxModel",
      "state": {
       "children": [
        "IPY_MODEL_98e9c540954743faacdc7b8ddea8124a",
        "IPY_MODEL_c6f7a9fda097487d8e8c50b0cacdf846"
       ],
       "layout": "IPY_MODEL_e10607eb5ef04569a4c9a797967b2da8"
      }
     },
     "357957009e864da7ae317388a2ca3d36": {
      "model_module": "@jupyter-widgets/controls",
      "model_module_version": "2.0.0",
      "model_name": "HTMLModel",
      "state": {
       "layout": "IPY_MODEL_f5df0a434c4f4e739d799df0d6930bf8",
       "style": "IPY_MODEL_3e34ae6be7b2489d9142f8e1b0946796",
       "value": "<p><span style='white-space: pre-wrap; font-weight: bold'>Dataset object containing 5,000 images and 20,950 objects\nName :\n\tcoco\nImages root :\n\tnotebook_data</span></p>"
      }
     },
     "35c08fe2ab8f4a2ab98fc4dbc7902325": {
      "model_module": "@jupyter-widgets/controls",
      "model_module_version": "2.0.0",
      "model_name": "TabModel",
      "state": {
       "children": [
        "IPY_MODEL_ecf576b29a014db481e9829081b09c68",
        "IPY_MODEL_283b8c8563c44ee186d9bbdc7fabceae",
        "IPY_MODEL_ec10a02b68d543e2a7202f4f193def5c"
       ],
       "layout": "IPY_MODEL_b75cc350015f4ed68787675876e5fc41",
       "selected_index": 0,
       "titles": [
        "Images",
        "Annotations",
        "Label Map"
       ]
      }
     },
     "36ea5bee58d347cb943a1e3773c9b1a9": {
      "model_module": "@jupyter-widgets/controls",
      "model_module_version": "2.0.0",
      "model_name": "HTMLStyleModel",
      "state": {
       "description_width": "",
       "font_size": null,
       "text_color": null
      }
     },
     "3705bba3da4b4d8888ddf8632a4ef809": {
      "model_module": "@jupyter-widgets/controls",
      "model_module_version": "2.0.0",
      "model_name": "VBoxModel",
      "state": {
       "children": [
        "IPY_MODEL_aaf31450ec344590a7e1bc8e6c8260ce",
        "IPY_MODEL_bf859b3043c14f999f630d7d9657d4b1"
       ],
       "layout": "IPY_MODEL_f8bb9c3a15c947268a2a91f733da3611"
      }
     },
     "386e20fbf47c415bb2b40866aca1044d": {
      "model_module": "@jupyter-widgets/controls",
      "model_module_version": "2.0.0",
      "model_name": "HTMLModel",
      "state": {
       "layout": "IPY_MODEL_81cbd34f476d414db06011869f6c9433",
       "style": "IPY_MODEL_893459f11983415abc20160387905a2a",
       "value": "<p><span style='white-space: pre-wrap; font-weight: bold'>Dataset object containing 4,722 images and 34,818 objects\nName :\n\tcoco\nImages root :\n\tnotebook_data</span></p>"
      }
     },
     "3998d3b3576e4118b902136127fa1523": {
      "model_module": "@jupyter-widgets/output",
      "model_module_version": "1.0.0",
      "model_name": "OutputModel",
      "state": {
       "layout": "IPY_MODEL_1ab75e49bbbc4821a82133fbe61f062e",
       "outputs": [
        {
         "data": {
          "text/html": "<div>\n<style scoped>\n    .dataframe tbody tr th:only-of-type {\n        vertical-align: middle;\n    }\n\n    .dataframe tbody tr th {\n        vertical-align: top;\n    }\n\n    .dataframe thead th {\n        text-align: right;\n    }\n</style>\n<table border=\"1\" class=\"dataframe\">\n  <thead>\n    <tr style=\"text-align: right;\">\n      <th></th>\n      <th>category string</th>\n    </tr>\n    <tr>\n      <th>category_id</th>\n      <th></th>\n    </tr>\n  </thead>\n  <tbody>\n    <tr>\n      <th>1</th>\n      <td>person</td>\n    </tr>\n    <tr>\n      <th>2</th>\n      <td>bicycle</td>\n    </tr>\n    <tr>\n      <th>3</th>\n      <td>car</td>\n    </tr>\n    <tr>\n      <th>4</th>\n      <td>motorcycle</td>\n    </tr>\n    <tr>\n      <th>5</th>\n      <td>airplane</td>\n    </tr>\n    <tr>\n      <th>...</th>\n      <td>...</td>\n    </tr>\n    <tr>\n      <th>86</th>\n      <td>vase</td>\n    </tr>\n    <tr>\n      <th>87</th>\n      <td>scissors</td>\n    </tr>\n    <tr>\n      <th>88</th>\n      <td>teddy bear</td>\n    </tr>\n    <tr>\n      <th>89</th>\n      <td>hair drier</td>\n    </tr>\n    <tr>\n      <th>90</th>\n      <td>toothbrush</td>\n    </tr>\n  </tbody>\n</table>\n<p>80 rows × 1 columns</p>\n</div>",
          "text/plain": "            category string\ncategory_id                \n1                    person\n2                   bicycle\n3                       car\n4                motorcycle\n5                  airplane\n...                     ...\n86                     vase\n87                 scissors\n88               teddy bear\n89               hair drier\n90               toothbrush\n\n[80 rows x 1 columns]"
         },
         "metadata": {},
         "output_type": "display_data"
        }
       ]
      }
     },
     "3ab115aa46224d2a85191285da2cb442": {
      "model_module": "@jupyter-widgets/base",
      "model_module_version": "2.0.0",
      "model_name": "LayoutModel",
      "state": {}
     },
     "3b12a2ff1760404eb9d0f402e98dcd25": {
      "model_module": "@jupyter-widgets/base",
      "model_module_version": "2.0.0",
      "model_name": "LayoutModel",
      "state": {}
     },
     "3e34ae6be7b2489d9142f8e1b0946796": {
      "model_module": "@jupyter-widgets/controls",
      "model_module_version": "2.0.0",
      "model_name": "HTMLStyleModel",
      "state": {
       "description_width": "",
       "font_size": null,
       "text_color": null
      }
     },
     "3ea45c5b477b49308bb0e428284e33f5": {
      "model_module": "@jupyter-widgets/base",
      "model_module_version": "2.0.0",
      "model_name": "LayoutModel",
      "state": {}
     },
     "3f8d9a7fce6b45e5b6a4816b261a57aa": {
      "model_module": "@jupyter-widgets/output",
      "model_module_version": "1.0.0",
      "model_name": "OutputModel",
      "state": {
       "layout": "IPY_MODEL_c17e5469e14e45389ae5670a74d3fd6b",
       "outputs": [
        {
         "data": {
          "text/html": "<div>\n<style scoped>\n    .dataframe tbody tr th:only-of-type {\n        vertical-align: middle;\n    }\n\n    .dataframe tbody tr th {\n        vertical-align: top;\n    }\n\n    .dataframe thead th {\n        text-align: right;\n    }\n</style>\n<table border=\"1\" class=\"dataframe\">\n  <thead>\n    <tr style=\"text-align: right;\">\n      <th></th>\n      <th>width</th>\n      <th>height</th>\n      <th>relative_path</th>\n      <th>type</th>\n      <th>split</th>\n    </tr>\n    <tr>\n      <th>id</th>\n      <th></th>\n      <th></th>\n      <th></th>\n      <th></th>\n      <th></th>\n    </tr>\n  </thead>\n  <tbody>\n    <tr>\n      <th>352582</th>\n      <td>425</td>\n      <td>640</td>\n      <td>Images/valid/000000352582.jpg</td>\n      <td>.jpg</td>\n      <td>valid</td>\n    </tr>\n    <tr>\n      <th>58393</th>\n      <td>640</td>\n      <td>486</td>\n      <td>Images/valid/000000058393.jpg</td>\n      <td>.jpg</td>\n      <td>valid</td>\n    </tr>\n    <tr>\n      <th>310072</th>\n      <td>640</td>\n      <td>383</td>\n      <td>Images/valid/000000310072.jpg</td>\n      <td>.jpg</td>\n      <td>valid</td>\n    </tr>\n    <tr>\n      <th>519208</th>\n      <td>640</td>\n      <td>406</td>\n      <td>Images/valid/000000519208.jpg</td>\n      <td>.jpg</td>\n      <td>valid</td>\n    </tr>\n    <tr>\n      <th>38048</th>\n      <td>299</td>\n      <td>500</td>\n      <td>Images/valid/000000038048.jpg</td>\n      <td>.jpg</td>\n      <td>valid</td>\n    </tr>\n    <tr>\n      <th>...</th>\n      <td>...</td>\n      <td>...</td>\n      <td>...</td>\n      <td>...</td>\n      <td>...</td>\n    </tr>\n    <tr>\n      <th>185409</th>\n      <td>640</td>\n      <td>424</td>\n      <td>Images/valid/000000185409.jpg</td>\n      <td>.jpg</td>\n      <td>valid</td>\n    </tr>\n    <tr>\n      <th>577976</th>\n      <td>640</td>\n      <td>428</td>\n      <td>Images/valid/000000577976.jpg</td>\n      <td>.jpg</td>\n      <td>valid</td>\n    </tr>\n    <tr>\n      <th>363188</th>\n      <td>640</td>\n      <td>425</td>\n      <td>Images/valid/000000363188.jpg</td>\n      <td>.jpg</td>\n      <td>valid</td>\n    </tr>\n    <tr>\n      <th>302030</th>\n      <td>640</td>\n      <td>359</td>\n      <td>Images/valid/000000302030.jpg</td>\n      <td>.jpg</td>\n      <td>valid</td>\n    </tr>\n    <tr>\n      <th>428280</th>\n      <td>500</td>\n      <td>333</td>\n      <td>Images/valid/000000428280.jpg</td>\n      <td>.jpg</td>\n      <td>valid</td>\n    </tr>\n  </tbody>\n</table>\n<p>2500 rows × 5 columns</p>\n</div>",
          "text/plain": "        width  height                  relative_path  type  split\nid                                                               \n352582    425     640  Images/valid/000000352582.jpg  .jpg  valid\n58393     640     486  Images/valid/000000058393.jpg  .jpg  valid\n310072    640     383  Images/valid/000000310072.jpg  .jpg  valid\n519208    640     406  Images/valid/000000519208.jpg  .jpg  valid\n38048     299     500  Images/valid/000000038048.jpg  .jpg  valid\n...       ...     ...                            ...   ...    ...\n185409    640     424  Images/valid/000000185409.jpg  .jpg  valid\n577976    640     428  Images/valid/000000577976.jpg  .jpg  valid\n363188    640     425  Images/valid/000000363188.jpg  .jpg  valid\n302030    640     359  Images/valid/000000302030.jpg  .jpg  valid\n428280    500     333  Images/valid/000000428280.jpg  .jpg  valid\n\n[2500 rows x 5 columns]"
         },
         "metadata": {},
         "output_type": "display_data"
        }
       ]
      }
     },
     "41d1fb5f8ec24526abd47402a099866c": {
      "model_module": "@jupyter-widgets/output",
      "model_module_version": "1.0.0",
      "model_name": "OutputModel",
      "state": {
       "layout": "IPY_MODEL_5e66223c872e4da2ac883f200de13e76",
       "outputs": [
        {
         "data": {
          "text/html": "<div>\n<style scoped>\n    .dataframe tbody tr th:only-of-type {\n        vertical-align: middle;\n    }\n\n    .dataframe tbody tr th {\n        vertical-align: top;\n    }\n\n    .dataframe thead th {\n        text-align: right;\n    }\n</style>\n<table border=\"1\" class=\"dataframe\">\n  <thead>\n    <tr style=\"text-align: right;\">\n      <th></th>\n      <th>width</th>\n      <th>height</th>\n      <th>relative_path</th>\n      <th>type</th>\n      <th>split</th>\n    </tr>\n    <tr>\n      <th>id</th>\n      <th></th>\n      <th></th>\n      <th></th>\n      <th></th>\n      <th></th>\n    </tr>\n  </thead>\n  <tbody>\n    <tr>\n      <th>352582</th>\n      <td>425</td>\n      <td>640</td>\n      <td>Images/valid/000000352582.jpg</td>\n      <td>.jpg</td>\n      <td>valid</td>\n    </tr>\n    <tr>\n      <th>113354</th>\n      <td>640</td>\n      <td>480</td>\n      <td>Images/valid/000000113354.jpg</td>\n      <td>.jpg</td>\n      <td>valid</td>\n    </tr>\n  </tbody>\n</table>\n</div>",
          "text/plain": "        width  height                  relative_path  type  split\nid                                                               \n352582    425     640  Images/valid/000000352582.jpg  .jpg  valid\n113354    640     480  Images/valid/000000113354.jpg  .jpg  valid"
         },
         "metadata": {},
         "output_type": "display_data"
        }
       ]
      }
     },
     "42ec456df0704ce7b9e76650e63624c6": {
      "model_module": "@jupyter-widgets/output",
      "model_module_version": "1.0.0",
      "model_name": "OutputModel",
      "state": {
       "layout": "IPY_MODEL_f1b510f4d8bb4bba8ad06e2e2a53619f",
       "outputs": [
        {
         "data": {
          "text/html": "<div>\n<style scoped>\n    .dataframe tbody tr th:only-of-type {\n        vertical-align: middle;\n    }\n\n    .dataframe tbody tr th {\n        vertical-align: top;\n    }\n\n    .dataframe thead th {\n        text-align: right;\n    }\n</style>\n<table border=\"1\" class=\"dataframe\">\n  <thead>\n    <tr style=\"text-align: right;\">\n      <th></th>\n      <th>image_id</th>\n      <th>category_str</th>\n      <th>category_id</th>\n      <th>split</th>\n      <th>box_x_min</th>\n      <th>box_y_min</th>\n      <th>box_width</th>\n      <th>box_height</th>\n      <th>area</th>\n    </tr>\n    <tr>\n      <th>id</th>\n      <th></th>\n      <th></th>\n      <th></th>\n      <th></th>\n      <th></th>\n      <th></th>\n      <th></th>\n      <th></th>\n      <th></th>\n    </tr>\n  </thead>\n  <tbody>\n    <tr>\n      <th>0</th>\n      <td>0</td>\n      <td>chair</td>\n      <td>62</td>\n      <td>valid</td>\n      <td>244.82</td>\n      <td>230.45</td>\n      <td>104.72</td>\n      <td>87.69</td>\n      <td>5184.22260</td>\n    </tr>\n    <tr>\n      <th>1</th>\n      <td>0</td>\n      <td>potted plant</td>\n      <td>64</td>\n      <td>valid</td>\n      <td>183.36</td>\n      <td>136.56</td>\n      <td>60.78</td>\n      <td>92.39</td>\n      <td>2464.93305</td>\n    </tr>\n    <tr>\n      <th>2</th>\n      <td>0</td>\n      <td>potted plant</td>\n      <td>64</td>\n      <td>valid</td>\n      <td>347.35</td>\n      <td>212.37</td>\n      <td>82.51</td>\n      <td>143.00</td>\n      <td>7034.62185</td>\n    </tr>\n    <tr>\n      <th>3</th>\n      <td>0</td>\n      <td>bed</td>\n      <td>65</td>\n      <td>valid</td>\n      <td>3.27</td>\n      <td>266.85</td>\n      <td>401.23</td>\n      <td>208.25</td>\n      <td>64019.87940</td>\n    </tr>\n    <tr>\n      <th>4</th>\n      <td>0</td>\n      <td>book</td>\n      <td>84</td>\n      <td>valid</td>\n      <td>416.00</td>\n      <td>43.00</td>\n      <td>153.00</td>\n      <td>303.00</td>\n      <td>20933.00000</td>\n    </tr>\n    <tr>\n      <th>...</th>\n      <td>...</td>\n      <td>...</td>\n      <td>...</td>\n      <td>...</td>\n      <td>...</td>\n      <td>...</td>\n      <td>...</td>\n      <td>...</td>\n      <td>...</td>\n    </tr>\n    <tr>\n      <th>36776</th>\n      <td>4997</td>\n      <td>skateboard</td>\n      <td>41</td>\n      <td>valid</td>\n      <td>128.77</td>\n      <td>152.72</td>\n      <td>50.00</td>\n      <td>17.21</td>\n      <td>364.30040</td>\n    </tr>\n    <tr>\n      <th>36777</th>\n      <td>4998</td>\n      <td>person</td>\n      <td>1</td>\n      <td>valid</td>\n      <td>0.00</td>\n      <td>2.53</td>\n      <td>469.53</td>\n      <td>215.26</td>\n      <td>53359.63985</td>\n    </tr>\n    <tr>\n      <th>36778</th>\n      <td>4998</td>\n      <td>hot dog</td>\n      <td>58</td>\n      <td>valid</td>\n      <td>39.91</td>\n      <td>140.73</td>\n      <td>308.31</td>\n      <td>232.60</td>\n      <td>46341.95470</td>\n    </tr>\n    <tr>\n      <th>36779</th>\n      <td>4998</td>\n      <td>hot dog</td>\n      <td>58</td>\n      <td>valid</td>\n      <td>147.27</td>\n      <td>282.15</td>\n      <td>246.36</td>\n      <td>206.45</td>\n      <td>14878.08055</td>\n    </tr>\n    <tr>\n      <th>36780</th>\n      <td>4999</td>\n      <td>toilet</td>\n      <td>70</td>\n      <td>valid</td>\n      <td>139.32</td>\n      <td>386.03</td>\n      <td>191.56</td>\n      <td>235.10</td>\n      <td>34120.51835</td>\n    </tr>\n  </tbody>\n</table>\n<p>36781 rows × 9 columns</p>\n</div>",
          "text/plain": "       image_id  category_str  category_id  split  box_x_min  box_y_min  \\\nid                                                                        \n0             0         chair           62  valid     244.82     230.45   \n1             0  potted plant           64  valid     183.36     136.56   \n2             0  potted plant           64  valid     347.35     212.37   \n3             0           bed           65  valid       3.27     266.85   \n4             0          book           84  valid     416.00      43.00   \n...         ...           ...          ...    ...        ...        ...   \n36776      4997    skateboard           41  valid     128.77     152.72   \n36777      4998        person            1  valid       0.00       2.53   \n36778      4998       hot dog           58  valid      39.91     140.73   \n36779      4998       hot dog           58  valid     147.27     282.15   \n36780      4999        toilet           70  valid     139.32     386.03   \n\n       box_width  box_height         area  \nid                                         \n0         104.72       87.69   5184.22260  \n1          60.78       92.39   2464.93305  \n2          82.51      143.00   7034.62185  \n3         401.23      208.25  64019.87940  \n4         153.00      303.00  20933.00000  \n...          ...         ...          ...  \n36776      50.00       17.21    364.30040  \n36777     469.53      215.26  53359.63985  \n36778     308.31      232.60  46341.95470  \n36779     246.36      206.45  14878.08055  \n36780     191.56      235.10  34120.51835  \n\n[36781 rows x 9 columns]"
         },
         "metadata": {},
         "output_type": "display_data"
        }
       ]
      }
     },
     "42f49954f3374d9db6e010ab6ad3e6cd": {
      "model_module": "@jupyter-widgets/base",
      "model_module_version": "2.0.0",
      "model_name": "LayoutModel",
      "state": {}
     },
     "4348de50280a44f8a13045980f827e59": {
      "model_module": "@jupyter-widgets/output",
      "model_module_version": "1.0.0",
      "model_name": "OutputModel",
      "state": {
       "layout": "IPY_MODEL_ccd0c39ae0d646ff9987e51710d01995",
       "outputs": [
        {
         "data": {
          "text/html": "<div>\n<style scoped>\n    .dataframe tbody tr th:only-of-type {\n        vertical-align: middle;\n    }\n\n    .dataframe tbody tr th {\n        vertical-align: top;\n    }\n\n    .dataframe thead th {\n        text-align: right;\n    }\n</style>\n<table border=\"1\" class=\"dataframe\">\n  <thead>\n    <tr style=\"text-align: right;\">\n      <th></th>\n      <th>category string</th>\n    </tr>\n    <tr>\n      <th>category_id</th>\n      <th></th>\n    </tr>\n  </thead>\n  <tbody>\n    <tr>\n      <th>1</th>\n      <td>aeroplane</td>\n    </tr>\n    <tr>\n      <th>2</th>\n      <td>bicycle</td>\n    </tr>\n    <tr>\n      <th>3</th>\n      <td>bird</td>\n    </tr>\n    <tr>\n      <th>4</th>\n      <td>boat</td>\n    </tr>\n    <tr>\n      <th>5</th>\n      <td>bottle</td>\n    </tr>\n    <tr>\n      <th>6</th>\n      <td>bus</td>\n    </tr>\n    <tr>\n      <th>7</th>\n      <td>car</td>\n    </tr>\n    <tr>\n      <th>8</th>\n      <td>cat</td>\n    </tr>\n    <tr>\n      <th>9</th>\n      <td>chair</td>\n    </tr>\n    <tr>\n      <th>10</th>\n      <td>cow</td>\n    </tr>\n    <tr>\n      <th>11</th>\n      <td>diningtable</td>\n    </tr>\n    <tr>\n      <th>12</th>\n      <td>dog</td>\n    </tr>\n    <tr>\n      <th>13</th>\n      <td>horse</td>\n    </tr>\n    <tr>\n      <th>14</th>\n      <td>motorbike</td>\n    </tr>\n    <tr>\n      <th>15</th>\n      <td>person</td>\n    </tr>\n    <tr>\n      <th>16</th>\n      <td>pottedplant</td>\n    </tr>\n    <tr>\n      <th>17</th>\n      <td>sheep</td>\n    </tr>\n    <tr>\n      <th>18</th>\n      <td>sofa</td>\n    </tr>\n    <tr>\n      <th>19</th>\n      <td>train</td>\n    </tr>\n    <tr>\n      <th>20</th>\n      <td>tvmonitor</td>\n    </tr>\n    <tr>\n      <th>21</th>\n      <td>something else</td>\n    </tr>\n  </tbody>\n</table>\n</div>",
          "text/plain": "            category string\ncategory_id                \n1                 aeroplane\n2                   bicycle\n3                      bird\n4                      boat\n5                    bottle\n6                       bus\n7                       car\n8                       cat\n9                     chair\n10                      cow\n11              diningtable\n12                      dog\n13                    horse\n14                motorbike\n15                   person\n16              pottedplant\n17                    sheep\n18                     sofa\n19                    train\n20                tvmonitor\n21           something else"
         },
         "metadata": {},
         "output_type": "display_data"
        }
       ]
      }
     },
     "437c53d37a254225b1c2780895aa6178": {
      "model_module": "@jupyter-widgets/base",
      "model_module_version": "2.0.0",
      "model_name": "LayoutModel",
      "state": {}
     },
     "444834df6a7744f28333fc00e08f015e": {
      "model_module": "@jupyter-widgets/output",
      "model_module_version": "1.0.0",
      "model_name": "OutputModel",
      "state": {
       "layout": "IPY_MODEL_5637e06d76514666b1d7fcf8d7cca48f",
       "outputs": [
        {
         "data": {
          "text/html": "<div>\n<style scoped>\n    .dataframe tbody tr th:only-of-type {\n        vertical-align: middle;\n    }\n\n    .dataframe tbody tr th {\n        vertical-align: top;\n    }\n\n    .dataframe thead th {\n        text-align: right;\n    }\n</style>\n<table border=\"1\" class=\"dataframe\">\n  <thead>\n    <tr style=\"text-align: right;\">\n      <th></th>\n      <th>width</th>\n      <th>height</th>\n      <th>relative_path</th>\n      <th>type</th>\n      <th>split</th>\n    </tr>\n    <tr>\n      <th>id</th>\n      <th></th>\n      <th></th>\n      <th></th>\n      <th></th>\n      <th></th>\n    </tr>\n  </thead>\n  <tbody>\n    <tr>\n      <th>352582</th>\n      <td>425</td>\n      <td>640</td>\n      <td>Images/valid/000000352582.jpg</td>\n      <td>.jpg</td>\n      <td>valid</td>\n    </tr>\n    <tr>\n      <th>113354</th>\n      <td>640</td>\n      <td>480</td>\n      <td>Images/valid/000000113354.jpg</td>\n      <td>.jpg</td>\n      <td>valid</td>\n    </tr>\n    <tr>\n      <th>58393</th>\n      <td>640</td>\n      <td>486</td>\n      <td>Images/valid/000000058393.jpg</td>\n      <td>.jpg</td>\n      <td>valid</td>\n    </tr>\n    <tr>\n      <th>147729</th>\n      <td>500</td>\n      <td>375</td>\n      <td>Images/valid/000000147729.jpg</td>\n      <td>.jpg</td>\n      <td>valid</td>\n    </tr>\n    <tr>\n      <th>310072</th>\n      <td>640</td>\n      <td>383</td>\n      <td>Images/valid/000000310072.jpg</td>\n      <td>.jpg</td>\n      <td>valid</td>\n    </tr>\n    <tr>\n      <th>...</th>\n      <td>...</td>\n      <td>...</td>\n      <td>...</td>\n      <td>...</td>\n      <td>...</td>\n    </tr>\n    <tr>\n      <th>311180</th>\n      <td>480</td>\n      <td>640</td>\n      <td>Images/valid/000000311180.jpg</td>\n      <td>.jpg</td>\n      <td>valid</td>\n    </tr>\n    <tr>\n      <th>302030</th>\n      <td>640</td>\n      <td>359</td>\n      <td>Images/valid/000000302030.jpg</td>\n      <td>.jpg</td>\n      <td>valid</td>\n    </tr>\n    <tr>\n      <th>105455</th>\n      <td>427</td>\n      <td>640</td>\n      <td>Images/valid/000000105455.jpg</td>\n      <td>.jpg</td>\n      <td>valid</td>\n    </tr>\n    <tr>\n      <th>428280</th>\n      <td>500</td>\n      <td>333</td>\n      <td>Images/valid/000000428280.jpg</td>\n      <td>.jpg</td>\n      <td>valid</td>\n    </tr>\n    <tr>\n      <th>349837</th>\n      <td>500</td>\n      <td>333</td>\n      <td>Images/valid/000000349837.jpg</td>\n      <td>.jpg</td>\n      <td>valid</td>\n    </tr>\n  </tbody>\n</table>\n<p>5000 rows × 5 columns</p>\n</div>",
          "text/plain": "        width  height                  relative_path  type  split\nid                                                               \n352582    425     640  Images/valid/000000352582.jpg  .jpg  valid\n113354    640     480  Images/valid/000000113354.jpg  .jpg  valid\n58393     640     486  Images/valid/000000058393.jpg  .jpg  valid\n147729    500     375  Images/valid/000000147729.jpg  .jpg  valid\n310072    640     383  Images/valid/000000310072.jpg  .jpg  valid\n...       ...     ...                            ...   ...    ...\n311180    480     640  Images/valid/000000311180.jpg  .jpg  valid\n302030    640     359  Images/valid/000000302030.jpg  .jpg  valid\n105455    427     640  Images/valid/000000105455.jpg  .jpg  valid\n428280    500     333  Images/valid/000000428280.jpg  .jpg  valid\n349837    500     333  Images/valid/000000349837.jpg  .jpg  valid\n\n[5000 rows x 5 columns]"
         },
         "metadata": {},
         "output_type": "display_data"
        }
       ]
      }
     },
     "4451e043cc5a4137b2ee99911d110707": {
      "model_module": "@jupyter-widgets/controls",
      "model_module_version": "2.0.0",
      "model_name": "TabModel",
      "state": {
       "children": [
        "IPY_MODEL_1e78149cc3e44af495d17c80b0e0015b",
        "IPY_MODEL_026b7cd5221b4ea3baf71572d7437064",
        "IPY_MODEL_a799764dd9924208b78132c873ae60c0"
       ],
       "layout": "IPY_MODEL_98dc851e52e94d1682bf1c559530db18",
       "selected_index": 0,
       "titles": [
        "Images",
        "Annotations",
        "Label Map"
       ]
      }
     },
     "44adcddaa7994223b957a8385b296bc9": {
      "model_module": "@jupyter-widgets/controls",
      "model_module_version": "2.0.0",
      "model_name": "HTMLModel",
      "state": {
       "layout": "IPY_MODEL_0e3375a643124cf9bbe53c4c807fde5f",
       "style": "IPY_MODEL_d6fe810a673b4df3b2dee940a9ca2897",
       "value": "<p><span style='white-space: pre-wrap; font-weight: bold'>Dataset object containing 5,000 images and 36,781 objects\nName :\n\tcoco\nImages root :\n\tnotebook_data</span></p>"
      }
     },
     "46848b28dac8460abe51743163af9939": {
      "model_module": "@jupyter-widgets/controls",
      "model_module_version": "2.0.0",
      "model_name": "VBoxModel",
      "state": {
       "children": [
        "IPY_MODEL_0c28b3bd2999413286338ace0fc5d4f7",
        "IPY_MODEL_d2a60949036846628bae224850cb21e5"
       ],
       "layout": "IPY_MODEL_0a41d889cee04896b371be88fb621959"
      }
     },
     "46e2e51db1ef4897ba11de653a89fd50": {
      "model_module": "@jupyter-widgets/base",
      "model_module_version": "2.0.0",
      "model_name": "LayoutModel",
      "state": {}
     },
     "47f377ac62584f86894264ba0e7c570d": {
      "model_module": "@jupyter-widgets/base",
      "model_module_version": "2.0.0",
      "model_name": "LayoutModel",
      "state": {}
     },
     "48d1ff71f56c4763a7ac4d3736fbddf1": {
      "model_module": "@jupyter-widgets/controls",
      "model_module_version": "2.0.0",
      "model_name": "TabModel",
      "state": {
       "children": [
        "IPY_MODEL_f288611e5cda425387ea6350e30e1af2",
        "IPY_MODEL_ccc69999bf004cdcbde3354d74c78850",
        "IPY_MODEL_3998d3b3576e4118b902136127fa1523"
       ],
       "layout": "IPY_MODEL_b60cb52cd3e4493283ae46259ea964f1",
       "selected_index": 0,
       "titles": [
        "Images",
        "Annotations",
        "Label Map"
       ]
      }
     },
     "494d15aa83c24127ac87b30c627df20b": {
      "model_module": "@jupyter-widgets/base",
      "model_module_version": "2.0.0",
      "model_name": "LayoutModel",
      "state": {}
     },
     "4af4df92ffd74f19a264c6298fec7326": {
      "model_module": "@jupyter-widgets/base",
      "model_module_version": "2.0.0",
      "model_name": "LayoutModel",
      "state": {}
     },
     "4b5120a0e8274f3babc93743e1e22543": {
      "model_module": "@jupyter-widgets/controls",
      "model_module_version": "2.0.0",
      "model_name": "HTMLModel",
      "state": {
       "layout": "IPY_MODEL_5a2c3538561d4536a1a05f56c6f27729",
       "style": "IPY_MODEL_f29e02fa480a4e51b63c85f5a07560dc",
       "value": "<p><span style='white-space: pre-wrap; font-weight: bold'>Dataset object containing 5,000 images and 41,900 objects\nName :\n\tcoco\nImages root :\n\tnotebook_data</span></p>"
      }
     },
     "4c156340353a448aa26c07d00f3534ee": {
      "model_module": "@jupyter-widgets/output",
      "model_module_version": "1.0.0",
      "model_name": "OutputModel",
      "state": {
       "layout": "IPY_MODEL_db244fd778374cd9a420b62f45288859",
       "outputs": [
        {
         "data": {
          "text/html": "<div>\n<style scoped>\n    .dataframe tbody tr th:only-of-type {\n        vertical-align: middle;\n    }\n\n    .dataframe tbody tr th {\n        vertical-align: top;\n    }\n\n    .dataframe thead th {\n        text-align: right;\n    }\n</style>\n<table border=\"1\" class=\"dataframe\">\n  <thead>\n    <tr style=\"text-align: right;\">\n      <th></th>\n      <th>image_id</th>\n      <th>category_str</th>\n      <th>category_id</th>\n      <th>split</th>\n      <th>box_x_min</th>\n      <th>box_y_min</th>\n      <th>box_width</th>\n      <th>box_height</th>\n      <th>area</th>\n    </tr>\n    <tr>\n      <th>id</th>\n      <th></th>\n      <th></th>\n      <th></th>\n      <th></th>\n      <th></th>\n      <th></th>\n      <th></th>\n      <th></th>\n      <th></th>\n    </tr>\n  </thead>\n  <tbody>\n    <tr>\n      <th>460450</th>\n      <td>352582</td>\n      <td>person</td>\n      <td>15</td>\n      <td>valid</td>\n      <td>112.43</td>\n      <td>195.32</td>\n      <td>214.78</td>\n      <td>438.19</td>\n      <td>48685.67910</td>\n    </tr>\n    <tr>\n      <th>535917</th>\n      <td>352582</td>\n      <td>person</td>\n      <td>15</td>\n      <td>valid</td>\n      <td>0.00</td>\n      <td>256.00</td>\n      <td>80.54</td>\n      <td>376.81</td>\n      <td>22650.73800</td>\n    </tr>\n    <tr>\n      <th>467905</th>\n      <td>58393</td>\n      <td>person</td>\n      <td>15</td>\n      <td>valid</td>\n      <td>342.52</td>\n      <td>163.33</td>\n      <td>192.24</td>\n      <td>77.47</td>\n      <td>5408.64720</td>\n    </tr>\n    <tr>\n      <th>1710990</th>\n      <td>58393</td>\n      <td>person</td>\n      <td>15</td>\n      <td>valid</td>\n      <td>418.99</td>\n      <td>182.65</td>\n      <td>61.12</td>\n      <td>45.00</td>\n      <td>1792.80770</td>\n    </tr>\n    <tr>\n      <th>1238519</th>\n      <td>147729</td>\n      <td>person</td>\n      <td>15</td>\n      <td>valid</td>\n      <td>0.00</td>\n      <td>87.01</td>\n      <td>310.67</td>\n      <td>287.99</td>\n      <td>55847.52705</td>\n    </tr>\n    <tr>\n      <th>...</th>\n      <td>...</td>\n      <td>...</td>\n      <td>...</td>\n      <td>...</td>\n      <td>...</td>\n      <td>...</td>\n      <td>...</td>\n      <td>...</td>\n      <td>...</td>\n    </tr>\n    <tr>\n      <th>906701608203</th>\n      <td>105455</td>\n      <td>car</td>\n      <td>7</td>\n      <td>valid</td>\n      <td>333.56</td>\n      <td>517.21</td>\n      <td>17.43</td>\n      <td>14.58</td>\n      <td>182.21680</td>\n    </tr>\n    <tr>\n      <th>906700523633</th>\n      <td>428280</td>\n      <td>chair</td>\n      <td>9</td>\n      <td>valid</td>\n      <td>3.58</td>\n      <td>189.14</td>\n      <td>176.88</td>\n      <td>125.32</td>\n      <td>9942.25095</td>\n    </tr>\n    <tr>\n      <th>906700523799</th>\n      <td>428280</td>\n      <td>chair</td>\n      <td>9</td>\n      <td>valid</td>\n      <td>244.05</td>\n      <td>152.29</td>\n      <td>68.51</td>\n      <td>34.49</td>\n      <td>1457.96785</td>\n    </tr>\n    <tr>\n      <th>906700524550</th>\n      <td>428280</td>\n      <td>chair</td>\n      <td>9</td>\n      <td>valid</td>\n      <td>187.71</td>\n      <td>114.80</td>\n      <td>44.07</td>\n      <td>66.41</td>\n      <td>2069.93800</td>\n    </tr>\n    <tr>\n      <th>906702605969</th>\n      <td>428280</td>\n      <td>chair</td>\n      <td>9</td>\n      <td>valid</td>\n      <td>203.58</td>\n      <td>179.65</td>\n      <td>105.27</td>\n      <td>139.55</td>\n      <td>7696.12525</td>\n    </tr>\n  </tbody>\n</table>\n<p>41900 rows × 9 columns</p>\n</div>",
          "text/plain": "              image_id category_str  category_id  split  box_x_min  box_y_min  \\\nid                                                                              \n460450          352582       person           15  valid     112.43     195.32   \n535917          352582       person           15  valid       0.00     256.00   \n467905           58393       person           15  valid     342.52     163.33   \n1710990          58393       person           15  valid     418.99     182.65   \n1238519         147729       person           15  valid       0.00      87.01   \n...                ...          ...          ...    ...        ...        ...   \n906701608203    105455          car            7  valid     333.56     517.21   \n906700523633    428280        chair            9  valid       3.58     189.14   \n906700523799    428280        chair            9  valid     244.05     152.29   \n906700524550    428280        chair            9  valid     187.71     114.80   \n906702605969    428280        chair            9  valid     203.58     179.65   \n\n              box_width  box_height         area  \nid                                                \n460450           214.78      438.19  48685.67910  \n535917            80.54      376.81  22650.73800  \n467905           192.24       77.47   5408.64720  \n1710990           61.12       45.00   1792.80770  \n1238519          310.67      287.99  55847.52705  \n...                 ...         ...          ...  \n906701608203      17.43       14.58    182.21680  \n906700523633     176.88      125.32   9942.25095  \n906700523799      68.51       34.49   1457.96785  \n906700524550      44.07       66.41   2069.93800  \n906702605969     105.27      139.55   7696.12525  \n\n[41900 rows x 9 columns]"
         },
         "metadata": {},
         "output_type": "display_data"
        }
       ]
      }
     },
     "4c5b28016ec346c8978de6c783d973ae": {
      "model_module": "@jupyter-widgets/base",
      "model_module_version": "2.0.0",
      "model_name": "LayoutModel",
      "state": {}
     },
     "4d6380718f7241499844d16e3f92fe3a": {
      "model_module": "@jupyter-widgets/base",
      "model_module_version": "2.0.0",
      "model_name": "LayoutModel",
      "state": {}
     },
     "4e9e02be8d9f47a883d4b2e4c7dd3f5f": {
      "model_module": "@jupyter-widgets/base",
      "model_module_version": "2.0.0",
      "model_name": "LayoutModel",
      "state": {}
     },
     "4f24b4c99bbd4bb986f611bdc3cb0cc5": {
      "model_module": "@jupyter-widgets/controls",
      "model_module_version": "2.0.0",
      "model_name": "TabModel",
      "state": {
       "children": [
        "IPY_MODEL_9f7b0de8a9b044f0a71fb2f1470c8821",
        "IPY_MODEL_a76843a616534c5a84fda9a53ae68fc7",
        "IPY_MODEL_154a1b375375452988f208e85549c375"
       ],
       "layout": "IPY_MODEL_6260ada7134c4ecf9439b463e1f5f7ce",
       "selected_index": 0,
       "titles": [
        "Images",
        "Annotations",
        "Label Map"
       ]
      }
     },
     "4f56193640fa4ba2aad64ba1d62e31f1": {
      "model_module": "@jupyter-widgets/base",
      "model_module_version": "2.0.0",
      "model_name": "LayoutModel",
      "state": {}
     },
     "4f94b08d95494bd1937c5e54d3b73942": {
      "model_module": "@jupyter-widgets/output",
      "model_module_version": "1.0.0",
      "model_name": "OutputModel",
      "state": {
       "layout": "IPY_MODEL_211946f8bec547cc8dc5f8c2b8e9af77",
       "outputs": [
        {
         "data": {
          "text/html": "<div>\n<style scoped>\n    .dataframe tbody tr th:only-of-type {\n        vertical-align: middle;\n    }\n\n    .dataframe tbody tr th {\n        vertical-align: top;\n    }\n\n    .dataframe thead th {\n        text-align: right;\n    }\n</style>\n<table border=\"1\" class=\"dataframe\">\n  <thead>\n    <tr style=\"text-align: right;\">\n      <th></th>\n      <th>category string</th>\n    </tr>\n    <tr>\n      <th>category_id</th>\n      <th></th>\n    </tr>\n  </thead>\n  <tbody>\n    <tr>\n      <th>1</th>\n      <td>person</td>\n    </tr>\n    <tr>\n      <th>2</th>\n      <td>bicycle</td>\n    </tr>\n    <tr>\n      <th>3</th>\n      <td>car</td>\n    </tr>\n    <tr>\n      <th>4</th>\n      <td>motorcycle</td>\n    </tr>\n    <tr>\n      <th>5</th>\n      <td>airplane</td>\n    </tr>\n    <tr>\n      <th>...</th>\n      <td>...</td>\n    </tr>\n    <tr>\n      <th>86</th>\n      <td>vase</td>\n    </tr>\n    <tr>\n      <th>87</th>\n      <td>scissors</td>\n    </tr>\n    <tr>\n      <th>88</th>\n      <td>teddy bear</td>\n    </tr>\n    <tr>\n      <th>89</th>\n      <td>hair drier</td>\n    </tr>\n    <tr>\n      <th>90</th>\n      <td>toothbrush</td>\n    </tr>\n  </tbody>\n</table>\n<p>80 rows × 1 columns</p>\n</div>",
          "text/plain": "            category string\ncategory_id                \n1                    person\n2                   bicycle\n3                       car\n4                motorcycle\n5                  airplane\n...                     ...\n86                     vase\n87                 scissors\n88               teddy bear\n89               hair drier\n90               toothbrush\n\n[80 rows x 1 columns]"
         },
         "metadata": {},
         "output_type": "display_data"
        }
       ]
      }
     },
     "4fa27b89ba544bd1ac84c2e3179e827f": {
      "model_module": "@jupyter-widgets/controls",
      "model_module_version": "2.0.0",
      "model_name": "HTMLStyleModel",
      "state": {
       "description_width": "",
       "font_size": null,
       "text_color": null
      }
     },
     "4fc4c1800ef645c293daa0d77c993f92": {
      "model_module": "@jupyter-widgets/output",
      "model_module_version": "1.0.0",
      "model_name": "OutputModel",
      "state": {
       "layout": "IPY_MODEL_e345619f1ff841aeb526c74d4a9afa99",
       "outputs": [
        {
         "data": {
          "text/html": "<div>\n<style scoped>\n    .dataframe tbody tr th:only-of-type {\n        vertical-align: middle;\n    }\n\n    .dataframe tbody tr th {\n        vertical-align: top;\n    }\n\n    .dataframe thead th {\n        text-align: right;\n    }\n</style>\n<table border=\"1\" class=\"dataframe\">\n  <thead>\n    <tr style=\"text-align: right;\">\n      <th></th>\n      <th>width</th>\n      <th>height</th>\n      <th>relative_path</th>\n      <th>type</th>\n      <th>split</th>\n    </tr>\n    <tr>\n      <th>id</th>\n      <th></th>\n      <th></th>\n      <th></th>\n      <th></th>\n      <th></th>\n    </tr>\n  </thead>\n  <tbody>\n    <tr>\n      <th>352582</th>\n      <td>425</td>\n      <td>640</td>\n      <td>Images/valid/000000352582.jpg</td>\n      <td>.jpg</td>\n      <td>valid</td>\n    </tr>\n    <tr>\n      <th>113354</th>\n      <td>640</td>\n      <td>480</td>\n      <td>Images/valid/000000113354.jpg</td>\n      <td>.jpg</td>\n      <td>valid</td>\n    </tr>\n    <tr>\n      <th>58393</th>\n      <td>640</td>\n      <td>486</td>\n      <td>Images/valid/000000058393.jpg</td>\n      <td>.jpg</td>\n      <td>valid</td>\n    </tr>\n    <tr>\n      <th>147729</th>\n      <td>500</td>\n      <td>375</td>\n      <td>Images/valid/000000147729.jpg</td>\n      <td>.jpg</td>\n      <td>valid</td>\n    </tr>\n    <tr>\n      <th>310072</th>\n      <td>640</td>\n      <td>383</td>\n      <td>Images/valid/000000310072.jpg</td>\n      <td>.jpg</td>\n      <td>valid</td>\n    </tr>\n    <tr>\n      <th>...</th>\n      <td>...</td>\n      <td>...</td>\n      <td>...</td>\n      <td>...</td>\n      <td>...</td>\n    </tr>\n    <tr>\n      <th>311180</th>\n      <td>480</td>\n      <td>640</td>\n      <td>Images/valid/000000311180.jpg</td>\n      <td>.jpg</td>\n      <td>valid</td>\n    </tr>\n    <tr>\n      <th>302030</th>\n      <td>640</td>\n      <td>359</td>\n      <td>Images/valid/000000302030.jpg</td>\n      <td>.jpg</td>\n      <td>valid</td>\n    </tr>\n    <tr>\n      <th>105455</th>\n      <td>427</td>\n      <td>640</td>\n      <td>Images/valid/000000105455.jpg</td>\n      <td>.jpg</td>\n      <td>valid</td>\n    </tr>\n    <tr>\n      <th>428280</th>\n      <td>500</td>\n      <td>333</td>\n      <td>Images/valid/000000428280.jpg</td>\n      <td>.jpg</td>\n      <td>valid</td>\n    </tr>\n    <tr>\n      <th>349837</th>\n      <td>500</td>\n      <td>333</td>\n      <td>Images/valid/000000349837.jpg</td>\n      <td>.jpg</td>\n      <td>valid</td>\n    </tr>\n  </tbody>\n</table>\n<p>5000 rows × 5 columns</p>\n</div>",
          "text/plain": "        width  height                  relative_path  type  split\nid                                                               \n352582    425     640  Images/valid/000000352582.jpg  .jpg  valid\n113354    640     480  Images/valid/000000113354.jpg  .jpg  valid\n58393     640     486  Images/valid/000000058393.jpg  .jpg  valid\n147729    500     375  Images/valid/000000147729.jpg  .jpg  valid\n310072    640     383  Images/valid/000000310072.jpg  .jpg  valid\n...       ...     ...                            ...   ...    ...\n311180    480     640  Images/valid/000000311180.jpg  .jpg  valid\n302030    640     359  Images/valid/000000302030.jpg  .jpg  valid\n105455    427     640  Images/valid/000000105455.jpg  .jpg  valid\n428280    500     333  Images/valid/000000428280.jpg  .jpg  valid\n349837    500     333  Images/valid/000000349837.jpg  .jpg  valid\n\n[5000 rows x 5 columns]"
         },
         "metadata": {},
         "output_type": "display_data"
        }
       ]
      }
     },
     "4fe4608ef6e34b44a3d0cd32ccd2b5b1": {
      "model_module": "@jupyter-widgets/base",
      "model_module_version": "2.0.0",
      "model_name": "LayoutModel",
      "state": {}
     },
     "519250c97654434ca2363551c820cc58": {
      "model_module": "@jupyter-widgets/base",
      "model_module_version": "2.0.0",
      "model_name": "LayoutModel",
      "state": {}
     },
     "51b02e3991f24fd6b09d0dbe65efc24f": {
      "model_module": "@jupyter-widgets/output",
      "model_module_version": "1.0.0",
      "model_name": "OutputModel",
      "state": {
       "layout": "IPY_MODEL_9c627853f4364595b494460cc3f26a45",
       "outputs": [
        {
         "data": {
          "text/html": "<div>\n<style scoped>\n    .dataframe tbody tr th:only-of-type {\n        vertical-align: middle;\n    }\n\n    .dataframe tbody tr th {\n        vertical-align: top;\n    }\n\n    .dataframe thead th {\n        text-align: right;\n    }\n</style>\n<table border=\"1\" class=\"dataframe\">\n  <thead>\n    <tr style=\"text-align: right;\">\n      <th></th>\n      <th>image_id</th>\n      <th>category_str</th>\n      <th>category_id</th>\n      <th>split</th>\n      <th>box_x_min</th>\n      <th>box_y_min</th>\n      <th>box_width</th>\n      <th>box_height</th>\n      <th>area</th>\n    </tr>\n    <tr>\n      <th>id</th>\n      <th></th>\n      <th></th>\n      <th></th>\n      <th></th>\n      <th></th>\n      <th></th>\n      <th></th>\n      <th></th>\n      <th></th>\n    </tr>\n  </thead>\n  <tbody>\n    <tr>\n      <th>357584</th>\n      <td>310072</td>\n      <td>Vehicle</td>\n      <td>2</td>\n      <td>valid</td>\n      <td>223.85</td>\n      <td>0.00</td>\n      <td>258.83</td>\n      <td>69.08</td>\n      <td>14718.47935</td>\n    </tr>\n    <tr>\n      <th>358258</th>\n      <td>310072</td>\n      <td>Vehicle</td>\n      <td>2</td>\n      <td>valid</td>\n      <td>0.00</td>\n      <td>1.94</td>\n      <td>135.99</td>\n      <td>66.27</td>\n      <td>6989.84750</td>\n    </tr>\n    <tr>\n      <th>363154</th>\n      <td>310072</td>\n      <td>Vehicle</td>\n      <td>2</td>\n      <td>valid</td>\n      <td>170.89</td>\n      <td>0.00</td>\n      <td>71.06</td>\n      <td>36.96</td>\n      <td>1729.26630</td>\n    </tr>\n    <tr>\n      <th>1337431</th>\n      <td>310072</td>\n      <td>Vehicle</td>\n      <td>2</td>\n      <td>valid</td>\n      <td>631.99</td>\n      <td>7.35</td>\n      <td>8.01</td>\n      <td>15.46</td>\n      <td>91.97330</td>\n    </tr>\n    <tr>\n      <th>1356106</th>\n      <td>38048</td>\n      <td>Vehicle</td>\n      <td>2</td>\n      <td>valid</td>\n      <td>78.67</td>\n      <td>202.24</td>\n      <td>12.39</td>\n      <td>8.72</td>\n      <td>80.88790</td>\n    </tr>\n    <tr>\n      <th>...</th>\n      <td>...</td>\n      <td>...</td>\n      <td>...</td>\n      <td>...</td>\n      <td>...</td>\n      <td>...</td>\n      <td>...</td>\n      <td>...</td>\n      <td>...</td>\n    </tr>\n    <tr>\n      <th>1192747</th>\n      <td>105455</td>\n      <td>Vehicle</td>\n      <td>2</td>\n      <td>valid</td>\n      <td>333.56</td>\n      <td>517.21</td>\n      <td>17.43</td>\n      <td>14.58</td>\n      <td>182.21680</td>\n    </tr>\n    <tr>\n      <th>108177</th>\n      <td>428280</td>\n      <td>Object</td>\n      <td>3</td>\n      <td>valid</td>\n      <td>3.58</td>\n      <td>189.14</td>\n      <td>176.88</td>\n      <td>125.32</td>\n      <td>9942.25095</td>\n    </tr>\n    <tr>\n      <th>108343</th>\n      <td>428280</td>\n      <td>Object</td>\n      <td>3</td>\n      <td>valid</td>\n      <td>244.05</td>\n      <td>152.29</td>\n      <td>68.51</td>\n      <td>34.49</td>\n      <td>1457.96785</td>\n    </tr>\n    <tr>\n      <th>109094</th>\n      <td>428280</td>\n      <td>Object</td>\n      <td>3</td>\n      <td>valid</td>\n      <td>187.71</td>\n      <td>114.80</td>\n      <td>44.07</td>\n      <td>66.41</td>\n      <td>2069.93800</td>\n    </tr>\n    <tr>\n      <th>2190513</th>\n      <td>428280</td>\n      <td>Object</td>\n      <td>3</td>\n      <td>valid</td>\n      <td>203.58</td>\n      <td>179.65</td>\n      <td>105.27</td>\n      <td>139.55</td>\n      <td>7696.12525</td>\n    </tr>\n  </tbody>\n</table>\n<p>9946 rows × 9 columns</p>\n</div>",
          "text/plain": "         image_id category_str  category_id  split  box_x_min  box_y_min  \\\nid                                                                         \n357584     310072      Vehicle            2  valid     223.85       0.00   \n358258     310072      Vehicle            2  valid       0.00       1.94   \n363154     310072      Vehicle            2  valid     170.89       0.00   \n1337431    310072      Vehicle            2  valid     631.99       7.35   \n1356106     38048      Vehicle            2  valid      78.67     202.24   \n...           ...          ...          ...    ...        ...        ...   \n1192747    105455      Vehicle            2  valid     333.56     517.21   \n108177     428280       Object            3  valid       3.58     189.14   \n108343     428280       Object            3  valid     244.05     152.29   \n109094     428280       Object            3  valid     187.71     114.80   \n2190513    428280       Object            3  valid     203.58     179.65   \n\n         box_width  box_height         area  \nid                                           \n357584      258.83       69.08  14718.47935  \n358258      135.99       66.27   6989.84750  \n363154       71.06       36.96   1729.26630  \n1337431       8.01       15.46     91.97330  \n1356106      12.39        8.72     80.88790  \n...            ...         ...          ...  \n1192747      17.43       14.58    182.21680  \n108177      176.88      125.32   9942.25095  \n108343       68.51       34.49   1457.96785  \n109094       44.07       66.41   2069.93800  \n2190513     105.27      139.55   7696.12525  \n\n[9946 rows x 9 columns]"
         },
         "metadata": {},
         "output_type": "display_data"
        }
       ]
      }
     },
     "5224138b18e0495f9b681b7636e508a6": {
      "model_module": "@jupyter-widgets/output",
      "model_module_version": "1.0.0",
      "model_name": "OutputModel",
      "state": {
       "layout": "IPY_MODEL_f7fb857318714b95b6a4cadc2be3f42c",
       "outputs": [
        {
         "data": {
          "text/html": "<div>\n<style scoped>\n    .dataframe tbody tr th:only-of-type {\n        vertical-align: middle;\n    }\n\n    .dataframe tbody tr th {\n        vertical-align: top;\n    }\n\n    .dataframe thead th {\n        text-align: right;\n    }\n</style>\n<table border=\"1\" class=\"dataframe\">\n  <thead>\n    <tr style=\"text-align: right;\">\n      <th></th>\n      <th>width</th>\n      <th>height</th>\n      <th>relative_path</th>\n      <th>type</th>\n      <th>split</th>\n    </tr>\n    <tr>\n      <th>id</th>\n      <th></th>\n      <th></th>\n      <th></th>\n      <th></th>\n      <th></th>\n    </tr>\n  </thead>\n  <tbody>\n    <tr>\n      <th>3053</th>\n      <td>425</td>\n      <td>640</td>\n      <td>Images/valid/000000352582.jpg</td>\n      <td>.jpg</td>\n      <td>valid</td>\n    </tr>\n    <tr>\n      <th>967</th>\n      <td>640</td>\n      <td>480</td>\n      <td>Images/valid/000000113354.jpg</td>\n      <td>.jpg</td>\n      <td>valid</td>\n    </tr>\n    <tr>\n      <th>524</th>\n      <td>640</td>\n      <td>486</td>\n      <td>Images/valid/000000058393.jpg</td>\n      <td>.jpg</td>\n      <td>valid</td>\n    </tr>\n    <tr>\n      <th>1260</th>\n      <td>500</td>\n      <td>375</td>\n      <td>Images/valid/000000147729.jpg</td>\n      <td>.jpg</td>\n      <td>valid</td>\n    </tr>\n    <tr>\n      <th>2695</th>\n      <td>640</td>\n      <td>383</td>\n      <td>Images/valid/000000310072.jpg</td>\n      <td>.jpg</td>\n      <td>valid</td>\n    </tr>\n    <tr>\n      <th>...</th>\n      <td>...</td>\n      <td>...</td>\n      <td>...</td>\n      <td>...</td>\n      <td>...</td>\n    </tr>\n    <tr>\n      <th>2702</th>\n      <td>480</td>\n      <td>640</td>\n      <td>Images/valid/000000311180.jpg</td>\n      <td>.jpg</td>\n      <td>valid</td>\n    </tr>\n    <tr>\n      <th>2626</th>\n      <td>640</td>\n      <td>359</td>\n      <td>Images/valid/000000302030.jpg</td>\n      <td>.jpg</td>\n      <td>valid</td>\n    </tr>\n    <tr>\n      <th>905</th>\n      <td>427</td>\n      <td>640</td>\n      <td>Images/valid/000000105455.jpg</td>\n      <td>.jpg</td>\n      <td>valid</td>\n    </tr>\n    <tr>\n      <th>3705</th>\n      <td>500</td>\n      <td>333</td>\n      <td>Images/valid/000000428280.jpg</td>\n      <td>.jpg</td>\n      <td>valid</td>\n    </tr>\n    <tr>\n      <th>3028</th>\n      <td>500</td>\n      <td>333</td>\n      <td>Images/valid/000000349837.jpg</td>\n      <td>.jpg</td>\n      <td>valid</td>\n    </tr>\n  </tbody>\n</table>\n<p>5000 rows × 5 columns</p>\n</div>",
          "text/plain": "      width  height                  relative_path  type  split\nid                                                             \n3053    425     640  Images/valid/000000352582.jpg  .jpg  valid\n967     640     480  Images/valid/000000113354.jpg  .jpg  valid\n524     640     486  Images/valid/000000058393.jpg  .jpg  valid\n1260    500     375  Images/valid/000000147729.jpg  .jpg  valid\n2695    640     383  Images/valid/000000310072.jpg  .jpg  valid\n...     ...     ...                            ...   ...    ...\n2702    480     640  Images/valid/000000311180.jpg  .jpg  valid\n2626    640     359  Images/valid/000000302030.jpg  .jpg  valid\n905     427     640  Images/valid/000000105455.jpg  .jpg  valid\n3705    500     333  Images/valid/000000428280.jpg  .jpg  valid\n3028    500     333  Images/valid/000000349837.jpg  .jpg  valid\n\n[5000 rows x 5 columns]"
         },
         "metadata": {},
         "output_type": "display_data"
        }
       ]
      }
     },
     "53b65b08631e4456a44b729be6620421": {
      "model_module": "@jupyter-widgets/base",
      "model_module_version": "2.0.0",
      "model_name": "LayoutModel",
      "state": {}
     },
     "550e373b38a54c63974397f70115ae35": {
      "model_module": "@jupyter-widgets/controls",
      "model_module_version": "2.0.0",
      "model_name": "TabModel",
      "state": {
       "children": [
        "IPY_MODEL_ecc7c3f906844b789a62761ee82aeaa9",
        "IPY_MODEL_5e25cb3d316940da91e387f91394de24",
        "IPY_MODEL_96b0b9ebdf5d49278fcc636d5fc1bdb3"
       ],
       "layout": "IPY_MODEL_e2d3753a75aa4fb1924f269175afeeab",
       "selected_index": 0,
       "titles": [
        "Images",
        "Annotations",
        "Label Map"
       ]
      }
     },
     "552731e964f94279afc56c9dcd2b189c": {
      "model_module": "@jupyter-widgets/output",
      "model_module_version": "1.0.0",
      "model_name": "OutputModel",
      "state": {
       "layout": "IPY_MODEL_16504d84d20a4054ac3cecaf37bde11d",
       "outputs": [
        {
         "data": {
          "text/html": "<div>\n<style scoped>\n    .dataframe tbody tr th:only-of-type {\n        vertical-align: middle;\n    }\n\n    .dataframe tbody tr th {\n        vertical-align: top;\n    }\n\n    .dataframe thead th {\n        text-align: right;\n    }\n</style>\n<table border=\"1\" class=\"dataframe\">\n  <thead>\n    <tr style=\"text-align: right;\">\n      <th></th>\n      <th>category string</th>\n    </tr>\n    <tr>\n      <th>category_id</th>\n      <th></th>\n    </tr>\n  </thead>\n  <tbody>\n    <tr>\n      <th>1</th>\n      <td>person</td>\n    </tr>\n    <tr>\n      <th>2</th>\n      <td>bicycle</td>\n    </tr>\n    <tr>\n      <th>3</th>\n      <td>car</td>\n    </tr>\n    <tr>\n      <th>4</th>\n      <td>motorcycle</td>\n    </tr>\n    <tr>\n      <th>5</th>\n      <td>airplane</td>\n    </tr>\n    <tr>\n      <th>...</th>\n      <td>...</td>\n    </tr>\n    <tr>\n      <th>86</th>\n      <td>vase</td>\n    </tr>\n    <tr>\n      <th>87</th>\n      <td>scissors</td>\n    </tr>\n    <tr>\n      <th>88</th>\n      <td>teddy bear</td>\n    </tr>\n    <tr>\n      <th>89</th>\n      <td>hair drier</td>\n    </tr>\n    <tr>\n      <th>90</th>\n      <td>toothbrush</td>\n    </tr>\n  </tbody>\n</table>\n<p>80 rows × 1 columns</p>\n</div>",
          "text/plain": "            category string\ncategory_id                \n1                    person\n2                   bicycle\n3                       car\n4                motorcycle\n5                  airplane\n...                     ...\n86                     vase\n87                 scissors\n88               teddy bear\n89               hair drier\n90               toothbrush\n\n[80 rows x 1 columns]"
         },
         "metadata": {},
         "output_type": "display_data"
        }
       ]
      }
     },
     "56261b59834f402d86eb8a3bcdae35d9": {
      "model_module": "@jupyter-widgets/controls",
      "model_module_version": "2.0.0",
      "model_name": "HTMLModel",
      "state": {
       "layout": "IPY_MODEL_9892b77e263a4a86a7d43102ddf3268f",
       "style": "IPY_MODEL_13a7f428c4b34e439869a71eef1664dd",
       "value": "<p><span style='white-space: pre-wrap; font-weight: bold'>Dataset object containing 5,000 images and 20,607 objects\nName :\n\tcoco\nImages root :\n\tnotebook_data</span></p>"
      }
     },
     "5637e06d76514666b1d7fcf8d7cca48f": {
      "model_module": "@jupyter-widgets/base",
      "model_module_version": "2.0.0",
      "model_name": "LayoutModel",
      "state": {}
     },
     "56b97a3e4d4745c9941c7551b6d5922d": {
      "model_module": "@jupyter-widgets/controls",
      "model_module_version": "2.0.0",
      "model_name": "VBoxModel",
      "state": {
       "children": [
        "IPY_MODEL_6e3740ae905e42c08c6c1bca288da9ab",
        "IPY_MODEL_8c824c73911a4b55afcd739b89c329be"
       ],
       "layout": "IPY_MODEL_ea276594fe214985ae130d548ca3874a"
      }
     },
     "596a11fbefff42649404d420ef29f5b4": {
      "model_module": "@jupyter-widgets/controls",
      "model_module_version": "2.0.0",
      "model_name": "HTMLStyleModel",
      "state": {
       "description_width": "",
       "font_size": null,
       "text_color": null
      }
     },
     "5a2c3538561d4536a1a05f56c6f27729": {
      "model_module": "@jupyter-widgets/base",
      "model_module_version": "2.0.0",
      "model_name": "LayoutModel",
      "state": {}
     },
     "5bd0b17b9d4e4008939ba492c6a5377a": {
      "model_module": "@jupyter-widgets/base",
      "model_module_version": "2.0.0",
      "model_name": "LayoutModel",
      "state": {}
     },
     "5bfb24a8b50e45cf952978da02f50a3e": {
      "model_module": "@jupyter-widgets/controls",
      "model_module_version": "2.0.0",
      "model_name": "HTMLModel",
      "state": {
       "layout": "IPY_MODEL_6e7c50674eb54e0eb6542ae4a1c674e9",
       "style": "IPY_MODEL_0de44c2755cc44d698d99fb3254ea773",
       "value": "<p><span style='white-space: pre-wrap; font-weight: bold'>Dataset object containing 5,000 images and 20,607 objects\nName :\n\tcoco\nImages root :\n\tnotebook_data</span></p>"
      }
     },
     "5bfc0fd678c2438e992a5d4eca371e60": {
      "model_module": "@jupyter-widgets/controls",
      "model_module_version": "2.0.0",
      "model_name": "HTMLStyleModel",
      "state": {
       "description_width": "",
       "font_size": null,
       "text_color": null
      }
     },
     "5c42c424c9dd4c08bd87e0f7e307e3fe": {
      "model_module": "@jupyter-widgets/controls",
      "model_module_version": "2.0.0",
      "model_name": "VBoxModel",
      "state": {
       "children": [
        "IPY_MODEL_44adcddaa7994223b957a8385b296bc9",
        "IPY_MODEL_cda0463595624e2b80fb4a544b051fe8"
       ],
       "layout": "IPY_MODEL_deed7abbfb4942c1bc39b66fb3b7efe4"
      }
     },
     "5de7aa7b0bf149cab034f198eeac4ba7": {
      "model_module": "@jupyter-widgets/base",
      "model_module_version": "2.0.0",
      "model_name": "LayoutModel",
      "state": {}
     },
     "5e25cb3d316940da91e387f91394de24": {
      "model_module": "@jupyter-widgets/output",
      "model_module_version": "1.0.0",
      "model_name": "OutputModel",
      "state": {
       "layout": "IPY_MODEL_fcc69010130c4e48b06ad36220cd6afe",
       "outputs": [
        {
         "data": {
          "text/html": "<div>\n<style scoped>\n    .dataframe tbody tr th:only-of-type {\n        vertical-align: middle;\n    }\n\n    .dataframe tbody tr th {\n        vertical-align: top;\n    }\n\n    .dataframe thead th {\n        text-align: right;\n    }\n</style>\n<table border=\"1\" class=\"dataframe\">\n  <thead>\n    <tr style=\"text-align: right;\">\n      <th></th>\n      <th>image_id</th>\n      <th>category_str</th>\n      <th>category_id</th>\n      <th>split</th>\n      <th>box_x_min</th>\n      <th>box_y_min</th>\n      <th>box_width</th>\n      <th>box_height</th>\n      <th>area</th>\n    </tr>\n    <tr>\n      <th>id</th>\n      <th></th>\n      <th></th>\n      <th></th>\n      <th></th>\n      <th></th>\n      <th></th>\n      <th></th>\n      <th></th>\n      <th></th>\n    </tr>\n  </thead>\n  <tbody>\n    <tr>\n      <th>460450</th>\n      <td>352582</td>\n      <td>person</td>\n      <td>1</td>\n      <td>valid</td>\n      <td>112.43</td>\n      <td>195.32</td>\n      <td>214.78</td>\n      <td>438.19</td>\n      <td>48685.67910</td>\n    </tr>\n    <tr>\n      <th>535917</th>\n      <td>352582</td>\n      <td>person</td>\n      <td>1</td>\n      <td>valid</td>\n      <td>0.00</td>\n      <td>256.00</td>\n      <td>80.54</td>\n      <td>376.81</td>\n      <td>22650.73800</td>\n    </tr>\n    <tr>\n      <th>602093</th>\n      <td>352582</td>\n      <td>frisbee</td>\n      <td>34</td>\n      <td>valid</td>\n      <td>171.63</td>\n      <td>424.03</td>\n      <td>85.89</td>\n      <td>40.67</td>\n      <td>2605.72090</td>\n    </tr>\n    <tr>\n      <th>589077</th>\n      <td>113354</td>\n      <td>zebra</td>\n      <td>24</td>\n      <td>valid</td>\n      <td>260.99</td>\n      <td>158.88</td>\n      <td>141.52</td>\n      <td>194.11</td>\n      <td>9978.94125</td>\n    </tr>\n    <tr>\n      <th>589740</th>\n      <td>113354</td>\n      <td>zebra</td>\n      <td>24</td>\n      <td>valid</td>\n      <td>366.49</td>\n      <td>174.59</td>\n      <td>115.67</td>\n      <td>142.71</td>\n      <td>5784.68620</td>\n    </tr>\n    <tr>\n      <th>...</th>\n      <td>...</td>\n      <td>...</td>\n      <td>...</td>\n      <td>...</td>\n      <td>...</td>\n      <td>...</td>\n      <td>...</td>\n      <td>...</td>\n      <td>...</td>\n    </tr>\n    <tr>\n      <th>331107</th>\n      <td>349837</td>\n      <td>refrigerator</td>\n      <td>82</td>\n      <td>valid</td>\n      <td>66.00</td>\n      <td>94.87</td>\n      <td>71.25</td>\n      <td>194.26</td>\n      <td>12029.44125</td>\n    </tr>\n    <tr>\n      <th>332788</th>\n      <td>349837</td>\n      <td>refrigerator</td>\n      <td>82</td>\n      <td>valid</td>\n      <td>138.00</td>\n      <td>62.63</td>\n      <td>98.25</td>\n      <td>252.00</td>\n      <td>23037.46875</td>\n    </tr>\n    <tr>\n      <th>333394</th>\n      <td>349837</td>\n      <td>refrigerator</td>\n      <td>82</td>\n      <td>valid</td>\n      <td>234.44</td>\n      <td>29.87</td>\n      <td>113.49</td>\n      <td>298.65</td>\n      <td>30406.51295</td>\n    </tr>\n    <tr>\n      <th>333685</th>\n      <td>349837</td>\n      <td>refrigerator</td>\n      <td>82</td>\n      <td>valid</td>\n      <td>335.04</td>\n      <td>10.48</td>\n      <td>125.17</td>\n      <td>318.78</td>\n      <td>37187.97840</td>\n    </tr>\n    <tr>\n      <th>333731</th>\n      <td>349837</td>\n      <td>refrigerator</td>\n      <td>82</td>\n      <td>valid</td>\n      <td>460.39</td>\n      <td>0.00</td>\n      <td>39.61</td>\n      <td>328.64</td>\n      <td>12492.52165</td>\n    </tr>\n  </tbody>\n</table>\n<p>34818 rows × 9 columns</p>\n</div>",
          "text/plain": "        image_id  category_str  category_id  split  box_x_min  box_y_min  \\\nid                                                                         \n460450    352582        person            1  valid     112.43     195.32   \n535917    352582        person            1  valid       0.00     256.00   \n602093    352582       frisbee           34  valid     171.63     424.03   \n589077    113354         zebra           24  valid     260.99     158.88   \n589740    113354         zebra           24  valid     366.49     174.59   \n...          ...           ...          ...    ...        ...        ...   \n331107    349837  refrigerator           82  valid      66.00      94.87   \n332788    349837  refrigerator           82  valid     138.00      62.63   \n333394    349837  refrigerator           82  valid     234.44      29.87   \n333685    349837  refrigerator           82  valid     335.04      10.48   \n333731    349837  refrigerator           82  valid     460.39       0.00   \n\n        box_width  box_height         area  \nid                                          \n460450     214.78      438.19  48685.67910  \n535917      80.54      376.81  22650.73800  \n602093      85.89       40.67   2605.72090  \n589077     141.52      194.11   9978.94125  \n589740     115.67      142.71   5784.68620  \n...           ...         ...          ...  \n331107      71.25      194.26  12029.44125  \n332788      98.25      252.00  23037.46875  \n333394     113.49      298.65  30406.51295  \n333685     125.17      318.78  37187.97840  \n333731      39.61      328.64  12492.52165  \n\n[34818 rows x 9 columns]"
         },
         "metadata": {},
         "output_type": "display_data"
        }
       ]
      }
     },
     "5e66223c872e4da2ac883f200de13e76": {
      "model_module": "@jupyter-widgets/base",
      "model_module_version": "2.0.0",
      "model_name": "LayoutModel",
      "state": {}
     },
     "5fb86192340c4526a85900dff25de564": {
      "model_module": "@jupyter-widgets/base",
      "model_module_version": "2.0.0",
      "model_name": "LayoutModel",
      "state": {}
     },
     "5fec21e49c344cbc9c63d4c1d51cd4bb": {
      "model_module": "@jupyter-widgets/base",
      "model_module_version": "2.0.0",
      "model_name": "LayoutModel",
      "state": {}
     },
     "612ca0d15721443686599d046a2aae92": {
      "model_module": "@jupyter-widgets/controls",
      "model_module_version": "2.0.0",
      "model_name": "HTMLStyleModel",
      "state": {
       "description_width": "",
       "font_size": null,
       "text_color": null
      }
     },
     "61e34fb2b60a401785348f10aff29d49": {
      "model_module": "@jupyter-widgets/controls",
      "model_module_version": "2.0.0",
      "model_name": "TabModel",
      "state": {
       "children": [
        "IPY_MODEL_3f8d9a7fce6b45e5b6a4816b261a57aa",
        "IPY_MODEL_9beaa6e96d8c404f80fdd3c9ddcfb569",
        "IPY_MODEL_201c0ac6623f46f2a1940f2ff1fbfa65"
       ],
       "layout": "IPY_MODEL_c6a12a1635ad495cb5d87a4f8c586bfb",
       "selected_index": 0,
       "titles": [
        "Images",
        "Annotations",
        "Label Map"
       ]
      }
     },
     "61f1d9cd68e047468f7e6476f0e8a038": {
      "model_module": "@jupyter-widgets/output",
      "model_module_version": "1.0.0",
      "model_name": "OutputModel",
      "state": {
       "layout": "IPY_MODEL_7e414c835aa845c8959bb9cad0ac41f7",
       "outputs": [
        {
         "data": {
          "text/html": "<div>\n<style scoped>\n    .dataframe tbody tr th:only-of-type {\n        vertical-align: middle;\n    }\n\n    .dataframe tbody tr th {\n        vertical-align: top;\n    }\n\n    .dataframe thead th {\n        text-align: right;\n    }\n</style>\n<table border=\"1\" class=\"dataframe\">\n  <thead>\n    <tr style=\"text-align: right;\">\n      <th></th>\n      <th>category string</th>\n    </tr>\n    <tr>\n      <th>category_id</th>\n      <th></th>\n    </tr>\n  </thead>\n  <tbody>\n    <tr>\n      <th>1</th>\n      <td>something else</td>\n    </tr>\n    <tr>\n      <th>2</th>\n      <td>bicycle</td>\n    </tr>\n    <tr>\n      <th>3</th>\n      <td>bird</td>\n    </tr>\n    <tr>\n      <th>4</th>\n      <td>boat</td>\n    </tr>\n    <tr>\n      <th>5</th>\n      <td>bottle</td>\n    </tr>\n    <tr>\n      <th>6</th>\n      <td>bus</td>\n    </tr>\n    <tr>\n      <th>7</th>\n      <td>car</td>\n    </tr>\n    <tr>\n      <th>8</th>\n      <td>cat</td>\n    </tr>\n    <tr>\n      <th>9</th>\n      <td>chair</td>\n    </tr>\n    <tr>\n      <th>10</th>\n      <td>cow</td>\n    </tr>\n    <tr>\n      <th>11</th>\n      <td>diningtable</td>\n    </tr>\n    <tr>\n      <th>12</th>\n      <td>dog</td>\n    </tr>\n    <tr>\n      <th>13</th>\n      <td>horse</td>\n    </tr>\n    <tr>\n      <th>14</th>\n      <td>motorbike</td>\n    </tr>\n    <tr>\n      <th>15</th>\n      <td>person</td>\n    </tr>\n    <tr>\n      <th>16</th>\n      <td>pottedplant</td>\n    </tr>\n    <tr>\n      <th>17</th>\n      <td>sheep</td>\n    </tr>\n    <tr>\n      <th>18</th>\n      <td>sofa</td>\n    </tr>\n    <tr>\n      <th>19</th>\n      <td>train</td>\n    </tr>\n    <tr>\n      <th>20</th>\n      <td>tvmonitor</td>\n    </tr>\n    <tr>\n      <th>21</th>\n      <td>aeroplane</td>\n    </tr>\n  </tbody>\n</table>\n</div>",
          "text/plain": "            category string\ncategory_id                \n1            something else\n2                   bicycle\n3                      bird\n4                      boat\n5                    bottle\n6                       bus\n7                       car\n8                       cat\n9                     chair\n10                      cow\n11              diningtable\n12                      dog\n13                    horse\n14                motorbike\n15                   person\n16              pottedplant\n17                    sheep\n18                     sofa\n19                    train\n20                tvmonitor\n21                aeroplane"
         },
         "metadata": {},
         "output_type": "display_data"
        }
       ]
      }
     },
     "61f223b762454f7abf68e92c3f05f8ec": {
      "model_module": "@jupyter-widgets/base",
      "model_module_version": "2.0.0",
      "model_name": "LayoutModel",
      "state": {}
     },
     "6260ada7134c4ecf9439b463e1f5f7ce": {
      "model_module": "@jupyter-widgets/base",
      "model_module_version": "2.0.0",
      "model_name": "LayoutModel",
      "state": {}
     },
     "62a01d8f832140b98d3ff6af30de8e5b": {
      "model_module": "@jupyter-widgets/base",
      "model_module_version": "2.0.0",
      "model_name": "LayoutModel",
      "state": {}
     },
     "63b646f5fe4b44e5a9eb540679b38179": {
      "model_module": "@jupyter-widgets/base",
      "model_module_version": "2.0.0",
      "model_name": "LayoutModel",
      "state": {}
     },
     "63d68d45e3cc4478ac890817f2e48433": {
      "model_module": "@jupyter-widgets/output",
      "model_module_version": "1.0.0",
      "model_name": "OutputModel",
      "state": {
       "layout": "IPY_MODEL_2ecdad4b4e9541b3a2ba68727f5906b1",
       "outputs": [
        {
         "data": {
          "text/html": "<div>\n<style scoped>\n    .dataframe tbody tr th:only-of-type {\n        vertical-align: middle;\n    }\n\n    .dataframe tbody tr th {\n        vertical-align: top;\n    }\n\n    .dataframe thead th {\n        text-align: right;\n    }\n</style>\n<table border=\"1\" class=\"dataframe\">\n  <thead>\n    <tr style=\"text-align: right;\">\n      <th></th>\n      <th>category string</th>\n    </tr>\n    <tr>\n      <th>category_id</th>\n      <th></th>\n    </tr>\n  </thead>\n  <tbody>\n    <tr>\n      <th>1</th>\n      <td>aeroplane</td>\n    </tr>\n    <tr>\n      <th>2</th>\n      <td>bicycle</td>\n    </tr>\n    <tr>\n      <th>3</th>\n      <td>bird</td>\n    </tr>\n    <tr>\n      <th>4</th>\n      <td>boat</td>\n    </tr>\n    <tr>\n      <th>5</th>\n      <td>bottle</td>\n    </tr>\n    <tr>\n      <th>6</th>\n      <td>bus</td>\n    </tr>\n    <tr>\n      <th>7</th>\n      <td>car</td>\n    </tr>\n    <tr>\n      <th>8</th>\n      <td>cat</td>\n    </tr>\n    <tr>\n      <th>9</th>\n      <td>chair</td>\n    </tr>\n    <tr>\n      <th>10</th>\n      <td>cow</td>\n    </tr>\n    <tr>\n      <th>11</th>\n      <td>diningtable</td>\n    </tr>\n    <tr>\n      <th>12</th>\n      <td>dog</td>\n    </tr>\n    <tr>\n      <th>13</th>\n      <td>horse</td>\n    </tr>\n    <tr>\n      <th>14</th>\n      <td>motorbike</td>\n    </tr>\n    <tr>\n      <th>15</th>\n      <td>person</td>\n    </tr>\n    <tr>\n      <th>16</th>\n      <td>pottedplant</td>\n    </tr>\n    <tr>\n      <th>17</th>\n      <td>sheep</td>\n    </tr>\n    <tr>\n      <th>18</th>\n      <td>sofa</td>\n    </tr>\n    <tr>\n      <th>19</th>\n      <td>train</td>\n    </tr>\n    <tr>\n      <th>20</th>\n      <td>tvmonitor</td>\n    </tr>\n    <tr>\n      <th>21</th>\n      <td>21</td>\n    </tr>\n  </tbody>\n</table>\n</div>",
          "text/plain": "            category string\ncategory_id                \n1                 aeroplane\n2                   bicycle\n3                      bird\n4                      boat\n5                    bottle\n6                       bus\n7                       car\n8                       cat\n9                     chair\n10                      cow\n11              diningtable\n12                      dog\n13                    horse\n14                motorbike\n15                   person\n16              pottedplant\n17                    sheep\n18                     sofa\n19                    train\n20                tvmonitor\n21                       21"
         },
         "metadata": {},
         "output_type": "display_data"
        }
       ]
      }
     },
     "64846a560b0a4f4ebdd1e0f811fa78f0": {
      "model_module": "@jupyter-widgets/controls",
      "model_module_version": "2.0.0",
      "model_name": "HTMLModel",
      "state": {
       "layout": "IPY_MODEL_f32c7f63262042e18b56852b902d40c0",
       "style": "IPY_MODEL_4fa27b89ba544bd1ac84c2e3179e827f",
       "value": "<p><span style='white-space: pre-wrap; font-weight: bold'>Dataset object containing 2,500 images and 18,670 objects\nName :\n\tcoco\nImages root :\n\tnotebook_data</span></p>"
      }
     },
     "648ed8ee168c4e6a839ca4bbebcab214": {
      "model_module": "@jupyter-widgets/base",
      "model_module_version": "2.0.0",
      "model_name": "LayoutModel",
      "state": {}
     },
     "65527049e5a7455e9598477f43a0cfd2": {
      "model_module": "@jupyter-widgets/controls",
      "model_module_version": "2.0.0",
      "model_name": "TabModel",
      "state": {
       "children": [
        "IPY_MODEL_5224138b18e0495f9b681b7636e508a6",
        "IPY_MODEL_67c85ec5354c4e9e8ffd53ea9acc0b11",
        "IPY_MODEL_79f9cc5c06fb4eba9ba0de8566cdf87a"
       ],
       "layout": "IPY_MODEL_729e431035174cacae488a83a622db8a",
       "selected_index": 0,
       "titles": [
        "Images",
        "Annotations",
        "Label Map"
       ]
      }
     },
     "6682ee61f7a54c9980d7fe0d8edf23c9": {
      "model_module": "@jupyter-widgets/base",
      "model_module_version": "2.0.0",
      "model_name": "LayoutModel",
      "state": {}
     },
     "67c85ec5354c4e9e8ffd53ea9acc0b11": {
      "model_module": "@jupyter-widgets/output",
      "model_module_version": "1.0.0",
      "model_name": "OutputModel",
      "state": {
       "layout": "IPY_MODEL_270e2dd454114fa191b7a78f5cd0f442",
       "outputs": [
        {
         "data": {
          "text/html": "<div>\n<style scoped>\n    .dataframe tbody tr th:only-of-type {\n        vertical-align: middle;\n    }\n\n    .dataframe tbody tr th {\n        vertical-align: top;\n    }\n\n    .dataframe thead th {\n        text-align: right;\n    }\n</style>\n<table border=\"1\" class=\"dataframe\">\n  <thead>\n    <tr style=\"text-align: right;\">\n      <th></th>\n      <th>image_id</th>\n      <th>category_str</th>\n      <th>category_id</th>\n      <th>split</th>\n      <th>box_x_min</th>\n      <th>box_y_min</th>\n      <th>box_width</th>\n      <th>box_height</th>\n      <th>area</th>\n    </tr>\n    <tr>\n      <th>id</th>\n      <th></th>\n      <th></th>\n      <th></th>\n      <th></th>\n      <th></th>\n      <th></th>\n      <th></th>\n      <th></th>\n      <th></th>\n    </tr>\n  </thead>\n  <tbody>\n    <tr>\n      <th>460450</th>\n      <td>3053</td>\n      <td>person</td>\n      <td>1</td>\n      <td>valid</td>\n      <td>112.43</td>\n      <td>195.32</td>\n      <td>214.78</td>\n      <td>438.19</td>\n      <td>48685.67910</td>\n    </tr>\n    <tr>\n      <th>535917</th>\n      <td>3053</td>\n      <td>person</td>\n      <td>1</td>\n      <td>valid</td>\n      <td>0.00</td>\n      <td>256.00</td>\n      <td>80.54</td>\n      <td>376.81</td>\n      <td>22650.73800</td>\n    </tr>\n    <tr>\n      <th>602093</th>\n      <td>3053</td>\n      <td>frisbee</td>\n      <td>34</td>\n      <td>valid</td>\n      <td>171.63</td>\n      <td>424.03</td>\n      <td>85.89</td>\n      <td>40.67</td>\n      <td>2605.72090</td>\n    </tr>\n    <tr>\n      <th>589077</th>\n      <td>967</td>\n      <td>zebra</td>\n      <td>24</td>\n      <td>valid</td>\n      <td>260.99</td>\n      <td>158.88</td>\n      <td>141.52</td>\n      <td>194.11</td>\n      <td>9978.94125</td>\n    </tr>\n    <tr>\n      <th>589740</th>\n      <td>967</td>\n      <td>zebra</td>\n      <td>24</td>\n      <td>valid</td>\n      <td>366.49</td>\n      <td>174.59</td>\n      <td>115.67</td>\n      <td>142.71</td>\n      <td>5784.68620</td>\n    </tr>\n    <tr>\n      <th>...</th>\n      <td>...</td>\n      <td>...</td>\n      <td>...</td>\n      <td>...</td>\n      <td>...</td>\n      <td>...</td>\n      <td>...</td>\n      <td>...</td>\n      <td>...</td>\n    </tr>\n    <tr>\n      <th>331107</th>\n      <td>3028</td>\n      <td>refrigerator</td>\n      <td>82</td>\n      <td>valid</td>\n      <td>66.00</td>\n      <td>94.87</td>\n      <td>71.25</td>\n      <td>194.26</td>\n      <td>12029.44125</td>\n    </tr>\n    <tr>\n      <th>332788</th>\n      <td>3028</td>\n      <td>refrigerator</td>\n      <td>82</td>\n      <td>valid</td>\n      <td>138.00</td>\n      <td>62.63</td>\n      <td>98.25</td>\n      <td>252.00</td>\n      <td>23037.46875</td>\n    </tr>\n    <tr>\n      <th>333394</th>\n      <td>3028</td>\n      <td>refrigerator</td>\n      <td>82</td>\n      <td>valid</td>\n      <td>234.44</td>\n      <td>29.87</td>\n      <td>113.49</td>\n      <td>298.65</td>\n      <td>30406.51295</td>\n    </tr>\n    <tr>\n      <th>333685</th>\n      <td>3028</td>\n      <td>refrigerator</td>\n      <td>82</td>\n      <td>valid</td>\n      <td>335.04</td>\n      <td>10.48</td>\n      <td>125.17</td>\n      <td>318.78</td>\n      <td>37187.97840</td>\n    </tr>\n    <tr>\n      <th>333731</th>\n      <td>3028</td>\n      <td>refrigerator</td>\n      <td>82</td>\n      <td>valid</td>\n      <td>460.39</td>\n      <td>0.00</td>\n      <td>39.61</td>\n      <td>328.64</td>\n      <td>12492.52165</td>\n    </tr>\n  </tbody>\n</table>\n<p>36781 rows × 9 columns</p>\n</div>",
          "text/plain": "        image_id  category_str  category_id  split  box_x_min  box_y_min  \\\nid                                                                         \n460450      3053        person            1  valid     112.43     195.32   \n535917      3053        person            1  valid       0.00     256.00   \n602093      3053       frisbee           34  valid     171.63     424.03   \n589077       967         zebra           24  valid     260.99     158.88   \n589740       967         zebra           24  valid     366.49     174.59   \n...          ...           ...          ...    ...        ...        ...   \n331107      3028  refrigerator           82  valid      66.00      94.87   \n332788      3028  refrigerator           82  valid     138.00      62.63   \n333394      3028  refrigerator           82  valid     234.44      29.87   \n333685      3028  refrigerator           82  valid     335.04      10.48   \n333731      3028  refrigerator           82  valid     460.39       0.00   \n\n        box_width  box_height         area  \nid                                          \n460450     214.78      438.19  48685.67910  \n535917      80.54      376.81  22650.73800  \n602093      85.89       40.67   2605.72090  \n589077     141.52      194.11   9978.94125  \n589740     115.67      142.71   5784.68620  \n...           ...         ...          ...  \n331107      71.25      194.26  12029.44125  \n332788      98.25      252.00  23037.46875  \n333394     113.49      298.65  30406.51295  \n333685     125.17      318.78  37187.97840  \n333731      39.61      328.64  12492.52165  \n\n[36781 rows x 9 columns]"
         },
         "metadata": {},
         "output_type": "display_data"
        }
       ]
      }
     },
     "68d2c10291ca463ab2cf05746ca09093": {
      "model_module": "@jupyter-widgets/controls",
      "model_module_version": "2.0.0",
      "model_name": "HTMLStyleModel",
      "state": {
       "description_width": "",
       "font_size": null,
       "text_color": null
      }
     },
     "6b694a522a394ca9b67905fac307a804": {
      "model_module": "@jupyter-widgets/controls",
      "model_module_version": "2.0.0",
      "model_name": "VBoxModel",
      "state": {
       "children": [
        "IPY_MODEL_0ed3d4a3ff4949cb924eb8df126f35ec",
        "IPY_MODEL_c0624f6057fb4ff99ed6509a042305ab"
       ],
       "layout": "IPY_MODEL_dd35663bc1bb459985d75e20a0f2885d"
      }
     },
     "6b87f1dc969a461997795cc9c83e9312": {
      "model_module": "@jupyter-widgets/base",
      "model_module_version": "2.0.0",
      "model_name": "LayoutModel",
      "state": {}
     },
     "6bed46054c494a0cafee9c2d8966c99e": {
      "model_module": "@jupyter-widgets/base",
      "model_module_version": "2.0.0",
      "model_name": "LayoutModel",
      "state": {}
     },
     "6d671c481a0946cd93a7b18099a60178": {
      "model_module": "@jupyter-widgets/controls",
      "model_module_version": "2.0.0",
      "model_name": "TabModel",
      "state": {
       "children": [
        "IPY_MODEL_adb47fe414d54c978a5f98dd7a48f48e",
        "IPY_MODEL_c1569471bd79471f9f571bd1e87ccf78",
        "IPY_MODEL_770a97b7e9c346799bd1275a523fc26d"
       ],
       "layout": "IPY_MODEL_c7aea4c13f6f4566a773c0c3cc2be09c",
       "selected_index": 0,
       "titles": [
        "Images",
        "Annotations",
        "Label Map"
       ]
      }
     },
     "6e2136aa5aa042c580f2cd537e09932c": {
      "model_module": "@jupyter-widgets/controls",
      "model_module_version": "2.0.0",
      "model_name": "TabModel",
      "state": {
       "children": [
        "IPY_MODEL_2fce65d13d27434db3c945733110feba",
        "IPY_MODEL_b2c77bc7409b41af9dbe153b7d7df4da",
        "IPY_MODEL_4f94b08d95494bd1937c5e54d3b73942"
       ],
       "layout": "IPY_MODEL_519250c97654434ca2363551c820cc58",
       "selected_index": 0,
       "titles": [
        "Images",
        "Annotations",
        "Label Map"
       ]
      }
     },
     "6e3740ae905e42c08c6c1bca288da9ab": {
      "model_module": "@jupyter-widgets/controls",
      "model_module_version": "2.0.0",
      "model_name": "HTMLModel",
      "state": {
       "layout": "IPY_MODEL_e7ea818c8348466b9b548a435e1af377",
       "style": "IPY_MODEL_596a11fbefff42649404d420ef29f5b4",
       "value": "<p><span style='white-space: pre-wrap; font-weight: bold'>Dataset object containing 5,000 images and 18,390 objects\nName :\n\tcoco\nImages root :\n\tnotebook_data</span></p>"
      }
     },
     "6e7c50674eb54e0eb6542ae4a1c674e9": {
      "model_module": "@jupyter-widgets/base",
      "model_module_version": "2.0.0",
      "model_name": "LayoutModel",
      "state": {}
     },
     "6ec0501159b94ca7aaeac2588c2e0a9e": {
      "model_module": "@jupyter-widgets/base",
      "model_module_version": "2.0.0",
      "model_name": "LayoutModel",
      "state": {}
     },
     "6fef19ee787a402db9fbcc046ee65a2f": {
      "model_module": "@jupyter-widgets/base",
      "model_module_version": "2.0.0",
      "model_name": "LayoutModel",
      "state": {}
     },
     "706174f71ed04da59539226646743f27": {
      "model_module": "@jupyter-widgets/controls",
      "model_module_version": "2.0.0",
      "model_name": "TabModel",
      "state": {
       "children": [
        "IPY_MODEL_444834df6a7744f28333fc00e08f015e",
        "IPY_MODEL_1cf069555e2548a9919cb3015944892c",
        "IPY_MODEL_f628d827f3494e61a5e13c72567f8983"
       ],
       "layout": "IPY_MODEL_03612feab58e4d9aabc7ddeebd96c2d3",
       "selected_index": 0,
       "titles": [
        "Images",
        "Annotations",
        "Label Map"
       ]
      }
     },
     "70a610378d7c4d968d72b37013edc46b": {
      "model_module": "@jupyter-widgets/base",
      "model_module_version": "2.0.0",
      "model_name": "LayoutModel",
      "state": {}
     },
     "729e431035174cacae488a83a622db8a": {
      "model_module": "@jupyter-widgets/base",
      "model_module_version": "2.0.0",
      "model_name": "LayoutModel",
      "state": {}
     },
     "739b133f251f4d3bacfeda8ad058349a": {
      "model_module": "@jupyter-widgets/base",
      "model_module_version": "2.0.0",
      "model_name": "LayoutModel",
      "state": {}
     },
     "73a2a103d75245dfb95b7c238620db6e": {
      "model_module": "@jupyter-widgets/output",
      "model_module_version": "1.0.0",
      "model_name": "OutputModel",
      "state": {
       "layout": "IPY_MODEL_2eca2d773c854eefba61ef50e9161d37",
       "outputs": [
        {
         "data": {
          "text/html": "<div>\n<style scoped>\n    .dataframe tbody tr th:only-of-type {\n        vertical-align: middle;\n    }\n\n    .dataframe tbody tr th {\n        vertical-align: top;\n    }\n\n    .dataframe thead th {\n        text-align: right;\n    }\n</style>\n<table border=\"1\" class=\"dataframe\">\n  <thead>\n    <tr style=\"text-align: right;\">\n      <th></th>\n      <th>image_id</th>\n      <th>category_str</th>\n      <th>category_id</th>\n      <th>split</th>\n      <th>box_x_min</th>\n      <th>box_y_min</th>\n      <th>box_width</th>\n      <th>box_height</th>\n      <th>area</th>\n    </tr>\n    <tr>\n      <th>id</th>\n      <th></th>\n      <th></th>\n      <th></th>\n      <th></th>\n      <th></th>\n      <th></th>\n      <th></th>\n      <th></th>\n      <th></th>\n    </tr>\n  </thead>\n  <tbody>\n    <tr>\n      <th>460450</th>\n      <td>352582</td>\n      <td>person</td>\n      <td>1</td>\n      <td>valid</td>\n      <td>112.43</td>\n      <td>195.32</td>\n      <td>214.78</td>\n      <td>438.19</td>\n      <td>48685.67910</td>\n    </tr>\n    <tr>\n      <th>602093</th>\n      <td>352582</td>\n      <td>frisbee</td>\n      <td>34</td>\n      <td>valid</td>\n      <td>171.63</td>\n      <td>424.03</td>\n      <td>85.89</td>\n      <td>40.67</td>\n      <td>2605.72090</td>\n    </tr>\n    <tr>\n      <th>589740</th>\n      <td>113354</td>\n      <td>zebra</td>\n      <td>24</td>\n      <td>valid</td>\n      <td>366.49</td>\n      <td>174.59</td>\n      <td>115.67</td>\n      <td>142.71</td>\n      <td>5784.68620</td>\n    </tr>\n    <tr>\n      <th>467905</th>\n      <td>58393</td>\n      <td>person</td>\n      <td>1</td>\n      <td>valid</td>\n      <td>342.52</td>\n      <td>163.33</td>\n      <td>192.24</td>\n      <td>77.47</td>\n      <td>5408.64720</td>\n    </tr>\n    <tr>\n      <th>1710990</th>\n      <td>58393</td>\n      <td>person</td>\n      <td>1</td>\n      <td>valid</td>\n      <td>418.99</td>\n      <td>182.65</td>\n      <td>61.12</td>\n      <td>45.00</td>\n      <td>1792.80770</td>\n    </tr>\n    <tr>\n      <th>...</th>\n      <td>...</td>\n      <td>...</td>\n      <td>...</td>\n      <td>...</td>\n      <td>...</td>\n      <td>...</td>\n      <td>...</td>\n      <td>...</td>\n      <td>...</td>\n    </tr>\n    <tr>\n      <th>1101888</th>\n      <td>428280</td>\n      <td>laptop</td>\n      <td>73</td>\n      <td>valid</td>\n      <td>118.71</td>\n      <td>138.34</td>\n      <td>44.79</td>\n      <td>35.83</td>\n      <td>1405.98065</td>\n    </tr>\n    <tr>\n      <th>2190513</th>\n      <td>428280</td>\n      <td>chair</td>\n      <td>62</td>\n      <td>valid</td>\n      <td>203.58</td>\n      <td>179.65</td>\n      <td>105.27</td>\n      <td>139.55</td>\n      <td>7696.12525</td>\n    </tr>\n    <tr>\n      <th>331107</th>\n      <td>349837</td>\n      <td>refrigerator</td>\n      <td>82</td>\n      <td>valid</td>\n      <td>66.00</td>\n      <td>94.87</td>\n      <td>71.25</td>\n      <td>194.26</td>\n      <td>12029.44125</td>\n    </tr>\n    <tr>\n      <th>333394</th>\n      <td>349837</td>\n      <td>refrigerator</td>\n      <td>82</td>\n      <td>valid</td>\n      <td>234.44</td>\n      <td>29.87</td>\n      <td>113.49</td>\n      <td>298.65</td>\n      <td>30406.51295</td>\n    </tr>\n    <tr>\n      <th>333731</th>\n      <td>349837</td>\n      <td>refrigerator</td>\n      <td>82</td>\n      <td>valid</td>\n      <td>460.39</td>\n      <td>0.00</td>\n      <td>39.61</td>\n      <td>328.64</td>\n      <td>12492.52165</td>\n    </tr>\n  </tbody>\n</table>\n<p>18391 rows × 9 columns</p>\n</div>",
          "text/plain": "         image_id  category_str  category_id  split  box_x_min  box_y_min  \\\nid                                                                          \n460450     352582        person            1  valid     112.43     195.32   \n602093     352582       frisbee           34  valid     171.63     424.03   \n589740     113354         zebra           24  valid     366.49     174.59   \n467905      58393        person            1  valid     342.52     163.33   \n1710990     58393        person            1  valid     418.99     182.65   \n...           ...           ...          ...    ...        ...        ...   \n1101888    428280        laptop           73  valid     118.71     138.34   \n2190513    428280         chair           62  valid     203.58     179.65   \n331107     349837  refrigerator           82  valid      66.00      94.87   \n333394     349837  refrigerator           82  valid     234.44      29.87   \n333731     349837  refrigerator           82  valid     460.39       0.00   \n\n         box_width  box_height         area  \nid                                           \n460450      214.78      438.19  48685.67910  \n602093       85.89       40.67   2605.72090  \n589740      115.67      142.71   5784.68620  \n467905      192.24       77.47   5408.64720  \n1710990      61.12       45.00   1792.80770  \n...            ...         ...          ...  \n1101888      44.79       35.83   1405.98065  \n2190513     105.27      139.55   7696.12525  \n331107       71.25      194.26  12029.44125  \n333394      113.49      298.65  30406.51295  \n333731       39.61      328.64  12492.52165  \n\n[18391 rows x 9 columns]"
         },
         "metadata": {},
         "output_type": "display_data"
        }
       ]
      }
     },
     "7624ce323ee04e1c9158288ba8c702ef": {
      "model_module": "@jupyter-widgets/output",
      "model_module_version": "1.0.0",
      "model_name": "OutputModel",
      "state": {
       "layout": "IPY_MODEL_46e2e51db1ef4897ba11de653a89fd50",
       "outputs": [
        {
         "data": {
          "text/html": "<div>\n<style scoped>\n    .dataframe tbody tr th:only-of-type {\n        vertical-align: middle;\n    }\n\n    .dataframe tbody tr th {\n        vertical-align: top;\n    }\n\n    .dataframe thead th {\n        text-align: right;\n    }\n</style>\n<table border=\"1\" class=\"dataframe\">\n  <thead>\n    <tr style=\"text-align: right;\">\n      <th></th>\n      <th>image_id</th>\n      <th>category_str</th>\n      <th>category_id</th>\n      <th>split</th>\n      <th>box_x_min</th>\n      <th>box_y_min</th>\n      <th>box_width</th>\n      <th>box_height</th>\n      <th>area</th>\n    </tr>\n    <tr>\n      <th>id</th>\n      <th></th>\n      <th></th>\n      <th></th>\n      <th></th>\n      <th></th>\n      <th></th>\n      <th></th>\n      <th></th>\n      <th></th>\n    </tr>\n  </thead>\n  <tbody>\n    <tr>\n      <th>460450</th>\n      <td>352582</td>\n      <td>person</td>\n      <td>1</td>\n      <td>valid</td>\n      <td>112.43</td>\n      <td>195.32</td>\n      <td>214.78</td>\n      <td>438.19</td>\n      <td>48685.67910</td>\n    </tr>\n    <tr>\n      <th>535917</th>\n      <td>352582</td>\n      <td>person</td>\n      <td>1</td>\n      <td>valid</td>\n      <td>0.00</td>\n      <td>256.00</td>\n      <td>80.54</td>\n      <td>376.81</td>\n      <td>22650.73800</td>\n    </tr>\n    <tr>\n      <th>602093</th>\n      <td>352582</td>\n      <td>frisbee</td>\n      <td>34</td>\n      <td>valid</td>\n      <td>171.63</td>\n      <td>424.03</td>\n      <td>85.89</td>\n      <td>40.67</td>\n      <td>2605.72090</td>\n    </tr>\n    <tr>\n      <th>467905</th>\n      <td>58393</td>\n      <td>person</td>\n      <td>1</td>\n      <td>valid</td>\n      <td>342.52</td>\n      <td>163.33</td>\n      <td>192.24</td>\n      <td>77.47</td>\n      <td>5408.64720</td>\n    </tr>\n    <tr>\n      <th>576900</th>\n      <td>58393</td>\n      <td>bench</td>\n      <td>15</td>\n      <td>valid</td>\n      <td>44.78</td>\n      <td>242.27</td>\n      <td>547.16</td>\n      <td>224.98</td>\n      <td>82291.54995</td>\n    </tr>\n    <tr>\n      <th>...</th>\n      <td>...</td>\n      <td>...</td>\n      <td>...</td>\n      <td>...</td>\n      <td>...</td>\n      <td>...</td>\n      <td>...</td>\n      <td>...</td>\n      <td>...</td>\n    </tr>\n    <tr>\n      <th>331107</th>\n      <td>349837</td>\n      <td>refrigerator</td>\n      <td>82</td>\n      <td>valid</td>\n      <td>66.00</td>\n      <td>94.87</td>\n      <td>71.25</td>\n      <td>194.26</td>\n      <td>12029.44125</td>\n    </tr>\n    <tr>\n      <th>332788</th>\n      <td>349837</td>\n      <td>refrigerator</td>\n      <td>82</td>\n      <td>valid</td>\n      <td>138.00</td>\n      <td>62.63</td>\n      <td>98.25</td>\n      <td>252.00</td>\n      <td>23037.46875</td>\n    </tr>\n    <tr>\n      <th>333394</th>\n      <td>349837</td>\n      <td>refrigerator</td>\n      <td>82</td>\n      <td>valid</td>\n      <td>234.44</td>\n      <td>29.87</td>\n      <td>113.49</td>\n      <td>298.65</td>\n      <td>30406.51295</td>\n    </tr>\n    <tr>\n      <th>333685</th>\n      <td>349837</td>\n      <td>refrigerator</td>\n      <td>82</td>\n      <td>valid</td>\n      <td>335.04</td>\n      <td>10.48</td>\n      <td>125.17</td>\n      <td>318.78</td>\n      <td>37187.97840</td>\n    </tr>\n    <tr>\n      <th>333731</th>\n      <td>349837</td>\n      <td>refrigerator</td>\n      <td>82</td>\n      <td>valid</td>\n      <td>460.39</td>\n      <td>0.00</td>\n      <td>39.61</td>\n      <td>328.64</td>\n      <td>12492.52165</td>\n    </tr>\n  </tbody>\n</table>\n<p>36781 rows × 9 columns</p>\n</div>",
          "text/plain": "        image_id  category_str  category_id  split  box_x_min  box_y_min  \\\nid                                                                         \n460450    352582        person            1  valid     112.43     195.32   \n535917    352582        person            1  valid       0.00     256.00   \n602093    352582       frisbee           34  valid     171.63     424.03   \n467905     58393        person            1  valid     342.52     163.33   \n576900     58393         bench           15  valid      44.78     242.27   \n...          ...           ...          ...    ...        ...        ...   \n331107    349837  refrigerator           82  valid      66.00      94.87   \n332788    349837  refrigerator           82  valid     138.00      62.63   \n333394    349837  refrigerator           82  valid     234.44      29.87   \n333685    349837  refrigerator           82  valid     335.04      10.48   \n333731    349837  refrigerator           82  valid     460.39       0.00   \n\n        box_width  box_height         area  \nid                                          \n460450     214.78      438.19  48685.67910  \n535917      80.54      376.81  22650.73800  \n602093      85.89       40.67   2605.72090  \n467905     192.24       77.47   5408.64720  \n576900     547.16      224.98  82291.54995  \n...           ...         ...          ...  \n331107      71.25      194.26  12029.44125  \n332788      98.25      252.00  23037.46875  \n333394     113.49      298.65  30406.51295  \n333685     125.17      318.78  37187.97840  \n333731      39.61      328.64  12492.52165  \n\n[36781 rows x 9 columns]"
         },
         "metadata": {},
         "output_type": "display_data"
        }
       ]
      }
     },
     "7651b2578bad44ea89843819afce536b": {
      "model_module": "@jupyter-widgets/controls",
      "model_module_version": "2.0.0",
      "model_name": "TabModel",
      "state": {
       "children": [
        "IPY_MODEL_fa468d8ea1954346ba62e1f3ba16da9d",
        "IPY_MODEL_42ec456df0704ce7b9e76650e63624c6",
        "IPY_MODEL_01f868101b094c23b48e203b66298705"
       ],
       "layout": "IPY_MODEL_c74870f966e84cdf8b0134024009119e",
       "selected_index": 0,
       "titles": [
        "Images",
        "Annotations",
        "Label Map"
       ]
      }
     },
     "770a97b7e9c346799bd1275a523fc26d": {
      "model_module": "@jupyter-widgets/output",
      "model_module_version": "1.0.0",
      "model_name": "OutputModel",
      "state": {
       "layout": "IPY_MODEL_1a085fad85ae473fbbcfce695d050dc2",
       "outputs": [
        {
         "data": {
          "text/html": "<div>\n<style scoped>\n    .dataframe tbody tr th:only-of-type {\n        vertical-align: middle;\n    }\n\n    .dataframe tbody tr th {\n        vertical-align: top;\n    }\n\n    .dataframe thead th {\n        text-align: right;\n    }\n</style>\n<table border=\"1\" class=\"dataframe\">\n  <thead>\n    <tr style=\"text-align: right;\">\n      <th></th>\n      <th>category string</th>\n    </tr>\n    <tr>\n      <th>category_id</th>\n      <th></th>\n    </tr>\n  </thead>\n  <tbody>\n    <tr>\n      <th>1</th>\n      <td>person</td>\n    </tr>\n    <tr>\n      <th>2</th>\n      <td>bicycle</td>\n    </tr>\n    <tr>\n      <th>3</th>\n      <td>car</td>\n    </tr>\n    <tr>\n      <th>4</th>\n      <td>motorcycle</td>\n    </tr>\n    <tr>\n      <th>5</th>\n      <td>airplane</td>\n    </tr>\n    <tr>\n      <th>...</th>\n      <td>...</td>\n    </tr>\n    <tr>\n      <th>86</th>\n      <td>vase</td>\n    </tr>\n    <tr>\n      <th>87</th>\n      <td>scissors</td>\n    </tr>\n    <tr>\n      <th>88</th>\n      <td>teddy bear</td>\n    </tr>\n    <tr>\n      <th>89</th>\n      <td>hair drier</td>\n    </tr>\n    <tr>\n      <th>90</th>\n      <td>toothbrush</td>\n    </tr>\n  </tbody>\n</table>\n<p>80 rows × 1 columns</p>\n</div>",
          "text/plain": "            category string\ncategory_id                \n1                    person\n2                   bicycle\n3                       car\n4                motorcycle\n5                  airplane\n...                     ...\n86                     vase\n87                 scissors\n88               teddy bear\n89               hair drier\n90               toothbrush\n\n[80 rows x 1 columns]"
         },
         "metadata": {},
         "output_type": "display_data"
        }
       ]
      }
     },
     "7818182c65624d0f8d94471d24684f68": {
      "model_module": "@jupyter-widgets/controls",
      "model_module_version": "2.0.0",
      "model_name": "VBoxModel",
      "state": {
       "children": [
        "IPY_MODEL_56261b59834f402d86eb8a3bcdae35d9",
        "IPY_MODEL_706174f71ed04da59539226646743f27"
       ],
       "layout": "IPY_MODEL_011f9537a8584b1f818c73bd4f1dedf8"
      }
     },
     "7855f691fd2d417fb13802123060f0f9": {
      "model_module": "@jupyter-widgets/output",
      "model_module_version": "1.0.0",
      "model_name": "OutputModel",
      "state": {
       "layout": "IPY_MODEL_0c5d2aa95978492b96a43dd491bb1ce0",
       "outputs": [
        {
         "data": {
          "text/html": "<div>\n<style scoped>\n    .dataframe tbody tr th:only-of-type {\n        vertical-align: middle;\n    }\n\n    .dataframe tbody tr th {\n        vertical-align: top;\n    }\n\n    .dataframe thead th {\n        text-align: right;\n    }\n</style>\n<table border=\"1\" class=\"dataframe\">\n  <thead>\n    <tr style=\"text-align: right;\">\n      <th></th>\n      <th>width</th>\n      <th>height</th>\n      <th>relative_path</th>\n      <th>type</th>\n      <th>split</th>\n    </tr>\n    <tr>\n      <th>id</th>\n      <th></th>\n      <th></th>\n      <th></th>\n      <th></th>\n      <th></th>\n    </tr>\n  </thead>\n  <tbody>\n    <tr>\n      <th>352582</th>\n      <td>425</td>\n      <td>640</td>\n      <td>Images/valid/000000352582.jpg</td>\n      <td>.jpg</td>\n      <td>valid</td>\n    </tr>\n    <tr>\n      <th>113354</th>\n      <td>640</td>\n      <td>480</td>\n      <td>Images/valid/000000113354.jpg</td>\n      <td>.jpg</td>\n      <td>valid</td>\n    </tr>\n    <tr>\n      <th>58393</th>\n      <td>640</td>\n      <td>486</td>\n      <td>Images/valid/000000058393.jpg</td>\n      <td>.jpg</td>\n      <td>valid</td>\n    </tr>\n    <tr>\n      <th>147729</th>\n      <td>500</td>\n      <td>375</td>\n      <td>Images/valid/000000147729.jpg</td>\n      <td>.jpg</td>\n      <td>valid</td>\n    </tr>\n    <tr>\n      <th>310072</th>\n      <td>640</td>\n      <td>383</td>\n      <td>Images/valid/000000310072.jpg</td>\n      <td>.jpg</td>\n      <td>valid</td>\n    </tr>\n    <tr>\n      <th>...</th>\n      <td>...</td>\n      <td>...</td>\n      <td>...</td>\n      <td>...</td>\n      <td>...</td>\n    </tr>\n    <tr>\n      <th>311180</th>\n      <td>480</td>\n      <td>640</td>\n      <td>Images/valid/000000311180.jpg</td>\n      <td>.jpg</td>\n      <td>valid</td>\n    </tr>\n    <tr>\n      <th>302030</th>\n      <td>640</td>\n      <td>359</td>\n      <td>Images/valid/000000302030.jpg</td>\n      <td>.jpg</td>\n      <td>valid</td>\n    </tr>\n    <tr>\n      <th>105455</th>\n      <td>427</td>\n      <td>640</td>\n      <td>Images/valid/000000105455.jpg</td>\n      <td>.jpg</td>\n      <td>valid</td>\n    </tr>\n    <tr>\n      <th>428280</th>\n      <td>500</td>\n      <td>333</td>\n      <td>Images/valid/000000428280.jpg</td>\n      <td>.jpg</td>\n      <td>valid</td>\n    </tr>\n    <tr>\n      <th>349837</th>\n      <td>500</td>\n      <td>333</td>\n      <td>Images/valid/000000349837.jpg</td>\n      <td>.jpg</td>\n      <td>valid</td>\n    </tr>\n  </tbody>\n</table>\n<p>5000 rows × 5 columns</p>\n</div>",
          "text/plain": "        width  height                  relative_path  type  split\nid                                                               \n352582    425     640  Images/valid/000000352582.jpg  .jpg  valid\n113354    640     480  Images/valid/000000113354.jpg  .jpg  valid\n58393     640     486  Images/valid/000000058393.jpg  .jpg  valid\n147729    500     375  Images/valid/000000147729.jpg  .jpg  valid\n310072    640     383  Images/valid/000000310072.jpg  .jpg  valid\n...       ...     ...                            ...   ...    ...\n311180    480     640  Images/valid/000000311180.jpg  .jpg  valid\n302030    640     359  Images/valid/000000302030.jpg  .jpg  valid\n105455    427     640  Images/valid/000000105455.jpg  .jpg  valid\n428280    500     333  Images/valid/000000428280.jpg  .jpg  valid\n349837    500     333  Images/valid/000000349837.jpg  .jpg  valid\n\n[5000 rows x 5 columns]"
         },
         "metadata": {},
         "output_type": "display_data"
        }
       ]
      }
     },
     "78b68e6794c840619e4f1949ebeace98": {
      "model_module": "@jupyter-widgets/controls",
      "model_module_version": "2.0.0",
      "model_name": "TabModel",
      "state": {
       "children": [
        "IPY_MODEL_7be19293f8264133af3b1216e3f0a010",
        "IPY_MODEL_73a2a103d75245dfb95b7c238620db6e",
        "IPY_MODEL_d6baaeeb0c864af38c19897ffc3f5189"
       ],
       "layout": "IPY_MODEL_11713b7e91d44480ae51c2e032c722f2",
       "selected_index": 0,
       "titles": [
        "Images",
        "Annotations",
        "Label Map"
       ]
      }
     },
     "7921b054744a46839a97eb1cff3c0d4d": {
      "model_module": "@jupyter-widgets/base",
      "model_module_version": "2.0.0",
      "model_name": "LayoutModel",
      "state": {}
     },
     "7967dc587bfc4f6a929cd6958633f189": {
      "model_module": "@jupyter-widgets/base",
      "model_module_version": "2.0.0",
      "model_name": "LayoutModel",
      "state": {}
     },
     "79f9cc5c06fb4eba9ba0de8566cdf87a": {
      "model_module": "@jupyter-widgets/output",
      "model_module_version": "1.0.0",
      "model_name": "OutputModel",
      "state": {
       "layout": "IPY_MODEL_0192e057585f45b2bc91c03e163d744f",
       "outputs": [
        {
         "data": {
          "text/html": "<div>\n<style scoped>\n    .dataframe tbody tr th:only-of-type {\n        vertical-align: middle;\n    }\n\n    .dataframe tbody tr th {\n        vertical-align: top;\n    }\n\n    .dataframe thead th {\n        text-align: right;\n    }\n</style>\n<table border=\"1\" class=\"dataframe\">\n  <thead>\n    <tr style=\"text-align: right;\">\n      <th></th>\n      <th>category string</th>\n    </tr>\n    <tr>\n      <th>category_id</th>\n      <th></th>\n    </tr>\n  </thead>\n  <tbody>\n    <tr>\n      <th>1</th>\n      <td>person</td>\n    </tr>\n    <tr>\n      <th>2</th>\n      <td>bicycle</td>\n    </tr>\n    <tr>\n      <th>3</th>\n      <td>car</td>\n    </tr>\n    <tr>\n      <th>4</th>\n      <td>motorcycle</td>\n    </tr>\n    <tr>\n      <th>5</th>\n      <td>airplane</td>\n    </tr>\n    <tr>\n      <th>...</th>\n      <td>...</td>\n    </tr>\n    <tr>\n      <th>86</th>\n      <td>vase</td>\n    </tr>\n    <tr>\n      <th>87</th>\n      <td>scissors</td>\n    </tr>\n    <tr>\n      <th>88</th>\n      <td>teddy bear</td>\n    </tr>\n    <tr>\n      <th>89</th>\n      <td>hair drier</td>\n    </tr>\n    <tr>\n      <th>90</th>\n      <td>toothbrush</td>\n    </tr>\n  </tbody>\n</table>\n<p>80 rows × 1 columns</p>\n</div>",
          "text/plain": "            category string\ncategory_id                \n1                    person\n2                   bicycle\n3                       car\n4                motorcycle\n5                  airplane\n...                     ...\n86                     vase\n87                 scissors\n88               teddy bear\n89               hair drier\n90               toothbrush\n\n[80 rows x 1 columns]"
         },
         "metadata": {},
         "output_type": "display_data"
        }
       ]
      }
     },
     "7b0b2bd0a9fa41339eb0b6c7dc605df2": {
      "model_module": "@jupyter-widgets/output",
      "model_module_version": "1.0.0",
      "model_name": "OutputModel",
      "state": {
       "layout": "IPY_MODEL_97a68d30572c439c91a4a9a633b181ea",
       "outputs": [
        {
         "data": {
          "text/html": "<div>\n<style scoped>\n    .dataframe tbody tr th:only-of-type {\n        vertical-align: middle;\n    }\n\n    .dataframe tbody tr th {\n        vertical-align: top;\n    }\n\n    .dataframe thead th {\n        text-align: right;\n    }\n</style>\n<table border=\"1\" class=\"dataframe\">\n  <thead>\n    <tr style=\"text-align: right;\">\n      <th></th>\n      <th>category string</th>\n    </tr>\n    <tr>\n      <th>category_id</th>\n      <th></th>\n    </tr>\n  </thead>\n  <tbody>\n    <tr>\n      <th>1</th>\n      <td>person</td>\n    </tr>\n    <tr>\n      <th>2</th>\n      <td>bicycle</td>\n    </tr>\n    <tr>\n      <th>3</th>\n      <td>car</td>\n    </tr>\n    <tr>\n      <th>4</th>\n      <td>motorcycle</td>\n    </tr>\n    <tr>\n      <th>5</th>\n      <td>airplane</td>\n    </tr>\n    <tr>\n      <th>...</th>\n      <td>...</td>\n    </tr>\n    <tr>\n      <th>86</th>\n      <td>vase</td>\n    </tr>\n    <tr>\n      <th>87</th>\n      <td>scissors</td>\n    </tr>\n    <tr>\n      <th>88</th>\n      <td>teddy bear</td>\n    </tr>\n    <tr>\n      <th>89</th>\n      <td>hair drier</td>\n    </tr>\n    <tr>\n      <th>90</th>\n      <td>toothbrush</td>\n    </tr>\n  </tbody>\n</table>\n<p>80 rows × 1 columns</p>\n</div>",
          "text/plain": "            category string\ncategory_id                \n1                    person\n2                   bicycle\n3                       car\n4                motorcycle\n5                  airplane\n...                     ...\n86                     vase\n87                 scissors\n88               teddy bear\n89               hair drier\n90               toothbrush\n\n[80 rows x 1 columns]"
         },
         "metadata": {},
         "output_type": "display_data"
        }
       ]
      }
     },
     "7be19293f8264133af3b1216e3f0a010": {
      "model_module": "@jupyter-widgets/output",
      "model_module_version": "1.0.0",
      "model_name": "OutputModel",
      "state": {
       "layout": "IPY_MODEL_f85df88b19a548c1a10678b27bff5d50",
       "outputs": [
        {
         "data": {
          "text/html": "<div>\n<style scoped>\n    .dataframe tbody tr th:only-of-type {\n        vertical-align: middle;\n    }\n\n    .dataframe tbody tr th {\n        vertical-align: top;\n    }\n\n    .dataframe thead th {\n        text-align: right;\n    }\n</style>\n<table border=\"1\" class=\"dataframe\">\n  <thead>\n    <tr style=\"text-align: right;\">\n      <th></th>\n      <th>width</th>\n      <th>height</th>\n      <th>relative_path</th>\n      <th>type</th>\n      <th>split</th>\n    </tr>\n    <tr>\n      <th>id</th>\n      <th></th>\n      <th></th>\n      <th></th>\n      <th></th>\n      <th></th>\n    </tr>\n  </thead>\n  <tbody>\n    <tr>\n      <th>352582</th>\n      <td>425</td>\n      <td>640</td>\n      <td>Images/valid/000000352582.jpg</td>\n      <td>.jpg</td>\n      <td>valid</td>\n    </tr>\n    <tr>\n      <th>113354</th>\n      <td>640</td>\n      <td>480</td>\n      <td>Images/valid/000000113354.jpg</td>\n      <td>.jpg</td>\n      <td>valid</td>\n    </tr>\n    <tr>\n      <th>58393</th>\n      <td>640</td>\n      <td>486</td>\n      <td>Images/valid/000000058393.jpg</td>\n      <td>.jpg</td>\n      <td>valid</td>\n    </tr>\n    <tr>\n      <th>147729</th>\n      <td>500</td>\n      <td>375</td>\n      <td>Images/valid/000000147729.jpg</td>\n      <td>.jpg</td>\n      <td>valid</td>\n    </tr>\n    <tr>\n      <th>310072</th>\n      <td>640</td>\n      <td>383</td>\n      <td>Images/valid/000000310072.jpg</td>\n      <td>.jpg</td>\n      <td>valid</td>\n    </tr>\n    <tr>\n      <th>...</th>\n      <td>...</td>\n      <td>...</td>\n      <td>...</td>\n      <td>...</td>\n      <td>...</td>\n    </tr>\n    <tr>\n      <th>311180</th>\n      <td>480</td>\n      <td>640</td>\n      <td>Images/valid/000000311180.jpg</td>\n      <td>.jpg</td>\n      <td>valid</td>\n    </tr>\n    <tr>\n      <th>302030</th>\n      <td>640</td>\n      <td>359</td>\n      <td>Images/valid/000000302030.jpg</td>\n      <td>.jpg</td>\n      <td>valid</td>\n    </tr>\n    <tr>\n      <th>105455</th>\n      <td>427</td>\n      <td>640</td>\n      <td>Images/valid/000000105455.jpg</td>\n      <td>.jpg</td>\n      <td>valid</td>\n    </tr>\n    <tr>\n      <th>428280</th>\n      <td>500</td>\n      <td>333</td>\n      <td>Images/valid/000000428280.jpg</td>\n      <td>.jpg</td>\n      <td>valid</td>\n    </tr>\n    <tr>\n      <th>349837</th>\n      <td>500</td>\n      <td>333</td>\n      <td>Images/valid/000000349837.jpg</td>\n      <td>.jpg</td>\n      <td>valid</td>\n    </tr>\n  </tbody>\n</table>\n<p>5000 rows × 5 columns</p>\n</div>",
          "text/plain": "        width  height                  relative_path  type  split\nid                                                               \n352582    425     640  Images/valid/000000352582.jpg  .jpg  valid\n113354    640     480  Images/valid/000000113354.jpg  .jpg  valid\n58393     640     486  Images/valid/000000058393.jpg  .jpg  valid\n147729    500     375  Images/valid/000000147729.jpg  .jpg  valid\n310072    640     383  Images/valid/000000310072.jpg  .jpg  valid\n...       ...     ...                            ...   ...    ...\n311180    480     640  Images/valid/000000311180.jpg  .jpg  valid\n302030    640     359  Images/valid/000000302030.jpg  .jpg  valid\n105455    427     640  Images/valid/000000105455.jpg  .jpg  valid\n428280    500     333  Images/valid/000000428280.jpg  .jpg  valid\n349837    500     333  Images/valid/000000349837.jpg  .jpg  valid\n\n[5000 rows x 5 columns]"
         },
         "metadata": {},
         "output_type": "display_data"
        }
       ]
      }
     },
     "7bec16f4b1874da8953d4f5e66dca55e": {
      "model_module": "@jupyter-widgets/controls",
      "model_module_version": "2.0.0",
      "model_name": "TabModel",
      "state": {
       "children": [
        "IPY_MODEL_de540a7ac8634e82ac874e14cb8ee255",
        "IPY_MODEL_4c156340353a448aa26c07d00f3534ee",
        "IPY_MODEL_4348de50280a44f8a13045980f827e59"
       ],
       "layout": "IPY_MODEL_739b133f251f4d3bacfeda8ad058349a",
       "selected_index": 0,
       "titles": [
        "Images",
        "Annotations",
        "Label Map"
       ]
      }
     },
     "7bf208ab93ca491faa2b1a31d26647b8": {
      "model_module": "@jupyter-widgets/base",
      "model_module_version": "2.0.0",
      "model_name": "LayoutModel",
      "state": {}
     },
     "7c3f6d4e80634978b877f69ba9e8e026": {
      "model_module": "@jupyter-widgets/base",
      "model_module_version": "2.0.0",
      "model_name": "LayoutModel",
      "state": {}
     },
     "7cc4ccb8773d4964a782cb362bbc0ccd": {
      "model_module": "@jupyter-widgets/base",
      "model_module_version": "2.0.0",
      "model_name": "LayoutModel",
      "state": {}
     },
     "7e2618f90e4841b4bb23eed22a262b27": {
      "model_module": "@jupyter-widgets/controls",
      "model_module_version": "2.0.0",
      "model_name": "VBoxModel",
      "state": {
       "children": [
        "IPY_MODEL_386e20fbf47c415bb2b40866aca1044d",
        "IPY_MODEL_4451e043cc5a4137b2ee99911d110707"
       ],
       "layout": "IPY_MODEL_fde5fa1711764a049b5bfa5f32acc020"
      }
     },
     "7e414c835aa845c8959bb9cad0ac41f7": {
      "model_module": "@jupyter-widgets/base",
      "model_module_version": "2.0.0",
      "model_name": "LayoutModel",
      "state": {}
     },
     "7ec48b24760846c183e6c0f90a972c7c": {
      "model_module": "@jupyter-widgets/base",
      "model_module_version": "2.0.0",
      "model_name": "LayoutModel",
      "state": {}
     },
     "805b154232864da38d1c482e12647dc1": {
      "model_module": "@jupyter-widgets/controls",
      "model_module_version": "2.0.0",
      "model_name": "HTMLStyleModel",
      "state": {
       "description_width": "",
       "font_size": null,
       "text_color": null
      }
     },
     "81cbd34f476d414db06011869f6c9433": {
      "model_module": "@jupyter-widgets/base",
      "model_module_version": "2.0.0",
      "model_name": "LayoutModel",
      "state": {}
     },
     "82d1726ef6294fae9d9035a2eb7a40d7": {
      "model_module": "@jupyter-widgets/output",
      "model_module_version": "1.0.0",
      "model_name": "OutputModel",
      "state": {
       "layout": "IPY_MODEL_62a01d8f832140b98d3ff6af30de8e5b",
       "outputs": [
        {
         "data": {
          "text/html": "<div>\n<style scoped>\n    .dataframe tbody tr th:only-of-type {\n        vertical-align: middle;\n    }\n\n    .dataframe tbody tr th {\n        vertical-align: top;\n    }\n\n    .dataframe thead th {\n        text-align: right;\n    }\n</style>\n<table border=\"1\" class=\"dataframe\">\n  <thead>\n    <tr style=\"text-align: right;\">\n      <th></th>\n      <th>category string</th>\n    </tr>\n    <tr>\n      <th>category_id</th>\n      <th></th>\n    </tr>\n  </thead>\n  <tbody>\n    <tr>\n      <th>1</th>\n      <td>aeroplane</td>\n    </tr>\n    <tr>\n      <th>2</th>\n      <td>bicycle</td>\n    </tr>\n    <tr>\n      <th>3</th>\n      <td>bird</td>\n    </tr>\n    <tr>\n      <th>4</th>\n      <td>boat</td>\n    </tr>\n    <tr>\n      <th>5</th>\n      <td>bottle</td>\n    </tr>\n    <tr>\n      <th>6</th>\n      <td>bus</td>\n    </tr>\n    <tr>\n      <th>7</th>\n      <td>car</td>\n    </tr>\n    <tr>\n      <th>8</th>\n      <td>cat</td>\n    </tr>\n    <tr>\n      <th>9</th>\n      <td>chair</td>\n    </tr>\n    <tr>\n      <th>10</th>\n      <td>cow</td>\n    </tr>\n    <tr>\n      <th>11</th>\n      <td>diningtable</td>\n    </tr>\n    <tr>\n      <th>12</th>\n      <td>dog</td>\n    </tr>\n    <tr>\n      <th>13</th>\n      <td>horse</td>\n    </tr>\n    <tr>\n      <th>14</th>\n      <td>motorbike</td>\n    </tr>\n    <tr>\n      <th>15</th>\n      <td>person</td>\n    </tr>\n    <tr>\n      <th>16</th>\n      <td>pottedplant</td>\n    </tr>\n    <tr>\n      <th>17</th>\n      <td>sheep</td>\n    </tr>\n    <tr>\n      <th>18</th>\n      <td>sofa</td>\n    </tr>\n    <tr>\n      <th>19</th>\n      <td>train</td>\n    </tr>\n    <tr>\n      <th>20</th>\n      <td>tvmonitor</td>\n    </tr>\n  </tbody>\n</table>\n</div>",
          "text/plain": "            category string\ncategory_id                \n1                 aeroplane\n2                   bicycle\n3                      bird\n4                      boat\n5                    bottle\n6                       bus\n7                       car\n8                       cat\n9                     chair\n10                      cow\n11              diningtable\n12                      dog\n13                    horse\n14                motorbike\n15                   person\n16              pottedplant\n17                    sheep\n18                     sofa\n19                    train\n20                tvmonitor"
         },
         "metadata": {},
         "output_type": "display_data"
        }
       ]
      }
     },
     "83026b8c3977479cb2153844b6328384": {
      "model_module": "@jupyter-widgets/base",
      "model_module_version": "2.0.0",
      "model_name": "LayoutModel",
      "state": {}
     },
     "839b049fb7f1415da488222917572091": {
      "model_module": "@jupyter-widgets/controls",
      "model_module_version": "2.0.0",
      "model_name": "VBoxModel",
      "state": {
       "children": [
        "IPY_MODEL_64846a560b0a4f4ebdd1e0f811fa78f0",
        "IPY_MODEL_61e34fb2b60a401785348f10aff29d49"
       ],
       "layout": "IPY_MODEL_3ab115aa46224d2a85191285da2cb442"
      }
     },
     "839cd65655db4ceda9d80564d684e040": {
      "model_module": "@jupyter-widgets/base",
      "model_module_version": "2.0.0",
      "model_name": "LayoutModel",
      "state": {}
     },
     "8434e5f7d00a4bd8a08920774d7cb8d9": {
      "model_module": "@jupyter-widgets/controls",
      "model_module_version": "2.0.0",
      "model_name": "VBoxModel",
      "state": {
       "children": [
        "IPY_MODEL_d38bd83f704041fa94c4b2e8a381b218",
        "IPY_MODEL_f8fae047eba64b2ba615717c3e6424da"
       ],
       "layout": "IPY_MODEL_20e1a2357cb34893b0a962c96485a5e7"
      }
     },
     "85980c920f294c12bb127a444d35c92b": {
      "model_module": "@jupyter-widgets/base",
      "model_module_version": "2.0.0",
      "model_name": "LayoutModel",
      "state": {}
     },
     "85f426e2ee5c45d5bec8cd768186b99c": {
      "model_module": "@jupyter-widgets/base",
      "model_module_version": "2.0.0",
      "model_name": "LayoutModel",
      "state": {}
     },
     "87fabb6909cd4796a02287f7620b30bd": {
      "model_module": "@jupyter-widgets/controls",
      "model_module_version": "2.0.0",
      "model_name": "VBoxModel",
      "state": {
       "children": [
        "IPY_MODEL_df046193ac084c8c98cdfa41744e9f6a",
        "IPY_MODEL_1ca7cc3b062b49f99c27a62e8fda36e5"
       ],
       "layout": "IPY_MODEL_8e4b95ada6b24c6da5ba4de9b630b66d"
      }
     },
     "887db8657dbf4b9182d34277082dfbeb": {
      "model_module": "@jupyter-widgets/base",
      "model_module_version": "2.0.0",
      "model_name": "LayoutModel",
      "state": {}
     },
     "891e741c61ef4eee9c8edaf8db76710b": {
      "model_module": "@jupyter-widgets/controls",
      "model_module_version": "2.0.0",
      "model_name": "VBoxModel",
      "state": {
       "children": [
        "IPY_MODEL_1015c44d1eff42be909b27d029faedab",
        "IPY_MODEL_2960d6dcc47d49a381e77ae2aa56613d"
       ],
       "layout": "IPY_MODEL_7cc4ccb8773d4964a782cb362bbc0ccd"
      }
     },
     "893459f11983415abc20160387905a2a": {
      "model_module": "@jupyter-widgets/controls",
      "model_module_version": "2.0.0",
      "model_name": "HTMLStyleModel",
      "state": {
       "description_width": "",
       "font_size": null,
       "text_color": null
      }
     },
     "894942382e4348e19192c4e35fff114f": {
      "model_module": "@jupyter-widgets/controls",
      "model_module_version": "2.0.0",
      "model_name": "VBoxModel",
      "state": {
       "children": [
        "IPY_MODEL_357957009e864da7ae317388a2ca3d36",
        "IPY_MODEL_8be7cb103e1a48c4a91413508ca6d2ec"
       ],
       "layout": "IPY_MODEL_42f49954f3374d9db6e010ab6ad3e6cd"
      }
     },
     "899cfc3a72f241b29a91abc01b84aee7": {
      "model_module": "@jupyter-widgets/controls",
      "model_module_version": "2.0.0",
      "model_name": "HTMLStyleModel",
      "state": {
       "description_width": "",
       "font_size": null,
       "text_color": null
      }
     },
     "8a0098265e3d4d468308cb112570d1eb": {
      "model_module": "@jupyter-widgets/controls",
      "model_module_version": "2.0.0",
      "model_name": "HTMLModel",
      "state": {
       "layout": "IPY_MODEL_dba7cb9df18749acb55c70e3e98d0170",
       "style": "IPY_MODEL_805b154232864da38d1c482e12647dc1",
       "value": "<p><span style='white-space: pre-wrap; font-weight: bold'>Dataset object containing 5,000 images and 36,781 objects\nName :\n\tcoco\nImages root :\n\tnotebook_data</span></p>"
      }
     },
     "8b2d0ddb5a004197b4a18f8aae9de750": {
      "model_module": "@jupyter-widgets/output",
      "model_module_version": "1.0.0",
      "model_name": "OutputModel",
      "state": {
       "layout": "IPY_MODEL_1d053d8ce8b24c67aa71cdd82d42465e",
       "outputs": [
        {
         "data": {
          "text/html": "<div>\n<style scoped>\n    .dataframe tbody tr th:only-of-type {\n        vertical-align: middle;\n    }\n\n    .dataframe tbody tr th {\n        vertical-align: top;\n    }\n\n    .dataframe thead th {\n        text-align: right;\n    }\n</style>\n<table border=\"1\" class=\"dataframe\">\n  <thead>\n    <tr style=\"text-align: right;\">\n      <th></th>\n      <th>category string</th>\n    </tr>\n    <tr>\n      <th>category_id</th>\n      <th></th>\n    </tr>\n  </thead>\n  <tbody>\n    <tr>\n      <th>1</th>\n      <td>animal</td>\n    </tr>\n    <tr>\n      <th>2</th>\n      <td>vehicle</td>\n    </tr>\n    <tr>\n      <th>3</th>\n      <td>object</td>\n    </tr>\n  </tbody>\n</table>\n</div>",
          "text/plain": "            category string\ncategory_id                \n1                    animal\n2                   vehicle\n3                    object"
         },
         "metadata": {},
         "output_type": "display_data"
        }
       ]
      }
     },
     "8b7d15b97de0461e877c1b7f01376573": {
      "model_module": "@jupyter-widgets/base",
      "model_module_version": "2.0.0",
      "model_name": "LayoutModel",
      "state": {}
     },
     "8be7cb103e1a48c4a91413508ca6d2ec": {
      "model_module": "@jupyter-widgets/controls",
      "model_module_version": "2.0.0",
      "model_name": "TabModel",
      "state": {
       "children": [
        "IPY_MODEL_138b3dfb7b344e32b7c97d0d52aad09a",
        "IPY_MODEL_25e0d0eb9c2c40488365ce8a27295bfc",
        "IPY_MODEL_82d1726ef6294fae9d9035a2eb7a40d7"
       ],
       "layout": "IPY_MODEL_97bc41e03f3746e697586d5eec134a1d",
       "selected_index": 0,
       "titles": [
        "Images",
        "Annotations",
        "Label Map"
       ]
      }
     },
     "8c0b90b9d1204688990ab6844197f69e": {
      "model_module": "@jupyter-widgets/base",
      "model_module_version": "2.0.0",
      "model_name": "LayoutModel",
      "state": {}
     },
     "8c824c73911a4b55afcd739b89c329be": {
      "model_module": "@jupyter-widgets/controls",
      "model_module_version": "2.0.0",
      "model_name": "TabModel",
      "state": {
       "children": [
        "IPY_MODEL_fcae50c271324f3e885edb43b9eef38b",
        "IPY_MODEL_1439575ff6fb43709efa478aee4c5744",
        "IPY_MODEL_552731e964f94279afc56c9dcd2b189c"
       ],
       "layout": "IPY_MODEL_8fead985dfa34cb79a9ef802d118e5bc",
       "selected_index": 0,
       "titles": [
        "Images",
        "Annotations",
        "Label Map"
       ]
      }
     },
     "8e1170f526454fa09c7b74e7eb8774df": {
      "model_module": "@jupyter-widgets/controls",
      "model_module_version": "2.0.0",
      "model_name": "VBoxModel",
      "state": {
       "children": [
        "IPY_MODEL_11d328b63a934f189ade88c99e48d93c",
        "IPY_MODEL_2d24a8f5bd594fc3a8d31f3474631e19"
       ],
       "layout": "IPY_MODEL_1ea85e14ffbd4a48aa549195fc5171ae"
      }
     },
     "8e4b95ada6b24c6da5ba4de9b630b66d": {
      "model_module": "@jupyter-widgets/base",
      "model_module_version": "2.0.0",
      "model_name": "LayoutModel",
      "state": {}
     },
     "8fead985dfa34cb79a9ef802d118e5bc": {
      "model_module": "@jupyter-widgets/base",
      "model_module_version": "2.0.0",
      "model_name": "LayoutModel",
      "state": {}
     },
     "8ff53f529b73486a9ef4acaf1c15d27f": {
      "model_module": "@jupyter-widgets/controls",
      "model_module_version": "2.0.0",
      "model_name": "VBoxModel",
      "state": {
       "children": [
        "IPY_MODEL_1e377c71b8164868a36e6a22cd9f1980",
        "IPY_MODEL_0d15ad48494c4511b4e2a3593479f44d"
       ],
       "layout": "IPY_MODEL_2a9067f1f71a45dea576b74070e26373"
      }
     },
     "91e96815232c44b5835ed421e1516dca": {
      "model_module": "@jupyter-widgets/base",
      "model_module_version": "2.0.0",
      "model_name": "LayoutModel",
      "state": {}
     },
     "945a36e7a2b34d4f933d295211f919ec": {
      "model_module": "@jupyter-widgets/base",
      "model_module_version": "2.0.0",
      "model_name": "LayoutModel",
      "state": {}
     },
     "95264771ec314fe8ae75a4fc201f81db": {
      "model_module": "@jupyter-widgets/controls",
      "model_module_version": "2.0.0",
      "model_name": "HTMLModel",
      "state": {
       "layout": "IPY_MODEL_4f56193640fa4ba2aad64ba1d62e31f1",
       "style": "IPY_MODEL_f8f81c3b192844218d8f0deddc1a2ade",
       "value": "<p><span style='white-space: pre-wrap; font-weight: bold'>Dataset object containing 5,000 images and 20,607 objects\nName :\n\tcoco\nImages root :\n\tnotebook_data</span></p>"
      }
     },
     "9651979ed60141c0986497af84dfbab6": {
      "model_module": "@jupyter-widgets/controls",
      "model_module_version": "2.0.0",
      "model_name": "HTMLModel",
      "state": {
       "layout": "IPY_MODEL_a766c156b2cf489b8755aecda8252890",
       "style": "IPY_MODEL_cdeae99bee7c45338863518450b71d07",
       "value": "<p><span style='white-space: pre-wrap; font-weight: bold'>Dataset object containing 5,000 images and 18,391 objects\nName :\n\tcoco\nImages root :\n\tnotebook_data</span></p>"
      }
     },
     "9658048ab1c54ee9a7f5c5394a33dc7b": {
      "model_module": "@jupyter-widgets/controls",
      "model_module_version": "2.0.0",
      "model_name": "HTMLStyleModel",
      "state": {
       "description_width": "",
       "font_size": null,
       "text_color": null
      }
     },
     "96b0b9ebdf5d49278fcc636d5fc1bdb3": {
      "model_module": "@jupyter-widgets/output",
      "model_module_version": "1.0.0",
      "model_name": "OutputModel",
      "state": {
       "layout": "IPY_MODEL_f3b91b3242c840a7891a3d9c2f89fb51",
       "outputs": [
        {
         "data": {
          "text/html": "<div>\n<style scoped>\n    .dataframe tbody tr th:only-of-type {\n        vertical-align: middle;\n    }\n\n    .dataframe tbody tr th {\n        vertical-align: top;\n    }\n\n    .dataframe thead th {\n        text-align: right;\n    }\n</style>\n<table border=\"1\" class=\"dataframe\">\n  <thead>\n    <tr style=\"text-align: right;\">\n      <th></th>\n      <th>category string</th>\n    </tr>\n    <tr>\n      <th>category_id</th>\n      <th></th>\n    </tr>\n  </thead>\n  <tbody>\n    <tr>\n      <th>1</th>\n      <td>person</td>\n    </tr>\n    <tr>\n      <th>2</th>\n      <td>bicycle</td>\n    </tr>\n    <tr>\n      <th>3</th>\n      <td>car</td>\n    </tr>\n    <tr>\n      <th>4</th>\n      <td>motorcycle</td>\n    </tr>\n    <tr>\n      <th>5</th>\n      <td>airplane</td>\n    </tr>\n    <tr>\n      <th>...</th>\n      <td>...</td>\n    </tr>\n    <tr>\n      <th>86</th>\n      <td>vase</td>\n    </tr>\n    <tr>\n      <th>87</th>\n      <td>scissors</td>\n    </tr>\n    <tr>\n      <th>88</th>\n      <td>teddy bear</td>\n    </tr>\n    <tr>\n      <th>89</th>\n      <td>hair drier</td>\n    </tr>\n    <tr>\n      <th>90</th>\n      <td>toothbrush</td>\n    </tr>\n  </tbody>\n</table>\n<p>80 rows × 1 columns</p>\n</div>",
          "text/plain": "            category string\ncategory_id                \n1                    person\n2                   bicycle\n3                       car\n4                motorcycle\n5                  airplane\n...                     ...\n86                     vase\n87                 scissors\n88               teddy bear\n89               hair drier\n90               toothbrush\n\n[80 rows x 1 columns]"
         },
         "metadata": {},
         "output_type": "display_data"
        }
       ]
      }
     },
     "97a68d30572c439c91a4a9a633b181ea": {
      "model_module": "@jupyter-widgets/base",
      "model_module_version": "2.0.0",
      "model_name": "LayoutModel",
      "state": {}
     },
     "97bc41e03f3746e697586d5eec134a1d": {
      "model_module": "@jupyter-widgets/base",
      "model_module_version": "2.0.0",
      "model_name": "LayoutModel",
      "state": {}
     },
     "9892b77e263a4a86a7d43102ddf3268f": {
      "model_module": "@jupyter-widgets/base",
      "model_module_version": "2.0.0",
      "model_name": "LayoutModel",
      "state": {}
     },
     "98dc851e52e94d1682bf1c559530db18": {
      "model_module": "@jupyter-widgets/base",
      "model_module_version": "2.0.0",
      "model_name": "LayoutModel",
      "state": {}
     },
     "98e9c540954743faacdc7b8ddea8124a": {
      "model_module": "@jupyter-widgets/controls",
      "model_module_version": "2.0.0",
      "model_name": "HTMLModel",
      "state": {
       "layout": "IPY_MODEL_0950d27d57f14519bb7d47741f951050",
       "style": "IPY_MODEL_612ca0d15721443686599d046a2aae92",
       "value": "<p><span style='white-space: pre-wrap; font-weight: bold'>Dataset object containing 5,000 images and 36,781 objects\nName :\n\tcoco\nImages root :\n\tnotebook_data</span></p>"
      }
     },
     "9ab1868fedf14174836eee31d5aefa66": {
      "model_module": "@jupyter-widgets/controls",
      "model_module_version": "2.0.0",
      "model_name": "HTMLStyleModel",
      "state": {
       "description_width": "",
       "font_size": null,
       "text_color": null
      }
     },
     "9b15214c36064511b4f73ebeb3398915": {
      "model_module": "@jupyter-widgets/base",
      "model_module_version": "2.0.0",
      "model_name": "LayoutModel",
      "state": {}
     },
     "9bd2a2ec87cd4d1cbe44151178f04c26": {
      "model_module": "@jupyter-widgets/output",
      "model_module_version": "1.0.0",
      "model_name": "OutputModel",
      "state": {
       "layout": "IPY_MODEL_b3d6201c37db428ca755b1d1ad26a7a4",
       "outputs": [
        {
         "data": {
          "text/html": "<div>\n<style scoped>\n    .dataframe tbody tr th:only-of-type {\n        vertical-align: middle;\n    }\n\n    .dataframe tbody tr th {\n        vertical-align: top;\n    }\n\n    .dataframe thead th {\n        text-align: right;\n    }\n</style>\n<table border=\"1\" class=\"dataframe\">\n  <thead>\n    <tr style=\"text-align: right;\">\n      <th></th>\n      <th>image_id</th>\n      <th>category_str</th>\n      <th>category_id</th>\n      <th>split</th>\n      <th>box_x_min</th>\n      <th>box_y_min</th>\n      <th>box_width</th>\n      <th>box_height</th>\n      <th>area</th>\n    </tr>\n    <tr>\n      <th>id</th>\n      <th></th>\n      <th></th>\n      <th></th>\n      <th></th>\n      <th></th>\n      <th></th>\n      <th></th>\n      <th></th>\n      <th></th>\n    </tr>\n  </thead>\n  <tbody>\n    <tr>\n      <th>0</th>\n      <td>4999</td>\n      <td>refrigerator</td>\n      <td>82</td>\n      <td>valid</td>\n      <td>66.00</td>\n      <td>94.87</td>\n      <td>71.25</td>\n      <td>194.26</td>\n      <td>12029.44125</td>\n    </tr>\n    <tr>\n      <th>1</th>\n      <td>1</td>\n      <td>person</td>\n      <td>1</td>\n      <td>valid</td>\n      <td>112.43</td>\n      <td>195.32</td>\n      <td>214.78</td>\n      <td>438.19</td>\n      <td>48685.67910</td>\n    </tr>\n    <tr>\n      <th>2</th>\n      <td>1</td>\n      <td>person</td>\n      <td>1</td>\n      <td>valid</td>\n      <td>0.00</td>\n      <td>256.00</td>\n      <td>80.54</td>\n      <td>376.81</td>\n      <td>22650.73800</td>\n    </tr>\n    <tr>\n      <th>3</th>\n      <td>1</td>\n      <td>frisbee</td>\n      <td>34</td>\n      <td>valid</td>\n      <td>171.63</td>\n      <td>424.03</td>\n      <td>85.89</td>\n      <td>40.67</td>\n      <td>2605.72090</td>\n    </tr>\n    <tr>\n      <th>4</th>\n      <td>2</td>\n      <td>zebra</td>\n      <td>24</td>\n      <td>valid</td>\n      <td>260.99</td>\n      <td>158.88</td>\n      <td>141.52</td>\n      <td>194.11</td>\n      <td>9978.94125</td>\n    </tr>\n    <tr>\n      <th>...</th>\n      <td>...</td>\n      <td>...</td>\n      <td>...</td>\n      <td>...</td>\n      <td>...</td>\n      <td>...</td>\n      <td>...</td>\n      <td>...</td>\n      <td>...</td>\n    </tr>\n    <tr>\n      <th>36776</th>\n      <td>4999</td>\n      <td>refrigerator</td>\n      <td>82</td>\n      <td>valid</td>\n      <td>14.97</td>\n      <td>104.02</td>\n      <td>62.11</td>\n      <td>166.12</td>\n      <td>8470.60700</td>\n    </tr>\n    <tr>\n      <th>36777</th>\n      <td>4999</td>\n      <td>refrigerator</td>\n      <td>82</td>\n      <td>valid</td>\n      <td>138.00</td>\n      <td>62.63</td>\n      <td>98.25</td>\n      <td>252.00</td>\n      <td>23037.46875</td>\n    </tr>\n    <tr>\n      <th>36778</th>\n      <td>4999</td>\n      <td>refrigerator</td>\n      <td>82</td>\n      <td>valid</td>\n      <td>234.44</td>\n      <td>29.87</td>\n      <td>113.49</td>\n      <td>298.65</td>\n      <td>30406.51295</td>\n    </tr>\n    <tr>\n      <th>36779</th>\n      <td>4999</td>\n      <td>refrigerator</td>\n      <td>82</td>\n      <td>valid</td>\n      <td>335.04</td>\n      <td>10.48</td>\n      <td>125.17</td>\n      <td>318.78</td>\n      <td>37187.97840</td>\n    </tr>\n    <tr>\n      <th>36780</th>\n      <td>4999</td>\n      <td>refrigerator</td>\n      <td>82</td>\n      <td>valid</td>\n      <td>460.39</td>\n      <td>0.00</td>\n      <td>39.61</td>\n      <td>328.64</td>\n      <td>12492.52165</td>\n    </tr>\n  </tbody>\n</table>\n<p>36781 rows × 9 columns</p>\n</div>",
          "text/plain": "       image_id  category_str  category_id  split  box_x_min  box_y_min  \\\nid                                                                        \n0          4999  refrigerator           82  valid      66.00      94.87   \n1             1        person            1  valid     112.43     195.32   \n2             1        person            1  valid       0.00     256.00   \n3             1       frisbee           34  valid     171.63     424.03   \n4             2         zebra           24  valid     260.99     158.88   \n...         ...           ...          ...    ...        ...        ...   \n36776      4999  refrigerator           82  valid      14.97     104.02   \n36777      4999  refrigerator           82  valid     138.00      62.63   \n36778      4999  refrigerator           82  valid     234.44      29.87   \n36779      4999  refrigerator           82  valid     335.04      10.48   \n36780      4999  refrigerator           82  valid     460.39       0.00   \n\n       box_width  box_height         area  \nid                                         \n0          71.25      194.26  12029.44125  \n1         214.78      438.19  48685.67910  \n2          80.54      376.81  22650.73800  \n3          85.89       40.67   2605.72090  \n4         141.52      194.11   9978.94125  \n...          ...         ...          ...  \n36776      62.11      166.12   8470.60700  \n36777      98.25      252.00  23037.46875  \n36778     113.49      298.65  30406.51295  \n36779     125.17      318.78  37187.97840  \n36780      39.61      328.64  12492.52165  \n\n[36781 rows x 9 columns]"
         },
         "metadata": {},
         "output_type": "display_data"
        }
       ]
      }
     },
     "9beaa6e96d8c404f80fdd3c9ddcfb569": {
      "model_module": "@jupyter-widgets/output",
      "model_module_version": "1.0.0",
      "model_name": "OutputModel",
      "state": {
       "layout": "IPY_MODEL_3b12a2ff1760404eb9d0f402e98dcd25",
       "outputs": [
        {
         "data": {
          "text/html": "<div>\n<style scoped>\n    .dataframe tbody tr th:only-of-type {\n        vertical-align: middle;\n    }\n\n    .dataframe tbody tr th {\n        vertical-align: top;\n    }\n\n    .dataframe thead th {\n        text-align: right;\n    }\n</style>\n<table border=\"1\" class=\"dataframe\">\n  <thead>\n    <tr style=\"text-align: right;\">\n      <th></th>\n      <th>image_id</th>\n      <th>category_str</th>\n      <th>category_id</th>\n      <th>split</th>\n      <th>box_x_min</th>\n      <th>box_y_min</th>\n      <th>box_width</th>\n      <th>box_height</th>\n      <th>area</th>\n    </tr>\n    <tr>\n      <th>id</th>\n      <th></th>\n      <th></th>\n      <th></th>\n      <th></th>\n      <th></th>\n      <th></th>\n      <th></th>\n      <th></th>\n      <th></th>\n    </tr>\n  </thead>\n  <tbody>\n    <tr>\n      <th>460450</th>\n      <td>352582</td>\n      <td>person</td>\n      <td>1</td>\n      <td>valid</td>\n      <td>112.43</td>\n      <td>195.32</td>\n      <td>214.78</td>\n      <td>438.19</td>\n      <td>48685.67910</td>\n    </tr>\n    <tr>\n      <th>535917</th>\n      <td>352582</td>\n      <td>person</td>\n      <td>1</td>\n      <td>valid</td>\n      <td>0.00</td>\n      <td>256.00</td>\n      <td>80.54</td>\n      <td>376.81</td>\n      <td>22650.73800</td>\n    </tr>\n    <tr>\n      <th>602093</th>\n      <td>352582</td>\n      <td>frisbee</td>\n      <td>34</td>\n      <td>valid</td>\n      <td>171.63</td>\n      <td>424.03</td>\n      <td>85.89</td>\n      <td>40.67</td>\n      <td>2605.72090</td>\n    </tr>\n    <tr>\n      <th>467905</th>\n      <td>58393</td>\n      <td>person</td>\n      <td>1</td>\n      <td>valid</td>\n      <td>342.52</td>\n      <td>163.33</td>\n      <td>192.24</td>\n      <td>77.47</td>\n      <td>5408.64720</td>\n    </tr>\n    <tr>\n      <th>576900</th>\n      <td>58393</td>\n      <td>bench</td>\n      <td>15</td>\n      <td>valid</td>\n      <td>44.78</td>\n      <td>242.27</td>\n      <td>547.16</td>\n      <td>224.98</td>\n      <td>82291.54995</td>\n    </tr>\n    <tr>\n      <th>...</th>\n      <td>...</td>\n      <td>...</td>\n      <td>...</td>\n      <td>...</td>\n      <td>...</td>\n      <td>...</td>\n      <td>...</td>\n      <td>...</td>\n      <td>...</td>\n    </tr>\n    <tr>\n      <th>109094</th>\n      <td>428280</td>\n      <td>chair</td>\n      <td>62</td>\n      <td>valid</td>\n      <td>187.71</td>\n      <td>114.80</td>\n      <td>44.07</td>\n      <td>66.41</td>\n      <td>2069.93800</td>\n    </tr>\n    <tr>\n      <th>578099</th>\n      <td>428280</td>\n      <td>bench</td>\n      <td>15</td>\n      <td>valid</td>\n      <td>0.75</td>\n      <td>184.42</td>\n      <td>181.43</td>\n      <td>132.90</td>\n      <td>13841.81490</td>\n    </tr>\n    <tr>\n      <th>1101888</th>\n      <td>428280</td>\n      <td>laptop</td>\n      <td>73</td>\n      <td>valid</td>\n      <td>118.71</td>\n      <td>138.34</td>\n      <td>44.79</td>\n      <td>35.83</td>\n      <td>1405.98065</td>\n    </tr>\n    <tr>\n      <th>1117514</th>\n      <td>428280</td>\n      <td>keyboard</td>\n      <td>76</td>\n      <td>valid</td>\n      <td>121.04</td>\n      <td>165.65</td>\n      <td>40.27</td>\n      <td>6.02</td>\n      <td>217.08440</td>\n    </tr>\n    <tr>\n      <th>2190513</th>\n      <td>428280</td>\n      <td>chair</td>\n      <td>62</td>\n      <td>valid</td>\n      <td>203.58</td>\n      <td>179.65</td>\n      <td>105.27</td>\n      <td>139.55</td>\n      <td>7696.12525</td>\n    </tr>\n  </tbody>\n</table>\n<p>18670 rows × 9 columns</p>\n</div>",
          "text/plain": "         image_id category_str  category_id  split  box_x_min  box_y_min  \\\nid                                                                         \n460450     352582       person            1  valid     112.43     195.32   \n535917     352582       person            1  valid       0.00     256.00   \n602093     352582      frisbee           34  valid     171.63     424.03   \n467905      58393       person            1  valid     342.52     163.33   \n576900      58393        bench           15  valid      44.78     242.27   \n...           ...          ...          ...    ...        ...        ...   \n109094     428280        chair           62  valid     187.71     114.80   \n578099     428280        bench           15  valid       0.75     184.42   \n1101888    428280       laptop           73  valid     118.71     138.34   \n1117514    428280     keyboard           76  valid     121.04     165.65   \n2190513    428280        chair           62  valid     203.58     179.65   \n\n         box_width  box_height         area  \nid                                           \n460450      214.78      438.19  48685.67910  \n535917       80.54      376.81  22650.73800  \n602093       85.89       40.67   2605.72090  \n467905      192.24       77.47   5408.64720  \n576900      547.16      224.98  82291.54995  \n...            ...         ...          ...  \n109094       44.07       66.41   2069.93800  \n578099      181.43      132.90  13841.81490  \n1101888      44.79       35.83   1405.98065  \n1117514      40.27        6.02    217.08440  \n2190513     105.27      139.55   7696.12525  \n\n[18670 rows x 9 columns]"
         },
         "metadata": {},
         "output_type": "display_data"
        }
       ]
      }
     },
     "9c276f07f9a94174b46eb4a8e4ef66e8": {
      "model_module": "@jupyter-widgets/controls",
      "model_module_version": "2.0.0",
      "model_name": "VBoxModel",
      "state": {
       "children": [
        "IPY_MODEL_9651979ed60141c0986497af84dfbab6",
        "IPY_MODEL_ecd7d7225e2840839e4dd5c06d2928ac"
       ],
       "layout": "IPY_MODEL_8c0b90b9d1204688990ab6844197f69e"
      }
     },
     "9c627853f4364595b494460cc3f26a45": {
      "model_module": "@jupyter-widgets/base",
      "model_module_version": "2.0.0",
      "model_name": "LayoutModel",
      "state": {}
     },
     "9cee0d099ede47c38f043758df377b04": {
      "model_module": "@jupyter-widgets/controls",
      "model_module_version": "2.0.0",
      "model_name": "VBoxModel",
      "state": {
       "children": [
        "IPY_MODEL_a1a934c35f1744738ff877238831cf4a",
        "IPY_MODEL_65527049e5a7455e9598477f43a0cfd2"
       ],
       "layout": "IPY_MODEL_648ed8ee168c4e6a839ca4bbebcab214"
      }
     },
     "9d15ec8503094cc2b2668aaeacb22cb8": {
      "model_module": "@jupyter-widgets/base",
      "model_module_version": "2.0.0",
      "model_name": "LayoutModel",
      "state": {}
     },
     "9d1b24a324584fc58c0802d2c2705993": {
      "model_module": "@jupyter-widgets/base",
      "model_module_version": "2.0.0",
      "model_name": "LayoutModel",
      "state": {}
     },
     "9e5e24ac2e3c472fa147368ac95fe73b": {
      "model_module": "@jupyter-widgets/base",
      "model_module_version": "2.0.0",
      "model_name": "LayoutModel",
      "state": {}
     },
     "9f7b0de8a9b044f0a71fb2f1470c8821": {
      "model_module": "@jupyter-widgets/output",
      "model_module_version": "1.0.0",
      "model_name": "OutputModel",
      "state": {
       "layout": "IPY_MODEL_d9c58b82617642ef812454748838b5f1",
       "outputs": [
        {
         "data": {
          "text/html": "<div>\n<style scoped>\n    .dataframe tbody tr th:only-of-type {\n        vertical-align: middle;\n    }\n\n    .dataframe tbody tr th {\n        vertical-align: top;\n    }\n\n    .dataframe thead th {\n        text-align: right;\n    }\n</style>\n<table border=\"1\" class=\"dataframe\">\n  <thead>\n    <tr style=\"text-align: right;\">\n      <th></th>\n      <th>width</th>\n      <th>height</th>\n      <th>relative_path</th>\n      <th>type</th>\n      <th>split</th>\n    </tr>\n    <tr>\n      <th>id</th>\n      <th></th>\n      <th></th>\n      <th></th>\n      <th></th>\n      <th></th>\n    </tr>\n  </thead>\n  <tbody>\n    <tr>\n      <th>352582</th>\n      <td>425</td>\n      <td>640</td>\n      <td>Images/valid/000000352582.jpg</td>\n      <td>.jpg</td>\n      <td>valid</td>\n    </tr>\n    <tr>\n      <th>113354</th>\n      <td>640</td>\n      <td>480</td>\n      <td>Images/valid/000000113354.jpg</td>\n      <td>.jpg</td>\n      <td>valid</td>\n    </tr>\n    <tr>\n      <th>58393</th>\n      <td>640</td>\n      <td>486</td>\n      <td>Images/valid/000000058393.jpg</td>\n      <td>.jpg</td>\n      <td>valid</td>\n    </tr>\n    <tr>\n      <th>147729</th>\n      <td>500</td>\n      <td>375</td>\n      <td>Images/valid/000000147729.jpg</td>\n      <td>.jpg</td>\n      <td>valid</td>\n    </tr>\n    <tr>\n      <th>310072</th>\n      <td>640</td>\n      <td>383</td>\n      <td>Images/valid/000000310072.jpg</td>\n      <td>.jpg</td>\n      <td>valid</td>\n    </tr>\n    <tr>\n      <th>...</th>\n      <td>...</td>\n      <td>...</td>\n      <td>...</td>\n      <td>...</td>\n      <td>...</td>\n    </tr>\n    <tr>\n      <th>311180</th>\n      <td>480</td>\n      <td>640</td>\n      <td>Images/valid/000000311180.jpg</td>\n      <td>.jpg</td>\n      <td>valid</td>\n    </tr>\n    <tr>\n      <th>302030</th>\n      <td>640</td>\n      <td>359</td>\n      <td>Images/valid/000000302030.jpg</td>\n      <td>.jpg</td>\n      <td>valid</td>\n    </tr>\n    <tr>\n      <th>105455</th>\n      <td>427</td>\n      <td>640</td>\n      <td>Images/valid/000000105455.jpg</td>\n      <td>.jpg</td>\n      <td>valid</td>\n    </tr>\n    <tr>\n      <th>428280</th>\n      <td>500</td>\n      <td>333</td>\n      <td>Images/valid/000000428280.jpg</td>\n      <td>.jpg</td>\n      <td>valid</td>\n    </tr>\n    <tr>\n      <th>349837</th>\n      <td>500</td>\n      <td>333</td>\n      <td>Images/valid/000000349837.jpg</td>\n      <td>.jpg</td>\n      <td>valid</td>\n    </tr>\n  </tbody>\n</table>\n<p>5000 rows × 5 columns</p>\n</div>",
          "text/plain": "        width  height                  relative_path  type  split\nid                                                               \n352582    425     640  Images/valid/000000352582.jpg  .jpg  valid\n113354    640     480  Images/valid/000000113354.jpg  .jpg  valid\n58393     640     486  Images/valid/000000058393.jpg  .jpg  valid\n147729    500     375  Images/valid/000000147729.jpg  .jpg  valid\n310072    640     383  Images/valid/000000310072.jpg  .jpg  valid\n...       ...     ...                            ...   ...    ...\n311180    480     640  Images/valid/000000311180.jpg  .jpg  valid\n302030    640     359  Images/valid/000000302030.jpg  .jpg  valid\n105455    427     640  Images/valid/000000105455.jpg  .jpg  valid\n428280    500     333  Images/valid/000000428280.jpg  .jpg  valid\n349837    500     333  Images/valid/000000349837.jpg  .jpg  valid\n\n[5000 rows x 5 columns]"
         },
         "metadata": {},
         "output_type": "display_data"
        }
       ]
      }
     },
     "9fe2579380ec4ab2afa63f5f450a27b6": {
      "model_module": "@jupyter-widgets/output",
      "model_module_version": "1.0.0",
      "model_name": "OutputModel",
      "state": {
       "layout": "IPY_MODEL_301211805d4c40f580e4d61f9e359404",
       "outputs": [
        {
         "data": {
          "text/html": "<div>\n<style scoped>\n    .dataframe tbody tr th:only-of-type {\n        vertical-align: middle;\n    }\n\n    .dataframe tbody tr th {\n        vertical-align: top;\n    }\n\n    .dataframe thead th {\n        text-align: right;\n    }\n</style>\n<table border=\"1\" class=\"dataframe\">\n  <thead>\n    <tr style=\"text-align: right;\">\n      <th></th>\n      <th>width</th>\n      <th>height</th>\n      <th>relative_path</th>\n      <th>type</th>\n      <th>split</th>\n    </tr>\n    <tr>\n      <th>id</th>\n      <th></th>\n      <th></th>\n      <th></th>\n      <th></th>\n      <th></th>\n    </tr>\n  </thead>\n  <tbody>\n    <tr>\n      <th>352582</th>\n      <td>425</td>\n      <td>640</td>\n      <td>Images/valid/000000352582.jpg</td>\n      <td>.jpg</td>\n      <td>valid</td>\n    </tr>\n    <tr>\n      <th>113354</th>\n      <td>640</td>\n      <td>480</td>\n      <td>Images/valid/000000113354.jpg</td>\n      <td>.jpg</td>\n      <td>valid</td>\n    </tr>\n    <tr>\n      <th>58393</th>\n      <td>640</td>\n      <td>486</td>\n      <td>Images/valid/000000058393.jpg</td>\n      <td>.jpg</td>\n      <td>valid</td>\n    </tr>\n    <tr>\n      <th>147729</th>\n      <td>500</td>\n      <td>375</td>\n      <td>Images/valid/000000147729.jpg</td>\n      <td>.jpg</td>\n      <td>valid</td>\n    </tr>\n    <tr>\n      <th>310072</th>\n      <td>640</td>\n      <td>383</td>\n      <td>Images/valid/000000310072.jpg</td>\n      <td>.jpg</td>\n      <td>valid</td>\n    </tr>\n    <tr>\n      <th>...</th>\n      <td>...</td>\n      <td>...</td>\n      <td>...</td>\n      <td>...</td>\n      <td>...</td>\n    </tr>\n    <tr>\n      <th>311180</th>\n      <td>480</td>\n      <td>640</td>\n      <td>Images/valid/000000311180.jpg</td>\n      <td>.jpg</td>\n      <td>valid</td>\n    </tr>\n    <tr>\n      <th>302030</th>\n      <td>640</td>\n      <td>359</td>\n      <td>Images/valid/000000302030.jpg</td>\n      <td>.jpg</td>\n      <td>valid</td>\n    </tr>\n    <tr>\n      <th>105455</th>\n      <td>427</td>\n      <td>640</td>\n      <td>Images/valid/000000105455.jpg</td>\n      <td>.jpg</td>\n      <td>valid</td>\n    </tr>\n    <tr>\n      <th>428280</th>\n      <td>500</td>\n      <td>333</td>\n      <td>Images/valid/000000428280.jpg</td>\n      <td>.jpg</td>\n      <td>valid</td>\n    </tr>\n    <tr>\n      <th>349837</th>\n      <td>500</td>\n      <td>333</td>\n      <td>Images/valid/000000349837.jpg</td>\n      <td>.jpg</td>\n      <td>valid</td>\n    </tr>\n  </tbody>\n</table>\n<p>5000 rows × 5 columns</p>\n</div>",
          "text/plain": "        width  height                  relative_path  type  split\nid                                                               \n352582    425     640  Images/valid/000000352582.jpg  .jpg  valid\n113354    640     480  Images/valid/000000113354.jpg  .jpg  valid\n58393     640     486  Images/valid/000000058393.jpg  .jpg  valid\n147729    500     375  Images/valid/000000147729.jpg  .jpg  valid\n310072    640     383  Images/valid/000000310072.jpg  .jpg  valid\n...       ...     ...                            ...   ...    ...\n311180    480     640  Images/valid/000000311180.jpg  .jpg  valid\n302030    640     359  Images/valid/000000302030.jpg  .jpg  valid\n105455    427     640  Images/valid/000000105455.jpg  .jpg  valid\n428280    500     333  Images/valid/000000428280.jpg  .jpg  valid\n349837    500     333  Images/valid/000000349837.jpg  .jpg  valid\n\n[5000 rows x 5 columns]"
         },
         "metadata": {},
         "output_type": "display_data"
        }
       ]
      }
     },
     "a0530d16806447fb887a285e3298f421": {
      "model_module": "@jupyter-widgets/base",
      "model_module_version": "2.0.0",
      "model_name": "LayoutModel",
      "state": {}
     },
     "a1a934c35f1744738ff877238831cf4a": {
      "model_module": "@jupyter-widgets/controls",
      "model_module_version": "2.0.0",
      "model_name": "HTMLModel",
      "state": {
       "layout": "IPY_MODEL_7ec48b24760846c183e6c0f90a972c7c",
       "style": "IPY_MODEL_31c5d5f134534aa2b95fe24095c20404",
       "value": "<p><span style='white-space: pre-wrap; font-weight: bold'>Dataset object containing 5,000 images and 36,781 objects\nName :\n\tcoco\nImages root :\n\tnotebook_data</span></p>"
      }
     },
     "a280778b18634b7dbfefbd13f3430577": {
      "model_module": "@jupyter-widgets/controls",
      "model_module_version": "2.0.0",
      "model_name": "HTMLStyleModel",
      "state": {
       "description_width": "",
       "font_size": null,
       "text_color": null
      }
     },
     "a31aecdc64ab40a5ba5b7779bcf4a93b": {
      "model_module": "@jupyter-widgets/base",
      "model_module_version": "2.0.0",
      "model_name": "LayoutModel",
      "state": {}
     },
     "a3ccb2ad017443f2b271f9140538e20a": {
      "model_module": "@jupyter-widgets/base",
      "model_module_version": "2.0.0",
      "model_name": "LayoutModel",
      "state": {}
     },
     "a766c156b2cf489b8755aecda8252890": {
      "model_module": "@jupyter-widgets/base",
      "model_module_version": "2.0.0",
      "model_name": "LayoutModel",
      "state": {}
     },
     "a76843a616534c5a84fda9a53ae68fc7": {
      "model_module": "@jupyter-widgets/output",
      "model_module_version": "1.0.0",
      "model_name": "OutputModel",
      "state": {
       "layout": "IPY_MODEL_f2276d30d3b548dbbec09aca7a954f7b",
       "outputs": [
        {
         "data": {
          "text/html": "<div>\n<style scoped>\n    .dataframe tbody tr th:only-of-type {\n        vertical-align: middle;\n    }\n\n    .dataframe tbody tr th {\n        vertical-align: top;\n    }\n\n    .dataframe thead th {\n        text-align: right;\n    }\n</style>\n<table border=\"1\" class=\"dataframe\">\n  <thead>\n    <tr style=\"text-align: right;\">\n      <th></th>\n      <th>image_id</th>\n      <th>category_str</th>\n      <th>category_id</th>\n      <th>split</th>\n      <th>box_x_min</th>\n      <th>box_y_min</th>\n      <th>box_width</th>\n      <th>box_height</th>\n      <th>area</th>\n    </tr>\n    <tr>\n      <th>id</th>\n      <th></th>\n      <th></th>\n      <th></th>\n      <th></th>\n      <th></th>\n      <th></th>\n      <th></th>\n      <th></th>\n      <th></th>\n    </tr>\n  </thead>\n  <tbody>\n    <tr>\n      <th>460450</th>\n      <td>352582</td>\n      <td>object</td>\n      <td>3</td>\n      <td>valid</td>\n      <td>112.43</td>\n      <td>195.32</td>\n      <td>214.78</td>\n      <td>438.19</td>\n      <td>48685.67910</td>\n    </tr>\n    <tr>\n      <th>535917</th>\n      <td>352582</td>\n      <td>object</td>\n      <td>3</td>\n      <td>valid</td>\n      <td>0.00</td>\n      <td>256.00</td>\n      <td>80.54</td>\n      <td>376.81</td>\n      <td>22650.73800</td>\n    </tr>\n    <tr>\n      <th>467905</th>\n      <td>58393</td>\n      <td>object</td>\n      <td>3</td>\n      <td>valid</td>\n      <td>342.52</td>\n      <td>163.33</td>\n      <td>192.24</td>\n      <td>77.47</td>\n      <td>5408.64720</td>\n    </tr>\n    <tr>\n      <th>1710990</th>\n      <td>58393</td>\n      <td>object</td>\n      <td>3</td>\n      <td>valid</td>\n      <td>418.99</td>\n      <td>182.65</td>\n      <td>61.12</td>\n      <td>45.00</td>\n      <td>1792.80770</td>\n    </tr>\n    <tr>\n      <th>1238519</th>\n      <td>147729</td>\n      <td>object</td>\n      <td>3</td>\n      <td>valid</td>\n      <td>0.00</td>\n      <td>87.01</td>\n      <td>310.67</td>\n      <td>287.99</td>\n      <td>55847.52705</td>\n    </tr>\n    <tr>\n      <th>...</th>\n      <td>...</td>\n      <td>...</td>\n      <td>...</td>\n      <td>...</td>\n      <td>...</td>\n      <td>...</td>\n      <td>...</td>\n      <td>...</td>\n      <td>...</td>\n    </tr>\n    <tr>\n      <th>1192747</th>\n      <td>105455</td>\n      <td>vehicle</td>\n      <td>2</td>\n      <td>valid</td>\n      <td>333.56</td>\n      <td>517.21</td>\n      <td>17.43</td>\n      <td>14.58</td>\n      <td>182.21680</td>\n    </tr>\n    <tr>\n      <th>108177</th>\n      <td>428280</td>\n      <td>object</td>\n      <td>3</td>\n      <td>valid</td>\n      <td>3.58</td>\n      <td>189.14</td>\n      <td>176.88</td>\n      <td>125.32</td>\n      <td>9942.25095</td>\n    </tr>\n    <tr>\n      <th>108343</th>\n      <td>428280</td>\n      <td>object</td>\n      <td>3</td>\n      <td>valid</td>\n      <td>244.05</td>\n      <td>152.29</td>\n      <td>68.51</td>\n      <td>34.49</td>\n      <td>1457.96785</td>\n    </tr>\n    <tr>\n      <th>109094</th>\n      <td>428280</td>\n      <td>object</td>\n      <td>3</td>\n      <td>valid</td>\n      <td>187.71</td>\n      <td>114.80</td>\n      <td>44.07</td>\n      <td>66.41</td>\n      <td>2069.93800</td>\n    </tr>\n    <tr>\n      <th>2190513</th>\n      <td>428280</td>\n      <td>object</td>\n      <td>3</td>\n      <td>valid</td>\n      <td>203.58</td>\n      <td>179.65</td>\n      <td>105.27</td>\n      <td>139.55</td>\n      <td>7696.12525</td>\n    </tr>\n  </tbody>\n</table>\n<p>20607 rows × 9 columns</p>\n</div>",
          "text/plain": "         image_id category_str  category_id  split  box_x_min  box_y_min  \\\nid                                                                         \n460450     352582       object            3  valid     112.43     195.32   \n535917     352582       object            3  valid       0.00     256.00   \n467905      58393       object            3  valid     342.52     163.33   \n1710990     58393       object            3  valid     418.99     182.65   \n1238519    147729       object            3  valid       0.00      87.01   \n...           ...          ...          ...    ...        ...        ...   \n1192747    105455      vehicle            2  valid     333.56     517.21   \n108177     428280       object            3  valid       3.58     189.14   \n108343     428280       object            3  valid     244.05     152.29   \n109094     428280       object            3  valid     187.71     114.80   \n2190513    428280       object            3  valid     203.58     179.65   \n\n         box_width  box_height         area  \nid                                           \n460450      214.78      438.19  48685.67910  \n535917       80.54      376.81  22650.73800  \n467905      192.24       77.47   5408.64720  \n1710990      61.12       45.00   1792.80770  \n1238519     310.67      287.99  55847.52705  \n...            ...         ...          ...  \n1192747      17.43       14.58    182.21680  \n108177      176.88      125.32   9942.25095  \n108343       68.51       34.49   1457.96785  \n109094       44.07       66.41   2069.93800  \n2190513     105.27      139.55   7696.12525  \n\n[20607 rows x 9 columns]"
         },
         "metadata": {},
         "output_type": "display_data"
        }
       ]
      }
     },
     "a799764dd9924208b78132c873ae60c0": {
      "model_module": "@jupyter-widgets/output",
      "model_module_version": "1.0.0",
      "model_name": "OutputModel",
      "state": {
       "layout": "IPY_MODEL_5bd0b17b9d4e4008939ba492c6a5377a",
       "outputs": [
        {
         "data": {
          "text/html": "<div>\n<style scoped>\n    .dataframe tbody tr th:only-of-type {\n        vertical-align: middle;\n    }\n\n    .dataframe tbody tr th {\n        vertical-align: top;\n    }\n\n    .dataframe thead th {\n        text-align: right;\n    }\n</style>\n<table border=\"1\" class=\"dataframe\">\n  <thead>\n    <tr style=\"text-align: right;\">\n      <th></th>\n      <th>category string</th>\n    </tr>\n    <tr>\n      <th>category_id</th>\n      <th></th>\n    </tr>\n  </thead>\n  <tbody>\n    <tr>\n      <th>1</th>\n      <td>person</td>\n    </tr>\n    <tr>\n      <th>2</th>\n      <td>bicycle</td>\n    </tr>\n    <tr>\n      <th>3</th>\n      <td>car</td>\n    </tr>\n    <tr>\n      <th>4</th>\n      <td>motorcycle</td>\n    </tr>\n    <tr>\n      <th>5</th>\n      <td>airplane</td>\n    </tr>\n    <tr>\n      <th>...</th>\n      <td>...</td>\n    </tr>\n    <tr>\n      <th>86</th>\n      <td>vase</td>\n    </tr>\n    <tr>\n      <th>87</th>\n      <td>scissors</td>\n    </tr>\n    <tr>\n      <th>88</th>\n      <td>teddy bear</td>\n    </tr>\n    <tr>\n      <th>89</th>\n      <td>hair drier</td>\n    </tr>\n    <tr>\n      <th>90</th>\n      <td>toothbrush</td>\n    </tr>\n  </tbody>\n</table>\n<p>80 rows × 1 columns</p>\n</div>",
          "text/plain": "            category string\ncategory_id                \n1                    person\n2                   bicycle\n3                       car\n4                motorcycle\n5                  airplane\n...                     ...\n86                     vase\n87                 scissors\n88               teddy bear\n89               hair drier\n90               toothbrush\n\n[80 rows x 1 columns]"
         },
         "metadata": {},
         "output_type": "display_data"
        }
       ]
      }
     },
     "a92f13c01f914b8496025488730f1f55": {
      "model_module": "@jupyter-widgets/output",
      "model_module_version": "1.0.0",
      "model_name": "OutputModel",
      "state": {
       "layout": "IPY_MODEL_d9b40f57cb824239b65cd0e1c09fc5c6",
       "outputs": [
        {
         "data": {
          "text/html": "<div>\n<style scoped>\n    .dataframe tbody tr th:only-of-type {\n        vertical-align: middle;\n    }\n\n    .dataframe tbody tr th {\n        vertical-align: top;\n    }\n\n    .dataframe thead th {\n        text-align: right;\n    }\n</style>\n<table border=\"1\" class=\"dataframe\">\n  <thead>\n    <tr style=\"text-align: right;\">\n      <th></th>\n      <th>category string</th>\n    </tr>\n    <tr>\n      <th>category_id</th>\n      <th></th>\n    </tr>\n  </thead>\n  <tbody>\n    <tr>\n      <th>1</th>\n      <td>Animal</td>\n    </tr>\n    <tr>\n      <th>2</th>\n      <td>Vehicle</td>\n    </tr>\n    <tr>\n      <th>3</th>\n      <td>Object</td>\n    </tr>\n  </tbody>\n</table>\n</div>",
          "text/plain": "            category string\ncategory_id                \n1                    Animal\n2                   Vehicle\n3                    Object"
         },
         "metadata": {},
         "output_type": "display_data"
        }
       ]
      }
     },
     "a9f2687fd4be4fb5b68c5c24c5dcca30": {
      "model_module": "@jupyter-widgets/controls",
      "model_module_version": "2.0.0",
      "model_name": "VBoxModel",
      "state": {
       "children": [
        "IPY_MODEL_95264771ec314fe8ae75a4fc201f81db",
        "IPY_MODEL_bb79da4e6a5746d8b82f1ea4709f1076"
       ],
       "layout": "IPY_MODEL_2cf5d9a88c3247949c850946da75ea68"
      }
     },
     "aab9806ceeab454f9401385c09ef3e1a": {
      "model_module": "@jupyter-widgets/output",
      "model_module_version": "1.0.0",
      "model_name": "OutputModel",
      "state": {
       "layout": "IPY_MODEL_eb29c47be0b14b9dbbeebf180e3c7c02",
       "outputs": [
        {
         "data": {
          "text/html": "<div>\n<style scoped>\n    .dataframe tbody tr th:only-of-type {\n        vertical-align: middle;\n    }\n\n    .dataframe tbody tr th {\n        vertical-align: top;\n    }\n\n    .dataframe thead th {\n        text-align: right;\n    }\n</style>\n<table border=\"1\" class=\"dataframe\">\n  <thead>\n    <tr style=\"text-align: right;\">\n      <th></th>\n      <th>width</th>\n      <th>height</th>\n      <th>relative_path</th>\n      <th>type</th>\n      <th>split</th>\n    </tr>\n    <tr>\n      <th>id</th>\n      <th></th>\n      <th></th>\n      <th></th>\n      <th></th>\n      <th></th>\n    </tr>\n  </thead>\n  <tbody>\n    <tr>\n      <th>0</th>\n      <td>640</td>\n      <td>486</td>\n      <td>Images/valid/000000058393.jpg</td>\n      <td>.jpg</td>\n      <td>valid</td>\n    </tr>\n    <tr>\n      <th>1</th>\n      <td>425</td>\n      <td>640</td>\n      <td>Images/valid/000000352582.jpg</td>\n      <td>.jpg</td>\n      <td>valid</td>\n    </tr>\n    <tr>\n      <th>2</th>\n      <td>640</td>\n      <td>480</td>\n      <td>Images/valid/000000113354.jpg</td>\n      <td>.jpg</td>\n      <td>valid</td>\n    </tr>\n    <tr>\n      <th>3</th>\n      <td>500</td>\n      <td>375</td>\n      <td>Images/valid/000000147729.jpg</td>\n      <td>.jpg</td>\n      <td>valid</td>\n    </tr>\n    <tr>\n      <th>4</th>\n      <td>640</td>\n      <td>383</td>\n      <td>Images/valid/000000310072.jpg</td>\n      <td>.jpg</td>\n      <td>valid</td>\n    </tr>\n    <tr>\n      <th>...</th>\n      <td>...</td>\n      <td>...</td>\n      <td>...</td>\n      <td>...</td>\n      <td>...</td>\n    </tr>\n    <tr>\n      <th>4995</th>\n      <td>480</td>\n      <td>640</td>\n      <td>Images/valid/000000311180.jpg</td>\n      <td>.jpg</td>\n      <td>valid</td>\n    </tr>\n    <tr>\n      <th>4996</th>\n      <td>640</td>\n      <td>359</td>\n      <td>Images/valid/000000302030.jpg</td>\n      <td>.jpg</td>\n      <td>valid</td>\n    </tr>\n    <tr>\n      <th>4997</th>\n      <td>427</td>\n      <td>640</td>\n      <td>Images/valid/000000105455.jpg</td>\n      <td>.jpg</td>\n      <td>valid</td>\n    </tr>\n    <tr>\n      <th>4998</th>\n      <td>500</td>\n      <td>333</td>\n      <td>Images/valid/000000428280.jpg</td>\n      <td>.jpg</td>\n      <td>valid</td>\n    </tr>\n    <tr>\n      <th>4999</th>\n      <td>500</td>\n      <td>333</td>\n      <td>Images/valid/000000349837.jpg</td>\n      <td>.jpg</td>\n      <td>valid</td>\n    </tr>\n  </tbody>\n</table>\n<p>5000 rows × 5 columns</p>\n</div>",
          "text/plain": "      width  height                  relative_path  type  split\nid                                                             \n0       640     486  Images/valid/000000058393.jpg  .jpg  valid\n1       425     640  Images/valid/000000352582.jpg  .jpg  valid\n2       640     480  Images/valid/000000113354.jpg  .jpg  valid\n3       500     375  Images/valid/000000147729.jpg  .jpg  valid\n4       640     383  Images/valid/000000310072.jpg  .jpg  valid\n...     ...     ...                            ...   ...    ...\n4995    480     640  Images/valid/000000311180.jpg  .jpg  valid\n4996    640     359  Images/valid/000000302030.jpg  .jpg  valid\n4997    427     640  Images/valid/000000105455.jpg  .jpg  valid\n4998    500     333  Images/valid/000000428280.jpg  .jpg  valid\n4999    500     333  Images/valid/000000349837.jpg  .jpg  valid\n\n[5000 rows x 5 columns]"
         },
         "metadata": {},
         "output_type": "display_data"
        }
       ]
      }
     },
     "aae989eac45f42fcb39884378a59e020": {
      "model_module": "@jupyter-widgets/controls",
      "model_module_version": "2.0.0",
      "model_name": "HTMLModel",
      "state": {
       "layout": "IPY_MODEL_10389948eb0448bfb97290f8ee6e4654",
       "style": "IPY_MODEL_9658048ab1c54ee9a7f5c5394a33dc7b",
       "value": "<p><span style='white-space: pre-wrap; font-weight: bold'>Dataset object containing 4,706 images and 18,391 objects\nName :\n\tcoco\nImages root :\n\tnotebook_data</span></p>"
      }
     },
     "aaf31450ec344590a7e1bc8e6c8260ce": {
      "model_module": "@jupyter-widgets/controls",
      "model_module_version": "2.0.0",
      "model_name": "HTMLModel",
      "state": {
       "layout": "IPY_MODEL_bb6a36c9e5c746dda3420c6d73a19013",
       "style": "IPY_MODEL_cc19a92483ae462d8c39de44985974e6",
       "value": "<p><span style='white-space: pre-wrap; font-weight: bold'>Dataset object containing 5,000 images and 36,781 objects\nName :\n\tcoco\nImages root :\n\tnotebook_data</span></p>"
      }
     },
     "ac087e9ac3c140c79ea14a6e6aaffbb7": {
      "model_module": "@jupyter-widgets/output",
      "model_module_version": "1.0.0",
      "model_name": "OutputModel",
      "state": {
       "layout": "IPY_MODEL_4fe4608ef6e34b44a3d0cd32ccd2b5b1",
       "outputs": [
        {
         "data": {
          "text/html": "<div>\n<style scoped>\n    .dataframe tbody tr th:only-of-type {\n        vertical-align: middle;\n    }\n\n    .dataframe tbody tr th {\n        vertical-align: top;\n    }\n\n    .dataframe thead th {\n        text-align: right;\n    }\n</style>\n<table border=\"1\" class=\"dataframe\">\n  <thead>\n    <tr style=\"text-align: right;\">\n      <th></th>\n      <th>category string</th>\n    </tr>\n    <tr>\n      <th>category_id</th>\n      <th></th>\n    </tr>\n  </thead>\n  <tbody>\n    <tr>\n      <th>1</th>\n      <td>aeroplane</td>\n    </tr>\n    <tr>\n      <th>2</th>\n      <td>bicycle</td>\n    </tr>\n    <tr>\n      <th>3</th>\n      <td>bird</td>\n    </tr>\n    <tr>\n      <th>4</th>\n      <td>boat</td>\n    </tr>\n    <tr>\n      <th>5</th>\n      <td>bottle</td>\n    </tr>\n    <tr>\n      <th>6</th>\n      <td>bus</td>\n    </tr>\n    <tr>\n      <th>7</th>\n      <td>car</td>\n    </tr>\n    <tr>\n      <th>8</th>\n      <td>cat</td>\n    </tr>\n    <tr>\n      <th>9</th>\n      <td>chair</td>\n    </tr>\n    <tr>\n      <th>10</th>\n      <td>cow</td>\n    </tr>\n    <tr>\n      <th>11</th>\n      <td>diningtable</td>\n    </tr>\n    <tr>\n      <th>12</th>\n      <td>dog</td>\n    </tr>\n    <tr>\n      <th>13</th>\n      <td>horse</td>\n    </tr>\n    <tr>\n      <th>14</th>\n      <td>motorbike</td>\n    </tr>\n    <tr>\n      <th>15</th>\n      <td>person</td>\n    </tr>\n    <tr>\n      <th>16</th>\n      <td>pottedplant</td>\n    </tr>\n    <tr>\n      <th>17</th>\n      <td>sheep</td>\n    </tr>\n    <tr>\n      <th>18</th>\n      <td>sofa</td>\n    </tr>\n    <tr>\n      <th>19</th>\n      <td>train</td>\n    </tr>\n    <tr>\n      <th>20</th>\n      <td>tvmonitor</td>\n    </tr>\n  </tbody>\n</table>\n</div>",
          "text/plain": "            category string\ncategory_id                \n1                 aeroplane\n2                   bicycle\n3                      bird\n4                      boat\n5                    bottle\n6                       bus\n7                       car\n8                       cat\n9                     chair\n10                      cow\n11              diningtable\n12                      dog\n13                    horse\n14                motorbike\n15                   person\n16              pottedplant\n17                    sheep\n18                     sofa\n19                    train\n20                tvmonitor"
         },
         "metadata": {},
         "output_type": "display_data"
        }
       ]
      }
     },
     "adb47fe414d54c978a5f98dd7a48f48e": {
      "model_module": "@jupyter-widgets/output",
      "model_module_version": "1.0.0",
      "model_name": "OutputModel",
      "state": {
       "layout": "IPY_MODEL_e7dc427815dc4f14ba367e6f6e37a129",
       "outputs": [
        {
         "data": {
          "text/html": "<div>\n<style scoped>\n    .dataframe tbody tr th:only-of-type {\n        vertical-align: middle;\n    }\n\n    .dataframe tbody tr th {\n        vertical-align: top;\n    }\n\n    .dataframe thead th {\n        text-align: right;\n    }\n</style>\n<table border=\"1\" class=\"dataframe\">\n  <thead>\n    <tr style=\"text-align: right;\">\n      <th></th>\n      <th>width</th>\n      <th>height</th>\n      <th>relative_path</th>\n      <th>type</th>\n      <th>split</th>\n    </tr>\n    <tr>\n      <th>id</th>\n      <th></th>\n      <th></th>\n      <th></th>\n      <th></th>\n      <th></th>\n    </tr>\n  </thead>\n  <tbody>\n    <tr>\n      <th>447789</th>\n      <td>640</td>\n      <td>427</td>\n      <td>Images/valid/000000447789.jpg</td>\n      <td>.jpg</td>\n      <td>valid</td>\n    </tr>\n    <tr>\n      <th>514540</th>\n      <td>429</td>\n      <td>640</td>\n      <td>Images/valid/000000514540.jpg</td>\n      <td>.jpg</td>\n      <td>valid</td>\n    </tr>\n    <tr>\n      <th>476491</th>\n      <td>336</td>\n      <td>500</td>\n      <td>Images/valid/000000476491.jpg</td>\n      <td>.jpg</td>\n      <td>valid</td>\n    </tr>\n    <tr>\n      <th>41488</th>\n      <td>640</td>\n      <td>369</td>\n      <td>Images/valid/000000041488.jpg</td>\n      <td>.jpg</td>\n      <td>valid</td>\n    </tr>\n    <tr>\n      <th>121153</th>\n      <td>640</td>\n      <td>480</td>\n      <td>Images/valid/000000121153.jpg</td>\n      <td>.jpg</td>\n      <td>valid</td>\n    </tr>\n    <tr>\n      <th>...</th>\n      <td>...</td>\n      <td>...</td>\n      <td>...</td>\n      <td>...</td>\n      <td>...</td>\n    </tr>\n    <tr>\n      <th>311180</th>\n      <td>480</td>\n      <td>640</td>\n      <td>Images/valid/000000311180.jpg</td>\n      <td>.jpg</td>\n      <td>valid</td>\n    </tr>\n    <tr>\n      <th>302030</th>\n      <td>640</td>\n      <td>359</td>\n      <td>Images/valid/000000302030.jpg</td>\n      <td>.jpg</td>\n      <td>valid</td>\n    </tr>\n    <tr>\n      <th>105455</th>\n      <td>427</td>\n      <td>640</td>\n      <td>Images/valid/000000105455.jpg</td>\n      <td>.jpg</td>\n      <td>valid</td>\n    </tr>\n    <tr>\n      <th>428280</th>\n      <td>500</td>\n      <td>333</td>\n      <td>Images/valid/000000428280.jpg</td>\n      <td>.jpg</td>\n      <td>valid</td>\n    </tr>\n    <tr>\n      <th>349837</th>\n      <td>500</td>\n      <td>333</td>\n      <td>Images/valid/000000349837.jpg</td>\n      <td>.jpg</td>\n      <td>valid</td>\n    </tr>\n  </tbody>\n</table>\n<p>4706 rows × 5 columns</p>\n</div>",
          "text/plain": "        width  height                  relative_path  type  split\nid                                                               \n447789    640     427  Images/valid/000000447789.jpg  .jpg  valid\n514540    429     640  Images/valid/000000514540.jpg  .jpg  valid\n476491    336     500  Images/valid/000000476491.jpg  .jpg  valid\n41488     640     369  Images/valid/000000041488.jpg  .jpg  valid\n121153    640     480  Images/valid/000000121153.jpg  .jpg  valid\n...       ...     ...                            ...   ...    ...\n311180    480     640  Images/valid/000000311180.jpg  .jpg  valid\n302030    640     359  Images/valid/000000302030.jpg  .jpg  valid\n105455    427     640  Images/valid/000000105455.jpg  .jpg  valid\n428280    500     333  Images/valid/000000428280.jpg  .jpg  valid\n349837    500     333  Images/valid/000000349837.jpg  .jpg  valid\n\n[4706 rows x 5 columns]"
         },
         "metadata": {},
         "output_type": "display_data"
        }
       ]
      }
     },
     "aea9b77bd8d14a21aba81dc81fe0e8cd": {
      "model_module": "@jupyter-widgets/output",
      "model_module_version": "1.0.0",
      "model_name": "OutputModel",
      "state": {
       "layout": "IPY_MODEL_d9593d212484414b8ba57837f931a0f8",
       "outputs": [
        {
         "data": {
          "text/html": "<div>\n<style scoped>\n    .dataframe tbody tr th:only-of-type {\n        vertical-align: middle;\n    }\n\n    .dataframe tbody tr th {\n        vertical-align: top;\n    }\n\n    .dataframe thead th {\n        text-align: right;\n    }\n</style>\n<table border=\"1\" class=\"dataframe\">\n  <thead>\n    <tr style=\"text-align: right;\">\n      <th></th>\n      <th>width</th>\n      <th>height</th>\n      <th>relative_path</th>\n      <th>type</th>\n      <th>split</th>\n    </tr>\n    <tr>\n      <th>id</th>\n      <th></th>\n      <th></th>\n      <th></th>\n      <th></th>\n      <th></th>\n    </tr>\n  </thead>\n  <tbody>\n    <tr>\n      <th>352582</th>\n      <td>425</td>\n      <td>640</td>\n      <td>Images/valid/000000352582.jpg</td>\n      <td>.jpg</td>\n      <td>valid</td>\n    </tr>\n    <tr>\n      <th>113354</th>\n      <td>640</td>\n      <td>480</td>\n      <td>Images/valid/000000113354.jpg</td>\n      <td>.jpg</td>\n      <td>valid</td>\n    </tr>\n  </tbody>\n</table>\n</div>",
          "text/plain": "        width  height                  relative_path  type  split\nid                                                               \n352582    425     640  Images/valid/000000352582.jpg  .jpg  valid\n113354    640     480  Images/valid/000000113354.jpg  .jpg  valid"
         },
         "metadata": {},
         "output_type": "display_data"
        }
       ]
      }
     },
     "afb1b69762974288866c8d07a7ccc0cb": {
      "model_module": "@jupyter-widgets/base",
      "model_module_version": "2.0.0",
      "model_name": "LayoutModel",
      "state": {}
     },
     "b189ddb82297439bb62349d10e0b8c8c": {
      "model_module": "@jupyter-widgets/base",
      "model_module_version": "2.0.0",
      "model_name": "LayoutModel",
      "state": {}
     },
     "b25e07525da2464e96bc0df015a82213": {
      "model_module": "@jupyter-widgets/output",
      "model_module_version": "1.0.0",
      "model_name": "OutputModel",
      "state": {
       "layout": "IPY_MODEL_fcff304526f24f9b8d49b5adc8dfe9a7",
       "outputs": [
        {
         "data": {
          "text/html": "<div>\n<style scoped>\n    .dataframe tbody tr th:only-of-type {\n        vertical-align: middle;\n    }\n\n    .dataframe tbody tr th {\n        vertical-align: top;\n    }\n\n    .dataframe thead th {\n        text-align: right;\n    }\n</style>\n<table border=\"1\" class=\"dataframe\">\n  <thead>\n    <tr style=\"text-align: right;\">\n      <th></th>\n      <th>image_id</th>\n      <th>category_str</th>\n      <th>category_id</th>\n      <th>split</th>\n      <th>box_x_min</th>\n      <th>box_y_min</th>\n      <th>box_width</th>\n      <th>box_height</th>\n      <th>area</th>\n      <th>confidence</th>\n    </tr>\n    <tr>\n      <th>id</th>\n      <th></th>\n      <th></th>\n      <th></th>\n      <th></th>\n      <th></th>\n      <th></th>\n      <th></th>\n      <th></th>\n      <th></th>\n      <th></th>\n    </tr>\n  </thead>\n  <tbody>\n    <tr>\n      <th>0</th>\n      <td>352582</td>\n      <td>tvmonitor</td>\n      <td>20</td>\n      <td>valid</td>\n      <td>212.5</td>\n      <td>320.0</td>\n      <td>212.5</td>\n      <td>320.0</td>\n      <td>68000.0</td>\n      <td>0.5</td>\n    </tr>\n  </tbody>\n</table>\n</div>",
          "text/plain": "    image_id category_str  category_id  split  box_x_min  box_y_min  \\\nid                                                                    \n0     352582    tvmonitor           20  valid      212.5      320.0   \n\n    box_width  box_height     area  confidence  \nid                                              \n0       212.5       320.0  68000.0         0.5  "
         },
         "metadata": {},
         "output_type": "display_data"
        }
       ]
      }
     },
     "b2c77bc7409b41af9dbe153b7d7df4da": {
      "model_module": "@jupyter-widgets/output",
      "model_module_version": "1.0.0",
      "model_name": "OutputModel",
      "state": {
       "layout": "IPY_MODEL_f1a4502ebbd14377b5b5f6c34f45482f",
       "outputs": [
        {
         "data": {
          "text/html": "<div>\n<style scoped>\n    .dataframe tbody tr th:only-of-type {\n        vertical-align: middle;\n    }\n\n    .dataframe tbody tr th {\n        vertical-align: top;\n    }\n\n    .dataframe thead th {\n        text-align: right;\n    }\n</style>\n<table border=\"1\" class=\"dataframe\">\n  <thead>\n    <tr style=\"text-align: right;\">\n      <th></th>\n      <th>image_id</th>\n      <th>category_str</th>\n      <th>category_id</th>\n      <th>split</th>\n      <th>box_x_min</th>\n      <th>box_y_min</th>\n      <th>box_width</th>\n      <th>box_height</th>\n      <th>area</th>\n    </tr>\n    <tr>\n      <th>id</th>\n      <th></th>\n      <th></th>\n      <th></th>\n      <th></th>\n      <th></th>\n      <th></th>\n      <th></th>\n      <th></th>\n      <th></th>\n    </tr>\n  </thead>\n  <tbody>\n    <tr>\n      <th>589077</th>\n      <td>113354</td>\n      <td>zebra</td>\n      <td>24</td>\n      <td>valid</td>\n      <td>260.99</td>\n      <td>158.88</td>\n      <td>141.52</td>\n      <td>194.11</td>\n      <td>9978.94125</td>\n    </tr>\n    <tr>\n      <th>589740</th>\n      <td>113354</td>\n      <td>zebra</td>\n      <td>24</td>\n      <td>valid</td>\n      <td>366.49</td>\n      <td>174.59</td>\n      <td>115.67</td>\n      <td>142.71</td>\n      <td>5784.68620</td>\n    </tr>\n    <tr>\n      <th>592005</th>\n      <td>113354</td>\n      <td>zebra</td>\n      <td>24</td>\n      <td>valid</td>\n      <td>3.24</td>\n      <td>151.28</td>\n      <td>265.34</td>\n      <td>175.82</td>\n      <td>16206.37480</td>\n    </tr>\n  </tbody>\n</table>\n</div>",
          "text/plain": "        image_id category_str  category_id  split  box_x_min  box_y_min  \\\nid                                                                        \n589077    113354        zebra           24  valid     260.99     158.88   \n589740    113354        zebra           24  valid     366.49     174.59   \n592005    113354        zebra           24  valid       3.24     151.28   \n\n        box_width  box_height         area  \nid                                          \n589077     141.52      194.11   9978.94125  \n589740     115.67      142.71   5784.68620  \n592005     265.34      175.82  16206.37480  "
         },
         "metadata": {},
         "output_type": "display_data"
        }
       ]
      }
     },
     "b39364cbbf6b4a91af4b560782c16676": {
      "model_module": "@jupyter-widgets/controls",
      "model_module_version": "2.0.0",
      "model_name": "HTMLModel",
      "state": {
       "layout": "IPY_MODEL_9e5e24ac2e3c472fa147368ac95fe73b",
       "style": "IPY_MODEL_a280778b18634b7dbfefbd13f3430577",
       "value": "<p><span style='white-space: pre-wrap; font-weight: bold'>Dataset object containing 5,000 images and 18,391 objects\nName :\n\tcoco\nImages root :\n\tnotebook_data</span></p>"
      }
     },
     "b3d6201c37db428ca755b1d1ad26a7a4": {
      "model_module": "@jupyter-widgets/base",
      "model_module_version": "2.0.0",
      "model_name": "LayoutModel",
      "state": {}
     },
     "b5454727f531449daeee78ba0af3a2ec": {
      "model_module": "@jupyter-widgets/base",
      "model_module_version": "2.0.0",
      "model_name": "LayoutModel",
      "state": {}
     },
     "b60cb52cd3e4493283ae46259ea964f1": {
      "model_module": "@jupyter-widgets/base",
      "model_module_version": "2.0.0",
      "model_name": "LayoutModel",
      "state": {}
     },
     "b75cc350015f4ed68787675876e5fc41": {
      "model_module": "@jupyter-widgets/base",
      "model_module_version": "2.0.0",
      "model_name": "LayoutModel",
      "state": {}
     },
     "b7a7836c0928481eb773f233fab0a635": {
      "model_module": "@jupyter-widgets/base",
      "model_module_version": "2.0.0",
      "model_name": "LayoutModel",
      "state": {}
     },
     "b9305f4cb6694a218d938b1c821d0423": {
      "model_module": "@jupyter-widgets/base",
      "model_module_version": "2.0.0",
      "model_name": "LayoutModel",
      "state": {}
     },
     "bb6a36c9e5c746dda3420c6d73a19013": {
      "model_module": "@jupyter-widgets/base",
      "model_module_version": "2.0.0",
      "model_name": "LayoutModel",
      "state": {}
     },
     "bb79da4e6a5746d8b82f1ea4709f1076": {
      "model_module": "@jupyter-widgets/controls",
      "model_module_version": "2.0.0",
      "model_name": "TabModel",
      "state": {
       "children": [
        "IPY_MODEL_bc1651b6de75415c95fdffbbd183db65",
        "IPY_MODEL_cbfbf0e7eb0d4637b841fa079d924fd0",
        "IPY_MODEL_8b2d0ddb5a004197b4a18f8aae9de750"
       ],
       "layout": "IPY_MODEL_1b66cc1c194b4bb1b4de420e94dd4e1a",
       "selected_index": 0,
       "titles": [
        "Images",
        "Annotations",
        "Label Map"
       ]
      }
     },
     "bc1651b6de75415c95fdffbbd183db65": {
      "model_module": "@jupyter-widgets/output",
      "model_module_version": "1.0.0",
      "model_name": "OutputModel",
      "state": {
       "layout": "IPY_MODEL_85980c920f294c12bb127a444d35c92b",
       "outputs": [
        {
         "data": {
          "text/html": "<div>\n<style scoped>\n    .dataframe tbody tr th:only-of-type {\n        vertical-align: middle;\n    }\n\n    .dataframe tbody tr th {\n        vertical-align: top;\n    }\n\n    .dataframe thead th {\n        text-align: right;\n    }\n</style>\n<table border=\"1\" class=\"dataframe\">\n  <thead>\n    <tr style=\"text-align: right;\">\n      <th></th>\n      <th>width</th>\n      <th>height</th>\n      <th>relative_path</th>\n      <th>type</th>\n      <th>split</th>\n    </tr>\n    <tr>\n      <th>id</th>\n      <th></th>\n      <th></th>\n      <th></th>\n      <th></th>\n      <th></th>\n    </tr>\n  </thead>\n  <tbody>\n    <tr>\n      <th>352582</th>\n      <td>425</td>\n      <td>640</td>\n      <td>Images/valid/000000352582.jpg</td>\n      <td>.jpg</td>\n      <td>valid</td>\n    </tr>\n    <tr>\n      <th>113354</th>\n      <td>640</td>\n      <td>480</td>\n      <td>Images/valid/000000113354.jpg</td>\n      <td>.jpg</td>\n      <td>valid</td>\n    </tr>\n    <tr>\n      <th>58393</th>\n      <td>640</td>\n      <td>486</td>\n      <td>Images/valid/000000058393.jpg</td>\n      <td>.jpg</td>\n      <td>valid</td>\n    </tr>\n    <tr>\n      <th>147729</th>\n      <td>500</td>\n      <td>375</td>\n      <td>Images/valid/000000147729.jpg</td>\n      <td>.jpg</td>\n      <td>valid</td>\n    </tr>\n    <tr>\n      <th>310072</th>\n      <td>640</td>\n      <td>383</td>\n      <td>Images/valid/000000310072.jpg</td>\n      <td>.jpg</td>\n      <td>valid</td>\n    </tr>\n    <tr>\n      <th>...</th>\n      <td>...</td>\n      <td>...</td>\n      <td>...</td>\n      <td>...</td>\n      <td>...</td>\n    </tr>\n    <tr>\n      <th>311180</th>\n      <td>480</td>\n      <td>640</td>\n      <td>Images/valid/000000311180.jpg</td>\n      <td>.jpg</td>\n      <td>valid</td>\n    </tr>\n    <tr>\n      <th>302030</th>\n      <td>640</td>\n      <td>359</td>\n      <td>Images/valid/000000302030.jpg</td>\n      <td>.jpg</td>\n      <td>valid</td>\n    </tr>\n    <tr>\n      <th>105455</th>\n      <td>427</td>\n      <td>640</td>\n      <td>Images/valid/000000105455.jpg</td>\n      <td>.jpg</td>\n      <td>valid</td>\n    </tr>\n    <tr>\n      <th>428280</th>\n      <td>500</td>\n      <td>333</td>\n      <td>Images/valid/000000428280.jpg</td>\n      <td>.jpg</td>\n      <td>valid</td>\n    </tr>\n    <tr>\n      <th>349837</th>\n      <td>500</td>\n      <td>333</td>\n      <td>Images/valid/000000349837.jpg</td>\n      <td>.jpg</td>\n      <td>valid</td>\n    </tr>\n  </tbody>\n</table>\n<p>5000 rows × 5 columns</p>\n</div>",
          "text/plain": "        width  height                  relative_path  type  split\nid                                                               \n352582    425     640  Images/valid/000000352582.jpg  .jpg  valid\n113354    640     480  Images/valid/000000113354.jpg  .jpg  valid\n58393     640     486  Images/valid/000000058393.jpg  .jpg  valid\n147729    500     375  Images/valid/000000147729.jpg  .jpg  valid\n310072    640     383  Images/valid/000000310072.jpg  .jpg  valid\n...       ...     ...                            ...   ...    ...\n311180    480     640  Images/valid/000000311180.jpg  .jpg  valid\n302030    640     359  Images/valid/000000302030.jpg  .jpg  valid\n105455    427     640  Images/valid/000000105455.jpg  .jpg  valid\n428280    500     333  Images/valid/000000428280.jpg  .jpg  valid\n349837    500     333  Images/valid/000000349837.jpg  .jpg  valid\n\n[5000 rows x 5 columns]"
         },
         "metadata": {},
         "output_type": "display_data"
        }
       ]
      }
     },
     "bc33b1752fbc42b1bb971160aa734c1f": {
      "model_module": "@jupyter-widgets/base",
      "model_module_version": "2.0.0",
      "model_name": "LayoutModel",
      "state": {}
     },
     "bc405de6314442108a926ea56be3411f": {
      "model_module": "@jupyter-widgets/base",
      "model_module_version": "2.0.0",
      "model_name": "LayoutModel",
      "state": {}
     },
     "bd34f01e287a47d79a85c4dfb923c687": {
      "model_module": "@jupyter-widgets/base",
      "model_module_version": "2.0.0",
      "model_name": "LayoutModel",
      "state": {}
     },
     "bf056b3aad2f4866a73886e0a2548fc2": {
      "model_module": "@jupyter-widgets/base",
      "model_module_version": "2.0.0",
      "model_name": "LayoutModel",
      "state": {}
     },
     "bf859b3043c14f999f630d7d9657d4b1": {
      "model_module": "@jupyter-widgets/controls",
      "model_module_version": "2.0.0",
      "model_name": "TabModel",
      "state": {
       "children": [
        "IPY_MODEL_33e8c53a668c4f61bfde88a0a536ea24",
        "IPY_MODEL_7624ce323ee04e1c9158288ba8c702ef",
        "IPY_MODEL_003973ba6429441696690892068b30b5"
       ],
       "layout": "IPY_MODEL_4af4df92ffd74f19a264c6298fec7326",
       "selected_index": 0,
       "titles": [
        "Images",
        "Annotations",
        "Label Map"
       ]
      }
     },
     "c0010570c6a04f1b978cf99e5d075b34": {
      "model_module": "@jupyter-widgets/base",
      "model_module_version": "2.0.0",
      "model_name": "LayoutModel",
      "state": {}
     },
     "c0624f6057fb4ff99ed6509a042305ab": {
      "model_module": "@jupyter-widgets/controls",
      "model_module_version": "2.0.0",
      "model_name": "TabModel",
      "state": {
       "children": [
        "IPY_MODEL_2a3ca1e55ef24e72b351e4d45e0d7d53",
        "IPY_MODEL_1d6d3b6ca031443a9d4de538dee1f120",
        "IPY_MODEL_7b0b2bd0a9fa41339eb0b6c7dc605df2"
       ],
       "layout": "IPY_MODEL_2315e499822d468c8925f1d42b700cf9",
       "selected_index": 0,
       "titles": [
        "Images",
        "Annotations",
        "Label Map"
       ]
      }
     },
     "c1120547b03e442abc27bc1dd3d922d4": {
      "model_module": "@jupyter-widgets/controls",
      "model_module_version": "2.0.0",
      "model_name": "VBoxModel",
      "state": {
       "children": [
        "IPY_MODEL_4b5120a0e8274f3babc93743e1e22543",
        "IPY_MODEL_7bec16f4b1874da8953d4f5e66dca55e"
       ],
       "layout": "IPY_MODEL_0207c44a5d5142f5bdc2c9757b174ff4"
      }
     },
     "c1569471bd79471f9f571bd1e87ccf78": {
      "model_module": "@jupyter-widgets/output",
      "model_module_version": "1.0.0",
      "model_name": "OutputModel",
      "state": {
       "layout": "IPY_MODEL_3ea45c5b477b49308bb0e428284e33f5",
       "outputs": [
        {
         "data": {
          "text/html": "<div>\n<style scoped>\n    .dataframe tbody tr th:only-of-type {\n        vertical-align: middle;\n    }\n\n    .dataframe tbody tr th {\n        vertical-align: top;\n    }\n\n    .dataframe thead th {\n        text-align: right;\n    }\n</style>\n<table border=\"1\" class=\"dataframe\">\n  <thead>\n    <tr style=\"text-align: right;\">\n      <th></th>\n      <th>image_id</th>\n      <th>category_str</th>\n      <th>category_id</th>\n      <th>split</th>\n      <th>box_x_min</th>\n      <th>box_y_min</th>\n      <th>box_width</th>\n      <th>box_height</th>\n      <th>area</th>\n    </tr>\n    <tr>\n      <th>id</th>\n      <th></th>\n      <th></th>\n      <th></th>\n      <th></th>\n      <th></th>\n      <th></th>\n      <th></th>\n      <th></th>\n      <th></th>\n    </tr>\n  </thead>\n  <tbody>\n    <tr>\n      <th>460450</th>\n      <td>352582</td>\n      <td>person</td>\n      <td>1</td>\n      <td>valid</td>\n      <td>112.43</td>\n      <td>195.32</td>\n      <td>214.78</td>\n      <td>438.19</td>\n      <td>48685.67910</td>\n    </tr>\n    <tr>\n      <th>602093</th>\n      <td>352582</td>\n      <td>frisbee</td>\n      <td>34</td>\n      <td>valid</td>\n      <td>171.63</td>\n      <td>424.03</td>\n      <td>85.89</td>\n      <td>40.67</td>\n      <td>2605.72090</td>\n    </tr>\n    <tr>\n      <th>589740</th>\n      <td>113354</td>\n      <td>zebra</td>\n      <td>24</td>\n      <td>valid</td>\n      <td>366.49</td>\n      <td>174.59</td>\n      <td>115.67</td>\n      <td>142.71</td>\n      <td>5784.68620</td>\n    </tr>\n    <tr>\n      <th>467905</th>\n      <td>58393</td>\n      <td>person</td>\n      <td>1</td>\n      <td>valid</td>\n      <td>342.52</td>\n      <td>163.33</td>\n      <td>192.24</td>\n      <td>77.47</td>\n      <td>5408.64720</td>\n    </tr>\n    <tr>\n      <th>1710990</th>\n      <td>58393</td>\n      <td>person</td>\n      <td>1</td>\n      <td>valid</td>\n      <td>418.99</td>\n      <td>182.65</td>\n      <td>61.12</td>\n      <td>45.00</td>\n      <td>1792.80770</td>\n    </tr>\n    <tr>\n      <th>...</th>\n      <td>...</td>\n      <td>...</td>\n      <td>...</td>\n      <td>...</td>\n      <td>...</td>\n      <td>...</td>\n      <td>...</td>\n      <td>...</td>\n      <td>...</td>\n    </tr>\n    <tr>\n      <th>1101888</th>\n      <td>428280</td>\n      <td>laptop</td>\n      <td>73</td>\n      <td>valid</td>\n      <td>118.71</td>\n      <td>138.34</td>\n      <td>44.79</td>\n      <td>35.83</td>\n      <td>1405.98065</td>\n    </tr>\n    <tr>\n      <th>2190513</th>\n      <td>428280</td>\n      <td>chair</td>\n      <td>62</td>\n      <td>valid</td>\n      <td>203.58</td>\n      <td>179.65</td>\n      <td>105.27</td>\n      <td>139.55</td>\n      <td>7696.12525</td>\n    </tr>\n    <tr>\n      <th>331107</th>\n      <td>349837</td>\n      <td>refrigerator</td>\n      <td>82</td>\n      <td>valid</td>\n      <td>66.00</td>\n      <td>94.87</td>\n      <td>71.25</td>\n      <td>194.26</td>\n      <td>12029.44125</td>\n    </tr>\n    <tr>\n      <th>333394</th>\n      <td>349837</td>\n      <td>refrigerator</td>\n      <td>82</td>\n      <td>valid</td>\n      <td>234.44</td>\n      <td>29.87</td>\n      <td>113.49</td>\n      <td>298.65</td>\n      <td>30406.51295</td>\n    </tr>\n    <tr>\n      <th>333731</th>\n      <td>349837</td>\n      <td>refrigerator</td>\n      <td>82</td>\n      <td>valid</td>\n      <td>460.39</td>\n      <td>0.00</td>\n      <td>39.61</td>\n      <td>328.64</td>\n      <td>12492.52165</td>\n    </tr>\n  </tbody>\n</table>\n<p>18391 rows × 9 columns</p>\n</div>",
          "text/plain": "         image_id  category_str  category_id  split  box_x_min  box_y_min  \\\nid                                                                          \n460450     352582        person            1  valid     112.43     195.32   \n602093     352582       frisbee           34  valid     171.63     424.03   \n589740     113354         zebra           24  valid     366.49     174.59   \n467905      58393        person            1  valid     342.52     163.33   \n1710990     58393        person            1  valid     418.99     182.65   \n...           ...           ...          ...    ...        ...        ...   \n1101888    428280        laptop           73  valid     118.71     138.34   \n2190513    428280         chair           62  valid     203.58     179.65   \n331107     349837  refrigerator           82  valid      66.00      94.87   \n333394     349837  refrigerator           82  valid     234.44      29.87   \n333731     349837  refrigerator           82  valid     460.39       0.00   \n\n         box_width  box_height         area  \nid                                           \n460450      214.78      438.19  48685.67910  \n602093       85.89       40.67   2605.72090  \n589740      115.67      142.71   5784.68620  \n467905      192.24       77.47   5408.64720  \n1710990      61.12       45.00   1792.80770  \n...            ...         ...          ...  \n1101888      44.79       35.83   1405.98065  \n2190513     105.27      139.55   7696.12525  \n331107       71.25      194.26  12029.44125  \n333394      113.49      298.65  30406.51295  \n333731       39.61      328.64  12492.52165  \n\n[18391 rows x 9 columns]"
         },
         "metadata": {},
         "output_type": "display_data"
        }
       ]
      }
     },
     "c17e5469e14e45389ae5670a74d3fd6b": {
      "model_module": "@jupyter-widgets/base",
      "model_module_version": "2.0.0",
      "model_name": "LayoutModel",
      "state": {}
     },
     "c1ee2b30e8c1430a91065ddc529d89e7": {
      "model_module": "@jupyter-widgets/controls",
      "model_module_version": "2.0.0",
      "model_name": "HTMLStyleModel",
      "state": {
       "description_width": "",
       "font_size": null,
       "text_color": null
      }
     },
     "c497c29f8fa5485fb878086fd794cf28": {
      "model_module": "@jupyter-widgets/base",
      "model_module_version": "2.0.0",
      "model_name": "LayoutModel",
      "state": {}
     },
     "c6a12a1635ad495cb5d87a4f8c586bfb": {
      "model_module": "@jupyter-widgets/base",
      "model_module_version": "2.0.0",
      "model_name": "LayoutModel",
      "state": {}
     },
     "c6f7a9fda097487d8e8c50b0cacdf846": {
      "model_module": "@jupyter-widgets/controls",
      "model_module_version": "2.0.0",
      "model_name": "TabModel",
      "state": {
       "children": [
        "IPY_MODEL_d7cdaeb49f004a8dbdf16961b178f497",
        "IPY_MODEL_cc4cba889012456087f1096113d0d4a9",
        "IPY_MODEL_2eda4e5db5ac43819b8bbcb8291987d2"
       ],
       "layout": "IPY_MODEL_9b15214c36064511b4f73ebeb3398915",
       "selected_index": 0,
       "titles": [
        "Images",
        "Annotations",
        "Label Map"
       ]
      }
     },
     "c74870f966e84cdf8b0134024009119e": {
      "model_module": "@jupyter-widgets/base",
      "model_module_version": "2.0.0",
      "model_name": "LayoutModel",
      "state": {}
     },
     "c7a7060a8aa7446299af9cc8d1cab19e": {
      "model_module": "@jupyter-widgets/controls",
      "model_module_version": "2.0.0",
      "model_name": "HTMLModel",
      "state": {
       "layout": "IPY_MODEL_839cd65655db4ceda9d80564d684e040",
       "style": "IPY_MODEL_fbeaaa18eb984d3196b1f14067c573b2",
       "value": "<p><span style='white-space: pre-wrap; font-weight: bold'>Dataset object containing 1 image and 3 objects\nName :\n\tcoco\nImages root :\n\tnotebook_data</span></p>"
      }
     },
     "c7aea4c13f6f4566a773c0c3cc2be09c": {
      "model_module": "@jupyter-widgets/base",
      "model_module_version": "2.0.0",
      "model_name": "LayoutModel",
      "state": {}
     },
     "c7f4e636fea5416abe53471ffe768a14": {
      "model_module": "@jupyter-widgets/base",
      "model_module_version": "2.0.0",
      "model_name": "LayoutModel",
      "state": {}
     },
     "c986fa54a7fa47558c32767b5450a531": {
      "model_module": "@jupyter-widgets/output",
      "model_module_version": "1.0.0",
      "model_name": "OutputModel",
      "state": {
       "layout": "IPY_MODEL_47f377ac62584f86894264ba0e7c570d",
       "outputs": [
        {
         "data": {
          "text/html": "<div>\n<style scoped>\n    .dataframe tbody tr th:only-of-type {\n        vertical-align: middle;\n    }\n\n    .dataframe tbody tr th {\n        vertical-align: top;\n    }\n\n    .dataframe thead th {\n        text-align: right;\n    }\n</style>\n<table border=\"1\" class=\"dataframe\">\n  <thead>\n    <tr style=\"text-align: right;\">\n      <th></th>\n      <th>category string</th>\n    </tr>\n    <tr>\n      <th>category_id</th>\n      <th></th>\n    </tr>\n  </thead>\n  <tbody>\n    <tr>\n      <th>1</th>\n      <td>person</td>\n    </tr>\n    <tr>\n      <th>2</th>\n      <td>bicycle</td>\n    </tr>\n    <tr>\n      <th>3</th>\n      <td>car</td>\n    </tr>\n    <tr>\n      <th>4</th>\n      <td>motorcycle</td>\n    </tr>\n    <tr>\n      <th>5</th>\n      <td>airplane</td>\n    </tr>\n    <tr>\n      <th>...</th>\n      <td>...</td>\n    </tr>\n    <tr>\n      <th>86</th>\n      <td>vase</td>\n    </tr>\n    <tr>\n      <th>87</th>\n      <td>scissors</td>\n    </tr>\n    <tr>\n      <th>88</th>\n      <td>teddy bear</td>\n    </tr>\n    <tr>\n      <th>89</th>\n      <td>hair drier</td>\n    </tr>\n    <tr>\n      <th>90</th>\n      <td>toothbrush</td>\n    </tr>\n  </tbody>\n</table>\n<p>80 rows × 1 columns</p>\n</div>",
          "text/plain": "            category string\ncategory_id                \n1                    person\n2                   bicycle\n3                       car\n4                motorcycle\n5                  airplane\n...                     ...\n86                     vase\n87                 scissors\n88               teddy bear\n89               hair drier\n90               toothbrush\n\n[80 rows x 1 columns]"
         },
         "metadata": {},
         "output_type": "display_data"
        }
       ]
      }
     },
     "cb175f16ce6c4ed3963131b9bc9d71d4": {
      "model_module": "@jupyter-widgets/base",
      "model_module_version": "2.0.0",
      "model_name": "LayoutModel",
      "state": {}
     },
     "cb80ecd92080438fa9609089ad11c3ca": {
      "model_module": "@jupyter-widgets/controls",
      "model_module_version": "2.0.0",
      "model_name": "HTMLStyleModel",
      "state": {
       "description_width": "",
       "font_size": null,
       "text_color": null
      }
     },
     "cbfbf0e7eb0d4637b841fa079d924fd0": {
      "model_module": "@jupyter-widgets/output",
      "model_module_version": "1.0.0",
      "model_name": "OutputModel",
      "state": {
       "layout": "IPY_MODEL_4e9e02be8d9f47a883d4b2e4c7dd3f5f",
       "outputs": [
        {
         "data": {
          "text/html": "<div>\n<style scoped>\n    .dataframe tbody tr th:only-of-type {\n        vertical-align: middle;\n    }\n\n    .dataframe tbody tr th {\n        vertical-align: top;\n    }\n\n    .dataframe thead th {\n        text-align: right;\n    }\n</style>\n<table border=\"1\" class=\"dataframe\">\n  <thead>\n    <tr style=\"text-align: right;\">\n      <th></th>\n      <th>image_id</th>\n      <th>category_str</th>\n      <th>category_id</th>\n      <th>split</th>\n      <th>box_x_min</th>\n      <th>box_y_min</th>\n      <th>box_width</th>\n      <th>box_height</th>\n      <th>area</th>\n    </tr>\n    <tr>\n      <th>id</th>\n      <th></th>\n      <th></th>\n      <th></th>\n      <th></th>\n      <th></th>\n      <th></th>\n      <th></th>\n      <th></th>\n      <th></th>\n    </tr>\n  </thead>\n  <tbody>\n    <tr>\n      <th>460450</th>\n      <td>352582</td>\n      <td>object</td>\n      <td>3</td>\n      <td>valid</td>\n      <td>112.43</td>\n      <td>195.32</td>\n      <td>214.78</td>\n      <td>438.19</td>\n      <td>48685.67910</td>\n    </tr>\n    <tr>\n      <th>535917</th>\n      <td>352582</td>\n      <td>object</td>\n      <td>3</td>\n      <td>valid</td>\n      <td>0.00</td>\n      <td>256.00</td>\n      <td>80.54</td>\n      <td>376.81</td>\n      <td>22650.73800</td>\n    </tr>\n    <tr>\n      <th>467905</th>\n      <td>58393</td>\n      <td>object</td>\n      <td>3</td>\n      <td>valid</td>\n      <td>342.52</td>\n      <td>163.33</td>\n      <td>192.24</td>\n      <td>77.47</td>\n      <td>5408.64720</td>\n    </tr>\n    <tr>\n      <th>1710990</th>\n      <td>58393</td>\n      <td>object</td>\n      <td>3</td>\n      <td>valid</td>\n      <td>418.99</td>\n      <td>182.65</td>\n      <td>61.12</td>\n      <td>45.00</td>\n      <td>1792.80770</td>\n    </tr>\n    <tr>\n      <th>1238519</th>\n      <td>147729</td>\n      <td>object</td>\n      <td>3</td>\n      <td>valid</td>\n      <td>0.00</td>\n      <td>87.01</td>\n      <td>310.67</td>\n      <td>287.99</td>\n      <td>55847.52705</td>\n    </tr>\n    <tr>\n      <th>...</th>\n      <td>...</td>\n      <td>...</td>\n      <td>...</td>\n      <td>...</td>\n      <td>...</td>\n      <td>...</td>\n      <td>...</td>\n      <td>...</td>\n      <td>...</td>\n    </tr>\n    <tr>\n      <th>1192747</th>\n      <td>105455</td>\n      <td>vehicle</td>\n      <td>2</td>\n      <td>valid</td>\n      <td>333.56</td>\n      <td>517.21</td>\n      <td>17.43</td>\n      <td>14.58</td>\n      <td>182.21680</td>\n    </tr>\n    <tr>\n      <th>108177</th>\n      <td>428280</td>\n      <td>object</td>\n      <td>3</td>\n      <td>valid</td>\n      <td>3.58</td>\n      <td>189.14</td>\n      <td>176.88</td>\n      <td>125.32</td>\n      <td>9942.25095</td>\n    </tr>\n    <tr>\n      <th>108343</th>\n      <td>428280</td>\n      <td>object</td>\n      <td>3</td>\n      <td>valid</td>\n      <td>244.05</td>\n      <td>152.29</td>\n      <td>68.51</td>\n      <td>34.49</td>\n      <td>1457.96785</td>\n    </tr>\n    <tr>\n      <th>109094</th>\n      <td>428280</td>\n      <td>object</td>\n      <td>3</td>\n      <td>valid</td>\n      <td>187.71</td>\n      <td>114.80</td>\n      <td>44.07</td>\n      <td>66.41</td>\n      <td>2069.93800</td>\n    </tr>\n    <tr>\n      <th>2190513</th>\n      <td>428280</td>\n      <td>object</td>\n      <td>3</td>\n      <td>valid</td>\n      <td>203.58</td>\n      <td>179.65</td>\n      <td>105.27</td>\n      <td>139.55</td>\n      <td>7696.12525</td>\n    </tr>\n  </tbody>\n</table>\n<p>20607 rows × 9 columns</p>\n</div>",
          "text/plain": "         image_id category_str  category_id  split  box_x_min  box_y_min  \\\nid                                                                         \n460450     352582       object            3  valid     112.43     195.32   \n535917     352582       object            3  valid       0.00     256.00   \n467905      58393       object            3  valid     342.52     163.33   \n1710990     58393       object            3  valid     418.99     182.65   \n1238519    147729       object            3  valid       0.00      87.01   \n...           ...          ...          ...    ...        ...        ...   \n1192747    105455      vehicle            2  valid     333.56     517.21   \n108177     428280       object            3  valid       3.58     189.14   \n108343     428280       object            3  valid     244.05     152.29   \n109094     428280       object            3  valid     187.71     114.80   \n2190513    428280       object            3  valid     203.58     179.65   \n\n         box_width  box_height         area  \nid                                           \n460450      214.78      438.19  48685.67910  \n535917       80.54      376.81  22650.73800  \n467905      192.24       77.47   5408.64720  \n1710990      61.12       45.00   1792.80770  \n1238519     310.67      287.99  55847.52705  \n...            ...         ...          ...  \n1192747      17.43       14.58    182.21680  \n108177      176.88      125.32   9942.25095  \n108343       68.51       34.49   1457.96785  \n109094       44.07       66.41   2069.93800  \n2190513     105.27      139.55   7696.12525  \n\n[20607 rows x 9 columns]"
         },
         "metadata": {},
         "output_type": "display_data"
        }
       ]
      }
     },
     "cc19a92483ae462d8c39de44985974e6": {
      "model_module": "@jupyter-widgets/controls",
      "model_module_version": "2.0.0",
      "model_name": "HTMLStyleModel",
      "state": {
       "description_width": "",
       "font_size": null,
       "text_color": null
      }
     },
     "cc4cba889012456087f1096113d0d4a9": {
      "model_module": "@jupyter-widgets/output",
      "model_module_version": "1.0.0",
      "model_name": "OutputModel",
      "state": {
       "layout": "IPY_MODEL_83026b8c3977479cb2153844b6328384",
       "outputs": [
        {
         "data": {
          "text/html": "<div>\n<style scoped>\n    .dataframe tbody tr th:only-of-type {\n        vertical-align: middle;\n    }\n\n    .dataframe tbody tr th {\n        vertical-align: top;\n    }\n\n    .dataframe thead th {\n        text-align: right;\n    }\n</style>\n<table border=\"1\" class=\"dataframe\">\n  <thead>\n    <tr style=\"text-align: right;\">\n      <th></th>\n      <th>image_id</th>\n      <th>category_str</th>\n      <th>category_id</th>\n      <th>split</th>\n      <th>box_x_min</th>\n      <th>box_y_min</th>\n      <th>box_width</th>\n      <th>box_height</th>\n      <th>area</th>\n    </tr>\n    <tr>\n      <th>id</th>\n      <th></th>\n      <th></th>\n      <th></th>\n      <th></th>\n      <th></th>\n      <th></th>\n      <th></th>\n      <th></th>\n      <th></th>\n    </tr>\n  </thead>\n  <tbody>\n    <tr>\n      <th>460450</th>\n      <td>352582</td>\n      <td>person</td>\n      <td>1</td>\n      <td>valid</td>\n      <td>112.43</td>\n      <td>195.32</td>\n      <td>214.78</td>\n      <td>438.19</td>\n      <td>48685.67910</td>\n    </tr>\n    <tr>\n      <th>535917</th>\n      <td>352582</td>\n      <td>person</td>\n      <td>1</td>\n      <td>valid</td>\n      <td>0.00</td>\n      <td>256.00</td>\n      <td>80.54</td>\n      <td>376.81</td>\n      <td>22650.73800</td>\n    </tr>\n    <tr>\n      <th>602093</th>\n      <td>352582</td>\n      <td>frisbee</td>\n      <td>34</td>\n      <td>valid</td>\n      <td>171.63</td>\n      <td>424.03</td>\n      <td>85.89</td>\n      <td>40.67</td>\n      <td>2605.72090</td>\n    </tr>\n    <tr>\n      <th>589077</th>\n      <td>113354</td>\n      <td>zebra</td>\n      <td>24</td>\n      <td>valid</td>\n      <td>260.99</td>\n      <td>158.88</td>\n      <td>141.52</td>\n      <td>194.11</td>\n      <td>9978.94125</td>\n    </tr>\n    <tr>\n      <th>589740</th>\n      <td>113354</td>\n      <td>zebra</td>\n      <td>24</td>\n      <td>valid</td>\n      <td>366.49</td>\n      <td>174.59</td>\n      <td>115.67</td>\n      <td>142.71</td>\n      <td>5784.68620</td>\n    </tr>\n    <tr>\n      <th>...</th>\n      <td>...</td>\n      <td>...</td>\n      <td>...</td>\n      <td>...</td>\n      <td>...</td>\n      <td>...</td>\n      <td>...</td>\n      <td>...</td>\n      <td>...</td>\n    </tr>\n    <tr>\n      <th>331107</th>\n      <td>349837</td>\n      <td>refrigerator</td>\n      <td>82</td>\n      <td>valid</td>\n      <td>66.00</td>\n      <td>94.87</td>\n      <td>71.25</td>\n      <td>194.26</td>\n      <td>12029.44125</td>\n    </tr>\n    <tr>\n      <th>332788</th>\n      <td>349837</td>\n      <td>refrigerator</td>\n      <td>82</td>\n      <td>valid</td>\n      <td>138.00</td>\n      <td>62.63</td>\n      <td>98.25</td>\n      <td>252.00</td>\n      <td>23037.46875</td>\n    </tr>\n    <tr>\n      <th>333394</th>\n      <td>349837</td>\n      <td>refrigerator</td>\n      <td>82</td>\n      <td>valid</td>\n      <td>234.44</td>\n      <td>29.87</td>\n      <td>113.49</td>\n      <td>298.65</td>\n      <td>30406.51295</td>\n    </tr>\n    <tr>\n      <th>333685</th>\n      <td>349837</td>\n      <td>refrigerator</td>\n      <td>82</td>\n      <td>valid</td>\n      <td>335.04</td>\n      <td>10.48</td>\n      <td>125.17</td>\n      <td>318.78</td>\n      <td>37187.97840</td>\n    </tr>\n    <tr>\n      <th>333731</th>\n      <td>349837</td>\n      <td>refrigerator</td>\n      <td>82</td>\n      <td>valid</td>\n      <td>460.39</td>\n      <td>0.00</td>\n      <td>39.61</td>\n      <td>328.64</td>\n      <td>12492.52165</td>\n    </tr>\n  </tbody>\n</table>\n<p>36781 rows × 9 columns</p>\n</div>",
          "text/plain": "        image_id  category_str  category_id  split  box_x_min  box_y_min  \\\nid                                                                         \n460450    352582        person            1  valid     112.43     195.32   \n535917    352582        person            1  valid       0.00     256.00   \n602093    352582       frisbee           34  valid     171.63     424.03   \n589077    113354         zebra           24  valid     260.99     158.88   \n589740    113354         zebra           24  valid     366.49     174.59   \n...          ...           ...          ...    ...        ...        ...   \n331107    349837  refrigerator           82  valid      66.00      94.87   \n332788    349837  refrigerator           82  valid     138.00      62.63   \n333394    349837  refrigerator           82  valid     234.44      29.87   \n333685    349837  refrigerator           82  valid     335.04      10.48   \n333731    349837  refrigerator           82  valid     460.39       0.00   \n\n        box_width  box_height         area  \nid                                          \n460450     214.78      438.19  48685.67910  \n535917      80.54      376.81  22650.73800  \n602093      85.89       40.67   2605.72090  \n589077     141.52      194.11   9978.94125  \n589740     115.67      142.71   5784.68620  \n...           ...         ...          ...  \n331107      71.25      194.26  12029.44125  \n332788      98.25      252.00  23037.46875  \n333394     113.49      298.65  30406.51295  \n333685     125.17      318.78  37187.97840  \n333731      39.61      328.64  12492.52165  \n\n[36781 rows x 9 columns]"
         },
         "metadata": {},
         "output_type": "display_data"
        }
       ]
      }
     },
     "cc92718aa17c4fdc9b519e75d09e7773": {
      "model_module": "@jupyter-widgets/base",
      "model_module_version": "2.0.0",
      "model_name": "LayoutModel",
      "state": {}
     },
     "ccbe6d78c4684bbe927f1efdbdc0f52d": {
      "model_module": "@jupyter-widgets/output",
      "model_module_version": "1.0.0",
      "model_name": "OutputModel",
      "state": {
       "layout": "IPY_MODEL_33dd6b044ff448fb8de7b1e2d0f8cf58",
       "outputs": [
        {
         "data": {
          "text/html": "<div>\n<style scoped>\n    .dataframe tbody tr th:only-of-type {\n        vertical-align: middle;\n    }\n\n    .dataframe tbody tr th {\n        vertical-align: top;\n    }\n\n    .dataframe thead th {\n        text-align: right;\n    }\n</style>\n<table border=\"1\" class=\"dataframe\">\n  <thead>\n    <tr style=\"text-align: right;\">\n      <th></th>\n      <th>image_id</th>\n      <th>category_str</th>\n      <th>category_id</th>\n      <th>split</th>\n      <th>box_x_min</th>\n      <th>box_y_min</th>\n      <th>box_width</th>\n      <th>box_height</th>\n      <th>area</th>\n    </tr>\n    <tr>\n      <th>id</th>\n      <th></th>\n      <th></th>\n      <th></th>\n      <th></th>\n      <th></th>\n      <th></th>\n      <th></th>\n      <th></th>\n      <th></th>\n    </tr>\n  </thead>\n  <tbody>\n    <tr>\n      <th>460450</th>\n      <td>352582</td>\n      <td>person</td>\n      <td>15</td>\n      <td>valid</td>\n      <td>112.43</td>\n      <td>195.32</td>\n      <td>214.78</td>\n      <td>438.19</td>\n      <td>48685.67910</td>\n    </tr>\n    <tr>\n      <th>535917</th>\n      <td>352582</td>\n      <td>person</td>\n      <td>15</td>\n      <td>valid</td>\n      <td>0.00</td>\n      <td>256.00</td>\n      <td>80.54</td>\n      <td>376.81</td>\n      <td>22650.73800</td>\n    </tr>\n    <tr>\n      <th>467905</th>\n      <td>58393</td>\n      <td>person</td>\n      <td>15</td>\n      <td>valid</td>\n      <td>342.52</td>\n      <td>163.33</td>\n      <td>192.24</td>\n      <td>77.47</td>\n      <td>5408.64720</td>\n    </tr>\n    <tr>\n      <th>1710990</th>\n      <td>58393</td>\n      <td>person</td>\n      <td>15</td>\n      <td>valid</td>\n      <td>418.99</td>\n      <td>182.65</td>\n      <td>61.12</td>\n      <td>45.00</td>\n      <td>1792.80770</td>\n    </tr>\n    <tr>\n      <th>1238519</th>\n      <td>147729</td>\n      <td>person</td>\n      <td>15</td>\n      <td>valid</td>\n      <td>0.00</td>\n      <td>87.01</td>\n      <td>310.67</td>\n      <td>287.99</td>\n      <td>55847.52705</td>\n    </tr>\n    <tr>\n      <th>...</th>\n      <td>...</td>\n      <td>...</td>\n      <td>...</td>\n      <td>...</td>\n      <td>...</td>\n      <td>...</td>\n      <td>...</td>\n      <td>...</td>\n      <td>...</td>\n    </tr>\n    <tr>\n      <th>906701608203</th>\n      <td>105455</td>\n      <td>car</td>\n      <td>7</td>\n      <td>valid</td>\n      <td>333.56</td>\n      <td>517.21</td>\n      <td>17.43</td>\n      <td>14.58</td>\n      <td>182.21680</td>\n    </tr>\n    <tr>\n      <th>906700523633</th>\n      <td>428280</td>\n      <td>chair</td>\n      <td>9</td>\n      <td>valid</td>\n      <td>3.58</td>\n      <td>189.14</td>\n      <td>176.88</td>\n      <td>125.32</td>\n      <td>9942.25095</td>\n    </tr>\n    <tr>\n      <th>906700523799</th>\n      <td>428280</td>\n      <td>chair</td>\n      <td>9</td>\n      <td>valid</td>\n      <td>244.05</td>\n      <td>152.29</td>\n      <td>68.51</td>\n      <td>34.49</td>\n      <td>1457.96785</td>\n    </tr>\n    <tr>\n      <th>906700524550</th>\n      <td>428280</td>\n      <td>chair</td>\n      <td>9</td>\n      <td>valid</td>\n      <td>187.71</td>\n      <td>114.80</td>\n      <td>44.07</td>\n      <td>66.41</td>\n      <td>2069.93800</td>\n    </tr>\n    <tr>\n      <th>906702605969</th>\n      <td>428280</td>\n      <td>chair</td>\n      <td>9</td>\n      <td>valid</td>\n      <td>203.58</td>\n      <td>179.65</td>\n      <td>105.27</td>\n      <td>139.55</td>\n      <td>7696.12525</td>\n    </tr>\n  </tbody>\n</table>\n<p>41900 rows × 9 columns</p>\n</div>",
          "text/plain": "              image_id category_str  category_id  split  box_x_min  box_y_min  \\\nid                                                                              \n460450          352582       person           15  valid     112.43     195.32   \n535917          352582       person           15  valid       0.00     256.00   \n467905           58393       person           15  valid     342.52     163.33   \n1710990          58393       person           15  valid     418.99     182.65   \n1238519         147729       person           15  valid       0.00      87.01   \n...                ...          ...          ...    ...        ...        ...   \n906701608203    105455          car            7  valid     333.56     517.21   \n906700523633    428280        chair            9  valid       3.58     189.14   \n906700523799    428280        chair            9  valid     244.05     152.29   \n906700524550    428280        chair            9  valid     187.71     114.80   \n906702605969    428280        chair            9  valid     203.58     179.65   \n\n              box_width  box_height         area  \nid                                                \n460450           214.78      438.19  48685.67910  \n535917            80.54      376.81  22650.73800  \n467905           192.24       77.47   5408.64720  \n1710990           61.12       45.00   1792.80770  \n1238519          310.67      287.99  55847.52705  \n...                 ...         ...          ...  \n906701608203      17.43       14.58    182.21680  \n906700523633     176.88      125.32   9942.25095  \n906700523799      68.51       34.49   1457.96785  \n906700524550      44.07       66.41   2069.93800  \n906702605969     105.27      139.55   7696.12525  \n\n[41900 rows x 9 columns]"
         },
         "metadata": {},
         "output_type": "display_data"
        }
       ]
      }
     },
     "ccc69999bf004cdcbde3354d74c78850": {
      "model_module": "@jupyter-widgets/output",
      "model_module_version": "1.0.0",
      "model_name": "OutputModel",
      "state": {
       "layout": "IPY_MODEL_cb175f16ce6c4ed3963131b9bc9d71d4",
       "outputs": [
        {
         "data": {
          "text/html": "<div>\n<style scoped>\n    .dataframe tbody tr th:only-of-type {\n        vertical-align: middle;\n    }\n\n    .dataframe tbody tr th {\n        vertical-align: top;\n    }\n\n    .dataframe thead th {\n        text-align: right;\n    }\n</style>\n<table border=\"1\" class=\"dataframe\">\n  <thead>\n    <tr style=\"text-align: right;\">\n      <th></th>\n      <th>image_id</th>\n      <th>category_str</th>\n      <th>category_id</th>\n      <th>split</th>\n      <th>box_x_min</th>\n      <th>box_y_min</th>\n      <th>box_width</th>\n      <th>box_height</th>\n      <th>area</th>\n    </tr>\n    <tr>\n      <th>id</th>\n      <th></th>\n      <th></th>\n      <th></th>\n      <th></th>\n      <th></th>\n      <th></th>\n      <th></th>\n      <th></th>\n      <th></th>\n    </tr>\n  </thead>\n  <tbody>\n    <tr>\n      <th>460450</th>\n      <td>352582</td>\n      <td>person</td>\n      <td>1</td>\n      <td>valid</td>\n      <td>112.43</td>\n      <td>195.32</td>\n      <td>214.78</td>\n      <td>438.19</td>\n      <td>48685.6791</td>\n    </tr>\n    <tr>\n      <th>535917</th>\n      <td>352582</td>\n      <td>person</td>\n      <td>1</td>\n      <td>valid</td>\n      <td>0.00</td>\n      <td>256.00</td>\n      <td>80.54</td>\n      <td>376.81</td>\n      <td>22650.7380</td>\n    </tr>\n    <tr>\n      <th>602093</th>\n      <td>352582</td>\n      <td>frisbee</td>\n      <td>34</td>\n      <td>valid</td>\n      <td>171.63</td>\n      <td>424.03</td>\n      <td>85.89</td>\n      <td>40.67</td>\n      <td>2605.7209</td>\n    </tr>\n  </tbody>\n</table>\n</div>",
          "text/plain": "        image_id category_str  category_id  split  box_x_min  box_y_min  \\\nid                                                                        \n460450    352582       person            1  valid     112.43     195.32   \n535917    352582       person            1  valid       0.00     256.00   \n602093    352582      frisbee           34  valid     171.63     424.03   \n\n        box_width  box_height        area  \nid                                         \n460450     214.78      438.19  48685.6791  \n535917      80.54      376.81  22650.7380  \n602093      85.89       40.67   2605.7209  "
         },
         "metadata": {},
         "output_type": "display_data"
        }
       ]
      }
     },
     "ccd0c39ae0d646ff9987e51710d01995": {
      "model_module": "@jupyter-widgets/base",
      "model_module_version": "2.0.0",
      "model_name": "LayoutModel",
      "state": {}
     },
     "cda0463595624e2b80fb4a544b051fe8": {
      "model_module": "@jupyter-widgets/controls",
      "model_module_version": "2.0.0",
      "model_name": "TabModel",
      "state": {
       "children": [
        "IPY_MODEL_9fe2579380ec4ab2afa63f5f450a27b6",
        "IPY_MODEL_215230f60dc54b66975684b3962c0042",
        "IPY_MODEL_c986fa54a7fa47558c32767b5450a531"
       ],
       "layout": "IPY_MODEL_196967d5069f4d189f12628fb951211b",
       "selected_index": 0,
       "titles": [
        "Images",
        "Annotations",
        "Label Map"
       ]
      }
     },
     "cdeae99bee7c45338863518450b71d07": {
      "model_module": "@jupyter-widgets/controls",
      "model_module_version": "2.0.0",
      "model_name": "HTMLStyleModel",
      "state": {
       "description_width": "",
       "font_size": null,
       "text_color": null
      }
     },
     "d2a60949036846628bae224850cb21e5": {
      "model_module": "@jupyter-widgets/controls",
      "model_module_version": "2.0.0",
      "model_name": "TabModel",
      "state": {
       "children": [
        "IPY_MODEL_7855f691fd2d417fb13802123060f0f9",
        "IPY_MODEL_51b02e3991f24fd6b09d0dbe65efc24f",
        "IPY_MODEL_a92f13c01f914b8496025488730f1f55"
       ],
       "layout": "IPY_MODEL_ee65a2fc04d248e18e8798ea317f9557",
       "selected_index": 0,
       "titles": [
        "Images",
        "Annotations",
        "Label Map"
       ]
      }
     },
     "d38bd83f704041fa94c4b2e8a381b218": {
      "model_module": "@jupyter-widgets/controls",
      "model_module_version": "2.0.0",
      "model_name": "HTMLModel",
      "state": {
       "layout": "IPY_MODEL_dadb0f6788394aa0a94d6c7588d79522",
       "style": "IPY_MODEL_03a9542f0e794f079aad4ea10017013f",
       "value": "<p><span style='white-space: pre-wrap; font-weight: bold'>Dataset object containing 2 images and 2 objects\nName :\n\tcoco\nImages root :\n\tnotebook_data</span></p>"
      }
     },
     "d5e3a1dbf17e4f24bbac1e79e3ccea3a": {
      "model_module": "@jupyter-widgets/controls",
      "model_module_version": "2.0.0",
      "model_name": "HTMLModel",
      "state": {
       "layout": "IPY_MODEL_8b7d15b97de0461e877c1b7f01376573",
       "style": "IPY_MODEL_c1ee2b30e8c1430a91065ddc529d89e7",
       "value": "<p><span style='white-space: pre-wrap; font-weight: bold'>Dataset object containing 5,000 images and 36,781 objects\nName :\n\tcoco\nImages root :\n\tnotebook_data</span></p>"
      }
     },
     "d6baaeeb0c864af38c19897ffc3f5189": {
      "model_module": "@jupyter-widgets/output",
      "model_module_version": "1.0.0",
      "model_name": "OutputModel",
      "state": {
       "layout": "IPY_MODEL_cc92718aa17c4fdc9b519e75d09e7773",
       "outputs": [
        {
         "data": {
          "text/html": "<div>\n<style scoped>\n    .dataframe tbody tr th:only-of-type {\n        vertical-align: middle;\n    }\n\n    .dataframe tbody tr th {\n        vertical-align: top;\n    }\n\n    .dataframe thead th {\n        text-align: right;\n    }\n</style>\n<table border=\"1\" class=\"dataframe\">\n  <thead>\n    <tr style=\"text-align: right;\">\n      <th></th>\n      <th>category string</th>\n    </tr>\n    <tr>\n      <th>category_id</th>\n      <th></th>\n    </tr>\n  </thead>\n  <tbody>\n    <tr>\n      <th>1</th>\n      <td>person</td>\n    </tr>\n    <tr>\n      <th>2</th>\n      <td>bicycle</td>\n    </tr>\n    <tr>\n      <th>3</th>\n      <td>car</td>\n    </tr>\n    <tr>\n      <th>4</th>\n      <td>motorcycle</td>\n    </tr>\n    <tr>\n      <th>5</th>\n      <td>airplane</td>\n    </tr>\n    <tr>\n      <th>...</th>\n      <td>...</td>\n    </tr>\n    <tr>\n      <th>86</th>\n      <td>vase</td>\n    </tr>\n    <tr>\n      <th>87</th>\n      <td>scissors</td>\n    </tr>\n    <tr>\n      <th>88</th>\n      <td>teddy bear</td>\n    </tr>\n    <tr>\n      <th>89</th>\n      <td>hair drier</td>\n    </tr>\n    <tr>\n      <th>90</th>\n      <td>toothbrush</td>\n    </tr>\n  </tbody>\n</table>\n<p>80 rows × 1 columns</p>\n</div>",
          "text/plain": "            category string\ncategory_id                \n1                    person\n2                   bicycle\n3                       car\n4                motorcycle\n5                  airplane\n...                     ...\n86                     vase\n87                 scissors\n88               teddy bear\n89               hair drier\n90               toothbrush\n\n[80 rows x 1 columns]"
         },
         "metadata": {},
         "output_type": "display_data"
        }
       ]
      }
     },
     "d6fe810a673b4df3b2dee940a9ca2897": {
      "model_module": "@jupyter-widgets/controls",
      "model_module_version": "2.0.0",
      "model_name": "HTMLStyleModel",
      "state": {
       "description_width": "",
       "font_size": null,
       "text_color": null
      }
     },
     "d7cdaeb49f004a8dbdf16961b178f497": {
      "model_module": "@jupyter-widgets/output",
      "model_module_version": "1.0.0",
      "model_name": "OutputModel",
      "state": {
       "layout": "IPY_MODEL_24c3935dccad491d92f92a9a01fa5f37",
       "outputs": [
        {
         "data": {
          "text/html": "<div>\n<style scoped>\n    .dataframe tbody tr th:only-of-type {\n        vertical-align: middle;\n    }\n\n    .dataframe tbody tr th {\n        vertical-align: top;\n    }\n\n    .dataframe thead th {\n        text-align: right;\n    }\n</style>\n<table border=\"1\" class=\"dataframe\">\n  <thead>\n    <tr style=\"text-align: right;\">\n      <th></th>\n      <th>width</th>\n      <th>height</th>\n      <th>relative_path</th>\n      <th>type</th>\n      <th>split</th>\n    </tr>\n    <tr>\n      <th>id</th>\n      <th></th>\n      <th></th>\n      <th></th>\n      <th></th>\n      <th></th>\n    </tr>\n  </thead>\n  <tbody>\n    <tr>\n      <th>352582</th>\n      <td>425</td>\n      <td>640</td>\n      <td>Images/valid/000000352582.jpg</td>\n      <td>.jpg</td>\n      <td>valid</td>\n    </tr>\n    <tr>\n      <th>113354</th>\n      <td>640</td>\n      <td>480</td>\n      <td>Images/valid/000000113354.jpg</td>\n      <td>.jpg</td>\n      <td>valid</td>\n    </tr>\n    <tr>\n      <th>58393</th>\n      <td>640</td>\n      <td>486</td>\n      <td>Images/valid/000000058393.jpg</td>\n      <td>.jpg</td>\n      <td>valid</td>\n    </tr>\n    <tr>\n      <th>147729</th>\n      <td>500</td>\n      <td>375</td>\n      <td>Images/valid/000000147729.jpg</td>\n      <td>.jpg</td>\n      <td>valid</td>\n    </tr>\n    <tr>\n      <th>310072</th>\n      <td>640</td>\n      <td>383</td>\n      <td>Images/valid/000000310072.jpg</td>\n      <td>.jpg</td>\n      <td>valid</td>\n    </tr>\n    <tr>\n      <th>...</th>\n      <td>...</td>\n      <td>...</td>\n      <td>...</td>\n      <td>...</td>\n      <td>...</td>\n    </tr>\n    <tr>\n      <th>311180</th>\n      <td>480</td>\n      <td>640</td>\n      <td>Images/valid/000000311180.jpg</td>\n      <td>.jpg</td>\n      <td>valid</td>\n    </tr>\n    <tr>\n      <th>302030</th>\n      <td>640</td>\n      <td>359</td>\n      <td>Images/valid/000000302030.jpg</td>\n      <td>.jpg</td>\n      <td>valid</td>\n    </tr>\n    <tr>\n      <th>105455</th>\n      <td>427</td>\n      <td>640</td>\n      <td>Images/valid/000000105455.jpg</td>\n      <td>.jpg</td>\n      <td>valid</td>\n    </tr>\n    <tr>\n      <th>428280</th>\n      <td>500</td>\n      <td>333</td>\n      <td>Images/valid/000000428280.jpg</td>\n      <td>.jpg</td>\n      <td>valid</td>\n    </tr>\n    <tr>\n      <th>349837</th>\n      <td>500</td>\n      <td>333</td>\n      <td>Images/valid/000000349837.jpg</td>\n      <td>.jpg</td>\n      <td>valid</td>\n    </tr>\n  </tbody>\n</table>\n<p>5000 rows × 5 columns</p>\n</div>",
          "text/plain": "        width  height                  relative_path  type  split\nid                                                               \n352582    425     640  Images/valid/000000352582.jpg  .jpg  valid\n113354    640     480  Images/valid/000000113354.jpg  .jpg  valid\n58393     640     486  Images/valid/000000058393.jpg  .jpg  valid\n147729    500     375  Images/valid/000000147729.jpg  .jpg  valid\n310072    640     383  Images/valid/000000310072.jpg  .jpg  valid\n...       ...     ...                            ...   ...    ...\n311180    480     640  Images/valid/000000311180.jpg  .jpg  valid\n302030    640     359  Images/valid/000000302030.jpg  .jpg  valid\n105455    427     640  Images/valid/000000105455.jpg  .jpg  valid\n428280    500     333  Images/valid/000000428280.jpg  .jpg  valid\n349837    500     333  Images/valid/000000349837.jpg  .jpg  valid\n\n[5000 rows x 5 columns]"
         },
         "metadata": {},
         "output_type": "display_data"
        }
       ]
      }
     },
     "d89a9273a3264bdc8aaeac981e15bd3b": {
      "model_module": "@jupyter-widgets/base",
      "model_module_version": "2.0.0",
      "model_name": "LayoutModel",
      "state": {}
     },
     "d8da17be643c4a63813fb457a14bd259": {
      "model_module": "@jupyter-widgets/output",
      "model_module_version": "1.0.0",
      "model_name": "OutputModel",
      "state": {
       "layout": "IPY_MODEL_7c3f6d4e80634978b877f69ba9e8e026",
       "outputs": [
        {
         "data": {
          "text/html": "<div>\n<style scoped>\n    .dataframe tbody tr th:only-of-type {\n        vertical-align: middle;\n    }\n\n    .dataframe tbody tr th {\n        vertical-align: top;\n    }\n\n    .dataframe thead th {\n        text-align: right;\n    }\n</style>\n<table border=\"1\" class=\"dataframe\">\n  <thead>\n    <tr style=\"text-align: right;\">\n      <th></th>\n      <th>image_id</th>\n      <th>category_str</th>\n      <th>category_id</th>\n      <th>split</th>\n      <th>box_x_min</th>\n      <th>box_y_min</th>\n      <th>box_width</th>\n      <th>box_height</th>\n      <th>area</th>\n    </tr>\n    <tr>\n      <th>id</th>\n      <th></th>\n      <th></th>\n      <th></th>\n      <th></th>\n      <th></th>\n      <th></th>\n      <th></th>\n      <th></th>\n      <th></th>\n    </tr>\n  </thead>\n  <tbody>\n  </tbody>\n</table>\n</div>",
          "text/plain": "Empty DataFrame\nColumns: [image_id, category_str, category_id, split, box_x_min, box_y_min, box_width, box_height, area]\nIndex: []"
         },
         "metadata": {},
         "output_type": "display_data"
        }
       ]
      }
     },
     "d9593d212484414b8ba57837f931a0f8": {
      "model_module": "@jupyter-widgets/base",
      "model_module_version": "2.0.0",
      "model_name": "LayoutModel",
      "state": {}
     },
     "d9b40f57cb824239b65cd0e1c09fc5c6": {
      "model_module": "@jupyter-widgets/base",
      "model_module_version": "2.0.0",
      "model_name": "LayoutModel",
      "state": {}
     },
     "d9c58b82617642ef812454748838b5f1": {
      "model_module": "@jupyter-widgets/base",
      "model_module_version": "2.0.0",
      "model_name": "LayoutModel",
      "state": {}
     },
     "dabce91a4a4b454dabeb9c3a486c0d43": {
      "model_module": "@jupyter-widgets/output",
      "model_module_version": "1.0.0",
      "model_name": "OutputModel",
      "state": {
       "layout": "IPY_MODEL_b189ddb82297439bb62349d10e0b8c8c",
       "outputs": [
        {
         "data": {
          "text/html": "<div>\n<style scoped>\n    .dataframe tbody tr th:only-of-type {\n        vertical-align: middle;\n    }\n\n    .dataframe tbody tr th {\n        vertical-align: top;\n    }\n\n    .dataframe thead th {\n        text-align: right;\n    }\n</style>\n<table border=\"1\" class=\"dataframe\">\n  <thead>\n    <tr style=\"text-align: right;\">\n      <th></th>\n      <th>category string</th>\n    </tr>\n    <tr>\n      <th>category_id</th>\n      <th></th>\n    </tr>\n  </thead>\n  <tbody>\n    <tr>\n      <th>1</th>\n      <td>person</td>\n    </tr>\n    <tr>\n      <th>2</th>\n      <td>bicycle</td>\n    </tr>\n    <tr>\n      <th>3</th>\n      <td>car</td>\n    </tr>\n    <tr>\n      <th>4</th>\n      <td>motorcycle</td>\n    </tr>\n    <tr>\n      <th>5</th>\n      <td>airplane</td>\n    </tr>\n    <tr>\n      <th>...</th>\n      <td>...</td>\n    </tr>\n    <tr>\n      <th>86</th>\n      <td>vase</td>\n    </tr>\n    <tr>\n      <th>87</th>\n      <td>scissors</td>\n    </tr>\n    <tr>\n      <th>88</th>\n      <td>teddy bear</td>\n    </tr>\n    <tr>\n      <th>89</th>\n      <td>hair drier</td>\n    </tr>\n    <tr>\n      <th>90</th>\n      <td>toothbrush</td>\n    </tr>\n  </tbody>\n</table>\n<p>80 rows × 1 columns</p>\n</div>",
          "text/plain": "            category string\ncategory_id                \n1                    person\n2                   bicycle\n3                       car\n4                motorcycle\n5                  airplane\n...                     ...\n86                     vase\n87                 scissors\n88               teddy bear\n89               hair drier\n90               toothbrush\n\n[80 rows x 1 columns]"
         },
         "metadata": {},
         "output_type": "display_data"
        }
       ]
      }
     },
     "dadb0f6788394aa0a94d6c7588d79522": {
      "model_module": "@jupyter-widgets/base",
      "model_module_version": "2.0.0",
      "model_name": "LayoutModel",
      "state": {}
     },
     "db244fd778374cd9a420b62f45288859": {
      "model_module": "@jupyter-widgets/base",
      "model_module_version": "2.0.0",
      "model_name": "LayoutModel",
      "state": {}
     },
     "dba7cb9df18749acb55c70e3e98d0170": {
      "model_module": "@jupyter-widgets/base",
      "model_module_version": "2.0.0",
      "model_name": "LayoutModel",
      "state": {}
     },
     "dd35663bc1bb459985d75e20a0f2885d": {
      "model_module": "@jupyter-widgets/base",
      "model_module_version": "2.0.0",
      "model_name": "LayoutModel",
      "state": {}
     },
     "de540a7ac8634e82ac874e14cb8ee255": {
      "model_module": "@jupyter-widgets/output",
      "model_module_version": "1.0.0",
      "model_name": "OutputModel",
      "state": {
       "layout": "IPY_MODEL_bf056b3aad2f4866a73886e0a2548fc2",
       "outputs": [
        {
         "data": {
          "text/html": "<div>\n<style scoped>\n    .dataframe tbody tr th:only-of-type {\n        vertical-align: middle;\n    }\n\n    .dataframe tbody tr th {\n        vertical-align: top;\n    }\n\n    .dataframe thead th {\n        text-align: right;\n    }\n</style>\n<table border=\"1\" class=\"dataframe\">\n  <thead>\n    <tr style=\"text-align: right;\">\n      <th></th>\n      <th>width</th>\n      <th>height</th>\n      <th>relative_path</th>\n      <th>type</th>\n      <th>split</th>\n    </tr>\n    <tr>\n      <th>id</th>\n      <th></th>\n      <th></th>\n      <th></th>\n      <th></th>\n      <th></th>\n    </tr>\n  </thead>\n  <tbody>\n    <tr>\n      <th>352582</th>\n      <td>425</td>\n      <td>640</td>\n      <td>Images/valid/000000352582.jpg</td>\n      <td>.jpg</td>\n      <td>valid</td>\n    </tr>\n    <tr>\n      <th>113354</th>\n      <td>640</td>\n      <td>480</td>\n      <td>Images/valid/000000113354.jpg</td>\n      <td>.jpg</td>\n      <td>valid</td>\n    </tr>\n    <tr>\n      <th>58393</th>\n      <td>640</td>\n      <td>486</td>\n      <td>Images/valid/000000058393.jpg</td>\n      <td>.jpg</td>\n      <td>valid</td>\n    </tr>\n    <tr>\n      <th>147729</th>\n      <td>500</td>\n      <td>375</td>\n      <td>Images/valid/000000147729.jpg</td>\n      <td>.jpg</td>\n      <td>valid</td>\n    </tr>\n    <tr>\n      <th>310072</th>\n      <td>640</td>\n      <td>383</td>\n      <td>Images/valid/000000310072.jpg</td>\n      <td>.jpg</td>\n      <td>valid</td>\n    </tr>\n    <tr>\n      <th>...</th>\n      <td>...</td>\n      <td>...</td>\n      <td>...</td>\n      <td>...</td>\n      <td>...</td>\n    </tr>\n    <tr>\n      <th>311180</th>\n      <td>480</td>\n      <td>640</td>\n      <td>Images/valid/000000311180.jpg</td>\n      <td>.jpg</td>\n      <td>valid</td>\n    </tr>\n    <tr>\n      <th>302030</th>\n      <td>640</td>\n      <td>359</td>\n      <td>Images/valid/000000302030.jpg</td>\n      <td>.jpg</td>\n      <td>valid</td>\n    </tr>\n    <tr>\n      <th>105455</th>\n      <td>427</td>\n      <td>640</td>\n      <td>Images/valid/000000105455.jpg</td>\n      <td>.jpg</td>\n      <td>valid</td>\n    </tr>\n    <tr>\n      <th>428280</th>\n      <td>500</td>\n      <td>333</td>\n      <td>Images/valid/000000428280.jpg</td>\n      <td>.jpg</td>\n      <td>valid</td>\n    </tr>\n    <tr>\n      <th>349837</th>\n      <td>500</td>\n      <td>333</td>\n      <td>Images/valid/000000349837.jpg</td>\n      <td>.jpg</td>\n      <td>valid</td>\n    </tr>\n  </tbody>\n</table>\n<p>5000 rows × 5 columns</p>\n</div>",
          "text/plain": "        width  height                  relative_path  type  split\nid                                                               \n352582    425     640  Images/valid/000000352582.jpg  .jpg  valid\n113354    640     480  Images/valid/000000113354.jpg  .jpg  valid\n58393     640     486  Images/valid/000000058393.jpg  .jpg  valid\n147729    500     375  Images/valid/000000147729.jpg  .jpg  valid\n310072    640     383  Images/valid/000000310072.jpg  .jpg  valid\n...       ...     ...                            ...   ...    ...\n311180    480     640  Images/valid/000000311180.jpg  .jpg  valid\n302030    640     359  Images/valid/000000302030.jpg  .jpg  valid\n105455    427     640  Images/valid/000000105455.jpg  .jpg  valid\n428280    500     333  Images/valid/000000428280.jpg  .jpg  valid\n349837    500     333  Images/valid/000000349837.jpg  .jpg  valid\n\n[5000 rows x 5 columns]"
         },
         "metadata": {},
         "output_type": "display_data"
        }
       ]
      }
     },
     "deed7abbfb4942c1bc39b66fb3b7efe4": {
      "model_module": "@jupyter-widgets/base",
      "model_module_version": "2.0.0",
      "model_name": "LayoutModel",
      "state": {}
     },
     "df046193ac084c8c98cdfa41744e9f6a": {
      "model_module": "@jupyter-widgets/controls",
      "model_module_version": "2.0.0",
      "model_name": "HTMLModel",
      "state": {
       "layout": "IPY_MODEL_63b646f5fe4b44e5a9eb540679b38179",
       "style": "IPY_MODEL_3209edc462354a22a7d772253934a13c",
       "value": "<p><span style='white-space: pre-wrap; font-weight: bold'>Dataset object containing 5,000 images and 36,781 objects\nName :\n\tcoco\nImages root :\n\tnotebook_data</span></p>"
      }
     },
     "df16b3e64151406f8c3c36f3c8b766ff": {
      "model_module": "@jupyter-widgets/controls",
      "model_module_version": "2.0.0",
      "model_name": "VBoxModel",
      "state": {
       "children": [
        "IPY_MODEL_b39364cbbf6b4a91af4b560782c16676",
        "IPY_MODEL_78b68e6794c840619e4f1949ebeace98"
       ],
       "layout": "IPY_MODEL_160d21b7b91544a69bd0ec984366f70e"
      }
     },
     "e10607eb5ef04569a4c9a797967b2da8": {
      "model_module": "@jupyter-widgets/base",
      "model_module_version": "2.0.0",
      "model_name": "LayoutModel",
      "state": {}
     },
     "e2d3753a75aa4fb1924f269175afeeab": {
      "model_module": "@jupyter-widgets/base",
      "model_module_version": "2.0.0",
      "model_name": "LayoutModel",
      "state": {}
     },
     "e345619f1ff841aeb526c74d4a9afa99": {
      "model_module": "@jupyter-widgets/base",
      "model_module_version": "2.0.0",
      "model_name": "LayoutModel",
      "state": {}
     },
     "e7dc427815dc4f14ba367e6f6e37a129": {
      "model_module": "@jupyter-widgets/base",
      "model_module_version": "2.0.0",
      "model_name": "LayoutModel",
      "state": {}
     },
     "e7ea818c8348466b9b548a435e1af377": {
      "model_module": "@jupyter-widgets/base",
      "model_module_version": "2.0.0",
      "model_name": "LayoutModel",
      "state": {}
     },
     "e82f91fa62f44f708868b2c85acde7b1": {
      "model_module": "@jupyter-widgets/base",
      "model_module_version": "2.0.0",
      "model_name": "LayoutModel",
      "state": {}
     },
     "ea17d1aba9cb4d4cac2d795b5295c04c": {
      "model_module": "@jupyter-widgets/base",
      "model_module_version": "2.0.0",
      "model_name": "LayoutModel",
      "state": {}
     },
     "ea276594fe214985ae130d548ca3874a": {
      "model_module": "@jupyter-widgets/base",
      "model_module_version": "2.0.0",
      "model_name": "LayoutModel",
      "state": {}
     },
     "ea3aef7e74fd4993a10850c12aa9ef62": {
      "model_module": "@jupyter-widgets/controls",
      "model_module_version": "2.0.0",
      "model_name": "VBoxModel",
      "state": {
       "children": [
        "IPY_MODEL_f9cc155120424502aaf9267336ce1ae1",
        "IPY_MODEL_550e373b38a54c63974397f70115ae35"
       ],
       "layout": "IPY_MODEL_5fb86192340c4526a85900dff25de564"
      }
     },
     "ea8cea5708c2485c9e3df8088c556f5c": {
      "model_module": "@jupyter-widgets/controls",
      "model_module_version": "2.0.0",
      "model_name": "HTMLModel",
      "state": {
       "layout": "IPY_MODEL_b5454727f531449daeee78ba0af3a2ec",
       "style": "IPY_MODEL_fec8054bf05b46a3a571f7d52a80ea4b",
       "value": "<p><span style='white-space: pre-wrap; font-weight: bold'>Dataset object containing 1 image and 3 objects\nName :\n\tcoco\nImages root :\n\tnotebook_data</span></p>"
      }
     },
     "eb29c47be0b14b9dbbeebf180e3c7c02": {
      "model_module": "@jupyter-widgets/base",
      "model_module_version": "2.0.0",
      "model_name": "LayoutModel",
      "state": {}
     },
     "ec10a02b68d543e2a7202f4f193def5c": {
      "model_module": "@jupyter-widgets/output",
      "model_module_version": "1.0.0",
      "model_name": "OutputModel",
      "state": {
       "layout": "IPY_MODEL_a31aecdc64ab40a5ba5b7779bcf4a93b",
       "outputs": [
        {
         "data": {
          "text/html": "<div>\n<style scoped>\n    .dataframe tbody tr th:only-of-type {\n        vertical-align: middle;\n    }\n\n    .dataframe tbody tr th {\n        vertical-align: top;\n    }\n\n    .dataframe thead th {\n        text-align: right;\n    }\n</style>\n<table border=\"1\" class=\"dataframe\">\n  <thead>\n    <tr style=\"text-align: right;\">\n      <th></th>\n      <th>category string</th>\n    </tr>\n    <tr>\n      <th>category_id</th>\n      <th></th>\n    </tr>\n  </thead>\n  <tbody>\n    <tr>\n      <th>1</th>\n      <td>person</td>\n    </tr>\n    <tr>\n      <th>2</th>\n      <td>bicycle</td>\n    </tr>\n    <tr>\n      <th>3</th>\n      <td>car</td>\n    </tr>\n    <tr>\n      <th>4</th>\n      <td>motorcycle</td>\n    </tr>\n    <tr>\n      <th>5</th>\n      <td>airplane</td>\n    </tr>\n    <tr>\n      <th>...</th>\n      <td>...</td>\n    </tr>\n    <tr>\n      <th>86</th>\n      <td>vase</td>\n    </tr>\n    <tr>\n      <th>87</th>\n      <td>scissors</td>\n    </tr>\n    <tr>\n      <th>88</th>\n      <td>teddy bear</td>\n    </tr>\n    <tr>\n      <th>89</th>\n      <td>hair drier</td>\n    </tr>\n    <tr>\n      <th>90</th>\n      <td>toothbrush</td>\n    </tr>\n  </tbody>\n</table>\n<p>80 rows × 1 columns</p>\n</div>",
          "text/plain": "            category string\ncategory_id                \n1                    person\n2                   bicycle\n3                       car\n4                motorcycle\n5                  airplane\n...                     ...\n86                     vase\n87                 scissors\n88               teddy bear\n89               hair drier\n90               toothbrush\n\n[80 rows x 1 columns]"
         },
         "metadata": {},
         "output_type": "display_data"
        }
       ]
      }
     },
     "ecc7c3f906844b789a62761ee82aeaa9": {
      "model_module": "@jupyter-widgets/output",
      "model_module_version": "1.0.0",
      "model_name": "OutputModel",
      "state": {
       "layout": "IPY_MODEL_6ec0501159b94ca7aaeac2588c2e0a9e",
       "outputs": [
        {
         "data": {
          "text/html": "<div>\n<style scoped>\n    .dataframe tbody tr th:only-of-type {\n        vertical-align: middle;\n    }\n\n    .dataframe tbody tr th {\n        vertical-align: top;\n    }\n\n    .dataframe thead th {\n        text-align: right;\n    }\n</style>\n<table border=\"1\" class=\"dataframe\">\n  <thead>\n    <tr style=\"text-align: right;\">\n      <th></th>\n      <th>width</th>\n      <th>height</th>\n      <th>relative_path</th>\n      <th>type</th>\n      <th>split</th>\n    </tr>\n    <tr>\n      <th>id</th>\n      <th></th>\n      <th></th>\n      <th></th>\n      <th></th>\n      <th></th>\n    </tr>\n  </thead>\n  <tbody>\n    <tr>\n      <th>352582</th>\n      <td>425</td>\n      <td>640</td>\n      <td>Images/valid/000000352582.jpg</td>\n      <td>.jpg</td>\n      <td>valid</td>\n    </tr>\n    <tr>\n      <th>113354</th>\n      <td>640</td>\n      <td>480</td>\n      <td>Images/valid/000000113354.jpg</td>\n      <td>.jpg</td>\n      <td>valid</td>\n    </tr>\n    <tr>\n      <th>58393</th>\n      <td>640</td>\n      <td>486</td>\n      <td>Images/valid/000000058393.jpg</td>\n      <td>.jpg</td>\n      <td>valid</td>\n    </tr>\n    <tr>\n      <th>147729</th>\n      <td>500</td>\n      <td>375</td>\n      <td>Images/valid/000000147729.jpg</td>\n      <td>.jpg</td>\n      <td>valid</td>\n    </tr>\n    <tr>\n      <th>310072</th>\n      <td>640</td>\n      <td>383</td>\n      <td>Images/valid/000000310072.jpg</td>\n      <td>.jpg</td>\n      <td>valid</td>\n    </tr>\n    <tr>\n      <th>...</th>\n      <td>...</td>\n      <td>...</td>\n      <td>...</td>\n      <td>...</td>\n      <td>...</td>\n    </tr>\n    <tr>\n      <th>311180</th>\n      <td>480</td>\n      <td>640</td>\n      <td>Images/valid/000000311180.jpg</td>\n      <td>.jpg</td>\n      <td>valid</td>\n    </tr>\n    <tr>\n      <th>302030</th>\n      <td>640</td>\n      <td>359</td>\n      <td>Images/valid/000000302030.jpg</td>\n      <td>.jpg</td>\n      <td>valid</td>\n    </tr>\n    <tr>\n      <th>105455</th>\n      <td>427</td>\n      <td>640</td>\n      <td>Images/valid/000000105455.jpg</td>\n      <td>.jpg</td>\n      <td>valid</td>\n    </tr>\n    <tr>\n      <th>428280</th>\n      <td>500</td>\n      <td>333</td>\n      <td>Images/valid/000000428280.jpg</td>\n      <td>.jpg</td>\n      <td>valid</td>\n    </tr>\n    <tr>\n      <th>349837</th>\n      <td>500</td>\n      <td>333</td>\n      <td>Images/valid/000000349837.jpg</td>\n      <td>.jpg</td>\n      <td>valid</td>\n    </tr>\n  </tbody>\n</table>\n<p>4722 rows × 5 columns</p>\n</div>",
          "text/plain": "        width  height                  relative_path  type  split\nid                                                               \n352582    425     640  Images/valid/000000352582.jpg  .jpg  valid\n113354    640     480  Images/valid/000000113354.jpg  .jpg  valid\n58393     640     486  Images/valid/000000058393.jpg  .jpg  valid\n147729    500     375  Images/valid/000000147729.jpg  .jpg  valid\n310072    640     383  Images/valid/000000310072.jpg  .jpg  valid\n...       ...     ...                            ...   ...    ...\n311180    480     640  Images/valid/000000311180.jpg  .jpg  valid\n302030    640     359  Images/valid/000000302030.jpg  .jpg  valid\n105455    427     640  Images/valid/000000105455.jpg  .jpg  valid\n428280    500     333  Images/valid/000000428280.jpg  .jpg  valid\n349837    500     333  Images/valid/000000349837.jpg  .jpg  valid\n\n[4722 rows x 5 columns]"
         },
         "metadata": {},
         "output_type": "display_data"
        }
       ]
      }
     },
     "ecd7d7225e2840839e4dd5c06d2928ac": {
      "model_module": "@jupyter-widgets/controls",
      "model_module_version": "2.0.0",
      "model_name": "TabModel",
      "state": {
       "children": [
        "IPY_MODEL_f5bc91bf4a9a43e085d27ce6c37f462a",
        "IPY_MODEL_1ffadd66d4824428bf4bd02321a8baf0",
        "IPY_MODEL_2d7db77130b54cafb143a1b7c507fa71"
       ],
       "layout": "IPY_MODEL_f7009f2f215643cb9acae7c654699e36",
       "selected_index": 0,
       "titles": [
        "Images",
        "Annotations",
        "Label Map"
       ]
      }
     },
     "ecf576b29a014db481e9829081b09c68": {
      "model_module": "@jupyter-widgets/output",
      "model_module_version": "1.0.0",
      "model_name": "OutputModel",
      "state": {
       "layout": "IPY_MODEL_bc405de6314442108a926ea56be3411f",
       "outputs": [
        {
         "data": {
          "text/html": "<div>\n<style scoped>\n    .dataframe tbody tr th:only-of-type {\n        vertical-align: middle;\n    }\n\n    .dataframe tbody tr th {\n        vertical-align: top;\n    }\n\n    .dataframe thead th {\n        text-align: right;\n    }\n</style>\n<table border=\"1\" class=\"dataframe\">\n  <thead>\n    <tr style=\"text-align: right;\">\n      <th></th>\n      <th>width</th>\n      <th>height</th>\n      <th>relative_path</th>\n      <th>type</th>\n      <th>split</th>\n    </tr>\n    <tr>\n      <th>id</th>\n      <th></th>\n      <th></th>\n      <th></th>\n      <th></th>\n      <th></th>\n    </tr>\n  </thead>\n  <tbody>\n    <tr>\n      <th>10</th>\n      <td>640</td>\n      <td>426</td>\n      <td>Images/valid/000000000139.jpg</td>\n      <td>.jpg</td>\n      <td>valid</td>\n    </tr>\n    <tr>\n      <th>11</th>\n      <td>586</td>\n      <td>640</td>\n      <td>Images/valid/000000000285.jpg</td>\n      <td>.jpg</td>\n      <td>valid</td>\n    </tr>\n    <tr>\n      <th>12</th>\n      <td>640</td>\n      <td>483</td>\n      <td>Images/valid/000000000632.jpg</td>\n      <td>.jpg</td>\n      <td>valid</td>\n    </tr>\n    <tr>\n      <th>13</th>\n      <td>375</td>\n      <td>500</td>\n      <td>Images/valid/000000000724.jpg</td>\n      <td>.jpg</td>\n      <td>valid</td>\n    </tr>\n    <tr>\n      <th>14</th>\n      <td>428</td>\n      <td>640</td>\n      <td>Images/valid/000000000776.jpg</td>\n      <td>.jpg</td>\n      <td>valid</td>\n    </tr>\n    <tr>\n      <th>...</th>\n      <td>...</td>\n      <td>...</td>\n      <td>...</td>\n      <td>...</td>\n      <td>...</td>\n    </tr>\n    <tr>\n      <th>5005</th>\n      <td>640</td>\n      <td>354</td>\n      <td>Images/valid/000000581317.jpg</td>\n      <td>.jpg</td>\n      <td>valid</td>\n    </tr>\n    <tr>\n      <th>5006</th>\n      <td>612</td>\n      <td>612</td>\n      <td>Images/valid/000000581357.jpg</td>\n      <td>.jpg</td>\n      <td>valid</td>\n    </tr>\n    <tr>\n      <th>5007</th>\n      <td>640</td>\n      <td>427</td>\n      <td>Images/valid/000000581482.jpg</td>\n      <td>.jpg</td>\n      <td>valid</td>\n    </tr>\n    <tr>\n      <th>5008</th>\n      <td>478</td>\n      <td>640</td>\n      <td>Images/valid/000000581615.jpg</td>\n      <td>.jpg</td>\n      <td>valid</td>\n    </tr>\n    <tr>\n      <th>5009</th>\n      <td>640</td>\n      <td>478</td>\n      <td>Images/valid/000000581781.jpg</td>\n      <td>.jpg</td>\n      <td>valid</td>\n    </tr>\n  </tbody>\n</table>\n<p>5000 rows × 5 columns</p>\n</div>",
          "text/plain": "      width  height                  relative_path  type  split\nid                                                             \n10      640     426  Images/valid/000000000139.jpg  .jpg  valid\n11      586     640  Images/valid/000000000285.jpg  .jpg  valid\n12      640     483  Images/valid/000000000632.jpg  .jpg  valid\n13      375     500  Images/valid/000000000724.jpg  .jpg  valid\n14      428     640  Images/valid/000000000776.jpg  .jpg  valid\n...     ...     ...                            ...   ...    ...\n5005    640     354  Images/valid/000000581317.jpg  .jpg  valid\n5006    612     612  Images/valid/000000581357.jpg  .jpg  valid\n5007    640     427  Images/valid/000000581482.jpg  .jpg  valid\n5008    478     640  Images/valid/000000581615.jpg  .jpg  valid\n5009    640     478  Images/valid/000000581781.jpg  .jpg  valid\n\n[5000 rows x 5 columns]"
         },
         "metadata": {},
         "output_type": "display_data"
        }
       ]
      }
     },
     "ee65a2fc04d248e18e8798ea317f9557": {
      "model_module": "@jupyter-widgets/base",
      "model_module_version": "2.0.0",
      "model_name": "LayoutModel",
      "state": {}
     },
     "f1a4502ebbd14377b5b5f6c34f45482f": {
      "model_module": "@jupyter-widgets/base",
      "model_module_version": "2.0.0",
      "model_name": "LayoutModel",
      "state": {}
     },
     "f1b510f4d8bb4bba8ad06e2e2a53619f": {
      "model_module": "@jupyter-widgets/base",
      "model_module_version": "2.0.0",
      "model_name": "LayoutModel",
      "state": {}
     },
     "f2276d30d3b548dbbec09aca7a954f7b": {
      "model_module": "@jupyter-widgets/base",
      "model_module_version": "2.0.0",
      "model_name": "LayoutModel",
      "state": {}
     },
     "f288611e5cda425387ea6350e30e1af2": {
      "model_module": "@jupyter-widgets/output",
      "model_module_version": "1.0.0",
      "model_name": "OutputModel",
      "state": {
       "layout": "IPY_MODEL_7967dc587bfc4f6a929cd6958633f189",
       "outputs": [
        {
         "data": {
          "text/html": "<div>\n<style scoped>\n    .dataframe tbody tr th:only-of-type {\n        vertical-align: middle;\n    }\n\n    .dataframe tbody tr th {\n        vertical-align: top;\n    }\n\n    .dataframe thead th {\n        text-align: right;\n    }\n</style>\n<table border=\"1\" class=\"dataframe\">\n  <thead>\n    <tr style=\"text-align: right;\">\n      <th></th>\n      <th>width</th>\n      <th>height</th>\n      <th>relative_path</th>\n      <th>type</th>\n      <th>split</th>\n    </tr>\n    <tr>\n      <th>id</th>\n      <th></th>\n      <th></th>\n      <th></th>\n      <th></th>\n      <th></th>\n    </tr>\n  </thead>\n  <tbody>\n    <tr>\n      <th>352582</th>\n      <td>425</td>\n      <td>640</td>\n      <td>Images/valid/000000352582.jpg</td>\n      <td>.jpg</td>\n      <td>valid</td>\n    </tr>\n  </tbody>\n</table>\n</div>",
          "text/plain": "        width  height                  relative_path  type  split\nid                                                               \n352582    425     640  Images/valid/000000352582.jpg  .jpg  valid"
         },
         "metadata": {},
         "output_type": "display_data"
        }
       ]
      }
     },
     "f29e02fa480a4e51b63c85f5a07560dc": {
      "model_module": "@jupyter-widgets/controls",
      "model_module_version": "2.0.0",
      "model_name": "HTMLStyleModel",
      "state": {
       "description_width": "",
       "font_size": null,
       "text_color": null
      }
     },
     "f2c0045fe58b43f59f4729a0edddcbdd": {
      "model_module": "@jupyter-widgets/base",
      "model_module_version": "2.0.0",
      "model_name": "LayoutModel",
      "state": {}
     },
     "f32c7f63262042e18b56852b902d40c0": {
      "model_module": "@jupyter-widgets/base",
      "model_module_version": "2.0.0",
      "model_name": "LayoutModel",
      "state": {}
     },
     "f3b91b3242c840a7891a3d9c2f89fb51": {
      "model_module": "@jupyter-widgets/base",
      "model_module_version": "2.0.0",
      "model_name": "LayoutModel",
      "state": {}
     },
     "f5bc91bf4a9a43e085d27ce6c37f462a": {
      "model_module": "@jupyter-widgets/output",
      "model_module_version": "1.0.0",
      "model_name": "OutputModel",
      "state": {
       "layout": "IPY_MODEL_faba574fc64a47609236f420e3c1a5be",
       "outputs": [
        {
         "data": {
          "text/html": "<div>\n<style scoped>\n    .dataframe tbody tr th:only-of-type {\n        vertical-align: middle;\n    }\n\n    .dataframe tbody tr th {\n        vertical-align: top;\n    }\n\n    .dataframe thead th {\n        text-align: right;\n    }\n</style>\n<table border=\"1\" class=\"dataframe\">\n  <thead>\n    <tr style=\"text-align: right;\">\n      <th></th>\n      <th>width</th>\n      <th>height</th>\n      <th>relative_path</th>\n      <th>type</th>\n      <th>split</th>\n    </tr>\n    <tr>\n      <th>id</th>\n      <th></th>\n      <th></th>\n      <th></th>\n      <th></th>\n      <th></th>\n    </tr>\n  </thead>\n  <tbody>\n    <tr>\n      <th>352582</th>\n      <td>425</td>\n      <td>640</td>\n      <td>Images/valid/000000352582.jpg</td>\n      <td>.jpg</td>\n      <td>valid</td>\n    </tr>\n    <tr>\n      <th>113354</th>\n      <td>640</td>\n      <td>480</td>\n      <td>Images/valid/000000113354.jpg</td>\n      <td>.jpg</td>\n      <td>valid</td>\n    </tr>\n    <tr>\n      <th>58393</th>\n      <td>640</td>\n      <td>486</td>\n      <td>Images/valid/000000058393.jpg</td>\n      <td>.jpg</td>\n      <td>valid</td>\n    </tr>\n    <tr>\n      <th>147729</th>\n      <td>500</td>\n      <td>375</td>\n      <td>Images/valid/000000147729.jpg</td>\n      <td>.jpg</td>\n      <td>valid</td>\n    </tr>\n    <tr>\n      <th>310072</th>\n      <td>640</td>\n      <td>383</td>\n      <td>Images/valid/000000310072.jpg</td>\n      <td>.jpg</td>\n      <td>valid</td>\n    </tr>\n    <tr>\n      <th>...</th>\n      <td>...</td>\n      <td>...</td>\n      <td>...</td>\n      <td>...</td>\n      <td>...</td>\n    </tr>\n    <tr>\n      <th>311180</th>\n      <td>480</td>\n      <td>640</td>\n      <td>Images/valid/000000311180.jpg</td>\n      <td>.jpg</td>\n      <td>valid</td>\n    </tr>\n    <tr>\n      <th>302030</th>\n      <td>640</td>\n      <td>359</td>\n      <td>Images/valid/000000302030.jpg</td>\n      <td>.jpg</td>\n      <td>valid</td>\n    </tr>\n    <tr>\n      <th>105455</th>\n      <td>427</td>\n      <td>640</td>\n      <td>Images/valid/000000105455.jpg</td>\n      <td>.jpg</td>\n      <td>valid</td>\n    </tr>\n    <tr>\n      <th>428280</th>\n      <td>500</td>\n      <td>333</td>\n      <td>Images/valid/000000428280.jpg</td>\n      <td>.jpg</td>\n      <td>valid</td>\n    </tr>\n    <tr>\n      <th>349837</th>\n      <td>500</td>\n      <td>333</td>\n      <td>Images/valid/000000349837.jpg</td>\n      <td>.jpg</td>\n      <td>valid</td>\n    </tr>\n  </tbody>\n</table>\n<p>5000 rows × 5 columns</p>\n</div>",
          "text/plain": "        width  height                  relative_path  type  split\nid                                                               \n352582    425     640  Images/valid/000000352582.jpg  .jpg  valid\n113354    640     480  Images/valid/000000113354.jpg  .jpg  valid\n58393     640     486  Images/valid/000000058393.jpg  .jpg  valid\n147729    500     375  Images/valid/000000147729.jpg  .jpg  valid\n310072    640     383  Images/valid/000000310072.jpg  .jpg  valid\n...       ...     ...                            ...   ...    ...\n311180    480     640  Images/valid/000000311180.jpg  .jpg  valid\n302030    640     359  Images/valid/000000302030.jpg  .jpg  valid\n105455    427     640  Images/valid/000000105455.jpg  .jpg  valid\n428280    500     333  Images/valid/000000428280.jpg  .jpg  valid\n349837    500     333  Images/valid/000000349837.jpg  .jpg  valid\n\n[5000 rows x 5 columns]"
         },
         "metadata": {},
         "output_type": "display_data"
        }
       ]
      }
     },
     "f5df0a434c4f4e739d799df0d6930bf8": {
      "model_module": "@jupyter-widgets/base",
      "model_module_version": "2.0.0",
      "model_name": "LayoutModel",
      "state": {}
     },
     "f61c9d7c59b849afb523a7044b316296": {
      "model_module": "@jupyter-widgets/output",
      "model_module_version": "1.0.0",
      "model_name": "OutputModel",
      "state": {
       "layout": "IPY_MODEL_29c931608dbf4121b1cbb276ae817e39",
       "outputs": [
        {
         "data": {
          "text/html": "<div>\n<style scoped>\n    .dataframe tbody tr th:only-of-type {\n        vertical-align: middle;\n    }\n\n    .dataframe tbody tr th {\n        vertical-align: top;\n    }\n\n    .dataframe thead th {\n        text-align: right;\n    }\n</style>\n<table border=\"1\" class=\"dataframe\">\n  <thead>\n    <tr style=\"text-align: right;\">\n      <th></th>\n      <th>category string</th>\n    </tr>\n    <tr>\n      <th>category_id</th>\n      <th></th>\n    </tr>\n  </thead>\n  <tbody>\n    <tr>\n      <th>1</th>\n      <td>aeroplane</td>\n    </tr>\n    <tr>\n      <th>2</th>\n      <td>bicycle</td>\n    </tr>\n    <tr>\n      <th>3</th>\n      <td>bird</td>\n    </tr>\n    <tr>\n      <th>4</th>\n      <td>boat</td>\n    </tr>\n    <tr>\n      <th>5</th>\n      <td>bottle</td>\n    </tr>\n    <tr>\n      <th>6</th>\n      <td>bus</td>\n    </tr>\n    <tr>\n      <th>7</th>\n      <td>car</td>\n    </tr>\n    <tr>\n      <th>8</th>\n      <td>cat</td>\n    </tr>\n    <tr>\n      <th>9</th>\n      <td>chair</td>\n    </tr>\n    <tr>\n      <th>10</th>\n      <td>cow</td>\n    </tr>\n    <tr>\n      <th>11</th>\n      <td>diningtable</td>\n    </tr>\n    <tr>\n      <th>12</th>\n      <td>dog</td>\n    </tr>\n    <tr>\n      <th>13</th>\n      <td>horse</td>\n    </tr>\n    <tr>\n      <th>14</th>\n      <td>motorbike</td>\n    </tr>\n    <tr>\n      <th>15</th>\n      <td>person</td>\n    </tr>\n    <tr>\n      <th>16</th>\n      <td>pottedplant</td>\n    </tr>\n    <tr>\n      <th>17</th>\n      <td>sheep</td>\n    </tr>\n    <tr>\n      <th>18</th>\n      <td>sofa</td>\n    </tr>\n    <tr>\n      <th>19</th>\n      <td>train</td>\n    </tr>\n    <tr>\n      <th>20</th>\n      <td>tvmonitor</td>\n    </tr>\n  </tbody>\n</table>\n</div>",
          "text/plain": "            category string\ncategory_id                \n1                 aeroplane\n2                   bicycle\n3                      bird\n4                      boat\n5                    bottle\n6                       bus\n7                       car\n8                       cat\n9                     chair\n10                      cow\n11              diningtable\n12                      dog\n13                    horse\n14                motorbike\n15                   person\n16              pottedplant\n17                    sheep\n18                     sofa\n19                    train\n20                tvmonitor"
         },
         "metadata": {},
         "output_type": "display_data"
        }
       ]
      }
     },
     "f628d827f3494e61a5e13c72567f8983": {
      "model_module": "@jupyter-widgets/output",
      "model_module_version": "1.0.0",
      "model_name": "OutputModel",
      "state": {
       "layout": "IPY_MODEL_7921b054744a46839a97eb1cff3c0d4d",
       "outputs": [
        {
         "data": {
          "text/html": "<div>\n<style scoped>\n    .dataframe tbody tr th:only-of-type {\n        vertical-align: middle;\n    }\n\n    .dataframe tbody tr th {\n        vertical-align: top;\n    }\n\n    .dataframe thead th {\n        text-align: right;\n    }\n</style>\n<table border=\"1\" class=\"dataframe\">\n  <thead>\n    <tr style=\"text-align: right;\">\n      <th></th>\n      <th>category string</th>\n    </tr>\n    <tr>\n      <th>category_id</th>\n      <th></th>\n    </tr>\n  </thead>\n  <tbody>\n    <tr>\n      <th>1</th>\n      <td>animal</td>\n    </tr>\n    <tr>\n      <th>2</th>\n      <td>vehicle</td>\n    </tr>\n    <tr>\n      <th>3</th>\n      <td>object</td>\n    </tr>\n  </tbody>\n</table>\n</div>",
          "text/plain": "            category string\ncategory_id                \n1                    animal\n2                   vehicle\n3                    object"
         },
         "metadata": {},
         "output_type": "display_data"
        }
       ]
      }
     },
     "f7009f2f215643cb9acae7c654699e36": {
      "model_module": "@jupyter-widgets/base",
      "model_module_version": "2.0.0",
      "model_name": "LayoutModel",
      "state": {}
     },
     "f7fb857318714b95b6a4cadc2be3f42c": {
      "model_module": "@jupyter-widgets/base",
      "model_module_version": "2.0.0",
      "model_name": "LayoutModel",
      "state": {}
     },
     "f85df88b19a548c1a10678b27bff5d50": {
      "model_module": "@jupyter-widgets/base",
      "model_module_version": "2.0.0",
      "model_name": "LayoutModel",
      "state": {}
     },
     "f8bb9c3a15c947268a2a91f733da3611": {
      "model_module": "@jupyter-widgets/base",
      "model_module_version": "2.0.0",
      "model_name": "LayoutModel",
      "state": {}
     },
     "f8f81c3b192844218d8f0deddc1a2ade": {
      "model_module": "@jupyter-widgets/controls",
      "model_module_version": "2.0.0",
      "model_name": "HTMLStyleModel",
      "state": {
       "description_width": "",
       "font_size": null,
       "text_color": null
      }
     },
     "f8fae047eba64b2ba615717c3e6424da": {
      "model_module": "@jupyter-widgets/controls",
      "model_module_version": "2.0.0",
      "model_name": "TabModel",
      "state": {
       "children": [
        "IPY_MODEL_fb7106a5a3a8416ba13d80976377be51",
        "IPY_MODEL_fd96c177ea0f47a7b9d0151b6a44e3d3",
        "IPY_MODEL_63d68d45e3cc4478ac890817f2e48433"
       ],
       "layout": "IPY_MODEL_bc33b1752fbc42b1bb971160aa734c1f",
       "selected_index": 0,
       "titles": [
        "Images",
        "Annotations",
        "Label Map"
       ]
      }
     },
     "f9cc155120424502aaf9267336ce1ae1": {
      "model_module": "@jupyter-widgets/controls",
      "model_module_version": "2.0.0",
      "model_name": "HTMLModel",
      "state": {
       "layout": "IPY_MODEL_494d15aa83c24127ac87b30c627df20b",
       "style": "IPY_MODEL_68d2c10291ca463ab2cf05746ca09093",
       "value": "<p><span style='white-space: pre-wrap; font-weight: bold'>Dataset object containing 4,722 images and 34,818 objects\nName :\n\tcoco\nImages root :\n\tnotebook_data</span></p>"
      }
     },
     "fa468d8ea1954346ba62e1f3ba16da9d": {
      "model_module": "@jupyter-widgets/output",
      "model_module_version": "1.0.0",
      "model_name": "OutputModel",
      "state": {
       "layout": "IPY_MODEL_31e84d0a79824ce9a92d05234d3306bf",
       "outputs": [
        {
         "data": {
          "text/html": "<div>\n<style scoped>\n    .dataframe tbody tr th:only-of-type {\n        vertical-align: middle;\n    }\n\n    .dataframe tbody tr th {\n        vertical-align: top;\n    }\n\n    .dataframe thead th {\n        text-align: right;\n    }\n</style>\n<table border=\"1\" class=\"dataframe\">\n  <thead>\n    <tr style=\"text-align: right;\">\n      <th></th>\n      <th>width</th>\n      <th>height</th>\n      <th>relative_path</th>\n      <th>type</th>\n      <th>split</th>\n    </tr>\n    <tr>\n      <th>id</th>\n      <th></th>\n      <th></th>\n      <th></th>\n      <th></th>\n      <th></th>\n    </tr>\n  </thead>\n  <tbody>\n    <tr>\n      <th>0</th>\n      <td>640</td>\n      <td>483</td>\n      <td>Images/valid/000000000632.jpg</td>\n      <td>.jpg</td>\n      <td>valid</td>\n    </tr>\n    <tr>\n      <th>1</th>\n      <td>375</td>\n      <td>500</td>\n      <td>Images/valid/000000000724.jpg</td>\n      <td>.jpg</td>\n      <td>valid</td>\n    </tr>\n    <tr>\n      <th>2</th>\n      <td>428</td>\n      <td>640</td>\n      <td>Images/valid/000000000776.jpg</td>\n      <td>.jpg</td>\n      <td>valid</td>\n    </tr>\n    <tr>\n      <th>3</th>\n      <td>640</td>\n      <td>425</td>\n      <td>Images/valid/000000000785.jpg</td>\n      <td>.jpg</td>\n      <td>valid</td>\n    </tr>\n    <tr>\n      <th>4</th>\n      <td>640</td>\n      <td>427</td>\n      <td>Images/valid/000000001268.jpg</td>\n      <td>.jpg</td>\n      <td>valid</td>\n    </tr>\n    <tr>\n      <th>...</th>\n      <td>...</td>\n      <td>...</td>\n      <td>...</td>\n      <td>...</td>\n      <td>...</td>\n    </tr>\n    <tr>\n      <th>4995</th>\n      <td>640</td>\n      <td>428</td>\n      <td>Images/valid/000000580418.jpg</td>\n      <td>.jpg</td>\n      <td>valid</td>\n    </tr>\n    <tr>\n      <th>4996</th>\n      <td>640</td>\n      <td>425</td>\n      <td>Images/valid/000000580757.jpg</td>\n      <td>.jpg</td>\n      <td>valid</td>\n    </tr>\n    <tr>\n      <th>4997</th>\n      <td>500</td>\n      <td>375</td>\n      <td>Images/valid/000000581062.jpg</td>\n      <td>.jpg</td>\n      <td>valid</td>\n    </tr>\n    <tr>\n      <th>4998</th>\n      <td>479</td>\n      <td>640</td>\n      <td>Images/valid/000000581206.jpg</td>\n      <td>.jpg</td>\n      <td>valid</td>\n    </tr>\n    <tr>\n      <th>4999</th>\n      <td>478</td>\n      <td>640</td>\n      <td>Images/valid/000000581615.jpg</td>\n      <td>.jpg</td>\n      <td>valid</td>\n    </tr>\n  </tbody>\n</table>\n<p>5000 rows × 5 columns</p>\n</div>",
          "text/plain": "      width  height                  relative_path  type  split\nid                                                             \n0       640     483  Images/valid/000000000632.jpg  .jpg  valid\n1       375     500  Images/valid/000000000724.jpg  .jpg  valid\n2       428     640  Images/valid/000000000776.jpg  .jpg  valid\n3       640     425  Images/valid/000000000785.jpg  .jpg  valid\n4       640     427  Images/valid/000000001268.jpg  .jpg  valid\n...     ...     ...                            ...   ...    ...\n4995    640     428  Images/valid/000000580418.jpg  .jpg  valid\n4996    640     425  Images/valid/000000580757.jpg  .jpg  valid\n4997    500     375  Images/valid/000000581062.jpg  .jpg  valid\n4998    479     640  Images/valid/000000581206.jpg  .jpg  valid\n4999    478     640  Images/valid/000000581615.jpg  .jpg  valid\n\n[5000 rows x 5 columns]"
         },
         "metadata": {},
         "output_type": "display_data"
        }
       ]
      }
     },
     "faba574fc64a47609236f420e3c1a5be": {
      "model_module": "@jupyter-widgets/base",
      "model_module_version": "2.0.0",
      "model_name": "LayoutModel",
      "state": {}
     },
     "fb7106a5a3a8416ba13d80976377be51": {
      "model_module": "@jupyter-widgets/output",
      "model_module_version": "1.0.0",
      "model_name": "OutputModel",
      "state": {
       "layout": "IPY_MODEL_b9305f4cb6694a218d938b1c821d0423",
       "outputs": [
        {
         "data": {
          "text/html": "<div>\n<style scoped>\n    .dataframe tbody tr th:only-of-type {\n        vertical-align: middle;\n    }\n\n    .dataframe tbody tr th {\n        vertical-align: top;\n    }\n\n    .dataframe thead th {\n        text-align: right;\n    }\n</style>\n<table border=\"1\" class=\"dataframe\">\n  <thead>\n    <tr style=\"text-align: right;\">\n      <th></th>\n      <th>width</th>\n      <th>height</th>\n      <th>relative_path</th>\n      <th>type</th>\n      <th>split</th>\n    </tr>\n    <tr>\n      <th>id</th>\n      <th></th>\n      <th></th>\n      <th></th>\n      <th></th>\n      <th></th>\n    </tr>\n  </thead>\n  <tbody>\n    <tr>\n      <th>352582</th>\n      <td>425</td>\n      <td>640</td>\n      <td>Images/valid/000000352582.jpg</td>\n      <td>.jpg</td>\n      <td>valid</td>\n    </tr>\n    <tr>\n      <th>113354</th>\n      <td>640</td>\n      <td>480</td>\n      <td>Images/valid/000000113354.jpg</td>\n      <td>.jpg</td>\n      <td>valid</td>\n    </tr>\n  </tbody>\n</table>\n</div>",
          "text/plain": "        width  height                  relative_path  type  split\nid                                                               \n352582    425     640  Images/valid/000000352582.jpg  .jpg  valid\n113354    640     480  Images/valid/000000113354.jpg  .jpg  valid"
         },
         "metadata": {},
         "output_type": "display_data"
        }
       ]
      }
     },
     "fbeaaa18eb984d3196b1f14067c573b2": {
      "model_module": "@jupyter-widgets/controls",
      "model_module_version": "2.0.0",
      "model_name": "HTMLStyleModel",
      "state": {
       "description_width": "",
       "font_size": null,
       "text_color": null
      }
     },
     "fbf95a22080b42069f45fa21cb13bec1": {
      "model_module": "@jupyter-widgets/controls",
      "model_module_version": "2.0.0",
      "model_name": "VBoxModel",
      "state": {
       "children": [
        "IPY_MODEL_aae989eac45f42fcb39884378a59e020",
        "IPY_MODEL_6d671c481a0946cd93a7b18099a60178"
       ],
       "layout": "IPY_MODEL_9d1b24a324584fc58c0802d2c2705993"
      }
     },
     "fcae50c271324f3e885edb43b9eef38b": {
      "model_module": "@jupyter-widgets/output",
      "model_module_version": "1.0.0",
      "model_name": "OutputModel",
      "state": {
       "layout": "IPY_MODEL_c7f4e636fea5416abe53471ffe768a14",
       "outputs": [
        {
         "data": {
          "text/html": "<div>\n<style scoped>\n    .dataframe tbody tr th:only-of-type {\n        vertical-align: middle;\n    }\n\n    .dataframe tbody tr th {\n        vertical-align: top;\n    }\n\n    .dataframe thead th {\n        text-align: right;\n    }\n</style>\n<table border=\"1\" class=\"dataframe\">\n  <thead>\n    <tr style=\"text-align: right;\">\n      <th></th>\n      <th>width</th>\n      <th>height</th>\n      <th>relative_path</th>\n      <th>type</th>\n      <th>split</th>\n    </tr>\n    <tr>\n      <th>id</th>\n      <th></th>\n      <th></th>\n      <th></th>\n      <th></th>\n      <th></th>\n    </tr>\n  </thead>\n  <tbody>\n    <tr>\n      <th>352582</th>\n      <td>425</td>\n      <td>640</td>\n      <td>Images/valid/000000352582.jpg</td>\n      <td>.jpg</td>\n      <td>valid</td>\n    </tr>\n    <tr>\n      <th>113354</th>\n      <td>640</td>\n      <td>480</td>\n      <td>Images/valid/000000113354.jpg</td>\n      <td>.jpg</td>\n      <td>valid</td>\n    </tr>\n    <tr>\n      <th>58393</th>\n      <td>640</td>\n      <td>486</td>\n      <td>Images/valid/000000058393.jpg</td>\n      <td>.jpg</td>\n      <td>valid</td>\n    </tr>\n    <tr>\n      <th>147729</th>\n      <td>500</td>\n      <td>375</td>\n      <td>Images/valid/000000147729.jpg</td>\n      <td>.jpg</td>\n      <td>valid</td>\n    </tr>\n    <tr>\n      <th>310072</th>\n      <td>640</td>\n      <td>383</td>\n      <td>Images/valid/000000310072.jpg</td>\n      <td>.jpg</td>\n      <td>valid</td>\n    </tr>\n    <tr>\n      <th>...</th>\n      <td>...</td>\n      <td>...</td>\n      <td>...</td>\n      <td>...</td>\n      <td>...</td>\n    </tr>\n    <tr>\n      <th>311180</th>\n      <td>480</td>\n      <td>640</td>\n      <td>Images/valid/000000311180.jpg</td>\n      <td>.jpg</td>\n      <td>valid</td>\n    </tr>\n    <tr>\n      <th>302030</th>\n      <td>640</td>\n      <td>359</td>\n      <td>Images/valid/000000302030.jpg</td>\n      <td>.jpg</td>\n      <td>valid</td>\n    </tr>\n    <tr>\n      <th>105455</th>\n      <td>427</td>\n      <td>640</td>\n      <td>Images/valid/000000105455.jpg</td>\n      <td>.jpg</td>\n      <td>valid</td>\n    </tr>\n    <tr>\n      <th>428280</th>\n      <td>500</td>\n      <td>333</td>\n      <td>Images/valid/000000428280.jpg</td>\n      <td>.jpg</td>\n      <td>valid</td>\n    </tr>\n    <tr>\n      <th>349837</th>\n      <td>500</td>\n      <td>333</td>\n      <td>Images/valid/000000349837.jpg</td>\n      <td>.jpg</td>\n      <td>valid</td>\n    </tr>\n  </tbody>\n</table>\n<p>5000 rows × 5 columns</p>\n</div>",
          "text/plain": "        width  height                  relative_path  type  split\nid                                                               \n352582    425     640  Images/valid/000000352582.jpg  .jpg  valid\n113354    640     480  Images/valid/000000113354.jpg  .jpg  valid\n58393     640     486  Images/valid/000000058393.jpg  .jpg  valid\n147729    500     375  Images/valid/000000147729.jpg  .jpg  valid\n310072    640     383  Images/valid/000000310072.jpg  .jpg  valid\n...       ...     ...                            ...   ...    ...\n311180    480     640  Images/valid/000000311180.jpg  .jpg  valid\n302030    640     359  Images/valid/000000302030.jpg  .jpg  valid\n105455    427     640  Images/valid/000000105455.jpg  .jpg  valid\n428280    500     333  Images/valid/000000428280.jpg  .jpg  valid\n349837    500     333  Images/valid/000000349837.jpg  .jpg  valid\n\n[5000 rows x 5 columns]"
         },
         "metadata": {},
         "output_type": "display_data"
        }
       ]
      }
     },
     "fcc69010130c4e48b06ad36220cd6afe": {
      "model_module": "@jupyter-widgets/base",
      "model_module_version": "2.0.0",
      "model_name": "LayoutModel",
      "state": {}
     },
     "fcff304526f24f9b8d49b5adc8dfe9a7": {
      "model_module": "@jupyter-widgets/base",
      "model_module_version": "2.0.0",
      "model_name": "LayoutModel",
      "state": {}
     },
     "fd96c177ea0f47a7b9d0151b6a44e3d3": {
      "model_module": "@jupyter-widgets/output",
      "model_module_version": "1.0.0",
      "model_name": "OutputModel",
      "state": {
       "layout": "IPY_MODEL_70a610378d7c4d968d72b37013edc46b",
       "outputs": [
        {
         "data": {
          "text/html": "<div>\n<style scoped>\n    .dataframe tbody tr th:only-of-type {\n        vertical-align: middle;\n    }\n\n    .dataframe tbody tr th {\n        vertical-align: top;\n    }\n\n    .dataframe thead th {\n        text-align: right;\n    }\n</style>\n<table border=\"1\" class=\"dataframe\">\n  <thead>\n    <tr style=\"text-align: right;\">\n      <th></th>\n      <th>image_id</th>\n      <th>category_str</th>\n      <th>category_id</th>\n      <th>split</th>\n      <th>box_x_min</th>\n      <th>box_y_min</th>\n      <th>box_width</th>\n      <th>box_height</th>\n      <th>area</th>\n      <th>confidence</th>\n    </tr>\n    <tr>\n      <th>id</th>\n      <th></th>\n      <th></th>\n      <th></th>\n      <th></th>\n      <th></th>\n      <th></th>\n      <th></th>\n      <th></th>\n      <th></th>\n      <th></th>\n    </tr>\n  </thead>\n  <tbody>\n    <tr>\n      <th>0</th>\n      <td>352582</td>\n      <td>tvmonitor</td>\n      <td>20</td>\n      <td>valid</td>\n      <td>212.5</td>\n      <td>320.0</td>\n      <td>212.5</td>\n      <td>320.0</td>\n      <td>68000.0</td>\n      <td>0.5</td>\n    </tr>\n    <tr>\n      <th>1</th>\n      <td>113354</td>\n      <td>21</td>\n      <td>21</td>\n      <td>valid</td>\n      <td>0.0</td>\n      <td>0.0</td>\n      <td>320.0</td>\n      <td>240.0</td>\n      <td>76800.0</td>\n      <td>0.5</td>\n    </tr>\n  </tbody>\n</table>\n</div>",
          "text/plain": "    image_id category_str  category_id  split  box_x_min  box_y_min  \\\nid                                                                    \n0     352582    tvmonitor           20  valid      212.5      320.0   \n1     113354           21           21  valid        0.0        0.0   \n\n    box_width  box_height     area  confidence  \nid                                              \n0       212.5       320.0  68000.0         0.5  \n1       320.0       240.0  76800.0         0.5  "
         },
         "metadata": {},
         "output_type": "display_data"
        }
       ]
      }
     },
     "fde5fa1711764a049b5bfa5f32acc020": {
      "model_module": "@jupyter-widgets/base",
      "model_module_version": "2.0.0",
      "model_name": "LayoutModel",
      "state": {}
     },
     "fec8054bf05b46a3a571f7d52a80ea4b": {
      "model_module": "@jupyter-widgets/controls",
      "model_module_version": "2.0.0",
      "model_name": "HTMLStyleModel",
      "state": {
       "description_width": "",
       "font_size": null,
       "text_color": null
      }
     }
    },
    "version_major": 2,
    "version_minor": 0
   }
  }
 },
 "nbformat": 4,
 "nbformat_minor": 5
}
