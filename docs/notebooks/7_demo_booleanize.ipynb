{
 "cells": [
  {
   "cell_type": "markdown",
   "metadata": {},
   "source": [
    "# Booleanize columns of lists in you Dataset dataframes\n",
    "\n",
    "This notebooks shows how the `booleanize` and `debooleanize` methods can be used for easy attributes/tags filtering\n",
    "\n",
    "Booleanization is the action of converting columns of list to a list of boolean columns. Each boolean column tells whether the element is present in the original list or not.\n",
    "\n",
    "What's more, it shows how the widget works to be able to choose between showing boolean values or list values."
   ]
  },
  {
   "cell_type": "code",
   "execution_count": 1,
   "metadata": {},
   "outputs": [],
   "source": [
    "%load_ext autoreload\n",
    "\n",
    "%autoreload 2\n",
    "import warnings\n",
    "\n",
    "import lours\n",
    "from lours.dataset import from_caipy\n",
    "from lours.utils.testing import assert_dataset_equal\n",
    "\n",
    "warnings.simplefilter(action=\"ignore\", category=FutureWarning)"
   ]
  },
  {
   "cell_type": "markdown",
   "metadata": {},
   "source": [
    "## Booleanization example\n",
    "\n",
    "### Note on widget interface\n",
    "\n",
    "You can see by selecting the \"Annotations\" tab that you can chose to show the dataframes as booleanized or not, and with nested columns or not.\n",
    "\n",
    "Don't forget that under the hood, the columns are booleanized and not nested, here, it's just for readability of the widget.\n",
    "\n",
    "## Automatic booleanization\n",
    "\n",
    "By default, when using `from_caipy` with `use_schema` set to `True`, it booleanizes the dataset.\n",
    "\n",
    "See more info about advanced parsing with caipy and schemas in the related tutorial : [Demo schemas](6_demo_schemas.ipynb)"
   ]
  },
  {
   "cell_type": "code",
   "execution_count": 2,
   "metadata": {},
   "outputs": [
    {
     "data": {
      "application/vnd.jupyter.widget-view+json": {
       "model_id": "c647ef0d15d94a39bb70c9b4260e59a7",
       "version_major": 2,
       "version_minor": 0
      },
      "text/plain": [
       "  0%|          | 0/2 [00:00<?, ?it/s]"
      ]
     },
     "metadata": {},
     "output_type": "display_data"
    },
    {
     "data": {
      "application/vnd.jupyter.widget-view+json": {
       "model_id": "757e6a8fc71745a2948e612116b529a0",
       "version_major": 2,
       "version_minor": 0
      },
      "text/plain": [
       "VBox(children=(HTML(value=\"<p><span style='white-space: pre-wrap; font-weight: bold'>Dataset object containing…"
      ]
     },
     "metadata": {},
     "output_type": "display_data"
    }
   ],
   "source": [
    "from_caipy(\n",
    "    \"../../test_lours/test_data/caipy_dataset/tags/small_tagged_dataset/\",\n",
    "    use_schema=True,\n",
    "    booleanize=True,\n",
    ")"
   ]
  },
  {
   "cell_type": "markdown",
   "metadata": {},
   "source": [
    "Also, note that by default, columns are shown as they appear on the dataframe, i.e. raw columns with boolean value, but the default display option can be changed in the `lours.utils` module."
   ]
  },
  {
   "cell_type": "code",
   "execution_count": 3,
   "metadata": {},
   "outputs": [
    {
     "data": {
      "application/vnd.jupyter.widget-view+json": {
       "model_id": "9c3dc34f7c7e4997b3671b79e393ba63",
       "version_major": 2,
       "version_minor": 0
      },
      "text/plain": [
       "  0%|          | 0/2 [00:00<?, ?it/s]"
      ]
     },
     "metadata": {},
     "output_type": "display_data"
    },
    {
     "data": {
      "application/vnd.jupyter.widget-view+json": {
       "model_id": "10791595ff20425ab1a1b36c5d8ccf17",
       "version_major": 2,
       "version_minor": 0
      },
      "text/plain": [
       "VBox(children=(HTML(value=\"<p><span style='white-space: pre-wrap; font-weight: bold'>Dataset object containing…"
      ]
     },
     "metadata": {},
     "output_type": "display_data"
    }
   ],
   "source": [
    "lours.utils.DISPLAY_NESTED_COLUMNS = True\n",
    "lours.utils.DISPLAY_UNBOOLEANIZED = True\n",
    "from_caipy(\n",
    "    \"../../test_lours/test_data/caipy_dataset/tags/small_tagged_dataset/\",\n",
    "    use_schema=True,\n",
    "    booleanize=True,\n",
    ")"
   ]
  },
  {
   "cell_type": "markdown",
   "metadata": {},
   "source": [
    "## Manual Booleanization\n",
    "\n",
    "If you select `booleanize=False` when loading with `from_caipy`, you will keep the item column.\n",
    "To booleanize it manually, you can call the method `.booleanize` Make sure that the column names you give to that method are only composed of iterables in each cell (be it set or list)"
   ]
  },
  {
   "cell_type": "code",
   "execution_count": 4,
   "metadata": {},
   "outputs": [
    {
     "data": {
      "application/vnd.jupyter.widget-view+json": {
       "model_id": "635d9581ce684895b10ec2b44954279e",
       "version_major": 2,
       "version_minor": 0
      },
      "text/plain": [
       "  0%|          | 0/2 [00:00<?, ?it/s]"
      ]
     },
     "metadata": {},
     "output_type": "display_data"
    }
   ],
   "source": [
    "dataset = from_caipy(\n",
    "    \"../../test_lours/test_data/caipy_dataset/tags/small_tagged_dataset/\",\n",
    "    json_schema=\"default\",\n",
    "    booleanize=False,\n",
    ")"
   ]
  },
  {
   "cell_type": "code",
   "execution_count": 5,
   "metadata": {},
   "outputs": [
    {
     "data": {
      "application/vnd.jupyter.widget-view+json": {
       "model_id": "e6841b8a15034f088e07288a0a12685c",
       "version_major": 2,
       "version_minor": 0
      },
      "text/plain": [
       "VBox(children=(HTML(value=\"<p><span style='white-space: pre-wrap; font-weight: bold'>Dataset object containing…"
      ]
     },
     "metadata": {},
     "output_type": "display_data"
    }
   ],
   "source": [
    "dataset"
   ]
  },
  {
   "cell_type": "code",
   "execution_count": 6,
   "metadata": {},
   "outputs": [
    {
     "data": {
      "application/vnd.jupyter.widget-view+json": {
       "model_id": "99fc89b99c5a4cf5a89ba96cabb34ac4",
       "version_major": 2,
       "version_minor": 0
      },
      "text/plain": [
       "VBox(children=(HTML(value=\"<p><span style='white-space: pre-wrap; font-weight: bold'>Dataset object containing…"
      ]
     },
     "metadata": {},
     "output_type": "display_data"
    }
   ],
   "source": [
    "booleanized = dataset.booleanize(\"attributes.colors\")\n",
    "booleanized"
   ]
  },
  {
   "cell_type": "markdown",
   "metadata": {},
   "source": [
    "## Working with booleanized data\n",
    "\n",
    "See how simpler it is to filter annotations based on attributes.colors :\n",
    "\n",
    "In this example, we  are interested into keeping annotations that have \"red\" in their \"colors\"\n",
    "\n",
    "With a regular dataset, you will need to call the very inefficient `.apply` method."
   ]
  },
  {
   "cell_type": "code",
   "execution_count": 7,
   "metadata": {},
   "outputs": [
    {
     "data": {
      "application/vnd.jupyter.widget-view+json": {
       "model_id": "1edfc963714448ce986ef09990ffb1a1",
       "version_major": 2,
       "version_minor": 0
      },
      "text/plain": [
       "VBox(children=(HTML(value=\"<p><span style='white-space: pre-wrap; font-weight: bold'>Dataset object containing…"
      ]
     },
     "metadata": {},
     "output_type": "display_data"
    }
   ],
   "source": [
    "dataset.loc_annot[dataset.annotations[\"attributes.colors\"].apply(lambda x: \"red\" in x)]"
   ]
  },
  {
   "cell_type": "markdown",
   "metadata": {},
   "source": [
    "With a booleanized dataset, you can directly call the `.loc_annot` method with the `attributes.colors.red` column."
   ]
  },
  {
   "cell_type": "code",
   "execution_count": 8,
   "metadata": {},
   "outputs": [
    {
     "data": {
      "application/vnd.jupyter.widget-view+json": {
       "model_id": "78a4dc79253e41e690dca6416708a326",
       "version_major": 2,
       "version_minor": 0
      },
      "text/plain": [
       "VBox(children=(HTML(value=\"<p><span style='white-space: pre-wrap; font-weight: bold'>Dataset object containing…"
      ]
     },
     "metadata": {},
     "output_type": "display_data"
    }
   ],
   "source": [
    "booleanized.loc_annot[booleanized.annotations[\"attributes.colors.red\"]]"
   ]
  },
  {
   "cell_type": "markdown",
   "metadata": {},
   "source": [
    "## Debooleanization\n",
    "\n",
    "Although the booleanized columns are dropped in favor of the boolean ones, we keep track of them in a special attribute `Dataset.booleanized_columns`\n",
    "\n",
    "As such, we can use the `debooleanize` method to get back to the original dataset. Note that this method has to be used for several io methods :\n",
    " - `to_caipy`\n",
    " - `to_caipy_generic`\n",
    " - `to_coco`\n",
    " - `to_fiftyone`"
   ]
  },
  {
   "cell_type": "code",
   "execution_count": 9,
   "metadata": {},
   "outputs": [
    {
     "data": {
      "application/vnd.jupyter.widget-view+json": {
       "model_id": "7a87de16ea484fb69738d7d9797df219",
       "version_major": 2,
       "version_minor": 0
      },
      "text/plain": [
       "VBox(children=(HTML(value=\"<p><span style='white-space: pre-wrap; font-weight: bold'>Dataset object containing…"
      ]
     },
     "metadata": {},
     "output_type": "display_data"
    }
   ],
   "source": [
    "debool = booleanized.debooleanize()\n",
    "assert_dataset_equal(debool, dataset)\n",
    "debool"
   ]
  }
 ],
 "metadata": {
  "kernelspec": {
   "display_name": "Python 3 (ipykernel)",
   "language": "python",
   "name": "python3"
  },
  "language_info": {
   "codemirror_mode": {
    "name": "ipython",
    "version": 3
   },
   "file_extension": ".py",
   "mimetype": "text/x-python",
   "name": "python",
   "nbconvert_exporter": "python",
   "pygments_lexer": "ipython3",
   "version": "3.11.9"
  },
  "widgets": {
   "application/vnd.jupyter.widget-state+json": {
    "state": {
     "00e92e822c8944e79dbb48196e58ae6c": {
      "model_module": "@jupyter-widgets/controls",
      "model_module_version": "2.0.0",
      "model_name": "LabelModel",
      "state": {
       "layout": "IPY_MODEL_a629243dd05841558a9e736f92ff0455",
       "style": "IPY_MODEL_9884c587a1b8464982564ad6364f08ae",
       "value": "Column format"
      }
     },
     "0129bf9898c641fe89b5da4c38a0e215": {
      "model_module": "@jupyter-widgets/controls",
      "model_module_version": "2.0.0",
      "model_name": "DescriptionStyleModel",
      "state": {
       "description_width": ""
      }
     },
     "02885eb99f4b4bd7ab2c8caac0e21f21": {
      "model_module": "@jupyter-widgets/base",
      "model_module_version": "2.0.0",
      "model_name": "LayoutModel",
      "state": {}
     },
     "02a7280b9b1943ac9ec8f3e491c02048": {
      "model_module": "@jupyter-widgets/base",
      "model_module_version": "2.0.0",
      "model_name": "LayoutModel",
      "state": {}
     },
     "02af80bce8b647dabc7e9cef2fdfb1fd": {
      "model_module": "@jupyter-widgets/output",
      "model_module_version": "1.0.0",
      "model_name": "OutputModel",
      "state": {
       "layout": "IPY_MODEL_849eabdb80e944e78352992631b22a8f",
       "outputs": [
        {
         "data": {
          "text/html": "<style type=\"text/css\">\n#T_31783 th {\n  border-right: 1px solid #F0F0F0;\n}\n</style>\n<table id=\"T_31783\">\n  <thead>\n    <tr>\n      <th class=\"blank level0\" >&nbsp;</th>\n      <th id=\"T_31783_level0_col0\" class=\"col_heading level0 col0\" >width</th>\n      <th id=\"T_31783_level0_col1\" class=\"col_heading level0 col1\" >height</th>\n      <th id=\"T_31783_level0_col2\" class=\"col_heading level0 col2\" >relative_path</th>\n      <th id=\"T_31783_level0_col3\" class=\"col_heading level0 col3\" >type</th>\n      <th id=\"T_31783_level0_col4\" class=\"col_heading level0 col4\" colspan=\"2\">tags</th>\n    </tr>\n    <tr>\n      <th class=\"blank level1\" >&nbsp;</th>\n      <th id=\"T_31783_level1_col0\" class=\"col_heading level1 col0\" ></th>\n      <th id=\"T_31783_level1_col1\" class=\"col_heading level1 col1\" ></th>\n      <th id=\"T_31783_level1_col2\" class=\"col_heading level1 col2\" ></th>\n      <th id=\"T_31783_level1_col3\" class=\"col_heading level1 col3\" ></th>\n      <th id=\"T_31783_level1_col4\" class=\"col_heading level1 col4\" >time</th>\n      <th id=\"T_31783_level1_col5\" class=\"col_heading level1 col5\" >weather</th>\n    </tr>\n    <tr>\n      <th class=\"index_name level0\" >id</th>\n      <th class=\"blank col0\" >&nbsp;</th>\n      <th class=\"blank col1\" >&nbsp;</th>\n      <th class=\"blank col2\" >&nbsp;</th>\n      <th class=\"blank col3\" >&nbsp;</th>\n      <th class=\"blank col4\" >&nbsp;</th>\n      <th class=\"blank col5\" >&nbsp;</th>\n    </tr>\n  </thead>\n  <tbody>\n    <tr>\n      <th id=\"T_31783_level0_row0\" class=\"row_heading level0 row0\" >6091</th>\n      <td id=\"T_31783_row0_col0\" class=\"data row0 col0\" >480</td>\n      <td id=\"T_31783_row0_col1\" class=\"data row0 col1\" >640</td>\n      <td id=\"T_31783_row0_col2\" class=\"data row0 col2\" >image1.jpg</td>\n      <td id=\"T_31783_row0_col3\" class=\"data row0 col3\" >.jpg</td>\n      <td id=\"T_31783_row0_col4\" class=\"data row0 col4\" >night</td>\n      <td id=\"T_31783_row0_col5\" class=\"data row0 col5\" >rainy</td>\n    </tr>\n    <tr>\n      <th id=\"T_31783_level0_row1\" class=\"row_heading level0 row1\" >10395</th>\n      <td id=\"T_31783_row1_col0\" class=\"data row1 col0\" >500</td>\n      <td id=\"T_31783_row1_col1\" class=\"data row1 col1\" >476</td>\n      <td id=\"T_31783_row1_col2\" class=\"data row1 col2\" >image2.jpg</td>\n      <td id=\"T_31783_row1_col3\" class=\"data row1 col3\" >.jpg</td>\n      <td id=\"T_31783_row1_col4\" class=\"data row1 col4\" >night</td>\n      <td id=\"T_31783_row1_col5\" class=\"data row1 col5\" >None</td>\n    </tr>\n  </tbody>\n</table>\n",
          "text/plain": "<pandas.io.formats.style.Styler at 0x17f437390>"
         },
         "metadata": {},
         "output_type": "display_data"
        }
       ]
      }
     },
     "0353a3d7a7fb471da1a7a80c49d7b259": {
      "model_module": "@jupyter-widgets/controls",
      "model_module_version": "2.0.0",
      "model_name": "LinkModel",
      "state": {
       "source": [
        "IPY_MODEL_c2c3cf802edd41a586577f22c2b92493",
        "index"
       ],
       "target": [
        "IPY_MODEL_9cd9e70c862645c79cf30f05c2fb99b4",
        "selected_index"
       ]
      }
     },
     "037e46e73d6c4439a96a059f6a7ffc4c": {
      "model_module": "@jupyter-widgets/controls",
      "model_module_version": "2.0.0",
      "model_name": "HBoxModel",
      "state": {
       "children": [
        "IPY_MODEL_65a5faa19f9c4cd7bfee8a1464f19f14",
        "IPY_MODEL_440d72fc712f49c897105769f32774e2"
       ],
       "layout": "IPY_MODEL_d4023fa0a2eb490f95cfbaeff0a44a03"
      }
     },
     "038ef1d5ecbd4793adb4baa8f33d1091": {
      "model_module": "@jupyter-widgets/controls",
      "model_module_version": "2.0.0",
      "model_name": "VBoxModel",
      "state": {
       "children": [
        "IPY_MODEL_037e46e73d6c4439a96a059f6a7ffc4c",
        "IPY_MODEL_15532729471142a5bccc33e61f594d0e"
       ],
       "layout": "IPY_MODEL_2c98f9c294a447b89e7a1d9f1a323c35"
      }
     },
     "03a9d35fb74940abbd8857ff81848f46": {
      "model_module": "@jupyter-widgets/output",
      "model_module_version": "1.0.0",
      "model_name": "OutputModel",
      "state": {
       "layout": "IPY_MODEL_7d995a6b40ff4548bbe038deeba7f77b",
       "outputs": [
        {
         "data": {
          "text/html": "<style type=\"text/css\">\n#T_1fd7d th {\n  border-right: 1px solid #F0F0F0;\n}\n</style>\n<table id=\"T_1fd7d\">\n  <thead>\n    <tr>\n      <th class=\"blank level0\" >&nbsp;</th>\n      <th id=\"T_1fd7d_level0_col0\" class=\"col_heading level0 col0\" >image_id</th>\n      <th id=\"T_1fd7d_level0_col1\" class=\"col_heading level0 col1\" >category_str</th>\n      <th id=\"T_1fd7d_level0_col2\" class=\"col_heading level0 col2\" >category_id</th>\n      <th id=\"T_1fd7d_level0_col3\" class=\"col_heading level0 col3\" >box_x_min</th>\n      <th id=\"T_1fd7d_level0_col4\" class=\"col_heading level0 col4\" >box_y_min</th>\n      <th id=\"T_1fd7d_level0_col5\" class=\"col_heading level0 col5\" >box_width</th>\n      <th id=\"T_1fd7d_level0_col6\" class=\"col_heading level0 col6\" >box_height</th>\n      <th id=\"T_1fd7d_level0_col7\" class=\"col_heading level0 col7\" >area</th>\n      <th id=\"T_1fd7d_level0_col8\" class=\"col_heading level0 col8\" colspan=\"3\">attributes</th>\n    </tr>\n    <tr>\n      <th class=\"blank level1\" >&nbsp;</th>\n      <th id=\"T_1fd7d_level1_col0\" class=\"col_heading level1 col0\" ></th>\n      <th id=\"T_1fd7d_level1_col1\" class=\"col_heading level1 col1\" ></th>\n      <th id=\"T_1fd7d_level1_col2\" class=\"col_heading level1 col2\" ></th>\n      <th id=\"T_1fd7d_level1_col3\" class=\"col_heading level1 col3\" ></th>\n      <th id=\"T_1fd7d_level1_col4\" class=\"col_heading level1 col4\" ></th>\n      <th id=\"T_1fd7d_level1_col5\" class=\"col_heading level1 col5\" ></th>\n      <th id=\"T_1fd7d_level1_col6\" class=\"col_heading level1 col6\" ></th>\n      <th id=\"T_1fd7d_level1_col7\" class=\"col_heading level1 col7\" ></th>\n      <th id=\"T_1fd7d_level1_col8\" class=\"col_heading level1 col8\" >colors</th>\n      <th id=\"T_1fd7d_level1_col9\" class=\"col_heading level1 col9\" >occluded</th>\n      <th id=\"T_1fd7d_level1_col10\" class=\"col_heading level1 col10\" >position</th>\n    </tr>\n    <tr>\n      <th class=\"index_name level0\" >id</th>\n      <th class=\"blank col0\" >&nbsp;</th>\n      <th class=\"blank col1\" >&nbsp;</th>\n      <th class=\"blank col2\" >&nbsp;</th>\n      <th class=\"blank col3\" >&nbsp;</th>\n      <th class=\"blank col4\" >&nbsp;</th>\n      <th class=\"blank col5\" >&nbsp;</th>\n      <th class=\"blank col6\" >&nbsp;</th>\n      <th class=\"blank col7\" >&nbsp;</th>\n      <th class=\"blank col8\" >&nbsp;</th>\n      <th class=\"blank col9\" >&nbsp;</th>\n      <th class=\"blank col10\" >&nbsp;</th>\n    </tr>\n  </thead>\n  <tbody>\n    <tr>\n      <th id=\"T_1fd7d_level0_row0\" class=\"row_heading level0 row0\" >269791</th>\n      <td id=\"T_1fd7d_row0_col0\" class=\"data row0 col0\" >6091</td>\n      <td id=\"T_1fd7d_row0_col1\" class=\"data row0 col1\" >stop sign</td>\n      <td id=\"T_1fd7d_row0_col2\" class=\"data row0 col2\" >13</td>\n      <td id=\"T_1fd7d_row0_col3\" class=\"data row0 col3\" >100.220000</td>\n      <td id=\"T_1fd7d_row0_col4\" class=\"data row0 col4\" >117.540000</td>\n      <td id=\"T_1fd7d_row0_col5\" class=\"data row0 col5\" >253.430000</td>\n      <td id=\"T_1fd7d_row0_col6\" class=\"data row0 col6\" >274.900000</td>\n      <td id=\"T_1fd7d_row0_col7\" class=\"data row0 col7\" >46726.430300</td>\n      <td id=\"T_1fd7d_row0_col8\" class=\"data row0 col8\" >['red', 'white']</td>\n      <td id=\"T_1fd7d_row0_col9\" class=\"data row0 col9\" >True</td>\n      <td id=\"T_1fd7d_row0_col10\" class=\"data row0 col10\" >None</td>\n    </tr>\n    <tr>\n      <th id=\"T_1fd7d_level0_row1\" class=\"row_heading level0 row1\" >1161234</th>\n      <td id=\"T_1fd7d_row1_col0\" class=\"data row1 col0\" >10395</td>\n      <td id=\"T_1fd7d_row1_col1\" class=\"data row1 col1\" >teddy bear</td>\n      <td id=\"T_1fd7d_row1_col2\" class=\"data row1 col2\" >88</td>\n      <td id=\"T_1fd7d_row1_col3\" class=\"data row1 col3\" >49.190000</td>\n      <td id=\"T_1fd7d_row1_col4\" class=\"data row1 col4\" >66.200000</td>\n      <td id=\"T_1fd7d_row1_col5\" class=\"data row1 col5\" >378.970000</td>\n      <td id=\"T_1fd7d_row1_col6\" class=\"data row1 col6\" >379.680000</td>\n      <td id=\"T_1fd7d_row1_col7\" class=\"data row1 col7\" >84587.439100</td>\n      <td id=\"T_1fd7d_row1_col8\" class=\"data row1 col8\" >['grey']</td>\n      <td id=\"T_1fd7d_row1_col9\" class=\"data row1 col9\" >None</td>\n      <td id=\"T_1fd7d_row1_col10\" class=\"data row1 col10\" >['front']</td>\n    </tr>\n  </tbody>\n</table>\n",
          "text/plain": "<pandas.io.formats.style.Styler at 0x302124a90>"
         },
         "metadata": {},
         "output_type": "display_data"
        }
       ]
      }
     },
     "044a2ad90a4a47e39a1ad93183680ad1": {
      "model_module": "@jupyter-widgets/base",
      "model_module_version": "2.0.0",
      "model_name": "LayoutModel",
      "state": {}
     },
     "0563fdaa1fae470db79fd71892819186": {
      "model_module": "@jupyter-widgets/base",
      "model_module_version": "2.0.0",
      "model_name": "LayoutModel",
      "state": {}
     },
     "06106e5869d44a04985641fbf2694e83": {
      "model_module": "@jupyter-widgets/controls",
      "model_module_version": "2.0.0",
      "model_name": "VBoxModel",
      "state": {
       "children": [
        "IPY_MODEL_7fd0eb032f7a47ca96559fadb0bb675f",
        "IPY_MODEL_968a9655aad44b93a738414f651ccdee"
       ],
       "layout": "IPY_MODEL_a1403f405903444da9dfe1225eeec61f"
      }
     },
     "06ea4cd2f8554c6887ab7329d24f0507": {
      "model_module": "@jupyter-widgets/output",
      "model_module_version": "1.0.0",
      "model_name": "OutputModel",
      "state": {
       "layout": "IPY_MODEL_a976ba082bf6438b9f728efd77d864d1",
       "outputs": [
        {
         "data": {
          "text/html": "<div>\n<style scoped>\n    .dataframe tbody tr th:only-of-type {\n        vertical-align: middle;\n    }\n\n    .dataframe tbody tr th {\n        vertical-align: top;\n    }\n\n    .dataframe thead th {\n        text-align: right;\n    }\n</style>\n<table border=\"1\" class=\"dataframe\">\n  <thead>\n    <tr style=\"text-align: right;\">\n      <th></th>\n      <th>width</th>\n      <th>height</th>\n      <th>relative_path</th>\n      <th>type</th>\n      <th>tags.time</th>\n      <th>tags.weather</th>\n    </tr>\n    <tr>\n      <th>id</th>\n      <th></th>\n      <th></th>\n      <th></th>\n      <th></th>\n      <th></th>\n      <th></th>\n    </tr>\n  </thead>\n  <tbody>\n    <tr>\n      <th>6091</th>\n      <td>480</td>\n      <td>640</td>\n      <td>image1.jpg</td>\n      <td>.jpg</td>\n      <td>night</td>\n      <td>rainy</td>\n    </tr>\n    <tr>\n      <th>10395</th>\n      <td>500</td>\n      <td>476</td>\n      <td>image2.jpg</td>\n      <td>.jpg</td>\n      <td>night</td>\n      <td>None</td>\n    </tr>\n  </tbody>\n</table>\n</div>",
          "text/plain": "       width  height relative_path  type tags.time tags.weather\nid                                                             \n6091     480     640    image1.jpg  .jpg     night        rainy\n10395    500     476    image2.jpg  .jpg     night         None"
         },
         "metadata": {},
         "output_type": "display_data"
        }
       ]
      }
     },
     "06f1022b8af540b7961d20e87034f6d5": {
      "model_module": "@jupyter-widgets/controls",
      "model_module_version": "2.0.0",
      "model_name": "LabelModel",
      "state": {
       "layout": "IPY_MODEL_a2296a4a425e47a697b596af912df209",
       "style": "IPY_MODEL_44654d0ed134442c8cb2a2c55dea9d1a",
       "value": "Column format"
      }
     },
     "0725df56238a46e2b88c90e0ec39021b": {
      "model_module": "@jupyter-widgets/base",
      "model_module_version": "2.0.0",
      "model_name": "LayoutModel",
      "state": {}
     },
     "076f72a208324224a2c059c30afe2087": {
      "model_module": "@jupyter-widgets/controls",
      "model_module_version": "2.0.0",
      "model_name": "TabModel",
      "state": {
       "children": [
        "IPY_MODEL_27e58a435c8e4163a26412a1741e12e5",
        "IPY_MODEL_2fd0b3d735f64c5db0f8d26ca47cddce",
        "IPY_MODEL_86f80b9d1bbb465d94cd9d332908bce8"
       ],
       "layout": "IPY_MODEL_52196ce8655c420ab7f52efd6794b35c",
       "selected_index": 0,
       "titles": [
        "Images",
        "Annotations",
        "Label Map"
       ]
      }
     },
     "079694d0f5b04ec189a75713d98155a9": {
      "model_module": "@jupyter-widgets/controls",
      "model_module_version": "2.0.0",
      "model_name": "HTMLStyleModel",
      "state": {
       "description_width": "",
       "font_size": null,
       "text_color": null
      }
     },
     "0861fa44d82b4122acec6969b476a723": {
      "model_module": "@jupyter-widgets/controls",
      "model_module_version": "2.0.0",
      "model_name": "HTMLStyleModel",
      "state": {
       "description_width": "",
       "font_size": null,
       "text_color": null
      }
     },
     "08f673c3556346ca822060a9d59e36d4": {
      "model_module": "@jupyter-widgets/base",
      "model_module_version": "2.0.0",
      "model_name": "LayoutModel",
      "state": {}
     },
     "094209b6633741e2bd532ec562c7b09d": {
      "model_module": "@jupyter-widgets/controls",
      "model_module_version": "2.0.0",
      "model_name": "LabelStyleModel",
      "state": {
       "description_width": "",
       "font_family": null,
       "font_size": null,
       "font_style": null,
       "font_variant": null,
       "font_weight": null,
       "text_color": null,
       "text_decoration": null
      }
     },
     "0956bd685355401e9999b41503a8d80d": {
      "model_module": "@jupyter-widgets/base",
      "model_module_version": "2.0.0",
      "model_name": "LayoutModel",
      "state": {}
     },
     "09ca7a759f8d487d9236acc2edaf32ae": {
      "model_module": "@jupyter-widgets/output",
      "model_module_version": "1.0.0",
      "model_name": "OutputModel",
      "state": {
       "layout": "IPY_MODEL_02885eb99f4b4bd7ab2c8caac0e21f21",
       "outputs": [
        {
         "data": {
          "text/html": "<style type=\"text/css\">\n#T_df075 th {\n  border-right: 1px solid #F0F0F0;\n}\n</style>\n<table id=\"T_df075\">\n  <thead>\n    <tr>\n      <th class=\"blank level0\" >&nbsp;</th>\n      <th id=\"T_df075_level0_col0\" class=\"col_heading level0 col0\" >width</th>\n      <th id=\"T_df075_level0_col1\" class=\"col_heading level0 col1\" >height</th>\n      <th id=\"T_df075_level0_col2\" class=\"col_heading level0 col2\" >relative_path</th>\n      <th id=\"T_df075_level0_col3\" class=\"col_heading level0 col3\" >type</th>\n      <th id=\"T_df075_level0_col4\" class=\"col_heading level0 col4\" colspan=\"2\">tags</th>\n    </tr>\n    <tr>\n      <th class=\"blank level1\" >&nbsp;</th>\n      <th id=\"T_df075_level1_col0\" class=\"col_heading level1 col0\" ></th>\n      <th id=\"T_df075_level1_col1\" class=\"col_heading level1 col1\" ></th>\n      <th id=\"T_df075_level1_col2\" class=\"col_heading level1 col2\" ></th>\n      <th id=\"T_df075_level1_col3\" class=\"col_heading level1 col3\" ></th>\n      <th id=\"T_df075_level1_col4\" class=\"col_heading level1 col4\" >time</th>\n      <th id=\"T_df075_level1_col5\" class=\"col_heading level1 col5\" >weather</th>\n    </tr>\n    <tr>\n      <th class=\"index_name level0\" >id</th>\n      <th class=\"blank col0\" >&nbsp;</th>\n      <th class=\"blank col1\" >&nbsp;</th>\n      <th class=\"blank col2\" >&nbsp;</th>\n      <th class=\"blank col3\" >&nbsp;</th>\n      <th class=\"blank col4\" >&nbsp;</th>\n      <th class=\"blank col5\" >&nbsp;</th>\n    </tr>\n  </thead>\n  <tbody>\n    <tr>\n      <th id=\"T_df075_level0_row0\" class=\"row_heading level0 row0\" >6091</th>\n      <td id=\"T_df075_row0_col0\" class=\"data row0 col0\" >480</td>\n      <td id=\"T_df075_row0_col1\" class=\"data row0 col1\" >640</td>\n      <td id=\"T_df075_row0_col2\" class=\"data row0 col2\" >image1.jpg</td>\n      <td id=\"T_df075_row0_col3\" class=\"data row0 col3\" >.jpg</td>\n      <td id=\"T_df075_row0_col4\" class=\"data row0 col4\" >night</td>\n      <td id=\"T_df075_row0_col5\" class=\"data row0 col5\" >rainy</td>\n    </tr>\n    <tr>\n      <th id=\"T_df075_level0_row1\" class=\"row_heading level0 row1\" >10395</th>\n      <td id=\"T_df075_row1_col0\" class=\"data row1 col0\" >500</td>\n      <td id=\"T_df075_row1_col1\" class=\"data row1 col1\" >476</td>\n      <td id=\"T_df075_row1_col2\" class=\"data row1 col2\" >image2.jpg</td>\n      <td id=\"T_df075_row1_col3\" class=\"data row1 col3\" >.jpg</td>\n      <td id=\"T_df075_row1_col4\" class=\"data row1 col4\" >night</td>\n      <td id=\"T_df075_row1_col5\" class=\"data row1 col5\" >None</td>\n    </tr>\n  </tbody>\n</table>\n",
          "text/plain": "<pandas.io.formats.style.Styler at 0x3020e9850>"
         },
         "metadata": {},
         "output_type": "display_data"
        }
       ]
      }
     },
     "0a7a04ac4aad4bc4983e00a45e134e20": {
      "model_module": "@jupyter-widgets/base",
      "model_module_version": "2.0.0",
      "model_name": "LayoutModel",
      "state": {}
     },
     "0a7f0728bb6145bcbad272e98ecd4097": {
      "model_module": "@jupyter-widgets/controls",
      "model_module_version": "2.0.0",
      "model_name": "VBoxModel",
      "state": {
       "children": [
        "IPY_MODEL_9d90ca1893c14a7e98e29bc67d9c893b",
        "IPY_MODEL_7f7be1bd470c4f12a72eb57d293f53c7"
       ],
       "layout": "IPY_MODEL_61c444dae0084bbf950d2a0adb991c29"
      }
     },
     "0ac01f3061214b6ab3aad2e6b94fedc8": {
      "model_module": "@jupyter-widgets/controls",
      "model_module_version": "2.0.0",
      "model_name": "HBoxModel",
      "state": {
       "children": [
        "IPY_MODEL_5adc1bd1797645c59defe71c9df3d1a8",
        "IPY_MODEL_923d138e7b874eb899f6377c01b482cf"
       ],
       "layout": "IPY_MODEL_5ad9a7f264b94c32b59cc6756b11fedc"
      }
     },
     "0c5008e01da84903b006af8c83a247fb": {
      "model_module": "@jupyter-widgets/controls",
      "model_module_version": "2.0.0",
      "model_name": "VBoxModel",
      "state": {
       "children": [
        "IPY_MODEL_6d8dbc0984b34120b6585dfded6f31a6",
        "IPY_MODEL_87952fa04acc4fd8806846b79e4dc2d4"
       ],
       "layout": "IPY_MODEL_911ccd880acb4d04bd47db295971efab"
      }
     },
     "0d427295ce8648edb6feda0b853ca625": {
      "model_module": "@jupyter-widgets/controls",
      "model_module_version": "2.0.0",
      "model_name": "VBoxModel",
      "state": {
       "children": [
        "IPY_MODEL_4e3ddb0c052f47e2bcf37aaa0327f337",
        "IPY_MODEL_702d869bb364435e93b918e02477e2e6"
       ],
       "layout": "IPY_MODEL_8bdb1a75f0d04172873d26771641eb84"
      }
     },
     "0e50c330ab3540008935e217fa8c6d6a": {
      "model_module": "@jupyter-widgets/base",
      "model_module_version": "2.0.0",
      "model_name": "LayoutModel",
      "state": {}
     },
     "0e92ca4ee30f4fcd9710db58e97170ad": {
      "model_module": "@jupyter-widgets/controls",
      "model_module_version": "2.0.0",
      "model_name": "HTMLModel",
      "state": {
       "layout": "IPY_MODEL_e9c406676f114897812eab475214e9ef",
       "style": "IPY_MODEL_9fbafa2cf430439a82a1fe9f9ba06238",
       "value": "<p><span style='white-space: pre-wrap; font-weight: bold'>Dataset object containing 2 images and 2 objects\nName :\n\tsmall_tagged_dataset\nImages root :\n\t../../test_lours/test_data/caipy_dataset/tags/small_tagged_dataset/Images</span></p>"
      }
     },
     "0fad252a59174bc191d0d3becb8d21ca": {
      "model_module": "@jupyter-widgets/output",
      "model_module_version": "1.0.0",
      "model_name": "OutputModel",
      "state": {
       "layout": "IPY_MODEL_1e7fc06dd2dd4905ab259cfdc3894b5a",
       "outputs": [
        {
         "data": {
          "text/html": "<style type=\"text/css\">\n#T_5ad76 th {\n  border-right: 1px solid #F0F0F0;\n}\n</style>\n<table id=\"T_5ad76\">\n  <thead>\n    <tr>\n      <th class=\"blank level0\" >&nbsp;</th>\n      <th id=\"T_5ad76_level0_col0\" class=\"col_heading level0 col0\" >width</th>\n      <th id=\"T_5ad76_level0_col1\" class=\"col_heading level0 col1\" >height</th>\n      <th id=\"T_5ad76_level0_col2\" class=\"col_heading level0 col2\" >relative_path</th>\n      <th id=\"T_5ad76_level0_col3\" class=\"col_heading level0 col3\" >type</th>\n      <th id=\"T_5ad76_level0_col4\" class=\"col_heading level0 col4\" colspan=\"2\">tags</th>\n    </tr>\n    <tr>\n      <th class=\"blank level1\" >&nbsp;</th>\n      <th id=\"T_5ad76_level1_col0\" class=\"col_heading level1 col0\" ></th>\n      <th id=\"T_5ad76_level1_col1\" class=\"col_heading level1 col1\" ></th>\n      <th id=\"T_5ad76_level1_col2\" class=\"col_heading level1 col2\" ></th>\n      <th id=\"T_5ad76_level1_col3\" class=\"col_heading level1 col3\" ></th>\n      <th id=\"T_5ad76_level1_col4\" class=\"col_heading level1 col4\" >time</th>\n      <th id=\"T_5ad76_level1_col5\" class=\"col_heading level1 col5\" >weather</th>\n    </tr>\n    <tr>\n      <th class=\"index_name level0\" >id</th>\n      <th class=\"blank col0\" >&nbsp;</th>\n      <th class=\"blank col1\" >&nbsp;</th>\n      <th class=\"blank col2\" >&nbsp;</th>\n      <th class=\"blank col3\" >&nbsp;</th>\n      <th class=\"blank col4\" >&nbsp;</th>\n      <th class=\"blank col5\" >&nbsp;</th>\n    </tr>\n  </thead>\n  <tbody>\n    <tr>\n      <th id=\"T_5ad76_level0_row0\" class=\"row_heading level0 row0\" >6091</th>\n      <td id=\"T_5ad76_row0_col0\" class=\"data row0 col0\" >480</td>\n      <td id=\"T_5ad76_row0_col1\" class=\"data row0 col1\" >640</td>\n      <td id=\"T_5ad76_row0_col2\" class=\"data row0 col2\" >image1.jpg</td>\n      <td id=\"T_5ad76_row0_col3\" class=\"data row0 col3\" >.jpg</td>\n      <td id=\"T_5ad76_row0_col4\" class=\"data row0 col4\" >night</td>\n      <td id=\"T_5ad76_row0_col5\" class=\"data row0 col5\" >rainy</td>\n    </tr>\n    <tr>\n      <th id=\"T_5ad76_level0_row1\" class=\"row_heading level0 row1\" >10395</th>\n      <td id=\"T_5ad76_row1_col0\" class=\"data row1 col0\" >500</td>\n      <td id=\"T_5ad76_row1_col1\" class=\"data row1 col1\" >476</td>\n      <td id=\"T_5ad76_row1_col2\" class=\"data row1 col2\" >image2.jpg</td>\n      <td id=\"T_5ad76_row1_col3\" class=\"data row1 col3\" >.jpg</td>\n      <td id=\"T_5ad76_row1_col4\" class=\"data row1 col4\" >night</td>\n      <td id=\"T_5ad76_row1_col5\" class=\"data row1 col5\" >None</td>\n    </tr>\n  </tbody>\n</table>\n",
          "text/plain": "<pandas.io.formats.style.Styler at 0x3021cd8d0>"
         },
         "metadata": {},
         "output_type": "display_data"
        }
       ]
      }
     },
     "102523b7282d445cbf63ed9a47263f26": {
      "model_module": "@jupyter-widgets/controls",
      "model_module_version": "2.0.0",
      "model_name": "DropdownModel",
      "state": {
       "_options_labels": [
        "raw",
        "nested"
       ],
       "index": 1,
       "layout": "IPY_MODEL_cc3eea07c5a9499a9b200d1bb1e0b629",
       "style": "IPY_MODEL_7b5d82b95dbe493cb1104c90fe815051"
      }
     },
     "10791595ff20425ab1a1b36c5d8ccf17": {
      "model_module": "@jupyter-widgets/controls",
      "model_module_version": "2.0.0",
      "model_name": "VBoxModel",
      "state": {
       "children": [
        "IPY_MODEL_c05f2a5cd5054153be4c8763f70dd2e5",
        "IPY_MODEL_e21c88a692f54f33830adebe16aa5ef0"
       ],
       "layout": "IPY_MODEL_11c33c171f914d30ba66925bb635b183"
      }
     },
     "10c0c7121b5b4c54831ebee82e121a24": {
      "model_module": "@jupyter-widgets/controls",
      "model_module_version": "2.0.0",
      "model_name": "LabelStyleModel",
      "state": {
       "description_width": "",
       "font_family": null,
       "font_size": null,
       "font_style": null,
       "font_variant": null,
       "font_weight": null,
       "text_color": null,
       "text_decoration": null
      }
     },
     "118a6546b9334a3eb642a7fa1ff7277f": {
      "model_module": "@jupyter-widgets/base",
      "model_module_version": "2.0.0",
      "model_name": "LayoutModel",
      "state": {}
     },
     "11a76d67a9a843549682dc5d908560d4": {
      "model_module": "@jupyter-widgets/base",
      "model_module_version": "2.0.0",
      "model_name": "LayoutModel",
      "state": {}
     },
     "11c33c171f914d30ba66925bb635b183": {
      "model_module": "@jupyter-widgets/base",
      "model_module_version": "2.0.0",
      "model_name": "LayoutModel",
      "state": {}
     },
     "145e26a3fc634e89868d951ad0980198": {
      "model_module": "@jupyter-widgets/base",
      "model_module_version": "2.0.0",
      "model_name": "LayoutModel",
      "state": {}
     },
     "15532729471142a5bccc33e61f594d0e": {
      "model_module": "@jupyter-widgets/controls",
      "model_module_version": "2.0.0",
      "model_name": "StackModel",
      "state": {
       "children": [
        "IPY_MODEL_9cd9e70c862645c79cf30f05c2fb99b4",
        "IPY_MODEL_724c5af4f03d406083910e7e6eb68058"
       ],
       "layout": "IPY_MODEL_118a6546b9334a3eb642a7fa1ff7277f",
       "selected_index": 1,
       "titles": [
        "",
        ""
       ]
      }
     },
     "15fd75c8e40643b2a02b60e6a771cfe5": {
      "model_module": "@jupyter-widgets/output",
      "model_module_version": "1.0.0",
      "model_name": "OutputModel",
      "state": {
       "layout": "IPY_MODEL_72d2668cd58440c0ad10f4c174028c08",
       "outputs": [
        {
         "data": {
          "text/html": "<div>\n<style scoped>\n    .dataframe tbody tr th:only-of-type {\n        vertical-align: middle;\n    }\n\n    .dataframe tbody tr th {\n        vertical-align: top;\n    }\n\n    .dataframe thead th {\n        text-align: right;\n    }\n</style>\n<table border=\"1\" class=\"dataframe\">\n  <thead>\n    <tr style=\"text-align: right;\">\n      <th></th>\n      <th>width</th>\n      <th>height</th>\n      <th>relative_path</th>\n      <th>type</th>\n      <th>tags.time</th>\n      <th>tags.weather</th>\n    </tr>\n    <tr>\n      <th>id</th>\n      <th></th>\n      <th></th>\n      <th></th>\n      <th></th>\n      <th></th>\n      <th></th>\n    </tr>\n  </thead>\n  <tbody>\n    <tr>\n      <th>6091</th>\n      <td>480</td>\n      <td>640</td>\n      <td>image1.jpg</td>\n      <td>.jpg</td>\n      <td>night</td>\n      <td>rainy</td>\n    </tr>\n    <tr>\n      <th>10395</th>\n      <td>500</td>\n      <td>476</td>\n      <td>image2.jpg</td>\n      <td>.jpg</td>\n      <td>night</td>\n      <td>None</td>\n    </tr>\n  </tbody>\n</table>\n</div>",
          "text/plain": "       width  height relative_path  type tags.time tags.weather\nid                                                             \n6091     480     640    image1.jpg  .jpg     night        rainy\n10395    500     476    image2.jpg  .jpg     night         None"
         },
         "metadata": {},
         "output_type": "display_data"
        }
       ]
      }
     },
     "16eb61e6db014bdba0d48020e66326b9": {
      "model_module": "@jupyter-widgets/controls",
      "model_module_version": "2.0.0",
      "model_name": "LabelStyleModel",
      "state": {
       "description_width": "",
       "font_family": null,
       "font_size": null,
       "font_style": null,
       "font_variant": null,
       "font_weight": null,
       "text_color": null,
       "text_decoration": null
      }
     },
     "171562c893454c9eb8fb17ab31629477": {
      "model_module": "@jupyter-widgets/base",
      "model_module_version": "2.0.0",
      "model_name": "LayoutModel",
      "state": {}
     },
     "171755c726fc4961b8b3a44c1c97f894": {
      "model_module": "@jupyter-widgets/base",
      "model_module_version": "2.0.0",
      "model_name": "LayoutModel",
      "state": {}
     },
     "17dd15166eb74906b4d3753bc0a9f01b": {
      "model_module": "@jupyter-widgets/controls",
      "model_module_version": "2.0.0",
      "model_name": "HTMLModel",
      "state": {
       "layout": "IPY_MODEL_4b323e7106dd4d4ab82b4ffeda837e0b",
       "style": "IPY_MODEL_7dc163fc405c452a9d18038dbf30270d",
       "value": " 2/2 [00:00&lt;00:00, 240.91it/s]"
      }
     },
     "181cff8851134779b46b515d5ed76785": {
      "model_module": "@jupyter-widgets/base",
      "model_module_version": "2.0.0",
      "model_name": "LayoutModel",
      "state": {}
     },
     "1981ea24319c4f44b37516c35d08697e": {
      "model_module": "@jupyter-widgets/base",
      "model_module_version": "2.0.0",
      "model_name": "LayoutModel",
      "state": {}
     },
     "1985296dc9dd47639744d50332140aa0": {
      "model_module": "@jupyter-widgets/output",
      "model_module_version": "1.0.0",
      "model_name": "OutputModel",
      "state": {
       "layout": "IPY_MODEL_995c86e9f4a04866baada76518c8aa57",
       "outputs": [
        {
         "data": {
          "text/html": "<div>\n<style scoped>\n    .dataframe tbody tr th:only-of-type {\n        vertical-align: middle;\n    }\n\n    .dataframe tbody tr th {\n        vertical-align: top;\n    }\n\n    .dataframe thead th {\n        text-align: right;\n    }\n</style>\n<table border=\"1\" class=\"dataframe\">\n  <thead>\n    <tr style=\"text-align: right;\">\n      <th></th>\n      <th>width</th>\n      <th>height</th>\n      <th>relative_path</th>\n      <th>type</th>\n      <th>tags.time</th>\n      <th>tags.weather</th>\n    </tr>\n    <tr>\n      <th>id</th>\n      <th></th>\n      <th></th>\n      <th></th>\n      <th></th>\n      <th></th>\n      <th></th>\n    </tr>\n  </thead>\n  <tbody>\n    <tr>\n      <th>6091</th>\n      <td>480</td>\n      <td>640</td>\n      <td>image1.jpg</td>\n      <td>.jpg</td>\n      <td>night</td>\n      <td>rainy</td>\n    </tr>\n    <tr>\n      <th>10395</th>\n      <td>500</td>\n      <td>476</td>\n      <td>image2.jpg</td>\n      <td>.jpg</td>\n      <td>night</td>\n      <td>None</td>\n    </tr>\n  </tbody>\n</table>\n</div>",
          "text/plain": "       width  height relative_path  type tags.time tags.weather\nid                                                             \n6091     480     640    image1.jpg  .jpg     night        rainy\n10395    500     476    image2.jpg  .jpg     night         None"
         },
         "metadata": {},
         "output_type": "display_data"
        }
       ]
      }
     },
     "19b997d773684d27934186f82f9f2bb4": {
      "model_module": "@jupyter-widgets/output",
      "model_module_version": "1.0.0",
      "model_name": "OutputModel",
      "state": {
       "layout": "IPY_MODEL_5a903c092fee41ffa06bc163ebc2b7be",
       "outputs": [
        {
         "data": {
          "text/html": "<style type=\"text/css\">\n#T_fc68c th {\n  border-right: 1px solid #F0F0F0;\n}\n</style>\n<table id=\"T_fc68c\">\n  <thead>\n    <tr>\n      <th class=\"blank level0\" >&nbsp;</th>\n      <th id=\"T_fc68c_level0_col0\" class=\"col_heading level0 col0\" >width</th>\n      <th id=\"T_fc68c_level0_col1\" class=\"col_heading level0 col1\" >height</th>\n      <th id=\"T_fc68c_level0_col2\" class=\"col_heading level0 col2\" >relative_path</th>\n      <th id=\"T_fc68c_level0_col3\" class=\"col_heading level0 col3\" >type</th>\n      <th id=\"T_fc68c_level0_col4\" class=\"col_heading level0 col4\" colspan=\"2\">tags</th>\n    </tr>\n    <tr>\n      <th class=\"blank level1\" >&nbsp;</th>\n      <th id=\"T_fc68c_level1_col0\" class=\"col_heading level1 col0\" ></th>\n      <th id=\"T_fc68c_level1_col1\" class=\"col_heading level1 col1\" ></th>\n      <th id=\"T_fc68c_level1_col2\" class=\"col_heading level1 col2\" ></th>\n      <th id=\"T_fc68c_level1_col3\" class=\"col_heading level1 col3\" ></th>\n      <th id=\"T_fc68c_level1_col4\" class=\"col_heading level1 col4\" >time</th>\n      <th id=\"T_fc68c_level1_col5\" class=\"col_heading level1 col5\" >weather</th>\n    </tr>\n    <tr>\n      <th class=\"index_name level0\" >id</th>\n      <th class=\"blank col0\" >&nbsp;</th>\n      <th class=\"blank col1\" >&nbsp;</th>\n      <th class=\"blank col2\" >&nbsp;</th>\n      <th class=\"blank col3\" >&nbsp;</th>\n      <th class=\"blank col4\" >&nbsp;</th>\n      <th class=\"blank col5\" >&nbsp;</th>\n    </tr>\n  </thead>\n  <tbody>\n    <tr>\n      <th id=\"T_fc68c_level0_row0\" class=\"row_heading level0 row0\" >6091</th>\n      <td id=\"T_fc68c_row0_col0\" class=\"data row0 col0\" >480</td>\n      <td id=\"T_fc68c_row0_col1\" class=\"data row0 col1\" >640</td>\n      <td id=\"T_fc68c_row0_col2\" class=\"data row0 col2\" >image1.jpg</td>\n      <td id=\"T_fc68c_row0_col3\" class=\"data row0 col3\" >.jpg</td>\n      <td id=\"T_fc68c_row0_col4\" class=\"data row0 col4\" >night</td>\n      <td id=\"T_fc68c_row0_col5\" class=\"data row0 col5\" >rainy</td>\n    </tr>\n    <tr>\n      <th id=\"T_fc68c_level0_row1\" class=\"row_heading level0 row1\" >10395</th>\n      <td id=\"T_fc68c_row1_col0\" class=\"data row1 col0\" >500</td>\n      <td id=\"T_fc68c_row1_col1\" class=\"data row1 col1\" >476</td>\n      <td id=\"T_fc68c_row1_col2\" class=\"data row1 col2\" >image2.jpg</td>\n      <td id=\"T_fc68c_row1_col3\" class=\"data row1 col3\" >.jpg</td>\n      <td id=\"T_fc68c_row1_col4\" class=\"data row1 col4\" >night</td>\n      <td id=\"T_fc68c_row1_col5\" class=\"data row1 col5\" >None</td>\n    </tr>\n  </tbody>\n</table>\n",
          "text/plain": "<pandas.io.formats.style.Styler at 0x3021ad8d0>"
         },
         "metadata": {},
         "output_type": "display_data"
        }
       ]
      }
     },
     "1a059635e4b54c60ac43f816b0234a47": {
      "model_module": "@jupyter-widgets/controls",
      "model_module_version": "2.0.0",
      "model_name": "FloatProgressModel",
      "state": {
       "bar_style": "success",
       "layout": "IPY_MODEL_9d57f5b5d92e4e1786b4356af50b6cad",
       "max": 2,
       "style": "IPY_MODEL_db338223590648b3b03d412a8a4a9e58",
       "value": 2
      }
     },
     "1cc7eb4fbda84aa799d8a544f92cb3a8": {
      "model_module": "@jupyter-widgets/base",
      "model_module_version": "2.0.0",
      "model_name": "LayoutModel",
      "state": {}
     },
     "1d0889c84e914606a8fce2da106d95db": {
      "model_module": "@jupyter-widgets/base",
      "model_module_version": "2.0.0",
      "model_name": "LayoutModel",
      "state": {}
     },
     "1d7533c6d0c04d409d34e1c8da8db57b": {
      "model_module": "@jupyter-widgets/base",
      "model_module_version": "2.0.0",
      "model_name": "LayoutModel",
      "state": {}
     },
     "1ddb2f919dcd42fa88940ff33eda3108": {
      "model_module": "@jupyter-widgets/base",
      "model_module_version": "2.0.0",
      "model_name": "LayoutModel",
      "state": {}
     },
     "1e7fc06dd2dd4905ab259cfdc3894b5a": {
      "model_module": "@jupyter-widgets/base",
      "model_module_version": "2.0.0",
      "model_name": "LayoutModel",
      "state": {}
     },
     "1ea88e7d098d46268aa1c330a1f885a5": {
      "model_module": "@jupyter-widgets/base",
      "model_module_version": "2.0.0",
      "model_name": "LayoutModel",
      "state": {}
     },
     "1edfc963714448ce986ef09990ffb1a1": {
      "model_module": "@jupyter-widgets/controls",
      "model_module_version": "2.0.0",
      "model_name": "VBoxModel",
      "state": {
       "children": [
        "IPY_MODEL_7a934878b74440759d163ee2c262eafc",
        "IPY_MODEL_fff1b7f819ce4eb58c6b8bb910d73d41"
       ],
       "layout": "IPY_MODEL_3dd65077dba0499d9871617e597bfe1d"
      }
     },
     "1f0be6ee221e48b8a92c1e37cc76ca8a": {
      "model_module": "@jupyter-widgets/controls",
      "model_module_version": "2.0.0",
      "model_name": "LinkModel",
      "state": {
       "source": [
        "IPY_MODEL_c83a6880bed94908b866518ba549c781",
        "index"
       ],
       "target": [
        "IPY_MODEL_eb8fe446efe847e0abfb878b5c30b043",
        "selected_index"
       ]
      }
     },
     "1f3d97b642d040ce876c3713a32f79f3": {
      "model_module": "@jupyter-widgets/base",
      "model_module_version": "2.0.0",
      "model_name": "LayoutModel",
      "state": {}
     },
     "1f81c136141340f3b9dabdd428e56b03": {
      "model_module": "@jupyter-widgets/base",
      "model_module_version": "2.0.0",
      "model_name": "LayoutModel",
      "state": {}
     },
     "201a23b56cf64f47a347e9f08e9ce82c": {
      "model_module": "@jupyter-widgets/base",
      "model_module_version": "2.0.0",
      "model_name": "LayoutModel",
      "state": {}
     },
     "206b0dc0effa4b82b8edde6f926855d8": {
      "model_module": "@jupyter-widgets/controls",
      "model_module_version": "2.0.0",
      "model_name": "VBoxModel",
      "state": {
       "children": [
        "IPY_MODEL_a08235c9fa7e456f9072fe755b163da2",
        "IPY_MODEL_5c0fabf6029042b0b293d773e38622ea"
       ],
       "layout": "IPY_MODEL_8ba5185ae8f748eb831aff0055533934"
      }
     },
     "2177bbd8079545dcafbf6bf9e9f6a5f5": {
      "model_module": "@jupyter-widgets/controls",
      "model_module_version": "2.0.0",
      "model_name": "LinkModel",
      "state": {
       "source": [
        "IPY_MODEL_a82bb9407c1d44b3be7f7c4085d1aaa0",
        "index"
       ],
       "target": [
        "IPY_MODEL_cb4f78a088914791a6986522d7dff3d8",
        "selected_index"
       ]
      }
     },
     "225471f443064aa1b05d15e8200851c4": {
      "model_module": "@jupyter-widgets/base",
      "model_module_version": "2.0.0",
      "model_name": "LayoutModel",
      "state": {}
     },
     "226d737a565b4f93a78c43c77ceee68d": {
      "model_module": "@jupyter-widgets/output",
      "model_module_version": "1.0.0",
      "model_name": "OutputModel",
      "state": {
       "layout": "IPY_MODEL_c9e5e33944354daea0213434be043ea8",
       "outputs": [
        {
         "data": {
          "text/html": "<div>\n<style scoped>\n    .dataframe tbody tr th:only-of-type {\n        vertical-align: middle;\n    }\n\n    .dataframe tbody tr th {\n        vertical-align: top;\n    }\n\n    .dataframe thead th {\n        text-align: right;\n    }\n</style>\n<table border=\"1\" class=\"dataframe\">\n  <thead>\n    <tr style=\"text-align: right;\">\n      <th></th>\n      <th>category string</th>\n    </tr>\n    <tr>\n      <th>category_id</th>\n      <th></th>\n    </tr>\n  </thead>\n  <tbody>\n    <tr>\n      <th>13</th>\n      <td>stop sign</td>\n    </tr>\n    <tr>\n      <th>88</th>\n      <td>teddy bear</td>\n    </tr>\n  </tbody>\n</table>\n</div>",
          "text/plain": "            category string\ncategory_id                \n13                stop sign\n88               teddy bear"
         },
         "metadata": {},
         "output_type": "display_data"
        }
       ]
      }
     },
     "22eebccdb47e48dbb008f02647bb6694": {
      "model_module": "@jupyter-widgets/output",
      "model_module_version": "1.0.0",
      "model_name": "OutputModel",
      "state": {
       "layout": "IPY_MODEL_2694016c933f4576bf20f27d2dd8c5ba",
       "outputs": [
        {
         "data": {
          "text/html": "<style type=\"text/css\">\n#T_03288 th {\n  border-right: 1px solid #F0F0F0;\n}\n</style>\n<table id=\"T_03288\">\n  <thead>\n    <tr>\n      <th class=\"blank level0\" >&nbsp;</th>\n      <th id=\"T_03288_level0_col0\" class=\"col_heading level0 col0\" >width</th>\n      <th id=\"T_03288_level0_col1\" class=\"col_heading level0 col1\" >height</th>\n      <th id=\"T_03288_level0_col2\" class=\"col_heading level0 col2\" >relative_path</th>\n      <th id=\"T_03288_level0_col3\" class=\"col_heading level0 col3\" >type</th>\n      <th id=\"T_03288_level0_col4\" class=\"col_heading level0 col4\" colspan=\"2\">tags</th>\n    </tr>\n    <tr>\n      <th class=\"blank level1\" >&nbsp;</th>\n      <th id=\"T_03288_level1_col0\" class=\"col_heading level1 col0\" ></th>\n      <th id=\"T_03288_level1_col1\" class=\"col_heading level1 col1\" ></th>\n      <th id=\"T_03288_level1_col2\" class=\"col_heading level1 col2\" ></th>\n      <th id=\"T_03288_level1_col3\" class=\"col_heading level1 col3\" ></th>\n      <th id=\"T_03288_level1_col4\" class=\"col_heading level1 col4\" >time</th>\n      <th id=\"T_03288_level1_col5\" class=\"col_heading level1 col5\" >weather</th>\n    </tr>\n    <tr>\n      <th class=\"index_name level0\" >id</th>\n      <th class=\"blank col0\" >&nbsp;</th>\n      <th class=\"blank col1\" >&nbsp;</th>\n      <th class=\"blank col2\" >&nbsp;</th>\n      <th class=\"blank col3\" >&nbsp;</th>\n      <th class=\"blank col4\" >&nbsp;</th>\n      <th class=\"blank col5\" >&nbsp;</th>\n    </tr>\n  </thead>\n  <tbody>\n    <tr>\n      <th id=\"T_03288_level0_row0\" class=\"row_heading level0 row0\" >6091</th>\n      <td id=\"T_03288_row0_col0\" class=\"data row0 col0\" >480</td>\n      <td id=\"T_03288_row0_col1\" class=\"data row0 col1\" >640</td>\n      <td id=\"T_03288_row0_col2\" class=\"data row0 col2\" >image1.jpg</td>\n      <td id=\"T_03288_row0_col3\" class=\"data row0 col3\" >.jpg</td>\n      <td id=\"T_03288_row0_col4\" class=\"data row0 col4\" >night</td>\n      <td id=\"T_03288_row0_col5\" class=\"data row0 col5\" >rainy</td>\n    </tr>\n    <tr>\n      <th id=\"T_03288_level0_row1\" class=\"row_heading level0 row1\" >10395</th>\n      <td id=\"T_03288_row1_col0\" class=\"data row1 col0\" >500</td>\n      <td id=\"T_03288_row1_col1\" class=\"data row1 col1\" >476</td>\n      <td id=\"T_03288_row1_col2\" class=\"data row1 col2\" >image2.jpg</td>\n      <td id=\"T_03288_row1_col3\" class=\"data row1 col3\" >.jpg</td>\n      <td id=\"T_03288_row1_col4\" class=\"data row1 col4\" >night</td>\n      <td id=\"T_03288_row1_col5\" class=\"data row1 col5\" >None</td>\n    </tr>\n  </tbody>\n</table>\n",
          "text/plain": "<pandas.io.formats.style.Styler at 0x301078b90>"
         },
         "metadata": {},
         "output_type": "display_data"
        }
       ]
      }
     },
     "239e1312b0e5477db524269078b9f371": {
      "model_module": "@jupyter-widgets/base",
      "model_module_version": "2.0.0",
      "model_name": "LayoutModel",
      "state": {}
     },
     "23d90b1116024b2a83bdbf994661bf96": {
      "model_module": "@jupyter-widgets/output",
      "model_module_version": "1.0.0",
      "model_name": "OutputModel",
      "state": {
       "layout": "IPY_MODEL_79d711af9e0649a393a25b2180874041",
       "outputs": [
        {
         "data": {
          "text/html": "<style type=\"text/css\">\n#T_39290 th {\n  border-right: 1px solid #F0F0F0;\n}\n</style>\n<table id=\"T_39290\">\n  <thead>\n    <tr>\n      <th class=\"blank level0\" >&nbsp;</th>\n      <th id=\"T_39290_level0_col0\" class=\"col_heading level0 col0\" >width</th>\n      <th id=\"T_39290_level0_col1\" class=\"col_heading level0 col1\" >height</th>\n      <th id=\"T_39290_level0_col2\" class=\"col_heading level0 col2\" >relative_path</th>\n      <th id=\"T_39290_level0_col3\" class=\"col_heading level0 col3\" >type</th>\n      <th id=\"T_39290_level0_col4\" class=\"col_heading level0 col4\" colspan=\"2\">tags</th>\n    </tr>\n    <tr>\n      <th class=\"blank level1\" >&nbsp;</th>\n      <th id=\"T_39290_level1_col0\" class=\"col_heading level1 col0\" ></th>\n      <th id=\"T_39290_level1_col1\" class=\"col_heading level1 col1\" ></th>\n      <th id=\"T_39290_level1_col2\" class=\"col_heading level1 col2\" ></th>\n      <th id=\"T_39290_level1_col3\" class=\"col_heading level1 col3\" ></th>\n      <th id=\"T_39290_level1_col4\" class=\"col_heading level1 col4\" >time</th>\n      <th id=\"T_39290_level1_col5\" class=\"col_heading level1 col5\" >weather</th>\n    </tr>\n    <tr>\n      <th class=\"index_name level0\" >id</th>\n      <th class=\"blank col0\" >&nbsp;</th>\n      <th class=\"blank col1\" >&nbsp;</th>\n      <th class=\"blank col2\" >&nbsp;</th>\n      <th class=\"blank col3\" >&nbsp;</th>\n      <th class=\"blank col4\" >&nbsp;</th>\n      <th class=\"blank col5\" >&nbsp;</th>\n    </tr>\n  </thead>\n  <tbody>\n    <tr>\n      <th id=\"T_39290_level0_row0\" class=\"row_heading level0 row0\" >6091</th>\n      <td id=\"T_39290_row0_col0\" class=\"data row0 col0\" >480</td>\n      <td id=\"T_39290_row0_col1\" class=\"data row0 col1\" >640</td>\n      <td id=\"T_39290_row0_col2\" class=\"data row0 col2\" >image1.jpg</td>\n      <td id=\"T_39290_row0_col3\" class=\"data row0 col3\" >.jpg</td>\n      <td id=\"T_39290_row0_col4\" class=\"data row0 col4\" >night</td>\n      <td id=\"T_39290_row0_col5\" class=\"data row0 col5\" >rainy</td>\n    </tr>\n    <tr>\n      <th id=\"T_39290_level0_row1\" class=\"row_heading level0 row1\" >10395</th>\n      <td id=\"T_39290_row1_col0\" class=\"data row1 col0\" >500</td>\n      <td id=\"T_39290_row1_col1\" class=\"data row1 col1\" >476</td>\n      <td id=\"T_39290_row1_col2\" class=\"data row1 col2\" >image2.jpg</td>\n      <td id=\"T_39290_row1_col3\" class=\"data row1 col3\" >.jpg</td>\n      <td id=\"T_39290_row1_col4\" class=\"data row1 col4\" >night</td>\n      <td id=\"T_39290_row1_col5\" class=\"data row1 col5\" >None</td>\n    </tr>\n  </tbody>\n</table>\n",
          "text/plain": "<pandas.io.formats.style.Styler at 0x30210ba50>"
         },
         "metadata": {},
         "output_type": "display_data"
        }
       ]
      }
     },
     "23f228485664473d8df1dd44a984fa11": {
      "model_module": "@jupyter-widgets/output",
      "model_module_version": "1.0.0",
      "model_name": "OutputModel",
      "state": {
       "layout": "IPY_MODEL_e88a1dfd998f4ca3aa583863f7f1aef2",
       "outputs": [
        {
         "data": {
          "application/vnd.jupyter.widget-view+json": {
           "model_id": "fc70beccc8ee448fa418dcfc47e25ddb",
           "version_major": 2,
           "version_minor": 0
          },
          "text/plain": "VBox(children=(HBox(children=(Label(value='Column format'), Dropdown(options=('raw', 'nested'), value='raw')))…"
         },
         "metadata": {},
         "output_type": "display_data"
        }
       ]
      }
     },
     "23f555c6d17944849ad0d2bb303cb735": {
      "model_module": "@jupyter-widgets/base",
      "model_module_version": "2.0.0",
      "model_name": "LayoutModel",
      "state": {}
     },
     "25213655415b4639b0a3fcb687150a52": {
      "model_module": "@jupyter-widgets/output",
      "model_module_version": "1.0.0",
      "model_name": "OutputModel",
      "state": {
       "layout": "IPY_MODEL_9ff26407b6d4450f8f601ed287e6e4bc",
       "outputs": [
        {
         "data": {
          "text/html": "<style type=\"text/css\">\n#T_3dc22 th {\n  border-right: 1px solid #F0F0F0;\n}\n</style>\n<table id=\"T_3dc22\">\n  <thead>\n    <tr>\n      <th class=\"blank level0\" >&nbsp;</th>\n      <th id=\"T_3dc22_level0_col0\" class=\"col_heading level0 col0\" >image_id</th>\n      <th id=\"T_3dc22_level0_col1\" class=\"col_heading level0 col1\" >category_str</th>\n      <th id=\"T_3dc22_level0_col2\" class=\"col_heading level0 col2\" >category_id</th>\n      <th id=\"T_3dc22_level0_col3\" class=\"col_heading level0 col3\" >box_x_min</th>\n      <th id=\"T_3dc22_level0_col4\" class=\"col_heading level0 col4\" >box_y_min</th>\n      <th id=\"T_3dc22_level0_col5\" class=\"col_heading level0 col5\" >box_width</th>\n      <th id=\"T_3dc22_level0_col6\" class=\"col_heading level0 col6\" >box_height</th>\n      <th id=\"T_3dc22_level0_col7\" class=\"col_heading level0 col7\" >area</th>\n      <th id=\"T_3dc22_level0_col8\" class=\"col_heading level0 col8\" colspan=\"3\">attributes</th>\n    </tr>\n    <tr>\n      <th class=\"blank level1\" >&nbsp;</th>\n      <th id=\"T_3dc22_level1_col0\" class=\"col_heading level1 col0\" ></th>\n      <th id=\"T_3dc22_level1_col1\" class=\"col_heading level1 col1\" ></th>\n      <th id=\"T_3dc22_level1_col2\" class=\"col_heading level1 col2\" ></th>\n      <th id=\"T_3dc22_level1_col3\" class=\"col_heading level1 col3\" ></th>\n      <th id=\"T_3dc22_level1_col4\" class=\"col_heading level1 col4\" ></th>\n      <th id=\"T_3dc22_level1_col5\" class=\"col_heading level1 col5\" ></th>\n      <th id=\"T_3dc22_level1_col6\" class=\"col_heading level1 col6\" ></th>\n      <th id=\"T_3dc22_level1_col7\" class=\"col_heading level1 col7\" ></th>\n      <th id=\"T_3dc22_level1_col8\" class=\"col_heading level1 col8\" >colors</th>\n      <th id=\"T_3dc22_level1_col9\" class=\"col_heading level1 col9\" >occluded</th>\n      <th id=\"T_3dc22_level1_col10\" class=\"col_heading level1 col10\" >position</th>\n    </tr>\n    <tr>\n      <th class=\"index_name level0\" >id</th>\n      <th class=\"blank col0\" >&nbsp;</th>\n      <th class=\"blank col1\" >&nbsp;</th>\n      <th class=\"blank col2\" >&nbsp;</th>\n      <th class=\"blank col3\" >&nbsp;</th>\n      <th class=\"blank col4\" >&nbsp;</th>\n      <th class=\"blank col5\" >&nbsp;</th>\n      <th class=\"blank col6\" >&nbsp;</th>\n      <th class=\"blank col7\" >&nbsp;</th>\n      <th class=\"blank col8\" >&nbsp;</th>\n      <th class=\"blank col9\" >&nbsp;</th>\n      <th class=\"blank col10\" >&nbsp;</th>\n    </tr>\n  </thead>\n  <tbody>\n    <tr>\n      <th id=\"T_3dc22_level0_row0\" class=\"row_heading level0 row0\" >269791</th>\n      <td id=\"T_3dc22_row0_col0\" class=\"data row0 col0\" >6091</td>\n      <td id=\"T_3dc22_row0_col1\" class=\"data row0 col1\" >stop sign</td>\n      <td id=\"T_3dc22_row0_col2\" class=\"data row0 col2\" >13</td>\n      <td id=\"T_3dc22_row0_col3\" class=\"data row0 col3\" >100.220000</td>\n      <td id=\"T_3dc22_row0_col4\" class=\"data row0 col4\" >117.540000</td>\n      <td id=\"T_3dc22_row0_col5\" class=\"data row0 col5\" >253.430000</td>\n      <td id=\"T_3dc22_row0_col6\" class=\"data row0 col6\" >274.900000</td>\n      <td id=\"T_3dc22_row0_col7\" class=\"data row0 col7\" >46726.430300</td>\n      <td id=\"T_3dc22_row0_col8\" class=\"data row0 col8\" >['red', 'white']</td>\n      <td id=\"T_3dc22_row0_col9\" class=\"data row0 col9\" >True</td>\n      <td id=\"T_3dc22_row0_col10\" class=\"data row0 col10\" >None</td>\n    </tr>\n  </tbody>\n</table>\n",
          "text/plain": "<pandas.io.formats.style.Styler at 0x302301810>"
         },
         "metadata": {},
         "output_type": "display_data"
        }
       ]
      }
     },
     "2543f405ad23473197be5e23f6f11a7b": {
      "model_module": "@jupyter-widgets/base",
      "model_module_version": "2.0.0",
      "model_name": "LayoutModel",
      "state": {}
     },
     "2694016c933f4576bf20f27d2dd8c5ba": {
      "model_module": "@jupyter-widgets/base",
      "model_module_version": "2.0.0",
      "model_name": "LayoutModel",
      "state": {}
     },
     "269781257d4547eb9846caffbba7f308": {
      "model_module": "@jupyter-widgets/controls",
      "model_module_version": "2.0.0",
      "model_name": "DescriptionStyleModel",
      "state": {
       "description_width": ""
      }
     },
     "27399ebe56be4aa5b4af3cdf44a6c693": {
      "model_module": "@jupyter-widgets/base",
      "model_module_version": "2.0.0",
      "model_name": "LayoutModel",
      "state": {}
     },
     "27b959666fe640798afefcfff3aa2b26": {
      "model_module": "@jupyter-widgets/base",
      "model_module_version": "2.0.0",
      "model_name": "LayoutModel",
      "state": {}
     },
     "27e3269d2c21476481604c21046075dc": {
      "model_module": "@jupyter-widgets/base",
      "model_module_version": "2.0.0",
      "model_name": "LayoutModel",
      "state": {}
     },
     "27e58a435c8e4163a26412a1741e12e5": {
      "model_module": "@jupyter-widgets/output",
      "model_module_version": "1.0.0",
      "model_name": "OutputModel",
      "state": {
       "layout": "IPY_MODEL_754358b619bd42a884f1605607095f26",
       "outputs": [
        {
         "data": {
          "application/vnd.jupyter.widget-view+json": {
           "model_id": "8999c4e53eea4a1b93044f01ebcaf831",
           "version_major": 2,
           "version_minor": 0
          },
          "text/plain": "VBox(children=(HBox(children=(Label(value='Column format'), Dropdown(index=1, options=('raw', 'nested'), value…"
         },
         "metadata": {},
         "output_type": "display_data"
        }
       ]
      }
     },
     "28c56dd1b1264b78a6e2d28df4208709": {
      "model_module": "@jupyter-widgets/controls",
      "model_module_version": "2.0.0",
      "model_name": "DescriptionStyleModel",
      "state": {
       "description_width": ""
      }
     },
     "28fda02590c845be8ee2d3c502bc8172": {
      "model_module": "@jupyter-widgets/base",
      "model_module_version": "2.0.0",
      "model_name": "LayoutModel",
      "state": {}
     },
     "29ca484ee22746279ffcfc006748af4f": {
      "model_module": "@jupyter-widgets/controls",
      "model_module_version": "2.0.0",
      "model_name": "StackModel",
      "state": {
       "children": [
        "IPY_MODEL_4d56a1f5de8141cebb5778cbfe5dbb56",
        "IPY_MODEL_deeecc5324c34e6187847840b98059b3"
       ],
       "layout": "IPY_MODEL_43b785aef6924f34ac1bd67fbe1f7e09",
       "selected_index": 1,
       "titles": [
        "",
        ""
       ]
      }
     },
     "2a4c1095d7d9419b86481842718b8b21": {
      "model_module": "@jupyter-widgets/base",
      "model_module_version": "2.0.0",
      "model_name": "LayoutModel",
      "state": {}
     },
     "2b58e27357ea44cc9a8d0f358eff8595": {
      "model_module": "@jupyter-widgets/base",
      "model_module_version": "2.0.0",
      "model_name": "LayoutModel",
      "state": {}
     },
     "2b8b8ef54a4242d3a7b52180a359f42a": {
      "model_module": "@jupyter-widgets/controls",
      "model_module_version": "2.0.0",
      "model_name": "LabelStyleModel",
      "state": {
       "description_width": "",
       "font_family": null,
       "font_size": null,
       "font_style": null,
       "font_variant": null,
       "font_weight": null,
       "text_color": null,
       "text_decoration": null
      }
     },
     "2c98f9c294a447b89e7a1d9f1a323c35": {
      "model_module": "@jupyter-widgets/base",
      "model_module_version": "2.0.0",
      "model_name": "LayoutModel",
      "state": {}
     },
     "2db262d862524e9081733f58f7389ef0": {
      "model_module": "@jupyter-widgets/controls",
      "model_module_version": "2.0.0",
      "model_name": "LabelModel",
      "state": {
       "layout": "IPY_MODEL_728691b5e3924e6ab7592ff01ba4ffb9",
       "style": "IPY_MODEL_7a9ef69070f34884abc1c00d0a752989",
       "value": "Column format"
      }
     },
     "2dbb7b08de92406fa0661689c0f7167e": {
      "model_module": "@jupyter-widgets/base",
      "model_module_version": "2.0.0",
      "model_name": "LayoutModel",
      "state": {}
     },
     "2deb4121525045ac9f899956f4dfdc65": {
      "model_module": "@jupyter-widgets/base",
      "model_module_version": "2.0.0",
      "model_name": "LayoutModel",
      "state": {}
     },
     "2e6fe66e4365416b92bb1aee14fe420e": {
      "model_module": "@jupyter-widgets/base",
      "model_module_version": "2.0.0",
      "model_name": "LayoutModel",
      "state": {
       "width": "auto"
      }
     },
     "2ee35f68a8af4d709ae4223d5675421e": {
      "model_module": "@jupyter-widgets/controls",
      "model_module_version": "2.0.0",
      "model_name": "HTMLModel",
      "state": {
       "layout": "IPY_MODEL_d879e9886d5a403db85ef3183404d41e",
       "style": "IPY_MODEL_77aaa7b1357e4d348e418146d2f12cf8",
       "value": "<p><span style='white-space: pre-wrap; font-weight: bold'>Dataset object containing 2 images and 2 objects\nName :\n\tsmall_tagged_dataset\nImages root :\n\t../../test_lours/test_data/caipy_dataset/tags/small_tagged_dataset/Images</span></p>"
      }
     },
     "2fd0b3d735f64c5db0f8d26ca47cddce": {
      "model_module": "@jupyter-widgets/output",
      "model_module_version": "1.0.0",
      "model_name": "OutputModel",
      "state": {
       "layout": "IPY_MODEL_a41157b4e60b4dfb8b8dfac4eea12277",
       "outputs": [
        {
         "data": {
          "application/vnd.jupyter.widget-view+json": {
           "model_id": "f03fc87d9a5a45278368e3a4faa783e5",
           "version_major": 2,
           "version_minor": 0
          },
          "text/plain": "VBox(children=(HBox(children=(Label(value='Column format'), Dropdown(index=1, options=('raw', 'nested'), value…"
         },
         "metadata": {},
         "output_type": "display_data"
        }
       ]
      }
     },
     "3017ebf9b60b4c6881e90428742650aa": {
      "model_module": "@jupyter-widgets/controls",
      "model_module_version": "2.0.0",
      "model_name": "LinkModel",
      "state": {
       "source": [
        "IPY_MODEL_900d616b60a14f4faafed905563bf6b2",
        "index"
       ],
       "target": [
        "IPY_MODEL_29ca484ee22746279ffcfc006748af4f",
        "selected_index"
       ]
      }
     },
     "3120fe66b6c641c8999f76c16fd05756": {
      "model_module": "@jupyter-widgets/base",
      "model_module_version": "2.0.0",
      "model_name": "LayoutModel",
      "state": {}
     },
     "313559b38cae4135854a2b3de200c12c": {
      "model_module": "@jupyter-widgets/output",
      "model_module_version": "1.0.0",
      "model_name": "OutputModel",
      "state": {
       "layout": "IPY_MODEL_145e26a3fc634e89868d951ad0980198",
       "outputs": [
        {
         "data": {
          "text/html": "<style type=\"text/css\">\n#T_a5cda th {\n  border-right: 1px solid #F0F0F0;\n}\n</style>\n<table id=\"T_a5cda\">\n  <thead>\n    <tr>\n      <th class=\"blank level0\" >&nbsp;</th>\n      <th id=\"T_a5cda_level0_col0\" class=\"col_heading level0 col0\" >image_id</th>\n      <th id=\"T_a5cda_level0_col1\" class=\"col_heading level0 col1\" >category_str</th>\n      <th id=\"T_a5cda_level0_col2\" class=\"col_heading level0 col2\" >category_id</th>\n      <th id=\"T_a5cda_level0_col3\" class=\"col_heading level0 col3\" >box_x_min</th>\n      <th id=\"T_a5cda_level0_col4\" class=\"col_heading level0 col4\" >box_y_min</th>\n      <th id=\"T_a5cda_level0_col5\" class=\"col_heading level0 col5\" >box_width</th>\n      <th id=\"T_a5cda_level0_col6\" class=\"col_heading level0 col6\" >box_height</th>\n      <th id=\"T_a5cda_level0_col7\" class=\"col_heading level0 col7\" >area</th>\n      <th id=\"T_a5cda_level0_col8\" class=\"col_heading level0 col8\" colspan=\"3\">attributes</th>\n    </tr>\n    <tr>\n      <th class=\"blank level1\" >&nbsp;</th>\n      <th id=\"T_a5cda_level1_col0\" class=\"col_heading level1 col0\" ></th>\n      <th id=\"T_a5cda_level1_col1\" class=\"col_heading level1 col1\" ></th>\n      <th id=\"T_a5cda_level1_col2\" class=\"col_heading level1 col2\" ></th>\n      <th id=\"T_a5cda_level1_col3\" class=\"col_heading level1 col3\" ></th>\n      <th id=\"T_a5cda_level1_col4\" class=\"col_heading level1 col4\" ></th>\n      <th id=\"T_a5cda_level1_col5\" class=\"col_heading level1 col5\" ></th>\n      <th id=\"T_a5cda_level1_col6\" class=\"col_heading level1 col6\" ></th>\n      <th id=\"T_a5cda_level1_col7\" class=\"col_heading level1 col7\" ></th>\n      <th id=\"T_a5cda_level1_col8\" class=\"col_heading level1 col8\" >colors</th>\n      <th id=\"T_a5cda_level1_col9\" class=\"col_heading level1 col9\" >occluded</th>\n      <th id=\"T_a5cda_level1_col10\" class=\"col_heading level1 col10\" >position</th>\n    </tr>\n    <tr>\n      <th class=\"index_name level0\" >id</th>\n      <th class=\"blank col0\" >&nbsp;</th>\n      <th class=\"blank col1\" >&nbsp;</th>\n      <th class=\"blank col2\" >&nbsp;</th>\n      <th class=\"blank col3\" >&nbsp;</th>\n      <th class=\"blank col4\" >&nbsp;</th>\n      <th class=\"blank col5\" >&nbsp;</th>\n      <th class=\"blank col6\" >&nbsp;</th>\n      <th class=\"blank col7\" >&nbsp;</th>\n      <th class=\"blank col8\" >&nbsp;</th>\n      <th class=\"blank col9\" >&nbsp;</th>\n      <th class=\"blank col10\" >&nbsp;</th>\n    </tr>\n  </thead>\n  <tbody>\n    <tr>\n      <th id=\"T_a5cda_level0_row0\" class=\"row_heading level0 row0\" >269791</th>\n      <td id=\"T_a5cda_row0_col0\" class=\"data row0 col0\" >6091</td>\n      <td id=\"T_a5cda_row0_col1\" class=\"data row0 col1\" >stop sign</td>\n      <td id=\"T_a5cda_row0_col2\" class=\"data row0 col2\" >13</td>\n      <td id=\"T_a5cda_row0_col3\" class=\"data row0 col3\" >100.220000</td>\n      <td id=\"T_a5cda_row0_col4\" class=\"data row0 col4\" >117.540000</td>\n      <td id=\"T_a5cda_row0_col5\" class=\"data row0 col5\" >253.430000</td>\n      <td id=\"T_a5cda_row0_col6\" class=\"data row0 col6\" >274.900000</td>\n      <td id=\"T_a5cda_row0_col7\" class=\"data row0 col7\" >46726.430300</td>\n      <td id=\"T_a5cda_row0_col8\" class=\"data row0 col8\" >['red', 'white']</td>\n      <td id=\"T_a5cda_row0_col9\" class=\"data row0 col9\" >True</td>\n      <td id=\"T_a5cda_row0_col10\" class=\"data row0 col10\" >None</td>\n    </tr>\n    <tr>\n      <th id=\"T_a5cda_level0_row1\" class=\"row_heading level0 row1\" >1161234</th>\n      <td id=\"T_a5cda_row1_col0\" class=\"data row1 col0\" >10395</td>\n      <td id=\"T_a5cda_row1_col1\" class=\"data row1 col1\" >teddy bear</td>\n      <td id=\"T_a5cda_row1_col2\" class=\"data row1 col2\" >88</td>\n      <td id=\"T_a5cda_row1_col3\" class=\"data row1 col3\" >49.190000</td>\n      <td id=\"T_a5cda_row1_col4\" class=\"data row1 col4\" >66.200000</td>\n      <td id=\"T_a5cda_row1_col5\" class=\"data row1 col5\" >378.970000</td>\n      <td id=\"T_a5cda_row1_col6\" class=\"data row1 col6\" >379.680000</td>\n      <td id=\"T_a5cda_row1_col7\" class=\"data row1 col7\" >84587.439100</td>\n      <td id=\"T_a5cda_row1_col8\" class=\"data row1 col8\" >['grey']</td>\n      <td id=\"T_a5cda_row1_col9\" class=\"data row1 col9\" >None</td>\n      <td id=\"T_a5cda_row1_col10\" class=\"data row1 col10\" >['front']</td>\n    </tr>\n  </tbody>\n</table>\n",
          "text/plain": "<pandas.io.formats.style.Styler at 0x302394890>"
         },
         "metadata": {},
         "output_type": "display_data"
        }
       ]
      }
     },
     "31c5d933f8954b53aff4042d7c4a730f": {
      "model_module": "@jupyter-widgets/controls",
      "model_module_version": "2.0.0",
      "model_name": "VBoxModel",
      "state": {
       "children": [
        "IPY_MODEL_e06df622bad0467593bac76719fc642d",
        "IPY_MODEL_af0286102c30462182a050b7a8c0bbbb"
       ],
       "layout": "IPY_MODEL_798739cf16154875adef4b46dba55dd7"
      }
     },
     "32290a1049df4359aa2e6d349aaf0d37": {
      "model_module": "@jupyter-widgets/controls",
      "model_module_version": "2.0.0",
      "model_name": "TabModel",
      "state": {
       "children": [
        "IPY_MODEL_cf56742867ef4d5cb2f28173c9fa4168",
        "IPY_MODEL_f884dfec3bd045bc87a902bca4fa8d96",
        "IPY_MODEL_c81abda19be44766b6d17001c7d30786"
       ],
       "layout": "IPY_MODEL_dc0bd2efcfea491c8d1a7b99e5e4dcfc",
       "selected_index": 0,
       "titles": [
        "Images",
        "Annotations",
        "Label Map"
       ]
      }
     },
     "328680272bb24157b11c23de0736351e": {
      "model_module": "@jupyter-widgets/base",
      "model_module_version": "2.0.0",
      "model_name": "LayoutModel",
      "state": {}
     },
     "3569328d5b5b45e5895ce8f96922bb2e": {
      "model_module": "@jupyter-widgets/output",
      "model_module_version": "1.0.0",
      "model_name": "OutputModel",
      "state": {
       "layout": "IPY_MODEL_044a2ad90a4a47e39a1ad93183680ad1",
       "outputs": [
        {
         "data": {
          "text/html": "<style type=\"text/css\">\n#T_4f884 th {\n  border-right: 1px solid #F0F0F0;\n}\n</style>\n<table id=\"T_4f884\">\n  <thead>\n    <tr>\n      <th class=\"blank level0\" >&nbsp;</th>\n      <th id=\"T_4f884_level0_col0\" class=\"col_heading level0 col0\" >image_id</th>\n      <th id=\"T_4f884_level0_col1\" class=\"col_heading level0 col1\" >category_str</th>\n      <th id=\"T_4f884_level0_col2\" class=\"col_heading level0 col2\" >category_id</th>\n      <th id=\"T_4f884_level0_col3\" class=\"col_heading level0 col3\" >box_x_min</th>\n      <th id=\"T_4f884_level0_col4\" class=\"col_heading level0 col4\" >box_y_min</th>\n      <th id=\"T_4f884_level0_col5\" class=\"col_heading level0 col5\" >box_width</th>\n      <th id=\"T_4f884_level0_col6\" class=\"col_heading level0 col6\" >box_height</th>\n      <th id=\"T_4f884_level0_col7\" class=\"col_heading level0 col7\" >area</th>\n      <th id=\"T_4f884_level0_col8\" class=\"col_heading level0 col8\" colspan=\"3\">attributes</th>\n    </tr>\n    <tr>\n      <th class=\"blank level1\" >&nbsp;</th>\n      <th id=\"T_4f884_level1_col0\" class=\"col_heading level1 col0\" ></th>\n      <th id=\"T_4f884_level1_col1\" class=\"col_heading level1 col1\" ></th>\n      <th id=\"T_4f884_level1_col2\" class=\"col_heading level1 col2\" ></th>\n      <th id=\"T_4f884_level1_col3\" class=\"col_heading level1 col3\" ></th>\n      <th id=\"T_4f884_level1_col4\" class=\"col_heading level1 col4\" ></th>\n      <th id=\"T_4f884_level1_col5\" class=\"col_heading level1 col5\" ></th>\n      <th id=\"T_4f884_level1_col6\" class=\"col_heading level1 col6\" ></th>\n      <th id=\"T_4f884_level1_col7\" class=\"col_heading level1 col7\" ></th>\n      <th id=\"T_4f884_level1_col8\" class=\"col_heading level1 col8\" >occluded</th>\n      <th id=\"T_4f884_level1_col9\" class=\"col_heading level1 col9\" >position</th>\n      <th id=\"T_4f884_level1_col10\" class=\"col_heading level1 col10\" >colors</th>\n    </tr>\n    <tr>\n      <th class=\"index_name level0\" >id</th>\n      <th class=\"blank col0\" >&nbsp;</th>\n      <th class=\"blank col1\" >&nbsp;</th>\n      <th class=\"blank col2\" >&nbsp;</th>\n      <th class=\"blank col3\" >&nbsp;</th>\n      <th class=\"blank col4\" >&nbsp;</th>\n      <th class=\"blank col5\" >&nbsp;</th>\n      <th class=\"blank col6\" >&nbsp;</th>\n      <th class=\"blank col7\" >&nbsp;</th>\n      <th class=\"blank col8\" >&nbsp;</th>\n      <th class=\"blank col9\" >&nbsp;</th>\n      <th class=\"blank col10\" >&nbsp;</th>\n    </tr>\n  </thead>\n  <tbody>\n    <tr>\n      <th id=\"T_4f884_level0_row0\" class=\"row_heading level0 row0\" >269791</th>\n      <td id=\"T_4f884_row0_col0\" class=\"data row0 col0\" >6091</td>\n      <td id=\"T_4f884_row0_col1\" class=\"data row0 col1\" >stop sign</td>\n      <td id=\"T_4f884_row0_col2\" class=\"data row0 col2\" >13</td>\n      <td id=\"T_4f884_row0_col3\" class=\"data row0 col3\" >100.220000</td>\n      <td id=\"T_4f884_row0_col4\" class=\"data row0 col4\" >117.540000</td>\n      <td id=\"T_4f884_row0_col5\" class=\"data row0 col5\" >253.430000</td>\n      <td id=\"T_4f884_row0_col6\" class=\"data row0 col6\" >274.900000</td>\n      <td id=\"T_4f884_row0_col7\" class=\"data row0 col7\" >46726.430300</td>\n      <td id=\"T_4f884_row0_col8\" class=\"data row0 col8\" >True</td>\n      <td id=\"T_4f884_row0_col9\" class=\"data row0 col9\" >None</td>\n      <td id=\"T_4f884_row0_col10\" class=\"data row0 col10\" >['red', 'white']</td>\n    </tr>\n    <tr>\n      <th id=\"T_4f884_level0_row1\" class=\"row_heading level0 row1\" >1161234</th>\n      <td id=\"T_4f884_row1_col0\" class=\"data row1 col0\" >10395</td>\n      <td id=\"T_4f884_row1_col1\" class=\"data row1 col1\" >teddy bear</td>\n      <td id=\"T_4f884_row1_col2\" class=\"data row1 col2\" >88</td>\n      <td id=\"T_4f884_row1_col3\" class=\"data row1 col3\" >49.190000</td>\n      <td id=\"T_4f884_row1_col4\" class=\"data row1 col4\" >66.200000</td>\n      <td id=\"T_4f884_row1_col5\" class=\"data row1 col5\" >378.970000</td>\n      <td id=\"T_4f884_row1_col6\" class=\"data row1 col6\" >379.680000</td>\n      <td id=\"T_4f884_row1_col7\" class=\"data row1 col7\" >84587.439100</td>\n      <td id=\"T_4f884_row1_col8\" class=\"data row1 col8\" >None</td>\n      <td id=\"T_4f884_row1_col9\" class=\"data row1 col9\" >['front']</td>\n      <td id=\"T_4f884_row1_col10\" class=\"data row1 col10\" >['grey']</td>\n    </tr>\n  </tbody>\n</table>\n",
          "text/plain": "<pandas.io.formats.style.Styler at 0x302180490>"
         },
         "metadata": {},
         "output_type": "display_data"
        }
       ]
      }
     },
     "35f10ad086084cb78952ed7023694d82": {
      "model_module": "@jupyter-widgets/base",
      "model_module_version": "2.0.0",
      "model_name": "LayoutModel",
      "state": {}
     },
     "3636a991e5014af48f5f3ca137b94b7e": {
      "model_module": "@jupyter-widgets/base",
      "model_module_version": "2.0.0",
      "model_name": "LayoutModel",
      "state": {}
     },
     "365cbee73bca4ff38996d5779bac0a37": {
      "model_module": "@jupyter-widgets/base",
      "model_module_version": "2.0.0",
      "model_name": "LayoutModel",
      "state": {}
     },
     "366e3e6b775746aab4f6aa050be6f328": {
      "model_module": "@jupyter-widgets/base",
      "model_module_version": "2.0.0",
      "model_name": "LayoutModel",
      "state": {}
     },
     "37513390d6be4aebb0bb7545a1ff9598": {
      "model_module": "@jupyter-widgets/controls",
      "model_module_version": "2.0.0",
      "model_name": "HTMLStyleModel",
      "state": {
       "description_width": "",
       "font_size": null,
       "text_color": null
      }
     },
     "37a0193ba43747d881967b4d4f139f37": {
      "model_module": "@jupyter-widgets/controls",
      "model_module_version": "2.0.0",
      "model_name": "LabelModel",
      "state": {
       "layout": "IPY_MODEL_8e633a49cdf8467b942a120252411aad",
       "style": "IPY_MODEL_3ac8828cf7a04b3e8ff04d64ba1fe96b",
       "value": "Column format"
      }
     },
     "3906f5764ac7478caf5a4b73b2021870": {
      "model_module": "@jupyter-widgets/controls",
      "model_module_version": "2.0.0",
      "model_name": "LabelStyleModel",
      "state": {
       "description_width": "",
       "font_family": null,
       "font_size": null,
       "font_style": null,
       "font_variant": null,
       "font_weight": null,
       "text_color": null,
       "text_decoration": null
      }
     },
     "3956d24db51943deba0ce144b6077c97": {
      "model_module": "@jupyter-widgets/base",
      "model_module_version": "2.0.0",
      "model_name": "LayoutModel",
      "state": {}
     },
     "39dcbdb8115840ce9e3f95965e569553": {
      "model_module": "@jupyter-widgets/controls",
      "model_module_version": "2.0.0",
      "model_name": "LabelStyleModel",
      "state": {
       "description_width": "",
       "font_family": null,
       "font_size": null,
       "font_style": null,
       "font_variant": null,
       "font_weight": null,
       "text_color": null,
       "text_decoration": null
      }
     },
     "3ac8828cf7a04b3e8ff04d64ba1fe96b": {
      "model_module": "@jupyter-widgets/controls",
      "model_module_version": "2.0.0",
      "model_name": "LabelStyleModel",
      "state": {
       "description_width": "",
       "font_family": null,
       "font_size": null,
       "font_style": null,
       "font_variant": null,
       "font_weight": null,
       "text_color": null,
       "text_decoration": null
      }
     },
     "3b2faecc3312488888d661f7a1a67222": {
      "model_module": "@jupyter-widgets/controls",
      "model_module_version": "2.0.0",
      "model_name": "VBoxModel",
      "state": {
       "children": [
        "IPY_MODEL_ee138ef164834f71a83526d9cf8c0214",
        "IPY_MODEL_cb4f78a088914791a6986522d7dff3d8"
       ],
       "layout": "IPY_MODEL_b3c04b1c3d1b425c8eb7ce4c2322c1e0"
      }
     },
     "3b3d8ff719c241fc912a4badc6e3307f": {
      "model_module": "@jupyter-widgets/output",
      "model_module_version": "1.0.0",
      "model_name": "OutputModel",
      "state": {
       "layout": "IPY_MODEL_402254e1c87b48b9b2252d347ee02bd7",
       "outputs": [
        {
         "data": {
          "text/html": "<style type=\"text/css\">\n#T_81cad th {\n  border-right: 1px solid #F0F0F0;\n}\n</style>\n<table id=\"T_81cad\">\n  <thead>\n    <tr>\n      <th class=\"blank level0\" >&nbsp;</th>\n      <th id=\"T_81cad_level0_col0\" class=\"col_heading level0 col0\" >width</th>\n      <th id=\"T_81cad_level0_col1\" class=\"col_heading level0 col1\" >height</th>\n      <th id=\"T_81cad_level0_col2\" class=\"col_heading level0 col2\" >relative_path</th>\n      <th id=\"T_81cad_level0_col3\" class=\"col_heading level0 col3\" >type</th>\n      <th id=\"T_81cad_level0_col4\" class=\"col_heading level0 col4\" colspan=\"2\">tags</th>\n    </tr>\n    <tr>\n      <th class=\"blank level1\" >&nbsp;</th>\n      <th id=\"T_81cad_level1_col0\" class=\"col_heading level1 col0\" ></th>\n      <th id=\"T_81cad_level1_col1\" class=\"col_heading level1 col1\" ></th>\n      <th id=\"T_81cad_level1_col2\" class=\"col_heading level1 col2\" ></th>\n      <th id=\"T_81cad_level1_col3\" class=\"col_heading level1 col3\" ></th>\n      <th id=\"T_81cad_level1_col4\" class=\"col_heading level1 col4\" >time</th>\n      <th id=\"T_81cad_level1_col5\" class=\"col_heading level1 col5\" >weather</th>\n    </tr>\n    <tr>\n      <th class=\"index_name level0\" >id</th>\n      <th class=\"blank col0\" >&nbsp;</th>\n      <th class=\"blank col1\" >&nbsp;</th>\n      <th class=\"blank col2\" >&nbsp;</th>\n      <th class=\"blank col3\" >&nbsp;</th>\n      <th class=\"blank col4\" >&nbsp;</th>\n      <th class=\"blank col5\" >&nbsp;</th>\n    </tr>\n  </thead>\n  <tbody>\n    <tr>\n      <th id=\"T_81cad_level0_row0\" class=\"row_heading level0 row0\" >6091</th>\n      <td id=\"T_81cad_row0_col0\" class=\"data row0 col0\" >480</td>\n      <td id=\"T_81cad_row0_col1\" class=\"data row0 col1\" >640</td>\n      <td id=\"T_81cad_row0_col2\" class=\"data row0 col2\" >image1.jpg</td>\n      <td id=\"T_81cad_row0_col3\" class=\"data row0 col3\" >.jpg</td>\n      <td id=\"T_81cad_row0_col4\" class=\"data row0 col4\" >night</td>\n      <td id=\"T_81cad_row0_col5\" class=\"data row0 col5\" >rainy</td>\n    </tr>\n    <tr>\n      <th id=\"T_81cad_level0_row1\" class=\"row_heading level0 row1\" >10395</th>\n      <td id=\"T_81cad_row1_col0\" class=\"data row1 col0\" >500</td>\n      <td id=\"T_81cad_row1_col1\" class=\"data row1 col1\" >476</td>\n      <td id=\"T_81cad_row1_col2\" class=\"data row1 col2\" >image2.jpg</td>\n      <td id=\"T_81cad_row1_col3\" class=\"data row1 col3\" >.jpg</td>\n      <td id=\"T_81cad_row1_col4\" class=\"data row1 col4\" >night</td>\n      <td id=\"T_81cad_row1_col5\" class=\"data row1 col5\" >None</td>\n    </tr>\n  </tbody>\n</table>\n",
          "text/plain": "<pandas.io.formats.style.Styler at 0x3021bb310>"
         },
         "metadata": {},
         "output_type": "display_data"
        }
       ]
      }
     },
     "3c731beabd89474dae9c9abae8993637": {
      "model_module": "@jupyter-widgets/base",
      "model_module_version": "2.0.0",
      "model_name": "LayoutModel",
      "state": {}
     },
     "3dd65077dba0499d9871617e597bfe1d": {
      "model_module": "@jupyter-widgets/base",
      "model_module_version": "2.0.0",
      "model_name": "LayoutModel",
      "state": {}
     },
     "3de5fb5e537e4464910b83b9f70cbeb1": {
      "model_module": "@jupyter-widgets/base",
      "model_module_version": "2.0.0",
      "model_name": "LayoutModel",
      "state": {}
     },
     "3dfec66068294143a42c6e3cd6b72cdb": {
      "model_module": "@jupyter-widgets/controls",
      "model_module_version": "2.0.0",
      "model_name": "VBoxModel",
      "state": {
       "children": [
        "IPY_MODEL_4da150598add4f9e8651fcb8fd2c4472",
        "IPY_MODEL_29ca484ee22746279ffcfc006748af4f"
       ],
       "layout": "IPY_MODEL_8822b69810d94d55a7acc4945e8883eb"
      }
     },
     "3eebded23c294df292b6040926030e6c": {
      "model_module": "@jupyter-widgets/base",
      "model_module_version": "2.0.0",
      "model_name": "LayoutModel",
      "state": {}
     },
     "3f107f60d6f04c2ca132a3a706dd3f71": {
      "model_module": "@jupyter-widgets/base",
      "model_module_version": "2.0.0",
      "model_name": "LayoutModel",
      "state": {}
     },
     "3fb208d78fa040b19ed102b592e800a5": {
      "model_module": "@jupyter-widgets/base",
      "model_module_version": "2.0.0",
      "model_name": "LayoutModel",
      "state": {}
     },
     "3ff7356c378943f59b98953f615ad698": {
      "model_module": "@jupyter-widgets/base",
      "model_module_version": "2.0.0",
      "model_name": "LayoutModel",
      "state": {}
     },
     "402254e1c87b48b9b2252d347ee02bd7": {
      "model_module": "@jupyter-widgets/base",
      "model_module_version": "2.0.0",
      "model_name": "LayoutModel",
      "state": {}
     },
     "43b785aef6924f34ac1bd67fbe1f7e09": {
      "model_module": "@jupyter-widgets/base",
      "model_module_version": "2.0.0",
      "model_name": "LayoutModel",
      "state": {}
     },
     "440d72fc712f49c897105769f32774e2": {
      "model_module": "@jupyter-widgets/controls",
      "model_module_version": "2.0.0",
      "model_name": "VBoxModel",
      "state": {
       "children": [
        "IPY_MODEL_889d8446b7ed46429efab77aff6a15c3",
        "IPY_MODEL_c2c3cf802edd41a586577f22c2b92493"
       ],
       "layout": "IPY_MODEL_11a76d67a9a843549682dc5d908560d4"
      }
     },
     "44654d0ed134442c8cb2a2c55dea9d1a": {
      "model_module": "@jupyter-widgets/controls",
      "model_module_version": "2.0.0",
      "model_name": "LabelStyleModel",
      "state": {
       "description_width": "",
       "font_family": null,
       "font_size": null,
       "font_style": null,
       "font_variant": null,
       "font_weight": null,
       "text_color": null,
       "text_decoration": null
      }
     },
     "4762ac4e0b38453bac382664c5754342": {
      "model_module": "@jupyter-widgets/output",
      "model_module_version": "1.0.0",
      "model_name": "OutputModel",
      "state": {
       "layout": "IPY_MODEL_b7a67e0091634d37820e74f0e3e21a37",
       "outputs": [
        {
         "data": {
          "text/html": "<div>\n<style scoped>\n    .dataframe tbody tr th:only-of-type {\n        vertical-align: middle;\n    }\n\n    .dataframe tbody tr th {\n        vertical-align: top;\n    }\n\n    .dataframe thead th {\n        text-align: right;\n    }\n</style>\n<table border=\"1\" class=\"dataframe\">\n  <thead>\n    <tr style=\"text-align: right;\">\n      <th></th>\n      <th>image_id</th>\n      <th>category_str</th>\n      <th>category_id</th>\n      <th>box_x_min</th>\n      <th>box_y_min</th>\n      <th>box_width</th>\n      <th>box_height</th>\n      <th>area</th>\n      <th>attributes.occluded</th>\n      <th>attributes.position</th>\n      <th>attributes.colors.grey</th>\n      <th>attributes.colors.red</th>\n      <th>attributes.colors.white</th>\n    </tr>\n    <tr>\n      <th>id</th>\n      <th></th>\n      <th></th>\n      <th></th>\n      <th></th>\n      <th></th>\n      <th></th>\n      <th></th>\n      <th></th>\n      <th></th>\n      <th></th>\n      <th></th>\n      <th></th>\n      <th></th>\n    </tr>\n  </thead>\n  <tbody>\n    <tr>\n      <th>269791</th>\n      <td>6091</td>\n      <td>stop sign</td>\n      <td>13</td>\n      <td>100.22</td>\n      <td>117.54</td>\n      <td>253.43</td>\n      <td>274.9</td>\n      <td>46726.4303</td>\n      <td>True</td>\n      <td>None</td>\n      <td>False</td>\n      <td>True</td>\n      <td>True</td>\n    </tr>\n  </tbody>\n</table>\n</div>",
          "text/plain": "        image_id category_str  category_id  box_x_min  box_y_min  box_width  \\\nid                                                                            \n269791      6091    stop sign           13     100.22     117.54     253.43   \n\n        box_height        area attributes.occluded attributes.position  \\\nid                                                                       \n269791       274.9  46726.4303                True                None   \n\n        attributes.colors.grey  attributes.colors.red  attributes.colors.white  \nid                                                                              \n269791                   False                   True                     True  "
         },
         "metadata": {},
         "output_type": "display_data"
        }
       ]
      }
     },
     "47930ec638f54567a0ed33f04d324e45": {
      "model_module": "@jupyter-widgets/controls",
      "model_module_version": "2.0.0",
      "model_name": "DropdownModel",
      "state": {
       "_options_labels": [
        "raw",
        "nested"
       ],
       "index": 1,
       "layout": "IPY_MODEL_72dbacdbee9043529f66fa8367932666",
       "style": "IPY_MODEL_8dda3ab2336c4c59ae313e45fb051397"
      }
     },
     "488d114f47ff4db7ba3777dec50d5144": {
      "model_module": "@jupyter-widgets/controls",
      "model_module_version": "2.0.0",
      "model_name": "LinkModel",
      "state": {
       "source": [
        "IPY_MODEL_dd669ba9d0ba4e3c806d26bea3485d44",
        "index"
       ],
       "target": [
        "IPY_MODEL_55d4dc2c795c4d9e99362036099bdc51",
        "selected_index"
       ]
      }
     },
     "48b429e7cc0d4a3ca927246fbd7acea3": {
      "model_module": "@jupyter-widgets/output",
      "model_module_version": "1.0.0",
      "model_name": "OutputModel",
      "state": {
       "layout": "IPY_MODEL_ef60d87bb03c4bf8b0f2bde22ca3317a",
       "outputs": [
        {
         "data": {
          "text/html": "<style type=\"text/css\">\n#T_3cea7 th {\n  border-right: 1px solid #F0F0F0;\n}\n</style>\n<table id=\"T_3cea7\">\n  <thead>\n    <tr>\n      <th class=\"blank level0\" >&nbsp;</th>\n      <th id=\"T_3cea7_level0_col0\" class=\"col_heading level0 col0\" >image_id</th>\n      <th id=\"T_3cea7_level0_col1\" class=\"col_heading level0 col1\" >category_str</th>\n      <th id=\"T_3cea7_level0_col2\" class=\"col_heading level0 col2\" >category_id</th>\n      <th id=\"T_3cea7_level0_col3\" class=\"col_heading level0 col3\" >box_x_min</th>\n      <th id=\"T_3cea7_level0_col4\" class=\"col_heading level0 col4\" >box_y_min</th>\n      <th id=\"T_3cea7_level0_col5\" class=\"col_heading level0 col5\" >box_width</th>\n      <th id=\"T_3cea7_level0_col6\" class=\"col_heading level0 col6\" >box_height</th>\n      <th id=\"T_3cea7_level0_col7\" class=\"col_heading level0 col7\" >area</th>\n      <th id=\"T_3cea7_level0_col8\" class=\"col_heading level0 col8\" colspan=\"5\">attributes</th>\n    </tr>\n    <tr>\n      <th class=\"blank level1\" >&nbsp;</th>\n      <th id=\"T_3cea7_level1_col0\" class=\"col_heading level1 col0\" ></th>\n      <th id=\"T_3cea7_level1_col1\" class=\"col_heading level1 col1\" ></th>\n      <th id=\"T_3cea7_level1_col2\" class=\"col_heading level1 col2\" ></th>\n      <th id=\"T_3cea7_level1_col3\" class=\"col_heading level1 col3\" ></th>\n      <th id=\"T_3cea7_level1_col4\" class=\"col_heading level1 col4\" ></th>\n      <th id=\"T_3cea7_level1_col5\" class=\"col_heading level1 col5\" ></th>\n      <th id=\"T_3cea7_level1_col6\" class=\"col_heading level1 col6\" ></th>\n      <th id=\"T_3cea7_level1_col7\" class=\"col_heading level1 col7\" ></th>\n      <th id=\"T_3cea7_level1_col8\" class=\"col_heading level1 col8\" >occluded</th>\n      <th id=\"T_3cea7_level1_col9\" class=\"col_heading level1 col9\" >position</th>\n      <th id=\"T_3cea7_level1_col10\" class=\"col_heading level1 col10\" colspan=\"3\">colors</th>\n    </tr>\n    <tr>\n      <th class=\"blank level2\" >&nbsp;</th>\n      <th id=\"T_3cea7_level2_col0\" class=\"col_heading level2 col0\" ></th>\n      <th id=\"T_3cea7_level2_col1\" class=\"col_heading level2 col1\" ></th>\n      <th id=\"T_3cea7_level2_col2\" class=\"col_heading level2 col2\" ></th>\n      <th id=\"T_3cea7_level2_col3\" class=\"col_heading level2 col3\" ></th>\n      <th id=\"T_3cea7_level2_col4\" class=\"col_heading level2 col4\" ></th>\n      <th id=\"T_3cea7_level2_col5\" class=\"col_heading level2 col5\" ></th>\n      <th id=\"T_3cea7_level2_col6\" class=\"col_heading level2 col6\" ></th>\n      <th id=\"T_3cea7_level2_col7\" class=\"col_heading level2 col7\" ></th>\n      <th id=\"T_3cea7_level2_col8\" class=\"col_heading level2 col8\" ></th>\n      <th id=\"T_3cea7_level2_col9\" class=\"col_heading level2 col9\" ></th>\n      <th id=\"T_3cea7_level2_col10\" class=\"col_heading level2 col10\" >grey</th>\n      <th id=\"T_3cea7_level2_col11\" class=\"col_heading level2 col11\" >red</th>\n      <th id=\"T_3cea7_level2_col12\" class=\"col_heading level2 col12\" >white</th>\n    </tr>\n    <tr>\n      <th class=\"index_name level0\" >id</th>\n      <th class=\"blank col0\" >&nbsp;</th>\n      <th class=\"blank col1\" >&nbsp;</th>\n      <th class=\"blank col2\" >&nbsp;</th>\n      <th class=\"blank col3\" >&nbsp;</th>\n      <th class=\"blank col4\" >&nbsp;</th>\n      <th class=\"blank col5\" >&nbsp;</th>\n      <th class=\"blank col6\" >&nbsp;</th>\n      <th class=\"blank col7\" >&nbsp;</th>\n      <th class=\"blank col8\" >&nbsp;</th>\n      <th class=\"blank col9\" >&nbsp;</th>\n      <th class=\"blank col10\" >&nbsp;</th>\n      <th class=\"blank col11\" >&nbsp;</th>\n      <th class=\"blank col12\" >&nbsp;</th>\n    </tr>\n  </thead>\n  <tbody>\n    <tr>\n      <th id=\"T_3cea7_level0_row0\" class=\"row_heading level0 row0\" >269791</th>\n      <td id=\"T_3cea7_row0_col0\" class=\"data row0 col0\" >6091</td>\n      <td id=\"T_3cea7_row0_col1\" class=\"data row0 col1\" >stop sign</td>\n      <td id=\"T_3cea7_row0_col2\" class=\"data row0 col2\" >13</td>\n      <td id=\"T_3cea7_row0_col3\" class=\"data row0 col3\" >100.220000</td>\n      <td id=\"T_3cea7_row0_col4\" class=\"data row0 col4\" >117.540000</td>\n      <td id=\"T_3cea7_row0_col5\" class=\"data row0 col5\" >253.430000</td>\n      <td id=\"T_3cea7_row0_col6\" class=\"data row0 col6\" >274.900000</td>\n      <td id=\"T_3cea7_row0_col7\" class=\"data row0 col7\" >46726.430300</td>\n      <td id=\"T_3cea7_row0_col8\" class=\"data row0 col8\" >True</td>\n      <td id=\"T_3cea7_row0_col9\" class=\"data row0 col9\" >None</td>\n      <td id=\"T_3cea7_row0_col10\" class=\"data row0 col10\" >False</td>\n      <td id=\"T_3cea7_row0_col11\" class=\"data row0 col11\" >True</td>\n      <td id=\"T_3cea7_row0_col12\" class=\"data row0 col12\" >True</td>\n    </tr>\n  </tbody>\n</table>\n",
          "text/plain": "<pandas.io.formats.style.Styler at 0x30218fbd0>"
         },
         "metadata": {},
         "output_type": "display_data"
        }
       ]
      }
     },
     "4914780c4fe5495fb27f1b38579ff8ec": {
      "model_module": "@jupyter-widgets/controls",
      "model_module_version": "2.0.0",
      "model_name": "VBoxModel",
      "state": {
       "children": [
        "IPY_MODEL_65758f2107654a61a3902f456172b7d4",
        "IPY_MODEL_c1a01f3f06c5430990a0a952b463cdbc"
       ],
       "layout": "IPY_MODEL_796db41d62814867975e3dfec24c9caa"
      }
     },
     "494e3daedd2c49c7a89a366838a412cc": {
      "model_module": "@jupyter-widgets/base",
      "model_module_version": "2.0.0",
      "model_name": "LayoutModel",
      "state": {}
     },
     "4a0477f4a50e424eb4d56efebb80befd": {
      "model_module": "@jupyter-widgets/controls",
      "model_module_version": "2.0.0",
      "model_name": "VBoxModel",
      "state": {
       "children": [
        "IPY_MODEL_56b287052e064cc2b32503accbc1fe78",
        "IPY_MODEL_fd9426f4ee7a422fb3b1832e4d6e622c"
       ],
       "layout": "IPY_MODEL_87d79ce0899744878c8043ac0b66a37a"
      }
     },
     "4a537b146130437b9e950e13376a588b": {
      "model_module": "@jupyter-widgets/base",
      "model_module_version": "2.0.0",
      "model_name": "LayoutModel",
      "state": {}
     },
     "4b323e7106dd4d4ab82b4ffeda837e0b": {
      "model_module": "@jupyter-widgets/base",
      "model_module_version": "2.0.0",
      "model_name": "LayoutModel",
      "state": {}
     },
     "4b809dfc0ece43fc960f4766317ecddc": {
      "model_module": "@jupyter-widgets/base",
      "model_module_version": "2.0.0",
      "model_name": "LayoutModel",
      "state": {}
     },
     "4ce7c5bb4eda41e98a1538fcbaeebcc6": {
      "model_module": "@jupyter-widgets/base",
      "model_module_version": "2.0.0",
      "model_name": "LayoutModel",
      "state": {}
     },
     "4d2a9e7349834459bb5412a1049e828d": {
      "model_module": "@jupyter-widgets/base",
      "model_module_version": "2.0.0",
      "model_name": "LayoutModel",
      "state": {}
     },
     "4d56a1f5de8141cebb5778cbfe5dbb56": {
      "model_module": "@jupyter-widgets/controls",
      "model_module_version": "2.0.0",
      "model_name": "StackModel",
      "state": {
       "children": [
        "IPY_MODEL_4762ac4e0b38453bac382664c5754342",
        "IPY_MODEL_48b429e7cc0d4a3ca927246fbd7acea3"
       ],
       "layout": "IPY_MODEL_fdbd43dcdbfd43a3b3dc9d1c796e6ae1",
       "selected_index": 1,
       "titles": [
        "",
        ""
       ]
      }
     },
     "4d8e462989174cc5a88c2196b63c919a": {
      "model_module": "@jupyter-widgets/base",
      "model_module_version": "2.0.0",
      "model_name": "LayoutModel",
      "state": {}
     },
     "4da150598add4f9e8651fcb8fd2c4472": {
      "model_module": "@jupyter-widgets/controls",
      "model_module_version": "2.0.0",
      "model_name": "HBoxModel",
      "state": {
       "children": [
        "IPY_MODEL_0c5008e01da84903b006af8c83a247fb",
        "IPY_MODEL_b78fe149407541fa9bef3efc3ceeaefe"
       ],
       "layout": "IPY_MODEL_2deb4121525045ac9f899956f4dfdc65"
      }
     },
     "4e0b88374085483fba27a49a3e23f4b4": {
      "model_module": "@jupyter-widgets/controls",
      "model_module_version": "2.0.0",
      "model_name": "LabelModel",
      "state": {
       "layout": "IPY_MODEL_ab87dc80cdf74ddca7c3445cd3eddcdb",
       "style": "IPY_MODEL_3906f5764ac7478caf5a4b73b2021870",
       "value": "Column format"
      }
     },
     "4e3ddb0c052f47e2bcf37aaa0327f337": {
      "model_module": "@jupyter-widgets/controls",
      "model_module_version": "2.0.0",
      "model_name": "HBoxModel",
      "state": {
       "children": [
        "IPY_MODEL_2db262d862524e9081733f58f7389ef0",
        "IPY_MODEL_102523b7282d445cbf63ed9a47263f26"
       ],
       "layout": "IPY_MODEL_73271936f6694793ba2a2f2e1c7762f6"
      }
     },
     "4eca588b26b34484a755770e8e4f4b3f": {
      "model_module": "@jupyter-widgets/controls",
      "model_module_version": "2.0.0",
      "model_name": "LabelStyleModel",
      "state": {
       "description_width": "",
       "font_family": null,
       "font_size": null,
       "font_style": null,
       "font_variant": null,
       "font_weight": null,
       "text_color": null,
       "text_decoration": null
      }
     },
     "52196ce8655c420ab7f52efd6794b35c": {
      "model_module": "@jupyter-widgets/base",
      "model_module_version": "2.0.0",
      "model_name": "LayoutModel",
      "state": {}
     },
     "522a37f3df3e45a1b26e6e4d73c51b69": {
      "model_module": "@jupyter-widgets/base",
      "model_module_version": "2.0.0",
      "model_name": "LayoutModel",
      "state": {}
     },
     "52b11275f6e24f92ac3d516ca5affdee": {
      "model_module": "@jupyter-widgets/controls",
      "model_module_version": "2.0.0",
      "model_name": "StackModel",
      "state": {
       "children": [
        "IPY_MODEL_72ebd322351749e4abdf23eb45146d15",
        "IPY_MODEL_d07a1873d05347359a4223c937a2f5e0"
       ],
       "layout": "IPY_MODEL_65fc05dea6ee47fc85cc7f420003d5d0",
       "selected_index": 0,
       "titles": [
        "",
        ""
       ]
      }
     },
     "52caaaf04d4148948a85a259028fae48": {
      "model_module": "@jupyter-widgets/controls",
      "model_module_version": "2.0.0",
      "model_name": "ToggleButtonsStyleModel",
      "state": {
       "button_width": "auto",
       "description_width": ""
      }
     },
     "53294cfcbe594fe0ab0a6420ef2433ec": {
      "model_module": "@jupyter-widgets/base",
      "model_module_version": "2.0.0",
      "model_name": "LayoutModel",
      "state": {}
     },
     "54b48c65cdd644cb883ff63fb7c18891": {
      "model_module": "@jupyter-widgets/base",
      "model_module_version": "2.0.0",
      "model_name": "LayoutModel",
      "state": {}
     },
     "55d4dc2c795c4d9e99362036099bdc51": {
      "model_module": "@jupyter-widgets/controls",
      "model_module_version": "2.0.0",
      "model_name": "StackModel",
      "state": {
       "children": [
        "IPY_MODEL_9dd3429f559347fca8b29aec8efce173",
        "IPY_MODEL_5b5a977c3e7340408c56d3b5b6c05a47"
       ],
       "layout": "IPY_MODEL_795e3f3f605e40fe86b4b6f3772e57fc",
       "selected_index": 1,
       "titles": [
        "",
        ""
       ]
      }
     },
     "56067d92495a46f9a35344237244ee32": {
      "model_module": "@jupyter-widgets/output",
      "model_module_version": "1.0.0",
      "model_name": "OutputModel",
      "state": {
       "layout": "IPY_MODEL_69e5bb23ff334f958ee278e899dfcc6a",
       "outputs": [
        {
         "data": {
          "text/html": "<div>\n<style scoped>\n    .dataframe tbody tr th:only-of-type {\n        vertical-align: middle;\n    }\n\n    .dataframe tbody tr th {\n        vertical-align: top;\n    }\n\n    .dataframe thead th {\n        text-align: right;\n    }\n</style>\n<table border=\"1\" class=\"dataframe\">\n  <thead>\n    <tr style=\"text-align: right;\">\n      <th></th>\n      <th>image_id</th>\n      <th>category_str</th>\n      <th>category_id</th>\n      <th>box_x_min</th>\n      <th>box_y_min</th>\n      <th>box_width</th>\n      <th>box_height</th>\n      <th>area</th>\n      <th>attributes.occluded</th>\n      <th>attributes.colors.beige</th>\n      <th>...</th>\n      <th>attributes.colors.pink</th>\n      <th>attributes.colors.purple</th>\n      <th>attributes.colors.red</th>\n      <th>attributes.colors.white</th>\n      <th>attributes.colors.yellow</th>\n      <th>attributes.position.back</th>\n      <th>attributes.position.front</th>\n      <th>attributes.position.side</th>\n      <th>attributes.position.top</th>\n      <th>attributes.position.unknown</th>\n    </tr>\n    <tr>\n      <th>id</th>\n      <th></th>\n      <th></th>\n      <th></th>\n      <th></th>\n      <th></th>\n      <th></th>\n      <th></th>\n      <th></th>\n      <th></th>\n      <th></th>\n      <th></th>\n      <th></th>\n      <th></th>\n      <th></th>\n      <th></th>\n      <th></th>\n      <th></th>\n      <th></th>\n      <th></th>\n      <th></th>\n      <th></th>\n    </tr>\n  </thead>\n  <tbody>\n    <tr>\n      <th>269791</th>\n      <td>6091</td>\n      <td>stop sign</td>\n      <td>13</td>\n      <td>100.22</td>\n      <td>117.54</td>\n      <td>253.43</td>\n      <td>274.90</td>\n      <td>46726.4303</td>\n      <td>True</td>\n      <td>False</td>\n      <td>...</td>\n      <td>False</td>\n      <td>False</td>\n      <td>True</td>\n      <td>True</td>\n      <td>False</td>\n      <td>False</td>\n      <td>False</td>\n      <td>False</td>\n      <td>False</td>\n      <td>False</td>\n    </tr>\n    <tr>\n      <th>1161234</th>\n      <td>10395</td>\n      <td>teddy bear</td>\n      <td>88</td>\n      <td>49.19</td>\n      <td>66.20</td>\n      <td>378.97</td>\n      <td>379.68</td>\n      <td>84587.4391</td>\n      <td>None</td>\n      <td>False</td>\n      <td>...</td>\n      <td>False</td>\n      <td>False</td>\n      <td>False</td>\n      <td>False</td>\n      <td>False</td>\n      <td>False</td>\n      <td>True</td>\n      <td>False</td>\n      <td>False</td>\n      <td>False</td>\n    </tr>\n  </tbody>\n</table>\n<p>2 rows × 27 columns</p>\n</div>",
          "text/plain": "         image_id category_str  category_id  box_x_min  box_y_min  box_width  \\\nid                                                                             \n269791       6091    stop sign           13     100.22     117.54     253.43   \n1161234     10395   teddy bear           88      49.19      66.20     378.97   \n\n         box_height        area attributes.occluded  attributes.colors.beige  \\\nid                                                                             \n269791       274.90  46726.4303                True                    False   \n1161234      379.68  84587.4391                None                    False   \n\n         ...  attributes.colors.pink  attributes.colors.purple  \\\nid       ...                                                     \n269791   ...                   False                     False   \n1161234  ...                   False                     False   \n\n         attributes.colors.red  attributes.colors.white  \\\nid                                                        \n269791                    True                     True   \n1161234                  False                    False   \n\n         attributes.colors.yellow  attributes.position.back  \\\nid                                                            \n269791                      False                     False   \n1161234                     False                     False   \n\n         attributes.position.front  attributes.position.side  \\\nid                                                             \n269791                       False                     False   \n1161234                       True                     False   \n\n         attributes.position.top  attributes.position.unknown  \nid                                                             \n269791                     False                        False  \n1161234                    False                        False  \n\n[2 rows x 27 columns]"
         },
         "metadata": {},
         "output_type": "display_data"
        }
       ]
      }
     },
     "56b287052e064cc2b32503accbc1fe78": {
      "model_module": "@jupyter-widgets/controls",
      "model_module_version": "2.0.0",
      "model_name": "HBoxModel",
      "state": {
       "children": [
        "IPY_MODEL_4914780c4fe5495fb27f1b38579ff8ec",
        "IPY_MODEL_0a7f0728bb6145bcbad272e98ecd4097"
       ],
       "layout": "IPY_MODEL_3de5fb5e537e4464910b83b9f70cbeb1"
      }
     },
     "56e0d55f302b4868be2407a163d8ad11": {
      "model_module": "@jupyter-widgets/base",
      "model_module_version": "2.0.0",
      "model_name": "LayoutModel",
      "state": {}
     },
     "572fd8564f3d45abb37abb6835dcd4d6": {
      "model_module": "@jupyter-widgets/base",
      "model_module_version": "2.0.0",
      "model_name": "LayoutModel",
      "state": {}
     },
     "58532dace9bd41d7b8ea0536cc948316": {
      "model_module": "@jupyter-widgets/controls",
      "model_module_version": "2.0.0",
      "model_name": "LinkModel",
      "state": {
       "source": [
        "IPY_MODEL_923d138e7b874eb899f6377c01b482cf",
        "index"
       ],
       "target": [
        "IPY_MODEL_cdeb3d59836e478b8a559f9128b1445b",
        "selected_index"
       ]
      }
     },
     "58aa8aa6857b44ecbc8cef273fd83aa3": {
      "model_module": "@jupyter-widgets/base",
      "model_module_version": "2.0.0",
      "model_name": "LayoutModel",
      "state": {}
     },
     "58ed066bb320479fbf51ee80df239290": {
      "model_module": "@jupyter-widgets/base",
      "model_module_version": "2.0.0",
      "model_name": "LayoutModel",
      "state": {}
     },
     "59904e29a9e649f2a2502048835b64b8": {
      "model_module": "@jupyter-widgets/base",
      "model_module_version": "2.0.0",
      "model_name": "LayoutModel",
      "state": {}
     },
     "59ab8d81df9143d7b865c1be3d671969": {
      "model_module": "@jupyter-widgets/controls",
      "model_module_version": "2.0.0",
      "model_name": "DescriptionStyleModel",
      "state": {
       "description_width": ""
      }
     },
     "59ba8fbcde9440539a5e3411e18ae8eb": {
      "model_module": "@jupyter-widgets/base",
      "model_module_version": "2.0.0",
      "model_name": "LayoutModel",
      "state": {}
     },
     "5a04d53a970d42a6827ff5dcf8c15b0e": {
      "model_module": "@jupyter-widgets/controls",
      "model_module_version": "2.0.0",
      "model_name": "LinkModel",
      "state": {
       "source": [
        "IPY_MODEL_e347e872a797477f98db0b528c9e9b10",
        "index"
       ],
       "target": [
        "IPY_MODEL_deeecc5324c34e6187847840b98059b3",
        "selected_index"
       ]
      }
     },
     "5a903c092fee41ffa06bc163ebc2b7be": {
      "model_module": "@jupyter-widgets/base",
      "model_module_version": "2.0.0",
      "model_name": "LayoutModel",
      "state": {}
     },
     "5aa34ed1735e4cb9ab5fbc95fcee99e8": {
      "model_module": "@jupyter-widgets/controls",
      "model_module_version": "2.0.0",
      "model_name": "DescriptionStyleModel",
      "state": {
       "description_width": ""
      }
     },
     "5ad9a7f264b94c32b59cc6756b11fedc": {
      "model_module": "@jupyter-widgets/base",
      "model_module_version": "2.0.0",
      "model_name": "LayoutModel",
      "state": {}
     },
     "5adc1bd1797645c59defe71c9df3d1a8": {
      "model_module": "@jupyter-widgets/controls",
      "model_module_version": "2.0.0",
      "model_name": "LabelModel",
      "state": {
       "layout": "IPY_MODEL_fc33fd2a506e4e6d829c79ae58dfe23d",
       "style": "IPY_MODEL_d970346f2e2d45f6ac109e3e1a3918fd",
       "value": "Column format"
      }
     },
     "5b5a977c3e7340408c56d3b5b6c05a47": {
      "model_module": "@jupyter-widgets/output",
      "model_module_version": "1.0.0",
      "model_name": "OutputModel",
      "state": {
       "layout": "IPY_MODEL_35f10ad086084cb78952ed7023694d82",
       "outputs": [
        {
         "data": {
          "text/html": "<style type=\"text/css\">\n#T_dbe17 th {\n  border-right: 1px solid #F0F0F0;\n}\n</style>\n<table id=\"T_dbe17\">\n  <thead>\n    <tr>\n      <th class=\"blank level0\" >&nbsp;</th>\n      <th id=\"T_dbe17_level0_col0\" class=\"col_heading level0 col0\" >width</th>\n      <th id=\"T_dbe17_level0_col1\" class=\"col_heading level0 col1\" >height</th>\n      <th id=\"T_dbe17_level0_col2\" class=\"col_heading level0 col2\" >relative_path</th>\n      <th id=\"T_dbe17_level0_col3\" class=\"col_heading level0 col3\" >type</th>\n      <th id=\"T_dbe17_level0_col4\" class=\"col_heading level0 col4\" colspan=\"2\">tags</th>\n    </tr>\n    <tr>\n      <th class=\"blank level1\" >&nbsp;</th>\n      <th id=\"T_dbe17_level1_col0\" class=\"col_heading level1 col0\" ></th>\n      <th id=\"T_dbe17_level1_col1\" class=\"col_heading level1 col1\" ></th>\n      <th id=\"T_dbe17_level1_col2\" class=\"col_heading level1 col2\" ></th>\n      <th id=\"T_dbe17_level1_col3\" class=\"col_heading level1 col3\" ></th>\n      <th id=\"T_dbe17_level1_col4\" class=\"col_heading level1 col4\" >time</th>\n      <th id=\"T_dbe17_level1_col5\" class=\"col_heading level1 col5\" >weather</th>\n    </tr>\n    <tr>\n      <th class=\"index_name level0\" >id</th>\n      <th class=\"blank col0\" >&nbsp;</th>\n      <th class=\"blank col1\" >&nbsp;</th>\n      <th class=\"blank col2\" >&nbsp;</th>\n      <th class=\"blank col3\" >&nbsp;</th>\n      <th class=\"blank col4\" >&nbsp;</th>\n      <th class=\"blank col5\" >&nbsp;</th>\n    </tr>\n  </thead>\n  <tbody>\n    <tr>\n      <th id=\"T_dbe17_level0_row0\" class=\"row_heading level0 row0\" >6091</th>\n      <td id=\"T_dbe17_row0_col0\" class=\"data row0 col0\" >480</td>\n      <td id=\"T_dbe17_row0_col1\" class=\"data row0 col1\" >640</td>\n      <td id=\"T_dbe17_row0_col2\" class=\"data row0 col2\" >image1.jpg</td>\n      <td id=\"T_dbe17_row0_col3\" class=\"data row0 col3\" >.jpg</td>\n      <td id=\"T_dbe17_row0_col4\" class=\"data row0 col4\" >night</td>\n      <td id=\"T_dbe17_row0_col5\" class=\"data row0 col5\" >rainy</td>\n    </tr>\n    <tr>\n      <th id=\"T_dbe17_level0_row1\" class=\"row_heading level0 row1\" >10395</th>\n      <td id=\"T_dbe17_row1_col0\" class=\"data row1 col0\" >500</td>\n      <td id=\"T_dbe17_row1_col1\" class=\"data row1 col1\" >476</td>\n      <td id=\"T_dbe17_row1_col2\" class=\"data row1 col2\" >image2.jpg</td>\n      <td id=\"T_dbe17_row1_col3\" class=\"data row1 col3\" >.jpg</td>\n      <td id=\"T_dbe17_row1_col4\" class=\"data row1 col4\" >night</td>\n      <td id=\"T_dbe17_row1_col5\" class=\"data row1 col5\" >None</td>\n    </tr>\n  </tbody>\n</table>\n",
          "text/plain": "<pandas.io.formats.style.Styler at 0x3020fe010>"
         },
         "metadata": {},
         "output_type": "display_data"
        }
       ]
      }
     },
     "5b6f2bbec5824a9698f472486d3a97a6": {
      "model_module": "@jupyter-widgets/controls",
      "model_module_version": "2.0.0",
      "model_name": "HTMLModel",
      "state": {
       "layout": "IPY_MODEL_c98cbef3ee0b466bba3a73d0d8ef935d",
       "style": "IPY_MODEL_079694d0f5b04ec189a75713d98155a9",
       "value": " 2/2 [00:00&lt;00:00, 382.99it/s]"
      }
     },
     "5c0fabf6029042b0b293d773e38622ea": {
      "model_module": "@jupyter-widgets/controls",
      "model_module_version": "2.0.0",
      "model_name": "LabelModel",
      "state": {
       "layout": "IPY_MODEL_cbd9eb66c67b4f25b25caab91df746f5",
       "style": "IPY_MODEL_71fbb26f964d47ecb71ef630ea360e49",
       "value": "Column format"
      }
     },
     "5c1b3162ea0d493999b2d8539d3d1821": {
      "model_module": "@jupyter-widgets/base",
      "model_module_version": "2.0.0",
      "model_name": "LayoutModel",
      "state": {}
     },
     "5cd6ae3de06c45fb81dd4900616a17a9": {
      "model_module": "@jupyter-widgets/base",
      "model_module_version": "2.0.0",
      "model_name": "LayoutModel",
      "state": {}
     },
     "5dbd083e256544a6945f8720ab41c957": {
      "model_module": "@jupyter-widgets/controls",
      "model_module_version": "2.0.0",
      "model_name": "HBoxModel",
      "state": {
       "children": [
        "IPY_MODEL_feab1e2d2666460fa0df8c809844a423",
        "IPY_MODEL_dd669ba9d0ba4e3c806d26bea3485d44"
       ],
       "layout": "IPY_MODEL_d690466646f94a33b3dc7fb8f508ec66"
      }
     },
     "5e131e8ce8334b1396bd1a7440f2459a": {
      "model_module": "@jupyter-widgets/controls",
      "model_module_version": "2.0.0",
      "model_name": "LinkModel",
      "state": {
       "source": [
        "IPY_MODEL_fb957c147d4e429d9027e53951e92250",
        "index"
       ],
       "target": [
        "IPY_MODEL_d987b7e53bf840669b376bbab1963d74",
        "selected_index"
       ]
      }
     },
     "5f758d422b50487cb47a020068151174": {
      "model_module": "@jupyter-widgets/controls",
      "model_module_version": "2.0.0",
      "model_name": "HTMLStyleModel",
      "state": {
       "description_width": "",
       "font_size": null,
       "text_color": null
      }
     },
     "60bf19bf6fee4b15a2bcdbd7ec71cbed": {
      "model_module": "@jupyter-widgets/base",
      "model_module_version": "2.0.0",
      "model_name": "LayoutModel",
      "state": {}
     },
     "6153bef92ca54839b59398271767d897": {
      "model_module": "@jupyter-widgets/output",
      "model_module_version": "1.0.0",
      "model_name": "OutputModel",
      "state": {
       "layout": "IPY_MODEL_28fda02590c845be8ee2d3c502bc8172",
       "outputs": [
        {
         "data": {
          "text/html": "<style type=\"text/css\">\n#T_a3307 th {\n  border-right: 1px solid #F0F0F0;\n}\n</style>\n<table id=\"T_a3307\">\n  <thead>\n    <tr>\n      <th class=\"blank level0\" >&nbsp;</th>\n      <th id=\"T_a3307_level0_col0\" class=\"col_heading level0 col0\" >image_id</th>\n      <th id=\"T_a3307_level0_col1\" class=\"col_heading level0 col1\" >category_str</th>\n      <th id=\"T_a3307_level0_col2\" class=\"col_heading level0 col2\" >category_id</th>\n      <th id=\"T_a3307_level0_col3\" class=\"col_heading level0 col3\" >box_x_min</th>\n      <th id=\"T_a3307_level0_col4\" class=\"col_heading level0 col4\" >box_y_min</th>\n      <th id=\"T_a3307_level0_col5\" class=\"col_heading level0 col5\" >box_width</th>\n      <th id=\"T_a3307_level0_col6\" class=\"col_heading level0 col6\" >box_height</th>\n      <th id=\"T_a3307_level0_col7\" class=\"col_heading level0 col7\" >area</th>\n      <th id=\"T_a3307_level0_col8\" class=\"col_heading level0 col8\" colspan=\"3\">attributes</th>\n    </tr>\n    <tr>\n      <th class=\"blank level1\" >&nbsp;</th>\n      <th id=\"T_a3307_level1_col0\" class=\"col_heading level1 col0\" ></th>\n      <th id=\"T_a3307_level1_col1\" class=\"col_heading level1 col1\" ></th>\n      <th id=\"T_a3307_level1_col2\" class=\"col_heading level1 col2\" ></th>\n      <th id=\"T_a3307_level1_col3\" class=\"col_heading level1 col3\" ></th>\n      <th id=\"T_a3307_level1_col4\" class=\"col_heading level1 col4\" ></th>\n      <th id=\"T_a3307_level1_col5\" class=\"col_heading level1 col5\" ></th>\n      <th id=\"T_a3307_level1_col6\" class=\"col_heading level1 col6\" ></th>\n      <th id=\"T_a3307_level1_col7\" class=\"col_heading level1 col7\" ></th>\n      <th id=\"T_a3307_level1_col8\" class=\"col_heading level1 col8\" >colors</th>\n      <th id=\"T_a3307_level1_col9\" class=\"col_heading level1 col9\" >occluded</th>\n      <th id=\"T_a3307_level1_col10\" class=\"col_heading level1 col10\" >position</th>\n    </tr>\n    <tr>\n      <th class=\"index_name level0\" >id</th>\n      <th class=\"blank col0\" >&nbsp;</th>\n      <th class=\"blank col1\" >&nbsp;</th>\n      <th class=\"blank col2\" >&nbsp;</th>\n      <th class=\"blank col3\" >&nbsp;</th>\n      <th class=\"blank col4\" >&nbsp;</th>\n      <th class=\"blank col5\" >&nbsp;</th>\n      <th class=\"blank col6\" >&nbsp;</th>\n      <th class=\"blank col7\" >&nbsp;</th>\n      <th class=\"blank col8\" >&nbsp;</th>\n      <th class=\"blank col9\" >&nbsp;</th>\n      <th class=\"blank col10\" >&nbsp;</th>\n    </tr>\n  </thead>\n  <tbody>\n    <tr>\n      <th id=\"T_a3307_level0_row0\" class=\"row_heading level0 row0\" >269791</th>\n      <td id=\"T_a3307_row0_col0\" class=\"data row0 col0\" >6091</td>\n      <td id=\"T_a3307_row0_col1\" class=\"data row0 col1\" >stop sign</td>\n      <td id=\"T_a3307_row0_col2\" class=\"data row0 col2\" >13</td>\n      <td id=\"T_a3307_row0_col3\" class=\"data row0 col3\" >100.220000</td>\n      <td id=\"T_a3307_row0_col4\" class=\"data row0 col4\" >117.540000</td>\n      <td id=\"T_a3307_row0_col5\" class=\"data row0 col5\" >253.430000</td>\n      <td id=\"T_a3307_row0_col6\" class=\"data row0 col6\" >274.900000</td>\n      <td id=\"T_a3307_row0_col7\" class=\"data row0 col7\" >46726.430300</td>\n      <td id=\"T_a3307_row0_col8\" class=\"data row0 col8\" >['red', 'white']</td>\n      <td id=\"T_a3307_row0_col9\" class=\"data row0 col9\" >True</td>\n      <td id=\"T_a3307_row0_col10\" class=\"data row0 col10\" >None</td>\n    </tr>\n  </tbody>\n</table>\n",
          "text/plain": "<pandas.io.formats.style.Styler at 0x302318890>"
         },
         "metadata": {},
         "output_type": "display_data"
        }
       ]
      }
     },
     "61560e9c09294f52b449ef2dcdcbc297": {
      "model_module": "@jupyter-widgets/controls",
      "model_module_version": "2.0.0",
      "model_name": "DescriptionStyleModel",
      "state": {
       "description_width": ""
      }
     },
     "61c444dae0084bbf950d2a0adb991c29": {
      "model_module": "@jupyter-widgets/base",
      "model_module_version": "2.0.0",
      "model_name": "LayoutModel",
      "state": {}
     },
     "6215f6c6670e436487ed7db7f64059aa": {
      "model_module": "@jupyter-widgets/base",
      "model_module_version": "2.0.0",
      "model_name": "LayoutModel",
      "state": {}
     },
     "62fa72d6da0c4eaa84f200d0265e9871": {
      "model_module": "@jupyter-widgets/base",
      "model_module_version": "2.0.0",
      "model_name": "LayoutModel",
      "state": {}
     },
     "63434e54f72b4d478275f662b7a2f403": {
      "model_module": "@jupyter-widgets/controls",
      "model_module_version": "2.0.0",
      "model_name": "ToggleButtonsStyleModel",
      "state": {
       "button_width": "auto",
       "description_width": ""
      }
     },
     "635d9581ce684895b10ec2b44954279e": {
      "model_module": "@jupyter-widgets/controls",
      "model_module_version": "2.0.0",
      "model_name": "HBoxModel",
      "state": {
       "children": [
        "IPY_MODEL_a6dce1904a264b9e8d28d36265089c1b",
        "IPY_MODEL_7ed1066d913d402da5083e216288a2a6",
        "IPY_MODEL_5b6f2bbec5824a9698f472486d3a97a6"
       ],
       "layout": "IPY_MODEL_f9825da51cb24214990da926e57c1d68"
      }
     },
     "65594b2a209644f8b884980ee3730f00": {
      "model_module": "@jupyter-widgets/base",
      "model_module_version": "2.0.0",
      "model_name": "LayoutModel",
      "state": {}
     },
     "65691a44438b4c39b6842afd8e53726d": {
      "model_module": "@jupyter-widgets/output",
      "model_module_version": "1.0.0",
      "model_name": "OutputModel",
      "state": {
       "layout": "IPY_MODEL_2b58e27357ea44cc9a8d0f358eff8595",
       "outputs": [
        {
         "data": {
          "text/html": "<div>\n<style scoped>\n    .dataframe tbody tr th:only-of-type {\n        vertical-align: middle;\n    }\n\n    .dataframe tbody tr th {\n        vertical-align: top;\n    }\n\n    .dataframe thead th {\n        text-align: right;\n    }\n</style>\n<table border=\"1\" class=\"dataframe\">\n  <thead>\n    <tr style=\"text-align: right;\">\n      <th></th>\n      <th>category string</th>\n    </tr>\n    <tr>\n      <th>category_id</th>\n      <th></th>\n    </tr>\n  </thead>\n  <tbody>\n    <tr>\n      <th>13</th>\n      <td>stop sign</td>\n    </tr>\n    <tr>\n      <th>88</th>\n      <td>teddy bear</td>\n    </tr>\n  </tbody>\n</table>\n</div>",
          "text/plain": "            category string\ncategory_id                \n13                stop sign\n88               teddy bear"
         },
         "metadata": {},
         "output_type": "display_data"
        }
       ]
      }
     },
     "65758f2107654a61a3902f456172b7d4": {
      "model_module": "@jupyter-widgets/controls",
      "model_module_version": "2.0.0",
      "model_name": "LabelModel",
      "state": {
       "layout": "IPY_MODEL_827d49b4f3884509a3fbb116e67637cc",
       "style": "IPY_MODEL_16eb61e6db014bdba0d48020e66326b9",
       "value": "Booleanize"
      }
     },
     "65a5faa19f9c4cd7bfee8a1464f19f14": {
      "model_module": "@jupyter-widgets/controls",
      "model_module_version": "2.0.0",
      "model_name": "VBoxModel",
      "state": {
       "children": [
        "IPY_MODEL_d0f929ee62db41ada3651887ceebac75",
        "IPY_MODEL_37a0193ba43747d881967b4d4f139f37"
       ],
       "layout": "IPY_MODEL_d66ae40cf9f44c24897fe1a418dd0709"
      }
     },
     "65fc05dea6ee47fc85cc7f420003d5d0": {
      "model_module": "@jupyter-widgets/base",
      "model_module_version": "2.0.0",
      "model_name": "LayoutModel",
      "state": {}
     },
     "66a6d3f36d784b429aa5476630e98ed3": {
      "model_module": "@jupyter-widgets/base",
      "model_module_version": "2.0.0",
      "model_name": "LayoutModel",
      "state": {}
     },
     "66aac255cb3541c69325762b998ddc61": {
      "model_module": "@jupyter-widgets/controls",
      "model_module_version": "2.0.0",
      "model_name": "VBoxModel",
      "state": {
       "children": [
        "IPY_MODEL_6ce64b7c16884a30a9c198de6a278d67",
        "IPY_MODEL_d987b7e53bf840669b376bbab1963d74"
       ],
       "layout": "IPY_MODEL_60bf19bf6fee4b15a2bcdbd7ec71cbed"
      }
     },
     "673b8366c7e3460ea1b672d1039114d0": {
      "model_module": "@jupyter-widgets/controls",
      "model_module_version": "2.0.0",
      "model_name": "DescriptionStyleModel",
      "state": {
       "description_width": ""
      }
     },
     "674d852cc82d4c5ca8a02da41332c174": {
      "model_module": "@jupyter-widgets/base",
      "model_module_version": "2.0.0",
      "model_name": "LayoutModel",
      "state": {
       "width": "auto"
      }
     },
     "6771dbe5b2774326814610ae2c25a0a1": {
      "model_module": "@jupyter-widgets/base",
      "model_module_version": "2.0.0",
      "model_name": "LayoutModel",
      "state": {}
     },
     "67b7dffa43d24e3fa873c1fb6b8bf33e": {
      "model_module": "@jupyter-widgets/output",
      "model_module_version": "1.0.0",
      "model_name": "OutputModel",
      "state": {
       "layout": "IPY_MODEL_fb510227fc524e5488c806a700275f83",
       "outputs": [
        {
         "data": {
          "text/html": "<style type=\"text/css\">\n#T_da6e2 th {\n  border-right: 1px solid #F0F0F0;\n}\n</style>\n<table id=\"T_da6e2\">\n  <thead>\n    <tr>\n      <th class=\"blank level0\" >&nbsp;</th>\n      <th id=\"T_da6e2_level0_col0\" class=\"col_heading level0 col0\" >width</th>\n      <th id=\"T_da6e2_level0_col1\" class=\"col_heading level0 col1\" >height</th>\n      <th id=\"T_da6e2_level0_col2\" class=\"col_heading level0 col2\" >relative_path</th>\n      <th id=\"T_da6e2_level0_col3\" class=\"col_heading level0 col3\" >type</th>\n      <th id=\"T_da6e2_level0_col4\" class=\"col_heading level0 col4\" colspan=\"2\">tags</th>\n    </tr>\n    <tr>\n      <th class=\"blank level1\" >&nbsp;</th>\n      <th id=\"T_da6e2_level1_col0\" class=\"col_heading level1 col0\" ></th>\n      <th id=\"T_da6e2_level1_col1\" class=\"col_heading level1 col1\" ></th>\n      <th id=\"T_da6e2_level1_col2\" class=\"col_heading level1 col2\" ></th>\n      <th id=\"T_da6e2_level1_col3\" class=\"col_heading level1 col3\" ></th>\n      <th id=\"T_da6e2_level1_col4\" class=\"col_heading level1 col4\" >time</th>\n      <th id=\"T_da6e2_level1_col5\" class=\"col_heading level1 col5\" >weather</th>\n    </tr>\n    <tr>\n      <th class=\"index_name level0\" >id</th>\n      <th class=\"blank col0\" >&nbsp;</th>\n      <th class=\"blank col1\" >&nbsp;</th>\n      <th class=\"blank col2\" >&nbsp;</th>\n      <th class=\"blank col3\" >&nbsp;</th>\n      <th class=\"blank col4\" >&nbsp;</th>\n      <th class=\"blank col5\" >&nbsp;</th>\n    </tr>\n  </thead>\n  <tbody>\n    <tr>\n      <th id=\"T_da6e2_level0_row0\" class=\"row_heading level0 row0\" >6091</th>\n      <td id=\"T_da6e2_row0_col0\" class=\"data row0 col0\" >480</td>\n      <td id=\"T_da6e2_row0_col1\" class=\"data row0 col1\" >640</td>\n      <td id=\"T_da6e2_row0_col2\" class=\"data row0 col2\" >image1.jpg</td>\n      <td id=\"T_da6e2_row0_col3\" class=\"data row0 col3\" >.jpg</td>\n      <td id=\"T_da6e2_row0_col4\" class=\"data row0 col4\" >night</td>\n      <td id=\"T_da6e2_row0_col5\" class=\"data row0 col5\" >rainy</td>\n    </tr>\n    <tr>\n      <th id=\"T_da6e2_level0_row1\" class=\"row_heading level0 row1\" >10395</th>\n      <td id=\"T_da6e2_row1_col0\" class=\"data row1 col0\" >500</td>\n      <td id=\"T_da6e2_row1_col1\" class=\"data row1 col1\" >476</td>\n      <td id=\"T_da6e2_row1_col2\" class=\"data row1 col2\" >image2.jpg</td>\n      <td id=\"T_da6e2_row1_col3\" class=\"data row1 col3\" >.jpg</td>\n      <td id=\"T_da6e2_row1_col4\" class=\"data row1 col4\" >night</td>\n      <td id=\"T_da6e2_row1_col5\" class=\"data row1 col5\" >None</td>\n    </tr>\n  </tbody>\n</table>\n",
          "text/plain": "<pandas.io.formats.style.Styler at 0x302347910>"
         },
         "metadata": {},
         "output_type": "display_data"
        }
       ]
      }
     },
     "681b555d2441409dac189b582c8d7dfa": {
      "model_module": "@jupyter-widgets/base",
      "model_module_version": "2.0.0",
      "model_name": "LayoutModel",
      "state": {}
     },
     "68321eff63524a33a6c5b9dc5e228532": {
      "model_module": "@jupyter-widgets/output",
      "model_module_version": "1.0.0",
      "model_name": "OutputModel",
      "state": {
       "layout": "IPY_MODEL_99a46f1bcfc14a20a5ed3f96ac17e358",
       "outputs": [
        {
         "data": {
          "text/html": "<div>\n<style scoped>\n    .dataframe tbody tr th:only-of-type {\n        vertical-align: middle;\n    }\n\n    .dataframe tbody tr th {\n        vertical-align: top;\n    }\n\n    .dataframe thead th {\n        text-align: right;\n    }\n</style>\n<table border=\"1\" class=\"dataframe\">\n  <thead>\n    <tr style=\"text-align: right;\">\n      <th></th>\n      <th>image_id</th>\n      <th>category_str</th>\n      <th>category_id</th>\n      <th>box_x_min</th>\n      <th>box_y_min</th>\n      <th>box_width</th>\n      <th>box_height</th>\n      <th>area</th>\n      <th>attributes.occluded</th>\n      <th>attributes.position</th>\n      <th>attributes.colors</th>\n    </tr>\n    <tr>\n      <th>id</th>\n      <th></th>\n      <th></th>\n      <th></th>\n      <th></th>\n      <th></th>\n      <th></th>\n      <th></th>\n      <th></th>\n      <th></th>\n      <th></th>\n      <th></th>\n    </tr>\n  </thead>\n  <tbody>\n    <tr>\n      <th>269791</th>\n      <td>6091</td>\n      <td>stop sign</td>\n      <td>13</td>\n      <td>100.22</td>\n      <td>117.54</td>\n      <td>253.43</td>\n      <td>274.90</td>\n      <td>46726.4303</td>\n      <td>True</td>\n      <td>None</td>\n      <td>[red, white]</td>\n    </tr>\n    <tr>\n      <th>1161234</th>\n      <td>10395</td>\n      <td>teddy bear</td>\n      <td>88</td>\n      <td>49.19</td>\n      <td>66.20</td>\n      <td>378.97</td>\n      <td>379.68</td>\n      <td>84587.4391</td>\n      <td>None</td>\n      <td>[front]</td>\n      <td>[grey]</td>\n    </tr>\n  </tbody>\n</table>\n</div>",
          "text/plain": "         image_id category_str  category_id  box_x_min  box_y_min  box_width  \\\nid                                                                             \n269791       6091    stop sign           13     100.22     117.54     253.43   \n1161234     10395   teddy bear           88      49.19      66.20     378.97   \n\n         box_height        area attributes.occluded attributes.position  \\\nid                                                                        \n269791       274.90  46726.4303                True                None   \n1161234      379.68  84587.4391                None             [front]   \n\n        attributes.colors  \nid                         \n269791       [red, white]  \n1161234            [grey]  "
         },
         "metadata": {},
         "output_type": "display_data"
        }
       ]
      }
     },
     "6879017d1b644362a0ba47c838da11fa": {
      "model_module": "@jupyter-widgets/base",
      "model_module_version": "2.0.0",
      "model_name": "LayoutModel",
      "state": {}
     },
     "693badef374d48b9bfef1391fb66ea1b": {
      "model_module": "@jupyter-widgets/controls",
      "model_module_version": "2.0.0",
      "model_name": "LinkModel",
      "state": {
       "source": [
        "IPY_MODEL_c3da77f01f404b4baefb7ec9680bd8aa",
        "index"
       ],
       "target": [
        "IPY_MODEL_803eb4c70f044fceb74d50e9874e7fcf",
        "selected_index"
       ]
      }
     },
     "694b6c1a682f407ca429991612687a97": {
      "model_module": "@jupyter-widgets/base",
      "model_module_version": "2.0.0",
      "model_name": "LayoutModel",
      "state": {}
     },
     "69e5bb23ff334f958ee278e899dfcc6a": {
      "model_module": "@jupyter-widgets/base",
      "model_module_version": "2.0.0",
      "model_name": "LayoutModel",
      "state": {}
     },
     "6a810947168f446aa61d3c9da73d64e2": {
      "model_module": "@jupyter-widgets/controls",
      "model_module_version": "2.0.0",
      "model_name": "DescriptionStyleModel",
      "state": {
       "description_width": ""
      }
     },
     "6a94fe441fdd4ff190357dc4b0a452a2": {
      "model_module": "@jupyter-widgets/controls",
      "model_module_version": "2.0.0",
      "model_name": "LinkModel",
      "state": {
       "source": [
        "IPY_MODEL_b2d1a9afb0aa4f02be240e3a609370e9",
        "index"
       ],
       "target": [
        "IPY_MODEL_db851fd0b6704e5789bcfc7a11c62a4e",
        "selected_index"
       ]
      }
     },
     "6aee0ca6f8e945fca134e5698247e9c3": {
      "model_module": "@jupyter-widgets/base",
      "model_module_version": "2.0.0",
      "model_name": "LayoutModel",
      "state": {}
     },
     "6bf3c13b22234a53b23f18b622e77edc": {
      "model_module": "@jupyter-widgets/output",
      "model_module_version": "1.0.0",
      "model_name": "OutputModel",
      "state": {
       "layout": "IPY_MODEL_239e1312b0e5477db524269078b9f371",
       "outputs": [
        {
         "data": {
          "text/html": "<div>\n<style scoped>\n    .dataframe tbody tr th:only-of-type {\n        vertical-align: middle;\n    }\n\n    .dataframe tbody tr th {\n        vertical-align: top;\n    }\n\n    .dataframe thead th {\n        text-align: right;\n    }\n</style>\n<table border=\"1\" class=\"dataframe\">\n  <thead>\n    <tr style=\"text-align: right;\">\n      <th></th>\n      <th>image_id</th>\n      <th>category_str</th>\n      <th>category_id</th>\n      <th>box_x_min</th>\n      <th>box_y_min</th>\n      <th>box_width</th>\n      <th>box_height</th>\n      <th>area</th>\n      <th>attributes.colors</th>\n      <th>attributes.occluded</th>\n      <th>attributes.position</th>\n    </tr>\n    <tr>\n      <th>id</th>\n      <th></th>\n      <th></th>\n      <th></th>\n      <th></th>\n      <th></th>\n      <th></th>\n      <th></th>\n      <th></th>\n      <th></th>\n      <th></th>\n      <th></th>\n    </tr>\n  </thead>\n  <tbody>\n    <tr>\n      <th>269791</th>\n      <td>6091</td>\n      <td>stop sign</td>\n      <td>13</td>\n      <td>100.22</td>\n      <td>117.54</td>\n      <td>253.43</td>\n      <td>274.9</td>\n      <td>46726.4303</td>\n      <td>[red, white]</td>\n      <td>True</td>\n      <td>None</td>\n    </tr>\n  </tbody>\n</table>\n</div>",
          "text/plain": "        image_id category_str  category_id  box_x_min  box_y_min  box_width  \\\nid                                                                            \n269791      6091    stop sign           13     100.22     117.54     253.43   \n\n        box_height        area attributes.colors attributes.occluded  \\\nid                                                                     \n269791       274.9  46726.4303      [red, white]                True   \n\n       attributes.position  \nid                          \n269791                None  "
         },
         "metadata": {},
         "output_type": "display_data"
        }
       ]
      }
     },
     "6ce64b7c16884a30a9c198de6a278d67": {
      "model_module": "@jupyter-widgets/controls",
      "model_module_version": "2.0.0",
      "model_name": "HBoxModel",
      "state": {
       "children": [
        "IPY_MODEL_808a83d11d2149058baea8c0a7852240",
        "IPY_MODEL_fb957c147d4e429d9027e53951e92250"
       ],
       "layout": "IPY_MODEL_65594b2a209644f8b884980ee3730f00"
      }
     },
     "6d0700b2814c45f4a87998bc267a297f": {
      "model_module": "@jupyter-widgets/output",
      "model_module_version": "1.0.0",
      "model_name": "OutputModel",
      "state": {
       "layout": "IPY_MODEL_53294cfcbe594fe0ab0a6420ef2433ec",
       "outputs": [
        {
         "data": {
          "text/html": "<div>\n<style scoped>\n    .dataframe tbody tr th:only-of-type {\n        vertical-align: middle;\n    }\n\n    .dataframe tbody tr th {\n        vertical-align: top;\n    }\n\n    .dataframe thead th {\n        text-align: right;\n    }\n</style>\n<table border=\"1\" class=\"dataframe\">\n  <thead>\n    <tr style=\"text-align: right;\">\n      <th></th>\n      <th>image_id</th>\n      <th>category_str</th>\n      <th>category_id</th>\n      <th>box_x_min</th>\n      <th>box_y_min</th>\n      <th>box_width</th>\n      <th>box_height</th>\n      <th>area</th>\n      <th>attributes.colors</th>\n      <th>attributes.occluded</th>\n      <th>attributes.position</th>\n    </tr>\n    <tr>\n      <th>id</th>\n      <th></th>\n      <th></th>\n      <th></th>\n      <th></th>\n      <th></th>\n      <th></th>\n      <th></th>\n      <th></th>\n      <th></th>\n      <th></th>\n      <th></th>\n    </tr>\n  </thead>\n  <tbody>\n    <tr>\n      <th>269791</th>\n      <td>6091</td>\n      <td>stop sign</td>\n      <td>13</td>\n      <td>100.22</td>\n      <td>117.54</td>\n      <td>253.43</td>\n      <td>274.9</td>\n      <td>46726.4303</td>\n      <td>[red, white]</td>\n      <td>True</td>\n      <td>None</td>\n    </tr>\n  </tbody>\n</table>\n</div>",
          "text/plain": "        image_id category_str  category_id  box_x_min  box_y_min  box_width  \\\nid                                                                            \n269791      6091    stop sign           13     100.22     117.54     253.43   \n\n        box_height        area attributes.colors attributes.occluded  \\\nid                                                                     \n269791       274.9  46726.4303      [red, white]                True   \n\n       attributes.position  \nid                          \n269791                None  "
         },
         "metadata": {},
         "output_type": "display_data"
        }
       ]
      }
     },
     "6d8dbc0984b34120b6585dfded6f31a6": {
      "model_module": "@jupyter-widgets/controls",
      "model_module_version": "2.0.0",
      "model_name": "LabelModel",
      "state": {
       "layout": "IPY_MODEL_365cbee73bca4ff38996d5779bac0a37",
       "style": "IPY_MODEL_fa78d33a09154ea9a6bdcd1cbf61509f",
       "value": "Booleanize"
      }
     },
     "6dbd3b12a86c4b75a8925424557c5507": {
      "model_module": "@jupyter-widgets/base",
      "model_module_version": "2.0.0",
      "model_name": "LayoutModel",
      "state": {}
     },
     "6ea0b2f306fa4e78bfede1968aca8d1a": {
      "model_module": "@jupyter-widgets/controls",
      "model_module_version": "2.0.0",
      "model_name": "VBoxModel",
      "state": {
       "children": [
        "IPY_MODEL_a82bb9407c1d44b3be7f7c4085d1aaa0",
        "IPY_MODEL_b2d1a9afb0aa4f02be240e3a609370e9"
       ],
       "layout": "IPY_MODEL_1ddb2f919dcd42fa88940ff33eda3108"
      }
     },
     "6f54174ed9bb434a92e6a72f3d2a895f": {
      "model_module": "@jupyter-widgets/output",
      "model_module_version": "1.0.0",
      "model_name": "OutputModel",
      "state": {
       "layout": "IPY_MODEL_328680272bb24157b11c23de0736351e",
       "outputs": [
        {
         "data": {
          "text/html": "<style type=\"text/css\">\n#T_21ec0 th {\n  border-right: 1px solid #F0F0F0;\n}\n</style>\n<table id=\"T_21ec0\">\n  <thead>\n    <tr>\n      <th class=\"blank level0\" >&nbsp;</th>\n      <th id=\"T_21ec0_level0_col0\" class=\"col_heading level0 col0\" >width</th>\n      <th id=\"T_21ec0_level0_col1\" class=\"col_heading level0 col1\" >height</th>\n      <th id=\"T_21ec0_level0_col2\" class=\"col_heading level0 col2\" >relative_path</th>\n      <th id=\"T_21ec0_level0_col3\" class=\"col_heading level0 col3\" >type</th>\n      <th id=\"T_21ec0_level0_col4\" class=\"col_heading level0 col4\" colspan=\"2\">tags</th>\n    </tr>\n    <tr>\n      <th class=\"blank level1\" >&nbsp;</th>\n      <th id=\"T_21ec0_level1_col0\" class=\"col_heading level1 col0\" ></th>\n      <th id=\"T_21ec0_level1_col1\" class=\"col_heading level1 col1\" ></th>\n      <th id=\"T_21ec0_level1_col2\" class=\"col_heading level1 col2\" ></th>\n      <th id=\"T_21ec0_level1_col3\" class=\"col_heading level1 col3\" ></th>\n      <th id=\"T_21ec0_level1_col4\" class=\"col_heading level1 col4\" >time</th>\n      <th id=\"T_21ec0_level1_col5\" class=\"col_heading level1 col5\" >weather</th>\n    </tr>\n    <tr>\n      <th class=\"index_name level0\" >id</th>\n      <th class=\"blank col0\" >&nbsp;</th>\n      <th class=\"blank col1\" >&nbsp;</th>\n      <th class=\"blank col2\" >&nbsp;</th>\n      <th class=\"blank col3\" >&nbsp;</th>\n      <th class=\"blank col4\" >&nbsp;</th>\n      <th class=\"blank col5\" >&nbsp;</th>\n    </tr>\n  </thead>\n  <tbody>\n    <tr>\n      <th id=\"T_21ec0_level0_row0\" class=\"row_heading level0 row0\" >6091</th>\n      <td id=\"T_21ec0_row0_col0\" class=\"data row0 col0\" >480</td>\n      <td id=\"T_21ec0_row0_col1\" class=\"data row0 col1\" >640</td>\n      <td id=\"T_21ec0_row0_col2\" class=\"data row0 col2\" >image1.jpg</td>\n      <td id=\"T_21ec0_row0_col3\" class=\"data row0 col3\" >.jpg</td>\n      <td id=\"T_21ec0_row0_col4\" class=\"data row0 col4\" >night</td>\n      <td id=\"T_21ec0_row0_col5\" class=\"data row0 col5\" >rainy</td>\n    </tr>\n    <tr>\n      <th id=\"T_21ec0_level0_row1\" class=\"row_heading level0 row1\" >10395</th>\n      <td id=\"T_21ec0_row1_col0\" class=\"data row1 col0\" >500</td>\n      <td id=\"T_21ec0_row1_col1\" class=\"data row1 col1\" >476</td>\n      <td id=\"T_21ec0_row1_col2\" class=\"data row1 col2\" >image2.jpg</td>\n      <td id=\"T_21ec0_row1_col3\" class=\"data row1 col3\" >.jpg</td>\n      <td id=\"T_21ec0_row1_col4\" class=\"data row1 col4\" >night</td>\n      <td id=\"T_21ec0_row1_col5\" class=\"data row1 col5\" >None</td>\n    </tr>\n  </tbody>\n</table>\n",
          "text/plain": "<pandas.io.formats.style.Styler at 0x3023454d0>"
         },
         "metadata": {},
         "output_type": "display_data"
        }
       ]
      }
     },
     "702d869bb364435e93b918e02477e2e6": {
      "model_module": "@jupyter-widgets/controls",
      "model_module_version": "2.0.0",
      "model_name": "StackModel",
      "state": {
       "children": [
        "IPY_MODEL_1985296dc9dd47639744d50332140aa0",
        "IPY_MODEL_0fad252a59174bc191d0d3becb8d21ca"
       ],
       "layout": "IPY_MODEL_1cc7eb4fbda84aa799d8a544f92cb3a8",
       "selected_index": 1,
       "titles": [
        "",
        ""
       ]
      }
     },
     "7065c84494d34862879528d6b7e07b55": {
      "model_module": "@jupyter-widgets/controls",
      "model_module_version": "2.0.0",
      "model_name": "DescriptionStyleModel",
      "state": {
       "description_width": ""
      }
     },
     "70e639ac362a45808491f61f3ceb2f13": {
      "model_module": "@jupyter-widgets/controls",
      "model_module_version": "2.0.0",
      "model_name": "VBoxModel",
      "state": {
       "children": [
        "IPY_MODEL_78c6c223b4bc46ef9f1538c4d2ad0f62",
        "IPY_MODEL_803eb4c70f044fceb74d50e9874e7fcf"
       ],
       "layout": "IPY_MODEL_a41b0849c5f741a89189c7c2858139d4"
      }
     },
     "7106502757ba49a7b15fc2215134d50d": {
      "model_module": "@jupyter-widgets/base",
      "model_module_version": "2.0.0",
      "model_name": "LayoutModel",
      "state": {}
     },
     "71fbb26f964d47ecb71ef630ea360e49": {
      "model_module": "@jupyter-widgets/controls",
      "model_module_version": "2.0.0",
      "model_name": "LabelStyleModel",
      "state": {
       "description_width": "",
       "font_family": null,
       "font_size": null,
       "font_style": null,
       "font_variant": null,
       "font_weight": null,
       "text_color": null,
       "text_decoration": null
      }
     },
     "72164298c7db4cb5b4379825c9ea4a04": {
      "model_module": "@jupyter-widgets/output",
      "model_module_version": "1.0.0",
      "model_name": "OutputModel",
      "state": {
       "layout": "IPY_MODEL_8efdd7707ac148fdad92e2f82d28e78d",
       "outputs": [
        {
         "data": {
          "application/vnd.jupyter.widget-view+json": {
           "model_id": "9c1f2df97e1149ff917c2e81bbcf58e4",
           "version_major": 2,
           "version_minor": 0
          },
          "text/plain": "VBox(children=(HBox(children=(Label(value='Column format'), Dropdown(index=1, options=('raw', 'nested'), value…"
         },
         "metadata": {},
         "output_type": "display_data"
        }
       ]
      }
     },
     "724c5af4f03d406083910e7e6eb68058": {
      "model_module": "@jupyter-widgets/controls",
      "model_module_version": "2.0.0",
      "model_name": "StackModel",
      "state": {
       "children": [
        "IPY_MODEL_96192a27d28045979be75f229e330b0f",
        "IPY_MODEL_d1fb5971edbd4f8a8cf64e5bd128d9ff"
       ],
       "layout": "IPY_MODEL_eb736cae76ff48348003d507fbe34373",
       "selected_index": 1,
       "titles": [
        "",
        ""
       ]
      }
     },
     "728691b5e3924e6ab7592ff01ba4ffb9": {
      "model_module": "@jupyter-widgets/base",
      "model_module_version": "2.0.0",
      "model_name": "LayoutModel",
      "state": {}
     },
     "72d2668cd58440c0ad10f4c174028c08": {
      "model_module": "@jupyter-widgets/base",
      "model_module_version": "2.0.0",
      "model_name": "LayoutModel",
      "state": {}
     },
     "72dbacdbee9043529f66fa8367932666": {
      "model_module": "@jupyter-widgets/base",
      "model_module_version": "2.0.0",
      "model_name": "LayoutModel",
      "state": {}
     },
     "72ebd322351749e4abdf23eb45146d15": {
      "model_module": "@jupyter-widgets/output",
      "model_module_version": "1.0.0",
      "model_name": "OutputModel",
      "state": {
       "layout": "IPY_MODEL_a6f019cda169466085b2fd3f6b887dff",
       "outputs": [
        {
         "data": {
          "text/html": "<div>\n<style scoped>\n    .dataframe tbody tr th:only-of-type {\n        vertical-align: middle;\n    }\n\n    .dataframe tbody tr th {\n        vertical-align: top;\n    }\n\n    .dataframe thead th {\n        text-align: right;\n    }\n</style>\n<table border=\"1\" class=\"dataframe\">\n  <thead>\n    <tr style=\"text-align: right;\">\n      <th></th>\n      <th>image_id</th>\n      <th>category_str</th>\n      <th>category_id</th>\n      <th>box_x_min</th>\n      <th>box_y_min</th>\n      <th>box_width</th>\n      <th>box_height</th>\n      <th>area</th>\n      <th>attributes.occluded</th>\n      <th>attributes.colors</th>\n      <th>attributes.position</th>\n    </tr>\n    <tr>\n      <th>id</th>\n      <th></th>\n      <th></th>\n      <th></th>\n      <th></th>\n      <th></th>\n      <th></th>\n      <th></th>\n      <th></th>\n      <th></th>\n      <th></th>\n      <th></th>\n    </tr>\n  </thead>\n  <tbody>\n    <tr>\n      <th>269791</th>\n      <td>6091</td>\n      <td>stop sign</td>\n      <td>13</td>\n      <td>100.22</td>\n      <td>117.54</td>\n      <td>253.43</td>\n      <td>274.90</td>\n      <td>46726.4303</td>\n      <td>True</td>\n      <td>[red, white]</td>\n      <td>[]</td>\n    </tr>\n    <tr>\n      <th>1161234</th>\n      <td>10395</td>\n      <td>teddy bear</td>\n      <td>88</td>\n      <td>49.19</td>\n      <td>66.20</td>\n      <td>378.97</td>\n      <td>379.68</td>\n      <td>84587.4391</td>\n      <td>None</td>\n      <td>[grey]</td>\n      <td>[front]</td>\n    </tr>\n  </tbody>\n</table>\n</div>",
          "text/plain": "         image_id category_str  category_id  box_x_min  box_y_min  box_width  \\\nid                                                                             \n269791       6091    stop sign           13     100.22     117.54     253.43   \n1161234     10395   teddy bear           88      49.19      66.20     378.97   \n\n         box_height        area attributes.occluded attributes.colors  \\\nid                                                                      \n269791       274.90  46726.4303                True      [red, white]   \n1161234      379.68  84587.4391                None            [grey]   \n\n        attributes.position  \nid                           \n269791                   []  \n1161234             [front]  "
         },
         "metadata": {},
         "output_type": "display_data"
        }
       ]
      }
     },
     "73271936f6694793ba2a2f2e1c7762f6": {
      "model_module": "@jupyter-widgets/base",
      "model_module_version": "2.0.0",
      "model_name": "LayoutModel",
      "state": {}
     },
     "745ae94c06f842959d506ad0c3578822": {
      "model_module": "@jupyter-widgets/controls",
      "model_module_version": "2.0.0",
      "model_name": "LinkModel",
      "state": {
       "source": [
        "IPY_MODEL_a5d70caa283f45748c08722784ef486f",
        "index"
       ],
       "target": [
        "IPY_MODEL_fa36a7b34d3240338a38f0137ba893ca",
        "selected_index"
       ]
      }
     },
     "754358b619bd42a884f1605607095f26": {
      "model_module": "@jupyter-widgets/base",
      "model_module_version": "2.0.0",
      "model_name": "LayoutModel",
      "state": {}
     },
     "757e6a8fc71745a2948e612116b529a0": {
      "model_module": "@jupyter-widgets/controls",
      "model_module_version": "2.0.0",
      "model_name": "VBoxModel",
      "state": {
       "children": [
        "IPY_MODEL_2ee35f68a8af4d709ae4223d5675421e",
        "IPY_MODEL_c18597934a0a477592c816ac8d5b4541"
       ],
       "layout": "IPY_MODEL_08f673c3556346ca822060a9d59e36d4"
      }
     },
     "758094d7b8724e5d8b16a73e9235c50c": {
      "model_module": "@jupyter-widgets/controls",
      "model_module_version": "2.0.0",
      "model_name": "LabelStyleModel",
      "state": {
       "description_width": "",
       "font_family": null,
       "font_size": null,
       "font_style": null,
       "font_variant": null,
       "font_weight": null,
       "text_color": null,
       "text_decoration": null
      }
     },
     "75f6495bf6ff40c9b156e28cee6705e8": {
      "model_module": "@jupyter-widgets/output",
      "model_module_version": "1.0.0",
      "model_name": "OutputModel",
      "state": {
       "layout": "IPY_MODEL_3f107f60d6f04c2ca132a3a706dd3f71",
       "outputs": [
        {
         "data": {
          "application/vnd.jupyter.widget-view+json": {
           "model_id": "3b2faecc3312488888d661f7a1a67222",
           "version_major": 2,
           "version_minor": 0
          },
          "text/plain": "VBox(children=(HBox(children=(VBox(children=(Label(value='Booleanize'), Label(value='Column format'))), VBox(c…"
         },
         "metadata": {},
         "output_type": "display_data"
        }
       ]
      }
     },
     "763a8357aa054c3386f7718204835d9e": {
      "model_module": "@jupyter-widgets/base",
      "model_module_version": "2.0.0",
      "model_name": "LayoutModel",
      "state": {}
     },
     "772df3f2bce7450cb761e2d8ba607c03": {
      "model_module": "@jupyter-widgets/output",
      "model_module_version": "1.0.0",
      "model_name": "OutputModel",
      "state": {
       "layout": "IPY_MODEL_0725df56238a46e2b88c90e0ec39021b",
       "outputs": [
        {
         "data": {
          "text/html": "<style type=\"text/css\">\n#T_e6686 th {\n  border-right: 1px solid #F0F0F0;\n}\n</style>\n<table id=\"T_e6686\">\n  <thead>\n    <tr>\n      <th class=\"blank level0\" >&nbsp;</th>\n      <th id=\"T_e6686_level0_col0\" class=\"col_heading level0 col0\" >image_id</th>\n      <th id=\"T_e6686_level0_col1\" class=\"col_heading level0 col1\" >category_str</th>\n      <th id=\"T_e6686_level0_col2\" class=\"col_heading level0 col2\" >category_id</th>\n      <th id=\"T_e6686_level0_col3\" class=\"col_heading level0 col3\" >box_x_min</th>\n      <th id=\"T_e6686_level0_col4\" class=\"col_heading level0 col4\" >box_y_min</th>\n      <th id=\"T_e6686_level0_col5\" class=\"col_heading level0 col5\" >box_width</th>\n      <th id=\"T_e6686_level0_col6\" class=\"col_heading level0 col6\" >box_height</th>\n      <th id=\"T_e6686_level0_col7\" class=\"col_heading level0 col7\" >area</th>\n      <th id=\"T_e6686_level0_col8\" class=\"col_heading level0 col8\" colspan=\"3\">attributes</th>\n    </tr>\n    <tr>\n      <th class=\"blank level1\" >&nbsp;</th>\n      <th id=\"T_e6686_level1_col0\" class=\"col_heading level1 col0\" ></th>\n      <th id=\"T_e6686_level1_col1\" class=\"col_heading level1 col1\" ></th>\n      <th id=\"T_e6686_level1_col2\" class=\"col_heading level1 col2\" ></th>\n      <th id=\"T_e6686_level1_col3\" class=\"col_heading level1 col3\" ></th>\n      <th id=\"T_e6686_level1_col4\" class=\"col_heading level1 col4\" ></th>\n      <th id=\"T_e6686_level1_col5\" class=\"col_heading level1 col5\" ></th>\n      <th id=\"T_e6686_level1_col6\" class=\"col_heading level1 col6\" ></th>\n      <th id=\"T_e6686_level1_col7\" class=\"col_heading level1 col7\" ></th>\n      <th id=\"T_e6686_level1_col8\" class=\"col_heading level1 col8\" >colors</th>\n      <th id=\"T_e6686_level1_col9\" class=\"col_heading level1 col9\" >occluded</th>\n      <th id=\"T_e6686_level1_col10\" class=\"col_heading level1 col10\" >position</th>\n    </tr>\n    <tr>\n      <th class=\"index_name level0\" >id</th>\n      <th class=\"blank col0\" >&nbsp;</th>\n      <th class=\"blank col1\" >&nbsp;</th>\n      <th class=\"blank col2\" >&nbsp;</th>\n      <th class=\"blank col3\" >&nbsp;</th>\n      <th class=\"blank col4\" >&nbsp;</th>\n      <th class=\"blank col5\" >&nbsp;</th>\n      <th class=\"blank col6\" >&nbsp;</th>\n      <th class=\"blank col7\" >&nbsp;</th>\n      <th class=\"blank col8\" >&nbsp;</th>\n      <th class=\"blank col9\" >&nbsp;</th>\n      <th class=\"blank col10\" >&nbsp;</th>\n    </tr>\n  </thead>\n  <tbody>\n    <tr>\n      <th id=\"T_e6686_level0_row0\" class=\"row_heading level0 row0\" >269791</th>\n      <td id=\"T_e6686_row0_col0\" class=\"data row0 col0\" >6091</td>\n      <td id=\"T_e6686_row0_col1\" class=\"data row0 col1\" >stop sign</td>\n      <td id=\"T_e6686_row0_col2\" class=\"data row0 col2\" >13</td>\n      <td id=\"T_e6686_row0_col3\" class=\"data row0 col3\" >100.220000</td>\n      <td id=\"T_e6686_row0_col4\" class=\"data row0 col4\" >117.540000</td>\n      <td id=\"T_e6686_row0_col5\" class=\"data row0 col5\" >253.430000</td>\n      <td id=\"T_e6686_row0_col6\" class=\"data row0 col6\" >274.900000</td>\n      <td id=\"T_e6686_row0_col7\" class=\"data row0 col7\" >46726.430300</td>\n      <td id=\"T_e6686_row0_col8\" class=\"data row0 col8\" >['red', 'white']</td>\n      <td id=\"T_e6686_row0_col9\" class=\"data row0 col9\" >True</td>\n      <td id=\"T_e6686_row0_col10\" class=\"data row0 col10\" >None</td>\n    </tr>\n    <tr>\n      <th id=\"T_e6686_level0_row1\" class=\"row_heading level0 row1\" >1161234</th>\n      <td id=\"T_e6686_row1_col0\" class=\"data row1 col0\" >10395</td>\n      <td id=\"T_e6686_row1_col1\" class=\"data row1 col1\" >teddy bear</td>\n      <td id=\"T_e6686_row1_col2\" class=\"data row1 col2\" >88</td>\n      <td id=\"T_e6686_row1_col3\" class=\"data row1 col3\" >49.190000</td>\n      <td id=\"T_e6686_row1_col4\" class=\"data row1 col4\" >66.200000</td>\n      <td id=\"T_e6686_row1_col5\" class=\"data row1 col5\" >378.970000</td>\n      <td id=\"T_e6686_row1_col6\" class=\"data row1 col6\" >379.680000</td>\n      <td id=\"T_e6686_row1_col7\" class=\"data row1 col7\" >84587.439100</td>\n      <td id=\"T_e6686_row1_col8\" class=\"data row1 col8\" >['grey']</td>\n      <td id=\"T_e6686_row1_col9\" class=\"data row1 col9\" >None</td>\n      <td id=\"T_e6686_row1_col10\" class=\"data row1 col10\" >['front']</td>\n    </tr>\n  </tbody>\n</table>\n",
          "text/plain": "<pandas.io.formats.style.Styler at 0x30218e5d0>"
         },
         "metadata": {},
         "output_type": "display_data"
        }
       ]
      }
     },
     "77aaa7b1357e4d348e418146d2f12cf8": {
      "model_module": "@jupyter-widgets/controls",
      "model_module_version": "2.0.0",
      "model_name": "HTMLStyleModel",
      "state": {
       "description_width": "",
       "font_size": null,
       "text_color": null
      }
     },
     "77e5eed83afa4c36b4ec9062bd28a3e3": {
      "model_module": "@jupyter-widgets/base",
      "model_module_version": "2.0.0",
      "model_name": "LayoutModel",
      "state": {}
     },
     "77ffd6e2f1bc4c2ca26ed7b15e9136f6": {
      "model_module": "@jupyter-widgets/output",
      "model_module_version": "1.0.0",
      "model_name": "OutputModel",
      "state": {
       "layout": "IPY_MODEL_56e0d55f302b4868be2407a163d8ad11",
       "outputs": [
        {
         "data": {
          "application/vnd.jupyter.widget-view+json": {
           "model_id": "70e639ac362a45808491f61f3ceb2f13",
           "version_major": 2,
           "version_minor": 0
          },
          "text/plain": "VBox(children=(HBox(children=(Label(value='Column format'), Dropdown(index=1, options=('raw', 'nested'), value…"
         },
         "metadata": {},
         "output_type": "display_data"
        }
       ]
      }
     },
     "78a3da09b7c5421295cf78d33102e6b1": {
      "model_module": "@jupyter-widgets/base",
      "model_module_version": "2.0.0",
      "model_name": "LayoutModel",
      "state": {}
     },
     "78a4dc79253e41e690dca6416708a326": {
      "model_module": "@jupyter-widgets/controls",
      "model_module_version": "2.0.0",
      "model_name": "VBoxModel",
      "state": {
       "children": [
        "IPY_MODEL_8d0530607bb44b5eaf837a87ca8e631d",
        "IPY_MODEL_d9b22d9f66474a3389db173d5266b947"
       ],
       "layout": "IPY_MODEL_e16b4895dd524818b955204726fec9e2"
      }
     },
     "78c6c223b4bc46ef9f1538c4d2ad0f62": {
      "model_module": "@jupyter-widgets/controls",
      "model_module_version": "2.0.0",
      "model_name": "HBoxModel",
      "state": {
       "children": [
        "IPY_MODEL_83c6a604beca4d74a4f473ae121555b6",
        "IPY_MODEL_c3da77f01f404b4baefb7ec9680bd8aa"
       ],
       "layout": "IPY_MODEL_f13e2b5ef9fb4f549fafacab5a7b04c5"
      }
     },
     "793cf62999df46f8afc8d2aaab8240a1": {
      "model_module": "@jupyter-widgets/base",
      "model_module_version": "2.0.0",
      "model_name": "LayoutModel",
      "state": {}
     },
     "795e3f3f605e40fe86b4b6f3772e57fc": {
      "model_module": "@jupyter-widgets/base",
      "model_module_version": "2.0.0",
      "model_name": "LayoutModel",
      "state": {}
     },
     "796db41d62814867975e3dfec24c9caa": {
      "model_module": "@jupyter-widgets/base",
      "model_module_version": "2.0.0",
      "model_name": "LayoutModel",
      "state": {}
     },
     "797bf067f73943d9a4a145f7fd7ea361": {
      "model_module": "@jupyter-widgets/controls",
      "model_module_version": "2.0.0",
      "model_name": "LinkModel",
      "state": {
       "source": [
        "IPY_MODEL_eabe4dbbc4b04b6d91e436525c26ecb9",
        "index"
       ],
       "target": [
        "IPY_MODEL_eb7695fed160458a824d2a9d9e12b1a1",
        "selected_index"
       ]
      }
     },
     "798739cf16154875adef4b46dba55dd7": {
      "model_module": "@jupyter-widgets/base",
      "model_module_version": "2.0.0",
      "model_name": "LayoutModel",
      "state": {}
     },
     "79d711af9e0649a393a25b2180874041": {
      "model_module": "@jupyter-widgets/base",
      "model_module_version": "2.0.0",
      "model_name": "LayoutModel",
      "state": {}
     },
     "7a3a09659d1e4711a642ab91146a8fa9": {
      "model_module": "@jupyter-widgets/output",
      "model_module_version": "1.0.0",
      "model_name": "OutputModel",
      "state": {
       "layout": "IPY_MODEL_e89f8bf1073d4b888056d2de7cbef915",
       "outputs": [
        {
         "data": {
          "text/html": "<div>\n<style scoped>\n    .dataframe tbody tr th:only-of-type {\n        vertical-align: middle;\n    }\n\n    .dataframe tbody tr th {\n        vertical-align: top;\n    }\n\n    .dataframe thead th {\n        text-align: right;\n    }\n</style>\n<table border=\"1\" class=\"dataframe\">\n  <thead>\n    <tr style=\"text-align: right;\">\n      <th></th>\n      <th>width</th>\n      <th>height</th>\n      <th>relative_path</th>\n      <th>type</th>\n      <th>tags.time</th>\n      <th>tags.weather</th>\n    </tr>\n    <tr>\n      <th>id</th>\n      <th></th>\n      <th></th>\n      <th></th>\n      <th></th>\n      <th></th>\n      <th></th>\n    </tr>\n  </thead>\n  <tbody>\n    <tr>\n      <th>6091</th>\n      <td>480</td>\n      <td>640</td>\n      <td>image1.jpg</td>\n      <td>.jpg</td>\n      <td>night</td>\n      <td>rainy</td>\n    </tr>\n    <tr>\n      <th>10395</th>\n      <td>500</td>\n      <td>476</td>\n      <td>image2.jpg</td>\n      <td>.jpg</td>\n      <td>night</td>\n      <td>None</td>\n    </tr>\n  </tbody>\n</table>\n</div>",
          "text/plain": "       width  height relative_path  type tags.time tags.weather\nid                                                             \n6091     480     640    image1.jpg  .jpg     night        rainy\n10395    500     476    image2.jpg  .jpg     night         None"
         },
         "metadata": {},
         "output_type": "display_data"
        }
       ]
      }
     },
     "7a3c49b7e4034a2bb279f22155fa893e": {
      "model_module": "@jupyter-widgets/controls",
      "model_module_version": "2.0.0",
      "model_name": "LinkModel",
      "state": {
       "source": [
        "IPY_MODEL_889d8446b7ed46429efab77aff6a15c3",
        "index"
       ],
       "target": [
        "IPY_MODEL_15532729471142a5bccc33e61f594d0e",
        "selected_index"
       ]
      }
     },
     "7a3f5e78183949f69b596e28b90c00f6": {
      "model_module": "@jupyter-widgets/controls",
      "model_module_version": "2.0.0",
      "model_name": "ProgressStyleModel",
      "state": {
       "description_width": ""
      }
     },
     "7a87de16ea484fb69738d7d9797df219": {
      "model_module": "@jupyter-widgets/controls",
      "model_module_version": "2.0.0",
      "model_name": "VBoxModel",
      "state": {
       "children": [
        "IPY_MODEL_b174c9d2d0a24775ac7d861f50a01985",
        "IPY_MODEL_32290a1049df4359aa2e6d349aaf0d37"
       ],
       "layout": "IPY_MODEL_171562c893454c9eb8fb17ab31629477"
      }
     },
     "7a934878b74440759d163ee2c262eafc": {
      "model_module": "@jupyter-widgets/controls",
      "model_module_version": "2.0.0",
      "model_name": "HTMLModel",
      "state": {
       "layout": "IPY_MODEL_3fb208d78fa040b19ed102b592e800a5",
       "style": "IPY_MODEL_37513390d6be4aebb0bb7545a1ff9598",
       "value": "<p><span style='white-space: pre-wrap; font-weight: bold'>Dataset object containing 2 images and 1 object\nName :\n\tsmall_tagged_dataset\nImages root :\n\t../../test_lours/test_data/caipy_dataset/tags/small_tagged_dataset/Images</span></p>"
      }
     },
     "7a9ef69070f34884abc1c00d0a752989": {
      "model_module": "@jupyter-widgets/controls",
      "model_module_version": "2.0.0",
      "model_name": "LabelStyleModel",
      "state": {
       "description_width": "",
       "font_family": null,
       "font_size": null,
       "font_style": null,
       "font_variant": null,
       "font_weight": null,
       "text_color": null,
       "text_decoration": null
      }
     },
     "7ab0d7aa8b75470791d63b7908f9e295": {
      "model_module": "@jupyter-widgets/controls",
      "model_module_version": "2.0.0",
      "model_name": "LabelModel",
      "state": {
       "layout": "IPY_MODEL_494e3daedd2c49c7a89a366838a412cc",
       "style": "IPY_MODEL_758094d7b8724e5d8b16a73e9235c50c",
       "value": "Column format"
      }
     },
     "7b5d82b95dbe493cb1104c90fe815051": {
      "model_module": "@jupyter-widgets/controls",
      "model_module_version": "2.0.0",
      "model_name": "DescriptionStyleModel",
      "state": {
       "description_width": ""
      }
     },
     "7d5270991e1d4ac1a23bf76fb0b68c73": {
      "model_module": "@jupyter-widgets/output",
      "model_module_version": "1.0.0",
      "model_name": "OutputModel",
      "state": {
       "layout": "IPY_MODEL_e623514fc2d4408b876f5b89de2ebbf2",
       "outputs": [
        {
         "data": {
          "text/html": "<div>\n<style scoped>\n    .dataframe tbody tr th:only-of-type {\n        vertical-align: middle;\n    }\n\n    .dataframe tbody tr th {\n        vertical-align: top;\n    }\n\n    .dataframe thead th {\n        text-align: right;\n    }\n</style>\n<table border=\"1\" class=\"dataframe\">\n  <thead>\n    <tr style=\"text-align: right;\">\n      <th></th>\n      <th>width</th>\n      <th>height</th>\n      <th>relative_path</th>\n      <th>type</th>\n      <th>tags.time</th>\n      <th>tags.weather</th>\n    </tr>\n    <tr>\n      <th>id</th>\n      <th></th>\n      <th></th>\n      <th></th>\n      <th></th>\n      <th></th>\n      <th></th>\n    </tr>\n  </thead>\n  <tbody>\n    <tr>\n      <th>6091</th>\n      <td>480</td>\n      <td>640</td>\n      <td>image1.jpg</td>\n      <td>.jpg</td>\n      <td>night</td>\n      <td>rainy</td>\n    </tr>\n    <tr>\n      <th>10395</th>\n      <td>500</td>\n      <td>476</td>\n      <td>image2.jpg</td>\n      <td>.jpg</td>\n      <td>night</td>\n      <td>None</td>\n    </tr>\n  </tbody>\n</table>\n</div>",
          "text/plain": "       width  height relative_path  type tags.time tags.weather\nid                                                             \n6091     480     640    image1.jpg  .jpg     night        rainy\n10395    500     476    image2.jpg  .jpg     night         None"
         },
         "metadata": {},
         "output_type": "display_data"
        }
       ]
      }
     },
     "7d995a6b40ff4548bbe038deeba7f77b": {
      "model_module": "@jupyter-widgets/base",
      "model_module_version": "2.0.0",
      "model_name": "LayoutModel",
      "state": {}
     },
     "7dc163fc405c452a9d18038dbf30270d": {
      "model_module": "@jupyter-widgets/controls",
      "model_module_version": "2.0.0",
      "model_name": "HTMLStyleModel",
      "state": {
       "description_width": "",
       "font_size": null,
       "text_color": null
      }
     },
     "7ed1066d913d402da5083e216288a2a6": {
      "model_module": "@jupyter-widgets/controls",
      "model_module_version": "2.0.0",
      "model_name": "FloatProgressModel",
      "state": {
       "bar_style": "success",
       "layout": "IPY_MODEL_1ea88e7d098d46268aa1c330a1f885a5",
       "max": 2,
       "style": "IPY_MODEL_7a3f5e78183949f69b596e28b90c00f6",
       "value": 2
      }
     },
     "7f7be1bd470c4f12a72eb57d293f53c7": {
      "model_module": "@jupyter-widgets/controls",
      "model_module_version": "2.0.0",
      "model_name": "DropdownModel",
      "state": {
       "_options_labels": [
        "raw",
        "nested"
       ],
       "index": 0,
       "layout": "IPY_MODEL_87d6389c5c494605adc1bb65c0bc2e9c",
       "style": "IPY_MODEL_28c56dd1b1264b78a6e2d28df4208709"
      }
     },
     "7fd0eb032f7a47ca96559fadb0bb675f": {
      "model_module": "@jupyter-widgets/controls",
      "model_module_version": "2.0.0",
      "model_name": "HBoxModel",
      "state": {
       "children": [
        "IPY_MODEL_7ab0d7aa8b75470791d63b7908f9e295",
        "IPY_MODEL_47930ec638f54567a0ed33f04d324e45"
       ],
       "layout": "IPY_MODEL_3956d24db51943deba0ce144b6077c97"
      }
     },
     "803eb4c70f044fceb74d50e9874e7fcf": {
      "model_module": "@jupyter-widgets/controls",
      "model_module_version": "2.0.0",
      "model_name": "StackModel",
      "state": {
       "children": [
        "IPY_MODEL_e01c1b0d50d04d15a66782c2e1279fe4",
        "IPY_MODEL_23d90b1116024b2a83bdbf994661bf96"
       ],
       "layout": "IPY_MODEL_fe1b20f6d0204f3eb84d0192f3e7d257",
       "selected_index": 1,
       "titles": [
        "",
        ""
       ]
      }
     },
     "808a83d11d2149058baea8c0a7852240": {
      "model_module": "@jupyter-widgets/controls",
      "model_module_version": "2.0.0",
      "model_name": "LabelModel",
      "state": {
       "layout": "IPY_MODEL_5c1b3162ea0d493999b2d8539d3d1821",
       "style": "IPY_MODEL_f175e4afc7444d56abc921d8bfcd9c3c",
       "value": "Column format"
      }
     },
     "8140f97ada6148549e1fb9ddb20a1e6b": {
      "model_module": "@jupyter-widgets/controls",
      "model_module_version": "2.0.0",
      "model_name": "LinkModel",
      "state": {
       "source": [
        "IPY_MODEL_7f7be1bd470c4f12a72eb57d293f53c7",
        "index"
       ],
       "target": [
        "IPY_MODEL_52b11275f6e24f92ac3d516ca5affdee",
        "selected_index"
       ]
      }
     },
     "827d49b4f3884509a3fbb116e67637cc": {
      "model_module": "@jupyter-widgets/base",
      "model_module_version": "2.0.0",
      "model_name": "LayoutModel",
      "state": {}
     },
     "8393c6de9d1a4b6584ede2913898c711": {
      "model_module": "@jupyter-widgets/base",
      "model_module_version": "2.0.0",
      "model_name": "LayoutModel",
      "state": {}
     },
     "83c6a604beca4d74a4f473ae121555b6": {
      "model_module": "@jupyter-widgets/controls",
      "model_module_version": "2.0.0",
      "model_name": "LabelModel",
      "state": {
       "layout": "IPY_MODEL_a023b0adc5a843318a6d6ca709cec636",
       "style": "IPY_MODEL_2b8b8ef54a4242d3a7b52180a359f42a",
       "value": "Column format"
      }
     },
     "849eabdb80e944e78352992631b22a8f": {
      "model_module": "@jupyter-widgets/base",
      "model_module_version": "2.0.0",
      "model_name": "LayoutModel",
      "state": {}
     },
     "8504d8b16d744c24b4466e0f6865a5f7": {
      "model_module": "@jupyter-widgets/controls",
      "model_module_version": "2.0.0",
      "model_name": "TabModel",
      "state": {
       "children": [
        "IPY_MODEL_72164298c7db4cb5b4379825c9ea4a04",
        "IPY_MODEL_75f6495bf6ff40c9b156e28cee6705e8",
        "IPY_MODEL_fa97553ef182453d81ef5779123a45a5"
       ],
       "layout": "IPY_MODEL_8393c6de9d1a4b6584ede2913898c711",
       "selected_index": 0,
       "titles": [
        "Images",
        "Annotations",
        "Label Map"
       ]
      }
     },
     "860ee4ddf35947fda3cba12039539da8": {
      "model_module": "@jupyter-widgets/base",
      "model_module_version": "2.0.0",
      "model_name": "LayoutModel",
      "state": {}
     },
     "86b4e9521a294da4a7877f86c34f3a3a": {
      "model_module": "@jupyter-widgets/controls",
      "model_module_version": "2.0.0",
      "model_name": "LabelStyleModel",
      "state": {
       "description_width": "",
       "font_family": null,
       "font_size": null,
       "font_style": null,
       "font_variant": null,
       "font_weight": null,
       "text_color": null,
       "text_decoration": null
      }
     },
     "86f80b9d1bbb465d94cd9d332908bce8": {
      "model_module": "@jupyter-widgets/output",
      "model_module_version": "1.0.0",
      "model_name": "OutputModel",
      "state": {
       "layout": "IPY_MODEL_225471f443064aa1b05d15e8200851c4",
       "outputs": [
        {
         "data": {
          "text/html": "<div>\n<style scoped>\n    .dataframe tbody tr th:only-of-type {\n        vertical-align: middle;\n    }\n\n    .dataframe tbody tr th {\n        vertical-align: top;\n    }\n\n    .dataframe thead th {\n        text-align: right;\n    }\n</style>\n<table border=\"1\" class=\"dataframe\">\n  <thead>\n    <tr style=\"text-align: right;\">\n      <th></th>\n      <th>category string</th>\n    </tr>\n    <tr>\n      <th>category_id</th>\n      <th></th>\n    </tr>\n  </thead>\n  <tbody>\n    <tr>\n      <th>13</th>\n      <td>stop sign</td>\n    </tr>\n    <tr>\n      <th>88</th>\n      <td>teddy bear</td>\n    </tr>\n  </tbody>\n</table>\n</div>",
          "text/plain": "            category string\ncategory_id                \n13                stop sign\n88               teddy bear"
         },
         "metadata": {},
         "output_type": "display_data"
        }
       ]
      }
     },
     "87952fa04acc4fd8806846b79e4dc2d4": {
      "model_module": "@jupyter-widgets/controls",
      "model_module_version": "2.0.0",
      "model_name": "LabelModel",
      "state": {
       "layout": "IPY_MODEL_181cff8851134779b46b515d5ed76785",
       "style": "IPY_MODEL_39dcbdb8115840ce9e3f95965e569553",
       "value": "Column format"
      }
     },
     "87d6389c5c494605adc1bb65c0bc2e9c": {
      "model_module": "@jupyter-widgets/base",
      "model_module_version": "2.0.0",
      "model_name": "LayoutModel",
      "state": {}
     },
     "87d79ce0899744878c8043ac0b66a37a": {
      "model_module": "@jupyter-widgets/base",
      "model_module_version": "2.0.0",
      "model_name": "LayoutModel",
      "state": {}
     },
     "88213eb98e804ccb8ad399dee401dc19": {
      "model_module": "@jupyter-widgets/output",
      "model_module_version": "1.0.0",
      "model_name": "OutputModel",
      "state": {
       "layout": "IPY_MODEL_d451a2662b8b43e2bdfd6eae1cc2a059",
       "outputs": [
        {
         "data": {
          "text/html": "<div>\n<style scoped>\n    .dataframe tbody tr th:only-of-type {\n        vertical-align: middle;\n    }\n\n    .dataframe tbody tr th {\n        vertical-align: top;\n    }\n\n    .dataframe thead th {\n        text-align: right;\n    }\n</style>\n<table border=\"1\" class=\"dataframe\">\n  <thead>\n    <tr style=\"text-align: right;\">\n      <th></th>\n      <th>image_id</th>\n      <th>category_str</th>\n      <th>category_id</th>\n      <th>box_x_min</th>\n      <th>box_y_min</th>\n      <th>box_width</th>\n      <th>box_height</th>\n      <th>area</th>\n      <th>attributes.colors</th>\n      <th>attributes.occluded</th>\n      <th>attributes.position</th>\n    </tr>\n    <tr>\n      <th>id</th>\n      <th></th>\n      <th></th>\n      <th></th>\n      <th></th>\n      <th></th>\n      <th></th>\n      <th></th>\n      <th></th>\n      <th></th>\n      <th></th>\n      <th></th>\n    </tr>\n  </thead>\n  <tbody>\n    <tr>\n      <th>269791</th>\n      <td>6091</td>\n      <td>stop sign</td>\n      <td>13</td>\n      <td>100.22</td>\n      <td>117.54</td>\n      <td>253.43</td>\n      <td>274.90</td>\n      <td>46726.4303</td>\n      <td>[red, white]</td>\n      <td>True</td>\n      <td>None</td>\n    </tr>\n    <tr>\n      <th>1161234</th>\n      <td>10395</td>\n      <td>teddy bear</td>\n      <td>88</td>\n      <td>49.19</td>\n      <td>66.20</td>\n      <td>378.97</td>\n      <td>379.68</td>\n      <td>84587.4391</td>\n      <td>[grey]</td>\n      <td>None</td>\n      <td>[front]</td>\n    </tr>\n  </tbody>\n</table>\n</div>",
          "text/plain": "         image_id category_str  category_id  box_x_min  box_y_min  box_width  \\\nid                                                                             \n269791       6091    stop sign           13     100.22     117.54     253.43   \n1161234     10395   teddy bear           88      49.19      66.20     378.97   \n\n         box_height        area attributes.colors attributes.occluded  \\\nid                                                                      \n269791       274.90  46726.4303      [red, white]                True   \n1161234      379.68  84587.4391            [grey]                None   \n\n        attributes.position  \nid                           \n269791                 None  \n1161234             [front]  "
         },
         "metadata": {},
         "output_type": "display_data"
        }
       ]
      }
     },
     "8822b69810d94d55a7acc4945e8883eb": {
      "model_module": "@jupyter-widgets/base",
      "model_module_version": "2.0.0",
      "model_name": "LayoutModel",
      "state": {}
     },
     "889d8446b7ed46429efab77aff6a15c3": {
      "model_module": "@jupyter-widgets/controls",
      "model_module_version": "2.0.0",
      "model_name": "ToggleButtonsModel",
      "state": {
       "_options_labels": [
        "yes ",
        "no "
       ],
       "button_style": "",
       "icons": [
        "check",
        "times"
       ],
       "index": 1,
       "layout": "IPY_MODEL_a9b392bda980411d87db41d6d9bd94fe",
       "style": "IPY_MODEL_63434e54f72b4d478275f662b7a2f403",
       "tooltips": []
      }
     },
     "892bf2f0f1ff46faabf85d30879eff81": {
      "model_module": "@jupyter-widgets/controls",
      "model_module_version": "2.0.0",
      "model_name": "HTMLModel",
      "state": {
       "layout": "IPY_MODEL_ab6868dc56024e76a4c715b35394d200",
       "style": "IPY_MODEL_a7f0ab80f1aa48cd85ea69261be4615e",
       "value": "100%"
      }
     },
     "8999c4e53eea4a1b93044f01ebcaf831": {
      "model_module": "@jupyter-widgets/controls",
      "model_module_version": "2.0.0",
      "model_name": "VBoxModel",
      "state": {
       "children": [
        "IPY_MODEL_5dbd083e256544a6945f8720ab41c957",
        "IPY_MODEL_55d4dc2c795c4d9e99362036099bdc51"
       ],
       "layout": "IPY_MODEL_3636a991e5014af48f5f3ca137b94b7e"
      }
     },
     "8a152d2ea9d841229351a23f588f4e58": {
      "model_module": "@jupyter-widgets/base",
      "model_module_version": "2.0.0",
      "model_name": "LayoutModel",
      "state": {}
     },
     "8af249d95e6b4c8bab28e9d89670a9cf": {
      "model_module": "@jupyter-widgets/output",
      "model_module_version": "1.0.0",
      "model_name": "OutputModel",
      "state": {
       "layout": "IPY_MODEL_1f3d97b642d040ce876c3713a32f79f3",
       "outputs": [
        {
         "data": {
          "text/html": "<style type=\"text/css\">\n#T_f6be6 th {\n  border-right: 1px solid #F0F0F0;\n}\n</style>\n<table id=\"T_f6be6\">\n  <thead>\n    <tr>\n      <th class=\"blank level0\" >&nbsp;</th>\n      <th id=\"T_f6be6_level0_col0\" class=\"col_heading level0 col0\" >image_id</th>\n      <th id=\"T_f6be6_level0_col1\" class=\"col_heading level0 col1\" >category_str</th>\n      <th id=\"T_f6be6_level0_col2\" class=\"col_heading level0 col2\" >category_id</th>\n      <th id=\"T_f6be6_level0_col3\" class=\"col_heading level0 col3\" >box_x_min</th>\n      <th id=\"T_f6be6_level0_col4\" class=\"col_heading level0 col4\" >box_y_min</th>\n      <th id=\"T_f6be6_level0_col5\" class=\"col_heading level0 col5\" >box_width</th>\n      <th id=\"T_f6be6_level0_col6\" class=\"col_heading level0 col6\" >box_height</th>\n      <th id=\"T_f6be6_level0_col7\" class=\"col_heading level0 col7\" >area</th>\n      <th id=\"T_f6be6_level0_col8\" class=\"col_heading level0 col8\" colspan=\"19\">attributes</th>\n    </tr>\n    <tr>\n      <th class=\"blank level1\" >&nbsp;</th>\n      <th id=\"T_f6be6_level1_col0\" class=\"col_heading level1 col0\" ></th>\n      <th id=\"T_f6be6_level1_col1\" class=\"col_heading level1 col1\" ></th>\n      <th id=\"T_f6be6_level1_col2\" class=\"col_heading level1 col2\" ></th>\n      <th id=\"T_f6be6_level1_col3\" class=\"col_heading level1 col3\" ></th>\n      <th id=\"T_f6be6_level1_col4\" class=\"col_heading level1 col4\" ></th>\n      <th id=\"T_f6be6_level1_col5\" class=\"col_heading level1 col5\" ></th>\n      <th id=\"T_f6be6_level1_col6\" class=\"col_heading level1 col6\" ></th>\n      <th id=\"T_f6be6_level1_col7\" class=\"col_heading level1 col7\" ></th>\n      <th id=\"T_f6be6_level1_col8\" class=\"col_heading level1 col8\" >occluded</th>\n      <th id=\"T_f6be6_level1_col9\" class=\"col_heading level1 col9\" colspan=\"13\">colors</th>\n      <th id=\"T_f6be6_level1_col22\" class=\"col_heading level1 col22\" colspan=\"5\">position</th>\n    </tr>\n    <tr>\n      <th class=\"blank level2\" >&nbsp;</th>\n      <th id=\"T_f6be6_level2_col0\" class=\"col_heading level2 col0\" ></th>\n      <th id=\"T_f6be6_level2_col1\" class=\"col_heading level2 col1\" ></th>\n      <th id=\"T_f6be6_level2_col2\" class=\"col_heading level2 col2\" ></th>\n      <th id=\"T_f6be6_level2_col3\" class=\"col_heading level2 col3\" ></th>\n      <th id=\"T_f6be6_level2_col4\" class=\"col_heading level2 col4\" ></th>\n      <th id=\"T_f6be6_level2_col5\" class=\"col_heading level2 col5\" ></th>\n      <th id=\"T_f6be6_level2_col6\" class=\"col_heading level2 col6\" ></th>\n      <th id=\"T_f6be6_level2_col7\" class=\"col_heading level2 col7\" ></th>\n      <th id=\"T_f6be6_level2_col8\" class=\"col_heading level2 col8\" ></th>\n      <th id=\"T_f6be6_level2_col9\" class=\"col_heading level2 col9\" >beige</th>\n      <th id=\"T_f6be6_level2_col10\" class=\"col_heading level2 col10\" >black</th>\n      <th id=\"T_f6be6_level2_col11\" class=\"col_heading level2 col11\" >blue</th>\n      <th id=\"T_f6be6_level2_col12\" class=\"col_heading level2 col12\" >brown</th>\n      <th id=\"T_f6be6_level2_col13\" class=\"col_heading level2 col13\" >cyan</th>\n      <th id=\"T_f6be6_level2_col14\" class=\"col_heading level2 col14\" >green</th>\n      <th id=\"T_f6be6_level2_col15\" class=\"col_heading level2 col15\" >grey</th>\n      <th id=\"T_f6be6_level2_col16\" class=\"col_heading level2 col16\" >orange</th>\n      <th id=\"T_f6be6_level2_col17\" class=\"col_heading level2 col17\" >pink</th>\n      <th id=\"T_f6be6_level2_col18\" class=\"col_heading level2 col18\" >purple</th>\n      <th id=\"T_f6be6_level2_col19\" class=\"col_heading level2 col19\" >red</th>\n      <th id=\"T_f6be6_level2_col20\" class=\"col_heading level2 col20\" >white</th>\n      <th id=\"T_f6be6_level2_col21\" class=\"col_heading level2 col21\" >yellow</th>\n      <th id=\"T_f6be6_level2_col22\" class=\"col_heading level2 col22\" >back</th>\n      <th id=\"T_f6be6_level2_col23\" class=\"col_heading level2 col23\" >front</th>\n      <th id=\"T_f6be6_level2_col24\" class=\"col_heading level2 col24\" >side</th>\n      <th id=\"T_f6be6_level2_col25\" class=\"col_heading level2 col25\" >top</th>\n      <th id=\"T_f6be6_level2_col26\" class=\"col_heading level2 col26\" >unknown</th>\n    </tr>\n    <tr>\n      <th class=\"index_name level0\" >id</th>\n      <th class=\"blank col0\" >&nbsp;</th>\n      <th class=\"blank col1\" >&nbsp;</th>\n      <th class=\"blank col2\" >&nbsp;</th>\n      <th class=\"blank col3\" >&nbsp;</th>\n      <th class=\"blank col4\" >&nbsp;</th>\n      <th class=\"blank col5\" >&nbsp;</th>\n      <th class=\"blank col6\" >&nbsp;</th>\n      <th class=\"blank col7\" >&nbsp;</th>\n      <th class=\"blank col8\" >&nbsp;</th>\n      <th class=\"blank col9\" >&nbsp;</th>\n      <th class=\"blank col10\" >&nbsp;</th>\n      <th class=\"blank col11\" >&nbsp;</th>\n      <th class=\"blank col12\" >&nbsp;</th>\n      <th class=\"blank col13\" >&nbsp;</th>\n      <th class=\"blank col14\" >&nbsp;</th>\n      <th class=\"blank col15\" >&nbsp;</th>\n      <th class=\"blank col16\" >&nbsp;</th>\n      <th class=\"blank col17\" >&nbsp;</th>\n      <th class=\"blank col18\" >&nbsp;</th>\n      <th class=\"blank col19\" >&nbsp;</th>\n      <th class=\"blank col20\" >&nbsp;</th>\n      <th class=\"blank col21\" >&nbsp;</th>\n      <th class=\"blank col22\" >&nbsp;</th>\n      <th class=\"blank col23\" >&nbsp;</th>\n      <th class=\"blank col24\" >&nbsp;</th>\n      <th class=\"blank col25\" >&nbsp;</th>\n      <th class=\"blank col26\" >&nbsp;</th>\n    </tr>\n  </thead>\n  <tbody>\n    <tr>\n      <th id=\"T_f6be6_level0_row0\" class=\"row_heading level0 row0\" >269791</th>\n      <td id=\"T_f6be6_row0_col0\" class=\"data row0 col0\" >6091</td>\n      <td id=\"T_f6be6_row0_col1\" class=\"data row0 col1\" >stop sign</td>\n      <td id=\"T_f6be6_row0_col2\" class=\"data row0 col2\" >13</td>\n      <td id=\"T_f6be6_row0_col3\" class=\"data row0 col3\" >100.220000</td>\n      <td id=\"T_f6be6_row0_col4\" class=\"data row0 col4\" >117.540000</td>\n      <td id=\"T_f6be6_row0_col5\" class=\"data row0 col5\" >253.430000</td>\n      <td id=\"T_f6be6_row0_col6\" class=\"data row0 col6\" >274.900000</td>\n      <td id=\"T_f6be6_row0_col7\" class=\"data row0 col7\" >46726.430300</td>\n      <td id=\"T_f6be6_row0_col8\" class=\"data row0 col8\" >True</td>\n      <td id=\"T_f6be6_row0_col9\" class=\"data row0 col9\" >False</td>\n      <td id=\"T_f6be6_row0_col10\" class=\"data row0 col10\" >False</td>\n      <td id=\"T_f6be6_row0_col11\" class=\"data row0 col11\" >False</td>\n      <td id=\"T_f6be6_row0_col12\" class=\"data row0 col12\" >False</td>\n      <td id=\"T_f6be6_row0_col13\" class=\"data row0 col13\" >False</td>\n      <td id=\"T_f6be6_row0_col14\" class=\"data row0 col14\" >False</td>\n      <td id=\"T_f6be6_row0_col15\" class=\"data row0 col15\" >False</td>\n      <td id=\"T_f6be6_row0_col16\" class=\"data row0 col16\" >False</td>\n      <td id=\"T_f6be6_row0_col17\" class=\"data row0 col17\" >False</td>\n      <td id=\"T_f6be6_row0_col18\" class=\"data row0 col18\" >False</td>\n      <td id=\"T_f6be6_row0_col19\" class=\"data row0 col19\" >True</td>\n      <td id=\"T_f6be6_row0_col20\" class=\"data row0 col20\" >True</td>\n      <td id=\"T_f6be6_row0_col21\" class=\"data row0 col21\" >False</td>\n      <td id=\"T_f6be6_row0_col22\" class=\"data row0 col22\" >False</td>\n      <td id=\"T_f6be6_row0_col23\" class=\"data row0 col23\" >False</td>\n      <td id=\"T_f6be6_row0_col24\" class=\"data row0 col24\" >False</td>\n      <td id=\"T_f6be6_row0_col25\" class=\"data row0 col25\" >False</td>\n      <td id=\"T_f6be6_row0_col26\" class=\"data row0 col26\" >False</td>\n    </tr>\n    <tr>\n      <th id=\"T_f6be6_level0_row1\" class=\"row_heading level0 row1\" >1161234</th>\n      <td id=\"T_f6be6_row1_col0\" class=\"data row1 col0\" >10395</td>\n      <td id=\"T_f6be6_row1_col1\" class=\"data row1 col1\" >teddy bear</td>\n      <td id=\"T_f6be6_row1_col2\" class=\"data row1 col2\" >88</td>\n      <td id=\"T_f6be6_row1_col3\" class=\"data row1 col3\" >49.190000</td>\n      <td id=\"T_f6be6_row1_col4\" class=\"data row1 col4\" >66.200000</td>\n      <td id=\"T_f6be6_row1_col5\" class=\"data row1 col5\" >378.970000</td>\n      <td id=\"T_f6be6_row1_col6\" class=\"data row1 col6\" >379.680000</td>\n      <td id=\"T_f6be6_row1_col7\" class=\"data row1 col7\" >84587.439100</td>\n      <td id=\"T_f6be6_row1_col8\" class=\"data row1 col8\" >None</td>\n      <td id=\"T_f6be6_row1_col9\" class=\"data row1 col9\" >False</td>\n      <td id=\"T_f6be6_row1_col10\" class=\"data row1 col10\" >False</td>\n      <td id=\"T_f6be6_row1_col11\" class=\"data row1 col11\" >False</td>\n      <td id=\"T_f6be6_row1_col12\" class=\"data row1 col12\" >False</td>\n      <td id=\"T_f6be6_row1_col13\" class=\"data row1 col13\" >False</td>\n      <td id=\"T_f6be6_row1_col14\" class=\"data row1 col14\" >False</td>\n      <td id=\"T_f6be6_row1_col15\" class=\"data row1 col15\" >True</td>\n      <td id=\"T_f6be6_row1_col16\" class=\"data row1 col16\" >False</td>\n      <td id=\"T_f6be6_row1_col17\" class=\"data row1 col17\" >False</td>\n      <td id=\"T_f6be6_row1_col18\" class=\"data row1 col18\" >False</td>\n      <td id=\"T_f6be6_row1_col19\" class=\"data row1 col19\" >False</td>\n      <td id=\"T_f6be6_row1_col20\" class=\"data row1 col20\" >False</td>\n      <td id=\"T_f6be6_row1_col21\" class=\"data row1 col21\" >False</td>\n      <td id=\"T_f6be6_row1_col22\" class=\"data row1 col22\" >False</td>\n      <td id=\"T_f6be6_row1_col23\" class=\"data row1 col23\" >True</td>\n      <td id=\"T_f6be6_row1_col24\" class=\"data row1 col24\" >False</td>\n      <td id=\"T_f6be6_row1_col25\" class=\"data row1 col25\" >False</td>\n      <td id=\"T_f6be6_row1_col26\" class=\"data row1 col26\" >False</td>\n    </tr>\n  </tbody>\n</table>\n",
          "text/plain": "<pandas.io.formats.style.Styler at 0x302123810>"
         },
         "metadata": {},
         "output_type": "display_data"
        }
       ]
      }
     },
     "8b3c3e7014d84bf0987caca4b74d9fd4": {
      "model_module": "@jupyter-widgets/base",
      "model_module_version": "2.0.0",
      "model_name": "LayoutModel",
      "state": {}
     },
     "8ba5185ae8f748eb831aff0055533934": {
      "model_module": "@jupyter-widgets/base",
      "model_module_version": "2.0.0",
      "model_name": "LayoutModel",
      "state": {}
     },
     "8bdb1a75f0d04172873d26771641eb84": {
      "model_module": "@jupyter-widgets/base",
      "model_module_version": "2.0.0",
      "model_name": "LayoutModel",
      "state": {}
     },
     "8d009078a1a544c38ce73a1a0582f081": {
      "model_module": "@jupyter-widgets/base",
      "model_module_version": "2.0.0",
      "model_name": "LayoutModel",
      "state": {}
     },
     "8d0530607bb44b5eaf837a87ca8e631d": {
      "model_module": "@jupyter-widgets/controls",
      "model_module_version": "2.0.0",
      "model_name": "HTMLModel",
      "state": {
       "layout": "IPY_MODEL_77e5eed83afa4c36b4ec9062bd28a3e3",
       "style": "IPY_MODEL_0861fa44d82b4122acec6969b476a723",
       "value": "<p><span style='white-space: pre-wrap; font-weight: bold'>Dataset object containing 2 images and 1 object\nName :\n\tsmall_tagged_dataset\nImages root :\n\t../../test_lours/test_data/caipy_dataset/tags/small_tagged_dataset/Images</span></p>"
      }
     },
     "8d6636f0ba274e6783146804ba67f43d": {
      "model_module": "@jupyter-widgets/controls",
      "model_module_version": "2.0.0",
      "model_name": "ToggleButtonsStyleModel",
      "state": {
       "button_width": "auto",
       "description_width": ""
      }
     },
     "8dda3ab2336c4c59ae313e45fb051397": {
      "model_module": "@jupyter-widgets/controls",
      "model_module_version": "2.0.0",
      "model_name": "DescriptionStyleModel",
      "state": {
       "description_width": ""
      }
     },
     "8e633a49cdf8467b942a120252411aad": {
      "model_module": "@jupyter-widgets/base",
      "model_module_version": "2.0.0",
      "model_name": "LayoutModel",
      "state": {}
     },
     "8efdd7707ac148fdad92e2f82d28e78d": {
      "model_module": "@jupyter-widgets/base",
      "model_module_version": "2.0.0",
      "model_name": "LayoutModel",
      "state": {}
     },
     "900d616b60a14f4faafed905563bf6b2": {
      "model_module": "@jupyter-widgets/controls",
      "model_module_version": "2.0.0",
      "model_name": "ToggleButtonsModel",
      "state": {
       "_options_labels": [
        "yes ",
        "no "
       ],
       "button_style": "",
       "icons": [
        "check",
        "times"
       ],
       "index": 1,
       "layout": "IPY_MODEL_2e6fe66e4365416b92bb1aee14fe420e",
       "style": "IPY_MODEL_52caaaf04d4148948a85a259028fae48",
       "tooltips": []
      }
     },
     "911ccd880acb4d04bd47db295971efab": {
      "model_module": "@jupyter-widgets/base",
      "model_module_version": "2.0.0",
      "model_name": "LayoutModel",
      "state": {}
     },
     "9147d7d083b742c2854b1711064a3dfc": {
      "model_module": "@jupyter-widgets/base",
      "model_module_version": "2.0.0",
      "model_name": "LayoutModel",
      "state": {}
     },
     "923d138e7b874eb899f6377c01b482cf": {
      "model_module": "@jupyter-widgets/controls",
      "model_module_version": "2.0.0",
      "model_name": "DropdownModel",
      "state": {
       "_options_labels": [
        "raw",
        "nested"
       ],
       "index": 1,
       "layout": "IPY_MODEL_6879017d1b644362a0ba47c838da11fa",
       "style": "IPY_MODEL_269781257d4547eb9846caffbba7f308"
      }
     },
     "9244bbe01b49415e919d47c4bc51edaa": {
      "model_module": "@jupyter-widgets/controls",
      "model_module_version": "2.0.0",
      "model_name": "HBoxModel",
      "state": {
       "children": [
        "IPY_MODEL_4e0b88374085483fba27a49a3e23f4b4",
        "IPY_MODEL_eabe4dbbc4b04b6d91e436525c26ecb9"
       ],
       "layout": "IPY_MODEL_d9160f103df247dbb9575c0e254c0179"
      }
     },
     "941fe4dcae944d9482b56d6ab8e96126": {
      "model_module": "@jupyter-widgets/controls",
      "model_module_version": "2.0.0",
      "model_name": "LabelStyleModel",
      "state": {
       "description_width": "",
       "font_family": null,
       "font_size": null,
       "font_style": null,
       "font_variant": null,
       "font_weight": null,
       "text_color": null,
       "text_decoration": null
      }
     },
     "949607ac39214db79b4b1577298d80d6": {
      "model_module": "@jupyter-widgets/base",
      "model_module_version": "2.0.0",
      "model_name": "LayoutModel",
      "state": {}
     },
     "949f8f72d1264d27a4802c0b90a24c7e": {
      "model_module": "@jupyter-widgets/output",
      "model_module_version": "1.0.0",
      "model_name": "OutputModel",
      "state": {
       "layout": "IPY_MODEL_c5b0561f741a4353b7fcd8ce340e6a2b",
       "outputs": [
        {
         "data": {
          "application/vnd.jupyter.widget-view+json": {
           "model_id": "4a0477f4a50e424eb4d56efebb80befd",
           "version_major": 2,
           "version_minor": 0
          },
          "text/plain": "VBox(children=(HBox(children=(VBox(children=(Label(value='Booleanize'), Label(value='Column format'))), VBox(c…"
         },
         "metadata": {},
         "output_type": "display_data"
        }
       ]
      }
     },
     "95717e222ce64822ba73164ff52adf26": {
      "model_module": "@jupyter-widgets/controls",
      "model_module_version": "2.0.0",
      "model_name": "HTMLModel",
      "state": {
       "layout": "IPY_MODEL_98d5556410d14b02b515786144b4df35",
       "style": "IPY_MODEL_e2769417c5bb4314adb24f96d854184f",
       "value": "<p><span style='white-space: pre-wrap; font-weight: bold'>Dataset object containing 2 images and 2 objects\nName :\n\tsmall_tagged_dataset\nImages root :\n\t../../test_lours/test_data/caipy_dataset/tags/small_tagged_dataset/Images</span></p>"
      }
     },
     "96192a27d28045979be75f229e330b0f": {
      "model_module": "@jupyter-widgets/output",
      "model_module_version": "1.0.0",
      "model_name": "OutputModel",
      "state": {
       "layout": "IPY_MODEL_3ff7356c378943f59b98953f615ad698",
       "outputs": [
        {
         "data": {
          "text/html": "<div>\n<style scoped>\n    .dataframe tbody tr th:only-of-type {\n        vertical-align: middle;\n    }\n\n    .dataframe tbody tr th {\n        vertical-align: top;\n    }\n\n    .dataframe thead th {\n        text-align: right;\n    }\n</style>\n<table border=\"1\" class=\"dataframe\">\n  <thead>\n    <tr style=\"text-align: right;\">\n      <th></th>\n      <th>image_id</th>\n      <th>category_str</th>\n      <th>category_id</th>\n      <th>box_x_min</th>\n      <th>box_y_min</th>\n      <th>box_width</th>\n      <th>box_height</th>\n      <th>area</th>\n      <th>attributes.occluded</th>\n      <th>attributes.colors</th>\n      <th>attributes.position</th>\n    </tr>\n    <tr>\n      <th>id</th>\n      <th></th>\n      <th></th>\n      <th></th>\n      <th></th>\n      <th></th>\n      <th></th>\n      <th></th>\n      <th></th>\n      <th></th>\n      <th></th>\n      <th></th>\n    </tr>\n  </thead>\n  <tbody>\n    <tr>\n      <th>269791</th>\n      <td>6091</td>\n      <td>stop sign</td>\n      <td>13</td>\n      <td>100.22</td>\n      <td>117.54</td>\n      <td>253.43</td>\n      <td>274.90</td>\n      <td>46726.4303</td>\n      <td>True</td>\n      <td>[red, white]</td>\n      <td>[]</td>\n    </tr>\n    <tr>\n      <th>1161234</th>\n      <td>10395</td>\n      <td>teddy bear</td>\n      <td>88</td>\n      <td>49.19</td>\n      <td>66.20</td>\n      <td>378.97</td>\n      <td>379.68</td>\n      <td>84587.4391</td>\n      <td>None</td>\n      <td>[grey]</td>\n      <td>[front]</td>\n    </tr>\n  </tbody>\n</table>\n</div>",
          "text/plain": "         image_id category_str  category_id  box_x_min  box_y_min  box_width  \\\nid                                                                             \n269791       6091    stop sign           13     100.22     117.54     253.43   \n1161234     10395   teddy bear           88      49.19      66.20     378.97   \n\n         box_height        area attributes.occluded attributes.colors  \\\nid                                                                      \n269791       274.90  46726.4303                True      [red, white]   \n1161234      379.68  84587.4391                None            [grey]   \n\n        attributes.position  \nid                           \n269791                   []  \n1161234             [front]  "
         },
         "metadata": {},
         "output_type": "display_data"
        }
       ]
      }
     },
     "968a9655aad44b93a738414f651ccdee": {
      "model_module": "@jupyter-widgets/controls",
      "model_module_version": "2.0.0",
      "model_name": "StackModel",
      "state": {
       "children": [
        "IPY_MODEL_6d0700b2814c45f4a87998bc267a297f",
        "IPY_MODEL_25213655415b4639b0a3fcb687150a52"
       ],
       "layout": "IPY_MODEL_2a4c1095d7d9419b86481842718b8b21",
       "selected_index": 1,
       "titles": [
        "",
        ""
       ]
      }
     },
     "9884c587a1b8464982564ad6364f08ae": {
      "model_module": "@jupyter-widgets/controls",
      "model_module_version": "2.0.0",
      "model_name": "LabelStyleModel",
      "state": {
       "description_width": "",
       "font_family": null,
       "font_size": null,
       "font_style": null,
       "font_variant": null,
       "font_weight": null,
       "text_color": null,
       "text_decoration": null
      }
     },
     "98d5556410d14b02b515786144b4df35": {
      "model_module": "@jupyter-widgets/base",
      "model_module_version": "2.0.0",
      "model_name": "LayoutModel",
      "state": {}
     },
     "995c86e9f4a04866baada76518c8aa57": {
      "model_module": "@jupyter-widgets/base",
      "model_module_version": "2.0.0",
      "model_name": "LayoutModel",
      "state": {}
     },
     "997c54e099794f74894a922f32a14f20": {
      "model_module": "@jupyter-widgets/base",
      "model_module_version": "2.0.0",
      "model_name": "LayoutModel",
      "state": {}
     },
     "99a46f1bcfc14a20a5ed3f96ac17e358": {
      "model_module": "@jupyter-widgets/base",
      "model_module_version": "2.0.0",
      "model_name": "LayoutModel",
      "state": {}
     },
     "99fc89b99c5a4cf5a89ba96cabb34ac4": {
      "model_module": "@jupyter-widgets/controls",
      "model_module_version": "2.0.0",
      "model_name": "VBoxModel",
      "state": {
       "children": [
        "IPY_MODEL_0e92ca4ee30f4fcd9710db58e97170ad",
        "IPY_MODEL_8504d8b16d744c24b4466e0f6865a5f7"
       ],
       "layout": "IPY_MODEL_763a8357aa054c3386f7718204835d9e"
      }
     },
     "9a1857f491014174a6fdfa06b9e359ff": {
      "model_module": "@jupyter-widgets/base",
      "model_module_version": "2.0.0",
      "model_name": "LayoutModel",
      "state": {}
     },
     "9a48495171e04a638fd3bc035aa5e398": {
      "model_module": "@jupyter-widgets/output",
      "model_module_version": "1.0.0",
      "model_name": "OutputModel",
      "state": {
       "layout": "IPY_MODEL_4ce7c5bb4eda41e98a1538fcbaeebcc6",
       "outputs": [
        {
         "data": {
          "text/html": "<div>\n<style scoped>\n    .dataframe tbody tr th:only-of-type {\n        vertical-align: middle;\n    }\n\n    .dataframe tbody tr th {\n        vertical-align: top;\n    }\n\n    .dataframe thead th {\n        text-align: right;\n    }\n</style>\n<table border=\"1\" class=\"dataframe\">\n  <thead>\n    <tr style=\"text-align: right;\">\n      <th></th>\n      <th>image_id</th>\n      <th>category_str</th>\n      <th>category_id</th>\n      <th>box_x_min</th>\n      <th>box_y_min</th>\n      <th>box_width</th>\n      <th>box_height</th>\n      <th>area</th>\n      <th>attributes.colors</th>\n      <th>attributes.occluded</th>\n      <th>attributes.position</th>\n    </tr>\n    <tr>\n      <th>id</th>\n      <th></th>\n      <th></th>\n      <th></th>\n      <th></th>\n      <th></th>\n      <th></th>\n      <th></th>\n      <th></th>\n      <th></th>\n      <th></th>\n      <th></th>\n    </tr>\n  </thead>\n  <tbody>\n    <tr>\n      <th>269791</th>\n      <td>6091</td>\n      <td>stop sign</td>\n      <td>13</td>\n      <td>100.22</td>\n      <td>117.54</td>\n      <td>253.43</td>\n      <td>274.90</td>\n      <td>46726.4303</td>\n      <td>[red, white]</td>\n      <td>True</td>\n      <td>None</td>\n    </tr>\n    <tr>\n      <th>1161234</th>\n      <td>10395</td>\n      <td>teddy bear</td>\n      <td>88</td>\n      <td>49.19</td>\n      <td>66.20</td>\n      <td>378.97</td>\n      <td>379.68</td>\n      <td>84587.4391</td>\n      <td>[grey]</td>\n      <td>None</td>\n      <td>[front]</td>\n    </tr>\n  </tbody>\n</table>\n</div>",
          "text/plain": "         image_id category_str  category_id  box_x_min  box_y_min  box_width  \\\nid                                                                             \n269791       6091    stop sign           13     100.22     117.54     253.43   \n1161234     10395   teddy bear           88      49.19      66.20     378.97   \n\n         box_height        area attributes.colors attributes.occluded  \\\nid                                                                      \n269791       274.90  46726.4303      [red, white]                True   \n1161234      379.68  84587.4391            [grey]                None   \n\n        attributes.position  \nid                           \n269791                 None  \n1161234             [front]  "
         },
         "metadata": {},
         "output_type": "display_data"
        }
       ]
      }
     },
     "9ab7fab4efca446f9a284c3f3c53d36c": {
      "model_module": "@jupyter-widgets/output",
      "model_module_version": "1.0.0",
      "model_name": "OutputModel",
      "state": {
       "layout": "IPY_MODEL_201a23b56cf64f47a347e9f08e9ce82c",
       "outputs": [
        {
         "data": {
          "text/html": "<div>\n<style scoped>\n    .dataframe tbody tr th:only-of-type {\n        vertical-align: middle;\n    }\n\n    .dataframe tbody tr th {\n        vertical-align: top;\n    }\n\n    .dataframe thead th {\n        text-align: right;\n    }\n</style>\n<table border=\"1\" class=\"dataframe\">\n  <thead>\n    <tr style=\"text-align: right;\">\n      <th></th>\n      <th>image_id</th>\n      <th>category_str</th>\n      <th>category_id</th>\n      <th>box_x_min</th>\n      <th>box_y_min</th>\n      <th>box_width</th>\n      <th>box_height</th>\n      <th>area</th>\n      <th>attributes.colors</th>\n      <th>attributes.occluded</th>\n      <th>attributes.position</th>\n    </tr>\n    <tr>\n      <th>id</th>\n      <th></th>\n      <th></th>\n      <th></th>\n      <th></th>\n      <th></th>\n      <th></th>\n      <th></th>\n      <th></th>\n      <th></th>\n      <th></th>\n      <th></th>\n    </tr>\n  </thead>\n  <tbody>\n    <tr>\n      <th>269791</th>\n      <td>6091</td>\n      <td>stop sign</td>\n      <td>13</td>\n      <td>100.22</td>\n      <td>117.54</td>\n      <td>253.43</td>\n      <td>274.90</td>\n      <td>46726.4303</td>\n      <td>[red, white]</td>\n      <td>True</td>\n      <td>None</td>\n    </tr>\n    <tr>\n      <th>1161234</th>\n      <td>10395</td>\n      <td>teddy bear</td>\n      <td>88</td>\n      <td>49.19</td>\n      <td>66.20</td>\n      <td>378.97</td>\n      <td>379.68</td>\n      <td>84587.4391</td>\n      <td>[grey]</td>\n      <td>None</td>\n      <td>[front]</td>\n    </tr>\n  </tbody>\n</table>\n</div>",
          "text/plain": "         image_id category_str  category_id  box_x_min  box_y_min  box_width  \\\nid                                                                             \n269791       6091    stop sign           13     100.22     117.54     253.43   \n1161234     10395   teddy bear           88      49.19      66.20     378.97   \n\n         box_height        area attributes.colors attributes.occluded  \\\nid                                                                      \n269791       274.90  46726.4303      [red, white]                True   \n1161234      379.68  84587.4391            [grey]                None   \n\n        attributes.position  \nid                           \n269791                 None  \n1161234             [front]  "
         },
         "metadata": {},
         "output_type": "display_data"
        }
       ]
      }
     },
     "9bcb3a40fd72428fbefb100173e1c85a": {
      "model_module": "@jupyter-widgets/output",
      "model_module_version": "1.0.0",
      "model_name": "OutputModel",
      "state": {
       "layout": "IPY_MODEL_1d7533c6d0c04d409d34e1c8da8db57b",
       "outputs": [
        {
         "data": {
          "text/html": "<div>\n<style scoped>\n    .dataframe tbody tr th:only-of-type {\n        vertical-align: middle;\n    }\n\n    .dataframe tbody tr th {\n        vertical-align: top;\n    }\n\n    .dataframe thead th {\n        text-align: right;\n    }\n</style>\n<table border=\"1\" class=\"dataframe\">\n  <thead>\n    <tr style=\"text-align: right;\">\n      <th></th>\n      <th>image_id</th>\n      <th>category_str</th>\n      <th>category_id</th>\n      <th>box_x_min</th>\n      <th>box_y_min</th>\n      <th>box_width</th>\n      <th>box_height</th>\n      <th>area</th>\n      <th>attributes.occluded</th>\n      <th>attributes.colors.beige</th>\n      <th>...</th>\n      <th>attributes.colors.pink</th>\n      <th>attributes.colors.purple</th>\n      <th>attributes.colors.red</th>\n      <th>attributes.colors.white</th>\n      <th>attributes.colors.yellow</th>\n      <th>attributes.position.back</th>\n      <th>attributes.position.front</th>\n      <th>attributes.position.side</th>\n      <th>attributes.position.top</th>\n      <th>attributes.position.unknown</th>\n    </tr>\n    <tr>\n      <th>id</th>\n      <th></th>\n      <th></th>\n      <th></th>\n      <th></th>\n      <th></th>\n      <th></th>\n      <th></th>\n      <th></th>\n      <th></th>\n      <th></th>\n      <th></th>\n      <th></th>\n      <th></th>\n      <th></th>\n      <th></th>\n      <th></th>\n      <th></th>\n      <th></th>\n      <th></th>\n      <th></th>\n      <th></th>\n    </tr>\n  </thead>\n  <tbody>\n    <tr>\n      <th>269791</th>\n      <td>6091</td>\n      <td>stop sign</td>\n      <td>13</td>\n      <td>100.22</td>\n      <td>117.54</td>\n      <td>253.43</td>\n      <td>274.90</td>\n      <td>46726.4303</td>\n      <td>True</td>\n      <td>False</td>\n      <td>...</td>\n      <td>False</td>\n      <td>False</td>\n      <td>True</td>\n      <td>True</td>\n      <td>False</td>\n      <td>False</td>\n      <td>False</td>\n      <td>False</td>\n      <td>False</td>\n      <td>False</td>\n    </tr>\n    <tr>\n      <th>1161234</th>\n      <td>10395</td>\n      <td>teddy bear</td>\n      <td>88</td>\n      <td>49.19</td>\n      <td>66.20</td>\n      <td>378.97</td>\n      <td>379.68</td>\n      <td>84587.4391</td>\n      <td>None</td>\n      <td>False</td>\n      <td>...</td>\n      <td>False</td>\n      <td>False</td>\n      <td>False</td>\n      <td>False</td>\n      <td>False</td>\n      <td>False</td>\n      <td>True</td>\n      <td>False</td>\n      <td>False</td>\n      <td>False</td>\n    </tr>\n  </tbody>\n</table>\n<p>2 rows × 27 columns</p>\n</div>",
          "text/plain": "         image_id category_str  category_id  box_x_min  box_y_min  box_width  \\\nid                                                                             \n269791       6091    stop sign           13     100.22     117.54     253.43   \n1161234     10395   teddy bear           88      49.19      66.20     378.97   \n\n         box_height        area attributes.occluded  attributes.colors.beige  \\\nid                                                                             \n269791       274.90  46726.4303                True                    False   \n1161234      379.68  84587.4391                None                    False   \n\n         ...  attributes.colors.pink  attributes.colors.purple  \\\nid       ...                                                     \n269791   ...                   False                     False   \n1161234  ...                   False                     False   \n\n         attributes.colors.red  attributes.colors.white  \\\nid                                                        \n269791                    True                     True   \n1161234                  False                    False   \n\n         attributes.colors.yellow  attributes.position.back  \\\nid                                                            \n269791                      False                     False   \n1161234                     False                     False   \n\n         attributes.position.front  attributes.position.side  \\\nid                                                             \n269791                       False                     False   \n1161234                       True                     False   \n\n         attributes.position.top  attributes.position.unknown  \nid                                                             \n269791                     False                        False  \n1161234                    False                        False  \n\n[2 rows x 27 columns]"
         },
         "metadata": {},
         "output_type": "display_data"
        }
       ]
      }
     },
     "9c1f2df97e1149ff917c2e81bbcf58e4": {
      "model_module": "@jupyter-widgets/controls",
      "model_module_version": "2.0.0",
      "model_name": "VBoxModel",
      "state": {
       "children": [
        "IPY_MODEL_0ac01f3061214b6ab3aad2e6b94fedc8",
        "IPY_MODEL_cdeb3d59836e478b8a559f9128b1445b"
       ],
       "layout": "IPY_MODEL_f2c9ff87d18345f6abbae73066dfb1f8"
      }
     },
     "9c3dc34f7c7e4997b3671b79e393ba63": {
      "model_module": "@jupyter-widgets/controls",
      "model_module_version": "2.0.0",
      "model_name": "HBoxModel",
      "state": {
       "children": [
        "IPY_MODEL_de758b1cc4cc4018a3701dccf34e85bc",
        "IPY_MODEL_1a059635e4b54c60ac43f816b0234a47",
        "IPY_MODEL_b044c48745eb465fb589aac455d462ff"
       ],
       "layout": "IPY_MODEL_a442756840be4cef8d9fa0754021c17c"
      }
     },
     "9c7b90886ee948a294154a5d3ea39e92": {
      "model_module": "@jupyter-widgets/output",
      "model_module_version": "1.0.0",
      "model_name": "OutputModel",
      "state": {
       "layout": "IPY_MODEL_f01491943e2c4cb2a9f6f957a64d2190",
       "outputs": [
        {
         "data": {
          "text/html": "<div>\n<style scoped>\n    .dataframe tbody tr th:only-of-type {\n        vertical-align: middle;\n    }\n\n    .dataframe tbody tr th {\n        vertical-align: top;\n    }\n\n    .dataframe thead th {\n        text-align: right;\n    }\n</style>\n<table border=\"1\" class=\"dataframe\">\n  <thead>\n    <tr style=\"text-align: right;\">\n      <th></th>\n      <th>image_id</th>\n      <th>category_str</th>\n      <th>category_id</th>\n      <th>box_x_min</th>\n      <th>box_y_min</th>\n      <th>box_width</th>\n      <th>box_height</th>\n      <th>area</th>\n      <th>attributes.occluded</th>\n      <th>attributes.position</th>\n      <th>attributes.colors.grey</th>\n      <th>attributes.colors.red</th>\n      <th>attributes.colors.white</th>\n    </tr>\n    <tr>\n      <th>id</th>\n      <th></th>\n      <th></th>\n      <th></th>\n      <th></th>\n      <th></th>\n      <th></th>\n      <th></th>\n      <th></th>\n      <th></th>\n      <th></th>\n      <th></th>\n      <th></th>\n      <th></th>\n    </tr>\n  </thead>\n  <tbody>\n    <tr>\n      <th>269791</th>\n      <td>6091</td>\n      <td>stop sign</td>\n      <td>13</td>\n      <td>100.22</td>\n      <td>117.54</td>\n      <td>253.43</td>\n      <td>274.90</td>\n      <td>46726.4303</td>\n      <td>True</td>\n      <td>None</td>\n      <td>False</td>\n      <td>True</td>\n      <td>True</td>\n    </tr>\n    <tr>\n      <th>1161234</th>\n      <td>10395</td>\n      <td>teddy bear</td>\n      <td>88</td>\n      <td>49.19</td>\n      <td>66.20</td>\n      <td>378.97</td>\n      <td>379.68</td>\n      <td>84587.4391</td>\n      <td>None</td>\n      <td>[front]</td>\n      <td>True</td>\n      <td>False</td>\n      <td>False</td>\n    </tr>\n  </tbody>\n</table>\n</div>",
          "text/plain": "         image_id category_str  category_id  box_x_min  box_y_min  box_width  \\\nid                                                                             \n269791       6091    stop sign           13     100.22     117.54     253.43   \n1161234     10395   teddy bear           88      49.19      66.20     378.97   \n\n         box_height        area attributes.occluded attributes.position  \\\nid                                                                        \n269791       274.90  46726.4303                True                None   \n1161234      379.68  84587.4391                None             [front]   \n\n         attributes.colors.grey  attributes.colors.red  \\\nid                                                       \n269791                    False                   True   \n1161234                    True                  False   \n\n         attributes.colors.white  \nid                                \n269791                      True  \n1161234                    False  "
         },
         "metadata": {},
         "output_type": "display_data"
        }
       ]
      }
     },
     "9cd9e70c862645c79cf30f05c2fb99b4": {
      "model_module": "@jupyter-widgets/controls",
      "model_module_version": "2.0.0",
      "model_name": "StackModel",
      "state": {
       "children": [
        "IPY_MODEL_56067d92495a46f9a35344237244ee32",
        "IPY_MODEL_8af249d95e6b4c8bab28e9d89670a9cf"
       ],
       "layout": "IPY_MODEL_9a1857f491014174a6fdfa06b9e359ff",
       "selected_index": 1,
       "titles": [
        "",
        ""
       ]
      }
     },
     "9d57f5b5d92e4e1786b4356af50b6cad": {
      "model_module": "@jupyter-widgets/base",
      "model_module_version": "2.0.0",
      "model_name": "LayoutModel",
      "state": {}
     },
     "9d90ca1893c14a7e98e29bc67d9c893b": {
      "model_module": "@jupyter-widgets/controls",
      "model_module_version": "2.0.0",
      "model_name": "ToggleButtonsModel",
      "state": {
       "_options_labels": [
        "yes ",
        "no "
       ],
       "button_style": "",
       "icons": [
        "check",
        "times"
       ],
       "index": 0,
       "layout": "IPY_MODEL_674d852cc82d4c5ca8a02da41332c174",
       "style": "IPY_MODEL_8d6636f0ba274e6783146804ba67f43d",
       "tooltips": []
      }
     },
     "9dd3429f559347fca8b29aec8efce173": {
      "model_module": "@jupyter-widgets/output",
      "model_module_version": "1.0.0",
      "model_name": "OutputModel",
      "state": {
       "layout": "IPY_MODEL_c0490369e97447d49d033703d8bb0256",
       "outputs": [
        {
         "data": {
          "text/html": "<div>\n<style scoped>\n    .dataframe tbody tr th:only-of-type {\n        vertical-align: middle;\n    }\n\n    .dataframe tbody tr th {\n        vertical-align: top;\n    }\n\n    .dataframe thead th {\n        text-align: right;\n    }\n</style>\n<table border=\"1\" class=\"dataframe\">\n  <thead>\n    <tr style=\"text-align: right;\">\n      <th></th>\n      <th>width</th>\n      <th>height</th>\n      <th>relative_path</th>\n      <th>type</th>\n      <th>tags.time</th>\n      <th>tags.weather</th>\n    </tr>\n    <tr>\n      <th>id</th>\n      <th></th>\n      <th></th>\n      <th></th>\n      <th></th>\n      <th></th>\n      <th></th>\n    </tr>\n  </thead>\n  <tbody>\n    <tr>\n      <th>6091</th>\n      <td>480</td>\n      <td>640</td>\n      <td>image1.jpg</td>\n      <td>.jpg</td>\n      <td>night</td>\n      <td>rainy</td>\n    </tr>\n    <tr>\n      <th>10395</th>\n      <td>500</td>\n      <td>476</td>\n      <td>image2.jpg</td>\n      <td>.jpg</td>\n      <td>night</td>\n      <td>None</td>\n    </tr>\n  </tbody>\n</table>\n</div>",
          "text/plain": "       width  height relative_path  type tags.time tags.weather\nid                                                             \n6091     480     640    image1.jpg  .jpg     night        rainy\n10395    500     476    image2.jpg  .jpg     night         None"
         },
         "metadata": {},
         "output_type": "display_data"
        }
       ]
      }
     },
     "9e018458d9ea417eb5b9d72812fe7772": {
      "model_module": "@jupyter-widgets/output",
      "model_module_version": "1.0.0",
      "model_name": "OutputModel",
      "state": {
       "layout": "IPY_MODEL_ca7f240e14ff4e5cba1525e63ba58f98",
       "outputs": [
        {
         "data": {
          "application/vnd.jupyter.widget-view+json": {
           "model_id": "66aac255cb3541c69325762b998ddc61",
           "version_major": 2,
           "version_minor": 0
          },
          "text/plain": "VBox(children=(HBox(children=(Label(value='Column format'), Dropdown(index=1, options=('raw', 'nested'), value…"
         },
         "metadata": {},
         "output_type": "display_data"
        }
       ]
      }
     },
     "9fbafa2cf430439a82a1fe9f9ba06238": {
      "model_module": "@jupyter-widgets/controls",
      "model_module_version": "2.0.0",
      "model_name": "HTMLStyleModel",
      "state": {
       "description_width": "",
       "font_size": null,
       "text_color": null
      }
     },
     "9fd30f7d6b2e40198dbbe1a848c947d2": {
      "model_module": "@jupyter-widgets/controls",
      "model_module_version": "2.0.0",
      "model_name": "HTMLStyleModel",
      "state": {
       "description_width": "",
       "font_size": null,
       "text_color": null
      }
     },
     "9ff26407b6d4450f8f601ed287e6e4bc": {
      "model_module": "@jupyter-widgets/base",
      "model_module_version": "2.0.0",
      "model_name": "LayoutModel",
      "state": {}
     },
     "a023b0adc5a843318a6d6ca709cec636": {
      "model_module": "@jupyter-widgets/base",
      "model_module_version": "2.0.0",
      "model_name": "LayoutModel",
      "state": {}
     },
     "a08235c9fa7e456f9072fe755b163da2": {
      "model_module": "@jupyter-widgets/controls",
      "model_module_version": "2.0.0",
      "model_name": "LabelModel",
      "state": {
       "layout": "IPY_MODEL_e4a6fe4d8ea846e2b8637c28ae106b46",
       "style": "IPY_MODEL_4eca588b26b34484a755770e8e4f4b3f",
       "value": "Booleanize"
      }
     },
     "a1403f405903444da9dfe1225eeec61f": {
      "model_module": "@jupyter-widgets/base",
      "model_module_version": "2.0.0",
      "model_name": "LayoutModel",
      "state": {}
     },
     "a2296a4a425e47a697b596af912df209": {
      "model_module": "@jupyter-widgets/base",
      "model_module_version": "2.0.0",
      "model_name": "LayoutModel",
      "state": {}
     },
     "a41157b4e60b4dfb8b8dfac4eea12277": {
      "model_module": "@jupyter-widgets/base",
      "model_module_version": "2.0.0",
      "model_name": "LayoutModel",
      "state": {}
     },
     "a41b0849c5f741a89189c7c2858139d4": {
      "model_module": "@jupyter-widgets/base",
      "model_module_version": "2.0.0",
      "model_name": "LayoutModel",
      "state": {}
     },
     "a41cac33c01b4eedb4cea32b4d4c110c": {
      "model_module": "@jupyter-widgets/output",
      "model_module_version": "1.0.0",
      "model_name": "OutputModel",
      "state": {
       "layout": "IPY_MODEL_27399ebe56be4aa5b4af3cdf44a6c693",
       "outputs": [
        {
         "data": {
          "text/html": "<div>\n<style scoped>\n    .dataframe tbody tr th:only-of-type {\n        vertical-align: middle;\n    }\n\n    .dataframe tbody tr th {\n        vertical-align: top;\n    }\n\n    .dataframe thead th {\n        text-align: right;\n    }\n</style>\n<table border=\"1\" class=\"dataframe\">\n  <thead>\n    <tr style=\"text-align: right;\">\n      <th></th>\n      <th>width</th>\n      <th>height</th>\n      <th>relative_path</th>\n      <th>type</th>\n      <th>tags.time</th>\n      <th>tags.weather</th>\n    </tr>\n    <tr>\n      <th>id</th>\n      <th></th>\n      <th></th>\n      <th></th>\n      <th></th>\n      <th></th>\n      <th></th>\n    </tr>\n  </thead>\n  <tbody>\n    <tr>\n      <th>6091</th>\n      <td>480</td>\n      <td>640</td>\n      <td>image1.jpg</td>\n      <td>.jpg</td>\n      <td>night</td>\n      <td>rainy</td>\n    </tr>\n    <tr>\n      <th>10395</th>\n      <td>500</td>\n      <td>476</td>\n      <td>image2.jpg</td>\n      <td>.jpg</td>\n      <td>night</td>\n      <td>None</td>\n    </tr>\n  </tbody>\n</table>\n</div>",
          "text/plain": "       width  height relative_path  type tags.time tags.weather\nid                                                             \n6091     480     640    image1.jpg  .jpg     night        rainy\n10395    500     476    image2.jpg  .jpg     night         None"
         },
         "metadata": {},
         "output_type": "display_data"
        }
       ]
      }
     },
     "a442756840be4cef8d9fa0754021c17c": {
      "model_module": "@jupyter-widgets/base",
      "model_module_version": "2.0.0",
      "model_name": "LayoutModel",
      "state": {}
     },
     "a571ca325c534c68851fcb9fdfe808da": {
      "model_module": "@jupyter-widgets/controls",
      "model_module_version": "2.0.0",
      "model_name": "HBoxModel",
      "state": {
       "children": [
        "IPY_MODEL_06f1022b8af540b7961d20e87034f6d5",
        "IPY_MODEL_a5d70caa283f45748c08722784ef486f"
       ],
       "layout": "IPY_MODEL_b1823ccab5004282b8958926d67d3c49"
      }
     },
     "a5d70caa283f45748c08722784ef486f": {
      "model_module": "@jupyter-widgets/controls",
      "model_module_version": "2.0.0",
      "model_name": "DropdownModel",
      "state": {
       "_options_labels": [
        "raw",
        "nested"
       ],
       "index": 1,
       "layout": "IPY_MODEL_2dbb7b08de92406fa0661689c0f7167e",
       "style": "IPY_MODEL_673b8366c7e3460ea1b672d1039114d0"
      }
     },
     "a629243dd05841558a9e736f92ff0455": {
      "model_module": "@jupyter-widgets/base",
      "model_module_version": "2.0.0",
      "model_name": "LayoutModel",
      "state": {}
     },
     "a6dce1904a264b9e8d28d36265089c1b": {
      "model_module": "@jupyter-widgets/controls",
      "model_module_version": "2.0.0",
      "model_name": "HTMLModel",
      "state": {
       "layout": "IPY_MODEL_4a537b146130437b9e950e13376a588b",
       "style": "IPY_MODEL_b8784f8957294cb1975bd444d0ffaa9f",
       "value": "100%"
      }
     },
     "a6f019cda169466085b2fd3f6b887dff": {
      "model_module": "@jupyter-widgets/base",
      "model_module_version": "2.0.0",
      "model_name": "LayoutModel",
      "state": {}
     },
     "a7395fb1f98d4cb6b4630d6a42bd5226": {
      "model_module": "@jupyter-widgets/controls",
      "model_module_version": "2.0.0",
      "model_name": "DropdownModel",
      "state": {
       "_options_labels": [
        "raw",
        "nested"
       ],
       "index": 1,
       "layout": "IPY_MODEL_997c54e099794f74894a922f32a14f20",
       "style": "IPY_MODEL_7065c84494d34862879528d6b7e07b55"
      }
     },
     "a7f0ab80f1aa48cd85ea69261be4615e": {
      "model_module": "@jupyter-widgets/controls",
      "model_module_version": "2.0.0",
      "model_name": "HTMLStyleModel",
      "state": {
       "description_width": "",
       "font_size": null,
       "text_color": null
      }
     },
     "a82bb9407c1d44b3be7f7c4085d1aaa0": {
      "model_module": "@jupyter-widgets/controls",
      "model_module_version": "2.0.0",
      "model_name": "ToggleButtonsModel",
      "state": {
       "_options_labels": [
        "yes ",
        "no "
       ],
       "button_style": "",
       "icons": [
        "check",
        "times"
       ],
       "index": 1,
       "layout": "IPY_MODEL_c5c38cc4165b483ca126ea70c88d775b",
       "style": "IPY_MODEL_c10505389d17487bbdfd6c124c7a4a47",
       "tooltips": []
      }
     },
     "a976ba082bf6438b9f728efd77d864d1": {
      "model_module": "@jupyter-widgets/base",
      "model_module_version": "2.0.0",
      "model_name": "LayoutModel",
      "state": {}
     },
     "a9b392bda980411d87db41d6d9bd94fe": {
      "model_module": "@jupyter-widgets/base",
      "model_module_version": "2.0.0",
      "model_name": "LayoutModel",
      "state": {
       "width": "auto"
      }
     },
     "aa2f0bbf345b4392b5af043e9ac31dfd": {
      "model_module": "@jupyter-widgets/output",
      "model_module_version": "1.0.0",
      "model_name": "OutputModel",
      "state": {
       "layout": "IPY_MODEL_e673e4911c8849069b120b9ae465f075",
       "outputs": [
        {
         "data": {
          "text/html": "<style type=\"text/css\">\n#T_7e3e6 th {\n  border-right: 1px solid #F0F0F0;\n}\n</style>\n<table id=\"T_7e3e6\">\n  <thead>\n    <tr>\n      <th class=\"blank level0\" >&nbsp;</th>\n      <th id=\"T_7e3e6_level0_col0\" class=\"col_heading level0 col0\" >width</th>\n      <th id=\"T_7e3e6_level0_col1\" class=\"col_heading level0 col1\" >height</th>\n      <th id=\"T_7e3e6_level0_col2\" class=\"col_heading level0 col2\" >relative_path</th>\n      <th id=\"T_7e3e6_level0_col3\" class=\"col_heading level0 col3\" >type</th>\n      <th id=\"T_7e3e6_level0_col4\" class=\"col_heading level0 col4\" colspan=\"2\">tags</th>\n    </tr>\n    <tr>\n      <th class=\"blank level1\" >&nbsp;</th>\n      <th id=\"T_7e3e6_level1_col0\" class=\"col_heading level1 col0\" ></th>\n      <th id=\"T_7e3e6_level1_col1\" class=\"col_heading level1 col1\" ></th>\n      <th id=\"T_7e3e6_level1_col2\" class=\"col_heading level1 col2\" ></th>\n      <th id=\"T_7e3e6_level1_col3\" class=\"col_heading level1 col3\" ></th>\n      <th id=\"T_7e3e6_level1_col4\" class=\"col_heading level1 col4\" >time</th>\n      <th id=\"T_7e3e6_level1_col5\" class=\"col_heading level1 col5\" >weather</th>\n    </tr>\n    <tr>\n      <th class=\"index_name level0\" >id</th>\n      <th class=\"blank col0\" >&nbsp;</th>\n      <th class=\"blank col1\" >&nbsp;</th>\n      <th class=\"blank col2\" >&nbsp;</th>\n      <th class=\"blank col3\" >&nbsp;</th>\n      <th class=\"blank col4\" >&nbsp;</th>\n      <th class=\"blank col5\" >&nbsp;</th>\n    </tr>\n  </thead>\n  <tbody>\n    <tr>\n      <th id=\"T_7e3e6_level0_row0\" class=\"row_heading level0 row0\" >6091</th>\n      <td id=\"T_7e3e6_row0_col0\" class=\"data row0 col0\" >480</td>\n      <td id=\"T_7e3e6_row0_col1\" class=\"data row0 col1\" >640</td>\n      <td id=\"T_7e3e6_row0_col2\" class=\"data row0 col2\" >image1.jpg</td>\n      <td id=\"T_7e3e6_row0_col3\" class=\"data row0 col3\" >.jpg</td>\n      <td id=\"T_7e3e6_row0_col4\" class=\"data row0 col4\" >night</td>\n      <td id=\"T_7e3e6_row0_col5\" class=\"data row0 col5\" >rainy</td>\n    </tr>\n    <tr>\n      <th id=\"T_7e3e6_level0_row1\" class=\"row_heading level0 row1\" >10395</th>\n      <td id=\"T_7e3e6_row1_col0\" class=\"data row1 col0\" >500</td>\n      <td id=\"T_7e3e6_row1_col1\" class=\"data row1 col1\" >476</td>\n      <td id=\"T_7e3e6_row1_col2\" class=\"data row1 col2\" >image2.jpg</td>\n      <td id=\"T_7e3e6_row1_col3\" class=\"data row1 col3\" >.jpg</td>\n      <td id=\"T_7e3e6_row1_col4\" class=\"data row1 col4\" >night</td>\n      <td id=\"T_7e3e6_row1_col5\" class=\"data row1 col5\" >None</td>\n    </tr>\n  </tbody>\n</table>\n",
          "text/plain": "<pandas.io.formats.style.Styler at 0x302126390>"
         },
         "metadata": {},
         "output_type": "display_data"
        }
       ]
      }
     },
     "aaa0b5df76384dd9a20228cfe89ba778": {
      "model_module": "@jupyter-widgets/base",
      "model_module_version": "2.0.0",
      "model_name": "LayoutModel",
      "state": {}
     },
     "ab66202be821422d89830131dbf2b313": {
      "model_module": "@jupyter-widgets/base",
      "model_module_version": "2.0.0",
      "model_name": "LayoutModel",
      "state": {}
     },
     "ab6868dc56024e76a4c715b35394d200": {
      "model_module": "@jupyter-widgets/base",
      "model_module_version": "2.0.0",
      "model_name": "LayoutModel",
      "state": {}
     },
     "ab87dc80cdf74ddca7c3445cd3eddcdb": {
      "model_module": "@jupyter-widgets/base",
      "model_module_version": "2.0.0",
      "model_name": "LayoutModel",
      "state": {}
     },
     "ab88f8c05af946ad8552e471fed93831": {
      "model_module": "@jupyter-widgets/controls",
      "model_module_version": "2.0.0",
      "model_name": "LinkModel",
      "state": {
       "source": [
        "IPY_MODEL_9d90ca1893c14a7e98e29bc67d9c893b",
        "index"
       ],
       "target": [
        "IPY_MODEL_fd9426f4ee7a422fb3b1832e4d6e622c",
        "selected_index"
       ]
      }
     },
     "ac4edb47bbdc4eeeb21b102495910297": {
      "model_module": "@jupyter-widgets/controls",
      "model_module_version": "2.0.0",
      "model_name": "FloatProgressModel",
      "state": {
       "bar_style": "success",
       "layout": "IPY_MODEL_bacc3776885447d2bedd03c756f61f57",
       "max": 2,
       "style": "IPY_MODEL_dd94a8781a82404191be45d553756029",
       "value": 2
      }
     },
     "ad5fb8dde59e41c7b71340811c06d7a3": {
      "model_module": "@jupyter-widgets/base",
      "model_module_version": "2.0.0",
      "model_name": "LayoutModel",
      "state": {}
     },
     "ae4a82541da04e04912a1e6773f74303": {
      "model_module": "@jupyter-widgets/output",
      "model_module_version": "1.0.0",
      "model_name": "OutputModel",
      "state": {
       "layout": "IPY_MODEL_949607ac39214db79b4b1577298d80d6",
       "outputs": [
        {
         "data": {
          "text/html": "<style type=\"text/css\">\n#T_47133 th {\n  border-right: 1px solid #F0F0F0;\n}\n</style>\n<table id=\"T_47133\">\n  <thead>\n    <tr>\n      <th class=\"blank level0\" >&nbsp;</th>\n      <th id=\"T_47133_level0_col0\" class=\"col_heading level0 col0\" >image_id</th>\n      <th id=\"T_47133_level0_col1\" class=\"col_heading level0 col1\" >category_str</th>\n      <th id=\"T_47133_level0_col2\" class=\"col_heading level0 col2\" >category_id</th>\n      <th id=\"T_47133_level0_col3\" class=\"col_heading level0 col3\" >box_x_min</th>\n      <th id=\"T_47133_level0_col4\" class=\"col_heading level0 col4\" >box_y_min</th>\n      <th id=\"T_47133_level0_col5\" class=\"col_heading level0 col5\" >box_width</th>\n      <th id=\"T_47133_level0_col6\" class=\"col_heading level0 col6\" >box_height</th>\n      <th id=\"T_47133_level0_col7\" class=\"col_heading level0 col7\" >area</th>\n      <th id=\"T_47133_level0_col8\" class=\"col_heading level0 col8\" colspan=\"3\">attributes</th>\n    </tr>\n    <tr>\n      <th class=\"blank level1\" >&nbsp;</th>\n      <th id=\"T_47133_level1_col0\" class=\"col_heading level1 col0\" ></th>\n      <th id=\"T_47133_level1_col1\" class=\"col_heading level1 col1\" ></th>\n      <th id=\"T_47133_level1_col2\" class=\"col_heading level1 col2\" ></th>\n      <th id=\"T_47133_level1_col3\" class=\"col_heading level1 col3\" ></th>\n      <th id=\"T_47133_level1_col4\" class=\"col_heading level1 col4\" ></th>\n      <th id=\"T_47133_level1_col5\" class=\"col_heading level1 col5\" ></th>\n      <th id=\"T_47133_level1_col6\" class=\"col_heading level1 col6\" ></th>\n      <th id=\"T_47133_level1_col7\" class=\"col_heading level1 col7\" ></th>\n      <th id=\"T_47133_level1_col8\" class=\"col_heading level1 col8\" >colors</th>\n      <th id=\"T_47133_level1_col9\" class=\"col_heading level1 col9\" >occluded</th>\n      <th id=\"T_47133_level1_col10\" class=\"col_heading level1 col10\" >position</th>\n    </tr>\n    <tr>\n      <th class=\"index_name level0\" >id</th>\n      <th class=\"blank col0\" >&nbsp;</th>\n      <th class=\"blank col1\" >&nbsp;</th>\n      <th class=\"blank col2\" >&nbsp;</th>\n      <th class=\"blank col3\" >&nbsp;</th>\n      <th class=\"blank col4\" >&nbsp;</th>\n      <th class=\"blank col5\" >&nbsp;</th>\n      <th class=\"blank col6\" >&nbsp;</th>\n      <th class=\"blank col7\" >&nbsp;</th>\n      <th class=\"blank col8\" >&nbsp;</th>\n      <th class=\"blank col9\" >&nbsp;</th>\n      <th class=\"blank col10\" >&nbsp;</th>\n    </tr>\n  </thead>\n  <tbody>\n    <tr>\n      <th id=\"T_47133_level0_row0\" class=\"row_heading level0 row0\" >269791</th>\n      <td id=\"T_47133_row0_col0\" class=\"data row0 col0\" >6091</td>\n      <td id=\"T_47133_row0_col1\" class=\"data row0 col1\" >stop sign</td>\n      <td id=\"T_47133_row0_col2\" class=\"data row0 col2\" >13</td>\n      <td id=\"T_47133_row0_col3\" class=\"data row0 col3\" >100.220000</td>\n      <td id=\"T_47133_row0_col4\" class=\"data row0 col4\" >117.540000</td>\n      <td id=\"T_47133_row0_col5\" class=\"data row0 col5\" >253.430000</td>\n      <td id=\"T_47133_row0_col6\" class=\"data row0 col6\" >274.900000</td>\n      <td id=\"T_47133_row0_col7\" class=\"data row0 col7\" >46726.430300</td>\n      <td id=\"T_47133_row0_col8\" class=\"data row0 col8\" >['red', 'white']</td>\n      <td id=\"T_47133_row0_col9\" class=\"data row0 col9\" >True</td>\n      <td id=\"T_47133_row0_col10\" class=\"data row0 col10\" >None</td>\n    </tr>\n    <tr>\n      <th id=\"T_47133_level0_row1\" class=\"row_heading level0 row1\" >1161234</th>\n      <td id=\"T_47133_row1_col0\" class=\"data row1 col0\" >10395</td>\n      <td id=\"T_47133_row1_col1\" class=\"data row1 col1\" >teddy bear</td>\n      <td id=\"T_47133_row1_col2\" class=\"data row1 col2\" >88</td>\n      <td id=\"T_47133_row1_col3\" class=\"data row1 col3\" >49.190000</td>\n      <td id=\"T_47133_row1_col4\" class=\"data row1 col4\" >66.200000</td>\n      <td id=\"T_47133_row1_col5\" class=\"data row1 col5\" >378.970000</td>\n      <td id=\"T_47133_row1_col6\" class=\"data row1 col6\" >379.680000</td>\n      <td id=\"T_47133_row1_col7\" class=\"data row1 col7\" >84587.439100</td>\n      <td id=\"T_47133_row1_col8\" class=\"data row1 col8\" >['grey']</td>\n      <td id=\"T_47133_row1_col9\" class=\"data row1 col9\" >None</td>\n      <td id=\"T_47133_row1_col10\" class=\"data row1 col10\" >['front']</td>\n    </tr>\n  </tbody>\n</table>\n",
          "text/plain": "<pandas.io.formats.style.Styler at 0x302327390>"
         },
         "metadata": {},
         "output_type": "display_data"
        }
       ]
      }
     },
     "af0286102c30462182a050b7a8c0bbbb": {
      "model_module": "@jupyter-widgets/controls",
      "model_module_version": "2.0.0",
      "model_name": "StackModel",
      "state": {
       "children": [
        "IPY_MODEL_9ab7fab4efca446f9a284c3f3c53d36c",
        "IPY_MODEL_ae4a82541da04e04912a1e6773f74303"
       ],
       "layout": "IPY_MODEL_02a7280b9b1943ac9ec8f3e491c02048",
       "selected_index": 1,
       "titles": [
        "",
        ""
       ]
      }
     },
     "b044c48745eb465fb589aac455d462ff": {
      "model_module": "@jupyter-widgets/controls",
      "model_module_version": "2.0.0",
      "model_name": "HTMLModel",
      "state": {
       "layout": "IPY_MODEL_1f81c136141340f3b9dabdd428e56b03",
       "style": "IPY_MODEL_e24d6e6435684922a62eb33e98777b77",
       "value": " 2/2 [00:00&lt;00:00, 431.51it/s]"
      }
     },
     "b0a49dbdf1e347438fa06fdfcf198f82": {
      "model_module": "@jupyter-widgets/output",
      "model_module_version": "1.0.0",
      "model_name": "OutputModel",
      "state": {
       "layout": "IPY_MODEL_0956bd685355401e9999b41503a8d80d",
       "outputs": [
        {
         "data": {
          "application/vnd.jupyter.widget-view+json": {
           "model_id": "3dfec66068294143a42c6e3cd6b72cdb",
           "version_major": 2,
           "version_minor": 0
          },
          "text/plain": "VBox(children=(HBox(children=(VBox(children=(Label(value='Booleanize'), Label(value='Column format'))), VBox(c…"
         },
         "metadata": {},
         "output_type": "display_data"
        }
       ]
      }
     },
     "b174c9d2d0a24775ac7d861f50a01985": {
      "model_module": "@jupyter-widgets/controls",
      "model_module_version": "2.0.0",
      "model_name": "HTMLModel",
      "state": {
       "layout": "IPY_MODEL_c1a0ed10dff040ce8c11aaeed6258587",
       "style": "IPY_MODEL_9fd30f7d6b2e40198dbbe1a848c947d2",
       "value": "<p><span style='white-space: pre-wrap; font-weight: bold'>Dataset object containing 2 images and 2 objects\nName :\n\tsmall_tagged_dataset\nImages root :\n\t../../test_lours/test_data/caipy_dataset/tags/small_tagged_dataset/Images</span></p>"
      }
     },
     "b1823ccab5004282b8958926d67d3c49": {
      "model_module": "@jupyter-widgets/base",
      "model_module_version": "2.0.0",
      "model_name": "LayoutModel",
      "state": {}
     },
     "b2d1a9afb0aa4f02be240e3a609370e9": {
      "model_module": "@jupyter-widgets/controls",
      "model_module_version": "2.0.0",
      "model_name": "DropdownModel",
      "state": {
       "_options_labels": [
        "raw",
        "nested"
       ],
       "index": 1,
       "layout": "IPY_MODEL_1981ea24319c4f44b37516c35d08697e",
       "style": "IPY_MODEL_bbaca8446e7749359f545e02ec6ee93c"
      }
     },
     "b32ff3c2925c434da42e07f7973f2050": {
      "model_module": "@jupyter-widgets/base",
      "model_module_version": "2.0.0",
      "model_name": "LayoutModel",
      "state": {}
     },
     "b3c04b1c3d1b425c8eb7ce4c2322c1e0": {
      "model_module": "@jupyter-widgets/base",
      "model_module_version": "2.0.0",
      "model_name": "LayoutModel",
      "state": {}
     },
     "b3c16db874e34514a856e38ff334848a": {
      "model_module": "@jupyter-widgets/base",
      "model_module_version": "2.0.0",
      "model_name": "LayoutModel",
      "state": {}
     },
     "b78fe149407541fa9bef3efc3ceeaefe": {
      "model_module": "@jupyter-widgets/controls",
      "model_module_version": "2.0.0",
      "model_name": "VBoxModel",
      "state": {
       "children": [
        "IPY_MODEL_900d616b60a14f4faafed905563bf6b2",
        "IPY_MODEL_e347e872a797477f98db0b528c9e9b10"
       ],
       "layout": "IPY_MODEL_522a37f3df3e45a1b26e6e4d73c51b69"
      }
     },
     "b7a67e0091634d37820e74f0e3e21a37": {
      "model_module": "@jupyter-widgets/base",
      "model_module_version": "2.0.0",
      "model_name": "LayoutModel",
      "state": {}
     },
     "b8784f8957294cb1975bd444d0ffaa9f": {
      "model_module": "@jupyter-widgets/controls",
      "model_module_version": "2.0.0",
      "model_name": "HTMLStyleModel",
      "state": {
       "description_width": "",
       "font_size": null,
       "text_color": null
      }
     },
     "b8ae15d9e90849c18706641f76a3051c": {
      "model_module": "@jupyter-widgets/controls",
      "model_module_version": "2.0.0",
      "model_name": "LinkModel",
      "state": {
       "source": [
        "IPY_MODEL_7f7be1bd470c4f12a72eb57d293f53c7",
        "index"
       ],
       "target": [
        "IPY_MODEL_c8c2e438e86f48078dcb5b4ce1ceb9d3",
        "selected_index"
       ]
      }
     },
     "bacc3776885447d2bedd03c756f61f57": {
      "model_module": "@jupyter-widgets/base",
      "model_module_version": "2.0.0",
      "model_name": "LayoutModel",
      "state": {}
     },
     "bb306cfad5c54d828244211efcb55b5f": {
      "model_module": "@jupyter-widgets/controls",
      "model_module_version": "2.0.0",
      "model_name": "LinkModel",
      "state": {
       "source": [
        "IPY_MODEL_e347e872a797477f98db0b528c9e9b10",
        "index"
       ],
       "target": [
        "IPY_MODEL_4d56a1f5de8141cebb5778cbfe5dbb56",
        "selected_index"
       ]
      }
     },
     "bbaca8446e7749359f545e02ec6ee93c": {
      "model_module": "@jupyter-widgets/controls",
      "model_module_version": "2.0.0",
      "model_name": "DescriptionStyleModel",
      "state": {
       "description_width": ""
      }
     },
     "bcc84033733946b5989cde1fda6debbb": {
      "model_module": "@jupyter-widgets/base",
      "model_module_version": "2.0.0",
      "model_name": "LayoutModel",
      "state": {}
     },
     "bce13bec8a6e4d55a52083092ef3121d": {
      "model_module": "@jupyter-widgets/output",
      "model_module_version": "1.0.0",
      "model_name": "OutputModel",
      "state": {
       "layout": "IPY_MODEL_c13a7396312149b98face3f41d947526",
       "outputs": [
        {
         "data": {
          "text/html": "<div>\n<style scoped>\n    .dataframe tbody tr th:only-of-type {\n        vertical-align: middle;\n    }\n\n    .dataframe tbody tr th {\n        vertical-align: top;\n    }\n\n    .dataframe thead th {\n        text-align: right;\n    }\n</style>\n<table border=\"1\" class=\"dataframe\">\n  <thead>\n    <tr style=\"text-align: right;\">\n      <th></th>\n      <th>width</th>\n      <th>height</th>\n      <th>relative_path</th>\n      <th>type</th>\n      <th>tags.time</th>\n      <th>tags.weather</th>\n    </tr>\n    <tr>\n      <th>id</th>\n      <th></th>\n      <th></th>\n      <th></th>\n      <th></th>\n      <th></th>\n      <th></th>\n    </tr>\n  </thead>\n  <tbody>\n    <tr>\n      <th>6091</th>\n      <td>480</td>\n      <td>640</td>\n      <td>image1.jpg</td>\n      <td>.jpg</td>\n      <td>night</td>\n      <td>rainy</td>\n    </tr>\n    <tr>\n      <th>10395</th>\n      <td>500</td>\n      <td>476</td>\n      <td>image2.jpg</td>\n      <td>.jpg</td>\n      <td>night</td>\n      <td>None</td>\n    </tr>\n  </tbody>\n</table>\n</div>",
          "text/plain": "       width  height relative_path  type tags.time tags.weather\nid                                                             \n6091     480     640    image1.jpg  .jpg     night        rainy\n10395    500     476    image2.jpg  .jpg     night         None"
         },
         "metadata": {},
         "output_type": "display_data"
        }
       ]
      }
     },
     "bd56e1484d9f4cacbf8ce2789195315c": {
      "model_module": "@jupyter-widgets/output",
      "model_module_version": "1.0.0",
      "model_name": "OutputModel",
      "state": {
       "layout": "IPY_MODEL_59ba8fbcde9440539a5e3411e18ae8eb",
       "outputs": [
        {
         "data": {
          "text/html": "<style type=\"text/css\">\n#T_12b22 th {\n  border-right: 1px solid #F0F0F0;\n}\n</style>\n<table id=\"T_12b22\">\n  <thead>\n    <tr>\n      <th class=\"blank level0\" >&nbsp;</th>\n      <th id=\"T_12b22_level0_col0\" class=\"col_heading level0 col0\" >width</th>\n      <th id=\"T_12b22_level0_col1\" class=\"col_heading level0 col1\" >height</th>\n      <th id=\"T_12b22_level0_col2\" class=\"col_heading level0 col2\" >relative_path</th>\n      <th id=\"T_12b22_level0_col3\" class=\"col_heading level0 col3\" >type</th>\n      <th id=\"T_12b22_level0_col4\" class=\"col_heading level0 col4\" colspan=\"2\">tags</th>\n    </tr>\n    <tr>\n      <th class=\"blank level1\" >&nbsp;</th>\n      <th id=\"T_12b22_level1_col0\" class=\"col_heading level1 col0\" ></th>\n      <th id=\"T_12b22_level1_col1\" class=\"col_heading level1 col1\" ></th>\n      <th id=\"T_12b22_level1_col2\" class=\"col_heading level1 col2\" ></th>\n      <th id=\"T_12b22_level1_col3\" class=\"col_heading level1 col3\" ></th>\n      <th id=\"T_12b22_level1_col4\" class=\"col_heading level1 col4\" >time</th>\n      <th id=\"T_12b22_level1_col5\" class=\"col_heading level1 col5\" >weather</th>\n    </tr>\n    <tr>\n      <th class=\"index_name level0\" >id</th>\n      <th class=\"blank col0\" >&nbsp;</th>\n      <th class=\"blank col1\" >&nbsp;</th>\n      <th class=\"blank col2\" >&nbsp;</th>\n      <th class=\"blank col3\" >&nbsp;</th>\n      <th class=\"blank col4\" >&nbsp;</th>\n      <th class=\"blank col5\" >&nbsp;</th>\n    </tr>\n  </thead>\n  <tbody>\n    <tr>\n      <th id=\"T_12b22_level0_row0\" class=\"row_heading level0 row0\" >6091</th>\n      <td id=\"T_12b22_row0_col0\" class=\"data row0 col0\" >480</td>\n      <td id=\"T_12b22_row0_col1\" class=\"data row0 col1\" >640</td>\n      <td id=\"T_12b22_row0_col2\" class=\"data row0 col2\" >image1.jpg</td>\n      <td id=\"T_12b22_row0_col3\" class=\"data row0 col3\" >.jpg</td>\n      <td id=\"T_12b22_row0_col4\" class=\"data row0 col4\" >night</td>\n      <td id=\"T_12b22_row0_col5\" class=\"data row0 col5\" >rainy</td>\n    </tr>\n    <tr>\n      <th id=\"T_12b22_level0_row1\" class=\"row_heading level0 row1\" >10395</th>\n      <td id=\"T_12b22_row1_col0\" class=\"data row1 col0\" >500</td>\n      <td id=\"T_12b22_row1_col1\" class=\"data row1 col1\" >476</td>\n      <td id=\"T_12b22_row1_col2\" class=\"data row1 col2\" >image2.jpg</td>\n      <td id=\"T_12b22_row1_col3\" class=\"data row1 col3\" >.jpg</td>\n      <td id=\"T_12b22_row1_col4\" class=\"data row1 col4\" >night</td>\n      <td id=\"T_12b22_row1_col5\" class=\"data row1 col5\" >None</td>\n    </tr>\n  </tbody>\n</table>\n",
          "text/plain": "<pandas.io.formats.style.Styler at 0x302347710>"
         },
         "metadata": {},
         "output_type": "display_data"
        }
       ]
      }
     },
     "c0490369e97447d49d033703d8bb0256": {
      "model_module": "@jupyter-widgets/base",
      "model_module_version": "2.0.0",
      "model_name": "LayoutModel",
      "state": {}
     },
     "c05f2a5cd5054153be4c8763f70dd2e5": {
      "model_module": "@jupyter-widgets/controls",
      "model_module_version": "2.0.0",
      "model_name": "HTMLModel",
      "state": {
       "layout": "IPY_MODEL_5cd6ae3de06c45fb81dd4900616a17a9",
       "style": "IPY_MODEL_ff51c7250dfd489bb4ff9d2b8f78017c",
       "value": "<p><span style='white-space: pre-wrap; font-weight: bold'>Dataset object containing 2 images and 2 objects\nName :\n\tsmall_tagged_dataset\nImages root :\n\t../../test_lours/test_data/caipy_dataset/tags/small_tagged_dataset/Images</span></p>"
      }
     },
     "c07965acc0b14832a6fa4e9bcc4e0deb": {
      "model_module": "@jupyter-widgets/controls",
      "model_module_version": "2.0.0",
      "model_name": "DescriptionStyleModel",
      "state": {
       "description_width": ""
      }
     },
     "c10505389d17487bbdfd6c124c7a4a47": {
      "model_module": "@jupyter-widgets/controls",
      "model_module_version": "2.0.0",
      "model_name": "ToggleButtonsStyleModel",
      "state": {
       "button_width": "auto",
       "description_width": ""
      }
     },
     "c13a7396312149b98face3f41d947526": {
      "model_module": "@jupyter-widgets/base",
      "model_module_version": "2.0.0",
      "model_name": "LayoutModel",
      "state": {}
     },
     "c18597934a0a477592c816ac8d5b4541": {
      "model_module": "@jupyter-widgets/controls",
      "model_module_version": "2.0.0",
      "model_name": "TabModel",
      "state": {
       "children": [
        "IPY_MODEL_23f228485664473d8df1dd44a984fa11",
        "IPY_MODEL_949f8f72d1264d27a4802c0b90a24c7e",
        "IPY_MODEL_65691a44438b4c39b6842afd8e53726d"
       ],
       "layout": "IPY_MODEL_9147d7d083b742c2854b1711064a3dfc",
       "selected_index": 0,
       "titles": [
        "Images",
        "Annotations",
        "Label Map"
       ]
      }
     },
     "c1a01f3f06c5430990a0a952b463cdbc": {
      "model_module": "@jupyter-widgets/controls",
      "model_module_version": "2.0.0",
      "model_name": "LabelModel",
      "state": {
       "layout": "IPY_MODEL_fc1bff0843fe4b0e9e4e8fe14e3bb84b",
       "style": "IPY_MODEL_10c0c7121b5b4c54831ebee82e121a24",
       "value": "Column format"
      }
     },
     "c1a0ed10dff040ce8c11aaeed6258587": {
      "model_module": "@jupyter-widgets/base",
      "model_module_version": "2.0.0",
      "model_name": "LayoutModel",
      "state": {}
     },
     "c25686aa27f74234a80f72e731c3389a": {
      "model_module": "@jupyter-widgets/output",
      "model_module_version": "1.0.0",
      "model_name": "OutputModel",
      "state": {
       "layout": "IPY_MODEL_6215f6c6670e436487ed7db7f64059aa",
       "outputs": [
        {
         "data": {
          "text/html": "<style type=\"text/css\">\n#T_be82d th {\n  border-right: 1px solid #F0F0F0;\n}\n</style>\n<table id=\"T_be82d\">\n  <thead>\n    <tr>\n      <th class=\"blank level0\" >&nbsp;</th>\n      <th id=\"T_be82d_level0_col0\" class=\"col_heading level0 col0\" >image_id</th>\n      <th id=\"T_be82d_level0_col1\" class=\"col_heading level0 col1\" >category_str</th>\n      <th id=\"T_be82d_level0_col2\" class=\"col_heading level0 col2\" >category_id</th>\n      <th id=\"T_be82d_level0_col3\" class=\"col_heading level0 col3\" >box_x_min</th>\n      <th id=\"T_be82d_level0_col4\" class=\"col_heading level0 col4\" >box_y_min</th>\n      <th id=\"T_be82d_level0_col5\" class=\"col_heading level0 col5\" >box_width</th>\n      <th id=\"T_be82d_level0_col6\" class=\"col_heading level0 col6\" >box_height</th>\n      <th id=\"T_be82d_level0_col7\" class=\"col_heading level0 col7\" >area</th>\n      <th id=\"T_be82d_level0_col8\" class=\"col_heading level0 col8\" colspan=\"5\">attributes</th>\n    </tr>\n    <tr>\n      <th class=\"blank level1\" >&nbsp;</th>\n      <th id=\"T_be82d_level1_col0\" class=\"col_heading level1 col0\" ></th>\n      <th id=\"T_be82d_level1_col1\" class=\"col_heading level1 col1\" ></th>\n      <th id=\"T_be82d_level1_col2\" class=\"col_heading level1 col2\" ></th>\n      <th id=\"T_be82d_level1_col3\" class=\"col_heading level1 col3\" ></th>\n      <th id=\"T_be82d_level1_col4\" class=\"col_heading level1 col4\" ></th>\n      <th id=\"T_be82d_level1_col5\" class=\"col_heading level1 col5\" ></th>\n      <th id=\"T_be82d_level1_col6\" class=\"col_heading level1 col6\" ></th>\n      <th id=\"T_be82d_level1_col7\" class=\"col_heading level1 col7\" ></th>\n      <th id=\"T_be82d_level1_col8\" class=\"col_heading level1 col8\" >occluded</th>\n      <th id=\"T_be82d_level1_col9\" class=\"col_heading level1 col9\" >position</th>\n      <th id=\"T_be82d_level1_col10\" class=\"col_heading level1 col10\" colspan=\"3\">colors</th>\n    </tr>\n    <tr>\n      <th class=\"blank level2\" >&nbsp;</th>\n      <th id=\"T_be82d_level2_col0\" class=\"col_heading level2 col0\" ></th>\n      <th id=\"T_be82d_level2_col1\" class=\"col_heading level2 col1\" ></th>\n      <th id=\"T_be82d_level2_col2\" class=\"col_heading level2 col2\" ></th>\n      <th id=\"T_be82d_level2_col3\" class=\"col_heading level2 col3\" ></th>\n      <th id=\"T_be82d_level2_col4\" class=\"col_heading level2 col4\" ></th>\n      <th id=\"T_be82d_level2_col5\" class=\"col_heading level2 col5\" ></th>\n      <th id=\"T_be82d_level2_col6\" class=\"col_heading level2 col6\" ></th>\n      <th id=\"T_be82d_level2_col7\" class=\"col_heading level2 col7\" ></th>\n      <th id=\"T_be82d_level2_col8\" class=\"col_heading level2 col8\" ></th>\n      <th id=\"T_be82d_level2_col9\" class=\"col_heading level2 col9\" ></th>\n      <th id=\"T_be82d_level2_col10\" class=\"col_heading level2 col10\" >grey</th>\n      <th id=\"T_be82d_level2_col11\" class=\"col_heading level2 col11\" >red</th>\n      <th id=\"T_be82d_level2_col12\" class=\"col_heading level2 col12\" >white</th>\n    </tr>\n    <tr>\n      <th class=\"index_name level0\" >id</th>\n      <th class=\"blank col0\" >&nbsp;</th>\n      <th class=\"blank col1\" >&nbsp;</th>\n      <th class=\"blank col2\" >&nbsp;</th>\n      <th class=\"blank col3\" >&nbsp;</th>\n      <th class=\"blank col4\" >&nbsp;</th>\n      <th class=\"blank col5\" >&nbsp;</th>\n      <th class=\"blank col6\" >&nbsp;</th>\n      <th class=\"blank col7\" >&nbsp;</th>\n      <th class=\"blank col8\" >&nbsp;</th>\n      <th class=\"blank col9\" >&nbsp;</th>\n      <th class=\"blank col10\" >&nbsp;</th>\n      <th class=\"blank col11\" >&nbsp;</th>\n      <th class=\"blank col12\" >&nbsp;</th>\n    </tr>\n  </thead>\n  <tbody>\n    <tr>\n      <th id=\"T_be82d_level0_row0\" class=\"row_heading level0 row0\" >269791</th>\n      <td id=\"T_be82d_row0_col0\" class=\"data row0 col0\" >6091</td>\n      <td id=\"T_be82d_row0_col1\" class=\"data row0 col1\" >stop sign</td>\n      <td id=\"T_be82d_row0_col2\" class=\"data row0 col2\" >13</td>\n      <td id=\"T_be82d_row0_col3\" class=\"data row0 col3\" >100.220000</td>\n      <td id=\"T_be82d_row0_col4\" class=\"data row0 col4\" >117.540000</td>\n      <td id=\"T_be82d_row0_col5\" class=\"data row0 col5\" >253.430000</td>\n      <td id=\"T_be82d_row0_col6\" class=\"data row0 col6\" >274.900000</td>\n      <td id=\"T_be82d_row0_col7\" class=\"data row0 col7\" >46726.430300</td>\n      <td id=\"T_be82d_row0_col8\" class=\"data row0 col8\" >True</td>\n      <td id=\"T_be82d_row0_col9\" class=\"data row0 col9\" >None</td>\n      <td id=\"T_be82d_row0_col10\" class=\"data row0 col10\" >False</td>\n      <td id=\"T_be82d_row0_col11\" class=\"data row0 col11\" >True</td>\n      <td id=\"T_be82d_row0_col12\" class=\"data row0 col12\" >True</td>\n    </tr>\n    <tr>\n      <th id=\"T_be82d_level0_row1\" class=\"row_heading level0 row1\" >1161234</th>\n      <td id=\"T_be82d_row1_col0\" class=\"data row1 col0\" >10395</td>\n      <td id=\"T_be82d_row1_col1\" class=\"data row1 col1\" >teddy bear</td>\n      <td id=\"T_be82d_row1_col2\" class=\"data row1 col2\" >88</td>\n      <td id=\"T_be82d_row1_col3\" class=\"data row1 col3\" >49.190000</td>\n      <td id=\"T_be82d_row1_col4\" class=\"data row1 col4\" >66.200000</td>\n      <td id=\"T_be82d_row1_col5\" class=\"data row1 col5\" >378.970000</td>\n      <td id=\"T_be82d_row1_col6\" class=\"data row1 col6\" >379.680000</td>\n      <td id=\"T_be82d_row1_col7\" class=\"data row1 col7\" >84587.439100</td>\n      <td id=\"T_be82d_row1_col8\" class=\"data row1 col8\" >None</td>\n      <td id=\"T_be82d_row1_col9\" class=\"data row1 col9\" >['front']</td>\n      <td id=\"T_be82d_row1_col10\" class=\"data row1 col10\" >True</td>\n      <td id=\"T_be82d_row1_col11\" class=\"data row1 col11\" >False</td>\n      <td id=\"T_be82d_row1_col12\" class=\"data row1 col12\" >False</td>\n    </tr>\n  </tbody>\n</table>\n",
          "text/plain": "<pandas.io.formats.style.Styler at 0x3021bba10>"
         },
         "metadata": {},
         "output_type": "display_data"
        }
       ]
      }
     },
     "c29a07c9b8b94890914bf8c08564f2b2": {
      "model_module": "@jupyter-widgets/output",
      "model_module_version": "1.0.0",
      "model_name": "OutputModel",
      "state": {
       "layout": "IPY_MODEL_7106502757ba49a7b15fc2215134d50d",
       "outputs": [
        {
         "data": {
          "text/html": "<div>\n<style scoped>\n    .dataframe tbody tr th:only-of-type {\n        vertical-align: middle;\n    }\n\n    .dataframe tbody tr th {\n        vertical-align: top;\n    }\n\n    .dataframe thead th {\n        text-align: right;\n    }\n</style>\n<table border=\"1\" class=\"dataframe\">\n  <thead>\n    <tr style=\"text-align: right;\">\n      <th></th>\n      <th>width</th>\n      <th>height</th>\n      <th>relative_path</th>\n      <th>type</th>\n      <th>tags.time</th>\n      <th>tags.weather</th>\n    </tr>\n    <tr>\n      <th>id</th>\n      <th></th>\n      <th></th>\n      <th></th>\n      <th></th>\n      <th></th>\n      <th></th>\n    </tr>\n  </thead>\n  <tbody>\n    <tr>\n      <th>6091</th>\n      <td>480</td>\n      <td>640</td>\n      <td>image1.jpg</td>\n      <td>.jpg</td>\n      <td>night</td>\n      <td>rainy</td>\n    </tr>\n    <tr>\n      <th>10395</th>\n      <td>500</td>\n      <td>476</td>\n      <td>image2.jpg</td>\n      <td>.jpg</td>\n      <td>night</td>\n      <td>None</td>\n    </tr>\n  </tbody>\n</table>\n</div>",
          "text/plain": "       width  height relative_path  type tags.time tags.weather\nid                                                             \n6091     480     640    image1.jpg  .jpg     night        rainy\n10395    500     476    image2.jpg  .jpg     night         None"
         },
         "metadata": {},
         "output_type": "display_data"
        }
       ]
      }
     },
     "c2c3cf802edd41a586577f22c2b92493": {
      "model_module": "@jupyter-widgets/controls",
      "model_module_version": "2.0.0",
      "model_name": "DropdownModel",
      "state": {
       "_options_labels": [
        "raw",
        "nested"
       ],
       "index": 1,
       "layout": "IPY_MODEL_0e50c330ab3540008935e217fa8c6d6a",
       "style": "IPY_MODEL_59ab8d81df9143d7b865c1be3d671969"
      }
     },
     "c3864103377843999a24250381fa600e": {
      "model_module": "@jupyter-widgets/base",
      "model_module_version": "2.0.0",
      "model_name": "LayoutModel",
      "state": {}
     },
     "c3da77f01f404b4baefb7ec9680bd8aa": {
      "model_module": "@jupyter-widgets/controls",
      "model_module_version": "2.0.0",
      "model_name": "DropdownModel",
      "state": {
       "_options_labels": [
        "raw",
        "nested"
       ],
       "index": 1,
       "layout": "IPY_MODEL_694b6c1a682f407ca429991612687a97",
       "style": "IPY_MODEL_61560e9c09294f52b449ef2dcdcbc297"
      }
     },
     "c3f53aa7a4c04264b3195c905aa97e6b": {
      "model_module": "@jupyter-widgets/output",
      "model_module_version": "1.0.0",
      "model_name": "OutputModel",
      "state": {
       "layout": "IPY_MODEL_3c731beabd89474dae9c9abae8993637",
       "outputs": [
        {
         "data": {
          "text/html": "<div>\n<style scoped>\n    .dataframe tbody tr th:only-of-type {\n        vertical-align: middle;\n    }\n\n    .dataframe tbody tr th {\n        vertical-align: top;\n    }\n\n    .dataframe thead th {\n        text-align: right;\n    }\n</style>\n<table border=\"1\" class=\"dataframe\">\n  <thead>\n    <tr style=\"text-align: right;\">\n      <th></th>\n      <th>category string</th>\n    </tr>\n    <tr>\n      <th>category_id</th>\n      <th></th>\n    </tr>\n  </thead>\n  <tbody>\n    <tr>\n      <th>13</th>\n      <td>stop sign</td>\n    </tr>\n    <tr>\n      <th>88</th>\n      <td>teddy bear</td>\n    </tr>\n  </tbody>\n</table>\n</div>",
          "text/plain": "            category string\ncategory_id                \n13                stop sign\n88               teddy bear"
         },
         "metadata": {},
         "output_type": "display_data"
        }
       ]
      }
     },
     "c507e3ec2ddf4fda8461c89342d50698": {
      "model_module": "@jupyter-widgets/base",
      "model_module_version": "2.0.0",
      "model_name": "LayoutModel",
      "state": {}
     },
     "c5b0561f741a4353b7fcd8ce340e6a2b": {
      "model_module": "@jupyter-widgets/base",
      "model_module_version": "2.0.0",
      "model_name": "LayoutModel",
      "state": {}
     },
     "c5c38cc4165b483ca126ea70c88d775b": {
      "model_module": "@jupyter-widgets/base",
      "model_module_version": "2.0.0",
      "model_name": "LayoutModel",
      "state": {
       "width": "auto"
      }
     },
     "c647ef0d15d94a39bb70c9b4260e59a7": {
      "model_module": "@jupyter-widgets/controls",
      "model_module_version": "2.0.0",
      "model_name": "HBoxModel",
      "state": {
       "children": [
        "IPY_MODEL_892bf2f0f1ff46faabf85d30879eff81",
        "IPY_MODEL_ac4edb47bbdc4eeeb21b102495910297",
        "IPY_MODEL_17dd15166eb74906b4d3753bc0a9f01b"
       ],
       "layout": "IPY_MODEL_fcc2778eb02948f7bfa49c0b0c6c4c50"
      }
     },
     "c7a266e04f0241da89bc8fc95a62f002": {
      "model_module": "@jupyter-widgets/output",
      "model_module_version": "1.0.0",
      "model_name": "OutputModel",
      "state": {
       "layout": "IPY_MODEL_6dbd3b12a86c4b75a8925424557c5507",
       "outputs": [
        {
         "data": {
          "text/html": "<div>\n<style scoped>\n    .dataframe tbody tr th:only-of-type {\n        vertical-align: middle;\n    }\n\n    .dataframe tbody tr th {\n        vertical-align: top;\n    }\n\n    .dataframe thead th {\n        text-align: right;\n    }\n</style>\n<table border=\"1\" class=\"dataframe\">\n  <thead>\n    <tr style=\"text-align: right;\">\n      <th></th>\n      <th>width</th>\n      <th>height</th>\n      <th>relative_path</th>\n      <th>type</th>\n      <th>tags.time</th>\n      <th>tags.weather</th>\n    </tr>\n    <tr>\n      <th>id</th>\n      <th></th>\n      <th></th>\n      <th></th>\n      <th></th>\n      <th></th>\n      <th></th>\n    </tr>\n  </thead>\n  <tbody>\n    <tr>\n      <th>6091</th>\n      <td>480</td>\n      <td>640</td>\n      <td>image1.jpg</td>\n      <td>.jpg</td>\n      <td>night</td>\n      <td>rainy</td>\n    </tr>\n    <tr>\n      <th>10395</th>\n      <td>500</td>\n      <td>476</td>\n      <td>image2.jpg</td>\n      <td>.jpg</td>\n      <td>night</td>\n      <td>None</td>\n    </tr>\n  </tbody>\n</table>\n</div>",
          "text/plain": "       width  height relative_path  type tags.time tags.weather\nid                                                             \n6091     480     640    image1.jpg  .jpg     night        rainy\n10395    500     476    image2.jpg  .jpg     night         None"
         },
         "metadata": {},
         "output_type": "display_data"
        }
       ]
      }
     },
     "c81505a3f4d243f78d00ccd5557fac63": {
      "model_module": "@jupyter-widgets/controls",
      "model_module_version": "2.0.0",
      "model_name": "LabelModel",
      "state": {
       "layout": "IPY_MODEL_4d8e462989174cc5a88c2196b63c919a",
       "style": "IPY_MODEL_941fe4dcae944d9482b56d6ab8e96126",
       "value": "Column format"
      }
     },
     "c81abda19be44766b6d17001c7d30786": {
      "model_module": "@jupyter-widgets/output",
      "model_module_version": "1.0.0",
      "model_name": "OutputModel",
      "state": {
       "layout": "IPY_MODEL_54b48c65cdd644cb883ff63fb7c18891",
       "outputs": [
        {
         "data": {
          "text/html": "<div>\n<style scoped>\n    .dataframe tbody tr th:only-of-type {\n        vertical-align: middle;\n    }\n\n    .dataframe tbody tr th {\n        vertical-align: top;\n    }\n\n    .dataframe thead th {\n        text-align: right;\n    }\n</style>\n<table border=\"1\" class=\"dataframe\">\n  <thead>\n    <tr style=\"text-align: right;\">\n      <th></th>\n      <th>category string</th>\n    </tr>\n    <tr>\n      <th>category_id</th>\n      <th></th>\n    </tr>\n  </thead>\n  <tbody>\n    <tr>\n      <th>13</th>\n      <td>stop sign</td>\n    </tr>\n    <tr>\n      <th>88</th>\n      <td>teddy bear</td>\n    </tr>\n  </tbody>\n</table>\n</div>",
          "text/plain": "            category string\ncategory_id                \n13                stop sign\n88               teddy bear"
         },
         "metadata": {},
         "output_type": "display_data"
        }
       ]
      }
     },
     "c83a6880bed94908b866518ba549c781": {
      "model_module": "@jupyter-widgets/controls",
      "model_module_version": "2.0.0",
      "model_name": "DropdownModel",
      "state": {
       "_options_labels": [
        "raw",
        "nested"
       ],
       "index": 1,
       "layout": "IPY_MODEL_6aee0ca6f8e945fca134e5698247e9c3",
       "style": "IPY_MODEL_5aa34ed1735e4cb9ab5fbc95fcee99e8"
      }
     },
     "c83b944f0e4542399b2a1dd50a9f6ed9": {
      "model_module": "@jupyter-widgets/output",
      "model_module_version": "1.0.0",
      "model_name": "OutputModel",
      "state": {
       "layout": "IPY_MODEL_d8bae80acc95465ba5e85ca14d893a2b",
       "outputs": [
        {
         "data": {
          "text/html": "<div>\n<style scoped>\n    .dataframe tbody tr th:only-of-type {\n        vertical-align: middle;\n    }\n\n    .dataframe tbody tr th {\n        vertical-align: top;\n    }\n\n    .dataframe thead th {\n        text-align: right;\n    }\n</style>\n<table border=\"1\" class=\"dataframe\">\n  <thead>\n    <tr style=\"text-align: right;\">\n      <th></th>\n      <th>width</th>\n      <th>height</th>\n      <th>relative_path</th>\n      <th>type</th>\n      <th>tags.time</th>\n      <th>tags.weather</th>\n    </tr>\n    <tr>\n      <th>id</th>\n      <th></th>\n      <th></th>\n      <th></th>\n      <th></th>\n      <th></th>\n      <th></th>\n    </tr>\n  </thead>\n  <tbody>\n    <tr>\n      <th>6091</th>\n      <td>480</td>\n      <td>640</td>\n      <td>image1.jpg</td>\n      <td>.jpg</td>\n      <td>night</td>\n      <td>rainy</td>\n    </tr>\n    <tr>\n      <th>10395</th>\n      <td>500</td>\n      <td>476</td>\n      <td>image2.jpg</td>\n      <td>.jpg</td>\n      <td>night</td>\n      <td>None</td>\n    </tr>\n  </tbody>\n</table>\n</div>",
          "text/plain": "       width  height relative_path  type tags.time tags.weather\nid                                                             \n6091     480     640    image1.jpg  .jpg     night        rainy\n10395    500     476    image2.jpg  .jpg     night         None"
         },
         "metadata": {},
         "output_type": "display_data"
        }
       ]
      }
     },
     "c8c2e438e86f48078dcb5b4ce1ceb9d3": {
      "model_module": "@jupyter-widgets/controls",
      "model_module_version": "2.0.0",
      "model_name": "StackModel",
      "state": {
       "children": [
        "IPY_MODEL_9bcb3a40fd72428fbefb100173e1c85a",
        "IPY_MODEL_e53847a4f6e04c7aae85f73a42bdeea4"
       ],
       "layout": "IPY_MODEL_e51d9fd0953646c8a0d8fa4a747239d8",
       "selected_index": 0,
       "titles": [
        "",
        ""
       ]
      }
     },
     "c952dc57237a4745a4458d387b9dbc6f": {
      "model_module": "@jupyter-widgets/controls",
      "model_module_version": "2.0.0",
      "model_name": "VBoxModel",
      "state": {
       "children": [
        "IPY_MODEL_cbf8d481283041c99704d2a6c82a31d3",
        "IPY_MODEL_eb8fe446efe847e0abfb878b5c30b043"
       ],
       "layout": "IPY_MODEL_793cf62999df46f8afc8d2aaab8240a1"
      }
     },
     "c97e91b06dc040cca96e7a2353471e37": {
      "model_module": "@jupyter-widgets/base",
      "model_module_version": "2.0.0",
      "model_name": "LayoutModel",
      "state": {}
     },
     "c98cbef3ee0b466bba3a73d0d8ef935d": {
      "model_module": "@jupyter-widgets/base",
      "model_module_version": "2.0.0",
      "model_name": "LayoutModel",
      "state": {}
     },
     "c9dabe1b55b7478f944aaa20a2784578": {
      "model_module": "@jupyter-widgets/base",
      "model_module_version": "2.0.0",
      "model_name": "LayoutModel",
      "state": {}
     },
     "c9e5e33944354daea0213434be043ea8": {
      "model_module": "@jupyter-widgets/base",
      "model_module_version": "2.0.0",
      "model_name": "LayoutModel",
      "state": {}
     },
     "ca7f240e14ff4e5cba1525e63ba58f98": {
      "model_module": "@jupyter-widgets/base",
      "model_module_version": "2.0.0",
      "model_name": "LayoutModel",
      "state": {}
     },
     "cb4f78a088914791a6986522d7dff3d8": {
      "model_module": "@jupyter-widgets/controls",
      "model_module_version": "2.0.0",
      "model_name": "StackModel",
      "state": {
       "children": [
        "IPY_MODEL_db851fd0b6704e5789bcfc7a11c62a4e",
        "IPY_MODEL_f2f9a404eb7348cb8c76f0a7e6c788ed"
       ],
       "layout": "IPY_MODEL_366e3e6b775746aab4f6aa050be6f328",
       "selected_index": 1,
       "titles": [
        "",
        ""
       ]
      }
     },
     "cb763f0b2e6c4e7ea1abf2050a4262a8": {
      "model_module": "@jupyter-widgets/controls",
      "model_module_version": "2.0.0",
      "model_name": "LinkModel",
      "state": {
       "source": [
        "IPY_MODEL_a7395fb1f98d4cb6b4630d6a42bd5226",
        "index"
       ],
       "target": [
        "IPY_MODEL_af0286102c30462182a050b7a8c0bbbb",
        "selected_index"
       ]
      }
     },
     "cb9133ac6e7f44ca9882990704a90e76": {
      "model_module": "@jupyter-widgets/base",
      "model_module_version": "2.0.0",
      "model_name": "LayoutModel",
      "state": {}
     },
     "cbd9eb66c67b4f25b25caab91df746f5": {
      "model_module": "@jupyter-widgets/base",
      "model_module_version": "2.0.0",
      "model_name": "LayoutModel",
      "state": {}
     },
     "cbf8d481283041c99704d2a6c82a31d3": {
      "model_module": "@jupyter-widgets/controls",
      "model_module_version": "2.0.0",
      "model_name": "HBoxModel",
      "state": {
       "children": [
        "IPY_MODEL_00e92e822c8944e79dbb48196e58ae6c",
        "IPY_MODEL_c83a6880bed94908b866518ba549c781"
       ],
       "layout": "IPY_MODEL_8b3c3e7014d84bf0987caca4b74d9fd4"
      }
     },
     "cc3eea07c5a9499a9b200d1bb1e0b629": {
      "model_module": "@jupyter-widgets/base",
      "model_module_version": "2.0.0",
      "model_name": "LayoutModel",
      "state": {}
     },
     "ccebac1be8794834a6db839b472d38e2": {
      "model_module": "@jupyter-widgets/base",
      "model_module_version": "2.0.0",
      "model_name": "LayoutModel",
      "state": {}
     },
     "cdeb3d59836e478b8a559f9128b1445b": {
      "model_module": "@jupyter-widgets/controls",
      "model_module_version": "2.0.0",
      "model_name": "StackModel",
      "state": {
       "children": [
        "IPY_MODEL_7d5270991e1d4ac1a23bf76fb0b68c73",
        "IPY_MODEL_19b997d773684d27934186f82f9f2bb4"
       ],
       "layout": "IPY_MODEL_66a6d3f36d784b429aa5476630e98ed3",
       "selected_index": 1,
       "titles": [
        "",
        ""
       ]
      }
     },
     "ceaffed9d3e44fd78f344c3cd32ad486": {
      "model_module": "@jupyter-widgets/output",
      "model_module_version": "1.0.0",
      "model_name": "OutputModel",
      "state": {
       "layout": "IPY_MODEL_c9dabe1b55b7478f944aaa20a2784578",
       "outputs": [
        {
         "data": {
          "text/html": "<div>\n<style scoped>\n    .dataframe tbody tr th:only-of-type {\n        vertical-align: middle;\n    }\n\n    .dataframe tbody tr th {\n        vertical-align: top;\n    }\n\n    .dataframe thead th {\n        text-align: right;\n    }\n</style>\n<table border=\"1\" class=\"dataframe\">\n  <thead>\n    <tr style=\"text-align: right;\">\n      <th></th>\n      <th>category string</th>\n    </tr>\n    <tr>\n      <th>category_id</th>\n      <th></th>\n    </tr>\n  </thead>\n  <tbody>\n    <tr>\n      <th>13</th>\n      <td>stop sign</td>\n    </tr>\n    <tr>\n      <th>88</th>\n      <td>teddy bear</td>\n    </tr>\n  </tbody>\n</table>\n</div>",
          "text/plain": "            category string\ncategory_id                \n13                stop sign\n88               teddy bear"
         },
         "metadata": {},
         "output_type": "display_data"
        }
       ]
      }
     },
     "cf56742867ef4d5cb2f28173c9fa4168": {
      "model_module": "@jupyter-widgets/output",
      "model_module_version": "1.0.0",
      "model_name": "OutputModel",
      "state": {
       "layout": "IPY_MODEL_78a3da09b7c5421295cf78d33102e6b1",
       "outputs": [
        {
         "data": {
          "application/vnd.jupyter.widget-view+json": {
           "model_id": "c952dc57237a4745a4458d387b9dbc6f",
           "version_major": 2,
           "version_minor": 0
          },
          "text/plain": "VBox(children=(HBox(children=(Label(value='Column format'), Dropdown(index=1, options=('raw', 'nested'), value…"
         },
         "metadata": {},
         "output_type": "display_data"
        }
       ]
      }
     },
     "d07a1873d05347359a4223c937a2f5e0": {
      "model_module": "@jupyter-widgets/output",
      "model_module_version": "1.0.0",
      "model_name": "OutputModel",
      "state": {
       "layout": "IPY_MODEL_ad5fb8dde59e41c7b71340811c06d7a3",
       "outputs": [
        {
         "data": {
          "text/html": "<style type=\"text/css\">\n#T_6445a th {\n  border-right: 1px solid #F0F0F0;\n}\n</style>\n<table id=\"T_6445a\">\n  <thead>\n    <tr>\n      <th class=\"blank level0\" >&nbsp;</th>\n      <th id=\"T_6445a_level0_col0\" class=\"col_heading level0 col0\" >image_id</th>\n      <th id=\"T_6445a_level0_col1\" class=\"col_heading level0 col1\" >category_str</th>\n      <th id=\"T_6445a_level0_col2\" class=\"col_heading level0 col2\" >category_id</th>\n      <th id=\"T_6445a_level0_col3\" class=\"col_heading level0 col3\" >box_x_min</th>\n      <th id=\"T_6445a_level0_col4\" class=\"col_heading level0 col4\" >box_y_min</th>\n      <th id=\"T_6445a_level0_col5\" class=\"col_heading level0 col5\" >box_width</th>\n      <th id=\"T_6445a_level0_col6\" class=\"col_heading level0 col6\" >box_height</th>\n      <th id=\"T_6445a_level0_col7\" class=\"col_heading level0 col7\" >area</th>\n      <th id=\"T_6445a_level0_col8\" class=\"col_heading level0 col8\" colspan=\"3\">attributes</th>\n    </tr>\n    <tr>\n      <th class=\"blank level1\" >&nbsp;</th>\n      <th id=\"T_6445a_level1_col0\" class=\"col_heading level1 col0\" ></th>\n      <th id=\"T_6445a_level1_col1\" class=\"col_heading level1 col1\" ></th>\n      <th id=\"T_6445a_level1_col2\" class=\"col_heading level1 col2\" ></th>\n      <th id=\"T_6445a_level1_col3\" class=\"col_heading level1 col3\" ></th>\n      <th id=\"T_6445a_level1_col4\" class=\"col_heading level1 col4\" ></th>\n      <th id=\"T_6445a_level1_col5\" class=\"col_heading level1 col5\" ></th>\n      <th id=\"T_6445a_level1_col6\" class=\"col_heading level1 col6\" ></th>\n      <th id=\"T_6445a_level1_col7\" class=\"col_heading level1 col7\" ></th>\n      <th id=\"T_6445a_level1_col8\" class=\"col_heading level1 col8\" >occluded</th>\n      <th id=\"T_6445a_level1_col9\" class=\"col_heading level1 col9\" >colors</th>\n      <th id=\"T_6445a_level1_col10\" class=\"col_heading level1 col10\" >position</th>\n    </tr>\n    <tr>\n      <th class=\"index_name level0\" >id</th>\n      <th class=\"blank col0\" >&nbsp;</th>\n      <th class=\"blank col1\" >&nbsp;</th>\n      <th class=\"blank col2\" >&nbsp;</th>\n      <th class=\"blank col3\" >&nbsp;</th>\n      <th class=\"blank col4\" >&nbsp;</th>\n      <th class=\"blank col5\" >&nbsp;</th>\n      <th class=\"blank col6\" >&nbsp;</th>\n      <th class=\"blank col7\" >&nbsp;</th>\n      <th class=\"blank col8\" >&nbsp;</th>\n      <th class=\"blank col9\" >&nbsp;</th>\n      <th class=\"blank col10\" >&nbsp;</th>\n    </tr>\n  </thead>\n  <tbody>\n    <tr>\n      <th id=\"T_6445a_level0_row0\" class=\"row_heading level0 row0\" >269791</th>\n      <td id=\"T_6445a_row0_col0\" class=\"data row0 col0\" >6091</td>\n      <td id=\"T_6445a_row0_col1\" class=\"data row0 col1\" >stop sign</td>\n      <td id=\"T_6445a_row0_col2\" class=\"data row0 col2\" >13</td>\n      <td id=\"T_6445a_row0_col3\" class=\"data row0 col3\" >100.220000</td>\n      <td id=\"T_6445a_row0_col4\" class=\"data row0 col4\" >117.540000</td>\n      <td id=\"T_6445a_row0_col5\" class=\"data row0 col5\" >253.430000</td>\n      <td id=\"T_6445a_row0_col6\" class=\"data row0 col6\" >274.900000</td>\n      <td id=\"T_6445a_row0_col7\" class=\"data row0 col7\" >46726.430300</td>\n      <td id=\"T_6445a_row0_col8\" class=\"data row0 col8\" >True</td>\n      <td id=\"T_6445a_row0_col9\" class=\"data row0 col9\" >['red', 'white']</td>\n      <td id=\"T_6445a_row0_col10\" class=\"data row0 col10\" >[]</td>\n    </tr>\n    <tr>\n      <th id=\"T_6445a_level0_row1\" class=\"row_heading level0 row1\" >1161234</th>\n      <td id=\"T_6445a_row1_col0\" class=\"data row1 col0\" >10395</td>\n      <td id=\"T_6445a_row1_col1\" class=\"data row1 col1\" >teddy bear</td>\n      <td id=\"T_6445a_row1_col2\" class=\"data row1 col2\" >88</td>\n      <td id=\"T_6445a_row1_col3\" class=\"data row1 col3\" >49.190000</td>\n      <td id=\"T_6445a_row1_col4\" class=\"data row1 col4\" >66.200000</td>\n      <td id=\"T_6445a_row1_col5\" class=\"data row1 col5\" >378.970000</td>\n      <td id=\"T_6445a_row1_col6\" class=\"data row1 col6\" >379.680000</td>\n      <td id=\"T_6445a_row1_col7\" class=\"data row1 col7\" >84587.439100</td>\n      <td id=\"T_6445a_row1_col8\" class=\"data row1 col8\" >None</td>\n      <td id=\"T_6445a_row1_col9\" class=\"data row1 col9\" >['grey']</td>\n      <td id=\"T_6445a_row1_col10\" class=\"data row1 col10\" >['front']</td>\n    </tr>\n  </tbody>\n</table>\n",
          "text/plain": "<pandas.io.formats.style.Styler at 0x30162fcd0>"
         },
         "metadata": {},
         "output_type": "display_data"
        }
       ]
      }
     },
     "d0f929ee62db41ada3651887ceebac75": {
      "model_module": "@jupyter-widgets/controls",
      "model_module_version": "2.0.0",
      "model_name": "LabelModel",
      "state": {
       "layout": "IPY_MODEL_0563fdaa1fae470db79fd71892819186",
       "style": "IPY_MODEL_094209b6633741e2bd532ec562c7b09d",
       "value": "Booleanize"
      }
     },
     "d1fb5971edbd4f8a8cf64e5bd128d9ff": {
      "model_module": "@jupyter-widgets/output",
      "model_module_version": "1.0.0",
      "model_name": "OutputModel",
      "state": {
       "layout": "IPY_MODEL_58ed066bb320479fbf51ee80df239290",
       "outputs": [
        {
         "data": {
          "text/html": "<style type=\"text/css\">\n#T_fe261 th {\n  border-right: 1px solid #F0F0F0;\n}\n</style>\n<table id=\"T_fe261\">\n  <thead>\n    <tr>\n      <th class=\"blank level0\" >&nbsp;</th>\n      <th id=\"T_fe261_level0_col0\" class=\"col_heading level0 col0\" >image_id</th>\n      <th id=\"T_fe261_level0_col1\" class=\"col_heading level0 col1\" >category_str</th>\n      <th id=\"T_fe261_level0_col2\" class=\"col_heading level0 col2\" >category_id</th>\n      <th id=\"T_fe261_level0_col3\" class=\"col_heading level0 col3\" >box_x_min</th>\n      <th id=\"T_fe261_level0_col4\" class=\"col_heading level0 col4\" >box_y_min</th>\n      <th id=\"T_fe261_level0_col5\" class=\"col_heading level0 col5\" >box_width</th>\n      <th id=\"T_fe261_level0_col6\" class=\"col_heading level0 col6\" >box_height</th>\n      <th id=\"T_fe261_level0_col7\" class=\"col_heading level0 col7\" >area</th>\n      <th id=\"T_fe261_level0_col8\" class=\"col_heading level0 col8\" colspan=\"3\">attributes</th>\n    </tr>\n    <tr>\n      <th class=\"blank level1\" >&nbsp;</th>\n      <th id=\"T_fe261_level1_col0\" class=\"col_heading level1 col0\" ></th>\n      <th id=\"T_fe261_level1_col1\" class=\"col_heading level1 col1\" ></th>\n      <th id=\"T_fe261_level1_col2\" class=\"col_heading level1 col2\" ></th>\n      <th id=\"T_fe261_level1_col3\" class=\"col_heading level1 col3\" ></th>\n      <th id=\"T_fe261_level1_col4\" class=\"col_heading level1 col4\" ></th>\n      <th id=\"T_fe261_level1_col5\" class=\"col_heading level1 col5\" ></th>\n      <th id=\"T_fe261_level1_col6\" class=\"col_heading level1 col6\" ></th>\n      <th id=\"T_fe261_level1_col7\" class=\"col_heading level1 col7\" ></th>\n      <th id=\"T_fe261_level1_col8\" class=\"col_heading level1 col8\" >occluded</th>\n      <th id=\"T_fe261_level1_col9\" class=\"col_heading level1 col9\" >colors</th>\n      <th id=\"T_fe261_level1_col10\" class=\"col_heading level1 col10\" >position</th>\n    </tr>\n    <tr>\n      <th class=\"index_name level0\" >id</th>\n      <th class=\"blank col0\" >&nbsp;</th>\n      <th class=\"blank col1\" >&nbsp;</th>\n      <th class=\"blank col2\" >&nbsp;</th>\n      <th class=\"blank col3\" >&nbsp;</th>\n      <th class=\"blank col4\" >&nbsp;</th>\n      <th class=\"blank col5\" >&nbsp;</th>\n      <th class=\"blank col6\" >&nbsp;</th>\n      <th class=\"blank col7\" >&nbsp;</th>\n      <th class=\"blank col8\" >&nbsp;</th>\n      <th class=\"blank col9\" >&nbsp;</th>\n      <th class=\"blank col10\" >&nbsp;</th>\n    </tr>\n  </thead>\n  <tbody>\n    <tr>\n      <th id=\"T_fe261_level0_row0\" class=\"row_heading level0 row0\" >269791</th>\n      <td id=\"T_fe261_row0_col0\" class=\"data row0 col0\" >6091</td>\n      <td id=\"T_fe261_row0_col1\" class=\"data row0 col1\" >stop sign</td>\n      <td id=\"T_fe261_row0_col2\" class=\"data row0 col2\" >13</td>\n      <td id=\"T_fe261_row0_col3\" class=\"data row0 col3\" >100.220000</td>\n      <td id=\"T_fe261_row0_col4\" class=\"data row0 col4\" >117.540000</td>\n      <td id=\"T_fe261_row0_col5\" class=\"data row0 col5\" >253.430000</td>\n      <td id=\"T_fe261_row0_col6\" class=\"data row0 col6\" >274.900000</td>\n      <td id=\"T_fe261_row0_col7\" class=\"data row0 col7\" >46726.430300</td>\n      <td id=\"T_fe261_row0_col8\" class=\"data row0 col8\" >True</td>\n      <td id=\"T_fe261_row0_col9\" class=\"data row0 col9\" >['red', 'white']</td>\n      <td id=\"T_fe261_row0_col10\" class=\"data row0 col10\" >[]</td>\n    </tr>\n    <tr>\n      <th id=\"T_fe261_level0_row1\" class=\"row_heading level0 row1\" >1161234</th>\n      <td id=\"T_fe261_row1_col0\" class=\"data row1 col0\" >10395</td>\n      <td id=\"T_fe261_row1_col1\" class=\"data row1 col1\" >teddy bear</td>\n      <td id=\"T_fe261_row1_col2\" class=\"data row1 col2\" >88</td>\n      <td id=\"T_fe261_row1_col3\" class=\"data row1 col3\" >49.190000</td>\n      <td id=\"T_fe261_row1_col4\" class=\"data row1 col4\" >66.200000</td>\n      <td id=\"T_fe261_row1_col5\" class=\"data row1 col5\" >378.970000</td>\n      <td id=\"T_fe261_row1_col6\" class=\"data row1 col6\" >379.680000</td>\n      <td id=\"T_fe261_row1_col7\" class=\"data row1 col7\" >84587.439100</td>\n      <td id=\"T_fe261_row1_col8\" class=\"data row1 col8\" >None</td>\n      <td id=\"T_fe261_row1_col9\" class=\"data row1 col9\" >['grey']</td>\n      <td id=\"T_fe261_row1_col10\" class=\"data row1 col10\" >['front']</td>\n    </tr>\n  </tbody>\n</table>\n",
          "text/plain": "<pandas.io.formats.style.Styler at 0x302125790>"
         },
         "metadata": {},
         "output_type": "display_data"
        }
       ]
      }
     },
     "d4023fa0a2eb490f95cfbaeff0a44a03": {
      "model_module": "@jupyter-widgets/base",
      "model_module_version": "2.0.0",
      "model_name": "LayoutModel",
      "state": {}
     },
     "d42d7d7ee63845b7af7bac1691311ca8": {
      "model_module": "@jupyter-widgets/output",
      "model_module_version": "1.0.0",
      "model_name": "OutputModel",
      "state": {
       "layout": "IPY_MODEL_3eebded23c294df292b6040926030e6c",
       "outputs": [
        {
         "data": {
          "text/html": "<style type=\"text/css\">\n#T_44e8b th {\n  border-right: 1px solid #F0F0F0;\n}\n</style>\n<table id=\"T_44e8b\">\n  <thead>\n    <tr>\n      <th class=\"blank level0\" >&nbsp;</th>\n      <th id=\"T_44e8b_level0_col0\" class=\"col_heading level0 col0\" >width</th>\n      <th id=\"T_44e8b_level0_col1\" class=\"col_heading level0 col1\" >height</th>\n      <th id=\"T_44e8b_level0_col2\" class=\"col_heading level0 col2\" >relative_path</th>\n      <th id=\"T_44e8b_level0_col3\" class=\"col_heading level0 col3\" >type</th>\n      <th id=\"T_44e8b_level0_col4\" class=\"col_heading level0 col4\" colspan=\"2\">tags</th>\n    </tr>\n    <tr>\n      <th class=\"blank level1\" >&nbsp;</th>\n      <th id=\"T_44e8b_level1_col0\" class=\"col_heading level1 col0\" ></th>\n      <th id=\"T_44e8b_level1_col1\" class=\"col_heading level1 col1\" ></th>\n      <th id=\"T_44e8b_level1_col2\" class=\"col_heading level1 col2\" ></th>\n      <th id=\"T_44e8b_level1_col3\" class=\"col_heading level1 col3\" ></th>\n      <th id=\"T_44e8b_level1_col4\" class=\"col_heading level1 col4\" >time</th>\n      <th id=\"T_44e8b_level1_col5\" class=\"col_heading level1 col5\" >weather</th>\n    </tr>\n    <tr>\n      <th class=\"index_name level0\" >id</th>\n      <th class=\"blank col0\" >&nbsp;</th>\n      <th class=\"blank col1\" >&nbsp;</th>\n      <th class=\"blank col2\" >&nbsp;</th>\n      <th class=\"blank col3\" >&nbsp;</th>\n      <th class=\"blank col4\" >&nbsp;</th>\n      <th class=\"blank col5\" >&nbsp;</th>\n    </tr>\n  </thead>\n  <tbody>\n    <tr>\n      <th id=\"T_44e8b_level0_row0\" class=\"row_heading level0 row0\" >6091</th>\n      <td id=\"T_44e8b_row0_col0\" class=\"data row0 col0\" >480</td>\n      <td id=\"T_44e8b_row0_col1\" class=\"data row0 col1\" >640</td>\n      <td id=\"T_44e8b_row0_col2\" class=\"data row0 col2\" >image1.jpg</td>\n      <td id=\"T_44e8b_row0_col3\" class=\"data row0 col3\" >.jpg</td>\n      <td id=\"T_44e8b_row0_col4\" class=\"data row0 col4\" >night</td>\n      <td id=\"T_44e8b_row0_col5\" class=\"data row0 col5\" >rainy</td>\n    </tr>\n    <tr>\n      <th id=\"T_44e8b_level0_row1\" class=\"row_heading level0 row1\" >10395</th>\n      <td id=\"T_44e8b_row1_col0\" class=\"data row1 col0\" >500</td>\n      <td id=\"T_44e8b_row1_col1\" class=\"data row1 col1\" >476</td>\n      <td id=\"T_44e8b_row1_col2\" class=\"data row1 col2\" >image2.jpg</td>\n      <td id=\"T_44e8b_row1_col3\" class=\"data row1 col3\" >.jpg</td>\n      <td id=\"T_44e8b_row1_col4\" class=\"data row1 col4\" >night</td>\n      <td id=\"T_44e8b_row1_col5\" class=\"data row1 col5\" >None</td>\n    </tr>\n  </tbody>\n</table>\n",
          "text/plain": "<pandas.io.formats.style.Styler at 0x30138ea50>"
         },
         "metadata": {},
         "output_type": "display_data"
        }
       ]
      }
     },
     "d451a2662b8b43e2bdfd6eae1cc2a059": {
      "model_module": "@jupyter-widgets/base",
      "model_module_version": "2.0.0",
      "model_name": "LayoutModel",
      "state": {}
     },
     "d4e48aade5cf430f86da6775168db458": {
      "model_module": "@jupyter-widgets/controls",
      "model_module_version": "2.0.0",
      "model_name": "LinkModel",
      "state": {
       "source": [
        "IPY_MODEL_b2d1a9afb0aa4f02be240e3a609370e9",
        "index"
       ],
       "target": [
        "IPY_MODEL_f2f9a404eb7348cb8c76f0a7e6c788ed",
        "selected_index"
       ]
      }
     },
     "d66ae40cf9f44c24897fe1a418dd0709": {
      "model_module": "@jupyter-widgets/base",
      "model_module_version": "2.0.0",
      "model_name": "LayoutModel",
      "state": {}
     },
     "d690466646f94a33b3dc7fb8f508ec66": {
      "model_module": "@jupyter-widgets/base",
      "model_module_version": "2.0.0",
      "model_name": "LayoutModel",
      "state": {}
     },
     "d7e4a7497e4f4952b5d4e8c7b26466d5": {
      "model_module": "@jupyter-widgets/base",
      "model_module_version": "2.0.0",
      "model_name": "LayoutModel",
      "state": {}
     },
     "d879e9886d5a403db85ef3183404d41e": {
      "model_module": "@jupyter-widgets/base",
      "model_module_version": "2.0.0",
      "model_name": "LayoutModel",
      "state": {}
     },
     "d8bae80acc95465ba5e85ca14d893a2b": {
      "model_module": "@jupyter-widgets/base",
      "model_module_version": "2.0.0",
      "model_name": "LayoutModel",
      "state": {}
     },
     "d9160f103df247dbb9575c0e254c0179": {
      "model_module": "@jupyter-widgets/base",
      "model_module_version": "2.0.0",
      "model_name": "LayoutModel",
      "state": {}
     },
     "d970346f2e2d45f6ac109e3e1a3918fd": {
      "model_module": "@jupyter-widgets/controls",
      "model_module_version": "2.0.0",
      "model_name": "LabelStyleModel",
      "state": {
       "description_width": "",
       "font_family": null,
       "font_size": null,
       "font_style": null,
       "font_variant": null,
       "font_weight": null,
       "text_color": null,
       "text_decoration": null
      }
     },
     "d987b7e53bf840669b376bbab1963d74": {
      "model_module": "@jupyter-widgets/controls",
      "model_module_version": "2.0.0",
      "model_name": "StackModel",
      "state": {
       "children": [
        "IPY_MODEL_c7a266e04f0241da89bc8fc95a62f002",
        "IPY_MODEL_bd56e1484d9f4cacbf8ce2789195315c"
       ],
       "layout": "IPY_MODEL_ccebac1be8794834a6db839b472d38e2",
       "selected_index": 1,
       "titles": [
        "",
        ""
       ]
      }
     },
     "d9b22d9f66474a3389db173d5266b947": {
      "model_module": "@jupyter-widgets/controls",
      "model_module_version": "2.0.0",
      "model_name": "TabModel",
      "state": {
       "children": [
        "IPY_MODEL_9e018458d9ea417eb5b9d72812fe7772",
        "IPY_MODEL_b0a49dbdf1e347438fa06fdfcf198f82",
        "IPY_MODEL_c3f53aa7a4c04264b3195c905aa97e6b"
       ],
       "layout": "IPY_MODEL_4b809dfc0ece43fc960f4766317ecddc",
       "selected_index": 0,
       "titles": [
        "Images",
        "Annotations",
        "Label Map"
       ]
      }
     },
     "dae4d21aa5bd4fe19b853ad112df4cd4": {
      "model_module": "@jupyter-widgets/output",
      "model_module_version": "1.0.0",
      "model_name": "OutputModel",
      "state": {
       "layout": "IPY_MODEL_c507e3ec2ddf4fda8461c89342d50698",
       "outputs": [
        {
         "data": {
          "text/html": "<style type=\"text/css\">\n#T_81546 th {\n  border-right: 1px solid #F0F0F0;\n}\n</style>\n<table id=\"T_81546\">\n  <thead>\n    <tr>\n      <th class=\"blank level0\" >&nbsp;</th>\n      <th id=\"T_81546_level0_col0\" class=\"col_heading level0 col0\" >image_id</th>\n      <th id=\"T_81546_level0_col1\" class=\"col_heading level0 col1\" >category_str</th>\n      <th id=\"T_81546_level0_col2\" class=\"col_heading level0 col2\" >category_id</th>\n      <th id=\"T_81546_level0_col3\" class=\"col_heading level0 col3\" >box_x_min</th>\n      <th id=\"T_81546_level0_col4\" class=\"col_heading level0 col4\" >box_y_min</th>\n      <th id=\"T_81546_level0_col5\" class=\"col_heading level0 col5\" >box_width</th>\n      <th id=\"T_81546_level0_col6\" class=\"col_heading level0 col6\" >box_height</th>\n      <th id=\"T_81546_level0_col7\" class=\"col_heading level0 col7\" >area</th>\n      <th id=\"T_81546_level0_col8\" class=\"col_heading level0 col8\" colspan=\"3\">attributes</th>\n    </tr>\n    <tr>\n      <th class=\"blank level1\" >&nbsp;</th>\n      <th id=\"T_81546_level1_col0\" class=\"col_heading level1 col0\" ></th>\n      <th id=\"T_81546_level1_col1\" class=\"col_heading level1 col1\" ></th>\n      <th id=\"T_81546_level1_col2\" class=\"col_heading level1 col2\" ></th>\n      <th id=\"T_81546_level1_col3\" class=\"col_heading level1 col3\" ></th>\n      <th id=\"T_81546_level1_col4\" class=\"col_heading level1 col4\" ></th>\n      <th id=\"T_81546_level1_col5\" class=\"col_heading level1 col5\" ></th>\n      <th id=\"T_81546_level1_col6\" class=\"col_heading level1 col6\" ></th>\n      <th id=\"T_81546_level1_col7\" class=\"col_heading level1 col7\" ></th>\n      <th id=\"T_81546_level1_col8\" class=\"col_heading level1 col8\" >occluded</th>\n      <th id=\"T_81546_level1_col9\" class=\"col_heading level1 col9\" >position</th>\n      <th id=\"T_81546_level1_col10\" class=\"col_heading level1 col10\" >colors</th>\n    </tr>\n    <tr>\n      <th class=\"index_name level0\" >id</th>\n      <th class=\"blank col0\" >&nbsp;</th>\n      <th class=\"blank col1\" >&nbsp;</th>\n      <th class=\"blank col2\" >&nbsp;</th>\n      <th class=\"blank col3\" >&nbsp;</th>\n      <th class=\"blank col4\" >&nbsp;</th>\n      <th class=\"blank col5\" >&nbsp;</th>\n      <th class=\"blank col6\" >&nbsp;</th>\n      <th class=\"blank col7\" >&nbsp;</th>\n      <th class=\"blank col8\" >&nbsp;</th>\n      <th class=\"blank col9\" >&nbsp;</th>\n      <th class=\"blank col10\" >&nbsp;</th>\n    </tr>\n  </thead>\n  <tbody>\n    <tr>\n      <th id=\"T_81546_level0_row0\" class=\"row_heading level0 row0\" >269791</th>\n      <td id=\"T_81546_row0_col0\" class=\"data row0 col0\" >6091</td>\n      <td id=\"T_81546_row0_col1\" class=\"data row0 col1\" >stop sign</td>\n      <td id=\"T_81546_row0_col2\" class=\"data row0 col2\" >13</td>\n      <td id=\"T_81546_row0_col3\" class=\"data row0 col3\" >100.220000</td>\n      <td id=\"T_81546_row0_col4\" class=\"data row0 col4\" >117.540000</td>\n      <td id=\"T_81546_row0_col5\" class=\"data row0 col5\" >253.430000</td>\n      <td id=\"T_81546_row0_col6\" class=\"data row0 col6\" >274.900000</td>\n      <td id=\"T_81546_row0_col7\" class=\"data row0 col7\" >46726.430300</td>\n      <td id=\"T_81546_row0_col8\" class=\"data row0 col8\" >True</td>\n      <td id=\"T_81546_row0_col9\" class=\"data row0 col9\" >None</td>\n      <td id=\"T_81546_row0_col10\" class=\"data row0 col10\" >['red', 'white']</td>\n    </tr>\n  </tbody>\n</table>\n",
          "text/plain": "<pandas.io.formats.style.Styler at 0x302312850>"
         },
         "metadata": {},
         "output_type": "display_data"
        }
       ]
      }
     },
     "db338223590648b3b03d412a8a4a9e58": {
      "model_module": "@jupyter-widgets/controls",
      "model_module_version": "2.0.0",
      "model_name": "ProgressStyleModel",
      "state": {
       "description_width": ""
      }
     },
     "db851fd0b6704e5789bcfc7a11c62a4e": {
      "model_module": "@jupyter-widgets/controls",
      "model_module_version": "2.0.0",
      "model_name": "StackModel",
      "state": {
       "children": [
        "IPY_MODEL_9c7b90886ee948a294154a5d3ea39e92",
        "IPY_MODEL_c25686aa27f74234a80f72e731c3389a"
       ],
       "layout": "IPY_MODEL_bcc84033733946b5989cde1fda6debbb",
       "selected_index": 1,
       "titles": [
        "",
        ""
       ]
      }
     },
     "dc0bd2efcfea491c8d1a7b99e5e4dcfc": {
      "model_module": "@jupyter-widgets/base",
      "model_module_version": "2.0.0",
      "model_name": "LayoutModel",
      "state": {}
     },
     "dc53cfd782b141d4a75f92e948bc51c3": {
      "model_module": "@jupyter-widgets/output",
      "model_module_version": "1.0.0",
      "model_name": "OutputModel",
      "state": {
       "layout": "IPY_MODEL_b3c16db874e34514a856e38ff334848a",
       "outputs": [
        {
         "data": {
          "application/vnd.jupyter.widget-view+json": {
           "model_id": "06106e5869d44a04985641fbf2694e83",
           "version_major": 2,
           "version_minor": 0
          },
          "text/plain": "VBox(children=(HBox(children=(Label(value='Column format'), Dropdown(index=1, options=('raw', 'nested'), value…"
         },
         "metadata": {},
         "output_type": "display_data"
        }
       ]
      }
     },
     "dd669ba9d0ba4e3c806d26bea3485d44": {
      "model_module": "@jupyter-widgets/controls",
      "model_module_version": "2.0.0",
      "model_name": "DropdownModel",
      "state": {
       "_options_labels": [
        "raw",
        "nested"
       ],
       "index": 1,
       "layout": "IPY_MODEL_ab66202be821422d89830131dbf2b313",
       "style": "IPY_MODEL_6a810947168f446aa61d3c9da73d64e2"
      }
     },
     "dd94a8781a82404191be45d553756029": {
      "model_module": "@jupyter-widgets/controls",
      "model_module_version": "2.0.0",
      "model_name": "ProgressStyleModel",
      "state": {
       "description_width": ""
      }
     },
     "de758b1cc4cc4018a3701dccf34e85bc": {
      "model_module": "@jupyter-widgets/controls",
      "model_module_version": "2.0.0",
      "model_name": "HTMLModel",
      "state": {
       "layout": "IPY_MODEL_f4e85c457a624d1585f12dc4699f5b96",
       "style": "IPY_MODEL_5f758d422b50487cb47a020068151174",
       "value": "100%"
      }
     },
     "deeecc5324c34e6187847840b98059b3": {
      "model_module": "@jupyter-widgets/controls",
      "model_module_version": "2.0.0",
      "model_name": "StackModel",
      "state": {
       "children": [
        "IPY_MODEL_e9f1bb86fde54d7680a43b52cd807224",
        "IPY_MODEL_dae4d21aa5bd4fe19b853ad112df4cd4"
       ],
       "layout": "IPY_MODEL_aaa0b5df76384dd9a20228cfe89ba778",
       "selected_index": 1,
       "titles": [
        "",
        ""
       ]
      }
     },
     "def5ab4f8a2a43a98397c9c622c526db": {
      "model_module": "@jupyter-widgets/base",
      "model_module_version": "2.0.0",
      "model_name": "LayoutModel",
      "state": {}
     },
     "df33287069c7407ba77be27b4deb131d": {
      "model_module": "@jupyter-widgets/base",
      "model_module_version": "2.0.0",
      "model_name": "LayoutModel",
      "state": {}
     },
     "e01c1b0d50d04d15a66782c2e1279fe4": {
      "model_module": "@jupyter-widgets/output",
      "model_module_version": "1.0.0",
      "model_name": "OutputModel",
      "state": {
       "layout": "IPY_MODEL_df33287069c7407ba77be27b4deb131d",
       "outputs": [
        {
         "data": {
          "text/html": "<div>\n<style scoped>\n    .dataframe tbody tr th:only-of-type {\n        vertical-align: middle;\n    }\n\n    .dataframe tbody tr th {\n        vertical-align: top;\n    }\n\n    .dataframe thead th {\n        text-align: right;\n    }\n</style>\n<table border=\"1\" class=\"dataframe\">\n  <thead>\n    <tr style=\"text-align: right;\">\n      <th></th>\n      <th>width</th>\n      <th>height</th>\n      <th>relative_path</th>\n      <th>type</th>\n      <th>tags.time</th>\n      <th>tags.weather</th>\n    </tr>\n    <tr>\n      <th>id</th>\n      <th></th>\n      <th></th>\n      <th></th>\n      <th></th>\n      <th></th>\n      <th></th>\n    </tr>\n  </thead>\n  <tbody>\n    <tr>\n      <th>6091</th>\n      <td>480</td>\n      <td>640</td>\n      <td>image1.jpg</td>\n      <td>.jpg</td>\n      <td>night</td>\n      <td>rainy</td>\n    </tr>\n    <tr>\n      <th>10395</th>\n      <td>500</td>\n      <td>476</td>\n      <td>image2.jpg</td>\n      <td>.jpg</td>\n      <td>night</td>\n      <td>None</td>\n    </tr>\n  </tbody>\n</table>\n</div>",
          "text/plain": "       width  height relative_path  type tags.time tags.weather\nid                                                             \n6091     480     640    image1.jpg  .jpg     night        rainy\n10395    500     476    image2.jpg  .jpg     night         None"
         },
         "metadata": {},
         "output_type": "display_data"
        }
       ]
      }
     },
     "e06df622bad0467593bac76719fc642d": {
      "model_module": "@jupyter-widgets/controls",
      "model_module_version": "2.0.0",
      "model_name": "HBoxModel",
      "state": {
       "children": [
        "IPY_MODEL_c81505a3f4d243f78d00ccd5557fac63",
        "IPY_MODEL_a7395fb1f98d4cb6b4630d6a42bd5226"
       ],
       "layout": "IPY_MODEL_3120fe66b6c641c8999f76c16fd05756"
      }
     },
     "e15e0614e8d1497b8c5690ec5d8973e7": {
      "model_module": "@jupyter-widgets/output",
      "model_module_version": "1.0.0",
      "model_name": "OutputModel",
      "state": {
       "layout": "IPY_MODEL_2543f405ad23473197be5e23f6f11a7b",
       "outputs": [
        {
         "data": {
          "text/html": "<div>\n<style scoped>\n    .dataframe tbody tr th:only-of-type {\n        vertical-align: middle;\n    }\n\n    .dataframe tbody tr th {\n        vertical-align: top;\n    }\n\n    .dataframe thead th {\n        text-align: right;\n    }\n</style>\n<table border=\"1\" class=\"dataframe\">\n  <thead>\n    <tr style=\"text-align: right;\">\n      <th></th>\n      <th>width</th>\n      <th>height</th>\n      <th>relative_path</th>\n      <th>type</th>\n      <th>tags.time</th>\n      <th>tags.weather</th>\n    </tr>\n    <tr>\n      <th>id</th>\n      <th></th>\n      <th></th>\n      <th></th>\n      <th></th>\n      <th></th>\n      <th></th>\n    </tr>\n  </thead>\n  <tbody>\n    <tr>\n      <th>6091</th>\n      <td>480</td>\n      <td>640</td>\n      <td>image1.jpg</td>\n      <td>.jpg</td>\n      <td>night</td>\n      <td>rainy</td>\n    </tr>\n    <tr>\n      <th>10395</th>\n      <td>500</td>\n      <td>476</td>\n      <td>image2.jpg</td>\n      <td>.jpg</td>\n      <td>night</td>\n      <td>None</td>\n    </tr>\n  </tbody>\n</table>\n</div>",
          "text/plain": "       width  height relative_path  type tags.time tags.weather\nid                                                             \n6091     480     640    image1.jpg  .jpg     night        rainy\n10395    500     476    image2.jpg  .jpg     night         None"
         },
         "metadata": {},
         "output_type": "display_data"
        }
       ]
      }
     },
     "e16b4895dd524818b955204726fec9e2": {
      "model_module": "@jupyter-widgets/base",
      "model_module_version": "2.0.0",
      "model_name": "LayoutModel",
      "state": {}
     },
     "e21c88a692f54f33830adebe16aa5ef0": {
      "model_module": "@jupyter-widgets/controls",
      "model_module_version": "2.0.0",
      "model_name": "TabModel",
      "state": {
       "children": [
        "IPY_MODEL_77ffd6e2f1bc4c2ca26ed7b15e9136f6",
        "IPY_MODEL_ff03419f453e4ca7a76e9cc16e9ddd61",
        "IPY_MODEL_ceaffed9d3e44fd78f344c3cd32ad486"
       ],
       "layout": "IPY_MODEL_58aa8aa6857b44ecbc8cef273fd83aa3",
       "selected_index": 0,
       "titles": [
        "Images",
        "Annotations",
        "Label Map"
       ]
      }
     },
     "e24d6e6435684922a62eb33e98777b77": {
      "model_module": "@jupyter-widgets/controls",
      "model_module_version": "2.0.0",
      "model_name": "HTMLStyleModel",
      "state": {
       "description_width": "",
       "font_size": null,
       "text_color": null
      }
     },
     "e2769417c5bb4314adb24f96d854184f": {
      "model_module": "@jupyter-widgets/controls",
      "model_module_version": "2.0.0",
      "model_name": "HTMLStyleModel",
      "state": {
       "description_width": "",
       "font_size": null,
       "text_color": null
      }
     },
     "e347e872a797477f98db0b528c9e9b10": {
      "model_module": "@jupyter-widgets/controls",
      "model_module_version": "2.0.0",
      "model_name": "DropdownModel",
      "state": {
       "_options_labels": [
        "raw",
        "nested"
       ],
       "index": 1,
       "layout": "IPY_MODEL_b32ff3c2925c434da42e07f7973f2050",
       "style": "IPY_MODEL_fb449840c00c41b0b32e4d996a49cb3b"
      }
     },
     "e4a6fe4d8ea846e2b8637c28ae106b46": {
      "model_module": "@jupyter-widgets/base",
      "model_module_version": "2.0.0",
      "model_name": "LayoutModel",
      "state": {}
     },
     "e4d0a4ea24d742788d02abca5e82afb2": {
      "model_module": "@jupyter-widgets/output",
      "model_module_version": "1.0.0",
      "model_name": "OutputModel",
      "state": {
       "layout": "IPY_MODEL_8d009078a1a544c38ce73a1a0582f081",
       "outputs": [
        {
         "data": {
          "text/html": "<div>\n<style scoped>\n    .dataframe tbody tr th:only-of-type {\n        vertical-align: middle;\n    }\n\n    .dataframe tbody tr th {\n        vertical-align: top;\n    }\n\n    .dataframe thead th {\n        text-align: right;\n    }\n</style>\n<table border=\"1\" class=\"dataframe\">\n  <thead>\n    <tr style=\"text-align: right;\">\n      <th></th>\n      <th>image_id</th>\n      <th>category_str</th>\n      <th>category_id</th>\n      <th>box_x_min</th>\n      <th>box_y_min</th>\n      <th>box_width</th>\n      <th>box_height</th>\n      <th>area</th>\n      <th>attributes.colors</th>\n      <th>attributes.occluded</th>\n      <th>attributes.position</th>\n    </tr>\n    <tr>\n      <th>id</th>\n      <th></th>\n      <th></th>\n      <th></th>\n      <th></th>\n      <th></th>\n      <th></th>\n      <th></th>\n      <th></th>\n      <th></th>\n      <th></th>\n      <th></th>\n    </tr>\n  </thead>\n  <tbody>\n    <tr>\n      <th>269791</th>\n      <td>6091</td>\n      <td>stop sign</td>\n      <td>13</td>\n      <td>100.22</td>\n      <td>117.54</td>\n      <td>253.43</td>\n      <td>274.90</td>\n      <td>46726.4303</td>\n      <td>[red, white]</td>\n      <td>True</td>\n      <td>None</td>\n    </tr>\n    <tr>\n      <th>1161234</th>\n      <td>10395</td>\n      <td>teddy bear</td>\n      <td>88</td>\n      <td>49.19</td>\n      <td>66.20</td>\n      <td>378.97</td>\n      <td>379.68</td>\n      <td>84587.4391</td>\n      <td>[grey]</td>\n      <td>None</td>\n      <td>[front]</td>\n    </tr>\n  </tbody>\n</table>\n</div>",
          "text/plain": "         image_id category_str  category_id  box_x_min  box_y_min  box_width  \\\nid                                                                             \n269791       6091    stop sign           13     100.22     117.54     253.43   \n1161234     10395   teddy bear           88      49.19      66.20     378.97   \n\n         box_height        area attributes.colors attributes.occluded  \\\nid                                                                      \n269791       274.90  46726.4303      [red, white]                True   \n1161234      379.68  84587.4391            [grey]                None   \n\n        attributes.position  \nid                           \n269791                 None  \n1161234             [front]  "
         },
         "metadata": {},
         "output_type": "display_data"
        }
       ]
      }
     },
     "e51d9fd0953646c8a0d8fa4a747239d8": {
      "model_module": "@jupyter-widgets/base",
      "model_module_version": "2.0.0",
      "model_name": "LayoutModel",
      "state": {}
     },
     "e53847a4f6e04c7aae85f73a42bdeea4": {
      "model_module": "@jupyter-widgets/output",
      "model_module_version": "1.0.0",
      "model_name": "OutputModel",
      "state": {
       "layout": "IPY_MODEL_59904e29a9e649f2a2502048835b64b8",
       "outputs": [
        {
         "data": {
          "text/html": "<style type=\"text/css\">\n#T_c9d0d th {\n  border-right: 1px solid #F0F0F0;\n}\n</style>\n<table id=\"T_c9d0d\">\n  <thead>\n    <tr>\n      <th class=\"blank level0\" >&nbsp;</th>\n      <th id=\"T_c9d0d_level0_col0\" class=\"col_heading level0 col0\" >image_id</th>\n      <th id=\"T_c9d0d_level0_col1\" class=\"col_heading level0 col1\" >category_str</th>\n      <th id=\"T_c9d0d_level0_col2\" class=\"col_heading level0 col2\" >category_id</th>\n      <th id=\"T_c9d0d_level0_col3\" class=\"col_heading level0 col3\" >box_x_min</th>\n      <th id=\"T_c9d0d_level0_col4\" class=\"col_heading level0 col4\" >box_y_min</th>\n      <th id=\"T_c9d0d_level0_col5\" class=\"col_heading level0 col5\" >box_width</th>\n      <th id=\"T_c9d0d_level0_col6\" class=\"col_heading level0 col6\" >box_height</th>\n      <th id=\"T_c9d0d_level0_col7\" class=\"col_heading level0 col7\" >area</th>\n      <th id=\"T_c9d0d_level0_col8\" class=\"col_heading level0 col8\" colspan=\"19\">attributes</th>\n    </tr>\n    <tr>\n      <th class=\"blank level1\" >&nbsp;</th>\n      <th id=\"T_c9d0d_level1_col0\" class=\"col_heading level1 col0\" ></th>\n      <th id=\"T_c9d0d_level1_col1\" class=\"col_heading level1 col1\" ></th>\n      <th id=\"T_c9d0d_level1_col2\" class=\"col_heading level1 col2\" ></th>\n      <th id=\"T_c9d0d_level1_col3\" class=\"col_heading level1 col3\" ></th>\n      <th id=\"T_c9d0d_level1_col4\" class=\"col_heading level1 col4\" ></th>\n      <th id=\"T_c9d0d_level1_col5\" class=\"col_heading level1 col5\" ></th>\n      <th id=\"T_c9d0d_level1_col6\" class=\"col_heading level1 col6\" ></th>\n      <th id=\"T_c9d0d_level1_col7\" class=\"col_heading level1 col7\" ></th>\n      <th id=\"T_c9d0d_level1_col8\" class=\"col_heading level1 col8\" >occluded</th>\n      <th id=\"T_c9d0d_level1_col9\" class=\"col_heading level1 col9\" colspan=\"13\">colors</th>\n      <th id=\"T_c9d0d_level1_col22\" class=\"col_heading level1 col22\" colspan=\"5\">position</th>\n    </tr>\n    <tr>\n      <th class=\"blank level2\" >&nbsp;</th>\n      <th id=\"T_c9d0d_level2_col0\" class=\"col_heading level2 col0\" ></th>\n      <th id=\"T_c9d0d_level2_col1\" class=\"col_heading level2 col1\" ></th>\n      <th id=\"T_c9d0d_level2_col2\" class=\"col_heading level2 col2\" ></th>\n      <th id=\"T_c9d0d_level2_col3\" class=\"col_heading level2 col3\" ></th>\n      <th id=\"T_c9d0d_level2_col4\" class=\"col_heading level2 col4\" ></th>\n      <th id=\"T_c9d0d_level2_col5\" class=\"col_heading level2 col5\" ></th>\n      <th id=\"T_c9d0d_level2_col6\" class=\"col_heading level2 col6\" ></th>\n      <th id=\"T_c9d0d_level2_col7\" class=\"col_heading level2 col7\" ></th>\n      <th id=\"T_c9d0d_level2_col8\" class=\"col_heading level2 col8\" ></th>\n      <th id=\"T_c9d0d_level2_col9\" class=\"col_heading level2 col9\" >beige</th>\n      <th id=\"T_c9d0d_level2_col10\" class=\"col_heading level2 col10\" >black</th>\n      <th id=\"T_c9d0d_level2_col11\" class=\"col_heading level2 col11\" >blue</th>\n      <th id=\"T_c9d0d_level2_col12\" class=\"col_heading level2 col12\" >brown</th>\n      <th id=\"T_c9d0d_level2_col13\" class=\"col_heading level2 col13\" >cyan</th>\n      <th id=\"T_c9d0d_level2_col14\" class=\"col_heading level2 col14\" >green</th>\n      <th id=\"T_c9d0d_level2_col15\" class=\"col_heading level2 col15\" >grey</th>\n      <th id=\"T_c9d0d_level2_col16\" class=\"col_heading level2 col16\" >orange</th>\n      <th id=\"T_c9d0d_level2_col17\" class=\"col_heading level2 col17\" >pink</th>\n      <th id=\"T_c9d0d_level2_col18\" class=\"col_heading level2 col18\" >purple</th>\n      <th id=\"T_c9d0d_level2_col19\" class=\"col_heading level2 col19\" >red</th>\n      <th id=\"T_c9d0d_level2_col20\" class=\"col_heading level2 col20\" >white</th>\n      <th id=\"T_c9d0d_level2_col21\" class=\"col_heading level2 col21\" >yellow</th>\n      <th id=\"T_c9d0d_level2_col22\" class=\"col_heading level2 col22\" >back</th>\n      <th id=\"T_c9d0d_level2_col23\" class=\"col_heading level2 col23\" >front</th>\n      <th id=\"T_c9d0d_level2_col24\" class=\"col_heading level2 col24\" >side</th>\n      <th id=\"T_c9d0d_level2_col25\" class=\"col_heading level2 col25\" >top</th>\n      <th id=\"T_c9d0d_level2_col26\" class=\"col_heading level2 col26\" >unknown</th>\n    </tr>\n    <tr>\n      <th class=\"index_name level0\" >id</th>\n      <th class=\"blank col0\" >&nbsp;</th>\n      <th class=\"blank col1\" >&nbsp;</th>\n      <th class=\"blank col2\" >&nbsp;</th>\n      <th class=\"blank col3\" >&nbsp;</th>\n      <th class=\"blank col4\" >&nbsp;</th>\n      <th class=\"blank col5\" >&nbsp;</th>\n      <th class=\"blank col6\" >&nbsp;</th>\n      <th class=\"blank col7\" >&nbsp;</th>\n      <th class=\"blank col8\" >&nbsp;</th>\n      <th class=\"blank col9\" >&nbsp;</th>\n      <th class=\"blank col10\" >&nbsp;</th>\n      <th class=\"blank col11\" >&nbsp;</th>\n      <th class=\"blank col12\" >&nbsp;</th>\n      <th class=\"blank col13\" >&nbsp;</th>\n      <th class=\"blank col14\" >&nbsp;</th>\n      <th class=\"blank col15\" >&nbsp;</th>\n      <th class=\"blank col16\" >&nbsp;</th>\n      <th class=\"blank col17\" >&nbsp;</th>\n      <th class=\"blank col18\" >&nbsp;</th>\n      <th class=\"blank col19\" >&nbsp;</th>\n      <th class=\"blank col20\" >&nbsp;</th>\n      <th class=\"blank col21\" >&nbsp;</th>\n      <th class=\"blank col22\" >&nbsp;</th>\n      <th class=\"blank col23\" >&nbsp;</th>\n      <th class=\"blank col24\" >&nbsp;</th>\n      <th class=\"blank col25\" >&nbsp;</th>\n      <th class=\"blank col26\" >&nbsp;</th>\n    </tr>\n  </thead>\n  <tbody>\n    <tr>\n      <th id=\"T_c9d0d_level0_row0\" class=\"row_heading level0 row0\" >269791</th>\n      <td id=\"T_c9d0d_row0_col0\" class=\"data row0 col0\" >6091</td>\n      <td id=\"T_c9d0d_row0_col1\" class=\"data row0 col1\" >stop sign</td>\n      <td id=\"T_c9d0d_row0_col2\" class=\"data row0 col2\" >13</td>\n      <td id=\"T_c9d0d_row0_col3\" class=\"data row0 col3\" >100.220000</td>\n      <td id=\"T_c9d0d_row0_col4\" class=\"data row0 col4\" >117.540000</td>\n      <td id=\"T_c9d0d_row0_col5\" class=\"data row0 col5\" >253.430000</td>\n      <td id=\"T_c9d0d_row0_col6\" class=\"data row0 col6\" >274.900000</td>\n      <td id=\"T_c9d0d_row0_col7\" class=\"data row0 col7\" >46726.430300</td>\n      <td id=\"T_c9d0d_row0_col8\" class=\"data row0 col8\" >True</td>\n      <td id=\"T_c9d0d_row0_col9\" class=\"data row0 col9\" >False</td>\n      <td id=\"T_c9d0d_row0_col10\" class=\"data row0 col10\" >False</td>\n      <td id=\"T_c9d0d_row0_col11\" class=\"data row0 col11\" >False</td>\n      <td id=\"T_c9d0d_row0_col12\" class=\"data row0 col12\" >False</td>\n      <td id=\"T_c9d0d_row0_col13\" class=\"data row0 col13\" >False</td>\n      <td id=\"T_c9d0d_row0_col14\" class=\"data row0 col14\" >False</td>\n      <td id=\"T_c9d0d_row0_col15\" class=\"data row0 col15\" >False</td>\n      <td id=\"T_c9d0d_row0_col16\" class=\"data row0 col16\" >False</td>\n      <td id=\"T_c9d0d_row0_col17\" class=\"data row0 col17\" >False</td>\n      <td id=\"T_c9d0d_row0_col18\" class=\"data row0 col18\" >False</td>\n      <td id=\"T_c9d0d_row0_col19\" class=\"data row0 col19\" >True</td>\n      <td id=\"T_c9d0d_row0_col20\" class=\"data row0 col20\" >True</td>\n      <td id=\"T_c9d0d_row0_col21\" class=\"data row0 col21\" >False</td>\n      <td id=\"T_c9d0d_row0_col22\" class=\"data row0 col22\" >False</td>\n      <td id=\"T_c9d0d_row0_col23\" class=\"data row0 col23\" >False</td>\n      <td id=\"T_c9d0d_row0_col24\" class=\"data row0 col24\" >False</td>\n      <td id=\"T_c9d0d_row0_col25\" class=\"data row0 col25\" >False</td>\n      <td id=\"T_c9d0d_row0_col26\" class=\"data row0 col26\" >False</td>\n    </tr>\n    <tr>\n      <th id=\"T_c9d0d_level0_row1\" class=\"row_heading level0 row1\" >1161234</th>\n      <td id=\"T_c9d0d_row1_col0\" class=\"data row1 col0\" >10395</td>\n      <td id=\"T_c9d0d_row1_col1\" class=\"data row1 col1\" >teddy bear</td>\n      <td id=\"T_c9d0d_row1_col2\" class=\"data row1 col2\" >88</td>\n      <td id=\"T_c9d0d_row1_col3\" class=\"data row1 col3\" >49.190000</td>\n      <td id=\"T_c9d0d_row1_col4\" class=\"data row1 col4\" >66.200000</td>\n      <td id=\"T_c9d0d_row1_col5\" class=\"data row1 col5\" >378.970000</td>\n      <td id=\"T_c9d0d_row1_col6\" class=\"data row1 col6\" >379.680000</td>\n      <td id=\"T_c9d0d_row1_col7\" class=\"data row1 col7\" >84587.439100</td>\n      <td id=\"T_c9d0d_row1_col8\" class=\"data row1 col8\" >None</td>\n      <td id=\"T_c9d0d_row1_col9\" class=\"data row1 col9\" >False</td>\n      <td id=\"T_c9d0d_row1_col10\" class=\"data row1 col10\" >False</td>\n      <td id=\"T_c9d0d_row1_col11\" class=\"data row1 col11\" >False</td>\n      <td id=\"T_c9d0d_row1_col12\" class=\"data row1 col12\" >False</td>\n      <td id=\"T_c9d0d_row1_col13\" class=\"data row1 col13\" >False</td>\n      <td id=\"T_c9d0d_row1_col14\" class=\"data row1 col14\" >False</td>\n      <td id=\"T_c9d0d_row1_col15\" class=\"data row1 col15\" >True</td>\n      <td id=\"T_c9d0d_row1_col16\" class=\"data row1 col16\" >False</td>\n      <td id=\"T_c9d0d_row1_col17\" class=\"data row1 col17\" >False</td>\n      <td id=\"T_c9d0d_row1_col18\" class=\"data row1 col18\" >False</td>\n      <td id=\"T_c9d0d_row1_col19\" class=\"data row1 col19\" >False</td>\n      <td id=\"T_c9d0d_row1_col20\" class=\"data row1 col20\" >False</td>\n      <td id=\"T_c9d0d_row1_col21\" class=\"data row1 col21\" >False</td>\n      <td id=\"T_c9d0d_row1_col22\" class=\"data row1 col22\" >False</td>\n      <td id=\"T_c9d0d_row1_col23\" class=\"data row1 col23\" >True</td>\n      <td id=\"T_c9d0d_row1_col24\" class=\"data row1 col24\" >False</td>\n      <td id=\"T_c9d0d_row1_col25\" class=\"data row1 col25\" >False</td>\n      <td id=\"T_c9d0d_row1_col26\" class=\"data row1 col26\" >False</td>\n    </tr>\n  </tbody>\n</table>\n",
          "text/plain": "<pandas.io.formats.style.Styler at 0x17f437390>"
         },
         "metadata": {},
         "output_type": "display_data"
        }
       ]
      }
     },
     "e623514fc2d4408b876f5b89de2ebbf2": {
      "model_module": "@jupyter-widgets/base",
      "model_module_version": "2.0.0",
      "model_name": "LayoutModel",
      "state": {}
     },
     "e673e4911c8849069b120b9ae465f075": {
      "model_module": "@jupyter-widgets/base",
      "model_module_version": "2.0.0",
      "model_name": "LayoutModel",
      "state": {}
     },
     "e6841b8a15034f088e07288a0a12685c": {
      "model_module": "@jupyter-widgets/controls",
      "model_module_version": "2.0.0",
      "model_name": "VBoxModel",
      "state": {
       "children": [
        "IPY_MODEL_95717e222ce64822ba73164ff52adf26",
        "IPY_MODEL_076f72a208324224a2c059c30afe2087"
       ],
       "layout": "IPY_MODEL_27e3269d2c21476481604c21046075dc"
      }
     },
     "e88a1dfd998f4ca3aa583863f7f1aef2": {
      "model_module": "@jupyter-widgets/base",
      "model_module_version": "2.0.0",
      "model_name": "LayoutModel",
      "state": {}
     },
     "e89f8bf1073d4b888056d2de7cbef915": {
      "model_module": "@jupyter-widgets/base",
      "model_module_version": "2.0.0",
      "model_name": "LayoutModel",
      "state": {}
     },
     "e9c406676f114897812eab475214e9ef": {
      "model_module": "@jupyter-widgets/base",
      "model_module_version": "2.0.0",
      "model_name": "LayoutModel",
      "state": {}
     },
     "e9f1bb86fde54d7680a43b52cd807224": {
      "model_module": "@jupyter-widgets/output",
      "model_module_version": "1.0.0",
      "model_name": "OutputModel",
      "state": {
       "layout": "IPY_MODEL_681b555d2441409dac189b582c8d7dfa",
       "outputs": [
        {
         "data": {
          "text/html": "<div>\n<style scoped>\n    .dataframe tbody tr th:only-of-type {\n        vertical-align: middle;\n    }\n\n    .dataframe tbody tr th {\n        vertical-align: top;\n    }\n\n    .dataframe thead th {\n        text-align: right;\n    }\n</style>\n<table border=\"1\" class=\"dataframe\">\n  <thead>\n    <tr style=\"text-align: right;\">\n      <th></th>\n      <th>image_id</th>\n      <th>category_str</th>\n      <th>category_id</th>\n      <th>box_x_min</th>\n      <th>box_y_min</th>\n      <th>box_width</th>\n      <th>box_height</th>\n      <th>area</th>\n      <th>attributes.occluded</th>\n      <th>attributes.position</th>\n      <th>attributes.colors</th>\n    </tr>\n    <tr>\n      <th>id</th>\n      <th></th>\n      <th></th>\n      <th></th>\n      <th></th>\n      <th></th>\n      <th></th>\n      <th></th>\n      <th></th>\n      <th></th>\n      <th></th>\n      <th></th>\n    </tr>\n  </thead>\n  <tbody>\n    <tr>\n      <th>269791</th>\n      <td>6091</td>\n      <td>stop sign</td>\n      <td>13</td>\n      <td>100.22</td>\n      <td>117.54</td>\n      <td>253.43</td>\n      <td>274.9</td>\n      <td>46726.4303</td>\n      <td>True</td>\n      <td>None</td>\n      <td>[red, white]</td>\n    </tr>\n  </tbody>\n</table>\n</div>",
          "text/plain": "        image_id category_str  category_id  box_x_min  box_y_min  box_width  \\\nid                                                                            \n269791      6091    stop sign           13     100.22     117.54     253.43   \n\n        box_height        area attributes.occluded attributes.position  \\\nid                                                                       \n269791       274.9  46726.4303                True                None   \n\n       attributes.colors  \nid                        \n269791      [red, white]  "
         },
         "metadata": {},
         "output_type": "display_data"
        }
       ]
      }
     },
     "eabca0b6e3c14eb8bde18bdcda0e505e": {
      "model_module": "@jupyter-widgets/base",
      "model_module_version": "2.0.0",
      "model_name": "LayoutModel",
      "state": {}
     },
     "eabe4dbbc4b04b6d91e436525c26ecb9": {
      "model_module": "@jupyter-widgets/controls",
      "model_module_version": "2.0.0",
      "model_name": "DropdownModel",
      "state": {
       "_options_labels": [
        "raw",
        "nested"
       ],
       "index": 0,
       "layout": "IPY_MODEL_860ee4ddf35947fda3cba12039539da8",
       "style": "IPY_MODEL_0129bf9898c641fe89b5da4c38a0e215"
      }
     },
     "eb736cae76ff48348003d507fbe34373": {
      "model_module": "@jupyter-widgets/base",
      "model_module_version": "2.0.0",
      "model_name": "LayoutModel",
      "state": {}
     },
     "eb7695fed160458a824d2a9d9e12b1a1": {
      "model_module": "@jupyter-widgets/controls",
      "model_module_version": "2.0.0",
      "model_name": "StackModel",
      "state": {
       "children": [
        "IPY_MODEL_15fd75c8e40643b2a02b60e6a771cfe5",
        "IPY_MODEL_02af80bce8b647dabc7e9cef2fdfb1fd"
       ],
       "layout": "IPY_MODEL_27b959666fe640798afefcfff3aa2b26",
       "selected_index": 0,
       "titles": [
        "",
        ""
       ]
      }
     },
     "eb7933fb53e148babebe9872a2ec070e": {
      "model_module": "@jupyter-widgets/controls",
      "model_module_version": "2.0.0",
      "model_name": "LinkModel",
      "state": {
       "source": [
        "IPY_MODEL_47930ec638f54567a0ed33f04d324e45",
        "index"
       ],
       "target": [
        "IPY_MODEL_968a9655aad44b93a738414f651ccdee",
        "selected_index"
       ]
      }
     },
     "eb8ac3f329e740bcb6c99656419d0153": {
      "model_module": "@jupyter-widgets/base",
      "model_module_version": "2.0.0",
      "model_name": "LayoutModel",
      "state": {}
     },
     "eb8fe446efe847e0abfb878b5c30b043": {
      "model_module": "@jupyter-widgets/controls",
      "model_module_version": "2.0.0",
      "model_name": "StackModel",
      "state": {
       "children": [
        "IPY_MODEL_fc79bc66d5724777be83e3aef267de40",
        "IPY_MODEL_ef6fc80887974d588e18ccc8f5155d45"
       ],
       "layout": "IPY_MODEL_4d2a9e7349834459bb5412a1049e828d",
       "selected_index": 1,
       "titles": [
        "",
        ""
       ]
      }
     },
     "ee138ef164834f71a83526d9cf8c0214": {
      "model_module": "@jupyter-widgets/controls",
      "model_module_version": "2.0.0",
      "model_name": "HBoxModel",
      "state": {
       "children": [
        "IPY_MODEL_206b0dc0effa4b82b8edde6f926855d8",
        "IPY_MODEL_6ea0b2f306fa4e78bfede1968aca8d1a"
       ],
       "layout": "IPY_MODEL_62fa72d6da0c4eaa84f200d0265e9871"
      }
     },
     "ef60d87bb03c4bf8b0f2bde22ca3317a": {
      "model_module": "@jupyter-widgets/base",
      "model_module_version": "2.0.0",
      "model_name": "LayoutModel",
      "state": {}
     },
     "ef6fc80887974d588e18ccc8f5155d45": {
      "model_module": "@jupyter-widgets/output",
      "model_module_version": "1.0.0",
      "model_name": "OutputModel",
      "state": {
       "layout": "IPY_MODEL_572fd8564f3d45abb37abb6835dcd4d6",
       "outputs": [
        {
         "data": {
          "text/html": "<style type=\"text/css\">\n#T_c43a8 th {\n  border-right: 1px solid #F0F0F0;\n}\n</style>\n<table id=\"T_c43a8\">\n  <thead>\n    <tr>\n      <th class=\"blank level0\" >&nbsp;</th>\n      <th id=\"T_c43a8_level0_col0\" class=\"col_heading level0 col0\" >width</th>\n      <th id=\"T_c43a8_level0_col1\" class=\"col_heading level0 col1\" >height</th>\n      <th id=\"T_c43a8_level0_col2\" class=\"col_heading level0 col2\" >relative_path</th>\n      <th id=\"T_c43a8_level0_col3\" class=\"col_heading level0 col3\" >type</th>\n      <th id=\"T_c43a8_level0_col4\" class=\"col_heading level0 col4\" colspan=\"2\">tags</th>\n    </tr>\n    <tr>\n      <th class=\"blank level1\" >&nbsp;</th>\n      <th id=\"T_c43a8_level1_col0\" class=\"col_heading level1 col0\" ></th>\n      <th id=\"T_c43a8_level1_col1\" class=\"col_heading level1 col1\" ></th>\n      <th id=\"T_c43a8_level1_col2\" class=\"col_heading level1 col2\" ></th>\n      <th id=\"T_c43a8_level1_col3\" class=\"col_heading level1 col3\" ></th>\n      <th id=\"T_c43a8_level1_col4\" class=\"col_heading level1 col4\" >time</th>\n      <th id=\"T_c43a8_level1_col5\" class=\"col_heading level1 col5\" >weather</th>\n    </tr>\n    <tr>\n      <th class=\"index_name level0\" >id</th>\n      <th class=\"blank col0\" >&nbsp;</th>\n      <th class=\"blank col1\" >&nbsp;</th>\n      <th class=\"blank col2\" >&nbsp;</th>\n      <th class=\"blank col3\" >&nbsp;</th>\n      <th class=\"blank col4\" >&nbsp;</th>\n      <th class=\"blank col5\" >&nbsp;</th>\n    </tr>\n  </thead>\n  <tbody>\n    <tr>\n      <th id=\"T_c43a8_level0_row0\" class=\"row_heading level0 row0\" >6091</th>\n      <td id=\"T_c43a8_row0_col0\" class=\"data row0 col0\" >480</td>\n      <td id=\"T_c43a8_row0_col1\" class=\"data row0 col1\" >640</td>\n      <td id=\"T_c43a8_row0_col2\" class=\"data row0 col2\" >image1.jpg</td>\n      <td id=\"T_c43a8_row0_col3\" class=\"data row0 col3\" >.jpg</td>\n      <td id=\"T_c43a8_row0_col4\" class=\"data row0 col4\" >night</td>\n      <td id=\"T_c43a8_row0_col5\" class=\"data row0 col5\" >rainy</td>\n    </tr>\n    <tr>\n      <th id=\"T_c43a8_level0_row1\" class=\"row_heading level0 row1\" >10395</th>\n      <td id=\"T_c43a8_row1_col0\" class=\"data row1 col0\" >500</td>\n      <td id=\"T_c43a8_row1_col1\" class=\"data row1 col1\" >476</td>\n      <td id=\"T_c43a8_row1_col2\" class=\"data row1 col2\" >image2.jpg</td>\n      <td id=\"T_c43a8_row1_col3\" class=\"data row1 col3\" >.jpg</td>\n      <td id=\"T_c43a8_row1_col4\" class=\"data row1 col4\" >night</td>\n      <td id=\"T_c43a8_row1_col5\" class=\"data row1 col5\" >None</td>\n    </tr>\n  </tbody>\n</table>\n",
          "text/plain": "<pandas.io.formats.style.Styler at 0x3021ce010>"
         },
         "metadata": {},
         "output_type": "display_data"
        }
       ]
      }
     },
     "f01491943e2c4cb2a9f6f957a64d2190": {
      "model_module": "@jupyter-widgets/base",
      "model_module_version": "2.0.0",
      "model_name": "LayoutModel",
      "state": {}
     },
     "f029474e3c07436dac415e511f4ce22c": {
      "model_module": "@jupyter-widgets/controls",
      "model_module_version": "2.0.0",
      "model_name": "LinkModel",
      "state": {
       "source": [
        "IPY_MODEL_102523b7282d445cbf63ed9a47263f26",
        "index"
       ],
       "target": [
        "IPY_MODEL_702d869bb364435e93b918e02477e2e6",
        "selected_index"
       ]
      }
     },
     "f03fc87d9a5a45278368e3a4faa783e5": {
      "model_module": "@jupyter-widgets/controls",
      "model_module_version": "2.0.0",
      "model_name": "VBoxModel",
      "state": {
       "children": [
        "IPY_MODEL_a571ca325c534c68851fcb9fdfe808da",
        "IPY_MODEL_fa36a7b34d3240338a38f0137ba893ca"
       ],
       "layout": "IPY_MODEL_23f555c6d17944849ad0d2bb303cb735"
      }
     },
     "f13e2b5ef9fb4f549fafacab5a7b04c5": {
      "model_module": "@jupyter-widgets/base",
      "model_module_version": "2.0.0",
      "model_name": "LayoutModel",
      "state": {}
     },
     "f175e4afc7444d56abc921d8bfcd9c3c": {
      "model_module": "@jupyter-widgets/controls",
      "model_module_version": "2.0.0",
      "model_name": "LabelStyleModel",
      "state": {
       "description_width": "",
       "font_family": null,
       "font_size": null,
       "font_style": null,
       "font_variant": null,
       "font_weight": null,
       "text_color": null,
       "text_decoration": null
      }
     },
     "f1b0ba1141294bba9e15896221a79a4f": {
      "model_module": "@jupyter-widgets/output",
      "model_module_version": "1.0.0",
      "model_name": "OutputModel",
      "state": {
       "layout": "IPY_MODEL_def5ab4f8a2a43a98397c9c622c526db",
       "outputs": [
        {
         "data": {
          "application/vnd.jupyter.widget-view+json": {
           "model_id": "0d427295ce8648edb6feda0b853ca625",
           "version_major": 2,
           "version_minor": 0
          },
          "text/plain": "VBox(children=(HBox(children=(Label(value='Column format'), Dropdown(index=1, options=('raw', 'nested'), value…"
         },
         "metadata": {},
         "output_type": "display_data"
        }
       ]
      }
     },
     "f2c9ff87d18345f6abbae73066dfb1f8": {
      "model_module": "@jupyter-widgets/base",
      "model_module_version": "2.0.0",
      "model_name": "LayoutModel",
      "state": {}
     },
     "f2eb1e636e4d4d048edf91d22b239d78": {
      "model_module": "@jupyter-widgets/controls",
      "model_module_version": "2.0.0",
      "model_name": "LinkModel",
      "state": {
       "source": [
        "IPY_MODEL_c2c3cf802edd41a586577f22c2b92493",
        "index"
       ],
       "target": [
        "IPY_MODEL_724c5af4f03d406083910e7e6eb68058",
        "selected_index"
       ]
      }
     },
     "f2f9a404eb7348cb8c76f0a7e6c788ed": {
      "model_module": "@jupyter-widgets/controls",
      "model_module_version": "2.0.0",
      "model_name": "StackModel",
      "state": {
       "children": [
        "IPY_MODEL_68321eff63524a33a6c5b9dc5e228532",
        "IPY_MODEL_3569328d5b5b45e5895ce8f96922bb2e"
       ],
       "layout": "IPY_MODEL_d7e4a7497e4f4952b5d4e8c7b26466d5",
       "selected_index": 1,
       "titles": [
        "",
        ""
       ]
      }
     },
     "f4e85c457a624d1585f12dc4699f5b96": {
      "model_module": "@jupyter-widgets/base",
      "model_module_version": "2.0.0",
      "model_name": "LayoutModel",
      "state": {}
     },
     "f884dfec3bd045bc87a902bca4fa8d96": {
      "model_module": "@jupyter-widgets/output",
      "model_module_version": "1.0.0",
      "model_name": "OutputModel",
      "state": {
       "layout": "IPY_MODEL_6771dbe5b2774326814610ae2c25a0a1",
       "outputs": [
        {
         "data": {
          "application/vnd.jupyter.widget-view+json": {
           "model_id": "31c5d933f8954b53aff4042d7c4a730f",
           "version_major": 2,
           "version_minor": 0
          },
          "text/plain": "VBox(children=(HBox(children=(Label(value='Column format'), Dropdown(index=1, options=('raw', 'nested'), value…"
         },
         "metadata": {},
         "output_type": "display_data"
        }
       ]
      }
     },
     "f9825da51cb24214990da926e57c1d68": {
      "model_module": "@jupyter-widgets/base",
      "model_module_version": "2.0.0",
      "model_name": "LayoutModel",
      "state": {}
     },
     "fa36a7b34d3240338a38f0137ba893ca": {
      "model_module": "@jupyter-widgets/controls",
      "model_module_version": "2.0.0",
      "model_name": "StackModel",
      "state": {
       "children": [
        "IPY_MODEL_9a48495171e04a638fd3bc035aa5e398",
        "IPY_MODEL_03a9d35fb74940abbd8857ff81848f46"
       ],
       "layout": "IPY_MODEL_171755c726fc4961b8b3a44c1c97f894",
       "selected_index": 1,
       "titles": [
        "",
        ""
       ]
      }
     },
     "fa78d33a09154ea9a6bdcd1cbf61509f": {
      "model_module": "@jupyter-widgets/controls",
      "model_module_version": "2.0.0",
      "model_name": "LabelStyleModel",
      "state": {
       "description_width": "",
       "font_family": null,
       "font_size": null,
       "font_style": null,
       "font_variant": null,
       "font_weight": null,
       "text_color": null,
       "text_decoration": null
      }
     },
     "fa97553ef182453d81ef5779123a45a5": {
      "model_module": "@jupyter-widgets/output",
      "model_module_version": "1.0.0",
      "model_name": "OutputModel",
      "state": {
       "layout": "IPY_MODEL_c3864103377843999a24250381fa600e",
       "outputs": [
        {
         "data": {
          "text/html": "<div>\n<style scoped>\n    .dataframe tbody tr th:only-of-type {\n        vertical-align: middle;\n    }\n\n    .dataframe tbody tr th {\n        vertical-align: top;\n    }\n\n    .dataframe thead th {\n        text-align: right;\n    }\n</style>\n<table border=\"1\" class=\"dataframe\">\n  <thead>\n    <tr style=\"text-align: right;\">\n      <th></th>\n      <th>category string</th>\n    </tr>\n    <tr>\n      <th>category_id</th>\n      <th></th>\n    </tr>\n  </thead>\n  <tbody>\n    <tr>\n      <th>13</th>\n      <td>stop sign</td>\n    </tr>\n    <tr>\n      <th>88</th>\n      <td>teddy bear</td>\n    </tr>\n  </tbody>\n</table>\n</div>",
          "text/plain": "            category string\ncategory_id                \n13                stop sign\n88               teddy bear"
         },
         "metadata": {},
         "output_type": "display_data"
        }
       ]
      }
     },
     "fb449840c00c41b0b32e4d996a49cb3b": {
      "model_module": "@jupyter-widgets/controls",
      "model_module_version": "2.0.0",
      "model_name": "DescriptionStyleModel",
      "state": {
       "description_width": ""
      }
     },
     "fb510227fc524e5488c806a700275f83": {
      "model_module": "@jupyter-widgets/base",
      "model_module_version": "2.0.0",
      "model_name": "LayoutModel",
      "state": {}
     },
     "fb957c147d4e429d9027e53951e92250": {
      "model_module": "@jupyter-widgets/controls",
      "model_module_version": "2.0.0",
      "model_name": "DropdownModel",
      "state": {
       "_options_labels": [
        "raw",
        "nested"
       ],
       "index": 1,
       "layout": "IPY_MODEL_0a7a04ac4aad4bc4983e00a45e134e20",
       "style": "IPY_MODEL_c07965acc0b14832a6fa4e9bcc4e0deb"
      }
     },
     "fc1bff0843fe4b0e9e4e8fe14e3bb84b": {
      "model_module": "@jupyter-widgets/base",
      "model_module_version": "2.0.0",
      "model_name": "LayoutModel",
      "state": {}
     },
     "fc33fd2a506e4e6d829c79ae58dfe23d": {
      "model_module": "@jupyter-widgets/base",
      "model_module_version": "2.0.0",
      "model_name": "LayoutModel",
      "state": {}
     },
     "fc70beccc8ee448fa418dcfc47e25ddb": {
      "model_module": "@jupyter-widgets/controls",
      "model_module_version": "2.0.0",
      "model_name": "VBoxModel",
      "state": {
       "children": [
        "IPY_MODEL_9244bbe01b49415e919d47c4bc51edaa",
        "IPY_MODEL_eb7695fed160458a824d2a9d9e12b1a1"
       ],
       "layout": "IPY_MODEL_1d0889c84e914606a8fce2da106d95db"
      }
     },
     "fc79bc66d5724777be83e3aef267de40": {
      "model_module": "@jupyter-widgets/output",
      "model_module_version": "1.0.0",
      "model_name": "OutputModel",
      "state": {
       "layout": "IPY_MODEL_cb9133ac6e7f44ca9882990704a90e76",
       "outputs": [
        {
         "data": {
          "text/html": "<div>\n<style scoped>\n    .dataframe tbody tr th:only-of-type {\n        vertical-align: middle;\n    }\n\n    .dataframe tbody tr th {\n        vertical-align: top;\n    }\n\n    .dataframe thead th {\n        text-align: right;\n    }\n</style>\n<table border=\"1\" class=\"dataframe\">\n  <thead>\n    <tr style=\"text-align: right;\">\n      <th></th>\n      <th>width</th>\n      <th>height</th>\n      <th>relative_path</th>\n      <th>type</th>\n      <th>tags.time</th>\n      <th>tags.weather</th>\n    </tr>\n    <tr>\n      <th>id</th>\n      <th></th>\n      <th></th>\n      <th></th>\n      <th></th>\n      <th></th>\n      <th></th>\n    </tr>\n  </thead>\n  <tbody>\n    <tr>\n      <th>6091</th>\n      <td>480</td>\n      <td>640</td>\n      <td>image1.jpg</td>\n      <td>.jpg</td>\n      <td>night</td>\n      <td>rainy</td>\n    </tr>\n    <tr>\n      <th>10395</th>\n      <td>500</td>\n      <td>476</td>\n      <td>image2.jpg</td>\n      <td>.jpg</td>\n      <td>night</td>\n      <td>None</td>\n    </tr>\n  </tbody>\n</table>\n</div>",
          "text/plain": "       width  height relative_path  type tags.time tags.weather\nid                                                             \n6091     480     640    image1.jpg  .jpg     night        rainy\n10395    500     476    image2.jpg  .jpg     night         None"
         },
         "metadata": {},
         "output_type": "display_data"
        }
       ]
      }
     },
     "fcc2778eb02948f7bfa49c0b0c6c4c50": {
      "model_module": "@jupyter-widgets/base",
      "model_module_version": "2.0.0",
      "model_name": "LayoutModel",
      "state": {}
     },
     "fd9426f4ee7a422fb3b1832e4d6e622c": {
      "model_module": "@jupyter-widgets/controls",
      "model_module_version": "2.0.0",
      "model_name": "StackModel",
      "state": {
       "children": [
        "IPY_MODEL_c8c2e438e86f48078dcb5b4ce1ceb9d3",
        "IPY_MODEL_52b11275f6e24f92ac3d516ca5affdee"
       ],
       "layout": "IPY_MODEL_eb8ac3f329e740bcb6c99656419d0153",
       "selected_index": 0,
       "titles": [
        "",
        ""
       ]
      }
     },
     "fdbd43dcdbfd43a3b3dc9d1c796e6ae1": {
      "model_module": "@jupyter-widgets/base",
      "model_module_version": "2.0.0",
      "model_name": "LayoutModel",
      "state": {}
     },
     "fe1b20f6d0204f3eb84d0192f3e7d257": {
      "model_module": "@jupyter-widgets/base",
      "model_module_version": "2.0.0",
      "model_name": "LayoutModel",
      "state": {}
     },
     "feab1e2d2666460fa0df8c809844a423": {
      "model_module": "@jupyter-widgets/controls",
      "model_module_version": "2.0.0",
      "model_name": "LabelModel",
      "state": {
       "layout": "IPY_MODEL_8a152d2ea9d841229351a23f588f4e58",
       "style": "IPY_MODEL_86b4e9521a294da4a7877f86c34f3a3a",
       "value": "Column format"
      }
     },
     "ff03419f453e4ca7a76e9cc16e9ddd61": {
      "model_module": "@jupyter-widgets/output",
      "model_module_version": "1.0.0",
      "model_name": "OutputModel",
      "state": {
       "layout": "IPY_MODEL_c97e91b06dc040cca96e7a2353471e37",
       "outputs": [
        {
         "data": {
          "application/vnd.jupyter.widget-view+json": {
           "model_id": "038ef1d5ecbd4793adb4baa8f33d1091",
           "version_major": 2,
           "version_minor": 0
          },
          "text/plain": "VBox(children=(HBox(children=(VBox(children=(Label(value='Booleanize'), Label(value='Column format'))), VBox(c…"
         },
         "metadata": {},
         "output_type": "display_data"
        }
       ]
      }
     },
     "ff51c7250dfd489bb4ff9d2b8f78017c": {
      "model_module": "@jupyter-widgets/controls",
      "model_module_version": "2.0.0",
      "model_name": "HTMLStyleModel",
      "state": {
       "description_width": "",
       "font_size": null,
       "text_color": null
      }
     },
     "fff1b7f819ce4eb58c6b8bb910d73d41": {
      "model_module": "@jupyter-widgets/controls",
      "model_module_version": "2.0.0",
      "model_name": "TabModel",
      "state": {
       "children": [
        "IPY_MODEL_f1b0ba1141294bba9e15896221a79a4f",
        "IPY_MODEL_dc53cfd782b141d4a75f92e948bc51c3",
        "IPY_MODEL_226d737a565b4f93a78c43c77ceee68d"
       ],
       "layout": "IPY_MODEL_eabca0b6e3c14eb8bde18bdcda0e505e",
       "selected_index": 0,
       "titles": [
        "Images",
        "Annotations",
        "Label Map"
       ]
      }
     }
    },
    "version_major": 2,
    "version_minor": 0
   }
  }
 },
 "nbformat": 4,
 "nbformat_minor": 4
}
